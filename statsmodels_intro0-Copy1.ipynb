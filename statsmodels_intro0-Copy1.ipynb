{
 "cells": [
  {
   "cell_type": "code",
   "execution_count": 1,
   "id": "637a4816-7c67-4aa0-ae35-736c8fe48512",
   "metadata": {},
   "outputs": [],
   "source": [
    "import numpy as np\n",
    "import pandas as pd\n",
    "import statsmodels.api as sm\n",
    "import statsmodels.formula.api as smf"
   ]
  },
  {
   "cell_type": "code",
   "execution_count": 2,
   "id": "75e488ac-118d-4887-b0b8-c8d02d1b58b2",
   "metadata": {},
   "outputs": [],
   "source": [
    "np.set_printoptions(suppress=True)"
   ]
  },
  {
   "cell_type": "code",
   "execution_count": 3,
   "id": "9aa21db2-b057-416d-a6b4-4ab857ba2406",
   "metadata": {},
   "outputs": [],
   "source": [
    "#To indicate how to use these libraries, we first create a linear model from random data.\n",
    "rng = np.random.default_rng(seed=12345)\n",
    "\n",
    "def dnorm(mean, variance, size=1):\n",
    "    if isinstance(size, int):\n",
    "        size= size,\n",
    "    return mean + np.sqrt(variance) * rng.standard_normal(*size)\n",
    "\n",
    "N = 100\n",
    "X = np.c_[dnorm(0, 0.4, size=N),\n",
    "         dnorm(0, 0.6, size=N),\n",
    "         dnorm(0, 0.2, size=N)]\n",
    "eps = dnorm(0, 0.1, size=N)\n",
    "beta=[0.1, 0.3, 0.5]\n",
    "\n",
    "y = np.dot(X, beta) + eps"
   ]
  },
  {
   "cell_type": "code",
   "execution_count": 4,
   "id": "6b868da9-4595-40a7-872b-1353b0bd999f",
   "metadata": {},
   "outputs": [
    {
     "data": {
      "text/plain": [
       "array([[-0.90050602, -0.18942958, -1.0278702 ],\n",
       "       [ 0.79925205, -1.54598388, -0.32739708],\n",
       "       [-0.55065483, -0.12025429,  0.32935899],\n",
       "       [-0.16391555,  0.82403985,  0.20827485],\n",
       "       [-0.04765129, -0.21314698, -0.04824364]])"
      ]
     },
     "execution_count": 4,
     "metadata": {},
     "output_type": "execute_result"
    }
   ],
   "source": [
    "#we wrote down the \"true\" model with known parameters beta. Here, we created a custom function dnorm\n",
    "#dnorm creates a helper function to generate normally distributed data with a particular mean and variance.\n",
    "X[:5]"
   ]
  },
  {
   "cell_type": "code",
   "execution_count": 5,
   "id": "3a6f6719-8de1-4888-885a-4548ee035499",
   "metadata": {},
   "outputs": [
    {
     "data": {
      "text/plain": [
       "array([-0.59952668, -0.58845445,  0.18563386, -0.00747657, -0.01537445])"
      ]
     },
     "execution_count": 5,
     "metadata": {},
     "output_type": "execute_result"
    }
   ],
   "source": [
    "y[:5]"
   ]
  },
  {
   "cell_type": "code",
   "execution_count": 6,
   "id": "69a88cd2-5f05-4e47-bbe3-141443431e9f",
   "metadata": {},
   "outputs": [],
   "source": [
    "#a linear model is generally fitted with an intercept term like in patsy with 1.\n",
    "#We will use sm.add_constant to add an intercept term here.\n",
    "X_model = sm.add_constant(X)"
   ]
  },
  {
   "cell_type": "code",
   "execution_count": 7,
   "id": "388a75aa-d8d3-481a-b616-ecdf33e546de",
   "metadata": {},
   "outputs": [
    {
     "data": {
      "text/plain": [
       "array([[ 1.        , -0.90050602, -0.18942958, -1.0278702 ],\n",
       "       [ 1.        ,  0.79925205, -1.54598388, -0.32739708],\n",
       "       [ 1.        , -0.55065483, -0.12025429,  0.32935899],\n",
       "       [ 1.        , -0.16391555,  0.82403985,  0.20827485],\n",
       "       [ 1.        , -0.04765129, -0.21314698, -0.04824364]])"
      ]
     },
     "execution_count": 7,
     "metadata": {},
     "output_type": "execute_result"
    }
   ],
   "source": [
    "X_model[:5]"
   ]
  },
  {
   "cell_type": "code",
   "execution_count": 8,
   "id": "8e69a46c-b192-43c3-83bd-78c83893120c",
   "metadata": {},
   "outputs": [
    {
     "data": {
      "text/plain": [
       "array([-0.59952668, -0.58845445,  0.18563386, -0.00747657, -0.01537445])"
      ]
     },
     "execution_count": 8,
     "metadata": {},
     "output_type": "execute_result"
    }
   ],
   "source": [
    "y[:5]"
   ]
  },
  {
   "cell_type": "code",
   "execution_count": 9,
   "id": "83219c54-67bd-4771-b9ca-f4989b787041",
   "metadata": {},
   "outputs": [],
   "source": [
    "#sm.OLS class can fit an ordinary least squares linear regression\n",
    "model = sm.OLS(y, X)"
   ]
  },
  {
   "cell_type": "code",
   "execution_count": 10,
   "id": "f8cb723b-0df9-4867-8eb2-989510d54f0b",
   "metadata": {},
   "outputs": [],
   "source": [
    "results = model.fit()"
   ]
  },
  {
   "cell_type": "code",
   "execution_count": 11,
   "id": "50f9237d-b1b2-4deb-8692-50a3cc74bcb6",
   "metadata": {},
   "outputs": [
    {
     "data": {
      "text/plain": [
       "array([0.06681503, 0.26803235, 0.45052319])"
      ]
     },
     "execution_count": 11,
     "metadata": {},
     "output_type": "execute_result"
    }
   ],
   "source": [
    "results.params"
   ]
  },
  {
   "cell_type": "code",
   "execution_count": 12,
   "id": "0bc35b63-e99c-4d11-bf60-777bd6213a93",
   "metadata": {},
   "outputs": [
    {
     "name": "stdout",
     "output_type": "stream",
     "text": [
      "                                 OLS Regression Results                                \n",
      "=======================================================================================\n",
      "Dep. Variable:                      y   R-squared (uncentered):                   0.469\n",
      "Model:                            OLS   Adj. R-squared (uncentered):              0.452\n",
      "Method:                 Least Squares   F-statistic:                              28.51\n",
      "Date:                Mon, 06 Feb 2023   Prob (F-statistic):                    2.66e-13\n",
      "Time:                        08:38:38   Log-Likelihood:                         -25.611\n",
      "No. Observations:                 100   AIC:                                      57.22\n",
      "Df Residuals:                      97   BIC:                                      65.04\n",
      "Df Model:                           3                                                  \n",
      "Covariance Type:            nonrobust                                                  \n",
      "==============================================================================\n",
      "                 coef    std err          t      P>|t|      [0.025      0.975]\n",
      "------------------------------------------------------------------------------\n",
      "x1             0.0668      0.054      1.243      0.217      -0.040       0.174\n",
      "x2             0.2680      0.042      6.313      0.000       0.184       0.352\n",
      "x3             0.4505      0.068      6.605      0.000       0.315       0.586\n",
      "==============================================================================\n",
      "Omnibus:                        0.435   Durbin-Watson:                   1.869\n",
      "Prob(Omnibus):                  0.805   Jarque-Bera (JB):                0.301\n",
      "Skew:                           0.134   Prob(JB):                        0.860\n",
      "Kurtosis:                       2.995   Cond. No.                         1.64\n",
      "==============================================================================\n",
      "\n",
      "Notes:\n",
      "[1] R² is computed without centering (uncentered) since the model does not contain a constant.\n",
      "[2] Standard Errors assume that the covariance matrix of the errors is correctly specified.\n"
     ]
    }
   ],
   "source": [
    "#summary method on results can print a model with diagnostic output of the model\n",
    "print(results.summary())"
   ]
  },
  {
   "cell_type": "code",
   "execution_count": 13,
   "id": "a3acc01f-b2fe-4138-b355-943b3b260477",
   "metadata": {},
   "outputs": [],
   "source": [
    "#In our previous example, we had generic names x1, x2, etc\n",
    "#What if we had model parameters in a DataFrame\n",
    "data = pd.DataFrame(X, columns=['col0', 'col1', 'col2'])"
   ]
  },
  {
   "cell_type": "code",
   "execution_count": 14,
   "id": "f5e3b7fd-ad37-406e-b8e5-606e595d7460",
   "metadata": {},
   "outputs": [
    {
     "data": {
      "text/html": [
       "<div>\n",
       "<style scoped>\n",
       "    .dataframe tbody tr th:only-of-type {\n",
       "        vertical-align: middle;\n",
       "    }\n",
       "\n",
       "    .dataframe tbody tr th {\n",
       "        vertical-align: top;\n",
       "    }\n",
       "\n",
       "    .dataframe thead th {\n",
       "        text-align: right;\n",
       "    }\n",
       "</style>\n",
       "<table border=\"1\" class=\"dataframe\">\n",
       "  <thead>\n",
       "    <tr style=\"text-align: right;\">\n",
       "      <th></th>\n",
       "      <th>col0</th>\n",
       "      <th>col1</th>\n",
       "      <th>col2</th>\n",
       "    </tr>\n",
       "  </thead>\n",
       "  <tbody>\n",
       "    <tr>\n",
       "      <th>0</th>\n",
       "      <td>-0.900506</td>\n",
       "      <td>-0.189430</td>\n",
       "      <td>-1.027870</td>\n",
       "    </tr>\n",
       "    <tr>\n",
       "      <th>1</th>\n",
       "      <td>0.799252</td>\n",
       "      <td>-1.545984</td>\n",
       "      <td>-0.327397</td>\n",
       "    </tr>\n",
       "    <tr>\n",
       "      <th>2</th>\n",
       "      <td>-0.550655</td>\n",
       "      <td>-0.120254</td>\n",
       "      <td>0.329359</td>\n",
       "    </tr>\n",
       "    <tr>\n",
       "      <th>3</th>\n",
       "      <td>-0.163916</td>\n",
       "      <td>0.824040</td>\n",
       "      <td>0.208275</td>\n",
       "    </tr>\n",
       "    <tr>\n",
       "      <th>4</th>\n",
       "      <td>-0.047651</td>\n",
       "      <td>-0.213147</td>\n",
       "      <td>-0.048244</td>\n",
       "    </tr>\n",
       "  </tbody>\n",
       "</table>\n",
       "</div>"
      ],
      "text/plain": [
       "       col0      col1      col2\n",
       "0 -0.900506 -0.189430 -1.027870\n",
       "1  0.799252 -1.545984 -0.327397\n",
       "2 -0.550655 -0.120254  0.329359\n",
       "3 -0.163916  0.824040  0.208275\n",
       "4 -0.047651 -0.213147 -0.048244"
      ]
     },
     "execution_count": 14,
     "metadata": {},
     "output_type": "execute_result"
    }
   ],
   "source": [
    "data[:5]"
   ]
  },
  {
   "cell_type": "code",
   "execution_count": 15,
   "id": "55cf5fcf-aa15-4b32-9227-ddbdc614ed31",
   "metadata": {},
   "outputs": [],
   "source": [
    "data['y'] = y"
   ]
  },
  {
   "cell_type": "code",
   "execution_count": 16,
   "id": "0d4ed4f6-192a-4569-b08e-c51f665da609",
   "metadata": {},
   "outputs": [
    {
     "data": {
      "text/html": [
       "<div>\n",
       "<style scoped>\n",
       "    .dataframe tbody tr th:only-of-type {\n",
       "        vertical-align: middle;\n",
       "    }\n",
       "\n",
       "    .dataframe tbody tr th {\n",
       "        vertical-align: top;\n",
       "    }\n",
       "\n",
       "    .dataframe thead th {\n",
       "        text-align: right;\n",
       "    }\n",
       "</style>\n",
       "<table border=\"1\" class=\"dataframe\">\n",
       "  <thead>\n",
       "    <tr style=\"text-align: right;\">\n",
       "      <th></th>\n",
       "      <th>col0</th>\n",
       "      <th>col1</th>\n",
       "      <th>col2</th>\n",
       "      <th>y</th>\n",
       "    </tr>\n",
       "  </thead>\n",
       "  <tbody>\n",
       "    <tr>\n",
       "      <th>0</th>\n",
       "      <td>-0.900506</td>\n",
       "      <td>-0.189430</td>\n",
       "      <td>-1.027870</td>\n",
       "      <td>-0.599527</td>\n",
       "    </tr>\n",
       "    <tr>\n",
       "      <th>1</th>\n",
       "      <td>0.799252</td>\n",
       "      <td>-1.545984</td>\n",
       "      <td>-0.327397</td>\n",
       "      <td>-0.588454</td>\n",
       "    </tr>\n",
       "    <tr>\n",
       "      <th>2</th>\n",
       "      <td>-0.550655</td>\n",
       "      <td>-0.120254</td>\n",
       "      <td>0.329359</td>\n",
       "      <td>0.185634</td>\n",
       "    </tr>\n",
       "    <tr>\n",
       "      <th>3</th>\n",
       "      <td>-0.163916</td>\n",
       "      <td>0.824040</td>\n",
       "      <td>0.208275</td>\n",
       "      <td>-0.007477</td>\n",
       "    </tr>\n",
       "    <tr>\n",
       "      <th>4</th>\n",
       "      <td>-0.047651</td>\n",
       "      <td>-0.213147</td>\n",
       "      <td>-0.048244</td>\n",
       "      <td>-0.015374</td>\n",
       "    </tr>\n",
       "  </tbody>\n",
       "</table>\n",
       "</div>"
      ],
      "text/plain": [
       "       col0      col1      col2         y\n",
       "0 -0.900506 -0.189430 -1.027870 -0.599527\n",
       "1  0.799252 -1.545984 -0.327397 -0.588454\n",
       "2 -0.550655 -0.120254  0.329359  0.185634\n",
       "3 -0.163916  0.824040  0.208275 -0.007477\n",
       "4 -0.047651 -0.213147 -0.048244 -0.015374"
      ]
     },
     "execution_count": 16,
     "metadata": {},
     "output_type": "execute_result"
    }
   ],
   "source": [
    "data[:5]"
   ]
  },
  {
   "cell_type": "code",
   "execution_count": 17,
   "id": "bdf68c49-e41a-40cd-a1b5-e0e93a41c766",
   "metadata": {},
   "outputs": [],
   "source": [
    "#Now, we can use the statsmodels formula.\n",
    "results = smf.ols('y ~ col0 + col1 + col2', data=data).fit()"
   ]
  },
  {
   "cell_type": "code",
   "execution_count": 18,
   "id": "6964bc6b-80b6-49a9-b5df-f67d7184e9b7",
   "metadata": {},
   "outputs": [
    {
     "data": {
      "text/plain": [
       "<statsmodels.regression.linear_model.RegressionResultsWrapper at 0x7fd0f3b991b0>"
      ]
     },
     "execution_count": 18,
     "metadata": {},
     "output_type": "execute_result"
    }
   ],
   "source": [
    "results"
   ]
  },
  {
   "cell_type": "code",
   "execution_count": 19,
   "id": "a71ad9f6-4f21-44ec-a9c9-15ea1adab47e",
   "metadata": {},
   "outputs": [
    {
     "data": {
      "text/plain": [
       "Intercept   -0.020799\n",
       "col0         0.065813\n",
       "col1         0.268970\n",
       "col2         0.449419\n",
       "dtype: float64"
      ]
     },
     "execution_count": 19,
     "metadata": {},
     "output_type": "execute_result"
    }
   ],
   "source": [
    "results.params"
   ]
  },
  {
   "cell_type": "code",
   "execution_count": 20,
   "id": "c9fe2286-becd-4487-acad-3d0cb5bc0c87",
   "metadata": {},
   "outputs": [
    {
     "data": {
      "text/plain": [
       "Intercept   -0.652501\n",
       "col0         1.219768\n",
       "col1         6.312369\n",
       "col2         6.567428\n",
       "dtype: float64"
      ]
     },
     "execution_count": 20,
     "metadata": {},
     "output_type": "execute_result"
    }
   ],
   "source": [
    "results.tvalues\n",
    "#statsmodels returns results as Series with the DataFrame names attached."
   ]
  },
  {
   "cell_type": "code",
   "execution_count": null,
   "id": "d438c38a-8dce-419d-baab-86808a080366",
   "metadata": {},
   "outputs": [],
   "source": []
  },
  {
   "cell_type": "code",
   "execution_count": null,
   "id": "e9d2e5be-580d-4217-b247-cadc91fc6559",
   "metadata": {},
   "outputs": [],
   "source": []
  },
  {
   "cell_type": "code",
   "execution_count": null,
   "id": "d9699638-69ea-4071-8bda-916af5c98c51",
   "metadata": {},
   "outputs": [],
   "source": []
  },
  {
   "cell_type": "code",
   "execution_count": null,
   "id": "497d0b94-ddb1-4830-8ee4-e6c35a694152",
   "metadata": {},
   "outputs": [],
   "source": []
  },
  {
   "cell_type": "code",
   "execution_count": null,
   "id": "61bf70a5-3655-49bc-ae8f-b3daec7de9a3",
   "metadata": {},
   "outputs": [],
   "source": []
  },
  {
   "cell_type": "code",
   "execution_count": null,
   "id": "d00ec320-a6e1-49f2-8074-ecb43c0ee3ee",
   "metadata": {},
   "outputs": [],
   "source": []
  },
  {
   "cell_type": "code",
   "execution_count": null,
   "id": "9d073a8f-2ef5-4fc4-bced-6126cb37033b",
   "metadata": {},
   "outputs": [],
   "source": []
  }
 ],
 "metadata": {
  "kernelspec": {
   "display_name": "Python 3 (ipykernel)",
   "language": "python",
   "name": "python3"
  },
  "language_info": {
   "codemirror_mode": {
    "name": "ipython",
    "version": 3
   },
   "file_extension": ".py",
   "mimetype": "text/x-python",
   "name": "python",
   "nbconvert_exporter": "python",
   "pygments_lexer": "ipython3",
   "version": "3.10.8"
  }
 },
 "nbformat": 4,
 "nbformat_minor": 5
}
