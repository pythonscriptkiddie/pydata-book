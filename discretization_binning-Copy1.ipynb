{
 "cells": [
  {
   "cell_type": "code",
   "execution_count": 1,
   "id": "38cbbc62-1323-48ce-9d9c-44db9fc99be3",
   "metadata": {},
   "outputs": [],
   "source": [
    "from typing import List\n",
    "import numpy as np\n",
    "import pandas as pd"
   ]
  },
  {
   "cell_type": "code",
   "execution_count": 2,
   "id": "abed8a6a-0086-46ef-ac48-eb9b8670e3bf",
   "metadata": {},
   "outputs": [],
   "source": [
    "ages : List[int] = [20, 22, 25, 27, 21, 23, 37, 31, 61, 45, 41, 32]"
   ]
  },
  {
   "cell_type": "code",
   "execution_count": 3,
   "id": "d7fcb3e3-dad2-458f-b473-d35f811b1b0e",
   "metadata": {},
   "outputs": [],
   "source": [
    "bins : List[int] = [18, 25, 35, 60, 100]"
   ]
  },
  {
   "cell_type": "code",
   "execution_count": 4,
   "id": "2bbde778-862b-4acd-9e17-e5a5549d5cb9",
   "metadata": {},
   "outputs": [],
   "source": [
    "age_categories = pd.cut(ages, bins) #pd.cut divides the list of bins into discrete intervals"
   ]
  },
  {
   "cell_type": "code",
   "execution_count": 5,
   "id": "d8685a74-c034-40e4-a982-dc3c577aa586",
   "metadata": {},
   "outputs": [
    {
     "data": {
      "text/plain": [
       "[(18, 25], (18, 25], (18, 25], (25, 35], (18, 25], ..., (25, 35], (60, 100], (35, 60], (35, 60], (25, 35]]\n",
       "Length: 12\n",
       "Categories (4, interval[int64, right]): [(18, 25] < (25, 35] < (35, 60] < (60, 100]]"
      ]
     },
     "execution_count": 5,
     "metadata": {},
     "output_type": "execute_result"
    }
   ],
   "source": [
    "age_categories"
   ]
  },
  {
   "cell_type": "code",
   "execution_count": 6,
   "id": "b95ad520-e42c-4d77-bfb0-e49ec6dc9e0b",
   "metadata": {},
   "outputs": [
    {
     "data": {
      "text/plain": [
       "array([0, 0, 0, 1, 0, 0, 2, 1, 3, 2, 2, 1], dtype=int8)"
      ]
     },
     "execution_count": 6,
     "metadata": {},
     "output_type": "execute_result"
    }
   ],
   "source": [
    "#this returns a special categorical object. \n",
    "#each bin is represented by an interval range from the lower and upper elements\n",
    "#of each bin\n",
    "age_categories.codes"
   ]
  },
  {
   "cell_type": "code",
   "execution_count": 7,
   "id": "bef962bf-b72e-483c-9182-53da18f7c92d",
   "metadata": {},
   "outputs": [
    {
     "data": {
      "text/plain": [
       "IntervalIndex([(18, 25], (25, 35], (35, 60], (60, 100]], dtype='interval[int64, right]')"
      ]
     },
     "execution_count": 7,
     "metadata": {},
     "output_type": "execute_result"
    }
   ],
   "source": [
    "#view the categories:\n",
    "age_categories.categories"
   ]
  },
  {
   "cell_type": "code",
   "execution_count": 8,
   "id": "61e96b20-a074-424e-ac23-7b890dc3d765",
   "metadata": {},
   "outputs": [
    {
     "data": {
      "text/plain": [
       "Interval(18, 25, closed='right')"
      ]
     },
     "execution_count": 8,
     "metadata": {},
     "output_type": "execute_result"
    }
   ],
   "source": [
    "#view the first category\n",
    "age_categories.categories[0]"
   ]
  },
  {
   "cell_type": "code",
   "execution_count": 13,
   "id": "a13647d9-601a-440b-ac71-8d5345daefd6",
   "metadata": {},
   "outputs": [
    {
     "data": {
      "text/plain": [
       "(18, 25]     5\n",
       "(25, 35]     3\n",
       "(35, 60]     3\n",
       "(60, 100]    1\n",
       "dtype: int64"
      ]
     },
     "execution_count": 13,
     "metadata": {},
     "output_type": "execute_result"
    }
   ],
   "source": [
    "#bin counts for pd.cut\n",
    "pd.value_counts(age_categories)"
   ]
  },
  {
   "cell_type": "code",
   "execution_count": 14,
   "id": "66415bb0-b0e2-4867-b09b-ee238a59f1e1",
   "metadata": {},
   "outputs": [
    {
     "data": {
      "text/plain": [
       "[[18, 25), [18, 25), [25, 35), [25, 35), [18, 25), ..., [25, 35), [60, 100), [35, 60), [35, 60), [25, 35)]\n",
       "Length: 12\n",
       "Categories (4, interval[int64, left]): [[18, 25) < [25, 35) < [35, 60) < [60, 100)]"
      ]
     },
     "execution_count": 14,
     "metadata": {},
     "output_type": "execute_result"
    }
   ],
   "source": [
    "#in the string representation of an interval, a parenthesis means the side is open\n",
    "pd.cut(ages, bins, right=False)"
   ]
  },
  {
   "cell_type": "code",
   "execution_count": 15,
   "id": "260df275-c240-41fc-a52c-5eb8db02d5d0",
   "metadata": {},
   "outputs": [],
   "source": [
    "#we can override default interval-based bin labelling by passing a list or array to\n",
    "#the labels option\n",
    "group_names = ['Youth', 'YoungAdult', 'MiddleAged', 'Senior']"
   ]
  },
  {
   "cell_type": "code",
   "execution_count": 17,
   "id": "ee7bdcd1-100b-4179-aa6b-652175bf962c",
   "metadata": {},
   "outputs": [
    {
     "data": {
      "text/plain": [
       "['Youth', 'Youth', 'Youth', 'YoungAdult', 'Youth', ..., 'YoungAdult', 'Senior', 'MiddleAged', 'MiddleAged', 'YoungAdult']\n",
       "Length: 12\n",
       "Categories (4, object): ['Youth' < 'YoungAdult' < 'MiddleAged' < 'Senior']"
      ]
     },
     "execution_count": 17,
     "metadata": {},
     "output_type": "execute_result"
    }
   ],
   "source": [
    "pd.cut(ages, bins, labels=group_names)"
   ]
  },
  {
   "cell_type": "code",
   "execution_count": 19,
   "id": "f79115ce-19a9-4116-a64f-4d5beb7066bf",
   "metadata": {},
   "outputs": [],
   "source": [
    "#if we pass an integer number of bins, then it computes equal-length bins based\n",
    "#on the minimum and maximum in the data\n",
    "data = np.random.uniform(size=20)"
   ]
  },
  {
   "cell_type": "code",
   "execution_count": 20,
   "id": "d0fd00a8-2692-4c18-bb91-e02e1f897e00",
   "metadata": {},
   "outputs": [
    {
     "data": {
      "text/plain": [
       "array([0.41375549, 0.60762815, 0.88094573, 0.94098458, 0.681435  ,\n",
       "       0.76410091, 0.63889364, 0.72400269, 0.19926197, 0.37893033,\n",
       "       0.43771491, 0.44052635, 0.81701145, 0.52447935, 0.848409  ,\n",
       "       0.25615554, 0.09289381, 0.36225321, 0.81360891, 0.35079566])"
      ]
     },
     "execution_count": 20,
     "metadata": {},
     "output_type": "execute_result"
    }
   ],
   "source": [
    "data #before we cut the data"
   ]
  },
  {
   "cell_type": "code",
   "execution_count": 22,
   "id": "efae246f-9567-4341-9c20-fac231ffd6cd",
   "metadata": {},
   "outputs": [
    {
     "data": {
      "text/plain": [
       "[(0.305, 0.517], (0.517, 0.729], (0.729, 0.941], (0.729, 0.941], (0.517, 0.729], ..., (0.092, 0.305], (0.092, 0.305], (0.305, 0.517], (0.729, 0.941], (0.305, 0.517]]\n",
       "Length: 20\n",
       "Categories (4, interval[float64, right]): [(0.092, 0.305] < (0.305, 0.517] < (0.517, 0.729] < (0.729, 0.941]]"
      ]
     },
     "execution_count": 22,
     "metadata": {},
     "output_type": "execute_result"
    }
   ],
   "source": [
    "pd.cut(data, bins=4) #with the bins keyword argument"
   ]
  },
  {
   "cell_type": "code",
   "execution_count": null,
   "id": "4682a557-d336-491c-b5b4-af1ec871c70f",
   "metadata": {},
   "outputs": [],
   "source": [
    "                                                                                                                                                                                                                                                                                                                                                                                                                                                                                                                                                                                                                                                                                                                                                                                                                                                                                                                                                                                                                                                                                                                                                                                                                                                                                                                                                                                                                                                                                                                                                                                                                                                                                                                                                                                                                                                                                                                                                                                                                                                                                                                                                                                                                                                                                                                                                                                                                                                                                                                                                                                                                                                                                                                                                                                                                                                                                                                                                                                                                                                                                                                                                                                                                                                                                                                                                                                                                                                                                                                                                                                                                                                                                                                                                                                                                                                                                                                                                                                                                                                                                                                                                              "
   ]
  }
 ],
 "metadata": {
  "kernelspec": {
   "display_name": "Python 3 (ipykernel)",
   "language": "python",
   "name": "python3"
  },
  "language_info": {
   "codemirror_mode": {
    "name": "ipython",
    "version": 3
   },
   "file_extension": ".py",
   "mimetype": "text/x-python",
   "name": "python",
   "nbconvert_exporter": "python",
   "pygments_lexer": "ipython3",
   "version": "3.9.7"
  }
 },
 "nbformat": 4,
 "nbformat_minor": 5
}
