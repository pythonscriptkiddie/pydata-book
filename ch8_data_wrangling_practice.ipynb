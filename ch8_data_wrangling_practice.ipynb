{
 "cells": [
  {
   "cell_type": "code",
   "execution_count": 1,
   "id": "270372cc-18fa-4e2f-9e85-5ab151b316bc",
   "metadata": {},
   "outputs": [],
   "source": [
    "import numpy as np\n",
    "import pandas as pd"
   ]
  },
  {
   "cell_type": "markdown",
   "id": "82cdf0e6-7fd5-4077-b961-7c45308d6843",
   "metadata": {},
   "source": [
    "This chapter is about combining data from disparate places. It may be challenging to combine data from separate sources because their formats and layout can be vastly different."
   ]
  },
  {
   "cell_type": "code",
   "execution_count": 2,
   "id": "47b5ccd3-4bf7-40d5-ad38-785fe0265a31",
   "metadata": {},
   "outputs": [],
   "source": [
    "#Heirarchical indexing: we can have multiple levels of an index on a given axis.\n",
    "#This means we can work with higher-dimensional data on a lower-dimensional \n",
    "data : pd.Series = pd.Series(np.random.uniform(size=9),\n",
    "                            index=[['a', 'a', 'a', 'b', 'b', 'c', 'c', 'd', 'd'],\n",
    "                                  [1, 2, 3, 1, 3, 1, 2, 2, 3]])"
   ]
  },
  {
   "cell_type": "code",
   "execution_count": 3,
   "id": "7774dd22-4e80-4a30-b230-97c624c73094",
   "metadata": {},
   "outputs": [
    {
     "data": {
      "text/plain": [
       "a  1    0.341699\n",
       "   2    0.000855\n",
       "   3    0.847967\n",
       "b  1    0.023589\n",
       "   3    0.260882\n",
       "c  1    0.606250\n",
       "   2    0.654656\n",
       "d  2    0.995543\n",
       "   3    0.979886\n",
       "dtype: float64"
      ]
     },
     "execution_count": 3,
     "metadata": {},
     "output_type": "execute_result"
    }
   ],
   "source": [
    "data #gaps mean use the label directly above"
   ]
  },
  {
   "cell_type": "code",
   "execution_count": 6,
   "id": "405195fe-8611-4122-8f4c-d680ec5a216f",
   "metadata": {},
   "outputs": [
    {
     "data": {
      "text/plain": [
       "MultiIndex([('a', 1),\n",
       "            ('a', 2),\n",
       "            ('a', 3),\n",
       "            ('b', 1),\n",
       "            ('b', 3),\n",
       "            ('c', 1),\n",
       "            ('c', 2),\n",
       "            ('d', 2),\n",
       "            ('d', 3)],\n",
       "           )"
      ]
     },
     "execution_count": 6,
     "metadata": {},
     "output_type": "execute_result"
    }
   ],
   "source": [
    "data.index"
   ]
  },
  {
   "cell_type": "code",
   "execution_count": null,
   "id": "2874652b-311f-4204-9c80-bdeac2cecd8e",
   "metadata": {},
   "outputs": [],
   "source": [
    "#partial indexing: select subsets of the data\n",
    "#1) select every element that is indexed as \"b\"\n",
    "data['b']"
   ]
  },
  {
   "cell_type": "code",
   "execution_count": 11,
   "id": "0de0d9a3-01e0-49e4-a99f-ea5140d37588",
   "metadata": {},
   "outputs": [
    {
     "data": {
      "text/plain": [
       "1    0.023589\n",
       "3    0.260882\n",
       "dtype: float64"
      ]
     },
     "execution_count": 11,
     "metadata": {},
     "output_type": "execute_result"
    }
   ],
   "source": [
    "data.loc['b']"
   ]
  },
  {
   "cell_type": "code",
   "execution_count": 8,
   "id": "4a835f7e-7f95-4e8e-92bf-a9d8e4a35a76",
   "metadata": {},
   "outputs": [
    {
     "data": {
      "text/plain": [
       "b  1    0.023589\n",
       "   3    0.260882\n",
       "c  1    0.606250\n",
       "   2    0.654656\n",
       "dtype: float64"
      ]
     },
     "execution_count": 8,
     "metadata": {},
     "output_type": "execute_result"
    }
   ],
   "source": [
    "data['b':'c']"
   ]
  },
  {
   "cell_type": "code",
   "execution_count": 10,
   "id": "569da154-633c-41ab-b608-446803df7f94",
   "metadata": {},
   "outputs": [
    {
     "data": {
      "text/plain": [
       "b  1    0.023589\n",
       "   3    0.260882\n",
       "d  2    0.995543\n",
       "   3    0.979886\n",
       "dtype: float64"
      ]
     },
     "execution_count": 10,
     "metadata": {},
     "output_type": "execute_result"
    }
   ],
   "source": [
    "data.loc[['b', 'd']]"
   ]
  },
  {
   "cell_type": "code",
   "execution_count": 17,
   "id": "764565d0-fc78-4822-8f00-fa74bb980598",
   "metadata": {},
   "outputs": [
    {
     "data": {
      "text/plain": [
       "a    0.000855\n",
       "c    0.654656\n",
       "d    0.995543\n",
       "dtype: float64"
      ]
     },
     "execution_count": 17,
     "metadata": {},
     "output_type": "execute_result"
    }
   ],
   "source": [
    "#selecting from the inner index level\n",
    "data.loc[:, 2]"
   ]
  },
  {
   "cell_type": "code",
   "execution_count": 19,
   "id": "12446939-54f6-4880-9998-8f7c4f419399",
   "metadata": {},
   "outputs": [
    {
     "data": {
      "text/plain": [
       "a    0.341699\n",
       "b    0.023589\n",
       "c    0.606250\n",
       "dtype: float64"
      ]
     },
     "execution_count": 19,
     "metadata": {},
     "output_type": "execute_result"
    }
   ],
   "source": [
    "data.loc[:, 1]"
   ]
  },
  {
   "cell_type": "code",
   "execution_count": 20,
   "id": "a1d385c5-e599-4eeb-9661-e0998cb30c3c",
   "metadata": {},
   "outputs": [
    {
     "data": {
      "text/html": [
       "<div>\n",
       "<style scoped>\n",
       "    .dataframe tbody tr th:only-of-type {\n",
       "        vertical-align: middle;\n",
       "    }\n",
       "\n",
       "    .dataframe tbody tr th {\n",
       "        vertical-align: top;\n",
       "    }\n",
       "\n",
       "    .dataframe thead th {\n",
       "        text-align: right;\n",
       "    }\n",
       "</style>\n",
       "<table border=\"1\" class=\"dataframe\">\n",
       "  <thead>\n",
       "    <tr style=\"text-align: right;\">\n",
       "      <th></th>\n",
       "      <th>1</th>\n",
       "      <th>2</th>\n",
       "      <th>3</th>\n",
       "    </tr>\n",
       "  </thead>\n",
       "  <tbody>\n",
       "    <tr>\n",
       "      <th>a</th>\n",
       "      <td>0.341699</td>\n",
       "      <td>0.000855</td>\n",
       "      <td>0.847967</td>\n",
       "    </tr>\n",
       "    <tr>\n",
       "      <th>b</th>\n",
       "      <td>0.023589</td>\n",
       "      <td>NaN</td>\n",
       "      <td>0.260882</td>\n",
       "    </tr>\n",
       "    <tr>\n",
       "      <th>c</th>\n",
       "      <td>0.606250</td>\n",
       "      <td>0.654656</td>\n",
       "      <td>NaN</td>\n",
       "    </tr>\n",
       "    <tr>\n",
       "      <th>d</th>\n",
       "      <td>NaN</td>\n",
       "      <td>0.995543</td>\n",
       "      <td>0.979886</td>\n",
       "    </tr>\n",
       "  </tbody>\n",
       "</table>\n",
       "</div>"
      ],
      "text/plain": [
       "          1         2         3\n",
       "a  0.341699  0.000855  0.847967\n",
       "b  0.023589       NaN  0.260882\n",
       "c  0.606250  0.654656       NaN\n",
       "d       NaN  0.995543  0.979886"
      ]
     },
     "execution_count": 20,
     "metadata": {},
     "output_type": "execute_result"
    }
   ],
   "source": [
    "#Heirarchical indexing is important in reshaping data and creating pivot tables. Pivot-table creation \n",
    "#is a \"group based operation\" applied to each group within a DataFrame.\n",
    "data.unstack()"
   ]
  },
  {
   "cell_type": "code",
   "execution_count": 22,
   "id": "ec80bba4-19d5-4389-81b7-c590e4a7d57a",
   "metadata": {},
   "outputs": [
    {
     "data": {
      "text/plain": [
       "a  1    0.341699\n",
       "   2    0.000855\n",
       "   3    0.847967\n",
       "b  1    0.023589\n",
       "   3    0.260882\n",
       "c  1    0.606250\n",
       "   2    0.654656\n",
       "d  2    0.995543\n",
       "   3    0.979886\n",
       "dtype: float64"
      ]
     },
     "execution_count": 22,
     "metadata": {},
     "output_type": "execute_result"
    }
   ],
   "source": [
    "#stack the data back again\n",
    "data.unstack().stack()"
   ]
  },
  {
   "cell_type": "code",
   "execution_count": null,
   "id": "77d59e6c-38c9-4fac-9ddb-dbd2901421f0",
   "metadata": {},
   "outputs": [],
   "source": []
  }
 ],
 "metadata": {
  "kernelspec": {
   "display_name": "Python 3 (ipykernel)",
   "language": "python",
   "name": "python3"
  },
  "language_info": {
   "codemirror_mode": {
    "name": "ipython",
    "version": 3
   },
   "file_extension": ".py",
   "mimetype": "text/x-python",
   "name": "python",
   "nbconvert_exporter": "python",
   "pygments_lexer": "ipython3",
   "version": "3.11.9"
  }
 },
 "nbformat": 4,
 "nbformat_minor": 5
}
