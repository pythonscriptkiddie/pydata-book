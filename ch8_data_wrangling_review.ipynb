{
 "cells": [
  {
   "cell_type": "code",
   "execution_count": 1,
   "id": "2ca812be-b79d-4411-acac-ecf1cde2a9c8",
   "metadata": {},
   "outputs": [],
   "source": [
    "import pandas as pd\n",
    "import numpy as np"
   ]
  },
  {
   "cell_type": "code",
   "execution_count": 2,
   "id": "6d118f4e-22cd-4def-8c95-8912751787c2",
   "metadata": {},
   "outputs": [],
   "source": [
    "#Oftentimes data can be divided between different files, and thus difficult to analyze.\n",
    "#Heirarchical indexing: multiple levels on an axis\n",
    "data = pd.Series(np.random.uniform(size=9),\n",
    "                index=[['a', 'a', 'a', 'b', 'b', 'c', 'c', 'd', 'd'],\n",
    "                    [1, 2, 3, 1, 3, 1, 2, 2, 3]])"
   ]
  },
  {
   "cell_type": "code",
   "execution_count": 3,
   "id": "a0704065-76a7-466b-961e-ddf1b545a389",
   "metadata": {},
   "outputs": [
    {
     "data": {
      "text/plain": [
       "a  1    0.014930\n",
       "   2    0.267427\n",
       "   3    0.282887\n",
       "b  1    0.101210\n",
       "   3    0.146907\n",
       "c  1    0.428306\n",
       "   2    0.867729\n",
       "d  2    0.410535\n",
       "   3    0.428163\n",
       "dtype: float64"
      ]
     },
     "execution_count": 3,
     "metadata": {},
     "output_type": "execute_result"
    }
   ],
   "source": [
    "data"
   ]
  },
  {
   "cell_type": "code",
   "execution_count": 4,
   "id": "c72a8176-8995-4384-b983-1eda2413baf1",
   "metadata": {},
   "outputs": [
    {
     "data": {
      "text/plain": [
       "MultiIndex([('a', 1),\n",
       "            ('a', 2),\n",
       "            ('a', 3),\n",
       "            ('b', 1),\n",
       "            ('b', 3),\n",
       "            ('c', 1),\n",
       "            ('c', 2),\n",
       "            ('d', 2),\n",
       "            ('d', 3)],\n",
       "           )"
      ]
     },
     "execution_count": 4,
     "metadata": {},
     "output_type": "execute_result"
    }
   ],
   "source": [
    "data.index"
   ]
  },
  {
   "cell_type": "code",
   "execution_count": 5,
   "id": "3cf9c950-3772-432b-b865-412a8213ce5f",
   "metadata": {},
   "outputs": [
    {
     "data": {
      "text/plain": [
       "1    0.101210\n",
       "3    0.146907\n",
       "dtype: float64"
      ]
     },
     "execution_count": 5,
     "metadata": {},
     "output_type": "execute_result"
    }
   ],
   "source": [
    "#With a heirarchally indexed object, we can do partial indexing\n",
    "#to choose subsets of the data.\n",
    "data['b']"
   ]
  },
  {
   "cell_type": "code",
   "execution_count": 6,
   "id": "8dcc0e9b-f7ba-48e4-bf99-042b4b87daae",
   "metadata": {},
   "outputs": [
    {
     "data": {
      "text/plain": [
       "a  1    0.014930\n",
       "   2    0.267427\n",
       "   3    0.282887\n",
       "b  1    0.101210\n",
       "   3    0.146907\n",
       "dtype: float64"
      ]
     },
     "execution_count": 6,
     "metadata": {},
     "output_type": "execute_result"
    }
   ],
   "source": [
    "data['a':'b']"
   ]
  },
  {
   "cell_type": "code",
   "execution_count": 7,
   "id": "8402b886-3084-4f3e-8f40-18bcc07e4a39",
   "metadata": {},
   "outputs": [
    {
     "data": {
      "text/plain": [
       "b  1    0.101210\n",
       "   3    0.146907\n",
       "c  1    0.428306\n",
       "   2    0.867729\n",
       "d  2    0.410535\n",
       "   3    0.428163\n",
       "dtype: float64"
      ]
     },
     "execution_count": 7,
     "metadata": {},
     "output_type": "execute_result"
    }
   ],
   "source": [
    "data['b':'d']"
   ]
  },
  {
   "cell_type": "code",
   "execution_count": 8,
   "id": "76c1d003-2e42-44d7-9dee-8acb7bd8ad42",
   "metadata": {},
   "outputs": [
    {
     "data": {
      "text/plain": [
       "b  1    0.101210\n",
       "   3    0.146907\n",
       "c  1    0.428306\n",
       "   2    0.867729\n",
       "dtype: float64"
      ]
     },
     "execution_count": 8,
     "metadata": {},
     "output_type": "execute_result"
    }
   ],
   "source": [
    "data['b':'c']"
   ]
  },
  {
   "cell_type": "code",
   "execution_count": 9,
   "id": "27ce243b-f1d7-417f-ab64-a759c71d7087",
   "metadata": {},
   "outputs": [
    {
     "data": {
      "text/plain": [
       "b  1    0.101210\n",
       "   3    0.146907\n",
       "d  2    0.410535\n",
       "   3    0.428163\n",
       "dtype: float64"
      ]
     },
     "execution_count": 9,
     "metadata": {},
     "output_type": "execute_result"
    }
   ],
   "source": [
    "data.loc[['b', 'd']]"
   ]
  },
  {
   "cell_type": "code",
   "execution_count": 10,
   "id": "3644e480-b277-447a-9e07-8a12d0a693f9",
   "metadata": {},
   "outputs": [
    {
     "data": {
      "text/plain": [
       "a    0.267427\n",
       "c    0.867729\n",
       "d    0.410535\n",
       "dtype: float64"
      ]
     },
     "execution_count": 10,
     "metadata": {},
     "output_type": "execute_result"
    }
   ],
   "source": [
    "#selection is possible from an \"inner\" level\n",
    "data.loc[:, 2]"
   ]
  },
  {
   "cell_type": "code",
   "execution_count": 11,
   "id": "7bb39617-6559-4594-9176-5664e2781aab",
   "metadata": {},
   "outputs": [
    {
     "data": {
      "text/plain": [
       "a    0.267427\n",
       "c    0.867729\n",
       "d    0.410535\n",
       "dtype: float64"
      ]
     },
     "execution_count": 11,
     "metadata": {},
     "output_type": "execute_result"
    }
   ],
   "source": [
    "data.loc[:, 2]"
   ]
  },
  {
   "cell_type": "code",
   "execution_count": 12,
   "id": "43083261-ca8e-44f5-89ec-49c0fb1d6a1b",
   "metadata": {},
   "outputs": [
    {
     "data": {
      "text/plain": [
       "a    0.267427\n",
       "c    0.867729\n",
       "d    0.410535\n",
       "dtype: float64"
      ]
     },
     "execution_count": 12,
     "metadata": {},
     "output_type": "execute_result"
    }
   ],
   "source": [
    "data.loc[:, 2]"
   ]
  },
  {
   "cell_type": "code",
   "execution_count": 13,
   "id": "2e92d7c5-dac2-4f2e-8f64-ff920686f6e0",
   "metadata": {},
   "outputs": [
    {
     "data": {
      "text/plain": [
       "a  1    0.014930\n",
       "   2    0.267427\n",
       "   3    0.282887\n",
       "b  1    0.101210\n",
       "   3    0.146907\n",
       "c  1    0.428306\n",
       "   2    0.867729\n",
       "d  2    0.410535\n",
       "   3    0.428163\n",
       "dtype: float64"
      ]
     },
     "execution_count": 13,
     "metadata": {},
     "output_type": "execute_result"
    }
   ],
   "source": [
    "data"
   ]
  },
  {
   "cell_type": "code",
   "execution_count": 14,
   "id": "2e8c3225-fba3-456b-ae5a-ea128d8fddba",
   "metadata": {},
   "outputs": [
    {
     "data": {
      "text/html": [
       "<div>\n",
       "<style scoped>\n",
       "    .dataframe tbody tr th:only-of-type {\n",
       "        vertical-align: middle;\n",
       "    }\n",
       "\n",
       "    .dataframe tbody tr th {\n",
       "        vertical-align: top;\n",
       "    }\n",
       "\n",
       "    .dataframe thead th {\n",
       "        text-align: right;\n",
       "    }\n",
       "</style>\n",
       "<table border=\"1\" class=\"dataframe\">\n",
       "  <thead>\n",
       "    <tr style=\"text-align: right;\">\n",
       "      <th></th>\n",
       "      <th>1</th>\n",
       "      <th>2</th>\n",
       "      <th>3</th>\n",
       "    </tr>\n",
       "  </thead>\n",
       "  <tbody>\n",
       "    <tr>\n",
       "      <th>a</th>\n",
       "      <td>0.014930</td>\n",
       "      <td>0.267427</td>\n",
       "      <td>0.282887</td>\n",
       "    </tr>\n",
       "    <tr>\n",
       "      <th>b</th>\n",
       "      <td>0.101210</td>\n",
       "      <td>NaN</td>\n",
       "      <td>0.146907</td>\n",
       "    </tr>\n",
       "    <tr>\n",
       "      <th>c</th>\n",
       "      <td>0.428306</td>\n",
       "      <td>0.867729</td>\n",
       "      <td>NaN</td>\n",
       "    </tr>\n",
       "    <tr>\n",
       "      <th>d</th>\n",
       "      <td>NaN</td>\n",
       "      <td>0.410535</td>\n",
       "      <td>0.428163</td>\n",
       "    </tr>\n",
       "  </tbody>\n",
       "</table>\n",
       "</div>"
      ],
      "text/plain": [
       "          1         2         3\n",
       "a  0.014930  0.267427  0.282887\n",
       "b  0.101210       NaN  0.146907\n",
       "c  0.428306  0.867729       NaN\n",
       "d       NaN  0.410535  0.428163"
      ]
     },
     "execution_count": 14,
     "metadata": {},
     "output_type": "execute_result"
    }
   ],
   "source": [
    "#we can rearrange data to a DataFrame\n",
    "data.unstack()"
   ]
  },
  {
   "cell_type": "code",
   "execution_count": 15,
   "id": "2be6bf8b-c1a5-4975-a554-b263bff4b365",
   "metadata": {},
   "outputs": [
    {
     "data": {
      "text/plain": [
       "a  1    0.014930\n",
       "   2    0.267427\n",
       "   3    0.282887\n",
       "b  1    0.101210\n",
       "   3    0.146907\n",
       "c  1    0.428306\n",
       "   2    0.867729\n",
       "d  2    0.410535\n",
       "   3    0.428163\n",
       "dtype: float64"
      ]
     },
     "execution_count": 15,
     "metadata": {},
     "output_type": "execute_result"
    }
   ],
   "source": [
    "data.unstack().stack() #we will explore this more in \"reshaping and pivoting\""
   ]
  },
  {
   "cell_type": "code",
   "execution_count": null,
   "id": "c3ef23c2-955d-4880-979f-59aa6cef99f5",
   "metadata": {},
   "outputs": [],
   "source": []
  }
 ],
 "metadata": {
  "kernelspec": {
   "display_name": "Python 3 (ipykernel)",
   "language": "python",
   "name": "python3"
  },
  "language_info": {
   "codemirror_mode": {
    "name": "ipython",
    "version": 3
   },
   "file_extension": ".py",
   "mimetype": "text/x-python",
   "name": "python",
   "nbconvert_exporter": "python",
   "pygments_lexer": "ipython3",
   "version": "3.10.8"
  }
 },
 "nbformat": 4,
 "nbformat_minor": 5
}
