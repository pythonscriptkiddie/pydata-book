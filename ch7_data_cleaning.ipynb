{
 "cells": [
  {
   "cell_type": "code",
   "execution_count": 1,
   "id": "a850dcf7-9210-4395-86ac-5ee35563c852",
   "metadata": {},
   "outputs": [],
   "source": [
    "import numpy as np\n",
    "import pandas as pd"
   ]
  },
  {
   "cell_type": "code",
   "execution_count": 2,
   "id": "85f64d07-fa2b-43c1-8103-f1df9ca679fa",
   "metadata": {},
   "outputs": [],
   "source": [
    "#sentinal values represent na values\n",
    "float_data = pd.Series([1.2, -3.5, np.nan, 0])"
   ]
  },
  {
   "cell_type": "code",
   "execution_count": 3,
   "id": "2097bfe8-36f7-4ed5-94d0-626bb777c2b2",
   "metadata": {},
   "outputs": [
    {
     "data": {
      "text/plain": [
       "0    1.2\n",
       "1   -3.5\n",
       "2    NaN\n",
       "3    0.0\n",
       "dtype: float64"
      ]
     },
     "execution_count": 3,
     "metadata": {},
     "output_type": "execute_result"
    }
   ],
   "source": [
    "float_data"
   ]
  },
  {
   "cell_type": "code",
   "execution_count": 5,
   "id": "51850f2a-cce2-4759-b448-051efc33cc17",
   "metadata": {},
   "outputs": [
    {
     "data": {
      "text/plain": [
       "0    False\n",
       "1    False\n",
       "2     True\n",
       "3    False\n",
       "dtype: bool"
      ]
     },
     "execution_count": 5,
     "metadata": {},
     "output_type": "execute_result"
    }
   ],
   "source": [
    "float_data.isna() #isna method"
   ]
  },
  {
   "cell_type": "code",
   "execution_count": 6,
   "id": "287d646e-702e-4b36-aed8-41e9d68cf970",
   "metadata": {},
   "outputs": [
    {
     "data": {
      "text/plain": [
       "0    False\n",
       "1    False\n",
       "2     True\n",
       "3    False\n",
       "dtype: bool"
      ]
     },
     "execution_count": 6,
     "metadata": {},
     "output_type": "execute_result"
    }
   ],
   "source": [
    "float_data.isnull() #alias for isna"
   ]
  },
  {
   "cell_type": "code",
   "execution_count": 7,
   "id": "1650e178-2922-458e-bdbb-f9e27ba06d01",
   "metadata": {},
   "outputs": [],
   "source": [
    "string_data = pd.Series(['Aardvark', np.nan, None, 'avocado'])"
   ]
  },
  {
   "cell_type": "code",
   "execution_count": 8,
   "id": "bf79f1ce-3354-47bb-b236-61a173e0ff7d",
   "metadata": {},
   "outputs": [
    {
     "data": {
      "text/plain": [
       "0    Aardvark\n",
       "1         NaN\n",
       "2        None\n",
       "3     avocado\n",
       "dtype: object"
      ]
     },
     "execution_count": 8,
     "metadata": {},
     "output_type": "execute_result"
    }
   ],
   "source": [
    "string_data"
   ]
  },
  {
   "cell_type": "code",
   "execution_count": 9,
   "id": "3e09094e-e78f-4c8b-bf3d-8b126cf53125",
   "metadata": {},
   "outputs": [
    {
     "data": {
      "text/plain": [
       "0    False\n",
       "1     True\n",
       "2     True\n",
       "3    False\n",
       "dtype: bool"
      ]
     },
     "execution_count": 9,
     "metadata": {},
     "output_type": "execute_result"
    }
   ],
   "source": [
    "string_data.isnull()"
   ]
  },
  {
   "cell_type": "code",
   "execution_count": 10,
   "id": "6f7e7259-34b5-4bcc-99d1-0de0a356e341",
   "metadata": {},
   "outputs": [
    {
     "data": {
      "text/plain": [
       "0     True\n",
       "1    False\n",
       "2    False\n",
       "3     True\n",
       "dtype: bool"
      ]
     },
     "execution_count": 10,
     "metadata": {},
     "output_type": "execute_result"
    }
   ],
   "source": [
    "string_data.notnull() #opposite "
   ]
  },
  {
   "cell_type": "code",
   "execution_count": 11,
   "id": "be96cffd-09f4-4989-bb12-631d4c2706a1",
   "metadata": {},
   "outputs": [
    {
     "data": {
      "text/plain": [
       "0     True\n",
       "1    False\n",
       "2    False\n",
       "3     True\n",
       "dtype: bool"
      ]
     },
     "execution_count": 11,
     "metadata": {},
     "output_type": "execute_result"
    }
   ],
   "source": [
    "string_data.notna() #opposite also"
   ]
  },
  {
   "cell_type": "code",
   "execution_count": null,
   "id": "448e3316-18df-4619-928b-6eef61334f92",
   "metadata": {},
   "outputs": [],
   "source": []
  }
 ],
 "metadata": {
  "kernelspec": {
   "display_name": "Python 3 (ipykernel)",
   "language": "python",
   "name": "python3"
  },
  "language_info": {
   "codemirror_mode": {
    "name": "ipython",
    "version": 3
   },
   "file_extension": ".py",
   "mimetype": "text/x-python",
   "name": "python",
   "nbconvert_exporter": "python",
   "pygments_lexer": "ipython3",
   "version": "3.10.8"
  }
 },
 "nbformat": 4,
 "nbformat_minor": 5
}
