{
 "cells": [
  {
   "cell_type": "code",
   "execution_count": 1,
   "id": "5f7b0f0b-b6f7-4485-a610-b8121b4f840c",
   "metadata": {},
   "outputs": [],
   "source": [
    "import numpy as np\n",
    "import pandas as pd"
   ]
  },
  {
   "cell_type": "code",
   "execution_count": 2,
   "id": "2fd4bfc7-402c-4ff5-bc2c-83633ef443ab",
   "metadata": {},
   "outputs": [],
   "source": [
    "s = pd.Series([1, 2, 3, None])"
   ]
  },
  {
   "cell_type": "code",
   "execution_count": 3,
   "id": "6ff62017-6c00-416e-a3a3-592404e1ce95",
   "metadata": {},
   "outputs": [
    {
     "data": {
      "text/plain": [
       "0    1.0\n",
       "1    2.0\n",
       "2    3.0\n",
       "3    NaN\n",
       "dtype: float64"
      ]
     },
     "execution_count": 3,
     "metadata": {},
     "output_type": "execute_result"
    }
   ],
   "source": [
    "s"
   ]
  },
  {
   "cell_type": "code",
   "execution_count": 4,
   "id": "7d0aee85-b285-4100-891b-9006769d62ad",
   "metadata": {},
   "outputs": [
    {
     "data": {
      "text/plain": [
       "dtype('float64')"
      ]
     },
     "execution_count": 4,
     "metadata": {},
     "output_type": "execute_result"
    }
   ],
   "source": [
    "s.dtype #float64"
   ]
  },
  {
   "cell_type": "code",
   "execution_count": 5,
   "id": "967be4d8-8115-49b7-944b-08e5045198b9",
   "metadata": {},
   "outputs": [],
   "source": [
    "#we can also make it with pd.Int64dtype\n",
    "s = pd.Series([1, 2, 3, None], dtype=pd.Int64Dtype())"
   ]
  },
  {
   "cell_type": "code",
   "execution_count": 6,
   "id": "a3b710ed-6a84-4027-bfbb-dbf103280b61",
   "metadata": {},
   "outputs": [
    {
     "data": {
      "text/plain": [
       "0       1\n",
       "1       2\n",
       "2       3\n",
       "3    <NA>\n",
       "dtype: Int64"
      ]
     },
     "execution_count": 6,
     "metadata": {},
     "output_type": "execute_result"
    }
   ],
   "source": [
    "s"
   ]
  },
  {
   "cell_type": "code",
   "execution_count": 7,
   "id": "15fec72a-da24-4fb7-a5da-00e186ab01c2",
   "metadata": {},
   "outputs": [
    {
     "data": {
      "text/plain": [
       "0    False\n",
       "1    False\n",
       "2    False\n",
       "3     True\n",
       "dtype: bool"
      ]
     },
     "execution_count": 7,
     "metadata": {},
     "output_type": "execute_result"
    }
   ],
   "source": [
    "s.isna()"
   ]
  },
  {
   "cell_type": "code",
   "execution_count": 8,
   "id": "4960eb0b-9228-49d1-96b1-bda48b06fd74",
   "metadata": {},
   "outputs": [
    {
     "data": {
      "text/plain": [
       "Int64Dtype()"
      ]
     },
     "execution_count": 8,
     "metadata": {},
     "output_type": "execute_result"
    }
   ],
   "source": [
    "s.dtype"
   ]
  },
  {
   "cell_type": "code",
   "execution_count": 9,
   "id": "9c9ad172-a6ba-44a9-825d-6929507c50d4",
   "metadata": {},
   "outputs": [
    {
     "data": {
      "text/plain": [
       "<NA>"
      ]
     },
     "execution_count": 9,
     "metadata": {},
     "output_type": "execute_result"
    }
   ],
   "source": [
    "#<NA> is the pandas sentinel value\n",
    "s[3]"
   ]
  },
  {
   "cell_type": "code",
   "execution_count": 10,
   "id": "4b35e165-53d3-4cae-b283-e4ada0d17ddf",
   "metadata": {},
   "outputs": [
    {
     "data": {
      "text/plain": [
       "True"
      ]
     },
     "execution_count": 10,
     "metadata": {},
     "output_type": "execute_result"
    }
   ],
   "source": [
    "s[3] is pd.NA"
   ]
  },
  {
   "cell_type": "code",
   "execution_count": 11,
   "id": "767328d7-cb0f-49cb-b061-275c55270864",
   "metadata": {},
   "outputs": [],
   "source": [
    "#we could also use 'Int64' as shorthand instead of pd.Int64Dtype()\n",
    "s = pd.Series([1, 2, 3, None], dtype='Int64')"
   ]
  },
  {
   "cell_type": "code",
   "execution_count": 12,
   "id": "2fac121f-feb4-48d7-99fb-138c9cbc9fa8",
   "metadata": {},
   "outputs": [
    {
     "data": {
      "text/plain": [
       "0       1\n",
       "1       2\n",
       "2       3\n",
       "3    <NA>\n",
       "dtype: Int64"
      ]
     },
     "execution_count": 12,
     "metadata": {},
     "output_type": "execute_result"
    }
   ],
   "source": [
    "s"
   ]
  },
  {
   "cell_type": "code",
   "execution_count": 13,
   "id": "bfe0fcfb-e915-4228-9ae1-980131908459",
   "metadata": {},
   "outputs": [],
   "source": [
    "#pandas also has a string dtype that does not use numpy. We must\n",
    "#have pyarrow installed for it to work\n",
    "s = pd.Series(['one', 'two', None, 'three'],\n",
    "             dtype=pd.StringDtype())"
   ]
  },
  {
   "cell_type": "code",
   "execution_count": 14,
   "id": "ee08cf88-1ca7-4923-bb03-26dd5ca8e6d5",
   "metadata": {},
   "outputs": [
    {
     "data": {
      "text/plain": [
       "0      one\n",
       "1      two\n",
       "2     <NA>\n",
       "3    three\n",
       "dtype: string"
      ]
     },
     "execution_count": 14,
     "metadata": {},
     "output_type": "execute_result"
    }
   ],
   "source": [
    "s"
   ]
  },
  {
   "cell_type": "code",
   "execution_count": 15,
   "id": "377c271b-24e1-472d-a316-de4b1ada9b2a",
   "metadata": {},
   "outputs": [],
   "source": [
    "#pd.StringDtype is often more efficient than numpy\n",
    "#and pd.CategoricalDtype is important and will be addressed later\n",
    "#we can pass extension dtypes to a DataFrame constructor\n",
    "df = pd.DataFrame({'A': [1, 2, None, 4],\n",
    "                  'B': ['one', 'two', 'three', None],\n",
    "                  'C': [False, None, False, True]})"
   ]
  },
  {
   "cell_type": "code",
   "execution_count": 16,
   "id": "660c92de-c10c-478f-ada4-a22ca35924be",
   "metadata": {},
   "outputs": [
    {
     "data": {
      "text/html": [
       "<div>\n",
       "<style scoped>\n",
       "    .dataframe tbody tr th:only-of-type {\n",
       "        vertical-align: middle;\n",
       "    }\n",
       "\n",
       "    .dataframe tbody tr th {\n",
       "        vertical-align: top;\n",
       "    }\n",
       "\n",
       "    .dataframe thead th {\n",
       "        text-align: right;\n",
       "    }\n",
       "</style>\n",
       "<table border=\"1\" class=\"dataframe\">\n",
       "  <thead>\n",
       "    <tr style=\"text-align: right;\">\n",
       "      <th></th>\n",
       "      <th>A</th>\n",
       "      <th>B</th>\n",
       "      <th>C</th>\n",
       "    </tr>\n",
       "  </thead>\n",
       "  <tbody>\n",
       "    <tr>\n",
       "      <th>0</th>\n",
       "      <td>1.0</td>\n",
       "      <td>one</td>\n",
       "      <td>False</td>\n",
       "    </tr>\n",
       "    <tr>\n",
       "      <th>1</th>\n",
       "      <td>2.0</td>\n",
       "      <td>two</td>\n",
       "      <td>None</td>\n",
       "    </tr>\n",
       "    <tr>\n",
       "      <th>2</th>\n",
       "      <td>NaN</td>\n",
       "      <td>three</td>\n",
       "      <td>False</td>\n",
       "    </tr>\n",
       "    <tr>\n",
       "      <th>3</th>\n",
       "      <td>4.0</td>\n",
       "      <td>None</td>\n",
       "      <td>True</td>\n",
       "    </tr>\n",
       "  </tbody>\n",
       "</table>\n",
       "</div>"
      ],
      "text/plain": [
       "     A      B      C\n",
       "0  1.0    one  False\n",
       "1  2.0    two   None\n",
       "2  NaN  three  False\n",
       "3  4.0   None   True"
      ]
     },
     "execution_count": 16,
     "metadata": {},
     "output_type": "execute_result"
    }
   ],
   "source": [
    "df"
   ]
  },
  {
   "cell_type": "code",
   "execution_count": 17,
   "id": "63020475-7af1-4786-86c0-9d0bc82625f1",
   "metadata": {},
   "outputs": [
    {
     "data": {
      "text/plain": [
       "0       1\n",
       "1       2\n",
       "2    <NA>\n",
       "3       4\n",
       "Name: A, dtype: Int64"
      ]
     },
     "execution_count": 17,
     "metadata": {},
     "output_type": "execute_result"
    }
   ],
   "source": [
    "df['A'] = df['A'].astype('Int64')\n",
    "df['A']"
   ]
  },
  {
   "cell_type": "code",
   "execution_count": 18,
   "id": "ff2affd7-254e-424e-a851-a68b23dd9dce",
   "metadata": {},
   "outputs": [
    {
     "data": {
      "text/plain": [
       "0      one\n",
       "1      two\n",
       "2    three\n",
       "3     <NA>\n",
       "Name: B, dtype: string"
      ]
     },
     "execution_count": 18,
     "metadata": {},
     "output_type": "execute_result"
    }
   ],
   "source": [
    "df['B'] = df['B'].astype('string')\n",
    "df['B']"
   ]
  },
  {
   "cell_type": "code",
   "execution_count": 19,
   "id": "485728f0-144a-4239-96aa-bed26fb26fdb",
   "metadata": {},
   "outputs": [
    {
     "data": {
      "text/plain": [
       "0    False\n",
       "1     <NA>\n",
       "2    False\n",
       "3     True\n",
       "Name: C, dtype: boolean"
      ]
     },
     "execution_count": 19,
     "metadata": {},
     "output_type": "execute_result"
    }
   ],
   "source": [
    "df['C'] = df['C'].astype('boolean')\n",
    "df['C']"
   ]
  },
  {
   "cell_type": "code",
   "execution_count": 20,
   "id": "781c038f-0e92-43fb-b25d-f57ffec46ccb",
   "metadata": {},
   "outputs": [],
   "source": [
    "df2 = pd.DataFrame({'A': [1, 2, None, 4],\n",
    "                  'B': ['one', 'two', 'three', None],\n",
    "                  'C': [False, None, False, True]})"
   ]
  },
  {
   "cell_type": "code",
   "execution_count": 21,
   "id": "c91006e6-649d-4892-b657-cc5b672d1c87",
   "metadata": {},
   "outputs": [
    {
     "data": {
      "text/plain": [
       "0       1\n",
       "1       2\n",
       "2    <NA>\n",
       "3       4\n",
       "Name: A, dtype: Int64"
      ]
     },
     "execution_count": 21,
     "metadata": {},
     "output_type": "execute_result"
    }
   ],
   "source": [
    "df2['A'] = df2['A'].astype(pd.Int64Dtype())\n",
    "df2['A']"
   ]
  },
  {
   "cell_type": "code",
   "execution_count": 24,
   "id": "ff4adb2e-2372-49c9-9726-2dcd6e522614",
   "metadata": {},
   "outputs": [
    {
     "data": {
      "text/plain": [
       "0      one\n",
       "1      two\n",
       "2    three\n",
       "3     <NA>\n",
       "Name: B, dtype: string"
      ]
     },
     "execution_count": 24,
     "metadata": {},
     "output_type": "execute_result"
    }
   ],
   "source": [
    "df2['B'] = df2['B'].astype(pd.StringDtype())\n",
    "df2['B']"
   ]
  },
  {
   "cell_type": "code",
   "execution_count": 25,
   "id": "8bce781c-1628-4dee-b956-0cfe9a9104a7",
   "metadata": {},
   "outputs": [
    {
     "data": {
      "text/plain": [
       "0    False\n",
       "1     <NA>\n",
       "2    False\n",
       "3     True\n",
       "Name: C, dtype: boolean"
      ]
     },
     "execution_count": 25,
     "metadata": {},
     "output_type": "execute_result"
    }
   ],
   "source": [
    "df2['C'] = df2['C'].astype(pd.BooleanDtype())\n",
    "df2['C']"
   ]
  },
  {
   "cell_type": "code",
   "execution_count": null,
   "id": "9caaa42b-baf8-4ffa-a239-96a2fe789d2c",
   "metadata": {},
   "outputs": [],
   "source": []
  }
 ],
 "metadata": {
  "kernelspec": {
   "display_name": "Python 3 (ipykernel)",
   "language": "python",
   "name": "python3"
  },
  "language_info": {
   "codemirror_mode": {
    "name": "ipython",
    "version": 3
   },
   "file_extension": ".py",
   "mimetype": "text/x-python",
   "name": "python",
   "nbconvert_exporter": "python",
   "pygments_lexer": "ipython3",
   "version": "3.10.8"
  }
 },
 "nbformat": 4,
 "nbformat_minor": 5
}
