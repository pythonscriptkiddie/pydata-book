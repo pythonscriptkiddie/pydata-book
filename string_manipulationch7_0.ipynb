{
 "cells": [
  {
   "cell_type": "code",
   "execution_count": 1,
   "id": "530e6c72-950c-4adc-ad73-01d81bd121d1",
   "metadata": {},
   "outputs": [],
   "source": [
    "from typing import List\n",
    "import logging\n",
    "import functools\n",
    "import operator\n",
    "import numpy as np\n",
    "import pandas as pd"
   ]
  },
  {
   "cell_type": "code",
   "execution_count": 2,
   "id": "7c4414df-8ebf-4090-b174-c96ec4fb8864",
   "metadata": {},
   "outputs": [
    {
     "data": {
      "text/plain": [
       "'a,b, guido'"
      ]
     },
     "execution_count": 2,
     "metadata": {},
     "output_type": "execute_result"
    }
   ],
   "source": [
    "#pandas lets us apply basic string and regular expressions methods on series of data.\n",
    "#Built-in Python string methods\n",
    "val = 'a,b, guido'\n",
    "val"
   ]
  },
  {
   "cell_type": "code",
   "execution_count": 3,
   "id": "3f3369ac-cb15-4735-8efc-c815500a8773",
   "metadata": {},
   "outputs": [
    {
     "data": {
      "text/plain": [
       "['a', 'b', ' guido']"
      ]
     },
     "execution_count": 3,
     "metadata": {},
     "output_type": "execute_result"
    }
   ],
   "source": [
    "val.split(',')"
   ]
  },
  {
   "cell_type": "code",
   "execution_count": 4,
   "id": "539d111a-aba8-4a41-8f64-316a2daeca57",
   "metadata": {},
   "outputs": [
    {
     "data": {
      "text/plain": [
       "['a', 'b', 'guido']"
      ]
     },
     "execution_count": 4,
     "metadata": {},
     "output_type": "execute_result"
    }
   ],
   "source": [
    "#combine strip with split\n",
    "pieces : List[str] = [x.strip() for x in val.split(',')]\n",
    "pieces"
   ]
  },
  {
   "cell_type": "code",
   "execution_count": 5,
   "id": "0623e341-7e84-4cb0-8927-326cc0b3b89d",
   "metadata": {},
   "outputs": [
    {
     "data": {
      "text/plain": [
       "('a', 'b', 'guido')"
      ]
     },
     "execution_count": 5,
     "metadata": {},
     "output_type": "execute_result"
    }
   ],
   "source": [
    "#unpack\n",
    "first, second, third = pieces\n",
    "first, second, third"
   ]
  },
  {
   "cell_type": "code",
   "execution_count": 6,
   "id": "721135d8-2daa-4bca-b1f6-334ecd17fdd1",
   "metadata": {},
   "outputs": [
    {
     "data": {
      "text/plain": [
       "'a::b::guido'"
      ]
     },
     "execution_count": 6,
     "metadata": {},
     "output_type": "execute_result"
    }
   ],
   "source": [
    "first + '::' + second + '::' + third "
   ]
  },
  {
   "cell_type": "code",
   "execution_count": 7,
   "id": "26920cfe-366b-4d24-9292-529bda4d5589",
   "metadata": {},
   "outputs": [
    {
     "data": {
      "text/plain": [
       "'a::b::guido'"
      ]
     },
     "execution_count": 7,
     "metadata": {},
     "output_type": "execute_result"
    }
   ],
   "source": [
    "#join works better\n",
    "'::'.join(pieces)"
   ]
  },
  {
   "cell_type": "code",
   "execution_count": 8,
   "id": "b7aa0628-5195-43fc-856a-a671e9b3cba4",
   "metadata": {},
   "outputs": [
    {
     "data": {
      "text/plain": [
       "'a::b::guido::'"
      ]
     },
     "execution_count": 8,
     "metadata": {},
     "output_type": "execute_result"
    }
   ],
   "source": [
    "functools.reduce(operator.add, [i+'::' for i in pieces])\n",
    "#still shows two extra colons at the end"
   ]
  },
  {
   "cell_type": "code",
   "execution_count": 9,
   "id": "8147a9f0-06f3-467a-b910-c328a0e42b4b",
   "metadata": {},
   "outputs": [
    {
     "data": {
      "text/plain": [
       "True"
      ]
     },
     "execution_count": 9,
     "metadata": {},
     "output_type": "execute_result"
    }
   ],
   "source": [
    "#in, index, find can find a location of a substring\n",
    "'guido' in val"
   ]
  },
  {
   "cell_type": "code",
   "execution_count": 10,
   "id": "d8d1d4c2-f22f-4acc-ad65-617e548a6f39",
   "metadata": {},
   "outputs": [
    {
     "data": {
      "text/plain": [
       "1"
      ]
     },
     "execution_count": 10,
     "metadata": {},
     "output_type": "execute_result"
    }
   ],
   "source": [
    "val.index(',')"
   ]
  },
  {
   "cell_type": "code",
   "execution_count": 11,
   "id": "d79545ec-5418-4e4c-9b23-3394b948e3dd",
   "metadata": {},
   "outputs": [
    {
     "data": {
      "text/plain": [
       "-1"
      ]
     },
     "execution_count": 11,
     "metadata": {},
     "output_type": "execute_result"
    }
   ],
   "source": [
    "val.find(':')"
   ]
  },
  {
   "cell_type": "code",
   "execution_count": 12,
   "id": "8574c564-ba94-4f59-a01f-a63a0400dc67",
   "metadata": {},
   "outputs": [
    {
     "name": "stderr",
     "output_type": "stream",
     "text": [
      "CRITICAL:root:substring not found\n"
     ]
    }
   ],
   "source": [
    "#difference between find and index\n",
    "try:\n",
    "    val.index(':')\n",
    "except ValueError as e:\n",
    "    logging.critical(e)"
   ]
  },
  {
   "cell_type": "code",
   "execution_count": 13,
   "id": "4e2a1fa6-f55f-4923-8d33-f33287724d02",
   "metadata": {},
   "outputs": [
    {
     "data": {
      "text/plain": [
       "2"
      ]
     },
     "execution_count": 13,
     "metadata": {},
     "output_type": "execute_result"
    }
   ],
   "source": [
    "#count: number of occurrences of a substring\n",
    "val.count(',')"
   ]
  },
  {
   "cell_type": "code",
   "execution_count": 14,
   "id": "baea6c21-a2c0-417a-a498-61fe7bf40935",
   "metadata": {},
   "outputs": [
    {
     "data": {
      "text/plain": [
       "'a::b:: guido'"
      ]
     },
     "execution_count": 14,
     "metadata": {},
     "output_type": "execute_result"
    }
   ],
   "source": [
    "#replace: replace one substring with another, we can also use this to replace a full string\n",
    "#with an empty string\n",
    "val.replace(',', '::')"
   ]
  },
  {
   "cell_type": "code",
   "execution_count": 15,
   "id": "aa29ba59-7bfc-4d3a-8e11-631e522a2a67",
   "metadata": {},
   "outputs": [
    {
     "data": {
      "text/plain": [
       "'ab guido'"
      ]
     },
     "execution_count": 15,
     "metadata": {},
     "output_type": "execute_result"
    }
   ],
   "source": [
    "val.replace(',', '')"
   ]
  },
  {
   "cell_type": "code",
   "execution_count": 16,
   "id": "29928cf3-61d9-4d88-ba2a-6c95c41e9d61",
   "metadata": {},
   "outputs": [
    {
     "data": {
      "text/plain": [
       "'a,b, guido'"
      ]
     },
     "execution_count": 16,
     "metadata": {},
     "output_type": "execute_result"
    }
   ],
   "source": [
    "#casefold\n",
    "val.casefold()"
   ]
  },
  {
   "cell_type": "code",
   "execution_count": 17,
   "id": "407c40ac-bceb-463a-9a8a-1df3fa2915c2",
   "metadata": {},
   "outputs": [
    {
     "data": {
      "text/plain": [
       "1"
      ]
     },
     "execution_count": 17,
     "metadata": {},
     "output_type": "execute_result"
    }
   ],
   "source": [
    "val.index(',')"
   ]
  },
  {
   "cell_type": "code",
   "execution_count": 18,
   "id": "e09de488-65e1-4524-aa8e-d19e04e5743f",
   "metadata": {},
   "outputs": [
    {
     "data": {
      "text/plain": [
       "1"
      ]
     },
     "execution_count": 18,
     "metadata": {},
     "output_type": "execute_result"
    }
   ],
   "source": [
    "val.find(',')"
   ]
  },
  {
   "cell_type": "code",
   "execution_count": 19,
   "id": "2e8e974c-b0c6-4e5d-9502-e0d9bfb3bbd5",
   "metadata": {},
   "outputs": [
    {
     "data": {
      "text/plain": [
       "3"
      ]
     },
     "execution_count": 19,
     "metadata": {},
     "output_type": "execute_result"
    }
   ],
   "source": [
    "val.rfind(',')"
   ]
  },
  {
   "cell_type": "code",
   "execution_count": 20,
   "id": "2cba7553-96a8-4a36-8133-9d4fdeab9093",
   "metadata": {},
   "outputs": [],
   "source": [
    "#regular expressions\n",
    "import re"
   ]
  },
  {
   "cell_type": "code",
   "execution_count": 21,
   "id": "13242831-6197-49ef-93bd-ad331589576a",
   "metadata": {},
   "outputs": [],
   "source": [
    "text = 'foo   bar\\t baz  \\tqux'"
   ]
  },
  {
   "cell_type": "code",
   "execution_count": 22,
   "id": "e6709165-327c-48b1-b956-fc74b9840e94",
   "metadata": {},
   "outputs": [
    {
     "data": {
      "text/plain": [
       "['foo', 'bar', 'baz', 'qux']"
      ]
     },
     "execution_count": 22,
     "metadata": {},
     "output_type": "execute_result"
    }
   ],
   "source": [
    "#\\s+ splits on any consecutive whitespace sequence\n",
    "#the regular expression is compiled first here\n",
    "re.split(r'\\s+', text)"
   ]
  },
  {
   "cell_type": "code",
   "execution_count": 23,
   "id": "af6dedf1-e5cc-4261-9823-36d89f5a7f6a",
   "metadata": {},
   "outputs": [
    {
     "name": "stdout",
     "output_type": "stream",
     "text": [
      "CPU times: user 2 µs, sys: 1e+03 ns, total: 3 µs\n",
      "Wall time: 2.86 µs\n"
     ]
    },
    {
     "data": {
      "text/plain": [
       "['foo', 'bar', 'baz', 'qux']"
      ]
     },
     "execution_count": 23,
     "metadata": {},
     "output_type": "execute_result"
    }
   ],
   "source": [
    "%time\n",
    "#manually compile regular expressions\n",
    "regex = re.compile(r'\\s+')\n",
    "regex.split(text)"
   ]
  },
  {
   "cell_type": "code",
   "execution_count": 24,
   "id": "adc7a448-36d7-4fc8-8a20-e1ddecb7a782",
   "metadata": {},
   "outputs": [
    {
     "name": "stdout",
     "output_type": "stream",
     "text": [
      "CPU times: user 2 µs, sys: 1 µs, total: 3 µs\n",
      "Wall time: 4.29 µs\n"
     ]
    },
    {
     "data": {
      "text/plain": [
       "['foo', 'bar', 'baz', 'qux']"
      ]
     },
     "execution_count": 24,
     "metadata": {},
     "output_type": "execute_result"
    }
   ],
   "source": [
    "%time\n",
    "#same thing\n",
    "re.split(regex, text)"
   ]
  },
  {
   "cell_type": "code",
   "execution_count": 25,
   "id": "88688ba6-f322-489c-8b6c-46c0b070d482",
   "metadata": {},
   "outputs": [
    {
     "data": {
      "text/plain": [
       "['   ', '\\t ', '  \\t']"
      ]
     },
     "execution_count": 25,
     "metadata": {},
     "output_type": "execute_result"
    }
   ],
   "source": [
    "#find all occurrences of the regex pattern /s+\n",
    "regex.findall(text)"
   ]
  },
  {
   "cell_type": "code",
   "execution_count": 26,
   "id": "d201acfd-2a8b-4bf8-b20c-cf0503b084a1",
   "metadata": {},
   "outputs": [
    {
     "data": {
      "text/plain": [
       "['   ', '\\t ', '  \\t']"
      ]
     },
     "execution_count": 26,
     "metadata": {},
     "output_type": "execute_result"
    }
   ],
   "source": [
    "#same thing\n",
    "re.findall(regex, text)"
   ]
  },
  {
   "cell_type": "code",
   "execution_count": 32,
   "id": "926f174a-4a1c-423e-b1b7-fcfce5b4c927",
   "metadata": {},
   "outputs": [],
   "source": [
    "#! ipython verbatim id=8f2d09408b41491aa269044fc4375d93\n",
    "text = \"\"\"Dave dave@google.com\n",
    "Steve steve@gmail.com\n",
    "Rob rob@gmail.com\n",
    "Ryan ryan@yahoo.com\"\"\"\n",
    "pattern = r\"[A-Z0-9._%+-]+@[A-Z0-9.-]+\\.[A-Z]{2,4}\""
   ]
  },
  {
   "cell_type": "code",
   "execution_count": 35,
   "id": "82ec8714-ca8c-48ba-8e28-da40ccf3a170",
   "metadata": {},
   "outputs": [
    {
     "data": {
      "text/plain": [
       "re.compile(r'[A-Z0-9._%+-]+@[A-Z0-9.-]+\\.[A-Z]{2,4}', re.IGNORECASE|re.UNICODE)"
      ]
     },
     "execution_count": 35,
     "metadata": {},
     "output_type": "execute_result"
    }
   ],
   "source": [
    "#re.IGNORECASE makes regex case insensitive\n",
    "regex=re.compile(pattern, flags=re.IGNORECASE)\n",
    "regex"
   ]
  },
  {
   "cell_type": "code",
   "execution_count": 37,
   "id": "bac73755-fe0f-4d58-a4eb-7cad193998a4",
   "metadata": {},
   "outputs": [
    {
     "data": {
      "text/plain": [
       "['dave@google.com', 'steve@gmail.com', 'rob@gmail.com', 'ryan@yahoo.com']"
      ]
     },
     "execution_count": 37,
     "metadata": {},
     "output_type": "execute_result"
    }
   ],
   "source": [
    "#findall returns a list of email addresses\n",
    "regex.findall(text)"
   ]
  },
  {
   "cell_type": "code",
   "execution_count": 38,
   "id": "210519ee-c26c-4e95-aa91-5e8513a6985c",
   "metadata": {},
   "outputs": [
    {
     "data": {
      "text/plain": [
       "['dave@google.com', 'steve@gmail.com', 'rob@gmail.com', 'ryan@yahoo.com']"
      ]
     },
     "execution_count": 38,
     "metadata": {},
     "output_type": "execute_result"
    }
   ],
   "source": [
    "re.findall(regex, text)"
   ]
  },
  {
   "cell_type": "code",
   "execution_count": 39,
   "id": "2af0cc42-2691-4020-95c7-7efd35d54d80",
   "metadata": {},
   "outputs": [],
   "source": [
    "#search returns only the first match\n",
    "#search returns a regex match object for the first email address\n",
    "m = regex.search(text)\n",
    "m"
   ]
  },
  {
   "cell_type": "code",
   "execution_count": 40,
   "id": "1ceb6d7d-ba3e-4825-9709-9142b5edf2f8",
   "metadata": {},
   "outputs": [
    {
     "data": {
      "text/plain": [
       "'dave@google.com'"
      ]
     },
     "execution_count": 40,
     "metadata": {},
     "output_type": "execute_result"
    }
   ],
   "source": [
    "text[m.start():m.end()]"
   ]
  },
  {
   "cell_type": "code",
   "execution_count": 42,
   "id": "385e58c8-fd9f-49f3-996b-a0716035cd9e",
   "metadata": {},
   "outputs": [
    {
     "name": "stdout",
     "output_type": "stream",
     "text": [
      "None\n"
     ]
    }
   ],
   "source": [
    "#match returns only a match at the beginning of the string\n",
    "print(regex.match(text)) #the pattern does not occur at the beginning of the string"
   ]
  },
  {
   "cell_type": "code",
   "execution_count": 43,
   "id": "3e3de631-41a3-4570-8fe9-518ed1bb0646",
   "metadata": {},
   "outputs": [
    {
     "name": "stdout",
     "output_type": "stream",
     "text": [
      "<re.Match object; span=(0, 15), match='dave@google.com'>\n"
     ]
    }
   ],
   "source": [
    "#but let's remove the text before the mattern\n",
    "print(regex.match(text[m.start():]))"
   ]
  },
  {
   "cell_type": "code",
   "execution_count": 44,
   "id": "f8f69c45-7fa1-4e03-88dd-15a32ede8545",
   "metadata": {},
   "outputs": [
    {
     "name": "stdout",
     "output_type": "stream",
     "text": [
      "Dave REDACTED\n",
      "Steve REDACTED\n",
      "Rob REDACTED\n",
      "Ryan REDACTED\n"
     ]
    }
   ],
   "source": [
    "#sub: returns a new string with the pattern replaced by a new string\n",
    "print(regex.sub('REDACTED', text))"
   ]
  },
  {
   "cell_type": "code",
   "execution_count": 46,
   "id": "1be8427b-2e86-4ec5-bb82-e17f3c10f6cb",
   "metadata": {},
   "outputs": [
    {
     "name": "stdout",
     "output_type": "stream",
     "text": [
      "Dave REDACTED\n",
      "Steve REDACTED\n",
      "Rob REDACTED\n",
      "Ryan REDACTED\n"
     ]
    }
   ],
   "source": [
    "#same thing\n",
    "print(re.sub(regex, 'REDACTED', text))"
   ]
  },
  {
   "cell_type": "code",
   "execution_count": null,
   "id": "8f4bb16e-544b-4209-8474-0943c7568c19",
   "metadata": {},
   "outputs": [],
   "source": [
    "#put parentheses around the parts of the pattern to segment\n",
    "#for example splitting email addresses into their component parts\n"
   ]
  },
  {
   "cell_type": "code",
   "execution_count": null,
   "id": "2d467ec9-6552-4887-9e38-2c0fbc77697d",
   "metadata": {},
   "outputs": [],
   "source": []
  }
 ],
 "metadata": {
  "kernelspec": {
   "display_name": "Python 3 (ipykernel)",
   "language": "python",
   "name": "python3"
  },
  "language_info": {
   "codemirror_mode": {
    "name": "ipython",
    "version": 3
   },
   "file_extension": ".py",
   "mimetype": "text/x-python",
   "name": "python",
   "nbconvert_exporter": "python",
   "pygments_lexer": "ipython3",
   "version": "3.10.8"
  }
 },
 "nbformat": 4,
 "nbformat_minor": 5
}
