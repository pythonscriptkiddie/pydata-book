{
 "cells": [
  {
   "cell_type": "code",
   "execution_count": 1,
   "id": "6d6f7935-b386-4da0-b615-657f9848639f",
   "metadata": {},
   "outputs": [],
   "source": [
    "import string\n",
    "from typing import List\n",
    "import logging\n",
    "import numpy as np\n",
    "import pandas as pd"
   ]
  },
  {
   "cell_type": "code",
   "execution_count": 2,
   "id": "9902b74a",
   "metadata": {},
   "outputs": [
    {
     "data": {
      "text/plain": [
       "d    4.5\n",
       "b    7.2\n",
       "a   -5.3\n",
       "c    3.6\n",
       "dtype: float64"
      ]
     },
     "execution_count": 2,
     "metadata": {},
     "output_type": "execute_result"
    }
   ],
   "source": [
    "#This is how we interact with the data in a pandas object: a DataFrame or a Series. Let's look at some of the\n",
    "#more commonly-used pandas methods.\n",
    "#1) Reindexing: crease a new object, realigning the values to match the new index\n",
    "obj = pd.Series([4.5, 7.2, -5.3, 3.6], index=['d','b', 'a', 'c'])\n",
    "obj"
   ]
  },
  {
   "cell_type": "code",
   "execution_count": 3,
   "id": "de53aa4c",
   "metadata": {},
   "outputs": [
    {
     "name": "stdout",
     "output_type": "stream",
     "text": [
      "a   -5.3\n",
      "b    7.2\n",
      "c    3.6\n",
      "d    4.5\n",
      "e    NaN\n",
      "dtype: float64\n",
      "The value of obj2[\"e\"] is True\n"
     ]
    }
   ],
   "source": [
    "#Let's rearrange the data according to a new index in alphabetical order\n",
    "#if we are using some types of data aka time series we might want to fill in some empty values.\n",
    "\n",
    "obj2 = obj.reindex(['a','b', 'c', 'd', 'e'])\n",
    "print(obj2)\n",
    "print(f'The value of obj2[\"e\"] is {np.isnan(obj2[\"e\"])}')"
   ]
  },
  {
   "cell_type": "code",
   "execution_count": 4,
   "id": "5032fdd6",
   "metadata": {},
   "outputs": [
    {
     "data": {
      "text/plain": [
       "0      blue\n",
       "2    yellow\n",
       "4    purple\n",
       "dtype: object"
      ]
     },
     "execution_count": 4,
     "metadata": {},
     "output_type": "execute_result"
    }
   ],
   "source": [
    "#if we are using some types of data aka time series we might want to fill in some empty values.\n",
    "#Here we use ffill in this same manner. We forward fill blank values\n",
    "obj3 = pd.Series(['blue', 'yellow', 'purple'], index=[0, 2, 4])\n",
    "obj3"
   ]
  },
  {
   "cell_type": "code",
   "execution_count": 5,
   "id": "c1a80fd6",
   "metadata": {},
   "outputs": [
    {
     "data": {
      "text/plain": [
       "0      blue\n",
       "1      blue\n",
       "2    yellow\n",
       "3    yellow\n",
       "4    purple\n",
       "5    purple\n",
       "dtype: object"
      ]
     },
     "execution_count": 5,
     "metadata": {},
     "output_type": "execute_result"
    }
   ],
   "source": [
    "#Let's replace the index for obj3 with an np.arange index which will create some missing values\n",
    "obj3.reindex(np.arange(6), method='ffill')"
   ]
  },
  {
   "cell_type": "code",
   "execution_count": 6,
   "id": "68206319",
   "metadata": {},
   "outputs": [
    {
     "data": {
      "text/plain": [
       "0      blue\n",
       "1    yellow\n",
       "2    yellow\n",
       "3    purple\n",
       "4    purple\n",
       "5       NaN\n",
       "dtype: object"
      ]
     },
     "execution_count": 6,
     "metadata": {},
     "output_type": "execute_result"
    }
   ],
   "source": [
    "#Let's replace the index for obj3 with an np.arange index which will create some missing values\n",
    "obj3.reindex(np.arange(6), method='bfill')"
   ]
  },
  {
   "cell_type": "code",
   "execution_count": 7,
   "id": "37bb55bf",
   "metadata": {},
   "outputs": [
    {
     "data": {
      "text/plain": [
       "array([0, 1, 2, 3, 4, 5, 6, 7, 8])"
      ]
     },
     "execution_count": 7,
     "metadata": {},
     "output_type": "execute_result"
    }
   ],
   "source": [
    "#df.reindex for DataFrames: we can modify the rows and/or the columns. When we pass it\n",
    "#a sequence, it reindexes the rows\n",
    "frame = np.arange(9)\n",
    "frame"
   ]
  },
  {
   "cell_type": "code",
   "execution_count": 8,
   "id": "8624afdb",
   "metadata": {},
   "outputs": [
    {
     "data": {
      "text/plain": [
       "array([[0, 1, 2],\n",
       "       [3, 4, 5],\n",
       "       [6, 7, 8]])"
      ]
     },
     "execution_count": 8,
     "metadata": {},
     "output_type": "execute_result"
    }
   ],
   "source": [
    "#df.reindex for DataFrames: we can modify the rows and/or the columns. When we pass it\n",
    "#a sequence, it reindexes the rows\n",
    "frame = np.arange(9).reshape(3, 3) #no parenthesis inside bracket\n",
    "frame"
   ]
  },
  {
   "cell_type": "code",
   "execution_count": 9,
   "id": "2675341c",
   "metadata": {},
   "outputs": [
    {
     "data": {
      "text/plain": [
       "array([[0, 1, 2],\n",
       "       [3, 4, 5],\n",
       "       [6, 7, 8]])"
      ]
     },
     "execution_count": 9,
     "metadata": {},
     "output_type": "execute_result"
    }
   ],
   "source": [
    "#df.reindex for DataFrames: we can modify the rows and/or the columns. When we pass it\n",
    "#a sequence, it reindexes the rows\n",
    "frame = np.arange(9).reshape((3, 3)) #same with parenthesis inside the brackets\n",
    "frame"
   ]
  },
  {
   "cell_type": "code",
   "execution_count": 10,
   "id": "7d0d1b91",
   "metadata": {},
   "outputs": [
    {
     "data": {
      "text/plain": [
       "array([[0, 1, 2],\n",
       "       [3, 4, 5],\n",
       "       [6, 7, 8]])"
      ]
     },
     "execution_count": 10,
     "metadata": {},
     "output_type": "execute_result"
    }
   ],
   "source": [
    "#df.reindex for DataFrames: we can modify the rows and/or the columns. When we pass it\n",
    "#a sequence, it reindexes the rows\n",
    "frame = np.arange(9).reshape(*(3, 3)) #same as the above two\n",
    "frame"
   ]
  },
  {
   "cell_type": "code",
   "execution_count": 11,
   "id": "9a987a86",
   "metadata": {},
   "outputs": [
    {
     "data": {
      "text/html": [
       "<div>\n",
       "<style scoped>\n",
       "    .dataframe tbody tr th:only-of-type {\n",
       "        vertical-align: middle;\n",
       "    }\n",
       "\n",
       "    .dataframe tbody tr th {\n",
       "        vertical-align: top;\n",
       "    }\n",
       "\n",
       "    .dataframe thead th {\n",
       "        text-align: right;\n",
       "    }\n",
       "</style>\n",
       "<table border=\"1\" class=\"dataframe\">\n",
       "  <thead>\n",
       "    <tr style=\"text-align: right;\">\n",
       "      <th></th>\n",
       "      <th>0</th>\n",
       "      <th>1</th>\n",
       "      <th>2</th>\n",
       "    </tr>\n",
       "  </thead>\n",
       "  <tbody>\n",
       "    <tr>\n",
       "      <th>0</th>\n",
       "      <td>0</td>\n",
       "      <td>1</td>\n",
       "      <td>2</td>\n",
       "    </tr>\n",
       "    <tr>\n",
       "      <th>1</th>\n",
       "      <td>3</td>\n",
       "      <td>4</td>\n",
       "      <td>5</td>\n",
       "    </tr>\n",
       "    <tr>\n",
       "      <th>2</th>\n",
       "      <td>6</td>\n",
       "      <td>7</td>\n",
       "      <td>8</td>\n",
       "    </tr>\n",
       "  </tbody>\n",
       "</table>\n",
       "</div>"
      ],
      "text/plain": [
       "   0  1  2\n",
       "0  0  1  2\n",
       "1  3  4  5\n",
       "2  6  7  8"
      ]
     },
     "execution_count": 11,
     "metadata": {},
     "output_type": "execute_result"
    }
   ],
   "source": [
    "#df.reindex for DataFrames: we can modify the rows and/or the columns. When we pass it\n",
    "#a sequence, it reindexes the rows\n",
    "frame = pd.DataFrame(np.arange(9).reshape(3, 3)) #no parenthesis inside bracket\n",
    "frame"
   ]
  },
  {
   "cell_type": "code",
   "execution_count": 12,
   "id": "9cae9f0d",
   "metadata": {},
   "outputs": [
    {
     "data": {
      "text/html": [
       "<div>\n",
       "<style scoped>\n",
       "    .dataframe tbody tr th:only-of-type {\n",
       "        vertical-align: middle;\n",
       "    }\n",
       "\n",
       "    .dataframe tbody tr th {\n",
       "        vertical-align: top;\n",
       "    }\n",
       "\n",
       "    .dataframe thead th {\n",
       "        text-align: right;\n",
       "    }\n",
       "</style>\n",
       "<table border=\"1\" class=\"dataframe\">\n",
       "  <thead>\n",
       "    <tr style=\"text-align: right;\">\n",
       "      <th></th>\n",
       "      <th>0</th>\n",
       "      <th>1</th>\n",
       "      <th>2</th>\n",
       "    </tr>\n",
       "  </thead>\n",
       "  <tbody>\n",
       "    <tr>\n",
       "      <th>a</th>\n",
       "      <td>0</td>\n",
       "      <td>1</td>\n",
       "      <td>2</td>\n",
       "    </tr>\n",
       "    <tr>\n",
       "      <th>c</th>\n",
       "      <td>3</td>\n",
       "      <td>4</td>\n",
       "      <td>5</td>\n",
       "    </tr>\n",
       "    <tr>\n",
       "      <th>d</th>\n",
       "      <td>6</td>\n",
       "      <td>7</td>\n",
       "      <td>8</td>\n",
       "    </tr>\n",
       "  </tbody>\n",
       "</table>\n",
       "</div>"
      ],
      "text/plain": [
       "   0  1  2\n",
       "a  0  1  2\n",
       "c  3  4  5\n",
       "d  6  7  8"
      ]
     },
     "execution_count": 12,
     "metadata": {},
     "output_type": "execute_result"
    }
   ],
   "source": [
    "#df.reindex for DataFrames: we can modify the rows and/or the columns. When we pass it\n",
    "#a sequence, it reindexes the rows\n",
    "#here we pass it an index for the rows\n",
    "frame = pd.DataFrame(np.arange(9).reshape(3, 3),\n",
    "                    index=['a', 'c', 'd']) #no parenthesis inside bracket\n",
    "frame"
   ]
  },
  {
   "cell_type": "code",
   "execution_count": 13,
   "id": "053cefbe",
   "metadata": {},
   "outputs": [
    {
     "data": {
      "text/html": [
       "<div>\n",
       "<style scoped>\n",
       "    .dataframe tbody tr th:only-of-type {\n",
       "        vertical-align: middle;\n",
       "    }\n",
       "\n",
       "    .dataframe tbody tr th {\n",
       "        vertical-align: top;\n",
       "    }\n",
       "\n",
       "    .dataframe thead th {\n",
       "        text-align: right;\n",
       "    }\n",
       "</style>\n",
       "<table border=\"1\" class=\"dataframe\">\n",
       "  <thead>\n",
       "    <tr style=\"text-align: right;\">\n",
       "      <th></th>\n",
       "      <th>Ohio</th>\n",
       "      <th>Texas</th>\n",
       "      <th>California</th>\n",
       "    </tr>\n",
       "  </thead>\n",
       "  <tbody>\n",
       "    <tr>\n",
       "      <th>0</th>\n",
       "      <td>0</td>\n",
       "      <td>1</td>\n",
       "      <td>2</td>\n",
       "    </tr>\n",
       "    <tr>\n",
       "      <th>1</th>\n",
       "      <td>3</td>\n",
       "      <td>4</td>\n",
       "      <td>5</td>\n",
       "    </tr>\n",
       "    <tr>\n",
       "      <th>2</th>\n",
       "      <td>6</td>\n",
       "      <td>7</td>\n",
       "      <td>8</td>\n",
       "    </tr>\n",
       "  </tbody>\n",
       "</table>\n",
       "</div>"
      ],
      "text/plain": [
       "   Ohio  Texas  California\n",
       "0     0      1           2\n",
       "1     3      4           5\n",
       "2     6      7           8"
      ]
     },
     "execution_count": 13,
     "metadata": {},
     "output_type": "execute_result"
    }
   ],
   "source": [
    "#df.reindex for DataFrames: we can modify the rows and/or the columns. When we pass it\n",
    "#a sequence, it reindexes the rows\n",
    "#here we pass it an index for the columns\n",
    "frame = pd.DataFrame(np.arange(9).reshape(3, 3),\n",
    "                    columns=['Ohio', 'Texas', 'California']) #no parenthesis inside bracket\n",
    "frame"
   ]
  },
  {
   "cell_type": "code",
   "execution_count": 14,
   "id": "97e0c394",
   "metadata": {},
   "outputs": [
    {
     "data": {
      "text/html": [
       "<div>\n",
       "<style scoped>\n",
       "    .dataframe tbody tr th:only-of-type {\n",
       "        vertical-align: middle;\n",
       "    }\n",
       "\n",
       "    .dataframe tbody tr th {\n",
       "        vertical-align: top;\n",
       "    }\n",
       "\n",
       "    .dataframe thead th {\n",
       "        text-align: right;\n",
       "    }\n",
       "</style>\n",
       "<table border=\"1\" class=\"dataframe\">\n",
       "  <thead>\n",
       "    <tr style=\"text-align: right;\">\n",
       "      <th></th>\n",
       "      <th>Ohio</th>\n",
       "      <th>Texas</th>\n",
       "      <th>California</th>\n",
       "    </tr>\n",
       "  </thead>\n",
       "  <tbody>\n",
       "    <tr>\n",
       "      <th>a</th>\n",
       "      <td>0</td>\n",
       "      <td>1</td>\n",
       "      <td>2</td>\n",
       "    </tr>\n",
       "    <tr>\n",
       "      <th>c</th>\n",
       "      <td>3</td>\n",
       "      <td>4</td>\n",
       "      <td>5</td>\n",
       "    </tr>\n",
       "    <tr>\n",
       "      <th>d</th>\n",
       "      <td>6</td>\n",
       "      <td>7</td>\n",
       "      <td>8</td>\n",
       "    </tr>\n",
       "  </tbody>\n",
       "</table>\n",
       "</div>"
      ],
      "text/plain": [
       "   Ohio  Texas  California\n",
       "a     0      1           2\n",
       "c     3      4           5\n",
       "d     6      7           8"
      ]
     },
     "execution_count": 14,
     "metadata": {},
     "output_type": "execute_result"
    }
   ],
   "source": [
    "#df.reindex for DataFrames: we can modify the rows and/or the columns. When we pass it\n",
    "#a sequence, it reindexes the rows\n",
    "#here we pass it an index for the columns\n",
    "frame = pd.DataFrame(np.arange(9).reshape(3, 3),\n",
    "                     index=['a', 'c', 'd'],\n",
    "                    columns=['Ohio', 'Texas', 'California']) #no parenthesis inside bracket\n",
    "frame"
   ]
  },
  {
   "cell_type": "code",
   "execution_count": 15,
   "id": "8bcbf4a4",
   "metadata": {},
   "outputs": [
    {
     "data": {
      "text/html": [
       "<div>\n",
       "<style scoped>\n",
       "    .dataframe tbody tr th:only-of-type {\n",
       "        vertical-align: middle;\n",
       "    }\n",
       "\n",
       "    .dataframe tbody tr th {\n",
       "        vertical-align: top;\n",
       "    }\n",
       "\n",
       "    .dataframe thead th {\n",
       "        text-align: right;\n",
       "    }\n",
       "</style>\n",
       "<table border=\"1\" class=\"dataframe\">\n",
       "  <thead>\n",
       "    <tr style=\"text-align: right;\">\n",
       "      <th></th>\n",
       "      <th>Ohio</th>\n",
       "      <th>Texas</th>\n",
       "      <th>California</th>\n",
       "    </tr>\n",
       "  </thead>\n",
       "  <tbody>\n",
       "    <tr>\n",
       "      <th>a</th>\n",
       "      <td>0.0</td>\n",
       "      <td>1.0</td>\n",
       "      <td>2.0</td>\n",
       "    </tr>\n",
       "    <tr>\n",
       "      <th>b</th>\n",
       "      <td>NaN</td>\n",
       "      <td>NaN</td>\n",
       "      <td>NaN</td>\n",
       "    </tr>\n",
       "    <tr>\n",
       "      <th>c</th>\n",
       "      <td>3.0</td>\n",
       "      <td>4.0</td>\n",
       "      <td>5.0</td>\n",
       "    </tr>\n",
       "    <tr>\n",
       "      <th>d</th>\n",
       "      <td>6.0</td>\n",
       "      <td>7.0</td>\n",
       "      <td>8.0</td>\n",
       "    </tr>\n",
       "  </tbody>\n",
       "</table>\n",
       "</div>"
      ],
      "text/plain": [
       "   Ohio  Texas  California\n",
       "a   0.0    1.0         2.0\n",
       "b   NaN    NaN         NaN\n",
       "c   3.0    4.0         5.0\n",
       "d   6.0    7.0         8.0"
      ]
     },
     "execution_count": 15,
     "metadata": {},
     "output_type": "execute_result"
    }
   ],
   "source": [
    "#now let's reindex frame\n",
    "frame2 = frame.reindex(index=['a', 'b', 'c', 'd'])\n",
    "frame2\n",
    "#notice how we added a row of nans in the DataFrame"
   ]
  },
  {
   "cell_type": "code",
   "execution_count": 16,
   "id": "99773a5a",
   "metadata": {},
   "outputs": [
    {
     "data": {
      "text/html": [
       "<div>\n",
       "<style scoped>\n",
       "    .dataframe tbody tr th:only-of-type {\n",
       "        vertical-align: middle;\n",
       "    }\n",
       "\n",
       "    .dataframe tbody tr th {\n",
       "        vertical-align: top;\n",
       "    }\n",
       "\n",
       "    .dataframe thead th {\n",
       "        text-align: right;\n",
       "    }\n",
       "</style>\n",
       "<table border=\"1\" class=\"dataframe\">\n",
       "  <thead>\n",
       "    <tr style=\"text-align: right;\">\n",
       "      <th></th>\n",
       "      <th>Ohio</th>\n",
       "      <th>Texas</th>\n",
       "      <th>California</th>\n",
       "    </tr>\n",
       "  </thead>\n",
       "  <tbody>\n",
       "    <tr>\n",
       "      <th>a</th>\n",
       "      <td>0.0</td>\n",
       "      <td>1.0</td>\n",
       "      <td>2.0</td>\n",
       "    </tr>\n",
       "    <tr>\n",
       "      <th>b</th>\n",
       "      <td>NaN</td>\n",
       "      <td>NaN</td>\n",
       "      <td>NaN</td>\n",
       "    </tr>\n",
       "    <tr>\n",
       "      <th>c</th>\n",
       "      <td>3.0</td>\n",
       "      <td>4.0</td>\n",
       "      <td>5.0</td>\n",
       "    </tr>\n",
       "    <tr>\n",
       "      <th>d</th>\n",
       "      <td>6.0</td>\n",
       "      <td>7.0</td>\n",
       "      <td>8.0</td>\n",
       "    </tr>\n",
       "  </tbody>\n",
       "</table>\n",
       "</div>"
      ],
      "text/plain": [
       "   Ohio  Texas  California\n",
       "a   0.0    1.0         2.0\n",
       "b   NaN    NaN         NaN\n",
       "c   3.0    4.0         5.0\n",
       "d   6.0    7.0         8.0"
      ]
     },
     "execution_count": 16,
     "metadata": {},
     "output_type": "execute_result"
    }
   ],
   "source": [
    "ascii_index0 : List[str] = [letter for letter in string.ascii_lowercase[:4]]\n",
    "frame2 = frame.reindex(index=ascii_index0)\n",
    "frame2"
   ]
  },
  {
   "cell_type": "code",
   "execution_count": 17,
   "id": "a5b1dce5",
   "metadata": {},
   "outputs": [
    {
     "data": {
      "text/html": [
       "<div>\n",
       "<style scoped>\n",
       "    .dataframe tbody tr th:only-of-type {\n",
       "        vertical-align: middle;\n",
       "    }\n",
       "\n",
       "    .dataframe tbody tr th {\n",
       "        vertical-align: top;\n",
       "    }\n",
       "\n",
       "    .dataframe thead th {\n",
       "        text-align: right;\n",
       "    }\n",
       "</style>\n",
       "<table border=\"1\" class=\"dataframe\">\n",
       "  <thead>\n",
       "    <tr style=\"text-align: right;\">\n",
       "      <th></th>\n",
       "      <th>Texas</th>\n",
       "      <th>Utah</th>\n",
       "      <th>California</th>\n",
       "    </tr>\n",
       "  </thead>\n",
       "  <tbody>\n",
       "    <tr>\n",
       "      <th>a</th>\n",
       "      <td>1</td>\n",
       "      <td>NaN</td>\n",
       "      <td>2</td>\n",
       "    </tr>\n",
       "    <tr>\n",
       "      <th>c</th>\n",
       "      <td>4</td>\n",
       "      <td>NaN</td>\n",
       "      <td>5</td>\n",
       "    </tr>\n",
       "    <tr>\n",
       "      <th>d</th>\n",
       "      <td>7</td>\n",
       "      <td>NaN</td>\n",
       "      <td>8</td>\n",
       "    </tr>\n",
       "  </tbody>\n",
       "</table>\n",
       "</div>"
      ],
      "text/plain": [
       "   Texas  Utah  California\n",
       "a      1   NaN           2\n",
       "c      4   NaN           5\n",
       "d      7   NaN           8"
      ]
     },
     "execution_count": 17,
     "metadata": {},
     "output_type": "execute_result"
    }
   ],
   "source": [
    "#we can reindex columns using the columns keyword\n",
    "states : List[str] = ['Texas', 'Utah', 'California']\n",
    "frame.reindex(columns=states)\n",
    "#Ohio is dropped because it is not in the list of states"
   ]
  },
  {
   "cell_type": "code",
   "execution_count": 18,
   "id": "f2389ec7",
   "metadata": {},
   "outputs": [
    {
     "data": {
      "text/html": [
       "<div>\n",
       "<style scoped>\n",
       "    .dataframe tbody tr th:only-of-type {\n",
       "        vertical-align: middle;\n",
       "    }\n",
       "\n",
       "    .dataframe tbody tr th {\n",
       "        vertical-align: top;\n",
       "    }\n",
       "\n",
       "    .dataframe thead th {\n",
       "        text-align: right;\n",
       "    }\n",
       "</style>\n",
       "<table border=\"1\" class=\"dataframe\">\n",
       "  <thead>\n",
       "    <tr style=\"text-align: right;\">\n",
       "      <th></th>\n",
       "      <th>Texas</th>\n",
       "      <th>Utah</th>\n",
       "      <th>California</th>\n",
       "    </tr>\n",
       "  </thead>\n",
       "  <tbody>\n",
       "    <tr>\n",
       "      <th>a</th>\n",
       "      <td>1</td>\n",
       "      <td>NaN</td>\n",
       "      <td>2</td>\n",
       "    </tr>\n",
       "    <tr>\n",
       "      <th>c</th>\n",
       "      <td>4</td>\n",
       "      <td>NaN</td>\n",
       "      <td>5</td>\n",
       "    </tr>\n",
       "    <tr>\n",
       "      <th>d</th>\n",
       "      <td>7</td>\n",
       "      <td>NaN</td>\n",
       "      <td>8</td>\n",
       "    </tr>\n",
       "  </tbody>\n",
       "</table>\n",
       "</div>"
      ],
      "text/plain": [
       "   Texas  Utah  California\n",
       "a      1   NaN           2\n",
       "c      4   NaN           5\n",
       "d      7   NaN           8"
      ]
     },
     "execution_count": 18,
     "metadata": {},
     "output_type": "execute_result"
    }
   ],
   "source": [
    "#we can also reindex by passing a sequence as a positional argument, and then giving a specific axis.\n",
    "#axis=0 or axis='rows' for rows and axis=1 or axis='columns' for columns\n",
    "frame.reindex(states, axis='columns')"
   ]
  },
  {
   "cell_type": "code",
   "execution_count": 19,
   "id": "626e565f",
   "metadata": {},
   "outputs": [
    {
     "data": {
      "text/html": [
       "<div>\n",
       "<style scoped>\n",
       "    .dataframe tbody tr th:only-of-type {\n",
       "        vertical-align: middle;\n",
       "    }\n",
       "\n",
       "    .dataframe tbody tr th {\n",
       "        vertical-align: top;\n",
       "    }\n",
       "\n",
       "    .dataframe thead th {\n",
       "        text-align: right;\n",
       "    }\n",
       "</style>\n",
       "<table border=\"1\" class=\"dataframe\">\n",
       "  <thead>\n",
       "    <tr style=\"text-align: right;\">\n",
       "      <th></th>\n",
       "      <th>Texas</th>\n",
       "      <th>Utah</th>\n",
       "      <th>California</th>\n",
       "    </tr>\n",
       "  </thead>\n",
       "  <tbody>\n",
       "    <tr>\n",
       "      <th>a</th>\n",
       "      <td>1</td>\n",
       "      <td>NaN</td>\n",
       "      <td>2</td>\n",
       "    </tr>\n",
       "    <tr>\n",
       "      <th>c</th>\n",
       "      <td>4</td>\n",
       "      <td>NaN</td>\n",
       "      <td>5</td>\n",
       "    </tr>\n",
       "    <tr>\n",
       "      <th>d</th>\n",
       "      <td>7</td>\n",
       "      <td>NaN</td>\n",
       "      <td>8</td>\n",
       "    </tr>\n",
       "  </tbody>\n",
       "</table>\n",
       "</div>"
      ],
      "text/plain": [
       "   Texas  Utah  California\n",
       "a      1   NaN           2\n",
       "c      4   NaN           5\n",
       "d      7   NaN           8"
      ]
     },
     "execution_count": 19,
     "metadata": {},
     "output_type": "execute_result"
    }
   ],
   "source": [
    "frame.reindex(states, axis=1) #same as above"
   ]
  },
  {
   "cell_type": "code",
   "execution_count": 20,
   "id": "d4fa478b",
   "metadata": {},
   "outputs": [
    {
     "data": {
      "text/html": [
       "<div>\n",
       "<style scoped>\n",
       "    .dataframe tbody tr th:only-of-type {\n",
       "        vertical-align: middle;\n",
       "    }\n",
       "\n",
       "    .dataframe tbody tr th {\n",
       "        vertical-align: top;\n",
       "    }\n",
       "\n",
       "    .dataframe thead th {\n",
       "        text-align: right;\n",
       "    }\n",
       "</style>\n",
       "<table border=\"1\" class=\"dataframe\">\n",
       "  <thead>\n",
       "    <tr style=\"text-align: right;\">\n",
       "      <th></th>\n",
       "      <th>Ohio</th>\n",
       "      <th>Texas</th>\n",
       "      <th>California</th>\n",
       "    </tr>\n",
       "  </thead>\n",
       "  <tbody>\n",
       "    <tr>\n",
       "      <th>a</th>\n",
       "      <td>0</td>\n",
       "      <td>1</td>\n",
       "      <td>2</td>\n",
       "    </tr>\n",
       "    <tr>\n",
       "      <th>d</th>\n",
       "      <td>6</td>\n",
       "      <td>7</td>\n",
       "      <td>8</td>\n",
       "    </tr>\n",
       "    <tr>\n",
       "      <th>c</th>\n",
       "      <td>3</td>\n",
       "      <td>4</td>\n",
       "      <td>5</td>\n",
       "    </tr>\n",
       "  </tbody>\n",
       "</table>\n",
       "</div>"
      ],
      "text/plain": [
       "   Ohio  Texas  California\n",
       "a     0      1           2\n",
       "d     6      7           8\n",
       "c     3      4           5"
      ]
     },
     "execution_count": 20,
     "metadata": {},
     "output_type": "execute_result"
    }
   ],
   "source": [
    "#We can reindex using the df.loc[] operator. The .loc operator cannot create new\n",
    "#rows or columns.\n",
    "frame.loc[['a', 'd', 'c']]"
   ]
  },
  {
   "cell_type": "code",
   "execution_count": 21,
   "id": "63d8c9d9",
   "metadata": {},
   "outputs": [
    {
     "data": {
      "text/html": [
       "<div>\n",
       "<style scoped>\n",
       "    .dataframe tbody tr th:only-of-type {\n",
       "        vertical-align: middle;\n",
       "    }\n",
       "\n",
       "    .dataframe tbody tr th {\n",
       "        vertical-align: top;\n",
       "    }\n",
       "\n",
       "    .dataframe thead th {\n",
       "        text-align: right;\n",
       "    }\n",
       "</style>\n",
       "<table border=\"1\" class=\"dataframe\">\n",
       "  <thead>\n",
       "    <tr style=\"text-align: right;\">\n",
       "      <th></th>\n",
       "      <th>California</th>\n",
       "      <th>Texas</th>\n",
       "    </tr>\n",
       "  </thead>\n",
       "  <tbody>\n",
       "    <tr>\n",
       "      <th>a</th>\n",
       "      <td>2</td>\n",
       "      <td>1</td>\n",
       "    </tr>\n",
       "    <tr>\n",
       "      <th>d</th>\n",
       "      <td>8</td>\n",
       "      <td>7</td>\n",
       "    </tr>\n",
       "    <tr>\n",
       "      <th>c</th>\n",
       "      <td>5</td>\n",
       "      <td>4</td>\n",
       "    </tr>\n",
       "  </tbody>\n",
       "</table>\n",
       "</div>"
      ],
      "text/plain": [
       "   California  Texas\n",
       "a           2      1\n",
       "d           8      7\n",
       "c           5      4"
      ]
     },
     "execution_count": 21,
     "metadata": {},
     "output_type": "execute_result"
    }
   ],
   "source": [
    "#We can reindex using the df.loc[] operator. The .loc operator cannot create new\n",
    "#rows or columns.\n",
    "frame.loc[['a', 'd', 'c'], ['California', 'Texas']]"
   ]
  },
  {
   "cell_type": "code",
   "execution_count": 22,
   "id": "d42e5aca",
   "metadata": {},
   "outputs": [
    {
     "data": {
      "text/plain": [
       "Ohio          0\n",
       "Texas         1\n",
       "California    2\n",
       "Name: a, dtype: int64"
      ]
     },
     "execution_count": 22,
     "metadata": {},
     "output_type": "execute_result"
    }
   ],
   "source": [
    "frame.loc['a']"
   ]
  },
  {
   "cell_type": "code",
   "execution_count": 23,
   "id": "76709f4a",
   "metadata": {},
   "outputs": [
    {
     "data": {
      "text/html": [
       "<div>\n",
       "<style scoped>\n",
       "    .dataframe tbody tr th:only-of-type {\n",
       "        vertical-align: middle;\n",
       "    }\n",
       "\n",
       "    .dataframe tbody tr th {\n",
       "        vertical-align: top;\n",
       "    }\n",
       "\n",
       "    .dataframe thead th {\n",
       "        text-align: right;\n",
       "    }\n",
       "</style>\n",
       "<table border=\"1\" class=\"dataframe\">\n",
       "  <thead>\n",
       "    <tr style=\"text-align: right;\">\n",
       "      <th></th>\n",
       "      <th>Ohio</th>\n",
       "      <th>Texas</th>\n",
       "      <th>California</th>\n",
       "    </tr>\n",
       "  </thead>\n",
       "  <tbody>\n",
       "    <tr>\n",
       "      <th>a</th>\n",
       "      <td>0</td>\n",
       "      <td>1</td>\n",
       "      <td>2</td>\n",
       "    </tr>\n",
       "    <tr>\n",
       "      <th>d</th>\n",
       "      <td>6</td>\n",
       "      <td>7</td>\n",
       "      <td>8</td>\n",
       "    </tr>\n",
       "  </tbody>\n",
       "</table>\n",
       "</div>"
      ],
      "text/plain": [
       "   Ohio  Texas  California\n",
       "a     0      1           2\n",
       "d     6      7           8"
      ]
     },
     "execution_count": 23,
     "metadata": {},
     "output_type": "execute_result"
    }
   ],
   "source": [
    "frame.loc[['a', 'd']]"
   ]
  },
  {
   "cell_type": "code",
   "execution_count": 24,
   "id": "0346f4a8",
   "metadata": {},
   "outputs": [
    {
     "data": {
      "text/html": [
       "<div>\n",
       "<style scoped>\n",
       "    .dataframe tbody tr th:only-of-type {\n",
       "        vertical-align: middle;\n",
       "    }\n",
       "\n",
       "    .dataframe tbody tr th {\n",
       "        vertical-align: top;\n",
       "    }\n",
       "\n",
       "    .dataframe thead th {\n",
       "        text-align: right;\n",
       "    }\n",
       "</style>\n",
       "<table border=\"1\" class=\"dataframe\">\n",
       "  <thead>\n",
       "    <tr style=\"text-align: right;\">\n",
       "      <th></th>\n",
       "      <th>Ohio</th>\n",
       "      <th>California</th>\n",
       "    </tr>\n",
       "  </thead>\n",
       "  <tbody>\n",
       "    <tr>\n",
       "      <th>a</th>\n",
       "      <td>0</td>\n",
       "      <td>2</td>\n",
       "    </tr>\n",
       "    <tr>\n",
       "      <th>d</th>\n",
       "      <td>6</td>\n",
       "      <td>8</td>\n",
       "    </tr>\n",
       "  </tbody>\n",
       "</table>\n",
       "</div>"
      ],
      "text/plain": [
       "   Ohio  California\n",
       "a     0           2\n",
       "d     6           8"
      ]
     },
     "execution_count": 24,
     "metadata": {},
     "output_type": "execute_result"
    }
   ],
   "source": [
    "frame.loc[['a', 'd'], ['Ohio', 'California']]"
   ]
  },
  {
   "cell_type": "code",
   "execution_count": 25,
   "id": "a46d388d",
   "metadata": {},
   "outputs": [
    {
     "data": {
      "text/plain": [
       "0    0.0\n",
       "1    1.0\n",
       "2    2.0\n",
       "3    3.0\n",
       "4    4.0\n",
       "dtype: float64"
      ]
     },
     "execution_count": 25,
     "metadata": {},
     "output_type": "execute_result"
    }
   ],
   "source": [
    "#dropping entries from axis\n",
    "#we can use df.drop() to drop entries from an axis without needing to use reindex or .loc\n",
    "obj = pd.Series(np.arange(5.))\n",
    "obj"
   ]
  },
  {
   "cell_type": "code",
   "execution_count": 26,
   "id": "d12407f3-089d-4477-b1cb-ae4307c53825",
   "metadata": {},
   "outputs": [
    {
     "data": {
      "text/plain": [
       "a    0.0\n",
       "b    1.0\n",
       "c    2.0\n",
       "d    3.0\n",
       "e    4.0\n",
       "dtype: float64"
      ]
     },
     "execution_count": 26,
     "metadata": {},
     "output_type": "execute_result"
    }
   ],
   "source": [
    "obj = pd.Series(np.arange(5.), index=['a', 'b', 'c', 'd', 'e'])\n",
    "obj"
   ]
  },
  {
   "cell_type": "code",
   "execution_count": 27,
   "id": "16efdb9b-1a8a-40bc-a280-443a194835c2",
   "metadata": {},
   "outputs": [
    {
     "data": {
      "text/plain": [
       "a    0.0\n",
       "b    1.0\n",
       "d    3.0\n",
       "e    4.0\n",
       "dtype: float64"
      ]
     },
     "execution_count": 27,
     "metadata": {},
     "output_type": "execute_result"
    }
   ],
   "source": [
    "new_obj = obj.drop('c')\n",
    "new_obj"
   ]
  },
  {
   "cell_type": "code",
   "execution_count": 28,
   "id": "9017993a-1ddc-4704-b915-1ac5678649e5",
   "metadata": {},
   "outputs": [
    {
     "data": {
      "text/plain": [
       "a    0.0\n",
       "b    1.0\n",
       "e    4.0\n",
       "dtype: float64"
      ]
     },
     "execution_count": 28,
     "metadata": {},
     "output_type": "execute_result"
    }
   ],
   "source": [
    "obj.drop(['d', 'c'])"
   ]
  },
  {
   "cell_type": "code",
   "execution_count": 29,
   "id": "3ccbe2aa-18e1-49cb-8d49-e3c8ab31434d",
   "metadata": {},
   "outputs": [
    {
     "data": {
      "text/plain": [
       "array([ 0,  1,  2,  3,  4,  5,  6,  7,  8,  9, 10, 11, 12, 13, 14, 15])"
      ]
     },
     "execution_count": 29,
     "metadata": {},
     "output_type": "execute_result"
    }
   ],
   "source": [
    "#DataFrame indexes: we can delete a value from either axis\n",
    "np.arange(16) #1d numpy array 16x1"
   ]
  },
  {
   "cell_type": "code",
   "execution_count": 30,
   "id": "7aacf87e-b2db-4cc2-929e-17362c4d3c64",
   "metadata": {},
   "outputs": [
    {
     "data": {
      "text/plain": [
       "array([[ 0,  1,  2,  3],\n",
       "       [ 4,  5,  6,  7],\n",
       "       [ 8,  9, 10, 11],\n",
       "       [12, 13, 14, 15]])"
      ]
     },
     "execution_count": 30,
     "metadata": {},
     "output_type": "execute_result"
    }
   ],
   "source": [
    "#DataFrame indexes: we can delete a value from either axis\n",
    "np.arange(16).reshape((4, 4)) #two dimensional numpy array 4x4"
   ]
  },
  {
   "cell_type": "code",
   "execution_count": 31,
   "id": "bb877188-1d5c-4404-9d8c-b33d1080acf9",
   "metadata": {},
   "outputs": [
    {
     "data": {
      "text/html": [
       "<div>\n",
       "<style scoped>\n",
       "    .dataframe tbody tr th:only-of-type {\n",
       "        vertical-align: middle;\n",
       "    }\n",
       "\n",
       "    .dataframe tbody tr th {\n",
       "        vertical-align: top;\n",
       "    }\n",
       "\n",
       "    .dataframe thead th {\n",
       "        text-align: right;\n",
       "    }\n",
       "</style>\n",
       "<table border=\"1\" class=\"dataframe\">\n",
       "  <thead>\n",
       "    <tr style=\"text-align: right;\">\n",
       "      <th></th>\n",
       "      <th>0</th>\n",
       "      <th>1</th>\n",
       "      <th>2</th>\n",
       "      <th>3</th>\n",
       "    </tr>\n",
       "  </thead>\n",
       "  <tbody>\n",
       "    <tr>\n",
       "      <th>0</th>\n",
       "      <td>0</td>\n",
       "      <td>1</td>\n",
       "      <td>2</td>\n",
       "      <td>3</td>\n",
       "    </tr>\n",
       "    <tr>\n",
       "      <th>1</th>\n",
       "      <td>4</td>\n",
       "      <td>5</td>\n",
       "      <td>6</td>\n",
       "      <td>7</td>\n",
       "    </tr>\n",
       "    <tr>\n",
       "      <th>2</th>\n",
       "      <td>8</td>\n",
       "      <td>9</td>\n",
       "      <td>10</td>\n",
       "      <td>11</td>\n",
       "    </tr>\n",
       "    <tr>\n",
       "      <th>3</th>\n",
       "      <td>12</td>\n",
       "      <td>13</td>\n",
       "      <td>14</td>\n",
       "      <td>15</td>\n",
       "    </tr>\n",
       "  </tbody>\n",
       "</table>\n",
       "</div>"
      ],
      "text/plain": [
       "    0   1   2   3\n",
       "0   0   1   2   3\n",
       "1   4   5   6   7\n",
       "2   8   9  10  11\n",
       "3  12  13  14  15"
      ]
     },
     "execution_count": 31,
     "metadata": {},
     "output_type": "execute_result"
    }
   ],
   "source": [
    "#DataFrame indexes: we can delete a value from either axis\n",
    "pd.DataFrame(np.arange(16).reshape((4, 4))) #Pandas DataFrame with default indices"
   ]
  },
  {
   "cell_type": "code",
   "execution_count": 32,
   "id": "be58ac8b-1907-417f-8a40-f03d784af742",
   "metadata": {},
   "outputs": [
    {
     "data": {
      "text/html": [
       "<div>\n",
       "<style scoped>\n",
       "    .dataframe tbody tr th:only-of-type {\n",
       "        vertical-align: middle;\n",
       "    }\n",
       "\n",
       "    .dataframe tbody tr th {\n",
       "        vertical-align: top;\n",
       "    }\n",
       "\n",
       "    .dataframe thead th {\n",
       "        text-align: right;\n",
       "    }\n",
       "</style>\n",
       "<table border=\"1\" class=\"dataframe\">\n",
       "  <thead>\n",
       "    <tr style=\"text-align: right;\">\n",
       "      <th></th>\n",
       "      <th>one</th>\n",
       "      <th>two</th>\n",
       "      <th>three</th>\n",
       "      <th>four</th>\n",
       "    </tr>\n",
       "  </thead>\n",
       "  <tbody>\n",
       "    <tr>\n",
       "      <th>0</th>\n",
       "      <td>0</td>\n",
       "      <td>1</td>\n",
       "      <td>2</td>\n",
       "      <td>3</td>\n",
       "    </tr>\n",
       "    <tr>\n",
       "      <th>1</th>\n",
       "      <td>4</td>\n",
       "      <td>5</td>\n",
       "      <td>6</td>\n",
       "      <td>7</td>\n",
       "    </tr>\n",
       "    <tr>\n",
       "      <th>2</th>\n",
       "      <td>8</td>\n",
       "      <td>9</td>\n",
       "      <td>10</td>\n",
       "      <td>11</td>\n",
       "    </tr>\n",
       "    <tr>\n",
       "      <th>3</th>\n",
       "      <td>12</td>\n",
       "      <td>13</td>\n",
       "      <td>14</td>\n",
       "      <td>15</td>\n",
       "    </tr>\n",
       "  </tbody>\n",
       "</table>\n",
       "</div>"
      ],
      "text/plain": [
       "   one  two  three  four\n",
       "0    0    1      2     3\n",
       "1    4    5      6     7\n",
       "2    8    9     10    11\n",
       "3   12   13     14    15"
      ]
     },
     "execution_count": 32,
     "metadata": {},
     "output_type": "execute_result"
    }
   ],
   "source": [
    "#DataFrame indexes: we can delete a value from either axis\n",
    "pd.DataFrame(np.arange(16).reshape((4, 4)),\n",
    "            columns=['one', 'two', 'three', 'four']) #Columns"
   ]
  },
  {
   "cell_type": "code",
   "execution_count": 33,
   "id": "75530e5d-a875-4b9d-8465-4d2426865995",
   "metadata": {},
   "outputs": [
    {
     "data": {
      "text/html": [
       "<div>\n",
       "<style scoped>\n",
       "    .dataframe tbody tr th:only-of-type {\n",
       "        vertical-align: middle;\n",
       "    }\n",
       "\n",
       "    .dataframe tbody tr th {\n",
       "        vertical-align: top;\n",
       "    }\n",
       "\n",
       "    .dataframe thead th {\n",
       "        text-align: right;\n",
       "    }\n",
       "</style>\n",
       "<table border=\"1\" class=\"dataframe\">\n",
       "  <thead>\n",
       "    <tr style=\"text-align: right;\">\n",
       "      <th></th>\n",
       "      <th>0</th>\n",
       "      <th>1</th>\n",
       "      <th>2</th>\n",
       "      <th>3</th>\n",
       "    </tr>\n",
       "  </thead>\n",
       "  <tbody>\n",
       "    <tr>\n",
       "      <th>Ohio</th>\n",
       "      <td>0</td>\n",
       "      <td>1</td>\n",
       "      <td>2</td>\n",
       "      <td>3</td>\n",
       "    </tr>\n",
       "    <tr>\n",
       "      <th>Colorado</th>\n",
       "      <td>4</td>\n",
       "      <td>5</td>\n",
       "      <td>6</td>\n",
       "      <td>7</td>\n",
       "    </tr>\n",
       "    <tr>\n",
       "      <th>Utah</th>\n",
       "      <td>8</td>\n",
       "      <td>9</td>\n",
       "      <td>10</td>\n",
       "      <td>11</td>\n",
       "    </tr>\n",
       "    <tr>\n",
       "      <th>New York</th>\n",
       "      <td>12</td>\n",
       "      <td>13</td>\n",
       "      <td>14</td>\n",
       "      <td>15</td>\n",
       "    </tr>\n",
       "  </tbody>\n",
       "</table>\n",
       "</div>"
      ],
      "text/plain": [
       "           0   1   2   3\n",
       "Ohio       0   1   2   3\n",
       "Colorado   4   5   6   7\n",
       "Utah       8   9  10  11\n",
       "New York  12  13  14  15"
      ]
     },
     "execution_count": 33,
     "metadata": {},
     "output_type": "execute_result"
    }
   ],
   "source": [
    "#DataFrame indexes: we can delete a value from either axis\n",
    "pd.DataFrame(np.arange(16).reshape((4, 4)),\n",
    "            index=['Ohio', 'Colorado', 'Utah', 'New York']) #Columns"
   ]
  },
  {
   "cell_type": "code",
   "execution_count": 34,
   "id": "a7bd40c4-532b-41ad-95c7-d95ca86a0e0c",
   "metadata": {},
   "outputs": [
    {
     "data": {
      "text/html": [
       "<div>\n",
       "<style scoped>\n",
       "    .dataframe tbody tr th:only-of-type {\n",
       "        vertical-align: middle;\n",
       "    }\n",
       "\n",
       "    .dataframe tbody tr th {\n",
       "        vertical-align: top;\n",
       "    }\n",
       "\n",
       "    .dataframe thead th {\n",
       "        text-align: right;\n",
       "    }\n",
       "</style>\n",
       "<table border=\"1\" class=\"dataframe\">\n",
       "  <thead>\n",
       "    <tr style=\"text-align: right;\">\n",
       "      <th></th>\n",
       "      <th>one</th>\n",
       "      <th>two</th>\n",
       "      <th>three</th>\n",
       "      <th>four</th>\n",
       "    </tr>\n",
       "  </thead>\n",
       "  <tbody>\n",
       "    <tr>\n",
       "      <th>Ohio</th>\n",
       "      <td>0</td>\n",
       "      <td>1</td>\n",
       "      <td>2</td>\n",
       "      <td>3</td>\n",
       "    </tr>\n",
       "    <tr>\n",
       "      <th>Colorado</th>\n",
       "      <td>4</td>\n",
       "      <td>5</td>\n",
       "      <td>6</td>\n",
       "      <td>7</td>\n",
       "    </tr>\n",
       "    <tr>\n",
       "      <th>Utah</th>\n",
       "      <td>8</td>\n",
       "      <td>9</td>\n",
       "      <td>10</td>\n",
       "      <td>11</td>\n",
       "    </tr>\n",
       "    <tr>\n",
       "      <th>New York</th>\n",
       "      <td>12</td>\n",
       "      <td>13</td>\n",
       "      <td>14</td>\n",
       "      <td>15</td>\n",
       "    </tr>\n",
       "  </tbody>\n",
       "</table>\n",
       "</div>"
      ],
      "text/plain": [
       "          one  two  three  four\n",
       "Ohio        0    1      2     3\n",
       "Colorado    4    5      6     7\n",
       "Utah        8    9     10    11\n",
       "New York   12   13     14    15"
      ]
     },
     "execution_count": 34,
     "metadata": {},
     "output_type": "execute_result"
    }
   ],
   "source": [
    "#DataFrame indexes: we can delete a value from either axis\n",
    "pd.DataFrame(np.arange(16).reshape((4, 4)),\n",
    "             columns=['one', 'two', 'three', 'four'],\n",
    "            index=['Ohio', 'Colorado', 'Utah', 'New York']) #Columns"
   ]
  },
  {
   "cell_type": "code",
   "execution_count": 35,
   "id": "df550b1f-56df-4892-8d5a-0c2b4fb3fe4b",
   "metadata": {},
   "outputs": [],
   "source": [
    "#DataFrame indexes: we can delete a value from either axis\n",
    "data = pd.DataFrame(np.arange(16).reshape((4, 4)),\n",
    "             columns=['one', 'two', 'three', 'four'],\n",
    "            index=['Ohio', 'Colorado', 'Utah', 'New York']) #Columns"
   ]
  },
  {
   "cell_type": "code",
   "execution_count": 36,
   "id": "55ef503e-9799-47a9-b753-fa7eced5d7c3",
   "metadata": {},
   "outputs": [
    {
     "data": {
      "text/html": [
       "<div>\n",
       "<style scoped>\n",
       "    .dataframe tbody tr th:only-of-type {\n",
       "        vertical-align: middle;\n",
       "    }\n",
       "\n",
       "    .dataframe tbody tr th {\n",
       "        vertical-align: top;\n",
       "    }\n",
       "\n",
       "    .dataframe thead th {\n",
       "        text-align: right;\n",
       "    }\n",
       "</style>\n",
       "<table border=\"1\" class=\"dataframe\">\n",
       "  <thead>\n",
       "    <tr style=\"text-align: right;\">\n",
       "      <th></th>\n",
       "      <th>one</th>\n",
       "      <th>two</th>\n",
       "      <th>three</th>\n",
       "      <th>four</th>\n",
       "    </tr>\n",
       "  </thead>\n",
       "  <tbody>\n",
       "    <tr>\n",
       "      <th>Ohio</th>\n",
       "      <td>0</td>\n",
       "      <td>1</td>\n",
       "      <td>2</td>\n",
       "      <td>3</td>\n",
       "    </tr>\n",
       "    <tr>\n",
       "      <th>Colorado</th>\n",
       "      <td>4</td>\n",
       "      <td>5</td>\n",
       "      <td>6</td>\n",
       "      <td>7</td>\n",
       "    </tr>\n",
       "    <tr>\n",
       "      <th>Utah</th>\n",
       "      <td>8</td>\n",
       "      <td>9</td>\n",
       "      <td>10</td>\n",
       "      <td>11</td>\n",
       "    </tr>\n",
       "    <tr>\n",
       "      <th>New York</th>\n",
       "      <td>12</td>\n",
       "      <td>13</td>\n",
       "      <td>14</td>\n",
       "      <td>15</td>\n",
       "    </tr>\n",
       "  </tbody>\n",
       "</table>\n",
       "</div>"
      ],
      "text/plain": [
       "          one  two  three  four\n",
       "Ohio        0    1      2     3\n",
       "Colorado    4    5      6     7\n",
       "Utah        8    9     10    11\n",
       "New York   12   13     14    15"
      ]
     },
     "execution_count": 36,
     "metadata": {},
     "output_type": "execute_result"
    }
   ],
   "source": [
    "data"
   ]
  },
  {
   "cell_type": "code",
   "execution_count": 37,
   "id": "908000f3-073c-4e33-81a2-26a081b21518",
   "metadata": {},
   "outputs": [
    {
     "data": {
      "text/plain": [
       "Ohio         1\n",
       "Colorado     5\n",
       "Utah         9\n",
       "New York    13\n",
       "Name: two, dtype: int64"
      ]
     },
     "execution_count": 37,
     "metadata": {},
     "output_type": "execute_result"
    }
   ],
   "source": [
    "data['two']"
   ]
  },
  {
   "cell_type": "code",
   "execution_count": 38,
   "id": "5c80e597-014f-472f-a13a-93f045d8771e",
   "metadata": {},
   "outputs": [
    {
     "data": {
      "text/html": [
       "<div>\n",
       "<style scoped>\n",
       "    .dataframe tbody tr th:only-of-type {\n",
       "        vertical-align: middle;\n",
       "    }\n",
       "\n",
       "    .dataframe tbody tr th {\n",
       "        vertical-align: top;\n",
       "    }\n",
       "\n",
       "    .dataframe thead th {\n",
       "        text-align: right;\n",
       "    }\n",
       "</style>\n",
       "<table border=\"1\" class=\"dataframe\">\n",
       "  <thead>\n",
       "    <tr style=\"text-align: right;\">\n",
       "      <th></th>\n",
       "      <th>three</th>\n",
       "      <th>one</th>\n",
       "    </tr>\n",
       "  </thead>\n",
       "  <tbody>\n",
       "    <tr>\n",
       "      <th>Ohio</th>\n",
       "      <td>2</td>\n",
       "      <td>0</td>\n",
       "    </tr>\n",
       "    <tr>\n",
       "      <th>Colorado</th>\n",
       "      <td>6</td>\n",
       "      <td>4</td>\n",
       "    </tr>\n",
       "    <tr>\n",
       "      <th>Utah</th>\n",
       "      <td>10</td>\n",
       "      <td>8</td>\n",
       "    </tr>\n",
       "    <tr>\n",
       "      <th>New York</th>\n",
       "      <td>14</td>\n",
       "      <td>12</td>\n",
       "    </tr>\n",
       "  </tbody>\n",
       "</table>\n",
       "</div>"
      ],
      "text/plain": [
       "          three  one\n",
       "Ohio          2    0\n",
       "Colorado      6    4\n",
       "Utah         10    8\n",
       "New York     14   12"
      ]
     },
     "execution_count": 38,
     "metadata": {},
     "output_type": "execute_result"
    }
   ],
   "source": [
    "data[['three', 'one']]"
   ]
  },
  {
   "cell_type": "code",
   "execution_count": 39,
   "id": "31ea48b7-12fa-44cf-9f88-2f69787a1eb0",
   "metadata": {},
   "outputs": [
    {
     "data": {
      "text/html": [
       "<div>\n",
       "<style scoped>\n",
       "    .dataframe tbody tr th:only-of-type {\n",
       "        vertical-align: middle;\n",
       "    }\n",
       "\n",
       "    .dataframe tbody tr th {\n",
       "        vertical-align: top;\n",
       "    }\n",
       "\n",
       "    .dataframe thead th {\n",
       "        text-align: right;\n",
       "    }\n",
       "</style>\n",
       "<table border=\"1\" class=\"dataframe\">\n",
       "  <thead>\n",
       "    <tr style=\"text-align: right;\">\n",
       "      <th></th>\n",
       "      <th>two</th>\n",
       "      <th>one</th>\n",
       "    </tr>\n",
       "  </thead>\n",
       "  <tbody>\n",
       "    <tr>\n",
       "      <th>Ohio</th>\n",
       "      <td>1</td>\n",
       "      <td>0</td>\n",
       "    </tr>\n",
       "    <tr>\n",
       "      <th>Colorado</th>\n",
       "      <td>5</td>\n",
       "      <td>4</td>\n",
       "    </tr>\n",
       "    <tr>\n",
       "      <th>Utah</th>\n",
       "      <td>9</td>\n",
       "      <td>8</td>\n",
       "    </tr>\n",
       "    <tr>\n",
       "      <th>New York</th>\n",
       "      <td>13</td>\n",
       "      <td>12</td>\n",
       "    </tr>\n",
       "  </tbody>\n",
       "</table>\n",
       "</div>"
      ],
      "text/plain": [
       "          two  one\n",
       "Ohio        1    0\n",
       "Colorado    5    4\n",
       "Utah        9    8\n",
       "New York   13   12"
      ]
     },
     "execution_count": 39,
     "metadata": {},
     "output_type": "execute_result"
    }
   ],
   "source": [
    "data[['two', 'one']]"
   ]
  },
  {
   "cell_type": "code",
   "execution_count": 40,
   "id": "be6eed85-5702-4258-99a5-de57ddec401a",
   "metadata": {},
   "outputs": [
    {
     "data": {
      "text/html": [
       "<div>\n",
       "<style scoped>\n",
       "    .dataframe tbody tr th:only-of-type {\n",
       "        vertical-align: middle;\n",
       "    }\n",
       "\n",
       "    .dataframe tbody tr th {\n",
       "        vertical-align: top;\n",
       "    }\n",
       "\n",
       "    .dataframe thead th {\n",
       "        text-align: right;\n",
       "    }\n",
       "</style>\n",
       "<table border=\"1\" class=\"dataframe\">\n",
       "  <thead>\n",
       "    <tr style=\"text-align: right;\">\n",
       "      <th></th>\n",
       "      <th>three</th>\n",
       "      <th>two</th>\n",
       "    </tr>\n",
       "  </thead>\n",
       "  <tbody>\n",
       "    <tr>\n",
       "      <th>Ohio</th>\n",
       "      <td>2</td>\n",
       "      <td>1</td>\n",
       "    </tr>\n",
       "    <tr>\n",
       "      <th>Colorado</th>\n",
       "      <td>6</td>\n",
       "      <td>5</td>\n",
       "    </tr>\n",
       "    <tr>\n",
       "      <th>Utah</th>\n",
       "      <td>10</td>\n",
       "      <td>9</td>\n",
       "    </tr>\n",
       "    <tr>\n",
       "      <th>New York</th>\n",
       "      <td>14</td>\n",
       "      <td>13</td>\n",
       "    </tr>\n",
       "  </tbody>\n",
       "</table>\n",
       "</div>"
      ],
      "text/plain": [
       "          three  two\n",
       "Ohio          2    1\n",
       "Colorado      6    5\n",
       "Utah         10    9\n",
       "New York     14   13"
      ]
     },
     "execution_count": 40,
     "metadata": {},
     "output_type": "execute_result"
    }
   ],
   "source": [
    "data[['three', 'two']]"
   ]
  },
  {
   "cell_type": "code",
   "execution_count": 41,
   "id": "edc3c96b-4cc2-4949-8cc7-c6b5deaf149b",
   "metadata": {},
   "outputs": [
    {
     "data": {
      "text/html": [
       "<div>\n",
       "<style scoped>\n",
       "    .dataframe tbody tr th:only-of-type {\n",
       "        vertical-align: middle;\n",
       "    }\n",
       "\n",
       "    .dataframe tbody tr th {\n",
       "        vertical-align: top;\n",
       "    }\n",
       "\n",
       "    .dataframe thead th {\n",
       "        text-align: right;\n",
       "    }\n",
       "</style>\n",
       "<table border=\"1\" class=\"dataframe\">\n",
       "  <thead>\n",
       "    <tr style=\"text-align: right;\">\n",
       "      <th></th>\n",
       "      <th>one</th>\n",
       "      <th>two</th>\n",
       "      <th>three</th>\n",
       "      <th>four</th>\n",
       "    </tr>\n",
       "  </thead>\n",
       "  <tbody>\n",
       "    <tr>\n",
       "      <th>Ohio</th>\n",
       "      <td>0</td>\n",
       "      <td>1</td>\n",
       "      <td>2</td>\n",
       "      <td>3</td>\n",
       "    </tr>\n",
       "    <tr>\n",
       "      <th>Colorado</th>\n",
       "      <td>4</td>\n",
       "      <td>5</td>\n",
       "      <td>6</td>\n",
       "      <td>7</td>\n",
       "    </tr>\n",
       "  </tbody>\n",
       "</table>\n",
       "</div>"
      ],
      "text/plain": [
       "          one  two  three  four\n",
       "Ohio        0    1      2     3\n",
       "Colorado    4    5      6     7"
      ]
     },
     "execution_count": 41,
     "metadata": {},
     "output_type": "execute_result"
    }
   ],
   "source": [
    "data[:2]"
   ]
  },
  {
   "cell_type": "code",
   "execution_count": 42,
   "id": "0435a729-06a2-434f-a53f-9513a13cc471",
   "metadata": {},
   "outputs": [
    {
     "data": {
      "text/html": [
       "<div>\n",
       "<style scoped>\n",
       "    .dataframe tbody tr th:only-of-type {\n",
       "        vertical-align: middle;\n",
       "    }\n",
       "\n",
       "    .dataframe tbody tr th {\n",
       "        vertical-align: top;\n",
       "    }\n",
       "\n",
       "    .dataframe thead th {\n",
       "        text-align: right;\n",
       "    }\n",
       "</style>\n",
       "<table border=\"1\" class=\"dataframe\">\n",
       "  <thead>\n",
       "    <tr style=\"text-align: right;\">\n",
       "      <th></th>\n",
       "      <th>four</th>\n",
       "    </tr>\n",
       "  </thead>\n",
       "  <tbody>\n",
       "    <tr>\n",
       "      <th>Colorado</th>\n",
       "      <td>7</td>\n",
       "    </tr>\n",
       "  </tbody>\n",
       "</table>\n",
       "</div>"
      ],
      "text/plain": [
       "          four\n",
       "Colorado     7"
      ]
     },
     "execution_count": 42,
     "metadata": {},
     "output_type": "execute_result"
    }
   ],
   "source": [
    "data.loc[['Colorado'], ['four']] #works with .loc"
   ]
  },
  {
   "cell_type": "code",
   "execution_count": 43,
   "id": "e712070b-a6cd-4053-b31a-570ab775baaa",
   "metadata": {},
   "outputs": [
    {
     "name": "stdout",
     "output_type": "stream",
     "text": [
      "(['Colorado'], ['four'])\n"
     ]
    }
   ],
   "source": [
    "try:\n",
    "    data[['Colorado'], ['four']] #doesn't work\n",
    "except Exception as e:\n",
    "    print(e)"
   ]
  },
  {
   "cell_type": "code",
   "execution_count": 44,
   "id": "d92e9946-f174-442f-90d4-4833af80fd22",
   "metadata": {},
   "outputs": [
    {
     "data": {
      "text/html": [
       "<div>\n",
       "<style scoped>\n",
       "    .dataframe tbody tr th:only-of-type {\n",
       "        vertical-align: middle;\n",
       "    }\n",
       "\n",
       "    .dataframe tbody tr th {\n",
       "        vertical-align: top;\n",
       "    }\n",
       "\n",
       "    .dataframe thead th {\n",
       "        text-align: right;\n",
       "    }\n",
       "</style>\n",
       "<table border=\"1\" class=\"dataframe\">\n",
       "  <thead>\n",
       "    <tr style=\"text-align: right;\">\n",
       "      <th></th>\n",
       "      <th>one</th>\n",
       "      <th>two</th>\n",
       "      <th>three</th>\n",
       "      <th>four</th>\n",
       "    </tr>\n",
       "  </thead>\n",
       "  <tbody>\n",
       "    <tr>\n",
       "      <th>Ohio</th>\n",
       "      <td>0</td>\n",
       "      <td>1</td>\n",
       "      <td>2</td>\n",
       "      <td>3</td>\n",
       "    </tr>\n",
       "    <tr>\n",
       "      <th>Colorado</th>\n",
       "      <td>4</td>\n",
       "      <td>5</td>\n",
       "      <td>6</td>\n",
       "      <td>7</td>\n",
       "    </tr>\n",
       "  </tbody>\n",
       "</table>\n",
       "</div>"
      ],
      "text/plain": [
       "          one  two  three  four\n",
       "Ohio        0    1      2     3\n",
       "Colorado    4    5      6     7"
      ]
     },
     "execution_count": 44,
     "metadata": {},
     "output_type": "execute_result"
    }
   ],
   "source": [
    "data[:2]"
   ]
  },
  {
   "cell_type": "code",
   "execution_count": 45,
   "id": "0e86a7c8-2756-4521-be49-36c12b32c7a9",
   "metadata": {},
   "outputs": [
    {
     "data": {
      "text/html": [
       "<div>\n",
       "<style scoped>\n",
       "    .dataframe tbody tr th:only-of-type {\n",
       "        vertical-align: middle;\n",
       "    }\n",
       "\n",
       "    .dataframe tbody tr th {\n",
       "        vertical-align: top;\n",
       "    }\n",
       "\n",
       "    .dataframe thead th {\n",
       "        text-align: right;\n",
       "    }\n",
       "</style>\n",
       "<table border=\"1\" class=\"dataframe\">\n",
       "  <thead>\n",
       "    <tr style=\"text-align: right;\">\n",
       "      <th></th>\n",
       "      <th>one</th>\n",
       "      <th>two</th>\n",
       "      <th>three</th>\n",
       "      <th>four</th>\n",
       "    </tr>\n",
       "  </thead>\n",
       "  <tbody>\n",
       "    <tr>\n",
       "      <th>Colorado</th>\n",
       "      <td>4</td>\n",
       "      <td>5</td>\n",
       "      <td>6</td>\n",
       "      <td>7</td>\n",
       "    </tr>\n",
       "    <tr>\n",
       "      <th>Utah</th>\n",
       "      <td>8</td>\n",
       "      <td>9</td>\n",
       "      <td>10</td>\n",
       "      <td>11</td>\n",
       "    </tr>\n",
       "  </tbody>\n",
       "</table>\n",
       "</div>"
      ],
      "text/plain": [
       "          one  two  three  four\n",
       "Colorado    4    5      6     7\n",
       "Utah        8    9     10    11"
      ]
     },
     "execution_count": 45,
     "metadata": {},
     "output_type": "execute_result"
    }
   ],
   "source": [
    "data[1:3] #row selection syntax is a convenience"
   ]
  },
  {
   "cell_type": "code",
   "execution_count": 46,
   "id": "80c30ef7-4c7f-48e7-96e4-c2356117212f",
   "metadata": {},
   "outputs": [
    {
     "data": {
      "text/html": [
       "<div>\n",
       "<style scoped>\n",
       "    .dataframe tbody tr th:only-of-type {\n",
       "        vertical-align: middle;\n",
       "    }\n",
       "\n",
       "    .dataframe tbody tr th {\n",
       "        vertical-align: top;\n",
       "    }\n",
       "\n",
       "    .dataframe thead th {\n",
       "        text-align: right;\n",
       "    }\n",
       "</style>\n",
       "<table border=\"1\" class=\"dataframe\">\n",
       "  <thead>\n",
       "    <tr style=\"text-align: right;\">\n",
       "      <th></th>\n",
       "      <th>one</th>\n",
       "      <th>two</th>\n",
       "      <th>three</th>\n",
       "      <th>four</th>\n",
       "    </tr>\n",
       "  </thead>\n",
       "  <tbody>\n",
       "    <tr>\n",
       "      <th>Colorado</th>\n",
       "      <td>4</td>\n",
       "      <td>5</td>\n",
       "      <td>6</td>\n",
       "      <td>7</td>\n",
       "    </tr>\n",
       "    <tr>\n",
       "      <th>Utah</th>\n",
       "      <td>8</td>\n",
       "      <td>9</td>\n",
       "      <td>10</td>\n",
       "      <td>11</td>\n",
       "    </tr>\n",
       "    <tr>\n",
       "      <th>New York</th>\n",
       "      <td>12</td>\n",
       "      <td>13</td>\n",
       "      <td>14</td>\n",
       "      <td>15</td>\n",
       "    </tr>\n",
       "  </tbody>\n",
       "</table>\n",
       "</div>"
      ],
      "text/plain": [
       "          one  two  three  four\n",
       "Colorado    4    5      6     7\n",
       "Utah        8    9     10    11\n",
       "New York   12   13     14    15"
      ]
     },
     "execution_count": 46,
     "metadata": {},
     "output_type": "execute_result"
    }
   ],
   "source": [
    "data[data[\"three\"] > 5]"
   ]
  },
  {
   "cell_type": "code",
   "execution_count": 47,
   "id": "bbad5558-ec21-4568-9a95-1aaf332dde82",
   "metadata": {},
   "outputs": [],
   "source": [
    "data2 = data.copy()\n",
    "data3 = data2.reset_index()"
   ]
  },
  {
   "cell_type": "code",
   "execution_count": 48,
   "id": "9d04f783-936d-4f13-ab35-6f45b1b31061",
   "metadata": {},
   "outputs": [
    {
     "data": {
      "text/html": [
       "<div>\n",
       "<style scoped>\n",
       "    .dataframe tbody tr th:only-of-type {\n",
       "        vertical-align: middle;\n",
       "    }\n",
       "\n",
       "    .dataframe tbody tr th {\n",
       "        vertical-align: top;\n",
       "    }\n",
       "\n",
       "    .dataframe thead th {\n",
       "        text-align: right;\n",
       "    }\n",
       "</style>\n",
       "<table border=\"1\" class=\"dataframe\">\n",
       "  <thead>\n",
       "    <tr style=\"text-align: right;\">\n",
       "      <th></th>\n",
       "      <th>state</th>\n",
       "      <th>one</th>\n",
       "      <th>two</th>\n",
       "      <th>three</th>\n",
       "      <th>four</th>\n",
       "    </tr>\n",
       "  </thead>\n",
       "  <tbody>\n",
       "    <tr>\n",
       "      <th>0</th>\n",
       "      <td>Ohio</td>\n",
       "      <td>0</td>\n",
       "      <td>1</td>\n",
       "      <td>2</td>\n",
       "      <td>3</td>\n",
       "    </tr>\n",
       "    <tr>\n",
       "      <th>1</th>\n",
       "      <td>Colorado</td>\n",
       "      <td>4</td>\n",
       "      <td>5</td>\n",
       "      <td>6</td>\n",
       "      <td>7</td>\n",
       "    </tr>\n",
       "    <tr>\n",
       "      <th>2</th>\n",
       "      <td>Utah</td>\n",
       "      <td>8</td>\n",
       "      <td>9</td>\n",
       "      <td>10</td>\n",
       "      <td>11</td>\n",
       "    </tr>\n",
       "    <tr>\n",
       "      <th>3</th>\n",
       "      <td>New York</td>\n",
       "      <td>12</td>\n",
       "      <td>13</td>\n",
       "      <td>14</td>\n",
       "      <td>15</td>\n",
       "    </tr>\n",
       "  </tbody>\n",
       "</table>\n",
       "</div>"
      ],
      "text/plain": [
       "      state  one  two  three  four\n",
       "0      Ohio    0    1      2     3\n",
       "1  Colorado    4    5      6     7\n",
       "2      Utah    8    9     10    11\n",
       "3  New York   12   13     14    15"
      ]
     },
     "execution_count": 48,
     "metadata": {},
     "output_type": "execute_result"
    }
   ],
   "source": [
    "data3.rename(columns={'index': 'state'})"
   ]
  },
  {
   "cell_type": "code",
   "execution_count": 49,
   "id": "c54cef6b-b8b5-455f-97b4-62586ac0558b",
   "metadata": {},
   "outputs": [
    {
     "data": {
      "text/html": [
       "<div>\n",
       "<style scoped>\n",
       "    .dataframe tbody tr th:only-of-type {\n",
       "        vertical-align: middle;\n",
       "    }\n",
       "\n",
       "    .dataframe tbody tr th {\n",
       "        vertical-align: top;\n",
       "    }\n",
       "\n",
       "    .dataframe thead th {\n",
       "        text-align: right;\n",
       "    }\n",
       "</style>\n",
       "<table border=\"1\" class=\"dataframe\">\n",
       "  <thead>\n",
       "    <tr style=\"text-align: right;\">\n",
       "      <th></th>\n",
       "      <th>one</th>\n",
       "      <th>two</th>\n",
       "      <th>three</th>\n",
       "      <th>four</th>\n",
       "    </tr>\n",
       "  </thead>\n",
       "  <tbody>\n",
       "    <tr>\n",
       "      <th>Ohio</th>\n",
       "      <td>True</td>\n",
       "      <td>True</td>\n",
       "      <td>True</td>\n",
       "      <td>True</td>\n",
       "    </tr>\n",
       "    <tr>\n",
       "      <th>Colorado</th>\n",
       "      <td>True</td>\n",
       "      <td>False</td>\n",
       "      <td>False</td>\n",
       "      <td>False</td>\n",
       "    </tr>\n",
       "    <tr>\n",
       "      <th>Utah</th>\n",
       "      <td>False</td>\n",
       "      <td>False</td>\n",
       "      <td>False</td>\n",
       "      <td>False</td>\n",
       "    </tr>\n",
       "    <tr>\n",
       "      <th>New York</th>\n",
       "      <td>False</td>\n",
       "      <td>False</td>\n",
       "      <td>False</td>\n",
       "      <td>False</td>\n",
       "    </tr>\n",
       "  </tbody>\n",
       "</table>\n",
       "</div>"
      ],
      "text/plain": [
       "            one    two  three   four\n",
       "Ohio       True   True   True   True\n",
       "Colorado   True  False  False  False\n",
       "Utah      False  False  False  False\n",
       "New York  False  False  False  False"
      ]
     },
     "execution_count": 49,
     "metadata": {},
     "output_type": "execute_result"
    }
   ],
   "source": [
    "#indexing a boolean DataFrame\n",
    "data < 5"
   ]
  },
  {
   "cell_type": "code",
   "execution_count": 50,
   "id": "0ac490c0-89de-47e6-bdc6-d58ebe12c84d",
   "metadata": {},
   "outputs": [],
   "source": [
    "#we can use this DataFrame to assign a value to each location with the value \"True\"\n",
    "data[data < 5] = 0"
   ]
  },
  {
   "cell_type": "code",
   "execution_count": 51,
   "id": "11e6c556-7514-4c0d-9dcb-92768ad18bf1",
   "metadata": {},
   "outputs": [
    {
     "data": {
      "text/html": [
       "<div>\n",
       "<style scoped>\n",
       "    .dataframe tbody tr th:only-of-type {\n",
       "        vertical-align: middle;\n",
       "    }\n",
       "\n",
       "    .dataframe tbody tr th {\n",
       "        vertical-align: top;\n",
       "    }\n",
       "\n",
       "    .dataframe thead th {\n",
       "        text-align: right;\n",
       "    }\n",
       "</style>\n",
       "<table border=\"1\" class=\"dataframe\">\n",
       "  <thead>\n",
       "    <tr style=\"text-align: right;\">\n",
       "      <th></th>\n",
       "      <th>one</th>\n",
       "      <th>two</th>\n",
       "      <th>three</th>\n",
       "      <th>four</th>\n",
       "    </tr>\n",
       "  </thead>\n",
       "  <tbody>\n",
       "    <tr>\n",
       "      <th>Ohio</th>\n",
       "      <td>0</td>\n",
       "      <td>0</td>\n",
       "      <td>0</td>\n",
       "      <td>0</td>\n",
       "    </tr>\n",
       "    <tr>\n",
       "      <th>Colorado</th>\n",
       "      <td>0</td>\n",
       "      <td>5</td>\n",
       "      <td>6</td>\n",
       "      <td>7</td>\n",
       "    </tr>\n",
       "    <tr>\n",
       "      <th>Utah</th>\n",
       "      <td>8</td>\n",
       "      <td>9</td>\n",
       "      <td>10</td>\n",
       "      <td>11</td>\n",
       "    </tr>\n",
       "    <tr>\n",
       "      <th>New York</th>\n",
       "      <td>12</td>\n",
       "      <td>13</td>\n",
       "      <td>14</td>\n",
       "      <td>15</td>\n",
       "    </tr>\n",
       "  </tbody>\n",
       "</table>\n",
       "</div>"
      ],
      "text/plain": [
       "          one  two  three  four\n",
       "Ohio        0    0      0     0\n",
       "Colorado    0    5      6     7\n",
       "Utah        8    9     10    11\n",
       "New York   12   13     14    15"
      ]
     },
     "execution_count": 51,
     "metadata": {},
     "output_type": "execute_result"
    }
   ],
   "source": [
    "data"
   ]
  },
  {
   "cell_type": "code",
   "execution_count": 52,
   "id": "5aa791c2-a1f1-452e-98a8-8c5cd62900c1",
   "metadata": {},
   "outputs": [
    {
     "data": {
      "text/html": [
       "<div>\n",
       "<style scoped>\n",
       "    .dataframe tbody tr th:only-of-type {\n",
       "        vertical-align: middle;\n",
       "    }\n",
       "\n",
       "    .dataframe tbody tr th {\n",
       "        vertical-align: top;\n",
       "    }\n",
       "\n",
       "    .dataframe thead th {\n",
       "        text-align: right;\n",
       "    }\n",
       "</style>\n",
       "<table border=\"1\" class=\"dataframe\">\n",
       "  <thead>\n",
       "    <tr style=\"text-align: right;\">\n",
       "      <th></th>\n",
       "      <th>one</th>\n",
       "      <th>two</th>\n",
       "      <th>three</th>\n",
       "      <th>four</th>\n",
       "    </tr>\n",
       "  </thead>\n",
       "  <tbody>\n",
       "    <tr>\n",
       "      <th>Ohio</th>\n",
       "      <td>0</td>\n",
       "      <td>0</td>\n",
       "      <td>0</td>\n",
       "      <td>0</td>\n",
       "    </tr>\n",
       "    <tr>\n",
       "      <th>Colorado</th>\n",
       "      <td>0</td>\n",
       "      <td>5</td>\n",
       "      <td>6</td>\n",
       "      <td>7</td>\n",
       "    </tr>\n",
       "    <tr>\n",
       "      <th>Utah</th>\n",
       "      <td>8</td>\n",
       "      <td>9</td>\n",
       "      <td>10</td>\n",
       "      <td>11</td>\n",
       "    </tr>\n",
       "    <tr>\n",
       "      <th>New York</th>\n",
       "      <td>12</td>\n",
       "      <td>13</td>\n",
       "      <td>14</td>\n",
       "      <td>15</td>\n",
       "    </tr>\n",
       "  </tbody>\n",
       "</table>\n",
       "</div>"
      ],
      "text/plain": [
       "          one  two  three  four\n",
       "Ohio        0    0      0     0\n",
       "Colorado    0    5      6     7\n",
       "Utah        8    9     10    11\n",
       "New York   12   13     14    15"
      ]
     },
     "execution_count": 52,
     "metadata": {},
     "output_type": "execute_result"
    }
   ],
   "source": [
    "#pd.DataFrame: Has special .loc and .iloc attributes\n",
    "#.loc : (axis labels)\n",
    "data"
   ]
  },
  {
   "cell_type": "code",
   "execution_count": 53,
   "id": "73c2e3d4-fca4-4855-97e5-6d7abbc1bae1",
   "metadata": {},
   "outputs": [
    {
     "data": {
      "text/plain": [
       "one      0\n",
       "two      5\n",
       "three    6\n",
       "four     7\n",
       "Name: Colorado, dtype: int64"
      ]
     },
     "execution_count": 53,
     "metadata": {},
     "output_type": "execute_result"
    }
   ],
   "source": [
    "data.loc['Colorado']"
   ]
  },
  {
   "cell_type": "code",
   "execution_count": 54,
   "id": "4fa23757-53b3-413c-b367-c18b3f5f3d6e",
   "metadata": {},
   "outputs": [
    {
     "name": "stderr",
     "output_type": "stream",
     "text": [
      "CRITICAL:root:'New York'\n"
     ]
    }
   ],
   "source": [
    "try:\n",
    "    data.loc['Colorado', 'New York']\n",
    "except KeyError as e:\n",
    "    logging.critical(e)"
   ]
  },
  {
   "cell_type": "code",
   "execution_count": 55,
   "id": "5096a34d-df15-4419-9ba3-6358732ec673",
   "metadata": {},
   "outputs": [
    {
     "data": {
      "text/plain": [
       "one      0\n",
       "two      5\n",
       "three    6\n",
       "four     7\n",
       "Name: Colorado, dtype: int64"
      ]
     },
     "execution_count": 55,
     "metadata": {},
     "output_type": "execute_result"
    }
   ],
   "source": [
    "#pass a sequence of labels to select multiple rows\n",
    "data.loc[\"Colorado\"] #1) entire row selected"
   ]
  },
  {
   "cell_type": "code",
   "execution_count": 56,
   "id": "588cffc2-28be-45f2-90f9-341bfd5cd275",
   "metadata": {},
   "outputs": [
    {
     "data": {
      "text/plain": [
       "5"
      ]
     },
     "execution_count": 56,
     "metadata": {},
     "output_type": "execute_result"
    }
   ],
   "source": [
    "#pass a sequence of labels to select multiple rows\n",
    "data.loc['Colorado', 'two'] #1) single element selected"
   ]
  },
  {
   "cell_type": "code",
   "execution_count": 57,
   "id": "feaeb753-a8cf-435f-b352-407ae7e59b40",
   "metadata": {},
   "outputs": [
    {
     "data": {
      "text/plain": [
       "two    5\n",
       "Name: Colorado, dtype: int64"
      ]
     },
     "execution_count": 57,
     "metadata": {},
     "output_type": "execute_result"
    }
   ],
   "source": [
    "data.loc['Colorado', ['two']] #single element selected with index"
   ]
  },
  {
   "cell_type": "code",
   "execution_count": 58,
   "id": "8008be34-6bf9-4095-a534-bc08ac7fd6be",
   "metadata": {},
   "outputs": [
    {
     "data": {
      "text/plain": [
       "Colorado    5\n",
       "Name: two, dtype: int64"
      ]
     },
     "execution_count": 58,
     "metadata": {},
     "output_type": "execute_result"
    }
   ],
   "source": [
    "#pattern is df.loc[List[str], str] -> pd.Series\n",
    "data.loc[['Colorado'], 'two']"
   ]
  },
  {
   "cell_type": "code",
   "execution_count": 59,
   "id": "a441e2de-e976-49e1-8ee3-65af64530c6f",
   "metadata": {},
   "outputs": [
    {
     "data": {
      "text/html": [
       "<div>\n",
       "<style scoped>\n",
       "    .dataframe tbody tr th:only-of-type {\n",
       "        vertical-align: middle;\n",
       "    }\n",
       "\n",
       "    .dataframe tbody tr th {\n",
       "        vertical-align: top;\n",
       "    }\n",
       "\n",
       "    .dataframe thead th {\n",
       "        text-align: right;\n",
       "    }\n",
       "</style>\n",
       "<table border=\"1\" class=\"dataframe\">\n",
       "  <thead>\n",
       "    <tr style=\"text-align: right;\">\n",
       "      <th></th>\n",
       "      <th>two</th>\n",
       "    </tr>\n",
       "  </thead>\n",
       "  <tbody>\n",
       "    <tr>\n",
       "      <th>Colorado</th>\n",
       "      <td>5</td>\n",
       "    </tr>\n",
       "  </tbody>\n",
       "</table>\n",
       "</div>"
      ],
      "text/plain": [
       "          two\n",
       "Colorado    5"
      ]
     },
     "execution_count": 59,
     "metadata": {},
     "output_type": "execute_result"
    }
   ],
   "source": [
    "#pattern is df.loc[List[str], List[str]]\n",
    "data.loc[['Colorado'], ['two']]"
   ]
  },
  {
   "cell_type": "code",
   "execution_count": 60,
   "id": "2779ca4e-e5d1-43f1-9a6d-a56261a8030f",
   "metadata": {},
   "outputs": [
    {
     "data": {
      "text/plain": [
       "two      5\n",
       "three    6\n",
       "Name: Colorado, dtype: int64"
      ]
     },
     "execution_count": 60,
     "metadata": {},
     "output_type": "execute_result"
    }
   ],
   "source": [
    "data.loc['Colorado', ['two', 'three']]"
   ]
  },
  {
   "cell_type": "code",
   "execution_count": 61,
   "id": "34900225-cab1-4e39-984d-00b68bc23191",
   "metadata": {},
   "outputs": [
    {
     "data": {
      "text/html": [
       "<div>\n",
       "<style scoped>\n",
       "    .dataframe tbody tr th:only-of-type {\n",
       "        vertical-align: middle;\n",
       "    }\n",
       "\n",
       "    .dataframe tbody tr th {\n",
       "        vertical-align: top;\n",
       "    }\n",
       "\n",
       "    .dataframe thead th {\n",
       "        text-align: right;\n",
       "    }\n",
       "</style>\n",
       "<table border=\"1\" class=\"dataframe\">\n",
       "  <thead>\n",
       "    <tr style=\"text-align: right;\">\n",
       "      <th></th>\n",
       "      <th>one</th>\n",
       "      <th>two</th>\n",
       "      <th>three</th>\n",
       "      <th>four</th>\n",
       "    </tr>\n",
       "  </thead>\n",
       "  <tbody>\n",
       "    <tr>\n",
       "      <th>Ohio</th>\n",
       "      <td>0</td>\n",
       "      <td>0</td>\n",
       "      <td>0</td>\n",
       "      <td>0</td>\n",
       "    </tr>\n",
       "    <tr>\n",
       "      <th>New York</th>\n",
       "      <td>12</td>\n",
       "      <td>13</td>\n",
       "      <td>14</td>\n",
       "      <td>15</td>\n",
       "    </tr>\n",
       "  </tbody>\n",
       "</table>\n",
       "</div>"
      ],
      "text/plain": [
       "          one  two  three  four\n",
       "Ohio        0    0      0     0\n",
       "New York   12   13     14    15"
      ]
     },
     "execution_count": 61,
     "metadata": {},
     "output_type": "execute_result"
    }
   ],
   "source": [
    "data.loc[['Ohio', 'New York']] #select two index items"
   ]
  },
  {
   "cell_type": "code",
   "execution_count": 62,
   "id": "12a41642-f41f-4337-b7a5-8bb3f13ac444",
   "metadata": {},
   "outputs": [
    {
     "data": {
      "text/plain": [
       "Ohio         0\n",
       "New York    12\n",
       "Name: one, dtype: int64"
      ]
     },
     "execution_count": 62,
     "metadata": {},
     "output_type": "execute_result"
    }
   ],
   "source": [
    "data.loc[['Ohio', 'New York'], 'one'] #select one column with two index items"
   ]
  },
  {
   "cell_type": "code",
   "execution_count": 63,
   "id": "65bd0486-1fad-4b4d-8102-1398352f9721",
   "metadata": {},
   "outputs": [
    {
     "data": {
      "text/plain": [
       "one       8\n",
       "two       9\n",
       "three    10\n",
       "four     11\n",
       "Name: Utah, dtype: int64"
      ]
     },
     "execution_count": 63,
     "metadata": {},
     "output_type": "execute_result"
    }
   ],
   "source": [
    "#iloc: perform integer selections, regardless of the dtype of the index\n",
    "data.iloc[2]"
   ]
  },
  {
   "cell_type": "code",
   "execution_count": 64,
   "id": "60797e82-f486-4a89-8d09-87460628881d",
   "metadata": {},
   "outputs": [
    {
     "data": {
      "text/html": [
       "<div>\n",
       "<style scoped>\n",
       "    .dataframe tbody tr th:only-of-type {\n",
       "        vertical-align: middle;\n",
       "    }\n",
       "\n",
       "    .dataframe tbody tr th {\n",
       "        vertical-align: top;\n",
       "    }\n",
       "\n",
       "    .dataframe thead th {\n",
       "        text-align: right;\n",
       "    }\n",
       "</style>\n",
       "<table border=\"1\" class=\"dataframe\">\n",
       "  <thead>\n",
       "    <tr style=\"text-align: right;\">\n",
       "      <th></th>\n",
       "      <th>one</th>\n",
       "      <th>two</th>\n",
       "      <th>three</th>\n",
       "      <th>four</th>\n",
       "    </tr>\n",
       "  </thead>\n",
       "  <tbody>\n",
       "    <tr>\n",
       "      <th>Utah</th>\n",
       "      <td>8</td>\n",
       "      <td>9</td>\n",
       "      <td>10</td>\n",
       "      <td>11</td>\n",
       "    </tr>\n",
       "    <tr>\n",
       "      <th>Colorado</th>\n",
       "      <td>0</td>\n",
       "      <td>5</td>\n",
       "      <td>6</td>\n",
       "      <td>7</td>\n",
       "    </tr>\n",
       "  </tbody>\n",
       "</table>\n",
       "</div>"
      ],
      "text/plain": [
       "          one  two  three  four\n",
       "Utah        8    9     10    11\n",
       "Colorado    0    5      6     7"
      ]
     },
     "execution_count": 64,
     "metadata": {},
     "output_type": "execute_result"
    }
   ],
   "source": [
    "data.iloc[[2, 1]]"
   ]
  },
  {
   "cell_type": "code",
   "execution_count": 65,
   "id": "3f40c93c-c669-4d51-b17a-b6854e6c7d17",
   "metadata": {},
   "outputs": [
    {
     "data": {
      "text/plain": [
       "four    11\n",
       "one      8\n",
       "two      9\n",
       "Name: Utah, dtype: int64"
      ]
     },
     "execution_count": 65,
     "metadata": {},
     "output_type": "execute_result"
    }
   ],
   "source": [
    "data.iloc[2, [3, 0, 1]]"
   ]
  },
  {
   "cell_type": "code",
   "execution_count": 66,
   "id": "92444706-7f6b-4754-9d6e-5c2a88d1606c",
   "metadata": {},
   "outputs": [
    {
     "data": {
      "text/html": [
       "<div>\n",
       "<style scoped>\n",
       "    .dataframe tbody tr th:only-of-type {\n",
       "        vertical-align: middle;\n",
       "    }\n",
       "\n",
       "    .dataframe tbody tr th {\n",
       "        vertical-align: top;\n",
       "    }\n",
       "\n",
       "    .dataframe thead th {\n",
       "        text-align: right;\n",
       "    }\n",
       "</style>\n",
       "<table border=\"1\" class=\"dataframe\">\n",
       "  <thead>\n",
       "    <tr style=\"text-align: right;\">\n",
       "      <th></th>\n",
       "      <th>four</th>\n",
       "      <th>one</th>\n",
       "      <th>two</th>\n",
       "    </tr>\n",
       "  </thead>\n",
       "  <tbody>\n",
       "    <tr>\n",
       "      <th>Colorado</th>\n",
       "      <td>7</td>\n",
       "      <td>0</td>\n",
       "      <td>5</td>\n",
       "    </tr>\n",
       "    <tr>\n",
       "      <th>Utah</th>\n",
       "      <td>11</td>\n",
       "      <td>8</td>\n",
       "      <td>9</td>\n",
       "    </tr>\n",
       "  </tbody>\n",
       "</table>\n",
       "</div>"
      ],
      "text/plain": [
       "          four  one  two\n",
       "Colorado     7    0    5\n",
       "Utah        11    8    9"
      ]
     },
     "execution_count": 66,
     "metadata": {},
     "output_type": "execute_result"
    }
   ],
   "source": [
    "data.iloc[[1, 2], [3, 0, 1]]"
   ]
  },
  {
   "cell_type": "code",
   "execution_count": 67,
   "id": "84245449-f264-4d02-a3eb-2fae02b1128e",
   "metadata": {},
   "outputs": [
    {
     "data": {
      "text/html": [
       "<div>\n",
       "<style scoped>\n",
       "    .dataframe tbody tr th:only-of-type {\n",
       "        vertical-align: middle;\n",
       "    }\n",
       "\n",
       "    .dataframe tbody tr th {\n",
       "        vertical-align: top;\n",
       "    }\n",
       "\n",
       "    .dataframe thead th {\n",
       "        text-align: right;\n",
       "    }\n",
       "</style>\n",
       "<table border=\"1\" class=\"dataframe\">\n",
       "  <thead>\n",
       "    <tr style=\"text-align: right;\">\n",
       "      <th></th>\n",
       "      <th>four</th>\n",
       "      <th>one</th>\n",
       "      <th>two</th>\n",
       "    </tr>\n",
       "  </thead>\n",
       "  <tbody>\n",
       "    <tr>\n",
       "      <th>Utah</th>\n",
       "      <td>11</td>\n",
       "      <td>8</td>\n",
       "      <td>9</td>\n",
       "    </tr>\n",
       "    <tr>\n",
       "      <th>Colorado</th>\n",
       "      <td>7</td>\n",
       "      <td>0</td>\n",
       "      <td>5</td>\n",
       "    </tr>\n",
       "  </tbody>\n",
       "</table>\n",
       "</div>"
      ],
      "text/plain": [
       "          four  one  two\n",
       "Utah        11    8    9\n",
       "Colorado     7    0    5"
      ]
     },
     "execution_count": 67,
     "metadata": {},
     "output_type": "execute_result"
    }
   ],
   "source": [
    "data.iloc[[2, 1], [3, 0, 1]]"
   ]
  },
  {
   "cell_type": "code",
   "execution_count": 68,
   "id": "0501a6eb-aded-439c-a642-9e835d466189",
   "metadata": {},
   "outputs": [
    {
     "data": {
      "text/plain": [
       "Ohio        0\n",
       "Colorado    5\n",
       "Utah        9\n",
       "Name: two, dtype: int64"
      ]
     },
     "execution_count": 68,
     "metadata": {},
     "output_type": "execute_result"
    }
   ],
   "source": [
    "#loc and iloc work with slices\n",
    "data.loc[:'Utah', 'two']"
   ]
  },
  {
   "cell_type": "code",
   "execution_count": 69,
   "id": "88ab0f4b-238d-4efb-bfca-ba51ba5089cc",
   "metadata": {},
   "outputs": [
    {
     "data": {
      "text/plain": [
       "Ohio        0\n",
       "Colorado    6\n",
       "Name: three, dtype: int64"
      ]
     },
     "execution_count": 69,
     "metadata": {},
     "output_type": "execute_result"
    }
   ],
   "source": [
    "data.loc[:'Colorado', 'three']"
   ]
  },
  {
   "cell_type": "code",
   "execution_count": 70,
   "id": "089bb90d-a929-4e2f-b3ab-127d17c7b189",
   "metadata": {},
   "outputs": [
    {
     "data": {
      "text/html": [
       "<div>\n",
       "<style scoped>\n",
       "    .dataframe tbody tr th:only-of-type {\n",
       "        vertical-align: middle;\n",
       "    }\n",
       "\n",
       "    .dataframe tbody tr th {\n",
       "        vertical-align: top;\n",
       "    }\n",
       "\n",
       "    .dataframe thead th {\n",
       "        text-align: right;\n",
       "    }\n",
       "</style>\n",
       "<table border=\"1\" class=\"dataframe\">\n",
       "  <thead>\n",
       "    <tr style=\"text-align: right;\">\n",
       "      <th></th>\n",
       "      <th>one</th>\n",
       "      <th>two</th>\n",
       "      <th>three</th>\n",
       "    </tr>\n",
       "  </thead>\n",
       "  <tbody>\n",
       "    <tr>\n",
       "      <th>Colorado</th>\n",
       "      <td>0</td>\n",
       "      <td>5</td>\n",
       "      <td>6</td>\n",
       "    </tr>\n",
       "    <tr>\n",
       "      <th>Utah</th>\n",
       "      <td>8</td>\n",
       "      <td>9</td>\n",
       "      <td>10</td>\n",
       "    </tr>\n",
       "    <tr>\n",
       "      <th>New York</th>\n",
       "      <td>12</td>\n",
       "      <td>13</td>\n",
       "      <td>14</td>\n",
       "    </tr>\n",
       "  </tbody>\n",
       "</table>\n",
       "</div>"
      ],
      "text/plain": [
       "          one  two  three\n",
       "Colorado    0    5      6\n",
       "Utah        8    9     10\n",
       "New York   12   13     14"
      ]
     },
     "execution_count": 70,
     "metadata": {},
     "output_type": "execute_result"
    }
   ],
   "source": [
    "data.iloc[:, :3][data.three > 5]"
   ]
  },
  {
   "cell_type": "code",
   "execution_count": 71,
   "id": "0b2a21aa-b5af-4b05-9673-433fb9a68057",
   "metadata": {},
   "outputs": [
    {
     "data": {
      "text/html": [
       "<div>\n",
       "<style scoped>\n",
       "    .dataframe tbody tr th:only-of-type {\n",
       "        vertical-align: middle;\n",
       "    }\n",
       "\n",
       "    .dataframe tbody tr th {\n",
       "        vertical-align: top;\n",
       "    }\n",
       "\n",
       "    .dataframe thead th {\n",
       "        text-align: right;\n",
       "    }\n",
       "</style>\n",
       "<table border=\"1\" class=\"dataframe\">\n",
       "  <thead>\n",
       "    <tr style=\"text-align: right;\">\n",
       "      <th></th>\n",
       "      <th>one</th>\n",
       "      <th>two</th>\n",
       "    </tr>\n",
       "  </thead>\n",
       "  <tbody>\n",
       "    <tr>\n",
       "      <th>Utah</th>\n",
       "      <td>8</td>\n",
       "      <td>9</td>\n",
       "    </tr>\n",
       "    <tr>\n",
       "      <th>New York</th>\n",
       "      <td>12</td>\n",
       "      <td>13</td>\n",
       "    </tr>\n",
       "  </tbody>\n",
       "</table>\n",
       "</div>"
      ],
      "text/plain": [
       "          one  two\n",
       "Utah        8    9\n",
       "New York   12   13"
      ]
     },
     "execution_count": 71,
     "metadata": {},
     "output_type": "execute_result"
    }
   ],
   "source": [
    "data.iloc[:, :2][data.three > 6]"
   ]
  },
  {
   "cell_type": "code",
   "execution_count": 72,
   "id": "88c0a555-5395-4de4-925d-8908caf29cf6",
   "metadata": {},
   "outputs": [
    {
     "data": {
      "text/html": [
       "<div>\n",
       "<style scoped>\n",
       "    .dataframe tbody tr th:only-of-type {\n",
       "        vertical-align: middle;\n",
       "    }\n",
       "\n",
       "    .dataframe tbody tr th {\n",
       "        vertical-align: top;\n",
       "    }\n",
       "\n",
       "    .dataframe thead th {\n",
       "        text-align: right;\n",
       "    }\n",
       "</style>\n",
       "<table border=\"1\" class=\"dataframe\">\n",
       "  <thead>\n",
       "    <tr style=\"text-align: right;\">\n",
       "      <th></th>\n",
       "      <th>one</th>\n",
       "      <th>two</th>\n",
       "      <th>three</th>\n",
       "      <th>four</th>\n",
       "    </tr>\n",
       "  </thead>\n",
       "  <tbody>\n",
       "    <tr>\n",
       "      <th>Colorado</th>\n",
       "      <td>0</td>\n",
       "      <td>5</td>\n",
       "      <td>6</td>\n",
       "      <td>7</td>\n",
       "    </tr>\n",
       "    <tr>\n",
       "      <th>Utah</th>\n",
       "      <td>8</td>\n",
       "      <td>9</td>\n",
       "      <td>10</td>\n",
       "      <td>11</td>\n",
       "    </tr>\n",
       "    <tr>\n",
       "      <th>New York</th>\n",
       "      <td>12</td>\n",
       "      <td>13</td>\n",
       "      <td>14</td>\n",
       "      <td>15</td>\n",
       "    </tr>\n",
       "  </tbody>\n",
       "</table>\n",
       "</div>"
      ],
      "text/plain": [
       "          one  two  three  four\n",
       "Colorado    0    5      6     7\n",
       "Utah        8    9     10    11\n",
       "New York   12   13     14    15"
      ]
     },
     "execution_count": 72,
     "metadata": {},
     "output_type": "execute_result"
    }
   ],
   "source": [
    "#boolean arrays work only with loc not iloc\n",
    "data.loc[data.three >= 2]"
   ]
  },
  {
   "cell_type": "code",
   "execution_count": 73,
   "id": "e6a1d259-9d25-4160-bae3-58dee008c3a3",
   "metadata": {},
   "outputs": [
    {
     "data": {
      "text/html": [
       "<div>\n",
       "<style scoped>\n",
       "    .dataframe tbody tr th:only-of-type {\n",
       "        vertical-align: middle;\n",
       "    }\n",
       "\n",
       "    .dataframe tbody tr th {\n",
       "        vertical-align: top;\n",
       "    }\n",
       "\n",
       "    .dataframe thead th {\n",
       "        text-align: right;\n",
       "    }\n",
       "</style>\n",
       "<table border=\"1\" class=\"dataframe\">\n",
       "  <thead>\n",
       "    <tr style=\"text-align: right;\">\n",
       "      <th></th>\n",
       "      <th>one</th>\n",
       "      <th>two</th>\n",
       "      <th>three</th>\n",
       "      <th>four</th>\n",
       "    </tr>\n",
       "  </thead>\n",
       "  <tbody>\n",
       "    <tr>\n",
       "      <th>Utah</th>\n",
       "      <td>8</td>\n",
       "      <td>9</td>\n",
       "      <td>10</td>\n",
       "      <td>11</td>\n",
       "    </tr>\n",
       "    <tr>\n",
       "      <th>New York</th>\n",
       "      <td>12</td>\n",
       "      <td>13</td>\n",
       "      <td>14</td>\n",
       "      <td>15</td>\n",
       "    </tr>\n",
       "  </tbody>\n",
       "</table>\n",
       "</div>"
      ],
      "text/plain": [
       "          one  two  three  four\n",
       "Utah        8    9     10    11\n",
       "New York   12   13     14    15"
      ]
     },
     "execution_count": 73,
     "metadata": {},
     "output_type": "execute_result"
    }
   ],
   "source": [
    "#boolean arrays work only with loc not iloc\n",
    "data.loc[data.one > 0]"
   ]
  },
  {
   "cell_type": "code",
   "execution_count": 74,
   "id": "68aaf4f9-3248-4b9d-a086-0edd25d6fa56",
   "metadata": {},
   "outputs": [
    {
     "data": {
      "text/html": [
       "<div>\n",
       "<style scoped>\n",
       "    .dataframe tbody tr th:only-of-type {\n",
       "        vertical-align: middle;\n",
       "    }\n",
       "\n",
       "    .dataframe tbody tr th {\n",
       "        vertical-align: top;\n",
       "    }\n",
       "\n",
       "    .dataframe thead th {\n",
       "        text-align: right;\n",
       "    }\n",
       "</style>\n",
       "<table border=\"1\" class=\"dataframe\">\n",
       "  <thead>\n",
       "    <tr style=\"text-align: right;\">\n",
       "      <th></th>\n",
       "      <th>0</th>\n",
       "      <th>1</th>\n",
       "      <th>2</th>\n",
       "      <th>3</th>\n",
       "      <th>4</th>\n",
       "      <th>5</th>\n",
       "      <th>6</th>\n",
       "      <th>7</th>\n",
       "      <th>8</th>\n",
       "      <th>9</th>\n",
       "    </tr>\n",
       "  </thead>\n",
       "  <tbody>\n",
       "    <tr>\n",
       "      <th>0</th>\n",
       "      <td>0.015234</td>\n",
       "      <td>0.614680</td>\n",
       "      <td>0.094119</td>\n",
       "      <td>0.724865</td>\n",
       "      <td>0.252346</td>\n",
       "      <td>0.681320</td>\n",
       "      <td>0.785545</td>\n",
       "      <td>0.676769</td>\n",
       "      <td>0.596373</td>\n",
       "      <td>0.016578</td>\n",
       "    </tr>\n",
       "    <tr>\n",
       "      <th>1</th>\n",
       "      <td>0.335416</td>\n",
       "      <td>0.515941</td>\n",
       "      <td>0.186942</td>\n",
       "      <td>0.955771</td>\n",
       "      <td>0.664718</td>\n",
       "      <td>0.112681</td>\n",
       "      <td>0.196694</td>\n",
       "      <td>0.317194</td>\n",
       "      <td>0.348991</td>\n",
       "      <td>0.300739</td>\n",
       "    </tr>\n",
       "    <tr>\n",
       "      <th>2</th>\n",
       "      <td>0.218733</td>\n",
       "      <td>0.125230</td>\n",
       "      <td>0.764109</td>\n",
       "      <td>0.504150</td>\n",
       "      <td>0.929893</td>\n",
       "      <td>0.831557</td>\n",
       "      <td>0.879268</td>\n",
       "      <td>0.358746</td>\n",
       "      <td>0.643843</td>\n",
       "      <td>0.074766</td>\n",
       "    </tr>\n",
       "    <tr>\n",
       "      <th>3</th>\n",
       "      <td>0.200675</td>\n",
       "      <td>0.078089</td>\n",
       "      <td>0.570345</td>\n",
       "      <td>0.316122</td>\n",
       "      <td>0.275168</td>\n",
       "      <td>0.316959</td>\n",
       "      <td>0.108317</td>\n",
       "      <td>0.860687</td>\n",
       "      <td>0.370462</td>\n",
       "      <td>0.408807</td>\n",
       "    </tr>\n",
       "    <tr>\n",
       "      <th>4</th>\n",
       "      <td>0.123360</td>\n",
       "      <td>0.291419</td>\n",
       "      <td>0.439563</td>\n",
       "      <td>0.006244</td>\n",
       "      <td>0.113255</td>\n",
       "      <td>0.056500</td>\n",
       "      <td>0.382728</td>\n",
       "      <td>0.726872</td>\n",
       "      <td>0.471981</td>\n",
       "      <td>0.067688</td>\n",
       "    </tr>\n",
       "    <tr>\n",
       "      <th>...</th>\n",
       "      <td>...</td>\n",
       "      <td>...</td>\n",
       "      <td>...</td>\n",
       "      <td>...</td>\n",
       "      <td>...</td>\n",
       "      <td>...</td>\n",
       "      <td>...</td>\n",
       "      <td>...</td>\n",
       "      <td>...</td>\n",
       "      <td>...</td>\n",
       "    </tr>\n",
       "    <tr>\n",
       "      <th>95</th>\n",
       "      <td>0.934398</td>\n",
       "      <td>0.718260</td>\n",
       "      <td>0.306785</td>\n",
       "      <td>0.210732</td>\n",
       "      <td>0.764171</td>\n",
       "      <td>0.026424</td>\n",
       "      <td>0.206805</td>\n",
       "      <td>0.887879</td>\n",
       "      <td>0.650235</td>\n",
       "      <td>0.667357</td>\n",
       "    </tr>\n",
       "    <tr>\n",
       "      <th>96</th>\n",
       "      <td>0.689794</td>\n",
       "      <td>0.168788</td>\n",
       "      <td>0.216082</td>\n",
       "      <td>0.100747</td>\n",
       "      <td>0.646257</td>\n",
       "      <td>0.946168</td>\n",
       "      <td>0.322470</td>\n",
       "      <td>0.154298</td>\n",
       "      <td>0.898130</td>\n",
       "      <td>0.727247</td>\n",
       "    </tr>\n",
       "    <tr>\n",
       "      <th>97</th>\n",
       "      <td>0.603558</td>\n",
       "      <td>0.836171</td>\n",
       "      <td>0.974774</td>\n",
       "      <td>0.688296</td>\n",
       "      <td>0.056819</td>\n",
       "      <td>0.054225</td>\n",
       "      <td>0.908624</td>\n",
       "      <td>0.329671</td>\n",
       "      <td>0.622767</td>\n",
       "      <td>0.303808</td>\n",
       "    </tr>\n",
       "    <tr>\n",
       "      <th>98</th>\n",
       "      <td>0.664285</td>\n",
       "      <td>0.359747</td>\n",
       "      <td>0.638044</td>\n",
       "      <td>0.598179</td>\n",
       "      <td>0.728643</td>\n",
       "      <td>0.541945</td>\n",
       "      <td>0.375180</td>\n",
       "      <td>0.421264</td>\n",
       "      <td>0.714171</td>\n",
       "      <td>0.550802</td>\n",
       "    </tr>\n",
       "    <tr>\n",
       "      <th>99</th>\n",
       "      <td>0.032144</td>\n",
       "      <td>0.707782</td>\n",
       "      <td>0.149362</td>\n",
       "      <td>0.490376</td>\n",
       "      <td>0.395330</td>\n",
       "      <td>0.708135</td>\n",
       "      <td>0.024512</td>\n",
       "      <td>0.590621</td>\n",
       "      <td>0.872585</td>\n",
       "      <td>0.846945</td>\n",
       "    </tr>\n",
       "  </tbody>\n",
       "</table>\n",
       "<p>100 rows × 10 columns</p>\n",
       "</div>"
      ],
      "text/plain": [
       "           0         1         2         3         4         5         6  \\\n",
       "0   0.015234  0.614680  0.094119  0.724865  0.252346  0.681320  0.785545   \n",
       "1   0.335416  0.515941  0.186942  0.955771  0.664718  0.112681  0.196694   \n",
       "2   0.218733  0.125230  0.764109  0.504150  0.929893  0.831557  0.879268   \n",
       "3   0.200675  0.078089  0.570345  0.316122  0.275168  0.316959  0.108317   \n",
       "4   0.123360  0.291419  0.439563  0.006244  0.113255  0.056500  0.382728   \n",
       "..       ...       ...       ...       ...       ...       ...       ...   \n",
       "95  0.934398  0.718260  0.306785  0.210732  0.764171  0.026424  0.206805   \n",
       "96  0.689794  0.168788  0.216082  0.100747  0.646257  0.946168  0.322470   \n",
       "97  0.603558  0.836171  0.974774  0.688296  0.056819  0.054225  0.908624   \n",
       "98  0.664285  0.359747  0.638044  0.598179  0.728643  0.541945  0.375180   \n",
       "99  0.032144  0.707782  0.149362  0.490376  0.395330  0.708135  0.024512   \n",
       "\n",
       "           7         8         9  \n",
       "0   0.676769  0.596373  0.016578  \n",
       "1   0.317194  0.348991  0.300739  \n",
       "2   0.358746  0.643843  0.074766  \n",
       "3   0.860687  0.370462  0.408807  \n",
       "4   0.726872  0.471981  0.067688  \n",
       "..       ...       ...       ...  \n",
       "95  0.887879  0.650235  0.667357  \n",
       "96  0.154298  0.898130  0.727247  \n",
       "97  0.329671  0.622767  0.303808  \n",
       "98  0.421264  0.714171  0.550802  \n",
       "99  0.590621  0.872585  0.846945  \n",
       "\n",
       "[100 rows x 10 columns]"
      ]
     },
     "execution_count": 74,
     "metadata": {},
     "output_type": "execute_result"
    }
   ],
   "source": [
    "#indexing options:\n",
    "#1) df[column]\n",
    "new_df = pd.DataFrame(np.random.rand(1000).reshape((100, 10)))\n",
    "new_df"
   ]
  },
  {
   "cell_type": "code",
   "execution_count": 75,
   "id": "5f5fcd3c-2bd3-4d78-a12e-d7cd30ba069d",
   "metadata": {},
   "outputs": [],
   "source": [
    "#indexing options sample indexes\n",
    "states_index = pd.Index(['New Jersey', 'New Mexico', 'Mississippi', 'Hawaii', 'Wyoming', 'Iowa',\n",
    "       'Virginia', 'Arkansas', 'Alaska', 'Florida', 'Idaho', 'Iowa',\n",
    "       'Colorado', 'Oregon', 'Wyoming', 'Washington', 'Oregon', 'Connecticut',\n",
    "       'Nevada', 'Massachusetts', 'Arkansas', 'Arkansas', 'Vermont',\n",
    "       'New Hampshire', 'Colorado', 'Iowa', 'Maine', 'Utah', 'Kentucky',\n",
    "       'Alabama', 'Missouri', 'Connecticut', 'Ohio', 'Tennessee', 'Oregon',\n",
    "       'Colorado', 'Kansas', 'Alabama', 'New Hampshire', 'Arkansas', 'Idaho',\n",
    "       'Montana', 'South Carolina', 'Nebraska', 'Rhode Island', 'Tennessee',\n",
    "       'Alaska', 'Louisiana', 'Utah', 'Oregon', 'Idaho', 'Virginia',\n",
    "       'Louisiana', 'Colorado', 'Oregon', 'Massachusetts', 'North Carolina',\n",
    "       'South Dakota', 'Alabama', 'Rhode Island', 'Oregon', 'Utah', 'Alaska',\n",
    "       'Alabama', 'New Mexico', 'New York', 'Illinois', 'Idaho', 'Connecticut',\n",
    "       'Nebraska', 'Nebraska', 'Arkansas', 'North Carolina', 'West Virginia',\n",
    "       'Arkansas', 'Texas', 'Maine', 'Maryland', 'Virginia', 'Nebraska',\n",
    "       'North Carolina', 'Wyoming', 'Iowa', 'Connecticut', 'Arizona',\n",
    "       'Arizona', 'Tennessee', 'Alabama', 'Nebraska', 'Oklahoma', 'Arizona',\n",
    "       'Rhode Island', 'Florida', 'Montana', 'Vermont', 'Minnesota',\n",
    "       'Kentucky', 'Arizona', 'Rhode Island', 'Texas'])\n",
    "columnNames = pd.Index(['get', 'only', 'chair', 'physical', 'late', 'TV', 'body', 'meeting',\n",
    "       'present', 'left'])"
   ]
  },
  {
   "cell_type": "code",
   "execution_count": 76,
   "id": "8b0d29af-f6a8-43b2-b1ce-d7a4aec08777",
   "metadata": {},
   "outputs": [
    {
     "data": {
      "text/html": [
       "<div>\n",
       "<style scoped>\n",
       "    .dataframe tbody tr th:only-of-type {\n",
       "        vertical-align: middle;\n",
       "    }\n",
       "\n",
       "    .dataframe tbody tr th {\n",
       "        vertical-align: top;\n",
       "    }\n",
       "\n",
       "    .dataframe thead th {\n",
       "        text-align: right;\n",
       "    }\n",
       "</style>\n",
       "<table border=\"1\" class=\"dataframe\">\n",
       "  <thead>\n",
       "    <tr style=\"text-align: right;\">\n",
       "      <th></th>\n",
       "      <th>0</th>\n",
       "      <th>1</th>\n",
       "      <th>2</th>\n",
       "      <th>3</th>\n",
       "      <th>4</th>\n",
       "      <th>5</th>\n",
       "      <th>6</th>\n",
       "      <th>7</th>\n",
       "      <th>8</th>\n",
       "      <th>9</th>\n",
       "    </tr>\n",
       "  </thead>\n",
       "  <tbody>\n",
       "    <tr>\n",
       "      <th>New Jersey</th>\n",
       "      <td>0.089962</td>\n",
       "      <td>0.253493</td>\n",
       "      <td>0.560304</td>\n",
       "      <td>0.998534</td>\n",
       "      <td>0.351585</td>\n",
       "      <td>0.531570</td>\n",
       "      <td>0.722990</td>\n",
       "      <td>0.167673</td>\n",
       "      <td>0.040699</td>\n",
       "      <td>0.552183</td>\n",
       "    </tr>\n",
       "    <tr>\n",
       "      <th>New Mexico</th>\n",
       "      <td>0.890930</td>\n",
       "      <td>0.438101</td>\n",
       "      <td>0.305986</td>\n",
       "      <td>0.905596</td>\n",
       "      <td>0.679948</td>\n",
       "      <td>0.601332</td>\n",
       "      <td>0.428960</td>\n",
       "      <td>0.251604</td>\n",
       "      <td>0.632793</td>\n",
       "      <td>0.711301</td>\n",
       "    </tr>\n",
       "    <tr>\n",
       "      <th>Mississippi</th>\n",
       "      <td>0.431548</td>\n",
       "      <td>0.563409</td>\n",
       "      <td>0.579122</td>\n",
       "      <td>0.385428</td>\n",
       "      <td>0.450794</td>\n",
       "      <td>0.857920</td>\n",
       "      <td>0.652428</td>\n",
       "      <td>0.295824</td>\n",
       "      <td>0.312362</td>\n",
       "      <td>0.666154</td>\n",
       "    </tr>\n",
       "    <tr>\n",
       "      <th>Hawaii</th>\n",
       "      <td>0.457274</td>\n",
       "      <td>0.453423</td>\n",
       "      <td>0.527059</td>\n",
       "      <td>0.408607</td>\n",
       "      <td>0.162598</td>\n",
       "      <td>0.132851</td>\n",
       "      <td>0.997274</td>\n",
       "      <td>0.105518</td>\n",
       "      <td>0.056441</td>\n",
       "      <td>0.778627</td>\n",
       "    </tr>\n",
       "    <tr>\n",
       "      <th>Wyoming</th>\n",
       "      <td>0.730493</td>\n",
       "      <td>0.891542</td>\n",
       "      <td>0.732029</td>\n",
       "      <td>0.672168</td>\n",
       "      <td>0.366740</td>\n",
       "      <td>0.098111</td>\n",
       "      <td>0.421794</td>\n",
       "      <td>0.389237</td>\n",
       "      <td>0.356621</td>\n",
       "      <td>0.611456</td>\n",
       "    </tr>\n",
       "    <tr>\n",
       "      <th>...</th>\n",
       "      <td>...</td>\n",
       "      <td>...</td>\n",
       "      <td>...</td>\n",
       "      <td>...</td>\n",
       "      <td>...</td>\n",
       "      <td>...</td>\n",
       "      <td>...</td>\n",
       "      <td>...</td>\n",
       "      <td>...</td>\n",
       "      <td>...</td>\n",
       "    </tr>\n",
       "    <tr>\n",
       "      <th>Minnesota</th>\n",
       "      <td>0.675578</td>\n",
       "      <td>0.907319</td>\n",
       "      <td>0.152148</td>\n",
       "      <td>0.577032</td>\n",
       "      <td>0.129874</td>\n",
       "      <td>0.201901</td>\n",
       "      <td>0.297193</td>\n",
       "      <td>0.977492</td>\n",
       "      <td>0.360527</td>\n",
       "      <td>0.965855</td>\n",
       "    </tr>\n",
       "    <tr>\n",
       "      <th>Kentucky</th>\n",
       "      <td>0.511570</td>\n",
       "      <td>0.926413</td>\n",
       "      <td>0.773386</td>\n",
       "      <td>0.226022</td>\n",
       "      <td>0.205440</td>\n",
       "      <td>0.589056</td>\n",
       "      <td>0.006523</td>\n",
       "      <td>0.915199</td>\n",
       "      <td>0.477279</td>\n",
       "      <td>0.190170</td>\n",
       "    </tr>\n",
       "    <tr>\n",
       "      <th>Arizona</th>\n",
       "      <td>0.260930</td>\n",
       "      <td>0.213917</td>\n",
       "      <td>0.595806</td>\n",
       "      <td>0.310035</td>\n",
       "      <td>0.776801</td>\n",
       "      <td>0.655326</td>\n",
       "      <td>0.634777</td>\n",
       "      <td>0.389874</td>\n",
       "      <td>0.634821</td>\n",
       "      <td>0.407561</td>\n",
       "    </tr>\n",
       "    <tr>\n",
       "      <th>Rhode Island</th>\n",
       "      <td>0.567139</td>\n",
       "      <td>0.979703</td>\n",
       "      <td>0.074262</td>\n",
       "      <td>0.629006</td>\n",
       "      <td>0.599250</td>\n",
       "      <td>0.289242</td>\n",
       "      <td>0.942496</td>\n",
       "      <td>0.344496</td>\n",
       "      <td>0.802657</td>\n",
       "      <td>0.708872</td>\n",
       "    </tr>\n",
       "    <tr>\n",
       "      <th>Texas</th>\n",
       "      <td>0.005582</td>\n",
       "      <td>0.037384</td>\n",
       "      <td>0.270399</td>\n",
       "      <td>0.027105</td>\n",
       "      <td>0.254814</td>\n",
       "      <td>0.701409</td>\n",
       "      <td>0.401941</td>\n",
       "      <td>0.095994</td>\n",
       "      <td>0.812739</td>\n",
       "      <td>0.509426</td>\n",
       "    </tr>\n",
       "  </tbody>\n",
       "</table>\n",
       "<p>100 rows × 10 columns</p>\n",
       "</div>"
      ],
      "text/plain": [
       "                     0         1         2         3         4         5  \\\n",
       "New Jersey    0.089962  0.253493  0.560304  0.998534  0.351585  0.531570   \n",
       "New Mexico    0.890930  0.438101  0.305986  0.905596  0.679948  0.601332   \n",
       "Mississippi   0.431548  0.563409  0.579122  0.385428  0.450794  0.857920   \n",
       "Hawaii        0.457274  0.453423  0.527059  0.408607  0.162598  0.132851   \n",
       "Wyoming       0.730493  0.891542  0.732029  0.672168  0.366740  0.098111   \n",
       "...                ...       ...       ...       ...       ...       ...   \n",
       "Minnesota     0.675578  0.907319  0.152148  0.577032  0.129874  0.201901   \n",
       "Kentucky      0.511570  0.926413  0.773386  0.226022  0.205440  0.589056   \n",
       "Arizona       0.260930  0.213917  0.595806  0.310035  0.776801  0.655326   \n",
       "Rhode Island  0.567139  0.979703  0.074262  0.629006  0.599250  0.289242   \n",
       "Texas         0.005582  0.037384  0.270399  0.027105  0.254814  0.701409   \n",
       "\n",
       "                     6         7         8         9  \n",
       "New Jersey    0.722990  0.167673  0.040699  0.552183  \n",
       "New Mexico    0.428960  0.251604  0.632793  0.711301  \n",
       "Mississippi   0.652428  0.295824  0.312362  0.666154  \n",
       "Hawaii        0.997274  0.105518  0.056441  0.778627  \n",
       "Wyoming       0.421794  0.389237  0.356621  0.611456  \n",
       "...                ...       ...       ...       ...  \n",
       "Minnesota     0.297193  0.977492  0.360527  0.965855  \n",
       "Kentucky      0.006523  0.915199  0.477279  0.190170  \n",
       "Arizona       0.634777  0.389874  0.634821  0.407561  \n",
       "Rhode Island  0.942496  0.344496  0.802657  0.708872  \n",
       "Texas         0.401941  0.095994  0.812739  0.509426  \n",
       "\n",
       "[100 rows x 10 columns]"
      ]
     },
     "execution_count": 76,
     "metadata": {},
     "output_type": "execute_result"
    }
   ],
   "source": [
    "#indexing options:\n",
    "#1) df[column]\n",
    "new_df = pd.DataFrame(np.random.rand(1000).reshape((100, 10)),\n",
    "                     index=states_index)\n",
    "new_df"
   ]
  },
  {
   "cell_type": "code",
   "execution_count": 77,
   "id": "bbeb8e31-9aad-44dd-ab6b-f44c731f2853",
   "metadata": {},
   "outputs": [
    {
     "data": {
      "text/html": [
       "<div>\n",
       "<style scoped>\n",
       "    .dataframe tbody tr th:only-of-type {\n",
       "        vertical-align: middle;\n",
       "    }\n",
       "\n",
       "    .dataframe tbody tr th {\n",
       "        vertical-align: top;\n",
       "    }\n",
       "\n",
       "    .dataframe thead th {\n",
       "        text-align: right;\n",
       "    }\n",
       "</style>\n",
       "<table border=\"1\" class=\"dataframe\">\n",
       "  <thead>\n",
       "    <tr style=\"text-align: right;\">\n",
       "      <th></th>\n",
       "      <th>get</th>\n",
       "      <th>only</th>\n",
       "      <th>chair</th>\n",
       "      <th>physical</th>\n",
       "      <th>late</th>\n",
       "      <th>TV</th>\n",
       "      <th>body</th>\n",
       "      <th>meeting</th>\n",
       "      <th>present</th>\n",
       "      <th>left</th>\n",
       "    </tr>\n",
       "  </thead>\n",
       "  <tbody>\n",
       "    <tr>\n",
       "      <th>New Jersey</th>\n",
       "      <td>0.456886</td>\n",
       "      <td>0.256962</td>\n",
       "      <td>0.902719</td>\n",
       "      <td>0.588741</td>\n",
       "      <td>0.955217</td>\n",
       "      <td>0.154738</td>\n",
       "      <td>0.986542</td>\n",
       "      <td>0.093513</td>\n",
       "      <td>0.246107</td>\n",
       "      <td>0.192697</td>\n",
       "    </tr>\n",
       "    <tr>\n",
       "      <th>New Mexico</th>\n",
       "      <td>0.921158</td>\n",
       "      <td>0.568884</td>\n",
       "      <td>0.443063</td>\n",
       "      <td>0.428384</td>\n",
       "      <td>0.082564</td>\n",
       "      <td>0.874698</td>\n",
       "      <td>0.637541</td>\n",
       "      <td>0.524961</td>\n",
       "      <td>0.421273</td>\n",
       "      <td>0.469845</td>\n",
       "    </tr>\n",
       "    <tr>\n",
       "      <th>Mississippi</th>\n",
       "      <td>0.167868</td>\n",
       "      <td>0.283899</td>\n",
       "      <td>0.840879</td>\n",
       "      <td>0.681860</td>\n",
       "      <td>0.136192</td>\n",
       "      <td>0.181402</td>\n",
       "      <td>0.466912</td>\n",
       "      <td>0.365477</td>\n",
       "      <td>0.616962</td>\n",
       "      <td>0.394703</td>\n",
       "    </tr>\n",
       "    <tr>\n",
       "      <th>Hawaii</th>\n",
       "      <td>0.352177</td>\n",
       "      <td>0.170223</td>\n",
       "      <td>0.084919</td>\n",
       "      <td>0.613104</td>\n",
       "      <td>0.407250</td>\n",
       "      <td>0.966276</td>\n",
       "      <td>0.770265</td>\n",
       "      <td>0.400759</td>\n",
       "      <td>0.975953</td>\n",
       "      <td>0.902678</td>\n",
       "    </tr>\n",
       "    <tr>\n",
       "      <th>Wyoming</th>\n",
       "      <td>0.805518</td>\n",
       "      <td>0.010542</td>\n",
       "      <td>0.187317</td>\n",
       "      <td>0.071196</td>\n",
       "      <td>0.604164</td>\n",
       "      <td>0.140993</td>\n",
       "      <td>0.750671</td>\n",
       "      <td>0.281944</td>\n",
       "      <td>0.402476</td>\n",
       "      <td>0.697836</td>\n",
       "    </tr>\n",
       "    <tr>\n",
       "      <th>...</th>\n",
       "      <td>...</td>\n",
       "      <td>...</td>\n",
       "      <td>...</td>\n",
       "      <td>...</td>\n",
       "      <td>...</td>\n",
       "      <td>...</td>\n",
       "      <td>...</td>\n",
       "      <td>...</td>\n",
       "      <td>...</td>\n",
       "      <td>...</td>\n",
       "    </tr>\n",
       "    <tr>\n",
       "      <th>Minnesota</th>\n",
       "      <td>0.580978</td>\n",
       "      <td>0.199826</td>\n",
       "      <td>0.405198</td>\n",
       "      <td>0.019082</td>\n",
       "      <td>0.309861</td>\n",
       "      <td>0.695654</td>\n",
       "      <td>0.003341</td>\n",
       "      <td>0.358154</td>\n",
       "      <td>0.128086</td>\n",
       "      <td>0.597393</td>\n",
       "    </tr>\n",
       "    <tr>\n",
       "      <th>Kentucky</th>\n",
       "      <td>0.907892</td>\n",
       "      <td>0.835342</td>\n",
       "      <td>0.217811</td>\n",
       "      <td>0.991489</td>\n",
       "      <td>0.051192</td>\n",
       "      <td>0.626988</td>\n",
       "      <td>0.033630</td>\n",
       "      <td>0.378730</td>\n",
       "      <td>0.335739</td>\n",
       "      <td>0.131851</td>\n",
       "    </tr>\n",
       "    <tr>\n",
       "      <th>Arizona</th>\n",
       "      <td>0.429982</td>\n",
       "      <td>0.373175</td>\n",
       "      <td>0.612522</td>\n",
       "      <td>0.263103</td>\n",
       "      <td>0.461718</td>\n",
       "      <td>0.330648</td>\n",
       "      <td>0.690474</td>\n",
       "      <td>0.270138</td>\n",
       "      <td>0.723792</td>\n",
       "      <td>0.966059</td>\n",
       "    </tr>\n",
       "    <tr>\n",
       "      <th>Rhode Island</th>\n",
       "      <td>0.101214</td>\n",
       "      <td>0.673243</td>\n",
       "      <td>0.045420</td>\n",
       "      <td>0.902907</td>\n",
       "      <td>0.171952</td>\n",
       "      <td>0.177155</td>\n",
       "      <td>0.905293</td>\n",
       "      <td>0.073142</td>\n",
       "      <td>0.729249</td>\n",
       "      <td>0.440137</td>\n",
       "    </tr>\n",
       "    <tr>\n",
       "      <th>Texas</th>\n",
       "      <td>0.210036</td>\n",
       "      <td>0.203664</td>\n",
       "      <td>0.814987</td>\n",
       "      <td>0.553356</td>\n",
       "      <td>0.689588</td>\n",
       "      <td>0.059806</td>\n",
       "      <td>0.811139</td>\n",
       "      <td>0.470344</td>\n",
       "      <td>0.216897</td>\n",
       "      <td>0.313785</td>\n",
       "    </tr>\n",
       "  </tbody>\n",
       "</table>\n",
       "<p>100 rows × 10 columns</p>\n",
       "</div>"
      ],
      "text/plain": [
       "                   get      only     chair  physical      late        TV  \\\n",
       "New Jersey    0.456886  0.256962  0.902719  0.588741  0.955217  0.154738   \n",
       "New Mexico    0.921158  0.568884  0.443063  0.428384  0.082564  0.874698   \n",
       "Mississippi   0.167868  0.283899  0.840879  0.681860  0.136192  0.181402   \n",
       "Hawaii        0.352177  0.170223  0.084919  0.613104  0.407250  0.966276   \n",
       "Wyoming       0.805518  0.010542  0.187317  0.071196  0.604164  0.140993   \n",
       "...                ...       ...       ...       ...       ...       ...   \n",
       "Minnesota     0.580978  0.199826  0.405198  0.019082  0.309861  0.695654   \n",
       "Kentucky      0.907892  0.835342  0.217811  0.991489  0.051192  0.626988   \n",
       "Arizona       0.429982  0.373175  0.612522  0.263103  0.461718  0.330648   \n",
       "Rhode Island  0.101214  0.673243  0.045420  0.902907  0.171952  0.177155   \n",
       "Texas         0.210036  0.203664  0.814987  0.553356  0.689588  0.059806   \n",
       "\n",
       "                  body   meeting   present      left  \n",
       "New Jersey    0.986542  0.093513  0.246107  0.192697  \n",
       "New Mexico    0.637541  0.524961  0.421273  0.469845  \n",
       "Mississippi   0.466912  0.365477  0.616962  0.394703  \n",
       "Hawaii        0.770265  0.400759  0.975953  0.902678  \n",
       "Wyoming       0.750671  0.281944  0.402476  0.697836  \n",
       "...                ...       ...       ...       ...  \n",
       "Minnesota     0.003341  0.358154  0.128086  0.597393  \n",
       "Kentucky      0.033630  0.378730  0.335739  0.131851  \n",
       "Arizona       0.690474  0.270138  0.723792  0.966059  \n",
       "Rhode Island  0.905293  0.073142  0.729249  0.440137  \n",
       "Texas         0.811139  0.470344  0.216897  0.313785  \n",
       "\n",
       "[100 rows x 10 columns]"
      ]
     },
     "execution_count": 77,
     "metadata": {},
     "output_type": "execute_result"
    }
   ],
   "source": [
    "#indexing options:\n",
    "#1) df[column]\n",
    "\n",
    "new_df = pd.DataFrame(np.random.rand(1000).reshape((100, 10)),\n",
    "                     index=states_index,\n",
    "                     columns=columnNames)\n",
    "new_df"
   ]
  },
  {
   "cell_type": "code",
   "execution_count": 78,
   "id": "d956704f-bf4f-4bd4-8bcb-fe830b5f7ec5",
   "metadata": {},
   "outputs": [
    {
     "data": {
      "text/html": [
       "<div>\n",
       "<style scoped>\n",
       "    .dataframe tbody tr th:only-of-type {\n",
       "        vertical-align: middle;\n",
       "    }\n",
       "\n",
       "    .dataframe tbody tr th {\n",
       "        vertical-align: top;\n",
       "    }\n",
       "\n",
       "    .dataframe thead th {\n",
       "        text-align: right;\n",
       "    }\n",
       "</style>\n",
       "<table border=\"1\" class=\"dataframe\">\n",
       "  <thead>\n",
       "    <tr style=\"text-align: right;\">\n",
       "      <th></th>\n",
       "      <th>TV</th>\n",
       "      <th>body</th>\n",
       "      <th>chair</th>\n",
       "      <th>get</th>\n",
       "      <th>late</th>\n",
       "      <th>left</th>\n",
       "      <th>meeting</th>\n",
       "      <th>only</th>\n",
       "      <th>physical</th>\n",
       "      <th>present</th>\n",
       "    </tr>\n",
       "  </thead>\n",
       "  <tbody>\n",
       "    <tr>\n",
       "      <th>New Jersey</th>\n",
       "      <td>0.891934</td>\n",
       "      <td>0.857982</td>\n",
       "      <td>0.695081</td>\n",
       "      <td>0.657985</td>\n",
       "      <td>0.976793</td>\n",
       "      <td>0.356825</td>\n",
       "      <td>0.561040</td>\n",
       "      <td>0.982943</td>\n",
       "      <td>0.212636</td>\n",
       "      <td>0.855713</td>\n",
       "    </tr>\n",
       "    <tr>\n",
       "      <th>New Mexico</th>\n",
       "      <td>0.004083</td>\n",
       "      <td>0.415173</td>\n",
       "      <td>0.742531</td>\n",
       "      <td>0.537690</td>\n",
       "      <td>0.685327</td>\n",
       "      <td>0.409860</td>\n",
       "      <td>0.498082</td>\n",
       "      <td>0.859793</td>\n",
       "      <td>0.386159</td>\n",
       "      <td>0.197923</td>\n",
       "    </tr>\n",
       "    <tr>\n",
       "      <th>Mississippi</th>\n",
       "      <td>0.094022</td>\n",
       "      <td>0.437172</td>\n",
       "      <td>0.724468</td>\n",
       "      <td>0.493269</td>\n",
       "      <td>0.619632</td>\n",
       "      <td>0.733510</td>\n",
       "      <td>0.634802</td>\n",
       "      <td>0.240760</td>\n",
       "      <td>0.736518</td>\n",
       "      <td>0.526760</td>\n",
       "    </tr>\n",
       "    <tr>\n",
       "      <th>Hawaii</th>\n",
       "      <td>0.665872</td>\n",
       "      <td>0.010202</td>\n",
       "      <td>0.369409</td>\n",
       "      <td>0.165724</td>\n",
       "      <td>0.403677</td>\n",
       "      <td>0.770041</td>\n",
       "      <td>0.694037</td>\n",
       "      <td>0.892010</td>\n",
       "      <td>0.912080</td>\n",
       "      <td>0.591518</td>\n",
       "    </tr>\n",
       "    <tr>\n",
       "      <th>Wyoming</th>\n",
       "      <td>0.683302</td>\n",
       "      <td>0.576557</td>\n",
       "      <td>0.044858</td>\n",
       "      <td>0.234081</td>\n",
       "      <td>0.084439</td>\n",
       "      <td>0.270449</td>\n",
       "      <td>0.114205</td>\n",
       "      <td>0.863667</td>\n",
       "      <td>0.170244</td>\n",
       "      <td>0.374354</td>\n",
       "    </tr>\n",
       "    <tr>\n",
       "      <th>...</th>\n",
       "      <td>...</td>\n",
       "      <td>...</td>\n",
       "      <td>...</td>\n",
       "      <td>...</td>\n",
       "      <td>...</td>\n",
       "      <td>...</td>\n",
       "      <td>...</td>\n",
       "      <td>...</td>\n",
       "      <td>...</td>\n",
       "      <td>...</td>\n",
       "    </tr>\n",
       "    <tr>\n",
       "      <th>Minnesota</th>\n",
       "      <td>0.874646</td>\n",
       "      <td>0.767367</td>\n",
       "      <td>0.536507</td>\n",
       "      <td>0.413960</td>\n",
       "      <td>0.317540</td>\n",
       "      <td>0.385611</td>\n",
       "      <td>0.154874</td>\n",
       "      <td>0.598265</td>\n",
       "      <td>0.061944</td>\n",
       "      <td>0.667251</td>\n",
       "    </tr>\n",
       "    <tr>\n",
       "      <th>Kentucky</th>\n",
       "      <td>0.737247</td>\n",
       "      <td>0.966442</td>\n",
       "      <td>0.579385</td>\n",
       "      <td>0.810519</td>\n",
       "      <td>0.313185</td>\n",
       "      <td>0.417742</td>\n",
       "      <td>0.633720</td>\n",
       "      <td>0.625720</td>\n",
       "      <td>0.692504</td>\n",
       "      <td>0.049450</td>\n",
       "    </tr>\n",
       "    <tr>\n",
       "      <th>Arizona</th>\n",
       "      <td>0.269428</td>\n",
       "      <td>0.710996</td>\n",
       "      <td>0.145045</td>\n",
       "      <td>0.918427</td>\n",
       "      <td>0.624265</td>\n",
       "      <td>0.925460</td>\n",
       "      <td>0.527895</td>\n",
       "      <td>0.212745</td>\n",
       "      <td>0.036845</td>\n",
       "      <td>0.729117</td>\n",
       "    </tr>\n",
       "    <tr>\n",
       "      <th>Rhode Island</th>\n",
       "      <td>0.025934</td>\n",
       "      <td>0.697926</td>\n",
       "      <td>0.740020</td>\n",
       "      <td>0.616330</td>\n",
       "      <td>0.943233</td>\n",
       "      <td>0.078846</td>\n",
       "      <td>0.385350</td>\n",
       "      <td>0.145199</td>\n",
       "      <td>0.684049</td>\n",
       "      <td>0.344951</td>\n",
       "    </tr>\n",
       "    <tr>\n",
       "      <th>Texas</th>\n",
       "      <td>0.702625</td>\n",
       "      <td>0.874186</td>\n",
       "      <td>0.964754</td>\n",
       "      <td>0.804623</td>\n",
       "      <td>0.552918</td>\n",
       "      <td>0.149296</td>\n",
       "      <td>0.927741</td>\n",
       "      <td>0.130347</td>\n",
       "      <td>0.844715</td>\n",
       "      <td>0.007978</td>\n",
       "    </tr>\n",
       "  </tbody>\n",
       "</table>\n",
       "<p>100 rows × 10 columns</p>\n",
       "</div>"
      ],
      "text/plain": [
       "                    TV      body     chair       get      late      left  \\\n",
       "New Jersey    0.891934  0.857982  0.695081  0.657985  0.976793  0.356825   \n",
       "New Mexico    0.004083  0.415173  0.742531  0.537690  0.685327  0.409860   \n",
       "Mississippi   0.094022  0.437172  0.724468  0.493269  0.619632  0.733510   \n",
       "Hawaii        0.665872  0.010202  0.369409  0.165724  0.403677  0.770041   \n",
       "Wyoming       0.683302  0.576557  0.044858  0.234081  0.084439  0.270449   \n",
       "...                ...       ...       ...       ...       ...       ...   \n",
       "Minnesota     0.874646  0.767367  0.536507  0.413960  0.317540  0.385611   \n",
       "Kentucky      0.737247  0.966442  0.579385  0.810519  0.313185  0.417742   \n",
       "Arizona       0.269428  0.710996  0.145045  0.918427  0.624265  0.925460   \n",
       "Rhode Island  0.025934  0.697926  0.740020  0.616330  0.943233  0.078846   \n",
       "Texas         0.702625  0.874186  0.964754  0.804623  0.552918  0.149296   \n",
       "\n",
       "               meeting      only  physical   present  \n",
       "New Jersey    0.561040  0.982943  0.212636  0.855713  \n",
       "New Mexico    0.498082  0.859793  0.386159  0.197923  \n",
       "Mississippi   0.634802  0.240760  0.736518  0.526760  \n",
       "Hawaii        0.694037  0.892010  0.912080  0.591518  \n",
       "Wyoming       0.114205  0.863667  0.170244  0.374354  \n",
       "...                ...       ...       ...       ...  \n",
       "Minnesota     0.154874  0.598265  0.061944  0.667251  \n",
       "Kentucky      0.633720  0.625720  0.692504  0.049450  \n",
       "Arizona       0.527895  0.212745  0.036845  0.729117  \n",
       "Rhode Island  0.385350  0.145199  0.684049  0.344951  \n",
       "Texas         0.927741  0.130347  0.844715  0.007978  \n",
       "\n",
       "[100 rows x 10 columns]"
      ]
     },
     "execution_count": 78,
     "metadata": {},
     "output_type": "execute_result"
    }
   ],
   "source": [
    "#indexing options:\n",
    "#1) df[column]\n",
    "new_df = pd.DataFrame(np.random.rand(1000).reshape((100, 10)),\n",
    "                     index=states_index,\n",
    "                     columns=columnNames)\n",
    "new_df.reindex(sorted(columnNames), axis=1)"
   ]
  },
  {
   "cell_type": "code",
   "execution_count": 79,
   "id": "ce20c476-6ce6-4c80-9382-f2070839adce",
   "metadata": {},
   "outputs": [
    {
     "data": {
      "text/html": [
       "<div>\n",
       "<style scoped>\n",
       "    .dataframe tbody tr th:only-of-type {\n",
       "        vertical-align: middle;\n",
       "    }\n",
       "\n",
       "    .dataframe tbody tr th {\n",
       "        vertical-align: top;\n",
       "    }\n",
       "\n",
       "    .dataframe thead th {\n",
       "        text-align: right;\n",
       "    }\n",
       "</style>\n",
       "<table border=\"1\" class=\"dataframe\">\n",
       "  <thead>\n",
       "    <tr style=\"text-align: right;\">\n",
       "      <th></th>\n",
       "      <th>TV</th>\n",
       "      <th>body</th>\n",
       "      <th>chair</th>\n",
       "      <th>get</th>\n",
       "      <th>late</th>\n",
       "      <th>left</th>\n",
       "      <th>meeting</th>\n",
       "      <th>only</th>\n",
       "      <th>physical</th>\n",
       "      <th>present</th>\n",
       "    </tr>\n",
       "  </thead>\n",
       "  <tbody>\n",
       "    <tr>\n",
       "      <th>New Jersey</th>\n",
       "      <td>0.891934</td>\n",
       "      <td>0.857982</td>\n",
       "      <td>0.695081</td>\n",
       "      <td>0.657985</td>\n",
       "      <td>0.976793</td>\n",
       "      <td>0.356825</td>\n",
       "      <td>0.561040</td>\n",
       "      <td>0.982943</td>\n",
       "      <td>0.212636</td>\n",
       "      <td>0.855713</td>\n",
       "    </tr>\n",
       "    <tr>\n",
       "      <th>New Mexico</th>\n",
       "      <td>0.004083</td>\n",
       "      <td>0.415173</td>\n",
       "      <td>0.742531</td>\n",
       "      <td>0.537690</td>\n",
       "      <td>0.685327</td>\n",
       "      <td>0.409860</td>\n",
       "      <td>0.498082</td>\n",
       "      <td>0.859793</td>\n",
       "      <td>0.386159</td>\n",
       "      <td>0.197923</td>\n",
       "    </tr>\n",
       "    <tr>\n",
       "      <th>Mississippi</th>\n",
       "      <td>0.094022</td>\n",
       "      <td>0.437172</td>\n",
       "      <td>0.724468</td>\n",
       "      <td>0.493269</td>\n",
       "      <td>0.619632</td>\n",
       "      <td>0.733510</td>\n",
       "      <td>0.634802</td>\n",
       "      <td>0.240760</td>\n",
       "      <td>0.736518</td>\n",
       "      <td>0.526760</td>\n",
       "    </tr>\n",
       "    <tr>\n",
       "      <th>Hawaii</th>\n",
       "      <td>0.665872</td>\n",
       "      <td>0.010202</td>\n",
       "      <td>0.369409</td>\n",
       "      <td>0.165724</td>\n",
       "      <td>0.403677</td>\n",
       "      <td>0.770041</td>\n",
       "      <td>0.694037</td>\n",
       "      <td>0.892010</td>\n",
       "      <td>0.912080</td>\n",
       "      <td>0.591518</td>\n",
       "    </tr>\n",
       "    <tr>\n",
       "      <th>Wyoming</th>\n",
       "      <td>0.683302</td>\n",
       "      <td>0.576557</td>\n",
       "      <td>0.044858</td>\n",
       "      <td>0.234081</td>\n",
       "      <td>0.084439</td>\n",
       "      <td>0.270449</td>\n",
       "      <td>0.114205</td>\n",
       "      <td>0.863667</td>\n",
       "      <td>0.170244</td>\n",
       "      <td>0.374354</td>\n",
       "    </tr>\n",
       "    <tr>\n",
       "      <th>...</th>\n",
       "      <td>...</td>\n",
       "      <td>...</td>\n",
       "      <td>...</td>\n",
       "      <td>...</td>\n",
       "      <td>...</td>\n",
       "      <td>...</td>\n",
       "      <td>...</td>\n",
       "      <td>...</td>\n",
       "      <td>...</td>\n",
       "      <td>...</td>\n",
       "    </tr>\n",
       "    <tr>\n",
       "      <th>Minnesota</th>\n",
       "      <td>0.874646</td>\n",
       "      <td>0.767367</td>\n",
       "      <td>0.536507</td>\n",
       "      <td>0.413960</td>\n",
       "      <td>0.317540</td>\n",
       "      <td>0.385611</td>\n",
       "      <td>0.154874</td>\n",
       "      <td>0.598265</td>\n",
       "      <td>0.061944</td>\n",
       "      <td>0.667251</td>\n",
       "    </tr>\n",
       "    <tr>\n",
       "      <th>Kentucky</th>\n",
       "      <td>0.737247</td>\n",
       "      <td>0.966442</td>\n",
       "      <td>0.579385</td>\n",
       "      <td>0.810519</td>\n",
       "      <td>0.313185</td>\n",
       "      <td>0.417742</td>\n",
       "      <td>0.633720</td>\n",
       "      <td>0.625720</td>\n",
       "      <td>0.692504</td>\n",
       "      <td>0.049450</td>\n",
       "    </tr>\n",
       "    <tr>\n",
       "      <th>Arizona</th>\n",
       "      <td>0.269428</td>\n",
       "      <td>0.710996</td>\n",
       "      <td>0.145045</td>\n",
       "      <td>0.918427</td>\n",
       "      <td>0.624265</td>\n",
       "      <td>0.925460</td>\n",
       "      <td>0.527895</td>\n",
       "      <td>0.212745</td>\n",
       "      <td>0.036845</td>\n",
       "      <td>0.729117</td>\n",
       "    </tr>\n",
       "    <tr>\n",
       "      <th>Rhode Island</th>\n",
       "      <td>0.025934</td>\n",
       "      <td>0.697926</td>\n",
       "      <td>0.740020</td>\n",
       "      <td>0.616330</td>\n",
       "      <td>0.943233</td>\n",
       "      <td>0.078846</td>\n",
       "      <td>0.385350</td>\n",
       "      <td>0.145199</td>\n",
       "      <td>0.684049</td>\n",
       "      <td>0.344951</td>\n",
       "    </tr>\n",
       "    <tr>\n",
       "      <th>Texas</th>\n",
       "      <td>0.702625</td>\n",
       "      <td>0.874186</td>\n",
       "      <td>0.964754</td>\n",
       "      <td>0.804623</td>\n",
       "      <td>0.552918</td>\n",
       "      <td>0.149296</td>\n",
       "      <td>0.927741</td>\n",
       "      <td>0.130347</td>\n",
       "      <td>0.844715</td>\n",
       "      <td>0.007978</td>\n",
       "    </tr>\n",
       "  </tbody>\n",
       "</table>\n",
       "<p>100 rows × 10 columns</p>\n",
       "</div>"
      ],
      "text/plain": [
       "                    TV      body     chair       get      late      left  \\\n",
       "New Jersey    0.891934  0.857982  0.695081  0.657985  0.976793  0.356825   \n",
       "New Mexico    0.004083  0.415173  0.742531  0.537690  0.685327  0.409860   \n",
       "Mississippi   0.094022  0.437172  0.724468  0.493269  0.619632  0.733510   \n",
       "Hawaii        0.665872  0.010202  0.369409  0.165724  0.403677  0.770041   \n",
       "Wyoming       0.683302  0.576557  0.044858  0.234081  0.084439  0.270449   \n",
       "...                ...       ...       ...       ...       ...       ...   \n",
       "Minnesota     0.874646  0.767367  0.536507  0.413960  0.317540  0.385611   \n",
       "Kentucky      0.737247  0.966442  0.579385  0.810519  0.313185  0.417742   \n",
       "Arizona       0.269428  0.710996  0.145045  0.918427  0.624265  0.925460   \n",
       "Rhode Island  0.025934  0.697926  0.740020  0.616330  0.943233  0.078846   \n",
       "Texas         0.702625  0.874186  0.964754  0.804623  0.552918  0.149296   \n",
       "\n",
       "               meeting      only  physical   present  \n",
       "New Jersey    0.561040  0.982943  0.212636  0.855713  \n",
       "New Mexico    0.498082  0.859793  0.386159  0.197923  \n",
       "Mississippi   0.634802  0.240760  0.736518  0.526760  \n",
       "Hawaii        0.694037  0.892010  0.912080  0.591518  \n",
       "Wyoming       0.114205  0.863667  0.170244  0.374354  \n",
       "...                ...       ...       ...       ...  \n",
       "Minnesota     0.154874  0.598265  0.061944  0.667251  \n",
       "Kentucky      0.633720  0.625720  0.692504  0.049450  \n",
       "Arizona       0.527895  0.212745  0.036845  0.729117  \n",
       "Rhode Island  0.385350  0.145199  0.684049  0.344951  \n",
       "Texas         0.927741  0.130347  0.844715  0.007978  \n",
       "\n",
       "[100 rows x 10 columns]"
      ]
     },
     "execution_count": 79,
     "metadata": {},
     "output_type": "execute_result"
    }
   ],
   "source": [
    "new_index = columnNames.sort_values() #we can call the sort_values method of the pd.Index object\n",
    "new_df.reindex(new_index, axis=1)"
   ]
  },
  {
   "cell_type": "code",
   "execution_count": 80,
   "id": "bb88feb2-5d0f-410c-9b1d-69e46e1fcaa8",
   "metadata": {},
   "outputs": [
    {
     "data": {
      "text/html": [
       "<div>\n",
       "<style scoped>\n",
       "    .dataframe tbody tr th:only-of-type {\n",
       "        vertical-align: middle;\n",
       "    }\n",
       "\n",
       "    .dataframe tbody tr th {\n",
       "        vertical-align: top;\n",
       "    }\n",
       "\n",
       "    .dataframe thead th {\n",
       "        text-align: right;\n",
       "    }\n",
       "</style>\n",
       "<table border=\"1\" class=\"dataframe\">\n",
       "  <thead>\n",
       "    <tr style=\"text-align: right;\">\n",
       "      <th></th>\n",
       "      <th>get</th>\n",
       "      <th>only</th>\n",
       "      <th>chair</th>\n",
       "      <th>physical</th>\n",
       "      <th>late</th>\n",
       "      <th>TV</th>\n",
       "      <th>body</th>\n",
       "      <th>meeting</th>\n",
       "      <th>present</th>\n",
       "      <th>left</th>\n",
       "    </tr>\n",
       "  </thead>\n",
       "  <tbody>\n",
       "    <tr>\n",
       "      <th>Montana</th>\n",
       "      <td>0.250366</td>\n",
       "      <td>0.318648</td>\n",
       "      <td>0.861528</td>\n",
       "      <td>0.188790</td>\n",
       "      <td>0.712968</td>\n",
       "      <td>0.251540</td>\n",
       "      <td>0.355893</td>\n",
       "      <td>0.579560</td>\n",
       "      <td>0.105577</td>\n",
       "      <td>0.584092</td>\n",
       "    </tr>\n",
       "    <tr>\n",
       "      <th>Montana</th>\n",
       "      <td>0.682804</td>\n",
       "      <td>0.903597</td>\n",
       "      <td>0.890277</td>\n",
       "      <td>0.906357</td>\n",
       "      <td>0.745009</td>\n",
       "      <td>0.124435</td>\n",
       "      <td>0.229015</td>\n",
       "      <td>0.077205</td>\n",
       "      <td>0.697047</td>\n",
       "      <td>0.061864</td>\n",
       "    </tr>\n",
       "  </tbody>\n",
       "</table>\n",
       "</div>"
      ],
      "text/plain": [
       "              get      only     chair  physical      late        TV      body  \\\n",
       "Montana  0.250366  0.318648  0.861528  0.188790  0.712968  0.251540  0.355893   \n",
       "Montana  0.682804  0.903597  0.890277  0.906357  0.745009  0.124435  0.229015   \n",
       "\n",
       "          meeting   present      left  \n",
       "Montana  0.579560  0.105577  0.584092  \n",
       "Montana  0.077205  0.697047  0.061864  "
      ]
     },
     "execution_count": 80,
     "metadata": {},
     "output_type": "execute_result"
    }
   ],
   "source": [
    "new_df.loc['Montana']"
   ]
  },
  {
   "cell_type": "code",
   "execution_count": 81,
   "id": "1c1b3354-bc16-42b5-b0b6-695e8e516568",
   "metadata": {},
   "outputs": [
    {
     "data": {
      "text/plain": [
       "Index(['New Jersey', 'New Mexico', 'Mississippi', 'Hawaii', 'Wyoming', 'Iowa',\n",
       "       'Virginia', 'Arkansas', 'Alaska', 'Florida', 'Idaho', 'Iowa',\n",
       "       'Colorado', 'Oregon', 'Wyoming', 'Washington', 'Oregon', 'Connecticut',\n",
       "       'Nevada', 'Massachusetts', 'Arkansas', 'Arkansas', 'Vermont',\n",
       "       'New Hampshire', 'Colorado', 'Iowa', 'Maine', 'Utah', 'Kentucky',\n",
       "       'Alabama', 'Missouri', 'Connecticut', 'Ohio', 'Tennessee', 'Oregon',\n",
       "       'Colorado', 'Kansas', 'Alabama', 'New Hampshire', 'Arkansas', 'Idaho',\n",
       "       'Montana', 'South Carolina', 'Nebraska', 'Rhode Island', 'Tennessee',\n",
       "       'Alaska', 'Louisiana', 'Utah', 'Oregon', 'Idaho', 'Virginia',\n",
       "       'Louisiana', 'Colorado', 'Oregon', 'Massachusetts', 'North Carolina',\n",
       "       'South Dakota', 'Alabama', 'Rhode Island', 'Oregon', 'Utah', 'Alaska',\n",
       "       'Alabama', 'New Mexico', 'New York', 'Illinois', 'Idaho', 'Connecticut',\n",
       "       'Nebraska', 'Nebraska', 'Arkansas', 'North Carolina', 'West Virginia',\n",
       "       'Arkansas', 'Texas', 'Maine', 'Maryland', 'Virginia', 'Nebraska',\n",
       "       'North Carolina', 'Wyoming', 'Iowa', 'Connecticut', 'Arizona',\n",
       "       'Arizona', 'Tennessee', 'Alabama', 'Nebraska', 'Oklahoma', 'Arizona',\n",
       "       'Rhode Island', 'Florida', 'Montana', 'Vermont', 'Minnesota',\n",
       "       'Kentucky', 'Arizona', 'Rhode Island', 'Texas'],\n",
       "      dtype='object')"
      ]
     },
     "execution_count": 81,
     "metadata": {},
     "output_type": "execute_result"
    }
   ],
   "source": [
    "new_df.index"
   ]
  },
  {
   "cell_type": "code",
   "execution_count": 82,
   "id": "58449042-efa0-41e4-b0e2-0904d1f50435",
   "metadata": {},
   "outputs": [
    {
     "data": {
      "text/plain": [
       "New Jersey      0.657985\n",
       "New Mexico      0.537690\n",
       "Mississippi     0.493269\n",
       "Hawaii          0.165724\n",
       "Wyoming         0.234081\n",
       "                  ...   \n",
       "Minnesota       0.413960\n",
       "Kentucky        0.810519\n",
       "Arizona         0.918427\n",
       "Rhode Island    0.616330\n",
       "Texas           0.804623\n",
       "Name: get, Length: 100, dtype: float64"
      ]
     },
     "execution_count": 82,
     "metadata": {},
     "output_type": "execute_result"
    }
   ],
   "source": [
    "#df[column]\n",
    "new_df['get']"
   ]
  },
  {
   "cell_type": "code",
   "execution_count": 83,
   "id": "98f6a93c-e433-427d-892e-ff26f14f2519",
   "metadata": {},
   "outputs": [
    {
     "data": {
      "text/plain": [
       "Montana    0.861528\n",
       "Montana    0.890277\n",
       "Name: chair, dtype: float64"
      ]
     },
     "execution_count": 83,
     "metadata": {},
     "output_type": "execute_result"
    }
   ],
   "source": [
    "new_df.loc[['Montana'], 'chair']"
   ]
  },
  {
   "cell_type": "code",
   "execution_count": 84,
   "id": "60f781d9-e324-47f0-b650-1cfc0b772cb8",
   "metadata": {},
   "outputs": [
    {
     "data": {
      "text/html": [
       "<div>\n",
       "<style scoped>\n",
       "    .dataframe tbody tr th:only-of-type {\n",
       "        vertical-align: middle;\n",
       "    }\n",
       "\n",
       "    .dataframe tbody tr th {\n",
       "        vertical-align: top;\n",
       "    }\n",
       "\n",
       "    .dataframe thead th {\n",
       "        text-align: right;\n",
       "    }\n",
       "</style>\n",
       "<table border=\"1\" class=\"dataframe\">\n",
       "  <thead>\n",
       "    <tr style=\"text-align: right;\">\n",
       "      <th></th>\n",
       "      <th>body</th>\n",
       "    </tr>\n",
       "  </thead>\n",
       "  <tbody>\n",
       "    <tr>\n",
       "      <th>Montana</th>\n",
       "      <td>0.355893</td>\n",
       "    </tr>\n",
       "    <tr>\n",
       "      <th>Montana</th>\n",
       "      <td>0.229015</td>\n",
       "    </tr>\n",
       "  </tbody>\n",
       "</table>\n",
       "</div>"
      ],
      "text/plain": [
       "             body\n",
       "Montana  0.355893\n",
       "Montana  0.229015"
      ]
     },
     "execution_count": 84,
     "metadata": {},
     "output_type": "execute_result"
    }
   ],
   "source": [
    "new_df.loc[['Montana'], ['body']] #using a sequence creates a DataFrame rather than a Series"
   ]
  },
  {
   "cell_type": "code",
   "execution_count": 85,
   "id": "80d11584-d13c-4abe-99c0-662224b8a0f8",
   "metadata": {},
   "outputs": [
    {
     "data": {
      "text/html": [
       "<div>\n",
       "<style scoped>\n",
       "    .dataframe tbody tr th:only-of-type {\n",
       "        vertical-align: middle;\n",
       "    }\n",
       "\n",
       "    .dataframe tbody tr th {\n",
       "        vertical-align: top;\n",
       "    }\n",
       "\n",
       "    .dataframe thead th {\n",
       "        text-align: right;\n",
       "    }\n",
       "</style>\n",
       "<table border=\"1\" class=\"dataframe\">\n",
       "  <thead>\n",
       "    <tr style=\"text-align: right;\">\n",
       "      <th></th>\n",
       "      <th>physical</th>\n",
       "    </tr>\n",
       "  </thead>\n",
       "  <tbody>\n",
       "    <tr>\n",
       "      <th>Montana</th>\n",
       "      <td>0.188790</td>\n",
       "    </tr>\n",
       "    <tr>\n",
       "      <th>Montana</th>\n",
       "      <td>0.906357</td>\n",
       "    </tr>\n",
       "  </tbody>\n",
       "</table>\n",
       "</div>"
      ],
      "text/plain": [
       "         physical\n",
       "Montana  0.188790\n",
       "Montana  0.906357"
      ]
     },
     "execution_count": 85,
     "metadata": {},
     "output_type": "execute_result"
    }
   ],
   "source": [
    "new_df.loc['Montana', ['physical']] #converting the first part into a string rather than a single-item list produces\n",
    "#the same result"
   ]
  },
  {
   "cell_type": "code",
   "execution_count": null,
   "id": "1be6934a-8579-4bd3-bf38-a9242b5b5a5e",
   "metadata": {},
   "outputs": [],
   "source": []
  },
  {
   "cell_type": "code",
   "execution_count": 86,
   "id": "78f29da7-2b95-42d5-b8ef-9bf8d9355186",
   "metadata": {},
   "outputs": [
    {
     "data": {
      "text/html": [
       "<div>\n",
       "<style scoped>\n",
       "    .dataframe tbody tr th:only-of-type {\n",
       "        vertical-align: middle;\n",
       "    }\n",
       "\n",
       "    .dataframe tbody tr th {\n",
       "        vertical-align: top;\n",
       "    }\n",
       "\n",
       "    .dataframe thead th {\n",
       "        text-align: right;\n",
       "    }\n",
       "</style>\n",
       "<table border=\"1\" class=\"dataframe\">\n",
       "  <thead>\n",
       "    <tr style=\"text-align: right;\">\n",
       "      <th></th>\n",
       "      <th>get</th>\n",
       "      <th>only</th>\n",
       "      <th>chair</th>\n",
       "      <th>physical</th>\n",
       "      <th>late</th>\n",
       "      <th>TV</th>\n",
       "      <th>body</th>\n",
       "      <th>meeting</th>\n",
       "      <th>present</th>\n",
       "      <th>left</th>\n",
       "    </tr>\n",
       "  </thead>\n",
       "  <tbody>\n",
       "    <tr>\n",
       "      <th>Montana</th>\n",
       "      <td>0.250366</td>\n",
       "      <td>0.318648</td>\n",
       "      <td>0.861528</td>\n",
       "      <td>0.188790</td>\n",
       "      <td>0.712968</td>\n",
       "      <td>0.251540</td>\n",
       "      <td>0.355893</td>\n",
       "      <td>0.579560</td>\n",
       "      <td>0.105577</td>\n",
       "      <td>0.584092</td>\n",
       "    </tr>\n",
       "    <tr>\n",
       "      <th>Montana</th>\n",
       "      <td>0.682804</td>\n",
       "      <td>0.903597</td>\n",
       "      <td>0.890277</td>\n",
       "      <td>0.906357</td>\n",
       "      <td>0.745009</td>\n",
       "      <td>0.124435</td>\n",
       "      <td>0.229015</td>\n",
       "      <td>0.077205</td>\n",
       "      <td>0.697047</td>\n",
       "      <td>0.061864</td>\n",
       "    </tr>\n",
       "  </tbody>\n",
       "</table>\n",
       "</div>"
      ],
      "text/plain": [
       "              get      only     chair  physical      late        TV      body  \\\n",
       "Montana  0.250366  0.318648  0.861528  0.188790  0.712968  0.251540  0.355893   \n",
       "Montana  0.682804  0.903597  0.890277  0.906357  0.745009  0.124435  0.229015   \n",
       "\n",
       "          meeting   present      left  \n",
       "Montana  0.579560  0.105577  0.584092  \n",
       "Montana  0.077205  0.697047  0.061864  "
      ]
     },
     "execution_count": 86,
     "metadata": {},
     "output_type": "execute_result"
    }
   ],
   "source": [
    "#df.loc[rows] select single row or subset of rows from the DataFrame by label\n",
    "new_df.loc['Montana']"
   ]
  },
  {
   "cell_type": "code",
   "execution_count": 87,
   "id": "9523f2a2-703b-4bf9-be95-a6bd6004183c",
   "metadata": {},
   "outputs": [
    {
     "data": {
      "text/html": [
       "<div>\n",
       "<style scoped>\n",
       "    .dataframe tbody tr th:only-of-type {\n",
       "        vertical-align: middle;\n",
       "    }\n",
       "\n",
       "    .dataframe tbody tr th {\n",
       "        vertical-align: top;\n",
       "    }\n",
       "\n",
       "    .dataframe thead th {\n",
       "        text-align: right;\n",
       "    }\n",
       "</style>\n",
       "<table border=\"1\" class=\"dataframe\">\n",
       "  <thead>\n",
       "    <tr style=\"text-align: right;\">\n",
       "      <th></th>\n",
       "      <th>get</th>\n",
       "      <th>only</th>\n",
       "      <th>chair</th>\n",
       "      <th>physical</th>\n",
       "      <th>late</th>\n",
       "      <th>TV</th>\n",
       "      <th>body</th>\n",
       "      <th>meeting</th>\n",
       "      <th>present</th>\n",
       "      <th>left</th>\n",
       "    </tr>\n",
       "  </thead>\n",
       "  <tbody>\n",
       "    <tr>\n",
       "      <th>Montana</th>\n",
       "      <td>0.250366</td>\n",
       "      <td>0.318648</td>\n",
       "      <td>0.861528</td>\n",
       "      <td>0.188790</td>\n",
       "      <td>0.712968</td>\n",
       "      <td>0.251540</td>\n",
       "      <td>0.355893</td>\n",
       "      <td>0.579560</td>\n",
       "      <td>0.105577</td>\n",
       "      <td>0.584092</td>\n",
       "    </tr>\n",
       "    <tr>\n",
       "      <th>Montana</th>\n",
       "      <td>0.682804</td>\n",
       "      <td>0.903597</td>\n",
       "      <td>0.890277</td>\n",
       "      <td>0.906357</td>\n",
       "      <td>0.745009</td>\n",
       "      <td>0.124435</td>\n",
       "      <td>0.229015</td>\n",
       "      <td>0.077205</td>\n",
       "      <td>0.697047</td>\n",
       "      <td>0.061864</td>\n",
       "    </tr>\n",
       "    <tr>\n",
       "      <th>Virginia</th>\n",
       "      <td>0.196828</td>\n",
       "      <td>0.494246</td>\n",
       "      <td>0.284430</td>\n",
       "      <td>0.610643</td>\n",
       "      <td>0.148994</td>\n",
       "      <td>0.590165</td>\n",
       "      <td>0.719782</td>\n",
       "      <td>0.685751</td>\n",
       "      <td>0.103747</td>\n",
       "      <td>0.467951</td>\n",
       "    </tr>\n",
       "    <tr>\n",
       "      <th>Virginia</th>\n",
       "      <td>0.472613</td>\n",
       "      <td>0.891464</td>\n",
       "      <td>0.640033</td>\n",
       "      <td>0.350344</td>\n",
       "      <td>0.177277</td>\n",
       "      <td>0.819383</td>\n",
       "      <td>0.544063</td>\n",
       "      <td>0.924594</td>\n",
       "      <td>0.118953</td>\n",
       "      <td>0.165664</td>\n",
       "    </tr>\n",
       "    <tr>\n",
       "      <th>Virginia</th>\n",
       "      <td>0.791953</td>\n",
       "      <td>0.765742</td>\n",
       "      <td>0.980966</td>\n",
       "      <td>0.553481</td>\n",
       "      <td>0.767909</td>\n",
       "      <td>0.031520</td>\n",
       "      <td>0.492839</td>\n",
       "      <td>0.332497</td>\n",
       "      <td>0.331979</td>\n",
       "      <td>0.681911</td>\n",
       "    </tr>\n",
       "  </tbody>\n",
       "</table>\n",
       "</div>"
      ],
      "text/plain": [
       "               get      only     chair  physical      late        TV  \\\n",
       "Montana   0.250366  0.318648  0.861528  0.188790  0.712968  0.251540   \n",
       "Montana   0.682804  0.903597  0.890277  0.906357  0.745009  0.124435   \n",
       "Virginia  0.196828  0.494246  0.284430  0.610643  0.148994  0.590165   \n",
       "Virginia  0.472613  0.891464  0.640033  0.350344  0.177277  0.819383   \n",
       "Virginia  0.791953  0.765742  0.980966  0.553481  0.767909  0.031520   \n",
       "\n",
       "              body   meeting   present      left  \n",
       "Montana   0.355893  0.579560  0.105577  0.584092  \n",
       "Montana   0.229015  0.077205  0.697047  0.061864  \n",
       "Virginia  0.719782  0.685751  0.103747  0.467951  \n",
       "Virginia  0.544063  0.924594  0.118953  0.165664  \n",
       "Virginia  0.492839  0.332497  0.331979  0.681911  "
      ]
     },
     "execution_count": 87,
     "metadata": {},
     "output_type": "execute_result"
    }
   ],
   "source": [
    "#df.loc[rows] select single row or subset of rows from the DataFrame by label\n",
    "new_df.loc[['Montana', 'Virginia']]"
   ]
  },
  {
   "cell_type": "code",
   "execution_count": 88,
   "id": "0ae3cb37-2e85-495f-978b-be18be99abfc",
   "metadata": {},
   "outputs": [
    {
     "data": {
      "text/plain": [
       "Rhode Island    0.895712\n",
       "Rhode Island    0.906608\n",
       "Rhode Island    0.857795\n",
       "Rhode Island    0.145199\n",
       "Name: only, dtype: float64"
      ]
     },
     "execution_count": 88,
     "metadata": {},
     "output_type": "execute_result"
    }
   ],
   "source": [
    "#df.loc[rows, cols] : select both rows and columns by label\n",
    "new_df.loc['Rhode Island', 'only']"
   ]
  },
  {
   "cell_type": "code",
   "execution_count": 89,
   "id": "ecbdf655-5df9-4311-af26-a8648d32469d",
   "metadata": {},
   "outputs": [
    {
     "data": {
      "text/html": [
       "<div>\n",
       "<style scoped>\n",
       "    .dataframe tbody tr th:only-of-type {\n",
       "        vertical-align: middle;\n",
       "    }\n",
       "\n",
       "    .dataframe tbody tr th {\n",
       "        vertical-align: top;\n",
       "    }\n",
       "\n",
       "    .dataframe thead th {\n",
       "        text-align: right;\n",
       "    }\n",
       "</style>\n",
       "<table border=\"1\" class=\"dataframe\">\n",
       "  <thead>\n",
       "    <tr style=\"text-align: right;\">\n",
       "      <th></th>\n",
       "      <th>only</th>\n",
       "      <th>present</th>\n",
       "    </tr>\n",
       "  </thead>\n",
       "  <tbody>\n",
       "    <tr>\n",
       "      <th>Rhode Island</th>\n",
       "      <td>0.895712</td>\n",
       "      <td>0.538717</td>\n",
       "    </tr>\n",
       "    <tr>\n",
       "      <th>Rhode Island</th>\n",
       "      <td>0.906608</td>\n",
       "      <td>0.934779</td>\n",
       "    </tr>\n",
       "    <tr>\n",
       "      <th>Rhode Island</th>\n",
       "      <td>0.857795</td>\n",
       "      <td>0.528081</td>\n",
       "    </tr>\n",
       "    <tr>\n",
       "      <th>Rhode Island</th>\n",
       "      <td>0.145199</td>\n",
       "      <td>0.344951</td>\n",
       "    </tr>\n",
       "  </tbody>\n",
       "</table>\n",
       "</div>"
      ],
      "text/plain": [
       "                  only   present\n",
       "Rhode Island  0.895712  0.538717\n",
       "Rhode Island  0.906608  0.934779\n",
       "Rhode Island  0.857795  0.528081\n",
       "Rhode Island  0.145199  0.344951"
      ]
     },
     "execution_count": 89,
     "metadata": {},
     "output_type": "execute_result"
    }
   ],
   "source": [
    "#df.loc[rows, cols]\n",
    "new_df.loc['Rhode Island', ['only', 'present']] "
   ]
  },
  {
   "cell_type": "code",
   "execution_count": 90,
   "id": "095f6ad6-84ea-4a80-be57-bd4143569522",
   "metadata": {},
   "outputs": [
    {
     "data": {
      "text/html": [
       "<div>\n",
       "<style scoped>\n",
       "    .dataframe tbody tr th:only-of-type {\n",
       "        vertical-align: middle;\n",
       "    }\n",
       "\n",
       "    .dataframe tbody tr th {\n",
       "        vertical-align: top;\n",
       "    }\n",
       "\n",
       "    .dataframe thead th {\n",
       "        text-align: right;\n",
       "    }\n",
       "</style>\n",
       "<table border=\"1\" class=\"dataframe\">\n",
       "  <thead>\n",
       "    <tr style=\"text-align: right;\">\n",
       "      <th></th>\n",
       "      <th>only</th>\n",
       "      <th>present</th>\n",
       "    </tr>\n",
       "  </thead>\n",
       "  <tbody>\n",
       "    <tr>\n",
       "      <th>Rhode Island</th>\n",
       "      <td>0.895712</td>\n",
       "      <td>0.538717</td>\n",
       "    </tr>\n",
       "    <tr>\n",
       "      <th>Rhode Island</th>\n",
       "      <td>0.906608</td>\n",
       "      <td>0.934779</td>\n",
       "    </tr>\n",
       "    <tr>\n",
       "      <th>Rhode Island</th>\n",
       "      <td>0.857795</td>\n",
       "      <td>0.528081</td>\n",
       "    </tr>\n",
       "    <tr>\n",
       "      <th>Rhode Island</th>\n",
       "      <td>0.145199</td>\n",
       "      <td>0.344951</td>\n",
       "    </tr>\n",
       "  </tbody>\n",
       "</table>\n",
       "</div>"
      ],
      "text/plain": [
       "                  only   present\n",
       "Rhode Island  0.895712  0.538717\n",
       "Rhode Island  0.906608  0.934779\n",
       "Rhode Island  0.857795  0.528081\n",
       "Rhode Island  0.145199  0.344951"
      ]
     },
     "execution_count": 90,
     "metadata": {},
     "output_type": "execute_result"
    }
   ],
   "source": [
    "#df.loc[rows, cols]\n",
    "new_df.loc[['Rhode Island'], ['only', 'present']] #same as above"
   ]
  },
  {
   "cell_type": "code",
   "execution_count": 91,
   "id": "1c83bdbf-8714-4830-89d3-03bbfe84693b",
   "metadata": {},
   "outputs": [
    {
     "data": {
      "text/html": [
       "<div>\n",
       "<style scoped>\n",
       "    .dataframe tbody tr th:only-of-type {\n",
       "        vertical-align: middle;\n",
       "    }\n",
       "\n",
       "    .dataframe tbody tr th {\n",
       "        vertical-align: top;\n",
       "    }\n",
       "\n",
       "    .dataframe thead th {\n",
       "        text-align: right;\n",
       "    }\n",
       "</style>\n",
       "<table border=\"1\" class=\"dataframe\">\n",
       "  <thead>\n",
       "    <tr style=\"text-align: right;\">\n",
       "      <th></th>\n",
       "      <th>only</th>\n",
       "    </tr>\n",
       "  </thead>\n",
       "  <tbody>\n",
       "    <tr>\n",
       "      <th>Rhode Island</th>\n",
       "      <td>0.895712</td>\n",
       "    </tr>\n",
       "    <tr>\n",
       "      <th>Rhode Island</th>\n",
       "      <td>0.906608</td>\n",
       "    </tr>\n",
       "    <tr>\n",
       "      <th>Rhode Island</th>\n",
       "      <td>0.857795</td>\n",
       "    </tr>\n",
       "    <tr>\n",
       "      <th>Rhode Island</th>\n",
       "      <td>0.145199</td>\n",
       "    </tr>\n",
       "    <tr>\n",
       "      <th>Virginia</th>\n",
       "      <td>0.494246</td>\n",
       "    </tr>\n",
       "    <tr>\n",
       "      <th>Virginia</th>\n",
       "      <td>0.891464</td>\n",
       "    </tr>\n",
       "    <tr>\n",
       "      <th>Virginia</th>\n",
       "      <td>0.765742</td>\n",
       "    </tr>\n",
       "  </tbody>\n",
       "</table>\n",
       "</div>"
      ],
      "text/plain": [
       "                  only\n",
       "Rhode Island  0.895712\n",
       "Rhode Island  0.906608\n",
       "Rhode Island  0.857795\n",
       "Rhode Island  0.145199\n",
       "Virginia      0.494246\n",
       "Virginia      0.891464\n",
       "Virginia      0.765742"
      ]
     },
     "execution_count": 91,
     "metadata": {},
     "output_type": "execute_result"
    }
   ],
   "source": [
    "#df.loc[rows, cols]\n",
    "new_df.loc[['Rhode Island', 'Virginia'], ['only']]"
   ]
  },
  {
   "cell_type": "code",
   "execution_count": 92,
   "id": "a59d4943-176e-40a5-a589-a909eb039726",
   "metadata": {},
   "outputs": [
    {
     "data": {
      "text/plain": [
       "Rhode Island    0.895712\n",
       "Rhode Island    0.906608\n",
       "Rhode Island    0.857795\n",
       "Rhode Island    0.145199\n",
       "Virginia        0.494246\n",
       "Virginia        0.891464\n",
       "Virginia        0.765742\n",
       "Name: only, dtype: float64"
      ]
     },
     "execution_count": 92,
     "metadata": {},
     "output_type": "execute_result"
    }
   ],
   "source": [
    "#df.loc[rows, cols]\n",
    "new_df.loc[['Rhode Island', 'Virginia'], 'only']"
   ]
  },
  {
   "cell_type": "code",
   "execution_count": 93,
   "id": "324c44fc-205e-4785-a4a4-3155e2f4e97b",
   "metadata": {},
   "outputs": [
    {
     "data": {
      "text/html": [
       "<div>\n",
       "<style scoped>\n",
       "    .dataframe tbody tr th:only-of-type {\n",
       "        vertical-align: middle;\n",
       "    }\n",
       "\n",
       "    .dataframe tbody tr th {\n",
       "        vertical-align: top;\n",
       "    }\n",
       "\n",
       "    .dataframe thead th {\n",
       "        text-align: right;\n",
       "    }\n",
       "</style>\n",
       "<table border=\"1\" class=\"dataframe\">\n",
       "  <thead>\n",
       "    <tr style=\"text-align: right;\">\n",
       "      <th></th>\n",
       "      <th>physical</th>\n",
       "      <th>present</th>\n",
       "    </tr>\n",
       "  </thead>\n",
       "  <tbody>\n",
       "    <tr>\n",
       "      <th>Rhode Island</th>\n",
       "      <td>0.335112</td>\n",
       "      <td>0.538717</td>\n",
       "    </tr>\n",
       "    <tr>\n",
       "      <th>Rhode Island</th>\n",
       "      <td>0.968646</td>\n",
       "      <td>0.934779</td>\n",
       "    </tr>\n",
       "    <tr>\n",
       "      <th>Rhode Island</th>\n",
       "      <td>0.881872</td>\n",
       "      <td>0.528081</td>\n",
       "    </tr>\n",
       "    <tr>\n",
       "      <th>Rhode Island</th>\n",
       "      <td>0.684049</td>\n",
       "      <td>0.344951</td>\n",
       "    </tr>\n",
       "    <tr>\n",
       "      <th>Virginia</th>\n",
       "      <td>0.610643</td>\n",
       "      <td>0.103747</td>\n",
       "    </tr>\n",
       "    <tr>\n",
       "      <th>Virginia</th>\n",
       "      <td>0.350344</td>\n",
       "      <td>0.118953</td>\n",
       "    </tr>\n",
       "    <tr>\n",
       "      <th>Virginia</th>\n",
       "      <td>0.553481</td>\n",
       "      <td>0.331979</td>\n",
       "    </tr>\n",
       "  </tbody>\n",
       "</table>\n",
       "</div>"
      ],
      "text/plain": [
       "              physical   present\n",
       "Rhode Island  0.335112  0.538717\n",
       "Rhode Island  0.968646  0.934779\n",
       "Rhode Island  0.881872  0.528081\n",
       "Rhode Island  0.684049  0.344951\n",
       "Virginia      0.610643  0.103747\n",
       "Virginia      0.350344  0.118953\n",
       "Virginia      0.553481  0.331979"
      ]
     },
     "execution_count": 93,
     "metadata": {},
     "output_type": "execute_result"
    }
   ],
   "source": [
    "#df.loc[rows, cols]\n",
    "new_df.loc[['Rhode Island', 'Virginia'], ['physical', 'present']]"
   ]
  },
  {
   "cell_type": "code",
   "execution_count": 94,
   "id": "ae829c4f-09e7-4362-ad5a-db4c95aa58b0",
   "metadata": {},
   "outputs": [
    {
     "data": {
      "text/plain": [
       "get         0.657985\n",
       "only        0.982943\n",
       "chair       0.695081\n",
       "physical    0.212636\n",
       "late        0.976793\n",
       "TV          0.891934\n",
       "body        0.857982\n",
       "meeting     0.561040\n",
       "present     0.855713\n",
       "left        0.356825\n",
       "Name: New Jersey, dtype: float64"
      ]
     },
     "execution_count": 94,
     "metadata": {},
     "output_type": "execute_result"
    }
   ],
   "source": [
    "#df.iloc[rows] \n",
    "new_df.iloc[0]"
   ]
  },
  {
   "cell_type": "code",
   "execution_count": 95,
   "id": "8b53f197-7e04-4a1f-a66e-90452ffe8ca0",
   "metadata": {},
   "outputs": [
    {
     "data": {
      "text/html": [
       "<div>\n",
       "<style scoped>\n",
       "    .dataframe tbody tr th:only-of-type {\n",
       "        vertical-align: middle;\n",
       "    }\n",
       "\n",
       "    .dataframe tbody tr th {\n",
       "        vertical-align: top;\n",
       "    }\n",
       "\n",
       "    .dataframe thead th {\n",
       "        text-align: right;\n",
       "    }\n",
       "</style>\n",
       "<table border=\"1\" class=\"dataframe\">\n",
       "  <thead>\n",
       "    <tr style=\"text-align: right;\">\n",
       "      <th></th>\n",
       "      <th>get</th>\n",
       "      <th>only</th>\n",
       "      <th>chair</th>\n",
       "      <th>physical</th>\n",
       "      <th>late</th>\n",
       "      <th>TV</th>\n",
       "      <th>body</th>\n",
       "      <th>meeting</th>\n",
       "      <th>present</th>\n",
       "      <th>left</th>\n",
       "    </tr>\n",
       "  </thead>\n",
       "  <tbody>\n",
       "    <tr>\n",
       "      <th>Mississippi</th>\n",
       "      <td>0.493269</td>\n",
       "      <td>0.240760</td>\n",
       "      <td>0.724468</td>\n",
       "      <td>0.736518</td>\n",
       "      <td>0.619632</td>\n",
       "      <td>0.094022</td>\n",
       "      <td>0.437172</td>\n",
       "      <td>0.634802</td>\n",
       "      <td>0.526760</td>\n",
       "      <td>0.733510</td>\n",
       "    </tr>\n",
       "    <tr>\n",
       "      <th>Hawaii</th>\n",
       "      <td>0.165724</td>\n",
       "      <td>0.892010</td>\n",
       "      <td>0.369409</td>\n",
       "      <td>0.912080</td>\n",
       "      <td>0.403677</td>\n",
       "      <td>0.665872</td>\n",
       "      <td>0.010202</td>\n",
       "      <td>0.694037</td>\n",
       "      <td>0.591518</td>\n",
       "      <td>0.770041</td>\n",
       "    </tr>\n",
       "    <tr>\n",
       "      <th>Wyoming</th>\n",
       "      <td>0.234081</td>\n",
       "      <td>0.863667</td>\n",
       "      <td>0.044858</td>\n",
       "      <td>0.170244</td>\n",
       "      <td>0.084439</td>\n",
       "      <td>0.683302</td>\n",
       "      <td>0.576557</td>\n",
       "      <td>0.114205</td>\n",
       "      <td>0.374354</td>\n",
       "      <td>0.270449</td>\n",
       "    </tr>\n",
       "    <tr>\n",
       "      <th>Iowa</th>\n",
       "      <td>0.980859</td>\n",
       "      <td>0.850547</td>\n",
       "      <td>0.183592</td>\n",
       "      <td>0.100376</td>\n",
       "      <td>0.283960</td>\n",
       "      <td>0.071804</td>\n",
       "      <td>0.725892</td>\n",
       "      <td>0.929272</td>\n",
       "      <td>0.181433</td>\n",
       "      <td>0.886533</td>\n",
       "    </tr>\n",
       "    <tr>\n",
       "      <th>Virginia</th>\n",
       "      <td>0.196828</td>\n",
       "      <td>0.494246</td>\n",
       "      <td>0.284430</td>\n",
       "      <td>0.610643</td>\n",
       "      <td>0.148994</td>\n",
       "      <td>0.590165</td>\n",
       "      <td>0.719782</td>\n",
       "      <td>0.685751</td>\n",
       "      <td>0.103747</td>\n",
       "      <td>0.467951</td>\n",
       "    </tr>\n",
       "    <tr>\n",
       "      <th>...</th>\n",
       "      <td>...</td>\n",
       "      <td>...</td>\n",
       "      <td>...</td>\n",
       "      <td>...</td>\n",
       "      <td>...</td>\n",
       "      <td>...</td>\n",
       "      <td>...</td>\n",
       "      <td>...</td>\n",
       "      <td>...</td>\n",
       "      <td>...</td>\n",
       "    </tr>\n",
       "    <tr>\n",
       "      <th>Minnesota</th>\n",
       "      <td>0.413960</td>\n",
       "      <td>0.598265</td>\n",
       "      <td>0.536507</td>\n",
       "      <td>0.061944</td>\n",
       "      <td>0.317540</td>\n",
       "      <td>0.874646</td>\n",
       "      <td>0.767367</td>\n",
       "      <td>0.154874</td>\n",
       "      <td>0.667251</td>\n",
       "      <td>0.385611</td>\n",
       "    </tr>\n",
       "    <tr>\n",
       "      <th>Kentucky</th>\n",
       "      <td>0.810519</td>\n",
       "      <td>0.625720</td>\n",
       "      <td>0.579385</td>\n",
       "      <td>0.692504</td>\n",
       "      <td>0.313185</td>\n",
       "      <td>0.737247</td>\n",
       "      <td>0.966442</td>\n",
       "      <td>0.633720</td>\n",
       "      <td>0.049450</td>\n",
       "      <td>0.417742</td>\n",
       "    </tr>\n",
       "    <tr>\n",
       "      <th>Arizona</th>\n",
       "      <td>0.918427</td>\n",
       "      <td>0.212745</td>\n",
       "      <td>0.145045</td>\n",
       "      <td>0.036845</td>\n",
       "      <td>0.624265</td>\n",
       "      <td>0.269428</td>\n",
       "      <td>0.710996</td>\n",
       "      <td>0.527895</td>\n",
       "      <td>0.729117</td>\n",
       "      <td>0.925460</td>\n",
       "    </tr>\n",
       "    <tr>\n",
       "      <th>Rhode Island</th>\n",
       "      <td>0.616330</td>\n",
       "      <td>0.145199</td>\n",
       "      <td>0.740020</td>\n",
       "      <td>0.684049</td>\n",
       "      <td>0.943233</td>\n",
       "      <td>0.025934</td>\n",
       "      <td>0.697926</td>\n",
       "      <td>0.385350</td>\n",
       "      <td>0.344951</td>\n",
       "      <td>0.078846</td>\n",
       "    </tr>\n",
       "    <tr>\n",
       "      <th>Texas</th>\n",
       "      <td>0.804623</td>\n",
       "      <td>0.130347</td>\n",
       "      <td>0.964754</td>\n",
       "      <td>0.844715</td>\n",
       "      <td>0.552918</td>\n",
       "      <td>0.702625</td>\n",
       "      <td>0.874186</td>\n",
       "      <td>0.927741</td>\n",
       "      <td>0.007978</td>\n",
       "      <td>0.149296</td>\n",
       "    </tr>\n",
       "  </tbody>\n",
       "</table>\n",
       "<p>98 rows × 10 columns</p>\n",
       "</div>"
      ],
      "text/plain": [
       "                   get      only     chair  physical      late        TV  \\\n",
       "Mississippi   0.493269  0.240760  0.724468  0.736518  0.619632  0.094022   \n",
       "Hawaii        0.165724  0.892010  0.369409  0.912080  0.403677  0.665872   \n",
       "Wyoming       0.234081  0.863667  0.044858  0.170244  0.084439  0.683302   \n",
       "Iowa          0.980859  0.850547  0.183592  0.100376  0.283960  0.071804   \n",
       "Virginia      0.196828  0.494246  0.284430  0.610643  0.148994  0.590165   \n",
       "...                ...       ...       ...       ...       ...       ...   \n",
       "Minnesota     0.413960  0.598265  0.536507  0.061944  0.317540  0.874646   \n",
       "Kentucky      0.810519  0.625720  0.579385  0.692504  0.313185  0.737247   \n",
       "Arizona       0.918427  0.212745  0.145045  0.036845  0.624265  0.269428   \n",
       "Rhode Island  0.616330  0.145199  0.740020  0.684049  0.943233  0.025934   \n",
       "Texas         0.804623  0.130347  0.964754  0.844715  0.552918  0.702625   \n",
       "\n",
       "                  body   meeting   present      left  \n",
       "Mississippi   0.437172  0.634802  0.526760  0.733510  \n",
       "Hawaii        0.010202  0.694037  0.591518  0.770041  \n",
       "Wyoming       0.576557  0.114205  0.374354  0.270449  \n",
       "Iowa          0.725892  0.929272  0.181433  0.886533  \n",
       "Virginia      0.719782  0.685751  0.103747  0.467951  \n",
       "...                ...       ...       ...       ...  \n",
       "Minnesota     0.767367  0.154874  0.667251  0.385611  \n",
       "Kentucky      0.966442  0.633720  0.049450  0.417742  \n",
       "Arizona       0.710996  0.527895  0.729117  0.925460  \n",
       "Rhode Island  0.697926  0.385350  0.344951  0.078846  \n",
       "Texas         0.874186  0.927741  0.007978  0.149296  \n",
       "\n",
       "[98 rows x 10 columns]"
      ]
     },
     "execution_count": 95,
     "metadata": {},
     "output_type": "execute_result"
    }
   ],
   "source": [
    "new_df.iloc[2:]"
   ]
  },
  {
   "cell_type": "code",
   "execution_count": 96,
   "id": "a50c91d0-3011-4be3-a150-b346d687ef91",
   "metadata": {},
   "outputs": [
    {
     "data": {
      "text/html": [
       "<div>\n",
       "<style scoped>\n",
       "    .dataframe tbody tr th:only-of-type {\n",
       "        vertical-align: middle;\n",
       "    }\n",
       "\n",
       "    .dataframe tbody tr th {\n",
       "        vertical-align: top;\n",
       "    }\n",
       "\n",
       "    .dataframe thead th {\n",
       "        text-align: right;\n",
       "    }\n",
       "</style>\n",
       "<table border=\"1\" class=\"dataframe\">\n",
       "  <thead>\n",
       "    <tr style=\"text-align: right;\">\n",
       "      <th></th>\n",
       "      <th>get</th>\n",
       "      <th>only</th>\n",
       "      <th>chair</th>\n",
       "      <th>physical</th>\n",
       "      <th>late</th>\n",
       "      <th>TV</th>\n",
       "      <th>body</th>\n",
       "      <th>meeting</th>\n",
       "      <th>present</th>\n",
       "      <th>left</th>\n",
       "    </tr>\n",
       "  </thead>\n",
       "  <tbody>\n",
       "    <tr>\n",
       "      <th>Iowa</th>\n",
       "      <td>0.142096</td>\n",
       "      <td>0.133166</td>\n",
       "      <td>0.335752</td>\n",
       "      <td>0.492786</td>\n",
       "      <td>0.314069</td>\n",
       "      <td>0.340812</td>\n",
       "      <td>0.862644</td>\n",
       "      <td>0.989840</td>\n",
       "      <td>0.449121</td>\n",
       "      <td>0.442443</td>\n",
       "    </tr>\n",
       "    <tr>\n",
       "      <th>Maine</th>\n",
       "      <td>0.082513</td>\n",
       "      <td>0.808971</td>\n",
       "      <td>0.807678</td>\n",
       "      <td>0.878597</td>\n",
       "      <td>0.544952</td>\n",
       "      <td>0.658202</td>\n",
       "      <td>0.986306</td>\n",
       "      <td>0.120496</td>\n",
       "      <td>0.678237</td>\n",
       "      <td>0.186978</td>\n",
       "    </tr>\n",
       "    <tr>\n",
       "      <th>Utah</th>\n",
       "      <td>0.139938</td>\n",
       "      <td>0.915125</td>\n",
       "      <td>0.871024</td>\n",
       "      <td>0.821246</td>\n",
       "      <td>0.303400</td>\n",
       "      <td>0.571518</td>\n",
       "      <td>0.446783</td>\n",
       "      <td>0.819390</td>\n",
       "      <td>0.896324</td>\n",
       "      <td>0.407153</td>\n",
       "    </tr>\n",
       "    <tr>\n",
       "      <th>Kentucky</th>\n",
       "      <td>0.653018</td>\n",
       "      <td>0.509020</td>\n",
       "      <td>0.084120</td>\n",
       "      <td>0.189963</td>\n",
       "      <td>0.625314</td>\n",
       "      <td>0.498573</td>\n",
       "      <td>0.363762</td>\n",
       "      <td>0.718204</td>\n",
       "      <td>0.266353</td>\n",
       "      <td>0.555758</td>\n",
       "    </tr>\n",
       "  </tbody>\n",
       "</table>\n",
       "</div>"
      ],
      "text/plain": [
       "               get      only     chair  physical      late        TV  \\\n",
       "Iowa      0.142096  0.133166  0.335752  0.492786  0.314069  0.340812   \n",
       "Maine     0.082513  0.808971  0.807678  0.878597  0.544952  0.658202   \n",
       "Utah      0.139938  0.915125  0.871024  0.821246  0.303400  0.571518   \n",
       "Kentucky  0.653018  0.509020  0.084120  0.189963  0.625314  0.498573   \n",
       "\n",
       "              body   meeting   present      left  \n",
       "Iowa      0.862644  0.989840  0.449121  0.442443  \n",
       "Maine     0.986306  0.120496  0.678237  0.186978  \n",
       "Utah      0.446783  0.819390  0.896324  0.407153  \n",
       "Kentucky  0.363762  0.718204  0.266353  0.555758  "
      ]
     },
     "execution_count": 96,
     "metadata": {},
     "output_type": "execute_result"
    }
   ],
   "source": [
    "#df.iloc[rows]\n",
    "new_df.iloc[25:29]"
   ]
  },
  {
   "cell_type": "code",
   "execution_count": 97,
   "id": "ddc75043-d9b0-493e-a97c-39bda0b22804",
   "metadata": {},
   "outputs": [
    {
     "data": {
      "text/plain": [
       "New Jersey      0.982943\n",
       "New Mexico      0.859793\n",
       "Mississippi     0.240760\n",
       "Hawaii          0.892010\n",
       "Wyoming         0.863667\n",
       "                  ...   \n",
       "Minnesota       0.598265\n",
       "Kentucky        0.625720\n",
       "Arizona         0.212745\n",
       "Rhode Island    0.145199\n",
       "Texas           0.130347\n",
       "Name: only, Length: 100, dtype: float64"
      ]
     },
     "execution_count": 97,
     "metadata": {},
     "output_type": "execute_result"
    }
   ],
   "source": [
    "#df.iloc[:, cols]\n",
    "new_df.iloc[:, 1]"
   ]
  },
  {
   "cell_type": "code",
   "execution_count": 98,
   "id": "b21f799d-029d-4829-84d0-60b96ca2a319",
   "metadata": {},
   "outputs": [
    {
     "data": {
      "text/plain": [
       "New Jersey      0.356825\n",
       "New Mexico      0.409860\n",
       "Mississippi     0.733510\n",
       "Hawaii          0.770041\n",
       "Wyoming         0.270449\n",
       "                  ...   \n",
       "Minnesota       0.385611\n",
       "Kentucky        0.417742\n",
       "Arizona         0.925460\n",
       "Rhode Island    0.078846\n",
       "Texas           0.149296\n",
       "Name: left, Length: 100, dtype: float64"
      ]
     },
     "execution_count": 98,
     "metadata": {},
     "output_type": "execute_result"
    }
   ],
   "source": [
    "#new_df.iloc[:, columns]\n",
    "new_df.iloc[:, -1]"
   ]
  },
  {
   "cell_type": "code",
   "execution_count": 99,
   "id": "2d513d9f-ac64-47c3-9e40-a43420997864",
   "metadata": {},
   "outputs": [
    {
     "data": {
      "text/html": [
       "<div>\n",
       "<style scoped>\n",
       "    .dataframe tbody tr th:only-of-type {\n",
       "        vertical-align: middle;\n",
       "    }\n",
       "\n",
       "    .dataframe tbody tr th {\n",
       "        vertical-align: top;\n",
       "    }\n",
       "\n",
       "    .dataframe thead th {\n",
       "        text-align: right;\n",
       "    }\n",
       "</style>\n",
       "<table border=\"1\" class=\"dataframe\">\n",
       "  <thead>\n",
       "    <tr style=\"text-align: right;\">\n",
       "      <th></th>\n",
       "      <th>present</th>\n",
       "      <th>left</th>\n",
       "    </tr>\n",
       "  </thead>\n",
       "  <tbody>\n",
       "    <tr>\n",
       "      <th>New Jersey</th>\n",
       "      <td>0.855713</td>\n",
       "      <td>0.356825</td>\n",
       "    </tr>\n",
       "    <tr>\n",
       "      <th>New Mexico</th>\n",
       "      <td>0.197923</td>\n",
       "      <td>0.409860</td>\n",
       "    </tr>\n",
       "    <tr>\n",
       "      <th>Mississippi</th>\n",
       "      <td>0.526760</td>\n",
       "      <td>0.733510</td>\n",
       "    </tr>\n",
       "    <tr>\n",
       "      <th>Hawaii</th>\n",
       "      <td>0.591518</td>\n",
       "      <td>0.770041</td>\n",
       "    </tr>\n",
       "    <tr>\n",
       "      <th>Wyoming</th>\n",
       "      <td>0.374354</td>\n",
       "      <td>0.270449</td>\n",
       "    </tr>\n",
       "    <tr>\n",
       "      <th>...</th>\n",
       "      <td>...</td>\n",
       "      <td>...</td>\n",
       "    </tr>\n",
       "    <tr>\n",
       "      <th>Minnesota</th>\n",
       "      <td>0.667251</td>\n",
       "      <td>0.385611</td>\n",
       "    </tr>\n",
       "    <tr>\n",
       "      <th>Kentucky</th>\n",
       "      <td>0.049450</td>\n",
       "      <td>0.417742</td>\n",
       "    </tr>\n",
       "    <tr>\n",
       "      <th>Arizona</th>\n",
       "      <td>0.729117</td>\n",
       "      <td>0.925460</td>\n",
       "    </tr>\n",
       "    <tr>\n",
       "      <th>Rhode Island</th>\n",
       "      <td>0.344951</td>\n",
       "      <td>0.078846</td>\n",
       "    </tr>\n",
       "    <tr>\n",
       "      <th>Texas</th>\n",
       "      <td>0.007978</td>\n",
       "      <td>0.149296</td>\n",
       "    </tr>\n",
       "  </tbody>\n",
       "</table>\n",
       "<p>100 rows × 2 columns</p>\n",
       "</div>"
      ],
      "text/plain": [
       "               present      left\n",
       "New Jersey    0.855713  0.356825\n",
       "New Mexico    0.197923  0.409860\n",
       "Mississippi   0.526760  0.733510\n",
       "Hawaii        0.591518  0.770041\n",
       "Wyoming       0.374354  0.270449\n",
       "...                ...       ...\n",
       "Minnesota     0.667251  0.385611\n",
       "Kentucky      0.049450  0.417742\n",
       "Arizona       0.729117  0.925460\n",
       "Rhode Island  0.344951  0.078846\n",
       "Texas         0.007978  0.149296\n",
       "\n",
       "[100 rows x 2 columns]"
      ]
     },
     "execution_count": 99,
     "metadata": {},
     "output_type": "execute_result"
    }
   ],
   "source": [
    "#new_df.iloc[:, columns]\n",
    "new_df.iloc[:, -2:]"
   ]
  },
  {
   "cell_type": "code",
   "execution_count": 100,
   "id": "24d36e1c-1320-4bf2-981f-4c352ed94f49",
   "metadata": {},
   "outputs": [
    {
     "data": {
      "text/plain": [
       "0.619631802803102"
      ]
     },
     "execution_count": 100,
     "metadata": {},
     "output_type": "execute_result"
    }
   ],
   "source": [
    "#df.iloc[rows, cols]\n",
    "new_df.iloc[2, 4] #one item as a scalar"
   ]
  },
  {
   "cell_type": "code",
   "execution_count": 101,
   "id": "aa24b48e-e110-47d2-9437-5b4188ed14bf",
   "metadata": {},
   "outputs": [
    {
     "data": {
      "text/plain": [
       "late    0.619632\n",
       "Name: Mississippi, dtype: float64"
      ]
     },
     "execution_count": 101,
     "metadata": {},
     "output_type": "execute_result"
    }
   ],
   "source": [
    "#pattern is df.iloc[int, List[int]]\n",
    "new_df.iloc[2, [4]] #displays the index when we put the second item in a list"
   ]
  },
  {
   "cell_type": "code",
   "execution_count": 102,
   "id": "2c776777-24fd-49f8-8454-d9f9e18b5b5a",
   "metadata": {},
   "outputs": [
    {
     "data": {
      "text/plain": [
       "Mississippi    0.619632\n",
       "Name: late, dtype: float64"
      ]
     },
     "execution_count": 102,
     "metadata": {},
     "output_type": "execute_result"
    }
   ],
   "source": [
    "#pattern is df.iloc[List[int], int]\n",
    "new_df.iloc[[2], 4] #same as above "
   ]
  },
  {
   "cell_type": "code",
   "execution_count": 103,
   "id": "d51cfe0a-329b-476b-a05b-b8b8a02c84f2",
   "metadata": {},
   "outputs": [
    {
     "data": {
      "text/html": [
       "<div>\n",
       "<style scoped>\n",
       "    .dataframe tbody tr th:only-of-type {\n",
       "        vertical-align: middle;\n",
       "    }\n",
       "\n",
       "    .dataframe tbody tr th {\n",
       "        vertical-align: top;\n",
       "    }\n",
       "\n",
       "    .dataframe thead th {\n",
       "        text-align: right;\n",
       "    }\n",
       "</style>\n",
       "<table border=\"1\" class=\"dataframe\">\n",
       "  <thead>\n",
       "    <tr style=\"text-align: right;\">\n",
       "      <th></th>\n",
       "      <th>late</th>\n",
       "    </tr>\n",
       "  </thead>\n",
       "  <tbody>\n",
       "    <tr>\n",
       "      <th>Mississippi</th>\n",
       "      <td>0.619632</td>\n",
       "    </tr>\n",
       "  </tbody>\n",
       "</table>\n",
       "</div>"
      ],
      "text/plain": [
       "                 late\n",
       "Mississippi  0.619632"
      ]
     },
     "execution_count": 103,
     "metadata": {},
     "output_type": "execute_result"
    }
   ],
   "source": [
    "#pattern is df.iloc[List[int], List[int]]\n",
    "new_df.iloc[[2], [4]] #same as above "
   ]
  },
  {
   "cell_type": "code",
   "execution_count": 104,
   "id": "bd107b3d-eda1-4efa-803d-e85a23759c95",
   "metadata": {},
   "outputs": [
    {
     "data": {
      "text/html": [
       "<div>\n",
       "<style scoped>\n",
       "    .dataframe tbody tr th:only-of-type {\n",
       "        vertical-align: middle;\n",
       "    }\n",
       "\n",
       "    .dataframe tbody tr th {\n",
       "        vertical-align: top;\n",
       "    }\n",
       "\n",
       "    .dataframe thead th {\n",
       "        text-align: right;\n",
       "    }\n",
       "</style>\n",
       "<table border=\"1\" class=\"dataframe\">\n",
       "  <thead>\n",
       "    <tr style=\"text-align: right;\">\n",
       "      <th></th>\n",
       "      <th>late</th>\n",
       "    </tr>\n",
       "  </thead>\n",
       "  <tbody>\n",
       "    <tr>\n",
       "      <th>Mississippi</th>\n",
       "      <td>0.619632</td>\n",
       "    </tr>\n",
       "    <tr>\n",
       "      <th>Hawaii</th>\n",
       "      <td>0.403677</td>\n",
       "    </tr>\n",
       "  </tbody>\n",
       "</table>\n",
       "</div>"
      ],
      "text/plain": [
       "                 late\n",
       "Mississippi  0.619632\n",
       "Hawaii       0.403677"
      ]
     },
     "execution_count": 104,
     "metadata": {},
     "output_type": "execute_result"
    }
   ],
   "source": [
    "#pattern is df.iloc[List[int, int], List[int]]\n",
    "new_df.iloc[[2, 3], [4]] #dataframe with two rows one column"
   ]
  },
  {
   "cell_type": "code",
   "execution_count": 105,
   "id": "a323f5f1-8ecc-405f-af93-5aa62b6ee34b",
   "metadata": {},
   "outputs": [
    {
     "data": {
      "text/plain": [
       "late    0.619632\n",
       "TV      0.094022\n",
       "Name: Mississippi, dtype: float64"
      ]
     },
     "execution_count": 105,
     "metadata": {},
     "output_type": "execute_result"
    }
   ],
   "source": [
    "new_df.iloc[2, [4, 5]] #two items"
   ]
  },
  {
   "cell_type": "code",
   "execution_count": 106,
   "id": "1ff5e866-59f7-4e93-8777-f7f56fa3805d",
   "metadata": {},
   "outputs": [
    {
     "data": {
      "text/html": [
       "<div>\n",
       "<style scoped>\n",
       "    .dataframe tbody tr th:only-of-type {\n",
       "        vertical-align: middle;\n",
       "    }\n",
       "\n",
       "    .dataframe tbody tr th {\n",
       "        vertical-align: top;\n",
       "    }\n",
       "\n",
       "    .dataframe thead th {\n",
       "        text-align: right;\n",
       "    }\n",
       "</style>\n",
       "<table border=\"1\" class=\"dataframe\">\n",
       "  <thead>\n",
       "    <tr style=\"text-align: right;\">\n",
       "      <th></th>\n",
       "      <th>late</th>\n",
       "      <th>TV</th>\n",
       "    </tr>\n",
       "  </thead>\n",
       "  <tbody>\n",
       "    <tr>\n",
       "      <th>Mississippi</th>\n",
       "      <td>0.619632</td>\n",
       "      <td>0.094022</td>\n",
       "    </tr>\n",
       "  </tbody>\n",
       "</table>\n",
       "</div>"
      ],
      "text/plain": [
       "                 late        TV\n",
       "Mississippi  0.619632  0.094022"
      ]
     },
     "execution_count": 106,
     "metadata": {},
     "output_type": "execute_result"
    }
   ],
   "source": [
    "new_df.iloc[[2], [4, 5]] #DataFrame with two columns one row"
   ]
  },
  {
   "cell_type": "code",
   "execution_count": 107,
   "id": "9e10d362-ad50-4912-8998-c0396b033d6e",
   "metadata": {},
   "outputs": [
    {
     "data": {
      "text/html": [
       "<div>\n",
       "<style scoped>\n",
       "    .dataframe tbody tr th:only-of-type {\n",
       "        vertical-align: middle;\n",
       "    }\n",
       "\n",
       "    .dataframe tbody tr th {\n",
       "        vertical-align: top;\n",
       "    }\n",
       "\n",
       "    .dataframe thead th {\n",
       "        text-align: right;\n",
       "    }\n",
       "</style>\n",
       "<table border=\"1\" class=\"dataframe\">\n",
       "  <thead>\n",
       "    <tr style=\"text-align: right;\">\n",
       "      <th></th>\n",
       "      <th>late</th>\n",
       "      <th>TV</th>\n",
       "    </tr>\n",
       "  </thead>\n",
       "  <tbody>\n",
       "    <tr>\n",
       "      <th>Mississippi</th>\n",
       "      <td>0.619632</td>\n",
       "      <td>0.094022</td>\n",
       "    </tr>\n",
       "    <tr>\n",
       "      <th>New Mexico</th>\n",
       "      <td>0.685327</td>\n",
       "      <td>0.004083</td>\n",
       "    </tr>\n",
       "  </tbody>\n",
       "</table>\n",
       "</div>"
      ],
      "text/plain": [
       "                 late        TV\n",
       "Mississippi  0.619632  0.094022\n",
       "New Mexico   0.685327  0.004083"
      ]
     },
     "execution_count": 107,
     "metadata": {},
     "output_type": "execute_result"
    }
   ],
   "source": [
    "new_df.iloc[[2, 1], [4, 5]] #DataFrame with two "
   ]
  },
  {
   "cell_type": "code",
   "execution_count": 108,
   "id": "1950319f-cb58-4fdd-a8af-876b8d12c0d1",
   "metadata": {},
   "outputs": [
    {
     "data": {
      "text/html": [
       "<div>\n",
       "<style scoped>\n",
       "    .dataframe tbody tr th:only-of-type {\n",
       "        vertical-align: middle;\n",
       "    }\n",
       "\n",
       "    .dataframe tbody tr th {\n",
       "        vertical-align: top;\n",
       "    }\n",
       "\n",
       "    .dataframe thead th {\n",
       "        text-align: right;\n",
       "    }\n",
       "</style>\n",
       "<table border=\"1\" class=\"dataframe\">\n",
       "  <thead>\n",
       "    <tr style=\"text-align: right;\">\n",
       "      <th></th>\n",
       "      <th>physical</th>\n",
       "    </tr>\n",
       "  </thead>\n",
       "  <tbody>\n",
       "    <tr>\n",
       "      <th>New Jersey</th>\n",
       "      <td>0.212636</td>\n",
       "    </tr>\n",
       "    <tr>\n",
       "      <th>New Mexico</th>\n",
       "      <td>0.386159</td>\n",
       "    </tr>\n",
       "    <tr>\n",
       "      <th>Mississippi</th>\n",
       "      <td>0.736518</td>\n",
       "    </tr>\n",
       "    <tr>\n",
       "      <th>Hawaii</th>\n",
       "      <td>0.912080</td>\n",
       "    </tr>\n",
       "    <tr>\n",
       "      <th>Wyoming</th>\n",
       "      <td>0.170244</td>\n",
       "    </tr>\n",
       "    <tr>\n",
       "      <th>...</th>\n",
       "      <td>...</td>\n",
       "    </tr>\n",
       "    <tr>\n",
       "      <th>Minnesota</th>\n",
       "      <td>0.061944</td>\n",
       "    </tr>\n",
       "    <tr>\n",
       "      <th>Kentucky</th>\n",
       "      <td>0.692504</td>\n",
       "    </tr>\n",
       "    <tr>\n",
       "      <th>Arizona</th>\n",
       "      <td>0.036845</td>\n",
       "    </tr>\n",
       "    <tr>\n",
       "      <th>Rhode Island</th>\n",
       "      <td>0.684049</td>\n",
       "    </tr>\n",
       "    <tr>\n",
       "      <th>Texas</th>\n",
       "      <td>0.844715</td>\n",
       "    </tr>\n",
       "  </tbody>\n",
       "</table>\n",
       "<p>100 rows × 1 columns</p>\n",
       "</div>"
      ],
      "text/plain": [
       "              physical\n",
       "New Jersey    0.212636\n",
       "New Mexico    0.386159\n",
       "Mississippi   0.736518\n",
       "Hawaii        0.912080\n",
       "Wyoming       0.170244\n",
       "...                ...\n",
       "Minnesota     0.061944\n",
       "Kentucky      0.692504\n",
       "Arizona       0.036845\n",
       "Rhode Island  0.684049\n",
       "Texas         0.844715\n",
       "\n",
       "[100 rows x 1 columns]"
      ]
     },
     "execution_count": 108,
     "metadata": {},
     "output_type": "execute_result"
    }
   ],
   "source": [
    "#new_df.iloc[:, columns]\n",
    "new_df.iloc[:, [3]] #second item as a list makes a DataFrame"
   ]
  },
  {
   "cell_type": "code",
   "execution_count": 109,
   "id": "30363192-9011-42f6-9d0c-733ed262f3b7",
   "metadata": {},
   "outputs": [
    {
     "data": {
      "text/html": [
       "<div>\n",
       "<style scoped>\n",
       "    .dataframe tbody tr th:only-of-type {\n",
       "        vertical-align: middle;\n",
       "    }\n",
       "\n",
       "    .dataframe tbody tr th {\n",
       "        vertical-align: top;\n",
       "    }\n",
       "\n",
       "    .dataframe thead th {\n",
       "        text-align: right;\n",
       "    }\n",
       "</style>\n",
       "<table border=\"1\" class=\"dataframe\">\n",
       "  <thead>\n",
       "    <tr style=\"text-align: right;\">\n",
       "      <th></th>\n",
       "      <th>physical</th>\n",
       "    </tr>\n",
       "  </thead>\n",
       "  <tbody>\n",
       "    <tr>\n",
       "      <th>New Jersey</th>\n",
       "      <td>0.212636</td>\n",
       "    </tr>\n",
       "    <tr>\n",
       "      <th>New Mexico</th>\n",
       "      <td>0.386159</td>\n",
       "    </tr>\n",
       "    <tr>\n",
       "      <th>Mississippi</th>\n",
       "      <td>0.736518</td>\n",
       "    </tr>\n",
       "    <tr>\n",
       "      <th>Hawaii</th>\n",
       "      <td>0.912080</td>\n",
       "    </tr>\n",
       "    <tr>\n",
       "      <th>Wyoming</th>\n",
       "      <td>0.170244</td>\n",
       "    </tr>\n",
       "    <tr>\n",
       "      <th>...</th>\n",
       "      <td>...</td>\n",
       "    </tr>\n",
       "    <tr>\n",
       "      <th>Minnesota</th>\n",
       "      <td>0.061944</td>\n",
       "    </tr>\n",
       "    <tr>\n",
       "      <th>Kentucky</th>\n",
       "      <td>0.692504</td>\n",
       "    </tr>\n",
       "    <tr>\n",
       "      <th>Arizona</th>\n",
       "      <td>0.036845</td>\n",
       "    </tr>\n",
       "    <tr>\n",
       "      <th>Rhode Island</th>\n",
       "      <td>0.684049</td>\n",
       "    </tr>\n",
       "    <tr>\n",
       "      <th>Texas</th>\n",
       "      <td>0.844715</td>\n",
       "    </tr>\n",
       "  </tbody>\n",
       "</table>\n",
       "<p>100 rows × 1 columns</p>\n",
       "</div>"
      ],
      "text/plain": [
       "              physical\n",
       "New Jersey    0.212636\n",
       "New Mexico    0.386159\n",
       "Mississippi   0.736518\n",
       "Hawaii        0.912080\n",
       "Wyoming       0.170244\n",
       "...                ...\n",
       "Minnesota     0.061944\n",
       "Kentucky      0.692504\n",
       "Arizona       0.036845\n",
       "Rhode Island  0.684049\n",
       "Texas         0.844715\n",
       "\n",
       "[100 rows x 1 columns]"
      ]
     },
     "execution_count": 109,
     "metadata": {},
     "output_type": "execute_result"
    }
   ],
   "source": [
    "#new_df.iloc[:, columns]\n",
    "#pattern is new_df.iloc[..., List[int]]\n",
    "new_df.iloc[..., [3]] #second item as a list makes a DataFrame"
   ]
  },
  {
   "cell_type": "code",
   "execution_count": 110,
   "id": "ed1330fd-f3ce-4535-850e-0e6da99bd68f",
   "metadata": {},
   "outputs": [
    {
     "data": {
      "text/plain": [
       "0.21263566961045233"
      ]
     },
     "execution_count": 110,
     "metadata": {},
     "output_type": "execute_result"
    }
   ],
   "source": [
    "#df.at[row, col] #select a single scalar value by row and column label\n",
    "new_df.at['New Jersey', 'physical']"
   ]
  },
  {
   "cell_type": "code",
   "execution_count": 111,
   "id": "d1e6744c-4252-4659-8235-87502c1a6704",
   "metadata": {},
   "outputs": [
    {
     "data": {
      "text/plain": [
       "New Mexico    0.386159\n",
       "New Mexico    0.529167\n",
       "Name: physical, dtype: float64"
      ]
     },
     "execution_count": 111,
     "metadata": {},
     "output_type": "execute_result"
    }
   ],
   "source": [
    "#df.at doesn't work with lists, only individual values\n",
    "new_df.at['New Mexico', 'physical'] #returns more than one row if we have more than onel"
   ]
  },
  {
   "cell_type": "code",
   "execution_count": 112,
   "id": "4fd0a64a-616f-4003-8c8a-f7873f98313c",
   "metadata": {},
   "outputs": [
    {
     "data": {
      "text/plain": [
       "0.6579846743407672"
      ]
     },
     "execution_count": 112,
     "metadata": {},
     "output_type": "execute_result"
    }
   ],
   "source": [
    "#df.iat[row, column]\n",
    "new_df.iat[0, 0]"
   ]
  },
  {
   "cell_type": "code",
   "execution_count": 113,
   "id": "a8291096-723d-4ddb-8f04-58c047c46093",
   "metadata": {},
   "outputs": [
    {
     "data": {
      "text/plain": [
       "0.14929648528180683"
      ]
     },
     "execution_count": 113,
     "metadata": {},
     "output_type": "execute_result"
    }
   ],
   "source": [
    "#df.iat[row, column]\n",
    "new_df.iat[-1, -1]"
   ]
  },
  {
   "cell_type": "code",
   "execution_count": 114,
   "id": "a26782a9-761f-40e3-880b-54390cdd16bf",
   "metadata": {},
   "outputs": [
    {
     "name": "stdout",
     "output_type": "stream",
     "text": [
      "columns Index(['get', 'only', 'chair', 'physical', 'late', 'TV', 'body', 'meeting',\n",
      "       'present', 'left'],\n",
      "      dtype='object')\n"
     ]
    }
   ],
   "source": [
    "#df.reindex method : select either rows or columns by their labels\n",
    "print('columns', new_df.columns)"
   ]
  },
  {
   "cell_type": "code",
   "execution_count": 115,
   "id": "10f1784e-e6f5-4afc-a7ad-5ee3049ab763",
   "metadata": {},
   "outputs": [
    {
     "data": {
      "text/html": [
       "<div>\n",
       "<style scoped>\n",
       "    .dataframe tbody tr th:only-of-type {\n",
       "        vertical-align: middle;\n",
       "    }\n",
       "\n",
       "    .dataframe tbody tr th {\n",
       "        vertical-align: top;\n",
       "    }\n",
       "\n",
       "    .dataframe thead th {\n",
       "        text-align: right;\n",
       "    }\n",
       "</style>\n",
       "<table border=\"1\" class=\"dataframe\">\n",
       "  <thead>\n",
       "    <tr style=\"text-align: right;\">\n",
       "      <th></th>\n",
       "      <th>get</th>\n",
       "      <th>only</th>\n",
       "      <th>chair</th>\n",
       "    </tr>\n",
       "  </thead>\n",
       "  <tbody>\n",
       "    <tr>\n",
       "      <th>New Jersey</th>\n",
       "      <td>0.657985</td>\n",
       "      <td>0.982943</td>\n",
       "      <td>0.695081</td>\n",
       "    </tr>\n",
       "    <tr>\n",
       "      <th>New Mexico</th>\n",
       "      <td>0.537690</td>\n",
       "      <td>0.859793</td>\n",
       "      <td>0.742531</td>\n",
       "    </tr>\n",
       "    <tr>\n",
       "      <th>Mississippi</th>\n",
       "      <td>0.493269</td>\n",
       "      <td>0.240760</td>\n",
       "      <td>0.724468</td>\n",
       "    </tr>\n",
       "    <tr>\n",
       "      <th>Hawaii</th>\n",
       "      <td>0.165724</td>\n",
       "      <td>0.892010</td>\n",
       "      <td>0.369409</td>\n",
       "    </tr>\n",
       "    <tr>\n",
       "      <th>Wyoming</th>\n",
       "      <td>0.234081</td>\n",
       "      <td>0.863667</td>\n",
       "      <td>0.044858</td>\n",
       "    </tr>\n",
       "    <tr>\n",
       "      <th>...</th>\n",
       "      <td>...</td>\n",
       "      <td>...</td>\n",
       "      <td>...</td>\n",
       "    </tr>\n",
       "    <tr>\n",
       "      <th>Minnesota</th>\n",
       "      <td>0.413960</td>\n",
       "      <td>0.598265</td>\n",
       "      <td>0.536507</td>\n",
       "    </tr>\n",
       "    <tr>\n",
       "      <th>Kentucky</th>\n",
       "      <td>0.810519</td>\n",
       "      <td>0.625720</td>\n",
       "      <td>0.579385</td>\n",
       "    </tr>\n",
       "    <tr>\n",
       "      <th>Arizona</th>\n",
       "      <td>0.918427</td>\n",
       "      <td>0.212745</td>\n",
       "      <td>0.145045</td>\n",
       "    </tr>\n",
       "    <tr>\n",
       "      <th>Rhode Island</th>\n",
       "      <td>0.616330</td>\n",
       "      <td>0.145199</td>\n",
       "      <td>0.740020</td>\n",
       "    </tr>\n",
       "    <tr>\n",
       "      <th>Texas</th>\n",
       "      <td>0.804623</td>\n",
       "      <td>0.130347</td>\n",
       "      <td>0.964754</td>\n",
       "    </tr>\n",
       "  </tbody>\n",
       "</table>\n",
       "<p>100 rows × 3 columns</p>\n",
       "</div>"
      ],
      "text/plain": [
       "                   get      only     chair\n",
       "New Jersey    0.657985  0.982943  0.695081\n",
       "New Mexico    0.537690  0.859793  0.742531\n",
       "Mississippi   0.493269  0.240760  0.724468\n",
       "Hawaii        0.165724  0.892010  0.369409\n",
       "Wyoming       0.234081  0.863667  0.044858\n",
       "...                ...       ...       ...\n",
       "Minnesota     0.413960  0.598265  0.536507\n",
       "Kentucky      0.810519  0.625720  0.579385\n",
       "Arizona       0.918427  0.212745  0.145045\n",
       "Rhode Island  0.616330  0.145199  0.740020\n",
       "Texas         0.804623  0.130347  0.964754\n",
       "\n",
       "[100 rows x 3 columns]"
      ]
     },
     "execution_count": 115,
     "metadata": {},
     "output_type": "execute_result"
    }
   ],
   "source": [
    "new_df.reindex(['get', 'only', 'chair'], axis=1)"
   ]
  },
  {
   "cell_type": "code",
   "execution_count": 116,
   "id": "b95b4694-4c42-42f7-9ab3-e9addcac1549",
   "metadata": {},
   "outputs": [
    {
     "data": {
      "text/html": [
       "<div>\n",
       "<style scoped>\n",
       "    .dataframe tbody tr th:only-of-type {\n",
       "        vertical-align: middle;\n",
       "    }\n",
       "\n",
       "    .dataframe tbody tr th {\n",
       "        vertical-align: top;\n",
       "    }\n",
       "\n",
       "    .dataframe thead th {\n",
       "        text-align: right;\n",
       "    }\n",
       "</style>\n",
       "<table border=\"1\" class=\"dataframe\">\n",
       "  <thead>\n",
       "    <tr style=\"text-align: right;\">\n",
       "      <th></th>\n",
       "      <th>get</th>\n",
       "      <th>only</th>\n",
       "      <th>chair</th>\n",
       "    </tr>\n",
       "  </thead>\n",
       "  <tbody>\n",
       "    <tr>\n",
       "      <th>New Jersey</th>\n",
       "      <td>0.657985</td>\n",
       "      <td>0.982943</td>\n",
       "      <td>0.695081</td>\n",
       "    </tr>\n",
       "    <tr>\n",
       "      <th>New Mexico</th>\n",
       "      <td>0.537690</td>\n",
       "      <td>0.859793</td>\n",
       "      <td>0.742531</td>\n",
       "    </tr>\n",
       "    <tr>\n",
       "      <th>Mississippi</th>\n",
       "      <td>0.493269</td>\n",
       "      <td>0.240760</td>\n",
       "      <td>0.724468</td>\n",
       "    </tr>\n",
       "    <tr>\n",
       "      <th>Hawaii</th>\n",
       "      <td>0.165724</td>\n",
       "      <td>0.892010</td>\n",
       "      <td>0.369409</td>\n",
       "    </tr>\n",
       "    <tr>\n",
       "      <th>Wyoming</th>\n",
       "      <td>0.234081</td>\n",
       "      <td>0.863667</td>\n",
       "      <td>0.044858</td>\n",
       "    </tr>\n",
       "    <tr>\n",
       "      <th>...</th>\n",
       "      <td>...</td>\n",
       "      <td>...</td>\n",
       "      <td>...</td>\n",
       "    </tr>\n",
       "    <tr>\n",
       "      <th>Minnesota</th>\n",
       "      <td>0.413960</td>\n",
       "      <td>0.598265</td>\n",
       "      <td>0.536507</td>\n",
       "    </tr>\n",
       "    <tr>\n",
       "      <th>Kentucky</th>\n",
       "      <td>0.810519</td>\n",
       "      <td>0.625720</td>\n",
       "      <td>0.579385</td>\n",
       "    </tr>\n",
       "    <tr>\n",
       "      <th>Arizona</th>\n",
       "      <td>0.918427</td>\n",
       "      <td>0.212745</td>\n",
       "      <td>0.145045</td>\n",
       "    </tr>\n",
       "    <tr>\n",
       "      <th>Rhode Island</th>\n",
       "      <td>0.616330</td>\n",
       "      <td>0.145199</td>\n",
       "      <td>0.740020</td>\n",
       "    </tr>\n",
       "    <tr>\n",
       "      <th>Texas</th>\n",
       "      <td>0.804623</td>\n",
       "      <td>0.130347</td>\n",
       "      <td>0.964754</td>\n",
       "    </tr>\n",
       "  </tbody>\n",
       "</table>\n",
       "<p>100 rows × 3 columns</p>\n",
       "</div>"
      ],
      "text/plain": [
       "                   get      only     chair\n",
       "New Jersey    0.657985  0.982943  0.695081\n",
       "New Mexico    0.537690  0.859793  0.742531\n",
       "Mississippi   0.493269  0.240760  0.724468\n",
       "Hawaii        0.165724  0.892010  0.369409\n",
       "Wyoming       0.234081  0.863667  0.044858\n",
       "...                ...       ...       ...\n",
       "Minnesota     0.413960  0.598265  0.536507\n",
       "Kentucky      0.810519  0.625720  0.579385\n",
       "Arizona       0.918427  0.212745  0.145045\n",
       "Rhode Island  0.616330  0.145199  0.740020\n",
       "Texas         0.804623  0.130347  0.964754\n",
       "\n",
       "[100 rows x 3 columns]"
      ]
     },
     "execution_count": 116,
     "metadata": {},
     "output_type": "execute_result"
    }
   ],
   "source": [
    "new_df.reindex(['get', 'only', 'chair'], axis=1)"
   ]
  },
  {
   "cell_type": "code",
   "execution_count": 117,
   "id": "d2262c79-f21e-4d0a-beb6-eda2274a341e",
   "metadata": {},
   "outputs": [
    {
     "data": {
      "text/html": [
       "<div>\n",
       "<style scoped>\n",
       "    .dataframe tbody tr th:only-of-type {\n",
       "        vertical-align: middle;\n",
       "    }\n",
       "\n",
       "    .dataframe tbody tr th {\n",
       "        vertical-align: top;\n",
       "    }\n",
       "\n",
       "    .dataframe thead th {\n",
       "        text-align: right;\n",
       "    }\n",
       "</style>\n",
       "<table border=\"1\" class=\"dataframe\">\n",
       "  <thead>\n",
       "    <tr style=\"text-align: right;\">\n",
       "      <th></th>\n",
       "      <th>get</th>\n",
       "      <th>only</th>\n",
       "      <th>chair</th>\n",
       "    </tr>\n",
       "  </thead>\n",
       "  <tbody>\n",
       "    <tr>\n",
       "      <th>New Jersey</th>\n",
       "      <td>0.657985</td>\n",
       "      <td>0.982943</td>\n",
       "      <td>0.695081</td>\n",
       "    </tr>\n",
       "    <tr>\n",
       "      <th>New Mexico</th>\n",
       "      <td>0.537690</td>\n",
       "      <td>0.859793</td>\n",
       "      <td>0.742531</td>\n",
       "    </tr>\n",
       "    <tr>\n",
       "      <th>Mississippi</th>\n",
       "      <td>0.493269</td>\n",
       "      <td>0.240760</td>\n",
       "      <td>0.724468</td>\n",
       "    </tr>\n",
       "    <tr>\n",
       "      <th>Hawaii</th>\n",
       "      <td>0.165724</td>\n",
       "      <td>0.892010</td>\n",
       "      <td>0.369409</td>\n",
       "    </tr>\n",
       "    <tr>\n",
       "      <th>Wyoming</th>\n",
       "      <td>0.234081</td>\n",
       "      <td>0.863667</td>\n",
       "      <td>0.044858</td>\n",
       "    </tr>\n",
       "    <tr>\n",
       "      <th>...</th>\n",
       "      <td>...</td>\n",
       "      <td>...</td>\n",
       "      <td>...</td>\n",
       "    </tr>\n",
       "    <tr>\n",
       "      <th>Minnesota</th>\n",
       "      <td>0.413960</td>\n",
       "      <td>0.598265</td>\n",
       "      <td>0.536507</td>\n",
       "    </tr>\n",
       "    <tr>\n",
       "      <th>Kentucky</th>\n",
       "      <td>0.810519</td>\n",
       "      <td>0.625720</td>\n",
       "      <td>0.579385</td>\n",
       "    </tr>\n",
       "    <tr>\n",
       "      <th>Arizona</th>\n",
       "      <td>0.918427</td>\n",
       "      <td>0.212745</td>\n",
       "      <td>0.145045</td>\n",
       "    </tr>\n",
       "    <tr>\n",
       "      <th>Rhode Island</th>\n",
       "      <td>0.616330</td>\n",
       "      <td>0.145199</td>\n",
       "      <td>0.740020</td>\n",
       "    </tr>\n",
       "    <tr>\n",
       "      <th>Texas</th>\n",
       "      <td>0.804623</td>\n",
       "      <td>0.130347</td>\n",
       "      <td>0.964754</td>\n",
       "    </tr>\n",
       "  </tbody>\n",
       "</table>\n",
       "<p>100 rows × 3 columns</p>\n",
       "</div>"
      ],
      "text/plain": [
       "                   get      only     chair\n",
       "New Jersey    0.657985  0.982943  0.695081\n",
       "New Mexico    0.537690  0.859793  0.742531\n",
       "Mississippi   0.493269  0.240760  0.724468\n",
       "Hawaii        0.165724  0.892010  0.369409\n",
       "Wyoming       0.234081  0.863667  0.044858\n",
       "...                ...       ...       ...\n",
       "Minnesota     0.413960  0.598265  0.536507\n",
       "Kentucky      0.810519  0.625720  0.579385\n",
       "Arizona       0.918427  0.212745  0.145045\n",
       "Rhode Island  0.616330  0.145199  0.740020\n",
       "Texas         0.804623  0.130347  0.964754\n",
       "\n",
       "[100 rows x 3 columns]"
      ]
     },
     "execution_count": 117,
     "metadata": {},
     "output_type": "execute_result"
    }
   ],
   "source": [
    "first_three_columns = ['get', 'only', 'chair']\n",
    "new_df.reindex(first_three_columns, axis='columns') #use reindex to effectively drop rows"
   ]
  },
  {
   "cell_type": "code",
   "execution_count": 118,
   "id": "8473c078-d0d8-468b-bf3f-9f454a8ed9f7",
   "metadata": {},
   "outputs": [
    {
     "data": {
      "text/html": [
       "<div>\n",
       "<style scoped>\n",
       "    .dataframe tbody tr th:only-of-type {\n",
       "        vertical-align: middle;\n",
       "    }\n",
       "\n",
       "    .dataframe tbody tr th {\n",
       "        vertical-align: top;\n",
       "    }\n",
       "\n",
       "    .dataframe thead th {\n",
       "        text-align: right;\n",
       "    }\n",
       "</style>\n",
       "<table border=\"1\" class=\"dataframe\">\n",
       "  <thead>\n",
       "    <tr style=\"text-align: right;\">\n",
       "      <th></th>\n",
       "      <th>get</th>\n",
       "      <th>only</th>\n",
       "      <th>chair</th>\n",
       "    </tr>\n",
       "  </thead>\n",
       "  <tbody>\n",
       "    <tr>\n",
       "      <th>New Jersey</th>\n",
       "      <td>0.657985</td>\n",
       "      <td>0.982943</td>\n",
       "      <td>0.695081</td>\n",
       "    </tr>\n",
       "    <tr>\n",
       "      <th>New Mexico</th>\n",
       "      <td>0.537690</td>\n",
       "      <td>0.859793</td>\n",
       "      <td>0.742531</td>\n",
       "    </tr>\n",
       "    <tr>\n",
       "      <th>Mississippi</th>\n",
       "      <td>0.493269</td>\n",
       "      <td>0.240760</td>\n",
       "      <td>0.724468</td>\n",
       "    </tr>\n",
       "    <tr>\n",
       "      <th>Hawaii</th>\n",
       "      <td>0.165724</td>\n",
       "      <td>0.892010</td>\n",
       "      <td>0.369409</td>\n",
       "    </tr>\n",
       "    <tr>\n",
       "      <th>Wyoming</th>\n",
       "      <td>0.234081</td>\n",
       "      <td>0.863667</td>\n",
       "      <td>0.044858</td>\n",
       "    </tr>\n",
       "    <tr>\n",
       "      <th>...</th>\n",
       "      <td>...</td>\n",
       "      <td>...</td>\n",
       "      <td>...</td>\n",
       "    </tr>\n",
       "    <tr>\n",
       "      <th>Minnesota</th>\n",
       "      <td>0.413960</td>\n",
       "      <td>0.598265</td>\n",
       "      <td>0.536507</td>\n",
       "    </tr>\n",
       "    <tr>\n",
       "      <th>Kentucky</th>\n",
       "      <td>0.810519</td>\n",
       "      <td>0.625720</td>\n",
       "      <td>0.579385</td>\n",
       "    </tr>\n",
       "    <tr>\n",
       "      <th>Arizona</th>\n",
       "      <td>0.918427</td>\n",
       "      <td>0.212745</td>\n",
       "      <td>0.145045</td>\n",
       "    </tr>\n",
       "    <tr>\n",
       "      <th>Rhode Island</th>\n",
       "      <td>0.616330</td>\n",
       "      <td>0.145199</td>\n",
       "      <td>0.740020</td>\n",
       "    </tr>\n",
       "    <tr>\n",
       "      <th>Texas</th>\n",
       "      <td>0.804623</td>\n",
       "      <td>0.130347</td>\n",
       "      <td>0.964754</td>\n",
       "    </tr>\n",
       "  </tbody>\n",
       "</table>\n",
       "<p>100 rows × 3 columns</p>\n",
       "</div>"
      ],
      "text/plain": [
       "                   get      only     chair\n",
       "New Jersey    0.657985  0.982943  0.695081\n",
       "New Mexico    0.537690  0.859793  0.742531\n",
       "Mississippi   0.493269  0.240760  0.724468\n",
       "Hawaii        0.165724  0.892010  0.369409\n",
       "Wyoming       0.234081  0.863667  0.044858\n",
       "...                ...       ...       ...\n",
       "Minnesota     0.413960  0.598265  0.536507\n",
       "Kentucky      0.810519  0.625720  0.579385\n",
       "Arizona       0.918427  0.212745  0.145045\n",
       "Rhode Island  0.616330  0.145199  0.740020\n",
       "Texas         0.804623  0.130347  0.964754\n",
       "\n",
       "[100 rows x 3 columns]"
      ]
     },
     "execution_count": 118,
     "metadata": {},
     "output_type": "execute_result"
    }
   ],
   "source": [
    "first_three_columns = ['get', 'only', 'chair']\n",
    "new_df.reindex(first_three_columns, axis=1)"
   ]
  },
  {
   "cell_type": "code",
   "execution_count": 119,
   "id": "af6f3ba0-4fb6-4bc5-a34c-8522c631fa17",
   "metadata": {},
   "outputs": [
    {
     "name": "stderr",
     "output_type": "stream",
     "text": [
      "/var/folders/kz/gdzfkm910wq4p613kw6rbgw40000gn/T/ipykernel_1365/658422002.py:4: FutureWarning: reindexing with a non-unique Index is deprecated and will raise in a future version.\n",
      "  new_df.reindex(first_three_states, axis=0)\n",
      "CRITICAL:root:cannot reindex on an axis with duplicate labels\n"
     ]
    }
   ],
   "source": [
    "#if we have an index with duplicate labels, than we cannot reindex\n",
    "try:\n",
    "    first_three_states = ['Alabama', 'Alaska', 'Arizona']\n",
    "    new_df.reindex(first_three_states, axis=0)\n",
    "except ValueError as e:\n",
    "    logging.critical(e)"
   ]
  },
  {
   "cell_type": "code",
   "execution_count": 120,
   "id": "1cd86620-477a-4032-87eb-8cc956c55a4e",
   "metadata": {},
   "outputs": [
    {
     "data": {
      "text/plain": [
       "0    0.0\n",
       "1    1.0\n",
       "2    2.0\n",
       "dtype: float64"
      ]
     },
     "execution_count": 120,
     "metadata": {},
     "output_type": "execute_result"
    }
   ],
   "source": [
    "#integer indexing pitfalls and issues: Pandas cannot tell if an Integer Index is label-based\n",
    "#or position-based. Therefore, Pandas treats integer indices as label-based to be safe\n",
    "#the code below will raise an error\n",
    "ser = pd.Series(np.arange(3.))\n",
    "ser"
   ]
  },
  {
   "cell_type": "code",
   "execution_count": 121,
   "id": "d850b3ae-d137-469f-a41e-855b3c679f11",
   "metadata": {},
   "outputs": [
    {
     "name": "stderr",
     "output_type": "stream",
     "text": [
      "CRITICAL:root:-1\n"
     ]
    }
   ],
   "source": [
    "try:\n",
    "    ser[-1]\n",
    "except KeyError as e:\n",
    "    logging.critical(e)"
   ]
  },
  {
   "cell_type": "code",
   "execution_count": 122,
   "id": "ae12c241-f7fa-4c02-9c01-8984e10f832a",
   "metadata": {},
   "outputs": [
    {
     "data": {
      "text/plain": [
       "0    0.0\n",
       "1    1.0\n",
       "2    2.0\n",
       "dtype: float64"
      ]
     },
     "execution_count": 122,
     "metadata": {},
     "output_type": "execute_result"
    }
   ],
   "source": [
    "ser #pandas doesn't want to guess if it is label or integer based indexing"
   ]
  },
  {
   "cell_type": "code",
   "execution_count": 123,
   "id": "3ce965c8-1a51-4919-89cb-a1584b98faa9",
   "metadata": {},
   "outputs": [
    {
     "data": {
      "text/plain": [
       "a    0.0\n",
       "b    1.0\n",
       "c    2.0\n",
       "dtype: float64"
      ]
     },
     "execution_count": 123,
     "metadata": {},
     "output_type": "execute_result"
    }
   ],
   "source": [
    "#noninteger index does not have this ambiguity\n",
    "ser2 = pd.Series(np.arange(3.), index=['a', 'b', 'c'])\n",
    "ser2"
   ]
  },
  {
   "cell_type": "code",
   "execution_count": 124,
   "id": "2a838b89-38d5-456b-aee3-7a32187884b7",
   "metadata": {},
   "outputs": [
    {
     "data": {
      "text/plain": [
       "2.0"
      ]
     },
     "execution_count": 124,
     "metadata": {},
     "output_type": "execute_result"
    }
   ],
   "source": [
    "#this won't have this problem\n",
    "ser2[-1]"
   ]
  },
  {
   "cell_type": "code",
   "execution_count": 125,
   "id": "3c3fd4a2-242a-4e7d-9ad1-e315738ccc61",
   "metadata": {},
   "outputs": [
    {
     "data": {
      "text/plain": [
       "2.0"
      ]
     },
     "execution_count": 125,
     "metadata": {},
     "output_type": "execute_result"
    }
   ],
   "source": [
    "#use loc or iloc to index an axis with integers\n",
    "ser.iloc[-1]"
   ]
  },
  {
   "cell_type": "code",
   "execution_count": 126,
   "id": "71e5493f-eaff-4fde-a46c-06f0db8f17c0",
   "metadata": {},
   "outputs": [
    {
     "data": {
      "text/plain": [
       "0    0.0\n",
       "1    1.0\n",
       "dtype: float64"
      ]
     },
     "execution_count": 126,
     "metadata": {},
     "output_type": "execute_result"
    }
   ],
   "source": [
    "#slicing with integers always is integer-oriented\n",
    "ser[:2]\n",
    "#AVOID AMBIGUITY: Use .loc and .iloc"
   ]
  },
  {
   "cell_type": "code",
   "execution_count": 127,
   "id": "e253ced9-8120-4f70-bcac-b0d5d4e10a25",
   "metadata": {},
   "outputs": [
    {
     "data": {
      "text/html": [
       "<div>\n",
       "<style scoped>\n",
       "    .dataframe tbody tr th:only-of-type {\n",
       "        vertical-align: middle;\n",
       "    }\n",
       "\n",
       "    .dataframe tbody tr th {\n",
       "        vertical-align: top;\n",
       "    }\n",
       "\n",
       "    .dataframe thead th {\n",
       "        text-align: right;\n",
       "    }\n",
       "</style>\n",
       "<table border=\"1\" class=\"dataframe\">\n",
       "  <thead>\n",
       "    <tr style=\"text-align: right;\">\n",
       "      <th></th>\n",
       "      <th>one</th>\n",
       "      <th>two</th>\n",
       "      <th>three</th>\n",
       "      <th>four</th>\n",
       "    </tr>\n",
       "  </thead>\n",
       "  <tbody>\n",
       "    <tr>\n",
       "      <th>Ohio</th>\n",
       "      <td>0</td>\n",
       "      <td>0</td>\n",
       "      <td>0</td>\n",
       "      <td>0</td>\n",
       "    </tr>\n",
       "    <tr>\n",
       "      <th>Colorado</th>\n",
       "      <td>0</td>\n",
       "      <td>5</td>\n",
       "      <td>6</td>\n",
       "      <td>7</td>\n",
       "    </tr>\n",
       "    <tr>\n",
       "      <th>Utah</th>\n",
       "      <td>8</td>\n",
       "      <td>9</td>\n",
       "      <td>10</td>\n",
       "      <td>11</td>\n",
       "    </tr>\n",
       "    <tr>\n",
       "      <th>New York</th>\n",
       "      <td>12</td>\n",
       "      <td>13</td>\n",
       "      <td>14</td>\n",
       "      <td>15</td>\n",
       "    </tr>\n",
       "  </tbody>\n",
       "</table>\n",
       "</div>"
      ],
      "text/plain": [
       "          one  two  three  four\n",
       "Ohio        0    0      0     0\n",
       "Colorado    0    5      6     7\n",
       "Utah        8    9     10    11\n",
       "New York   12   13     14    15"
      ]
     },
     "execution_count": 127,
     "metadata": {},
     "output_type": "execute_result"
    }
   ],
   "source": [
    "#Chained indexing pitfalls:\n",
    "#1a) view DataFrame before modification\n",
    "data"
   ]
  },
  {
   "cell_type": "code",
   "execution_count": 128,
   "id": "4d86bd07-5af5-4d88-9d41-6f6b0f85a24d",
   "metadata": {},
   "outputs": [
    {
     "data": {
      "text/plain": [
       "Ohio         0\n",
       "Colorado     0\n",
       "Utah         8\n",
       "New York    12\n",
       "Name: one, dtype: int64"
      ]
     },
     "execution_count": 128,
     "metadata": {},
     "output_type": "execute_result"
    }
   ],
   "source": [
    "#Note: data['one'] access the column directly with a label.\n",
    "data['one']"
   ]
  },
  {
   "cell_type": "code",
   "execution_count": 129,
   "id": "5eeb83ea-f7db-4c24-b8e3-798a4c5cb59a",
   "metadata": {},
   "outputs": [
    {
     "data": {
      "text/plain": [
       "Ohio         0\n",
       "Colorado     0\n",
       "Utah         8\n",
       "New York    12\n",
       "Name: one, dtype: int64"
      ]
     },
     "execution_count": 129,
     "metadata": {},
     "output_type": "execute_result"
    }
   ],
   "source": [
    "#1b) View data in its original form.\n",
    "data.loc[:, 'one']"
   ]
  },
  {
   "cell_type": "code",
   "execution_count": 130,
   "id": "9d8a2508-cc4e-4881-bb83-248b9289faf1",
   "metadata": {},
   "outputs": [],
   "source": [
    "#1c) Assign every item in column \"one\" to the value of 1.\n",
    "data.loc[:, 'one'] = 1"
   ]
  },
  {
   "cell_type": "code",
   "execution_count": 131,
   "id": "12f0211c-ad56-4fc5-b6f6-f8edd451d456",
   "metadata": {},
   "outputs": [
    {
     "data": {
      "text/html": [
       "<div>\n",
       "<style scoped>\n",
       "    .dataframe tbody tr th:only-of-type {\n",
       "        vertical-align: middle;\n",
       "    }\n",
       "\n",
       "    .dataframe tbody tr th {\n",
       "        vertical-align: top;\n",
       "    }\n",
       "\n",
       "    .dataframe thead th {\n",
       "        text-align: right;\n",
       "    }\n",
       "</style>\n",
       "<table border=\"1\" class=\"dataframe\">\n",
       "  <thead>\n",
       "    <tr style=\"text-align: right;\">\n",
       "      <th></th>\n",
       "      <th>one</th>\n",
       "      <th>two</th>\n",
       "      <th>three</th>\n",
       "      <th>four</th>\n",
       "    </tr>\n",
       "  </thead>\n",
       "  <tbody>\n",
       "    <tr>\n",
       "      <th>Ohio</th>\n",
       "      <td>1</td>\n",
       "      <td>0</td>\n",
       "      <td>0</td>\n",
       "      <td>0</td>\n",
       "    </tr>\n",
       "    <tr>\n",
       "      <th>Colorado</th>\n",
       "      <td>1</td>\n",
       "      <td>5</td>\n",
       "      <td>6</td>\n",
       "      <td>7</td>\n",
       "    </tr>\n",
       "    <tr>\n",
       "      <th>Utah</th>\n",
       "      <td>1</td>\n",
       "      <td>9</td>\n",
       "      <td>10</td>\n",
       "      <td>11</td>\n",
       "    </tr>\n",
       "    <tr>\n",
       "      <th>New York</th>\n",
       "      <td>1</td>\n",
       "      <td>13</td>\n",
       "      <td>14</td>\n",
       "      <td>15</td>\n",
       "    </tr>\n",
       "  </tbody>\n",
       "</table>\n",
       "</div>"
      ],
      "text/plain": [
       "          one  two  three  four\n",
       "Ohio        1    0      0     0\n",
       "Colorado    1    5      6     7\n",
       "Utah        1    9     10    11\n",
       "New York    1   13     14    15"
      ]
     },
     "execution_count": 131,
     "metadata": {},
     "output_type": "execute_result"
    }
   ],
   "source": [
    "#1d) View modified data\n",
    "data #every item in the DataFrame is set to one"
   ]
  },
  {
   "cell_type": "code",
   "execution_count": 132,
   "id": "db425536-e626-42c0-a8ea-a6583a601641",
   "metadata": {},
   "outputs": [
    {
     "data": {
      "text/plain": [
       "one       1\n",
       "two       9\n",
       "three    10\n",
       "four     11\n",
       "Name: Utah, dtype: int64"
      ]
     },
     "execution_count": 132,
     "metadata": {},
     "output_type": "execute_result"
    }
   ],
   "source": [
    "#2) Here we set each value in row number 2 (starting from 0, named \"Utah\") to 5. \n",
    "#2a) View data in its original form\n",
    "data.iloc[2]"
   ]
  },
  {
   "cell_type": "code",
   "execution_count": 133,
   "id": "407e325a-888e-4d8e-be6c-c514f7c7c2c1",
   "metadata": {},
   "outputs": [],
   "source": [
    "#2) Set the value of each item in row 2 (starting from 0, named \"Utah\") to 5.\n",
    "#2b) Code that sets the value in place\n",
    "data.iloc[2] = 5"
   ]
  },
  {
   "cell_type": "code",
   "execution_count": 134,
   "id": "8e1655c0-a097-4813-a8e8-b8ab436ff9b5",
   "metadata": {},
   "outputs": [
    {
     "data": {
      "text/plain": [
       "one      5\n",
       "two      5\n",
       "three    5\n",
       "four     5\n",
       "Name: Utah, dtype: int64"
      ]
     },
     "execution_count": 134,
     "metadata": {},
     "output_type": "execute_result"
    }
   ],
   "source": [
    "#2b) Just as a note, we can get the exact same view of column three by using data.loc['Utah'].\n",
    "data.loc['Utah']"
   ]
  },
  {
   "cell_type": "code",
   "execution_count": 135,
   "id": "de93a18e-5df9-413d-bc9b-e501432f22ac",
   "metadata": {},
   "outputs": [
    {
     "data": {
      "text/plain": [
       "Ohio        False\n",
       "Colorado     True\n",
       "Utah        False\n",
       "New York     True\n",
       "Name: four, dtype: bool"
      ]
     },
     "execution_count": 135,
     "metadata": {},
     "output_type": "execute_result"
    }
   ],
   "source": [
    "#3a) To illustrate what is happening, let's view the boolean array we use for indexing\n",
    "data['four'] > 5 #take the column labelled \"four\" and return a boolean series. True if the row value is\n",
    "#greater than five, false if it is not. \n"
   ]
  },
  {
   "cell_type": "code",
   "execution_count": 136,
   "id": "8b77d40b-3a93-4c29-af64-a47696818471",
   "metadata": {},
   "outputs": [
    {
     "data": {
      "text/html": [
       "<div>\n",
       "<style scoped>\n",
       "    .dataframe tbody tr th:only-of-type {\n",
       "        vertical-align: middle;\n",
       "    }\n",
       "\n",
       "    .dataframe tbody tr th {\n",
       "        vertical-align: top;\n",
       "    }\n",
       "\n",
       "    .dataframe thead th {\n",
       "        text-align: right;\n",
       "    }\n",
       "</style>\n",
       "<table border=\"1\" class=\"dataframe\">\n",
       "  <thead>\n",
       "    <tr style=\"text-align: right;\">\n",
       "      <th></th>\n",
       "      <th>one</th>\n",
       "      <th>two</th>\n",
       "      <th>three</th>\n",
       "      <th>four</th>\n",
       "    </tr>\n",
       "  </thead>\n",
       "  <tbody>\n",
       "    <tr>\n",
       "      <th>Colorado</th>\n",
       "      <td>1</td>\n",
       "      <td>5</td>\n",
       "      <td>6</td>\n",
       "      <td>7</td>\n",
       "    </tr>\n",
       "    <tr>\n",
       "      <th>New York</th>\n",
       "      <td>1</td>\n",
       "      <td>13</td>\n",
       "      <td>14</td>\n",
       "      <td>15</td>\n",
       "    </tr>\n",
       "  </tbody>\n",
       "</table>\n",
       "</div>"
      ],
      "text/plain": [
       "          one  two  three  four\n",
       "Colorado    1    5      6     7\n",
       "New York    1   13     14    15"
      ]
     },
     "execution_count": 136,
     "metadata": {},
     "output_type": "execute_result"
    }
   ],
   "source": [
    "#3b) To further illustrate what is happening, let's get the rows where the value of column 'four' is >= 5\n",
    "data.loc[data['four'] > 5] #notice we do not get any results from Ohio because data.loc['Ohio', 'Four'] there is less than 5"
   ]
  },
  {
   "cell_type": "code",
   "execution_count": 137,
   "id": "0a7dc1db-34b2-46c9-b372-45cbea98c7bb",
   "metadata": {},
   "outputs": [],
   "source": [
    "#3cß) Finally, let us use the code which assigns the value 3 to every item in column 4 that is larger than 3.\n",
    "data.loc[data['four'] > 5] = 3"
   ]
  },
  {
   "cell_type": "code",
   "execution_count": 138,
   "id": "9827d5f2-82b7-4ddf-a482-23d8c802a427",
   "metadata": {},
   "outputs": [
    {
     "data": {
      "text/html": [
       "<div>\n",
       "<style scoped>\n",
       "    .dataframe tbody tr th:only-of-type {\n",
       "        vertical-align: middle;\n",
       "    }\n",
       "\n",
       "    .dataframe tbody tr th {\n",
       "        vertical-align: top;\n",
       "    }\n",
       "\n",
       "    .dataframe thead th {\n",
       "        text-align: right;\n",
       "    }\n",
       "</style>\n",
       "<table border=\"1\" class=\"dataframe\">\n",
       "  <thead>\n",
       "    <tr style=\"text-align: right;\">\n",
       "      <th></th>\n",
       "      <th>one</th>\n",
       "      <th>two</th>\n",
       "      <th>three</th>\n",
       "      <th>four</th>\n",
       "    </tr>\n",
       "  </thead>\n",
       "  <tbody>\n",
       "    <tr>\n",
       "      <th>Ohio</th>\n",
       "      <td>1</td>\n",
       "      <td>0</td>\n",
       "      <td>0</td>\n",
       "      <td>0</td>\n",
       "    </tr>\n",
       "    <tr>\n",
       "      <th>Colorado</th>\n",
       "      <td>3</td>\n",
       "      <td>3</td>\n",
       "      <td>3</td>\n",
       "      <td>3</td>\n",
       "    </tr>\n",
       "    <tr>\n",
       "      <th>Utah</th>\n",
       "      <td>5</td>\n",
       "      <td>5</td>\n",
       "      <td>5</td>\n",
       "      <td>5</td>\n",
       "    </tr>\n",
       "    <tr>\n",
       "      <th>New York</th>\n",
       "      <td>3</td>\n",
       "      <td>3</td>\n",
       "      <td>3</td>\n",
       "      <td>3</td>\n",
       "    </tr>\n",
       "  </tbody>\n",
       "</table>\n",
       "</div>"
      ],
      "text/plain": [
       "          one  two  three  four\n",
       "Ohio        1    0      0     0\n",
       "Colorado    3    3      3     3\n",
       "Utah        5    5      5     5\n",
       "New York    3    3      3     3"
      ]
     },
     "execution_count": 138,
     "metadata": {},
     "output_type": "execute_result"
    }
   ],
   "source": [
    "data"
   ]
  },
  {
   "cell_type": "code",
   "execution_count": 139,
   "id": "e56a8516-d6f4-4506-8ada-326000b86b6e",
   "metadata": {},
   "outputs": [
    {
     "data": {
      "text/plain": [
       "four     0\n",
       "three    0\n",
       "Name: Ohio, dtype: int64"
      ]
     },
     "execution_count": 139,
     "metadata": {},
     "output_type": "execute_result"
    }
   ],
   "source": [
    "#some more examples from indexing row 0 (Ohio) using .loc syntax\n",
    "data.loc['Ohio', ['four', 'three']]"
   ]
  },
  {
   "cell_type": "code",
   "execution_count": 140,
   "id": "19341758-23ad-4144-a577-9e2d87c5dc8b",
   "metadata": {},
   "outputs": [
    {
     "data": {
      "text/plain": [
       "three    0\n",
       "four     0\n",
       "Name: Ohio, dtype: int64"
      ]
     },
     "execution_count": 140,
     "metadata": {},
     "output_type": "execute_result"
    }
   ],
   "source": [
    "data.loc['Ohio', ['three', 'four']]"
   ]
  },
  {
   "cell_type": "code",
   "execution_count": 141,
   "id": "132c5304-9966-42a2-b3cc-c3139d00d40a",
   "metadata": {},
   "outputs": [
    {
     "data": {
      "text/plain": [
       "Ohio        1\n",
       "New York    3\n",
       "Name: one, dtype: int64"
      ]
     },
     "execution_count": 141,
     "metadata": {},
     "output_type": "execute_result"
    }
   ],
   "source": [
    "data.loc[['Ohio', 'New York'], 'one']"
   ]
  },
  {
   "cell_type": "code",
   "execution_count": 142,
   "id": "1a18818b-994a-4468-a854-21a96d1be4c1",
   "metadata": {},
   "outputs": [
    {
     "data": {
      "text/plain": [
       "four     0\n",
       "three    0\n",
       "Name: Ohio, dtype: int64"
      ]
     },
     "execution_count": 142,
     "metadata": {},
     "output_type": "execute_result"
    }
   ],
   "source": [
    "#let's use iloc\n",
    "data.iloc[0, [3, 2]]"
   ]
  },
  {
   "cell_type": "code",
   "execution_count": 143,
   "id": "3de18c61-6246-42bb-88e5-e390c2f84aa8",
   "metadata": {},
   "outputs": [
    {
     "name": "stderr",
     "output_type": "stream",
     "text": [
      "/var/folders/kz/gdzfkm910wq4p613kw6rbgw40000gn/T/ipykernel_1365/2407576872.py:2: SettingWithCopyWarning: \n",
      "A value is trying to be set on a copy of a slice from a DataFrame.\n",
      "Try using .loc[row_indexer,col_indexer] = value instead\n",
      "\n",
      "See the caveats in the documentation: https://pandas.pydata.org/pandas-docs/stable/user_guide/indexing.html#returning-a-view-versus-a-copy\n",
      "  data.loc[data.three == 5]['three'] = 6\n"
     ]
    }
   ],
   "source": [
    "#common gotcha: chaining selections when assigning\n",
    "data.loc[data.three == 5]['three'] = 6"
   ]
  },
  {
   "cell_type": "code",
   "execution_count": 144,
   "id": "90d3d76a-5115-45f7-84a7-d98c5c3928e0",
   "metadata": {},
   "outputs": [
    {
     "data": {
      "text/html": [
       "<div>\n",
       "<style scoped>\n",
       "    .dataframe tbody tr th:only-of-type {\n",
       "        vertical-align: middle;\n",
       "    }\n",
       "\n",
       "    .dataframe tbody tr th {\n",
       "        vertical-align: top;\n",
       "    }\n",
       "\n",
       "    .dataframe thead th {\n",
       "        text-align: right;\n",
       "    }\n",
       "</style>\n",
       "<table border=\"1\" class=\"dataframe\">\n",
       "  <thead>\n",
       "    <tr style=\"text-align: right;\">\n",
       "      <th></th>\n",
       "      <th>one</th>\n",
       "      <th>two</th>\n",
       "      <th>three</th>\n",
       "      <th>four</th>\n",
       "    </tr>\n",
       "  </thead>\n",
       "  <tbody>\n",
       "    <tr>\n",
       "      <th>Ohio</th>\n",
       "      <td>1</td>\n",
       "      <td>0</td>\n",
       "      <td>0</td>\n",
       "      <td>0</td>\n",
       "    </tr>\n",
       "    <tr>\n",
       "      <th>Colorado</th>\n",
       "      <td>3</td>\n",
       "      <td>3</td>\n",
       "      <td>3</td>\n",
       "      <td>3</td>\n",
       "    </tr>\n",
       "    <tr>\n",
       "      <th>Utah</th>\n",
       "      <td>5</td>\n",
       "      <td>5</td>\n",
       "      <td>5</td>\n",
       "      <td>5</td>\n",
       "    </tr>\n",
       "    <tr>\n",
       "      <th>New York</th>\n",
       "      <td>3</td>\n",
       "      <td>3</td>\n",
       "      <td>3</td>\n",
       "      <td>3</td>\n",
       "    </tr>\n",
       "  </tbody>\n",
       "</table>\n",
       "</div>"
      ],
      "text/plain": [
       "          one  two  three  four\n",
       "Ohio        1    0      0     0\n",
       "Colorado    3    3      3     3\n",
       "Utah        5    5      5     5\n",
       "New York    3    3      3     3"
      ]
     },
     "execution_count": 144,
     "metadata": {},
     "output_type": "execute_result"
    }
   ],
   "source": [
    "#we are inadvertantly modifying a temporary value\n",
    "#the data here is not modified\n",
    "data"
   ]
  },
  {
   "cell_type": "code",
   "execution_count": 145,
   "id": "56eb2f2e-3866-4524-8a28-0ad5262a6eda",
   "metadata": {},
   "outputs": [
    {
     "data": {
      "text/html": [
       "<div>\n",
       "<style scoped>\n",
       "    .dataframe tbody tr th:only-of-type {\n",
       "        vertical-align: middle;\n",
       "    }\n",
       "\n",
       "    .dataframe tbody tr th {\n",
       "        vertical-align: top;\n",
       "    }\n",
       "\n",
       "    .dataframe thead th {\n",
       "        text-align: right;\n",
       "    }\n",
       "</style>\n",
       "<table border=\"1\" class=\"dataframe\">\n",
       "  <thead>\n",
       "    <tr style=\"text-align: right;\">\n",
       "      <th></th>\n",
       "      <th>one</th>\n",
       "      <th>two</th>\n",
       "      <th>three</th>\n",
       "      <th>four</th>\n",
       "    </tr>\n",
       "  </thead>\n",
       "  <tbody>\n",
       "    <tr>\n",
       "      <th>Utah</th>\n",
       "      <td>5</td>\n",
       "      <td>5</td>\n",
       "      <td>5</td>\n",
       "      <td>5</td>\n",
       "    </tr>\n",
       "  </tbody>\n",
       "</table>\n",
       "</div>"
      ],
      "text/plain": [
       "      one  two  three  four\n",
       "Utah    5    5      5     5"
      ]
     },
     "execution_count": 145,
     "metadata": {},
     "output_type": "execute_result"
    }
   ],
   "source": [
    "#Solution: Use .loc to create a single operation. Thus no temporary values that need modification.\n",
    "#1a) Display the whole row\n",
    "data.loc[data.three == 5]"
   ]
  },
  {
   "cell_type": "code",
   "execution_count": 146,
   "id": "d95cf731-1ebf-4afa-8b06-f8c0d301ee1b",
   "metadata": {},
   "outputs": [
    {
     "data": {
      "text/plain": [
       "Utah    5\n",
       "Name: three, dtype: int64"
      ]
     },
     "execution_count": 146,
     "metadata": {},
     "output_type": "execute_result"
    }
   ],
   "source": [
    "#1b) Display the value of row 2 (indexed from zero) in column three\n",
    "data.loc[data.three == 5, 'three']"
   ]
  },
  {
   "cell_type": "code",
   "execution_count": 147,
   "id": "79c3fde2-5795-4016-a1c8-b5af6689e396",
   "metadata": {},
   "outputs": [],
   "source": [
    "#1c) Set the value of row 2 (indexed from zero) in column three to 3\n",
    "data.loc[data.three == 5, 'three'] = 6"
   ]
  },
  {
   "cell_type": "code",
   "execution_count": 148,
   "id": "82839407-bc4e-49b3-9b58-54bfdd407554",
   "metadata": {},
   "outputs": [
    {
     "data": {
      "text/html": [
       "<div>\n",
       "<style scoped>\n",
       "    .dataframe tbody tr th:only-of-type {\n",
       "        vertical-align: middle;\n",
       "    }\n",
       "\n",
       "    .dataframe tbody tr th {\n",
       "        vertical-align: top;\n",
       "    }\n",
       "\n",
       "    .dataframe thead th {\n",
       "        text-align: right;\n",
       "    }\n",
       "</style>\n",
       "<table border=\"1\" class=\"dataframe\">\n",
       "  <thead>\n",
       "    <tr style=\"text-align: right;\">\n",
       "      <th></th>\n",
       "      <th>one</th>\n",
       "      <th>two</th>\n",
       "      <th>three</th>\n",
       "      <th>four</th>\n",
       "    </tr>\n",
       "  </thead>\n",
       "  <tbody>\n",
       "    <tr>\n",
       "      <th>Ohio</th>\n",
       "      <td>1</td>\n",
       "      <td>0</td>\n",
       "      <td>0</td>\n",
       "      <td>0</td>\n",
       "    </tr>\n",
       "    <tr>\n",
       "      <th>Colorado</th>\n",
       "      <td>3</td>\n",
       "      <td>3</td>\n",
       "      <td>3</td>\n",
       "      <td>3</td>\n",
       "    </tr>\n",
       "    <tr>\n",
       "      <th>Utah</th>\n",
       "      <td>5</td>\n",
       "      <td>5</td>\n",
       "      <td>6</td>\n",
       "      <td>5</td>\n",
       "    </tr>\n",
       "    <tr>\n",
       "      <th>New York</th>\n",
       "      <td>3</td>\n",
       "      <td>3</td>\n",
       "      <td>3</td>\n",
       "      <td>3</td>\n",
       "    </tr>\n",
       "  </tbody>\n",
       "</table>\n",
       "</div>"
      ],
      "text/plain": [
       "          one  two  three  four\n",
       "Ohio        1    0      0     0\n",
       "Colorado    3    3      3     3\n",
       "Utah        5    5      6     5\n",
       "New York    3    3      3     3"
      ]
     },
     "execution_count": 148,
     "metadata": {},
     "output_type": "execute_result"
    }
   ],
   "source": [
    "data #notice we modified the value"
   ]
  },
  {
   "cell_type": "code",
   "execution_count": 151,
   "id": "67ec4479-d2cd-409d-90ec-3a93b846791f",
   "metadata": {},
   "outputs": [],
   "source": [
    "#1d) Let's modify the value to 7 using .iloc syntax\n",
    "#a) Copy the initial DataFrame\n",
    "new_data = data.copy()"
   ]
  },
  {
   "cell_type": "code",
   "execution_count": 154,
   "id": "0243f43b-a56d-45ad-aab6-66d27b87feac",
   "metadata": {},
   "outputs": [
    {
     "data": {
      "text/plain": [
       "Ohio        0\n",
       "Colorado    3\n",
       "Utah        6\n",
       "New York    3\n",
       "Name: three, dtype: int64"
      ]
     },
     "execution_count": 154,
     "metadata": {},
     "output_type": "execute_result"
    }
   ],
   "source": [
    "#b) #get the value of row 2\n",
    "new_data.iloc[:, 2]"
   ]
  },
  {
   "cell_type": "code",
   "execution_count": 155,
   "id": "e1b00a53-527d-4c82-a69f-c6279199011a",
   "metadata": {},
   "outputs": [
    {
     "data": {
      "text/plain": [
       "6"
      ]
     },
     "execution_count": 155,
     "metadata": {},
     "output_type": "execute_result"
    }
   ],
   "source": [
    "new_data.iloc[2, 2]"
   ]
  },
  {
   "cell_type": "code",
   "execution_count": 156,
   "id": "e55cf0ff-b4d6-4b09-b285-0b926fc143d5",
   "metadata": {},
   "outputs": [],
   "source": [
    "new_data.iloc[2, 2] = 7"
   ]
  },
  {
   "cell_type": "code",
   "execution_count": 157,
   "id": "d7f84e7b-f9cc-494d-b531-1130fc8dc654",
   "metadata": {},
   "outputs": [
    {
     "data": {
      "text/html": [
       "<div>\n",
       "<style scoped>\n",
       "    .dataframe tbody tr th:only-of-type {\n",
       "        vertical-align: middle;\n",
       "    }\n",
       "\n",
       "    .dataframe tbody tr th {\n",
       "        vertical-align: top;\n",
       "    }\n",
       "\n",
       "    .dataframe thead th {\n",
       "        text-align: right;\n",
       "    }\n",
       "</style>\n",
       "<table border=\"1\" class=\"dataframe\">\n",
       "  <thead>\n",
       "    <tr style=\"text-align: right;\">\n",
       "      <th></th>\n",
       "      <th>one</th>\n",
       "      <th>two</th>\n",
       "      <th>three</th>\n",
       "      <th>four</th>\n",
       "    </tr>\n",
       "  </thead>\n",
       "  <tbody>\n",
       "    <tr>\n",
       "      <th>Ohio</th>\n",
       "      <td>1</td>\n",
       "      <td>0</td>\n",
       "      <td>0</td>\n",
       "      <td>0</td>\n",
       "    </tr>\n",
       "    <tr>\n",
       "      <th>Colorado</th>\n",
       "      <td>3</td>\n",
       "      <td>3</td>\n",
       "      <td>3</td>\n",
       "      <td>3</td>\n",
       "    </tr>\n",
       "    <tr>\n",
       "      <th>Utah</th>\n",
       "      <td>5</td>\n",
       "      <td>5</td>\n",
       "      <td>7</td>\n",
       "      <td>5</td>\n",
       "    </tr>\n",
       "    <tr>\n",
       "      <th>New York</th>\n",
       "      <td>3</td>\n",
       "      <td>3</td>\n",
       "      <td>3</td>\n",
       "      <td>3</td>\n",
       "    </tr>\n",
       "  </tbody>\n",
       "</table>\n",
       "</div>"
      ],
      "text/plain": [
       "          one  two  three  four\n",
       "Ohio        1    0      0     0\n",
       "Colorado    3    3      3     3\n",
       "Utah        5    5      7     5\n",
       "New York    3    3      3     3"
      ]
     },
     "execution_count": 157,
     "metadata": {},
     "output_type": "execute_result"
    }
   ],
   "source": [
    "new_data"
   ]
  },
  {
   "cell_type": "code",
   "execution_count": 158,
   "id": "fa841b83-4341-44f3-b2b1-8d05adbdb3ed",
   "metadata": {},
   "outputs": [
    {
     "data": {
      "text/html": [
       "<div>\n",
       "<style scoped>\n",
       "    .dataframe tbody tr th:only-of-type {\n",
       "        vertical-align: middle;\n",
       "    }\n",
       "\n",
       "    .dataframe tbody tr th {\n",
       "        vertical-align: top;\n",
       "    }\n",
       "\n",
       "    .dataframe thead th {\n",
       "        text-align: right;\n",
       "    }\n",
       "</style>\n",
       "<table border=\"1\" class=\"dataframe\">\n",
       "  <thead>\n",
       "    <tr style=\"text-align: right;\">\n",
       "      <th></th>\n",
       "      <th>three</th>\n",
       "    </tr>\n",
       "  </thead>\n",
       "  <tbody>\n",
       "    <tr>\n",
       "      <th>Utah</th>\n",
       "      <td>7</td>\n",
       "    </tr>\n",
       "  </tbody>\n",
       "</table>\n",
       "</div>"
      ],
      "text/plain": [
       "      three\n",
       "Utah      7"
      ]
     },
     "execution_count": 158,
     "metadata": {},
     "output_type": "execute_result"
    }
   ],
   "source": [
    "#Let's try it with lists\n",
    "new_data.iloc[[2], [2]]"
   ]
  },
  {
   "cell_type": "code",
   "execution_count": 159,
   "id": "a59673f6-1e77-4481-9bcd-7e72922a9aec",
   "metadata": {},
   "outputs": [
    {
     "data": {
      "text/plain": [
       "Utah    7\n",
       "Name: three, dtype: int64"
      ]
     },
     "execution_count": 159,
     "metadata": {},
     "output_type": "execute_result"
    }
   ],
   "source": [
    "#let's try it with each respective column as a list\n",
    "new_data.iloc[[2], 2] #row name from axis='columns', column name from axis='rows'"
   ]
  },
  {
   "cell_type": "code",
   "execution_count": 161,
   "id": "a0abb3b5-20ec-4b60-b4e2-1a6796f3aa7e",
   "metadata": {},
   "outputs": [
    {
     "data": {
      "text/plain": [
       "three    7\n",
       "Name: Utah, dtype: int64"
      ]
     },
     "execution_count": 161,
     "metadata": {},
     "output_type": "execute_result"
    }
   ],
   "source": [
    "#let's try it with each respective column as a list\n",
    "new_data.iloc[2, [2]]"
   ]
  },
  {
   "cell_type": "code",
   "execution_count": null,
   "id": "fdd5830c-6f02-4812-bb08-7071bf124cac",
   "metadata": {},
   "outputs": [],
   "source": []
  },
  {
   "cell_type": "code",
   "execution_count": null,
   "id": "532ac867-7736-4fd2-bfca-901ee82dc375",
   "metadata": {},
   "outputs": [],
   "source": []
  },
  {
   "cell_type": "code",
   "execution_count": null,
   "id": "369c6001-ca51-414b-b699-d29f47ef06e4",
   "metadata": {},
   "outputs": [],
   "source": []
  },
  {
   "cell_type": "code",
   "execution_count": null,
   "id": "1de1fa01-8700-4461-9ab7-b2176ed6d247",
   "metadata": {},
   "outputs": [],
   "source": [
    "\n"
   ]
  },
  {
   "cell_type": "code",
   "execution_count": null,
   "id": "62157806-17ce-4537-b82b-2d753b9142c6",
   "metadata": {},
   "outputs": [],
   "source": []
  },
  {
   "cell_type": "code",
   "execution_count": null,
   "id": "6f06fecf-2163-4411-96b8-47943f4a8f4a",
   "metadata": {},
   "outputs": [],
   "source": []
  },
  {
   "cell_type": "code",
   "execution_count": null,
   "id": "bee60258-a4bc-459a-a4d8-6b7c0a4aea4d",
   "metadata": {},
   "outputs": [],
   "source": []
  },
  {
   "cell_type": "code",
   "execution_count": null,
   "id": "f52d0dcd-eaab-42df-8479-acde08ebf5b5",
   "metadata": {},
   "outputs": [],
   "source": []
  },
  {
   "cell_type": "code",
   "execution_count": null,
   "id": "8be13911-b5af-41d7-b56c-aea69e2d4df6",
   "metadata": {},
   "outputs": [],
   "source": []
  },
  {
   "cell_type": "code",
   "execution_count": null,
   "id": "d2fab383-4e89-4ec5-84ba-a60a3dce326b",
   "metadata": {},
   "outputs": [],
   "source": []
  },
  {
   "cell_type": "code",
   "execution_count": null,
   "id": "5f0e2c25-a2ed-452f-99e1-f73cdad3c09e",
   "metadata": {},
   "outputs": [],
   "source": []
  },
  {
   "cell_type": "code",
   "execution_count": null,
   "id": "5d9ee3c7-6fb6-43da-8266-d6c32e0bec9f",
   "metadata": {},
   "outputs": [],
   "source": []
  },
  {
   "cell_type": "code",
   "execution_count": null,
   "id": "edd59c91-3638-4dba-ad5e-4980ca14c3dc",
   "metadata": {},
   "outputs": [],
   "source": []
  },
  {
   "cell_type": "code",
   "execution_count": null,
   "id": "6752b2de-f3f4-46d6-a492-d07d0f615fa1",
   "metadata": {},
   "outputs": [],
   "source": []
  },
  {
   "cell_type": "code",
   "execution_count": null,
   "id": "2f481ff0-f897-4d10-9536-d7c987435e91",
   "metadata": {},
   "outputs": [],
   "source": []
  }
 ],
 "metadata": {
  "kernelspec": {
   "display_name": "Python 3 (ipykernel)",
   "language": "python",
   "name": "python3"
  },
  "language_info": {
   "codemirror_mode": {
    "name": "ipython",
    "version": 3
   },
   "file_extension": ".py",
   "mimetype": "text/x-python",
   "name": "python",
   "nbconvert_exporter": "python",
   "pygments_lexer": "ipython3",
   "version": "3.10.8"
  }
 },
 "nbformat": 4,
 "nbformat_minor": 5
}
