{
 "cells": [
  {
   "cell_type": "code",
   "execution_count": 1,
   "id": "7cd6895f-4b4c-444f-911a-e0a9bcfdae6a",
   "metadata": {},
   "outputs": [],
   "source": [
    "import numpy as np\n",
    "import pandas as pd"
   ]
  },
  {
   "cell_type": "code",
   "execution_count": 2,
   "id": "07229f02-d3e8-41ca-a9f8-690d0fea28a5",
   "metadata": {},
   "outputs": [
    {
     "data": {
      "text/html": [
       "<div>\n",
       "<style scoped>\n",
       "    .dataframe tbody tr th:only-of-type {\n",
       "        vertical-align: middle;\n",
       "    }\n",
       "\n",
       "    .dataframe tbody tr th {\n",
       "        vertical-align: top;\n",
       "    }\n",
       "\n",
       "    .dataframe thead th {\n",
       "        text-align: right;\n",
       "    }\n",
       "</style>\n",
       "<table border=\"1\" class=\"dataframe\">\n",
       "  <thead>\n",
       "    <tr style=\"text-align: right;\">\n",
       "      <th></th>\n",
       "      <th>customer</th>\n",
       "      <th>item</th>\n",
       "    </tr>\n",
       "  </thead>\n",
       "  <tbody>\n",
       "    <tr>\n",
       "      <th>0</th>\n",
       "      <td>Martha</td>\n",
       "      <td>Vegetable Spring Rolls</td>\n",
       "    </tr>\n",
       "    <tr>\n",
       "      <th>1</th>\n",
       "      <td>Martha</td>\n",
       "      <td>Vegetable Lo Mein</td>\n",
       "    </tr>\n",
       "    <tr>\n",
       "      <th>2</th>\n",
       "      <td>Katie</td>\n",
       "      <td>Broccoli w/Garlic Sauce</td>\n",
       "    </tr>\n",
       "    <tr>\n",
       "      <th>3</th>\n",
       "      <td>Katie</td>\n",
       "      <td>Bean curd w/ mixed vegetables</td>\n",
       "    </tr>\n",
       "    <tr>\n",
       "      <th>4</th>\n",
       "      <td>Thomas</td>\n",
       "      <td>BBQ Spare Ribs</td>\n",
       "    </tr>\n",
       "    <tr>\n",
       "      <th>5</th>\n",
       "      <td>Thomas</td>\n",
       "      <td>House of Crispy Beef</td>\n",
       "    </tr>\n",
       "  </tbody>\n",
       "</table>\n",
       "</div>"
      ],
      "text/plain": [
       "  customer                           item\n",
       "0   Martha         Vegetable Spring Rolls\n",
       "1   Martha              Vegetable Lo Mein\n",
       "2    Katie        Broccoli w/Garlic Sauce\n",
       "3    Katie  Bean curd w/ mixed vegetables\n",
       "4   Thomas                 BBQ Spare Ribs\n",
       "5   Thomas           House of Crispy Beef"
      ]
     },
     "execution_count": 2,
     "metadata": {},
     "output_type": "execute_result"
    }
   ],
   "source": [
    "frame = pd.DataFrame({'customer': ['Martha', 'Martha', 'Katie', 'Katie', 'Thomas', 'Thomas'],\n",
    "             'item': ['Vegetable Spring Rolls', 'Vegetable Lo Mein', 'Broccoli w/Garlic Sauce',\n",
    "                     'Bean curd w/ mixed vegetables', 'BBQ Spare Ribs', 'House of Crispy Beef']})\n",
    "frame"
   ]
  },
  {
   "cell_type": "code",
   "execution_count": 3,
   "id": "5a464257-b463-4cb2-8069-d3efaaf876a1",
   "metadata": {},
   "outputs": [
    {
     "data": {
      "text/html": [
       "<div>\n",
       "<style scoped>\n",
       "    .dataframe tbody tr th:only-of-type {\n",
       "        vertical-align: middle;\n",
       "    }\n",
       "\n",
       "    .dataframe tbody tr th {\n",
       "        vertical-align: top;\n",
       "    }\n",
       "\n",
       "    .dataframe thead th {\n",
       "        text-align: right;\n",
       "    }\n",
       "</style>\n",
       "<table border=\"1\" class=\"dataframe\">\n",
       "  <thead>\n",
       "    <tr style=\"text-align: right;\">\n",
       "      <th></th>\n",
       "      <th>customer</th>\n",
       "      <th>item</th>\n",
       "      <th>quantity</th>\n",
       "    </tr>\n",
       "  </thead>\n",
       "  <tbody>\n",
       "    <tr>\n",
       "      <th>0</th>\n",
       "      <td>Martha</td>\n",
       "      <td>Vegetable Spring Rolls</td>\n",
       "      <td>1</td>\n",
       "    </tr>\n",
       "    <tr>\n",
       "      <th>1</th>\n",
       "      <td>Martha</td>\n",
       "      <td>Vegetable Lo Mein</td>\n",
       "      <td>1</td>\n",
       "    </tr>\n",
       "    <tr>\n",
       "      <th>2</th>\n",
       "      <td>Katie</td>\n",
       "      <td>Broccoli w/Garlic Sauce</td>\n",
       "      <td>1</td>\n",
       "    </tr>\n",
       "    <tr>\n",
       "      <th>3</th>\n",
       "      <td>Katie</td>\n",
       "      <td>Bean curd w/ mixed vegetables</td>\n",
       "      <td>1</td>\n",
       "    </tr>\n",
       "    <tr>\n",
       "      <th>4</th>\n",
       "      <td>Thomas</td>\n",
       "      <td>BBQ Spare Ribs</td>\n",
       "      <td>1</td>\n",
       "    </tr>\n",
       "    <tr>\n",
       "      <th>5</th>\n",
       "      <td>Thomas</td>\n",
       "      <td>House of Crispy Beef</td>\n",
       "      <td>1</td>\n",
       "    </tr>\n",
       "  </tbody>\n",
       "</table>\n",
       "</div>"
      ],
      "text/plain": [
       "  customer                           item  quantity\n",
       "0   Martha         Vegetable Spring Rolls         1\n",
       "1   Martha              Vegetable Lo Mein         1\n",
       "2    Katie        Broccoli w/Garlic Sauce         1\n",
       "3    Katie  Bean curd w/ mixed vegetables         1\n",
       "4   Thomas                 BBQ Spare Ribs         1\n",
       "5   Thomas           House of Crispy Beef         1"
      ]
     },
     "execution_count": 3,
     "metadata": {},
     "output_type": "execute_result"
    }
   ],
   "source": [
    "#set the quantity for each item to be 1\n",
    "frame['quantity'] = 1\n",
    "frame"
   ]
  },
  {
   "cell_type": "code",
   "execution_count": 4,
   "id": "5eb8bb40-127f-47c1-ab79-e0c0be068742",
   "metadata": {},
   "outputs": [
    {
     "data": {
      "text/plain": [
       "0    Martha\n",
       "1    Martha\n",
       "2     Katie\n",
       "3     Katie\n",
       "4    Thomas\n",
       "5    Thomas\n",
       "Name: customer, dtype: object"
      ]
     },
     "execution_count": 4,
     "metadata": {},
     "output_type": "execute_result"
    }
   ],
   "source": [
    "#select column\n",
    "#frame['customer']\n",
    "frame['customer']"
   ]
  },
  {
   "cell_type": "code",
   "execution_count": null,
   "id": "af121a26-f4f9-4672-a164-5712dd1efaa3",
   "metadata": {},
   "outputs": [],
   "source": []
  },
  {
   "cell_type": "code",
   "execution_count": null,
   "id": "27a8c73e-5ca5-4e15-bd8c-2ac37397ee2b",
   "metadata": {},
   "outputs": [],
   "source": []
  },
  {
   "cell_type": "code",
   "execution_count": null,
   "id": "c775a446-37f1-41e8-a9ce-ca65747566ba",
   "metadata": {},
   "outputs": [],
   "source": []
  },
  {
   "cell_type": "code",
   "execution_count": null,
   "id": "7d3c61e5-2ea7-460e-b2ae-9fb722d0ad44",
   "metadata": {},
   "outputs": [],
   "source": []
  },
  {
   "cell_type": "code",
   "execution_count": null,
   "id": "3e89ade0-c99c-43d2-b4af-7a0cbe7a8556",
   "metadata": {},
   "outputs": [],
   "source": []
  },
  {
   "cell_type": "code",
   "execution_count": null,
   "id": "a91ab0b6-6ed4-44b9-a163-96dcc76b3861",
   "metadata": {},
   "outputs": [],
   "source": []
  },
  {
   "cell_type": "code",
   "execution_count": null,
   "id": "c933b991-e4f7-48f7-bb9a-0cb339df3412",
   "metadata": {},
   "outputs": [],
   "source": []
  },
  {
   "cell_type": "code",
   "execution_count": null,
   "id": "832ad692-7bb8-43d2-b621-6c040f2f721b",
   "metadata": {},
   "outputs": [],
   "source": []
  },
  {
   "cell_type": "code",
   "execution_count": null,
   "id": "965f66d5-83e9-4db8-b1f3-6b4d3eda1254",
   "metadata": {},
   "outputs": [],
   "source": []
  },
  {
   "cell_type": "code",
   "execution_count": null,
   "id": "5a91969b-cb71-441e-a8de-d147437077dd",
   "metadata": {},
   "outputs": [],
   "source": []
  }
 ],
 "metadata": {
  "kernelspec": {
   "display_name": "Python 3 (ipykernel)",
   "language": "python",
   "name": "python3"
  },
  "language_info": {
   "codemirror_mode": {
    "name": "ipython",
    "version": 3
   },
   "file_extension": ".py",
   "mimetype": "text/x-python",
   "name": "python",
   "nbconvert_exporter": "python",
   "pygments_lexer": "ipython3",
   "version": "3.10.8"
  }
 },
 "nbformat": 4,
 "nbformat_minor": 5
}
