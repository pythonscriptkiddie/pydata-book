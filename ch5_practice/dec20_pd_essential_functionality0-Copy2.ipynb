{
 "cells": [
  {
   "cell_type": "code",
   "execution_count": 1,
   "id": "6d6f7935-b386-4da0-b615-657f9848639f",
   "metadata": {},
   "outputs": [],
   "source": [
    "import string\n",
    "from typing import List\n",
    "import logging\n",
    "import numpy as np\n",
    "import pandas as pd"
   ]
  },
  {
   "cell_type": "code",
   "execution_count": 2,
   "id": "9902b74a",
   "metadata": {},
   "outputs": [
    {
     "data": {
      "text/plain": [
       "d    4.5\n",
       "b    7.2\n",
       "a   -5.3\n",
       "c    3.6\n",
       "dtype: float64"
      ]
     },
     "execution_count": 2,
     "metadata": {},
     "output_type": "execute_result"
    }
   ],
   "source": [
    "#This is how we interact with the data in a pandas object: a DataFrame or a Series. Let's look at some of the\n",
    "#more commonly-used pandas methods.\n",
    "#1) Reindexing: crease a new object, realigning the values to match the new index\n",
    "obj = pd.Series([4.5, 7.2, -5.3, 3.6], index=['d','b', 'a', 'c'])\n",
    "obj"
   ]
  },
  {
   "cell_type": "code",
   "execution_count": 3,
   "id": "de53aa4c",
   "metadata": {},
   "outputs": [
    {
     "name": "stdout",
     "output_type": "stream",
     "text": [
      "a   -5.3\n",
      "b    7.2\n",
      "c    3.6\n",
      "d    4.5\n",
      "e    NaN\n",
      "dtype: float64\n",
      "The value of obj2[\"e\"] is True\n"
     ]
    }
   ],
   "source": [
    "#Let's rearrange the data according to a new index in alphabetical order\n",
    "#if we are using some types of data aka time series we might want to fill in some empty values.\n",
    "\n",
    "obj2 = obj.reindex(['a','b', 'c', 'd', 'e'])\n",
    "print(obj2)\n",
    "print(f'The value of obj2[\"e\"] is {np.isnan(obj2[\"e\"])}')"
   ]
  },
  {
   "cell_type": "code",
   "execution_count": 4,
   "id": "5032fdd6",
   "metadata": {},
   "outputs": [
    {
     "data": {
      "text/plain": [
       "0      blue\n",
       "2    yellow\n",
       "4    purple\n",
       "dtype: object"
      ]
     },
     "execution_count": 4,
     "metadata": {},
     "output_type": "execute_result"
    }
   ],
   "source": [
    "#if we are using some types of data aka time series we might want to fill in some empty values.\n",
    "#Here we use ffill in this same manner. We forward fill blank values\n",
    "obj3 = pd.Series(['blue', 'yellow', 'purple'], index=[0, 2, 4])\n",
    "obj3"
   ]
  },
  {
   "cell_type": "code",
   "execution_count": 5,
   "id": "c1a80fd6",
   "metadata": {},
   "outputs": [
    {
     "data": {
      "text/plain": [
       "0      blue\n",
       "1      blue\n",
       "2    yellow\n",
       "3    yellow\n",
       "4    purple\n",
       "5    purple\n",
       "dtype: object"
      ]
     },
     "execution_count": 5,
     "metadata": {},
     "output_type": "execute_result"
    }
   ],
   "source": [
    "#Let's replace the index for obj3 with an np.arange index which will create some missing values\n",
    "obj3.reindex(np.arange(6), method='ffill')"
   ]
  },
  {
   "cell_type": "code",
   "execution_count": 6,
   "id": "68206319",
   "metadata": {},
   "outputs": [
    {
     "data": {
      "text/plain": [
       "0      blue\n",
       "1    yellow\n",
       "2    yellow\n",
       "3    purple\n",
       "4    purple\n",
       "5       NaN\n",
       "dtype: object"
      ]
     },
     "execution_count": 6,
     "metadata": {},
     "output_type": "execute_result"
    }
   ],
   "source": [
    "#Let's replace the index for obj3 with an np.arange index which will create some missing values\n",
    "obj3.reindex(np.arange(6), method='bfill')"
   ]
  },
  {
   "cell_type": "code",
   "execution_count": 7,
   "id": "37bb55bf",
   "metadata": {},
   "outputs": [
    {
     "data": {
      "text/plain": [
       "array([0, 1, 2, 3, 4, 5, 6, 7, 8])"
      ]
     },
     "execution_count": 7,
     "metadata": {},
     "output_type": "execute_result"
    }
   ],
   "source": [
    "#df.reindex for DataFrames: we can modify the rows and/or the columns. When we pass it\n",
    "#a sequence, it reindexes the rows\n",
    "frame = np.arange(9)\n",
    "frame"
   ]
  },
  {
   "cell_type": "code",
   "execution_count": 8,
   "id": "8624afdb",
   "metadata": {},
   "outputs": [
    {
     "data": {
      "text/plain": [
       "array([[0, 1, 2],\n",
       "       [3, 4, 5],\n",
       "       [6, 7, 8]])"
      ]
     },
     "execution_count": 8,
     "metadata": {},
     "output_type": "execute_result"
    }
   ],
   "source": [
    "#df.reindex for DataFrames: we can modify the rows and/or the columns. When we pass it\n",
    "#a sequence, it reindexes the rows\n",
    "frame = np.arange(9).reshape(3, 3) #no parenthesis inside bracket\n",
    "frame"
   ]
  },
  {
   "cell_type": "code",
   "execution_count": 9,
   "id": "2675341c",
   "metadata": {},
   "outputs": [
    {
     "data": {
      "text/plain": [
       "array([[0, 1, 2],\n",
       "       [3, 4, 5],\n",
       "       [6, 7, 8]])"
      ]
     },
     "execution_count": 9,
     "metadata": {},
     "output_type": "execute_result"
    }
   ],
   "source": [
    "#df.reindex for DataFrames: we can modify the rows and/or the columns. When we pass it\n",
    "#a sequence, it reindexes the rows\n",
    "frame = np.arange(9).reshape((3, 3)) #same with parenthesis inside the brackets\n",
    "frame"
   ]
  },
  {
   "cell_type": "code",
   "execution_count": 10,
   "id": "7d0d1b91",
   "metadata": {},
   "outputs": [
    {
     "data": {
      "text/plain": [
       "array([[0, 1, 2],\n",
       "       [3, 4, 5],\n",
       "       [6, 7, 8]])"
      ]
     },
     "execution_count": 10,
     "metadata": {},
     "output_type": "execute_result"
    }
   ],
   "source": [
    "#df.reindex for DataFrames: we can modify the rows and/or the columns. When we pass it\n",
    "#a sequence, it reindexes the rows\n",
    "frame = np.arange(9).reshape(*(3, 3)) #same as the above two\n",
    "frame"
   ]
  },
  {
   "cell_type": "code",
   "execution_count": 11,
   "id": "9a987a86",
   "metadata": {},
   "outputs": [
    {
     "data": {
      "text/html": [
       "<div>\n",
       "<style scoped>\n",
       "    .dataframe tbody tr th:only-of-type {\n",
       "        vertical-align: middle;\n",
       "    }\n",
       "\n",
       "    .dataframe tbody tr th {\n",
       "        vertical-align: top;\n",
       "    }\n",
       "\n",
       "    .dataframe thead th {\n",
       "        text-align: right;\n",
       "    }\n",
       "</style>\n",
       "<table border=\"1\" class=\"dataframe\">\n",
       "  <thead>\n",
       "    <tr style=\"text-align: right;\">\n",
       "      <th></th>\n",
       "      <th>0</th>\n",
       "      <th>1</th>\n",
       "      <th>2</th>\n",
       "    </tr>\n",
       "  </thead>\n",
       "  <tbody>\n",
       "    <tr>\n",
       "      <th>0</th>\n",
       "      <td>0</td>\n",
       "      <td>1</td>\n",
       "      <td>2</td>\n",
       "    </tr>\n",
       "    <tr>\n",
       "      <th>1</th>\n",
       "      <td>3</td>\n",
       "      <td>4</td>\n",
       "      <td>5</td>\n",
       "    </tr>\n",
       "    <tr>\n",
       "      <th>2</th>\n",
       "      <td>6</td>\n",
       "      <td>7</td>\n",
       "      <td>8</td>\n",
       "    </tr>\n",
       "  </tbody>\n",
       "</table>\n",
       "</div>"
      ],
      "text/plain": [
       "   0  1  2\n",
       "0  0  1  2\n",
       "1  3  4  5\n",
       "2  6  7  8"
      ]
     },
     "execution_count": 11,
     "metadata": {},
     "output_type": "execute_result"
    }
   ],
   "source": [
    "#df.reindex for DataFrames: we can modify the rows and/or the columns. When we pass it\n",
    "#a sequence, it reindexes the rows\n",
    "frame = pd.DataFrame(np.arange(9).reshape(3, 3)) #no parenthesis inside bracket\n",
    "frame"
   ]
  },
  {
   "cell_type": "code",
   "execution_count": 12,
   "id": "9cae9f0d",
   "metadata": {},
   "outputs": [
    {
     "data": {
      "text/html": [
       "<div>\n",
       "<style scoped>\n",
       "    .dataframe tbody tr th:only-of-type {\n",
       "        vertical-align: middle;\n",
       "    }\n",
       "\n",
       "    .dataframe tbody tr th {\n",
       "        vertical-align: top;\n",
       "    }\n",
       "\n",
       "    .dataframe thead th {\n",
       "        text-align: right;\n",
       "    }\n",
       "</style>\n",
       "<table border=\"1\" class=\"dataframe\">\n",
       "  <thead>\n",
       "    <tr style=\"text-align: right;\">\n",
       "      <th></th>\n",
       "      <th>0</th>\n",
       "      <th>1</th>\n",
       "      <th>2</th>\n",
       "    </tr>\n",
       "  </thead>\n",
       "  <tbody>\n",
       "    <tr>\n",
       "      <th>a</th>\n",
       "      <td>0</td>\n",
       "      <td>1</td>\n",
       "      <td>2</td>\n",
       "    </tr>\n",
       "    <tr>\n",
       "      <th>c</th>\n",
       "      <td>3</td>\n",
       "      <td>4</td>\n",
       "      <td>5</td>\n",
       "    </tr>\n",
       "    <tr>\n",
       "      <th>d</th>\n",
       "      <td>6</td>\n",
       "      <td>7</td>\n",
       "      <td>8</td>\n",
       "    </tr>\n",
       "  </tbody>\n",
       "</table>\n",
       "</div>"
      ],
      "text/plain": [
       "   0  1  2\n",
       "a  0  1  2\n",
       "c  3  4  5\n",
       "d  6  7  8"
      ]
     },
     "execution_count": 12,
     "metadata": {},
     "output_type": "execute_result"
    }
   ],
   "source": [
    "#df.reindex for DataFrames: we can modify the rows and/or the columns. When we pass it\n",
    "#a sequence, it reindexes the rows\n",
    "#here we pass it an index for the rows\n",
    "frame = pd.DataFrame(np.arange(9).reshape(3, 3),\n",
    "                    index=['a', 'c', 'd']) #no parenthesis inside bracket\n",
    "frame"
   ]
  },
  {
   "cell_type": "code",
   "execution_count": 13,
   "id": "053cefbe",
   "metadata": {},
   "outputs": [
    {
     "data": {
      "text/html": [
       "<div>\n",
       "<style scoped>\n",
       "    .dataframe tbody tr th:only-of-type {\n",
       "        vertical-align: middle;\n",
       "    }\n",
       "\n",
       "    .dataframe tbody tr th {\n",
       "        vertical-align: top;\n",
       "    }\n",
       "\n",
       "    .dataframe thead th {\n",
       "        text-align: right;\n",
       "    }\n",
       "</style>\n",
       "<table border=\"1\" class=\"dataframe\">\n",
       "  <thead>\n",
       "    <tr style=\"text-align: right;\">\n",
       "      <th></th>\n",
       "      <th>Ohio</th>\n",
       "      <th>Texas</th>\n",
       "      <th>California</th>\n",
       "    </tr>\n",
       "  </thead>\n",
       "  <tbody>\n",
       "    <tr>\n",
       "      <th>0</th>\n",
       "      <td>0</td>\n",
       "      <td>1</td>\n",
       "      <td>2</td>\n",
       "    </tr>\n",
       "    <tr>\n",
       "      <th>1</th>\n",
       "      <td>3</td>\n",
       "      <td>4</td>\n",
       "      <td>5</td>\n",
       "    </tr>\n",
       "    <tr>\n",
       "      <th>2</th>\n",
       "      <td>6</td>\n",
       "      <td>7</td>\n",
       "      <td>8</td>\n",
       "    </tr>\n",
       "  </tbody>\n",
       "</table>\n",
       "</div>"
      ],
      "text/plain": [
       "   Ohio  Texas  California\n",
       "0     0      1           2\n",
       "1     3      4           5\n",
       "2     6      7           8"
      ]
     },
     "execution_count": 13,
     "metadata": {},
     "output_type": "execute_result"
    }
   ],
   "source": [
    "#df.reindex for DataFrames: we can modify the rows and/or the columns. When we pass it\n",
    "#a sequence, it reindexes the rows\n",
    "#here we pass it an index for the columns\n",
    "frame = pd.DataFrame(np.arange(9).reshape(3, 3),\n",
    "                    columns=['Ohio', 'Texas', 'California']) #no parenthesis inside bracket\n",
    "frame"
   ]
  },
  {
   "cell_type": "code",
   "execution_count": 14,
   "id": "97e0c394",
   "metadata": {},
   "outputs": [
    {
     "data": {
      "text/html": [
       "<div>\n",
       "<style scoped>\n",
       "    .dataframe tbody tr th:only-of-type {\n",
       "        vertical-align: middle;\n",
       "    }\n",
       "\n",
       "    .dataframe tbody tr th {\n",
       "        vertical-align: top;\n",
       "    }\n",
       "\n",
       "    .dataframe thead th {\n",
       "        text-align: right;\n",
       "    }\n",
       "</style>\n",
       "<table border=\"1\" class=\"dataframe\">\n",
       "  <thead>\n",
       "    <tr style=\"text-align: right;\">\n",
       "      <th></th>\n",
       "      <th>Ohio</th>\n",
       "      <th>Texas</th>\n",
       "      <th>California</th>\n",
       "    </tr>\n",
       "  </thead>\n",
       "  <tbody>\n",
       "    <tr>\n",
       "      <th>a</th>\n",
       "      <td>0</td>\n",
       "      <td>1</td>\n",
       "      <td>2</td>\n",
       "    </tr>\n",
       "    <tr>\n",
       "      <th>c</th>\n",
       "      <td>3</td>\n",
       "      <td>4</td>\n",
       "      <td>5</td>\n",
       "    </tr>\n",
       "    <tr>\n",
       "      <th>d</th>\n",
       "      <td>6</td>\n",
       "      <td>7</td>\n",
       "      <td>8</td>\n",
       "    </tr>\n",
       "  </tbody>\n",
       "</table>\n",
       "</div>"
      ],
      "text/plain": [
       "   Ohio  Texas  California\n",
       "a     0      1           2\n",
       "c     3      4           5\n",
       "d     6      7           8"
      ]
     },
     "execution_count": 14,
     "metadata": {},
     "output_type": "execute_result"
    }
   ],
   "source": [
    "#df.reindex for DataFrames: we can modify the rows and/or the columns. When we pass it\n",
    "#a sequence, it reindexes the rows\n",
    "#here we pass it an index for the columns\n",
    "frame = pd.DataFrame(np.arange(9).reshape(3, 3),\n",
    "                     index=['a', 'c', 'd'],\n",
    "                    columns=['Ohio', 'Texas', 'California']) #no parenthesis inside bracket\n",
    "frame"
   ]
  },
  {
   "cell_type": "code",
   "execution_count": 15,
   "id": "8bcbf4a4",
   "metadata": {},
   "outputs": [
    {
     "data": {
      "text/html": [
       "<div>\n",
       "<style scoped>\n",
       "    .dataframe tbody tr th:only-of-type {\n",
       "        vertical-align: middle;\n",
       "    }\n",
       "\n",
       "    .dataframe tbody tr th {\n",
       "        vertical-align: top;\n",
       "    }\n",
       "\n",
       "    .dataframe thead th {\n",
       "        text-align: right;\n",
       "    }\n",
       "</style>\n",
       "<table border=\"1\" class=\"dataframe\">\n",
       "  <thead>\n",
       "    <tr style=\"text-align: right;\">\n",
       "      <th></th>\n",
       "      <th>Ohio</th>\n",
       "      <th>Texas</th>\n",
       "      <th>California</th>\n",
       "    </tr>\n",
       "  </thead>\n",
       "  <tbody>\n",
       "    <tr>\n",
       "      <th>a</th>\n",
       "      <td>0.0</td>\n",
       "      <td>1.0</td>\n",
       "      <td>2.0</td>\n",
       "    </tr>\n",
       "    <tr>\n",
       "      <th>b</th>\n",
       "      <td>NaN</td>\n",
       "      <td>NaN</td>\n",
       "      <td>NaN</td>\n",
       "    </tr>\n",
       "    <tr>\n",
       "      <th>c</th>\n",
       "      <td>3.0</td>\n",
       "      <td>4.0</td>\n",
       "      <td>5.0</td>\n",
       "    </tr>\n",
       "    <tr>\n",
       "      <th>d</th>\n",
       "      <td>6.0</td>\n",
       "      <td>7.0</td>\n",
       "      <td>8.0</td>\n",
       "    </tr>\n",
       "  </tbody>\n",
       "</table>\n",
       "</div>"
      ],
      "text/plain": [
       "   Ohio  Texas  California\n",
       "a   0.0    1.0         2.0\n",
       "b   NaN    NaN         NaN\n",
       "c   3.0    4.0         5.0\n",
       "d   6.0    7.0         8.0"
      ]
     },
     "execution_count": 15,
     "metadata": {},
     "output_type": "execute_result"
    }
   ],
   "source": [
    "#now let's reindex frame\n",
    "frame2 = frame.reindex(index=['a', 'b', 'c', 'd'])\n",
    "frame2\n",
    "#notice how we added a row of nans in the DataFrame"
   ]
  },
  {
   "cell_type": "code",
   "execution_count": 16,
   "id": "99773a5a",
   "metadata": {},
   "outputs": [
    {
     "data": {
      "text/html": [
       "<div>\n",
       "<style scoped>\n",
       "    .dataframe tbody tr th:only-of-type {\n",
       "        vertical-align: middle;\n",
       "    }\n",
       "\n",
       "    .dataframe tbody tr th {\n",
       "        vertical-align: top;\n",
       "    }\n",
       "\n",
       "    .dataframe thead th {\n",
       "        text-align: right;\n",
       "    }\n",
       "</style>\n",
       "<table border=\"1\" class=\"dataframe\">\n",
       "  <thead>\n",
       "    <tr style=\"text-align: right;\">\n",
       "      <th></th>\n",
       "      <th>Ohio</th>\n",
       "      <th>Texas</th>\n",
       "      <th>California</th>\n",
       "    </tr>\n",
       "  </thead>\n",
       "  <tbody>\n",
       "    <tr>\n",
       "      <th>a</th>\n",
       "      <td>0.0</td>\n",
       "      <td>1.0</td>\n",
       "      <td>2.0</td>\n",
       "    </tr>\n",
       "    <tr>\n",
       "      <th>b</th>\n",
       "      <td>NaN</td>\n",
       "      <td>NaN</td>\n",
       "      <td>NaN</td>\n",
       "    </tr>\n",
       "    <tr>\n",
       "      <th>c</th>\n",
       "      <td>3.0</td>\n",
       "      <td>4.0</td>\n",
       "      <td>5.0</td>\n",
       "    </tr>\n",
       "    <tr>\n",
       "      <th>d</th>\n",
       "      <td>6.0</td>\n",
       "      <td>7.0</td>\n",
       "      <td>8.0</td>\n",
       "    </tr>\n",
       "  </tbody>\n",
       "</table>\n",
       "</div>"
      ],
      "text/plain": [
       "   Ohio  Texas  California\n",
       "a   0.0    1.0         2.0\n",
       "b   NaN    NaN         NaN\n",
       "c   3.0    4.0         5.0\n",
       "d   6.0    7.0         8.0"
      ]
     },
     "execution_count": 16,
     "metadata": {},
     "output_type": "execute_result"
    }
   ],
   "source": [
    "ascii_index0 : List[str] = [letter for letter in string.ascii_lowercase[:4]]\n",
    "frame2 = frame.reindex(index=ascii_index0)\n",
    "frame2"
   ]
  },
  {
   "cell_type": "code",
   "execution_count": 17,
   "id": "a5b1dce5",
   "metadata": {},
   "outputs": [
    {
     "data": {
      "text/html": [
       "<div>\n",
       "<style scoped>\n",
       "    .dataframe tbody tr th:only-of-type {\n",
       "        vertical-align: middle;\n",
       "    }\n",
       "\n",
       "    .dataframe tbody tr th {\n",
       "        vertical-align: top;\n",
       "    }\n",
       "\n",
       "    .dataframe thead th {\n",
       "        text-align: right;\n",
       "    }\n",
       "</style>\n",
       "<table border=\"1\" class=\"dataframe\">\n",
       "  <thead>\n",
       "    <tr style=\"text-align: right;\">\n",
       "      <th></th>\n",
       "      <th>Texas</th>\n",
       "      <th>Utah</th>\n",
       "      <th>California</th>\n",
       "    </tr>\n",
       "  </thead>\n",
       "  <tbody>\n",
       "    <tr>\n",
       "      <th>a</th>\n",
       "      <td>1</td>\n",
       "      <td>NaN</td>\n",
       "      <td>2</td>\n",
       "    </tr>\n",
       "    <tr>\n",
       "      <th>c</th>\n",
       "      <td>4</td>\n",
       "      <td>NaN</td>\n",
       "      <td>5</td>\n",
       "    </tr>\n",
       "    <tr>\n",
       "      <th>d</th>\n",
       "      <td>7</td>\n",
       "      <td>NaN</td>\n",
       "      <td>8</td>\n",
       "    </tr>\n",
       "  </tbody>\n",
       "</table>\n",
       "</div>"
      ],
      "text/plain": [
       "   Texas  Utah  California\n",
       "a      1   NaN           2\n",
       "c      4   NaN           5\n",
       "d      7   NaN           8"
      ]
     },
     "execution_count": 17,
     "metadata": {},
     "output_type": "execute_result"
    }
   ],
   "source": [
    "#we can reindex columns using the columns keyword\n",
    "states : List[str] = ['Texas', 'Utah', 'California']\n",
    "frame.reindex(columns=states)\n",
    "#Ohio is dropped because it is not in the list of states"
   ]
  },
  {
   "cell_type": "code",
   "execution_count": 18,
   "id": "f2389ec7",
   "metadata": {},
   "outputs": [
    {
     "data": {
      "text/html": [
       "<div>\n",
       "<style scoped>\n",
       "    .dataframe tbody tr th:only-of-type {\n",
       "        vertical-align: middle;\n",
       "    }\n",
       "\n",
       "    .dataframe tbody tr th {\n",
       "        vertical-align: top;\n",
       "    }\n",
       "\n",
       "    .dataframe thead th {\n",
       "        text-align: right;\n",
       "    }\n",
       "</style>\n",
       "<table border=\"1\" class=\"dataframe\">\n",
       "  <thead>\n",
       "    <tr style=\"text-align: right;\">\n",
       "      <th></th>\n",
       "      <th>Texas</th>\n",
       "      <th>Utah</th>\n",
       "      <th>California</th>\n",
       "    </tr>\n",
       "  </thead>\n",
       "  <tbody>\n",
       "    <tr>\n",
       "      <th>a</th>\n",
       "      <td>1</td>\n",
       "      <td>NaN</td>\n",
       "      <td>2</td>\n",
       "    </tr>\n",
       "    <tr>\n",
       "      <th>c</th>\n",
       "      <td>4</td>\n",
       "      <td>NaN</td>\n",
       "      <td>5</td>\n",
       "    </tr>\n",
       "    <tr>\n",
       "      <th>d</th>\n",
       "      <td>7</td>\n",
       "      <td>NaN</td>\n",
       "      <td>8</td>\n",
       "    </tr>\n",
       "  </tbody>\n",
       "</table>\n",
       "</div>"
      ],
      "text/plain": [
       "   Texas  Utah  California\n",
       "a      1   NaN           2\n",
       "c      4   NaN           5\n",
       "d      7   NaN           8"
      ]
     },
     "execution_count": 18,
     "metadata": {},
     "output_type": "execute_result"
    }
   ],
   "source": [
    "#we can also reindex by passing a sequence as a positional argument, and then giving a specific axis.\n",
    "#axis=0 or axis='rows' for rows and axis=1 or axis='columns' for columns\n",
    "frame.reindex(states, axis='columns')"
   ]
  },
  {
   "cell_type": "code",
   "execution_count": 19,
   "id": "626e565f",
   "metadata": {},
   "outputs": [
    {
     "data": {
      "text/html": [
       "<div>\n",
       "<style scoped>\n",
       "    .dataframe tbody tr th:only-of-type {\n",
       "        vertical-align: middle;\n",
       "    }\n",
       "\n",
       "    .dataframe tbody tr th {\n",
       "        vertical-align: top;\n",
       "    }\n",
       "\n",
       "    .dataframe thead th {\n",
       "        text-align: right;\n",
       "    }\n",
       "</style>\n",
       "<table border=\"1\" class=\"dataframe\">\n",
       "  <thead>\n",
       "    <tr style=\"text-align: right;\">\n",
       "      <th></th>\n",
       "      <th>Texas</th>\n",
       "      <th>Utah</th>\n",
       "      <th>California</th>\n",
       "    </tr>\n",
       "  </thead>\n",
       "  <tbody>\n",
       "    <tr>\n",
       "      <th>a</th>\n",
       "      <td>1</td>\n",
       "      <td>NaN</td>\n",
       "      <td>2</td>\n",
       "    </tr>\n",
       "    <tr>\n",
       "      <th>c</th>\n",
       "      <td>4</td>\n",
       "      <td>NaN</td>\n",
       "      <td>5</td>\n",
       "    </tr>\n",
       "    <tr>\n",
       "      <th>d</th>\n",
       "      <td>7</td>\n",
       "      <td>NaN</td>\n",
       "      <td>8</td>\n",
       "    </tr>\n",
       "  </tbody>\n",
       "</table>\n",
       "</div>"
      ],
      "text/plain": [
       "   Texas  Utah  California\n",
       "a      1   NaN           2\n",
       "c      4   NaN           5\n",
       "d      7   NaN           8"
      ]
     },
     "execution_count": 19,
     "metadata": {},
     "output_type": "execute_result"
    }
   ],
   "source": [
    "frame.reindex(states, axis=1) #same as above"
   ]
  },
  {
   "cell_type": "code",
   "execution_count": 20,
   "id": "d4fa478b",
   "metadata": {},
   "outputs": [
    {
     "data": {
      "text/html": [
       "<div>\n",
       "<style scoped>\n",
       "    .dataframe tbody tr th:only-of-type {\n",
       "        vertical-align: middle;\n",
       "    }\n",
       "\n",
       "    .dataframe tbody tr th {\n",
       "        vertical-align: top;\n",
       "    }\n",
       "\n",
       "    .dataframe thead th {\n",
       "        text-align: right;\n",
       "    }\n",
       "</style>\n",
       "<table border=\"1\" class=\"dataframe\">\n",
       "  <thead>\n",
       "    <tr style=\"text-align: right;\">\n",
       "      <th></th>\n",
       "      <th>Ohio</th>\n",
       "      <th>Texas</th>\n",
       "      <th>California</th>\n",
       "    </tr>\n",
       "  </thead>\n",
       "  <tbody>\n",
       "    <tr>\n",
       "      <th>a</th>\n",
       "      <td>0</td>\n",
       "      <td>1</td>\n",
       "      <td>2</td>\n",
       "    </tr>\n",
       "    <tr>\n",
       "      <th>d</th>\n",
       "      <td>6</td>\n",
       "      <td>7</td>\n",
       "      <td>8</td>\n",
       "    </tr>\n",
       "    <tr>\n",
       "      <th>c</th>\n",
       "      <td>3</td>\n",
       "      <td>4</td>\n",
       "      <td>5</td>\n",
       "    </tr>\n",
       "  </tbody>\n",
       "</table>\n",
       "</div>"
      ],
      "text/plain": [
       "   Ohio  Texas  California\n",
       "a     0      1           2\n",
       "d     6      7           8\n",
       "c     3      4           5"
      ]
     },
     "execution_count": 20,
     "metadata": {},
     "output_type": "execute_result"
    }
   ],
   "source": [
    "#We can reindex using the df.loc[] operator. The .loc operator cannot create new\n",
    "#rows or columns.\n",
    "frame.loc[['a', 'd', 'c']]"
   ]
  },
  {
   "cell_type": "code",
   "execution_count": 21,
   "id": "63d8c9d9",
   "metadata": {},
   "outputs": [
    {
     "data": {
      "text/html": [
       "<div>\n",
       "<style scoped>\n",
       "    .dataframe tbody tr th:only-of-type {\n",
       "        vertical-align: middle;\n",
       "    }\n",
       "\n",
       "    .dataframe tbody tr th {\n",
       "        vertical-align: top;\n",
       "    }\n",
       "\n",
       "    .dataframe thead th {\n",
       "        text-align: right;\n",
       "    }\n",
       "</style>\n",
       "<table border=\"1\" class=\"dataframe\">\n",
       "  <thead>\n",
       "    <tr style=\"text-align: right;\">\n",
       "      <th></th>\n",
       "      <th>California</th>\n",
       "      <th>Texas</th>\n",
       "    </tr>\n",
       "  </thead>\n",
       "  <tbody>\n",
       "    <tr>\n",
       "      <th>a</th>\n",
       "      <td>2</td>\n",
       "      <td>1</td>\n",
       "    </tr>\n",
       "    <tr>\n",
       "      <th>d</th>\n",
       "      <td>8</td>\n",
       "      <td>7</td>\n",
       "    </tr>\n",
       "    <tr>\n",
       "      <th>c</th>\n",
       "      <td>5</td>\n",
       "      <td>4</td>\n",
       "    </tr>\n",
       "  </tbody>\n",
       "</table>\n",
       "</div>"
      ],
      "text/plain": [
       "   California  Texas\n",
       "a           2      1\n",
       "d           8      7\n",
       "c           5      4"
      ]
     },
     "execution_count": 21,
     "metadata": {},
     "output_type": "execute_result"
    }
   ],
   "source": [
    "#We can reindex using the df.loc[] operator. The .loc operator cannot create new\n",
    "#rows or columns.\n",
    "frame.loc[['a', 'd', 'c'], ['California', 'Texas']]"
   ]
  },
  {
   "cell_type": "code",
   "execution_count": 22,
   "id": "d42e5aca",
   "metadata": {},
   "outputs": [
    {
     "data": {
      "text/plain": [
       "Ohio          0\n",
       "Texas         1\n",
       "California    2\n",
       "Name: a, dtype: int64"
      ]
     },
     "execution_count": 22,
     "metadata": {},
     "output_type": "execute_result"
    }
   ],
   "source": [
    "frame.loc['a']"
   ]
  },
  {
   "cell_type": "code",
   "execution_count": 23,
   "id": "76709f4a",
   "metadata": {},
   "outputs": [
    {
     "data": {
      "text/html": [
       "<div>\n",
       "<style scoped>\n",
       "    .dataframe tbody tr th:only-of-type {\n",
       "        vertical-align: middle;\n",
       "    }\n",
       "\n",
       "    .dataframe tbody tr th {\n",
       "        vertical-align: top;\n",
       "    }\n",
       "\n",
       "    .dataframe thead th {\n",
       "        text-align: right;\n",
       "    }\n",
       "</style>\n",
       "<table border=\"1\" class=\"dataframe\">\n",
       "  <thead>\n",
       "    <tr style=\"text-align: right;\">\n",
       "      <th></th>\n",
       "      <th>Ohio</th>\n",
       "      <th>Texas</th>\n",
       "      <th>California</th>\n",
       "    </tr>\n",
       "  </thead>\n",
       "  <tbody>\n",
       "    <tr>\n",
       "      <th>a</th>\n",
       "      <td>0</td>\n",
       "      <td>1</td>\n",
       "      <td>2</td>\n",
       "    </tr>\n",
       "    <tr>\n",
       "      <th>d</th>\n",
       "      <td>6</td>\n",
       "      <td>7</td>\n",
       "      <td>8</td>\n",
       "    </tr>\n",
       "  </tbody>\n",
       "</table>\n",
       "</div>"
      ],
      "text/plain": [
       "   Ohio  Texas  California\n",
       "a     0      1           2\n",
       "d     6      7           8"
      ]
     },
     "execution_count": 23,
     "metadata": {},
     "output_type": "execute_result"
    }
   ],
   "source": [
    "frame.loc[['a', 'd']]"
   ]
  },
  {
   "cell_type": "code",
   "execution_count": 24,
   "id": "0346f4a8",
   "metadata": {},
   "outputs": [
    {
     "data": {
      "text/html": [
       "<div>\n",
       "<style scoped>\n",
       "    .dataframe tbody tr th:only-of-type {\n",
       "        vertical-align: middle;\n",
       "    }\n",
       "\n",
       "    .dataframe tbody tr th {\n",
       "        vertical-align: top;\n",
       "    }\n",
       "\n",
       "    .dataframe thead th {\n",
       "        text-align: right;\n",
       "    }\n",
       "</style>\n",
       "<table border=\"1\" class=\"dataframe\">\n",
       "  <thead>\n",
       "    <tr style=\"text-align: right;\">\n",
       "      <th></th>\n",
       "      <th>Ohio</th>\n",
       "      <th>California</th>\n",
       "    </tr>\n",
       "  </thead>\n",
       "  <tbody>\n",
       "    <tr>\n",
       "      <th>a</th>\n",
       "      <td>0</td>\n",
       "      <td>2</td>\n",
       "    </tr>\n",
       "    <tr>\n",
       "      <th>d</th>\n",
       "      <td>6</td>\n",
       "      <td>8</td>\n",
       "    </tr>\n",
       "  </tbody>\n",
       "</table>\n",
       "</div>"
      ],
      "text/plain": [
       "   Ohio  California\n",
       "a     0           2\n",
       "d     6           8"
      ]
     },
     "execution_count": 24,
     "metadata": {},
     "output_type": "execute_result"
    }
   ],
   "source": [
    "frame.loc[['a', 'd'], ['Ohio', 'California']]"
   ]
  },
  {
   "cell_type": "code",
   "execution_count": 25,
   "id": "a46d388d",
   "metadata": {},
   "outputs": [
    {
     "data": {
      "text/plain": [
       "0    0.0\n",
       "1    1.0\n",
       "2    2.0\n",
       "3    3.0\n",
       "4    4.0\n",
       "dtype: float64"
      ]
     },
     "execution_count": 25,
     "metadata": {},
     "output_type": "execute_result"
    }
   ],
   "source": [
    "#dropping entries from axis\n",
    "#we can use df.drop() to drop entries from an axis without needing to use reindex or .loc\n",
    "obj = pd.Series(np.arange(5.))\n",
    "obj"
   ]
  },
  {
   "cell_type": "code",
   "execution_count": 26,
   "id": "d12407f3-089d-4477-b1cb-ae4307c53825",
   "metadata": {},
   "outputs": [
    {
     "data": {
      "text/plain": [
       "a    0.0\n",
       "b    1.0\n",
       "c    2.0\n",
       "d    3.0\n",
       "e    4.0\n",
       "dtype: float64"
      ]
     },
     "execution_count": 26,
     "metadata": {},
     "output_type": "execute_result"
    }
   ],
   "source": [
    "obj = pd.Series(np.arange(5.), index=['a', 'b', 'c', 'd', 'e'])\n",
    "obj"
   ]
  },
  {
   "cell_type": "code",
   "execution_count": 27,
   "id": "16efdb9b-1a8a-40bc-a280-443a194835c2",
   "metadata": {},
   "outputs": [
    {
     "data": {
      "text/plain": [
       "a    0.0\n",
       "b    1.0\n",
       "d    3.0\n",
       "e    4.0\n",
       "dtype: float64"
      ]
     },
     "execution_count": 27,
     "metadata": {},
     "output_type": "execute_result"
    }
   ],
   "source": [
    "new_obj = obj.drop('c')\n",
    "new_obj"
   ]
  },
  {
   "cell_type": "code",
   "execution_count": 28,
   "id": "9017993a-1ddc-4704-b915-1ac5678649e5",
   "metadata": {},
   "outputs": [
    {
     "data": {
      "text/plain": [
       "a    0.0\n",
       "b    1.0\n",
       "e    4.0\n",
       "dtype: float64"
      ]
     },
     "execution_count": 28,
     "metadata": {},
     "output_type": "execute_result"
    }
   ],
   "source": [
    "obj.drop(['d', 'c'])"
   ]
  },
  {
   "cell_type": "code",
   "execution_count": 29,
   "id": "3ccbe2aa-18e1-49cb-8d49-e3c8ab31434d",
   "metadata": {},
   "outputs": [
    {
     "data": {
      "text/plain": [
       "array([ 0,  1,  2,  3,  4,  5,  6,  7,  8,  9, 10, 11, 12, 13, 14, 15])"
      ]
     },
     "execution_count": 29,
     "metadata": {},
     "output_type": "execute_result"
    }
   ],
   "source": [
    "#DataFrame indexes: we can delete a value from either axis\n",
    "np.arange(16) #1d numpy array 16x1"
   ]
  },
  {
   "cell_type": "code",
   "execution_count": 30,
   "id": "7aacf87e-b2db-4cc2-929e-17362c4d3c64",
   "metadata": {},
   "outputs": [
    {
     "data": {
      "text/plain": [
       "array([[ 0,  1,  2,  3],\n",
       "       [ 4,  5,  6,  7],\n",
       "       [ 8,  9, 10, 11],\n",
       "       [12, 13, 14, 15]])"
      ]
     },
     "execution_count": 30,
     "metadata": {},
     "output_type": "execute_result"
    }
   ],
   "source": [
    "#DataFrame indexes: we can delete a value from either axis\n",
    "np.arange(16).reshape((4, 4)) #two dimensional numpy array 4x4"
   ]
  },
  {
   "cell_type": "code",
   "execution_count": 31,
   "id": "bb877188-1d5c-4404-9d8c-b33d1080acf9",
   "metadata": {},
   "outputs": [
    {
     "data": {
      "text/html": [
       "<div>\n",
       "<style scoped>\n",
       "    .dataframe tbody tr th:only-of-type {\n",
       "        vertical-align: middle;\n",
       "    }\n",
       "\n",
       "    .dataframe tbody tr th {\n",
       "        vertical-align: top;\n",
       "    }\n",
       "\n",
       "    .dataframe thead th {\n",
       "        text-align: right;\n",
       "    }\n",
       "</style>\n",
       "<table border=\"1\" class=\"dataframe\">\n",
       "  <thead>\n",
       "    <tr style=\"text-align: right;\">\n",
       "      <th></th>\n",
       "      <th>0</th>\n",
       "      <th>1</th>\n",
       "      <th>2</th>\n",
       "      <th>3</th>\n",
       "    </tr>\n",
       "  </thead>\n",
       "  <tbody>\n",
       "    <tr>\n",
       "      <th>0</th>\n",
       "      <td>0</td>\n",
       "      <td>1</td>\n",
       "      <td>2</td>\n",
       "      <td>3</td>\n",
       "    </tr>\n",
       "    <tr>\n",
       "      <th>1</th>\n",
       "      <td>4</td>\n",
       "      <td>5</td>\n",
       "      <td>6</td>\n",
       "      <td>7</td>\n",
       "    </tr>\n",
       "    <tr>\n",
       "      <th>2</th>\n",
       "      <td>8</td>\n",
       "      <td>9</td>\n",
       "      <td>10</td>\n",
       "      <td>11</td>\n",
       "    </tr>\n",
       "    <tr>\n",
       "      <th>3</th>\n",
       "      <td>12</td>\n",
       "      <td>13</td>\n",
       "      <td>14</td>\n",
       "      <td>15</td>\n",
       "    </tr>\n",
       "  </tbody>\n",
       "</table>\n",
       "</div>"
      ],
      "text/plain": [
       "    0   1   2   3\n",
       "0   0   1   2   3\n",
       "1   4   5   6   7\n",
       "2   8   9  10  11\n",
       "3  12  13  14  15"
      ]
     },
     "execution_count": 31,
     "metadata": {},
     "output_type": "execute_result"
    }
   ],
   "source": [
    "#DataFrame indexes: we can delete a value from either axis\n",
    "pd.DataFrame(np.arange(16).reshape((4, 4))) #Pandas DataFrame with default indices"
   ]
  },
  {
   "cell_type": "code",
   "execution_count": 32,
   "id": "be58ac8b-1907-417f-8a40-f03d784af742",
   "metadata": {},
   "outputs": [
    {
     "data": {
      "text/html": [
       "<div>\n",
       "<style scoped>\n",
       "    .dataframe tbody tr th:only-of-type {\n",
       "        vertical-align: middle;\n",
       "    }\n",
       "\n",
       "    .dataframe tbody tr th {\n",
       "        vertical-align: top;\n",
       "    }\n",
       "\n",
       "    .dataframe thead th {\n",
       "        text-align: right;\n",
       "    }\n",
       "</style>\n",
       "<table border=\"1\" class=\"dataframe\">\n",
       "  <thead>\n",
       "    <tr style=\"text-align: right;\">\n",
       "      <th></th>\n",
       "      <th>one</th>\n",
       "      <th>two</th>\n",
       "      <th>three</th>\n",
       "      <th>four</th>\n",
       "    </tr>\n",
       "  </thead>\n",
       "  <tbody>\n",
       "    <tr>\n",
       "      <th>0</th>\n",
       "      <td>0</td>\n",
       "      <td>1</td>\n",
       "      <td>2</td>\n",
       "      <td>3</td>\n",
       "    </tr>\n",
       "    <tr>\n",
       "      <th>1</th>\n",
       "      <td>4</td>\n",
       "      <td>5</td>\n",
       "      <td>6</td>\n",
       "      <td>7</td>\n",
       "    </tr>\n",
       "    <tr>\n",
       "      <th>2</th>\n",
       "      <td>8</td>\n",
       "      <td>9</td>\n",
       "      <td>10</td>\n",
       "      <td>11</td>\n",
       "    </tr>\n",
       "    <tr>\n",
       "      <th>3</th>\n",
       "      <td>12</td>\n",
       "      <td>13</td>\n",
       "      <td>14</td>\n",
       "      <td>15</td>\n",
       "    </tr>\n",
       "  </tbody>\n",
       "</table>\n",
       "</div>"
      ],
      "text/plain": [
       "   one  two  three  four\n",
       "0    0    1      2     3\n",
       "1    4    5      6     7\n",
       "2    8    9     10    11\n",
       "3   12   13     14    15"
      ]
     },
     "execution_count": 32,
     "metadata": {},
     "output_type": "execute_result"
    }
   ],
   "source": [
    "#DataFrame indexes: we can delete a value from either axis\n",
    "pd.DataFrame(np.arange(16).reshape((4, 4)),\n",
    "            columns=['one', 'two', 'three', 'four']) #Columns"
   ]
  },
  {
   "cell_type": "code",
   "execution_count": 33,
   "id": "75530e5d-a875-4b9d-8465-4d2426865995",
   "metadata": {},
   "outputs": [
    {
     "data": {
      "text/html": [
       "<div>\n",
       "<style scoped>\n",
       "    .dataframe tbody tr th:only-of-type {\n",
       "        vertical-align: middle;\n",
       "    }\n",
       "\n",
       "    .dataframe tbody tr th {\n",
       "        vertical-align: top;\n",
       "    }\n",
       "\n",
       "    .dataframe thead th {\n",
       "        text-align: right;\n",
       "    }\n",
       "</style>\n",
       "<table border=\"1\" class=\"dataframe\">\n",
       "  <thead>\n",
       "    <tr style=\"text-align: right;\">\n",
       "      <th></th>\n",
       "      <th>0</th>\n",
       "      <th>1</th>\n",
       "      <th>2</th>\n",
       "      <th>3</th>\n",
       "    </tr>\n",
       "  </thead>\n",
       "  <tbody>\n",
       "    <tr>\n",
       "      <th>Ohio</th>\n",
       "      <td>0</td>\n",
       "      <td>1</td>\n",
       "      <td>2</td>\n",
       "      <td>3</td>\n",
       "    </tr>\n",
       "    <tr>\n",
       "      <th>Colorado</th>\n",
       "      <td>4</td>\n",
       "      <td>5</td>\n",
       "      <td>6</td>\n",
       "      <td>7</td>\n",
       "    </tr>\n",
       "    <tr>\n",
       "      <th>Utah</th>\n",
       "      <td>8</td>\n",
       "      <td>9</td>\n",
       "      <td>10</td>\n",
       "      <td>11</td>\n",
       "    </tr>\n",
       "    <tr>\n",
       "      <th>New York</th>\n",
       "      <td>12</td>\n",
       "      <td>13</td>\n",
       "      <td>14</td>\n",
       "      <td>15</td>\n",
       "    </tr>\n",
       "  </tbody>\n",
       "</table>\n",
       "</div>"
      ],
      "text/plain": [
       "           0   1   2   3\n",
       "Ohio       0   1   2   3\n",
       "Colorado   4   5   6   7\n",
       "Utah       8   9  10  11\n",
       "New York  12  13  14  15"
      ]
     },
     "execution_count": 33,
     "metadata": {},
     "output_type": "execute_result"
    }
   ],
   "source": [
    "#DataFrame indexes: we can delete a value from either axis\n",
    "pd.DataFrame(np.arange(16).reshape((4, 4)),\n",
    "            index=['Ohio', 'Colorado', 'Utah', 'New York']) #Columns"
   ]
  },
  {
   "cell_type": "code",
   "execution_count": 34,
   "id": "a7bd40c4-532b-41ad-95c7-d95ca86a0e0c",
   "metadata": {},
   "outputs": [
    {
     "data": {
      "text/html": [
       "<div>\n",
       "<style scoped>\n",
       "    .dataframe tbody tr th:only-of-type {\n",
       "        vertical-align: middle;\n",
       "    }\n",
       "\n",
       "    .dataframe tbody tr th {\n",
       "        vertical-align: top;\n",
       "    }\n",
       "\n",
       "    .dataframe thead th {\n",
       "        text-align: right;\n",
       "    }\n",
       "</style>\n",
       "<table border=\"1\" class=\"dataframe\">\n",
       "  <thead>\n",
       "    <tr style=\"text-align: right;\">\n",
       "      <th></th>\n",
       "      <th>one</th>\n",
       "      <th>two</th>\n",
       "      <th>three</th>\n",
       "      <th>four</th>\n",
       "    </tr>\n",
       "  </thead>\n",
       "  <tbody>\n",
       "    <tr>\n",
       "      <th>Ohio</th>\n",
       "      <td>0</td>\n",
       "      <td>1</td>\n",
       "      <td>2</td>\n",
       "      <td>3</td>\n",
       "    </tr>\n",
       "    <tr>\n",
       "      <th>Colorado</th>\n",
       "      <td>4</td>\n",
       "      <td>5</td>\n",
       "      <td>6</td>\n",
       "      <td>7</td>\n",
       "    </tr>\n",
       "    <tr>\n",
       "      <th>Utah</th>\n",
       "      <td>8</td>\n",
       "      <td>9</td>\n",
       "      <td>10</td>\n",
       "      <td>11</td>\n",
       "    </tr>\n",
       "    <tr>\n",
       "      <th>New York</th>\n",
       "      <td>12</td>\n",
       "      <td>13</td>\n",
       "      <td>14</td>\n",
       "      <td>15</td>\n",
       "    </tr>\n",
       "  </tbody>\n",
       "</table>\n",
       "</div>"
      ],
      "text/plain": [
       "          one  two  three  four\n",
       "Ohio        0    1      2     3\n",
       "Colorado    4    5      6     7\n",
       "Utah        8    9     10    11\n",
       "New York   12   13     14    15"
      ]
     },
     "execution_count": 34,
     "metadata": {},
     "output_type": "execute_result"
    }
   ],
   "source": [
    "#DataFrame indexes: we can delete a value from either axis\n",
    "pd.DataFrame(np.arange(16).reshape((4, 4)),\n",
    "             columns=['one', 'two', 'three', 'four'],\n",
    "            index=['Ohio', 'Colorado', 'Utah', 'New York']) #Columns"
   ]
  },
  {
   "cell_type": "code",
   "execution_count": 35,
   "id": "df550b1f-56df-4892-8d5a-0c2b4fb3fe4b",
   "metadata": {},
   "outputs": [],
   "source": [
    "#DataFrame indexes: we can delete a value from either axis\n",
    "data = pd.DataFrame(np.arange(16).reshape((4, 4)),\n",
    "             columns=['one', 'two', 'three', 'four'],\n",
    "            index=['Ohio', 'Colorado', 'Utah', 'New York']) #Columns"
   ]
  },
  {
   "cell_type": "code",
   "execution_count": 36,
   "id": "55ef503e-9799-47a9-b753-fa7eced5d7c3",
   "metadata": {},
   "outputs": [
    {
     "data": {
      "text/html": [
       "<div>\n",
       "<style scoped>\n",
       "    .dataframe tbody tr th:only-of-type {\n",
       "        vertical-align: middle;\n",
       "    }\n",
       "\n",
       "    .dataframe tbody tr th {\n",
       "        vertical-align: top;\n",
       "    }\n",
       "\n",
       "    .dataframe thead th {\n",
       "        text-align: right;\n",
       "    }\n",
       "</style>\n",
       "<table border=\"1\" class=\"dataframe\">\n",
       "  <thead>\n",
       "    <tr style=\"text-align: right;\">\n",
       "      <th></th>\n",
       "      <th>one</th>\n",
       "      <th>two</th>\n",
       "      <th>three</th>\n",
       "      <th>four</th>\n",
       "    </tr>\n",
       "  </thead>\n",
       "  <tbody>\n",
       "    <tr>\n",
       "      <th>Ohio</th>\n",
       "      <td>0</td>\n",
       "      <td>1</td>\n",
       "      <td>2</td>\n",
       "      <td>3</td>\n",
       "    </tr>\n",
       "    <tr>\n",
       "      <th>Colorado</th>\n",
       "      <td>4</td>\n",
       "      <td>5</td>\n",
       "      <td>6</td>\n",
       "      <td>7</td>\n",
       "    </tr>\n",
       "    <tr>\n",
       "      <th>Utah</th>\n",
       "      <td>8</td>\n",
       "      <td>9</td>\n",
       "      <td>10</td>\n",
       "      <td>11</td>\n",
       "    </tr>\n",
       "    <tr>\n",
       "      <th>New York</th>\n",
       "      <td>12</td>\n",
       "      <td>13</td>\n",
       "      <td>14</td>\n",
       "      <td>15</td>\n",
       "    </tr>\n",
       "  </tbody>\n",
       "</table>\n",
       "</div>"
      ],
      "text/plain": [
       "          one  two  three  four\n",
       "Ohio        0    1      2     3\n",
       "Colorado    4    5      6     7\n",
       "Utah        8    9     10    11\n",
       "New York   12   13     14    15"
      ]
     },
     "execution_count": 36,
     "metadata": {},
     "output_type": "execute_result"
    }
   ],
   "source": [
    "data"
   ]
  },
  {
   "cell_type": "code",
   "execution_count": 37,
   "id": "908000f3-073c-4e33-81a2-26a081b21518",
   "metadata": {},
   "outputs": [
    {
     "data": {
      "text/plain": [
       "Ohio         1\n",
       "Colorado     5\n",
       "Utah         9\n",
       "New York    13\n",
       "Name: two, dtype: int64"
      ]
     },
     "execution_count": 37,
     "metadata": {},
     "output_type": "execute_result"
    }
   ],
   "source": [
    "data['two']"
   ]
  },
  {
   "cell_type": "code",
   "execution_count": 38,
   "id": "5c80e597-014f-472f-a13a-93f045d8771e",
   "metadata": {},
   "outputs": [
    {
     "data": {
      "text/html": [
       "<div>\n",
       "<style scoped>\n",
       "    .dataframe tbody tr th:only-of-type {\n",
       "        vertical-align: middle;\n",
       "    }\n",
       "\n",
       "    .dataframe tbody tr th {\n",
       "        vertical-align: top;\n",
       "    }\n",
       "\n",
       "    .dataframe thead th {\n",
       "        text-align: right;\n",
       "    }\n",
       "</style>\n",
       "<table border=\"1\" class=\"dataframe\">\n",
       "  <thead>\n",
       "    <tr style=\"text-align: right;\">\n",
       "      <th></th>\n",
       "      <th>three</th>\n",
       "      <th>one</th>\n",
       "    </tr>\n",
       "  </thead>\n",
       "  <tbody>\n",
       "    <tr>\n",
       "      <th>Ohio</th>\n",
       "      <td>2</td>\n",
       "      <td>0</td>\n",
       "    </tr>\n",
       "    <tr>\n",
       "      <th>Colorado</th>\n",
       "      <td>6</td>\n",
       "      <td>4</td>\n",
       "    </tr>\n",
       "    <tr>\n",
       "      <th>Utah</th>\n",
       "      <td>10</td>\n",
       "      <td>8</td>\n",
       "    </tr>\n",
       "    <tr>\n",
       "      <th>New York</th>\n",
       "      <td>14</td>\n",
       "      <td>12</td>\n",
       "    </tr>\n",
       "  </tbody>\n",
       "</table>\n",
       "</div>"
      ],
      "text/plain": [
       "          three  one\n",
       "Ohio          2    0\n",
       "Colorado      6    4\n",
       "Utah         10    8\n",
       "New York     14   12"
      ]
     },
     "execution_count": 38,
     "metadata": {},
     "output_type": "execute_result"
    }
   ],
   "source": [
    "data[['three', 'one']]"
   ]
  },
  {
   "cell_type": "code",
   "execution_count": 39,
   "id": "31ea48b7-12fa-44cf-9f88-2f69787a1eb0",
   "metadata": {},
   "outputs": [
    {
     "data": {
      "text/html": [
       "<div>\n",
       "<style scoped>\n",
       "    .dataframe tbody tr th:only-of-type {\n",
       "        vertical-align: middle;\n",
       "    }\n",
       "\n",
       "    .dataframe tbody tr th {\n",
       "        vertical-align: top;\n",
       "    }\n",
       "\n",
       "    .dataframe thead th {\n",
       "        text-align: right;\n",
       "    }\n",
       "</style>\n",
       "<table border=\"1\" class=\"dataframe\">\n",
       "  <thead>\n",
       "    <tr style=\"text-align: right;\">\n",
       "      <th></th>\n",
       "      <th>two</th>\n",
       "      <th>one</th>\n",
       "    </tr>\n",
       "  </thead>\n",
       "  <tbody>\n",
       "    <tr>\n",
       "      <th>Ohio</th>\n",
       "      <td>1</td>\n",
       "      <td>0</td>\n",
       "    </tr>\n",
       "    <tr>\n",
       "      <th>Colorado</th>\n",
       "      <td>5</td>\n",
       "      <td>4</td>\n",
       "    </tr>\n",
       "    <tr>\n",
       "      <th>Utah</th>\n",
       "      <td>9</td>\n",
       "      <td>8</td>\n",
       "    </tr>\n",
       "    <tr>\n",
       "      <th>New York</th>\n",
       "      <td>13</td>\n",
       "      <td>12</td>\n",
       "    </tr>\n",
       "  </tbody>\n",
       "</table>\n",
       "</div>"
      ],
      "text/plain": [
       "          two  one\n",
       "Ohio        1    0\n",
       "Colorado    5    4\n",
       "Utah        9    8\n",
       "New York   13   12"
      ]
     },
     "execution_count": 39,
     "metadata": {},
     "output_type": "execute_result"
    }
   ],
   "source": [
    "data[['two', 'one']]"
   ]
  },
  {
   "cell_type": "code",
   "execution_count": 40,
   "id": "be6eed85-5702-4258-99a5-de57ddec401a",
   "metadata": {},
   "outputs": [
    {
     "data": {
      "text/html": [
       "<div>\n",
       "<style scoped>\n",
       "    .dataframe tbody tr th:only-of-type {\n",
       "        vertical-align: middle;\n",
       "    }\n",
       "\n",
       "    .dataframe tbody tr th {\n",
       "        vertical-align: top;\n",
       "    }\n",
       "\n",
       "    .dataframe thead th {\n",
       "        text-align: right;\n",
       "    }\n",
       "</style>\n",
       "<table border=\"1\" class=\"dataframe\">\n",
       "  <thead>\n",
       "    <tr style=\"text-align: right;\">\n",
       "      <th></th>\n",
       "      <th>three</th>\n",
       "      <th>two</th>\n",
       "    </tr>\n",
       "  </thead>\n",
       "  <tbody>\n",
       "    <tr>\n",
       "      <th>Ohio</th>\n",
       "      <td>2</td>\n",
       "      <td>1</td>\n",
       "    </tr>\n",
       "    <tr>\n",
       "      <th>Colorado</th>\n",
       "      <td>6</td>\n",
       "      <td>5</td>\n",
       "    </tr>\n",
       "    <tr>\n",
       "      <th>Utah</th>\n",
       "      <td>10</td>\n",
       "      <td>9</td>\n",
       "    </tr>\n",
       "    <tr>\n",
       "      <th>New York</th>\n",
       "      <td>14</td>\n",
       "      <td>13</td>\n",
       "    </tr>\n",
       "  </tbody>\n",
       "</table>\n",
       "</div>"
      ],
      "text/plain": [
       "          three  two\n",
       "Ohio          2    1\n",
       "Colorado      6    5\n",
       "Utah         10    9\n",
       "New York     14   13"
      ]
     },
     "execution_count": 40,
     "metadata": {},
     "output_type": "execute_result"
    }
   ],
   "source": [
    "data[['three', 'two']]"
   ]
  },
  {
   "cell_type": "code",
   "execution_count": 41,
   "id": "edc3c96b-4cc2-4949-8cc7-c6b5deaf149b",
   "metadata": {},
   "outputs": [
    {
     "data": {
      "text/html": [
       "<div>\n",
       "<style scoped>\n",
       "    .dataframe tbody tr th:only-of-type {\n",
       "        vertical-align: middle;\n",
       "    }\n",
       "\n",
       "    .dataframe tbody tr th {\n",
       "        vertical-align: top;\n",
       "    }\n",
       "\n",
       "    .dataframe thead th {\n",
       "        text-align: right;\n",
       "    }\n",
       "</style>\n",
       "<table border=\"1\" class=\"dataframe\">\n",
       "  <thead>\n",
       "    <tr style=\"text-align: right;\">\n",
       "      <th></th>\n",
       "      <th>one</th>\n",
       "      <th>two</th>\n",
       "      <th>three</th>\n",
       "      <th>four</th>\n",
       "    </tr>\n",
       "  </thead>\n",
       "  <tbody>\n",
       "    <tr>\n",
       "      <th>Ohio</th>\n",
       "      <td>0</td>\n",
       "      <td>1</td>\n",
       "      <td>2</td>\n",
       "      <td>3</td>\n",
       "    </tr>\n",
       "    <tr>\n",
       "      <th>Colorado</th>\n",
       "      <td>4</td>\n",
       "      <td>5</td>\n",
       "      <td>6</td>\n",
       "      <td>7</td>\n",
       "    </tr>\n",
       "  </tbody>\n",
       "</table>\n",
       "</div>"
      ],
      "text/plain": [
       "          one  two  three  four\n",
       "Ohio        0    1      2     3\n",
       "Colorado    4    5      6     7"
      ]
     },
     "execution_count": 41,
     "metadata": {},
     "output_type": "execute_result"
    }
   ],
   "source": [
    "data[:2]"
   ]
  },
  {
   "cell_type": "code",
   "execution_count": 42,
   "id": "0435a729-06a2-434f-a53f-9513a13cc471",
   "metadata": {},
   "outputs": [
    {
     "data": {
      "text/html": [
       "<div>\n",
       "<style scoped>\n",
       "    .dataframe tbody tr th:only-of-type {\n",
       "        vertical-align: middle;\n",
       "    }\n",
       "\n",
       "    .dataframe tbody tr th {\n",
       "        vertical-align: top;\n",
       "    }\n",
       "\n",
       "    .dataframe thead th {\n",
       "        text-align: right;\n",
       "    }\n",
       "</style>\n",
       "<table border=\"1\" class=\"dataframe\">\n",
       "  <thead>\n",
       "    <tr style=\"text-align: right;\">\n",
       "      <th></th>\n",
       "      <th>four</th>\n",
       "    </tr>\n",
       "  </thead>\n",
       "  <tbody>\n",
       "    <tr>\n",
       "      <th>Colorado</th>\n",
       "      <td>7</td>\n",
       "    </tr>\n",
       "  </tbody>\n",
       "</table>\n",
       "</div>"
      ],
      "text/plain": [
       "          four\n",
       "Colorado     7"
      ]
     },
     "execution_count": 42,
     "metadata": {},
     "output_type": "execute_result"
    }
   ],
   "source": [
    "data.loc[['Colorado'], ['four']] #works with .loc"
   ]
  },
  {
   "cell_type": "code",
   "execution_count": 43,
   "id": "e712070b-a6cd-4053-b31a-570ab775baaa",
   "metadata": {},
   "outputs": [
    {
     "name": "stdout",
     "output_type": "stream",
     "text": [
      "(['Colorado'], ['four'])\n"
     ]
    }
   ],
   "source": [
    "try:\n",
    "    data[['Colorado'], ['four']] #doesn't work\n",
    "except Exception as e:\n",
    "    print(e)"
   ]
  },
  {
   "cell_type": "code",
   "execution_count": 44,
   "id": "d92e9946-f174-442f-90d4-4833af80fd22",
   "metadata": {},
   "outputs": [
    {
     "data": {
      "text/html": [
       "<div>\n",
       "<style scoped>\n",
       "    .dataframe tbody tr th:only-of-type {\n",
       "        vertical-align: middle;\n",
       "    }\n",
       "\n",
       "    .dataframe tbody tr th {\n",
       "        vertical-align: top;\n",
       "    }\n",
       "\n",
       "    .dataframe thead th {\n",
       "        text-align: right;\n",
       "    }\n",
       "</style>\n",
       "<table border=\"1\" class=\"dataframe\">\n",
       "  <thead>\n",
       "    <tr style=\"text-align: right;\">\n",
       "      <th></th>\n",
       "      <th>one</th>\n",
       "      <th>two</th>\n",
       "      <th>three</th>\n",
       "      <th>four</th>\n",
       "    </tr>\n",
       "  </thead>\n",
       "  <tbody>\n",
       "    <tr>\n",
       "      <th>Ohio</th>\n",
       "      <td>0</td>\n",
       "      <td>1</td>\n",
       "      <td>2</td>\n",
       "      <td>3</td>\n",
       "    </tr>\n",
       "    <tr>\n",
       "      <th>Colorado</th>\n",
       "      <td>4</td>\n",
       "      <td>5</td>\n",
       "      <td>6</td>\n",
       "      <td>7</td>\n",
       "    </tr>\n",
       "  </tbody>\n",
       "</table>\n",
       "</div>"
      ],
      "text/plain": [
       "          one  two  three  four\n",
       "Ohio        0    1      2     3\n",
       "Colorado    4    5      6     7"
      ]
     },
     "execution_count": 44,
     "metadata": {},
     "output_type": "execute_result"
    }
   ],
   "source": [
    "data[:2]"
   ]
  },
  {
   "cell_type": "code",
   "execution_count": 45,
   "id": "0e86a7c8-2756-4521-be49-36c12b32c7a9",
   "metadata": {},
   "outputs": [
    {
     "data": {
      "text/html": [
       "<div>\n",
       "<style scoped>\n",
       "    .dataframe tbody tr th:only-of-type {\n",
       "        vertical-align: middle;\n",
       "    }\n",
       "\n",
       "    .dataframe tbody tr th {\n",
       "        vertical-align: top;\n",
       "    }\n",
       "\n",
       "    .dataframe thead th {\n",
       "        text-align: right;\n",
       "    }\n",
       "</style>\n",
       "<table border=\"1\" class=\"dataframe\">\n",
       "  <thead>\n",
       "    <tr style=\"text-align: right;\">\n",
       "      <th></th>\n",
       "      <th>one</th>\n",
       "      <th>two</th>\n",
       "      <th>three</th>\n",
       "      <th>four</th>\n",
       "    </tr>\n",
       "  </thead>\n",
       "  <tbody>\n",
       "    <tr>\n",
       "      <th>Colorado</th>\n",
       "      <td>4</td>\n",
       "      <td>5</td>\n",
       "      <td>6</td>\n",
       "      <td>7</td>\n",
       "    </tr>\n",
       "    <tr>\n",
       "      <th>Utah</th>\n",
       "      <td>8</td>\n",
       "      <td>9</td>\n",
       "      <td>10</td>\n",
       "      <td>11</td>\n",
       "    </tr>\n",
       "  </tbody>\n",
       "</table>\n",
       "</div>"
      ],
      "text/plain": [
       "          one  two  three  four\n",
       "Colorado    4    5      6     7\n",
       "Utah        8    9     10    11"
      ]
     },
     "execution_count": 45,
     "metadata": {},
     "output_type": "execute_result"
    }
   ],
   "source": [
    "data[1:3] #row selection syntax is a convenience"
   ]
  },
  {
   "cell_type": "code",
   "execution_count": 46,
   "id": "80c30ef7-4c7f-48e7-96e4-c2356117212f",
   "metadata": {},
   "outputs": [
    {
     "data": {
      "text/html": [
       "<div>\n",
       "<style scoped>\n",
       "    .dataframe tbody tr th:only-of-type {\n",
       "        vertical-align: middle;\n",
       "    }\n",
       "\n",
       "    .dataframe tbody tr th {\n",
       "        vertical-align: top;\n",
       "    }\n",
       "\n",
       "    .dataframe thead th {\n",
       "        text-align: right;\n",
       "    }\n",
       "</style>\n",
       "<table border=\"1\" class=\"dataframe\">\n",
       "  <thead>\n",
       "    <tr style=\"text-align: right;\">\n",
       "      <th></th>\n",
       "      <th>one</th>\n",
       "      <th>two</th>\n",
       "      <th>three</th>\n",
       "      <th>four</th>\n",
       "    </tr>\n",
       "  </thead>\n",
       "  <tbody>\n",
       "    <tr>\n",
       "      <th>Colorado</th>\n",
       "      <td>4</td>\n",
       "      <td>5</td>\n",
       "      <td>6</td>\n",
       "      <td>7</td>\n",
       "    </tr>\n",
       "    <tr>\n",
       "      <th>Utah</th>\n",
       "      <td>8</td>\n",
       "      <td>9</td>\n",
       "      <td>10</td>\n",
       "      <td>11</td>\n",
       "    </tr>\n",
       "    <tr>\n",
       "      <th>New York</th>\n",
       "      <td>12</td>\n",
       "      <td>13</td>\n",
       "      <td>14</td>\n",
       "      <td>15</td>\n",
       "    </tr>\n",
       "  </tbody>\n",
       "</table>\n",
       "</div>"
      ],
      "text/plain": [
       "          one  two  three  four\n",
       "Colorado    4    5      6     7\n",
       "Utah        8    9     10    11\n",
       "New York   12   13     14    15"
      ]
     },
     "execution_count": 46,
     "metadata": {},
     "output_type": "execute_result"
    }
   ],
   "source": [
    "data[data[\"three\"] > 5]"
   ]
  },
  {
   "cell_type": "code",
   "execution_count": 47,
   "id": "bbad5558-ec21-4568-9a95-1aaf332dde82",
   "metadata": {},
   "outputs": [],
   "source": [
    "data2 = data.copy()\n",
    "data3 = data2.reset_index()"
   ]
  },
  {
   "cell_type": "code",
   "execution_count": 48,
   "id": "9d04f783-936d-4f13-ab35-6f45b1b31061",
   "metadata": {},
   "outputs": [
    {
     "data": {
      "text/html": [
       "<div>\n",
       "<style scoped>\n",
       "    .dataframe tbody tr th:only-of-type {\n",
       "        vertical-align: middle;\n",
       "    }\n",
       "\n",
       "    .dataframe tbody tr th {\n",
       "        vertical-align: top;\n",
       "    }\n",
       "\n",
       "    .dataframe thead th {\n",
       "        text-align: right;\n",
       "    }\n",
       "</style>\n",
       "<table border=\"1\" class=\"dataframe\">\n",
       "  <thead>\n",
       "    <tr style=\"text-align: right;\">\n",
       "      <th></th>\n",
       "      <th>state</th>\n",
       "      <th>one</th>\n",
       "      <th>two</th>\n",
       "      <th>three</th>\n",
       "      <th>four</th>\n",
       "    </tr>\n",
       "  </thead>\n",
       "  <tbody>\n",
       "    <tr>\n",
       "      <th>0</th>\n",
       "      <td>Ohio</td>\n",
       "      <td>0</td>\n",
       "      <td>1</td>\n",
       "      <td>2</td>\n",
       "      <td>3</td>\n",
       "    </tr>\n",
       "    <tr>\n",
       "      <th>1</th>\n",
       "      <td>Colorado</td>\n",
       "      <td>4</td>\n",
       "      <td>5</td>\n",
       "      <td>6</td>\n",
       "      <td>7</td>\n",
       "    </tr>\n",
       "    <tr>\n",
       "      <th>2</th>\n",
       "      <td>Utah</td>\n",
       "      <td>8</td>\n",
       "      <td>9</td>\n",
       "      <td>10</td>\n",
       "      <td>11</td>\n",
       "    </tr>\n",
       "    <tr>\n",
       "      <th>3</th>\n",
       "      <td>New York</td>\n",
       "      <td>12</td>\n",
       "      <td>13</td>\n",
       "      <td>14</td>\n",
       "      <td>15</td>\n",
       "    </tr>\n",
       "  </tbody>\n",
       "</table>\n",
       "</div>"
      ],
      "text/plain": [
       "      state  one  two  three  four\n",
       "0      Ohio    0    1      2     3\n",
       "1  Colorado    4    5      6     7\n",
       "2      Utah    8    9     10    11\n",
       "3  New York   12   13     14    15"
      ]
     },
     "execution_count": 48,
     "metadata": {},
     "output_type": "execute_result"
    }
   ],
   "source": [
    "data3.rename(columns={'index': 'state'})"
   ]
  },
  {
   "cell_type": "code",
   "execution_count": 49,
   "id": "c54cef6b-b8b5-455f-97b4-62586ac0558b",
   "metadata": {},
   "outputs": [
    {
     "data": {
      "text/html": [
       "<div>\n",
       "<style scoped>\n",
       "    .dataframe tbody tr th:only-of-type {\n",
       "        vertical-align: middle;\n",
       "    }\n",
       "\n",
       "    .dataframe tbody tr th {\n",
       "        vertical-align: top;\n",
       "    }\n",
       "\n",
       "    .dataframe thead th {\n",
       "        text-align: right;\n",
       "    }\n",
       "</style>\n",
       "<table border=\"1\" class=\"dataframe\">\n",
       "  <thead>\n",
       "    <tr style=\"text-align: right;\">\n",
       "      <th></th>\n",
       "      <th>one</th>\n",
       "      <th>two</th>\n",
       "      <th>three</th>\n",
       "      <th>four</th>\n",
       "    </tr>\n",
       "  </thead>\n",
       "  <tbody>\n",
       "    <tr>\n",
       "      <th>Ohio</th>\n",
       "      <td>True</td>\n",
       "      <td>True</td>\n",
       "      <td>True</td>\n",
       "      <td>True</td>\n",
       "    </tr>\n",
       "    <tr>\n",
       "      <th>Colorado</th>\n",
       "      <td>True</td>\n",
       "      <td>False</td>\n",
       "      <td>False</td>\n",
       "      <td>False</td>\n",
       "    </tr>\n",
       "    <tr>\n",
       "      <th>Utah</th>\n",
       "      <td>False</td>\n",
       "      <td>False</td>\n",
       "      <td>False</td>\n",
       "      <td>False</td>\n",
       "    </tr>\n",
       "    <tr>\n",
       "      <th>New York</th>\n",
       "      <td>False</td>\n",
       "      <td>False</td>\n",
       "      <td>False</td>\n",
       "      <td>False</td>\n",
       "    </tr>\n",
       "  </tbody>\n",
       "</table>\n",
       "</div>"
      ],
      "text/plain": [
       "            one    two  three   four\n",
       "Ohio       True   True   True   True\n",
       "Colorado   True  False  False  False\n",
       "Utah      False  False  False  False\n",
       "New York  False  False  False  False"
      ]
     },
     "execution_count": 49,
     "metadata": {},
     "output_type": "execute_result"
    }
   ],
   "source": [
    "#indexing a boolean DataFrame\n",
    "data < 5"
   ]
  },
  {
   "cell_type": "code",
   "execution_count": 50,
   "id": "0ac490c0-89de-47e6-bdc6-d58ebe12c84d",
   "metadata": {},
   "outputs": [],
   "source": [
    "#we can use this DataFrame to assign a value to each location with the value \"True\"\n",
    "data[data < 5] = 0"
   ]
  },
  {
   "cell_type": "code",
   "execution_count": 51,
   "id": "11e6c556-7514-4c0d-9dcb-92768ad18bf1",
   "metadata": {},
   "outputs": [
    {
     "data": {
      "text/html": [
       "<div>\n",
       "<style scoped>\n",
       "    .dataframe tbody tr th:only-of-type {\n",
       "        vertical-align: middle;\n",
       "    }\n",
       "\n",
       "    .dataframe tbody tr th {\n",
       "        vertical-align: top;\n",
       "    }\n",
       "\n",
       "    .dataframe thead th {\n",
       "        text-align: right;\n",
       "    }\n",
       "</style>\n",
       "<table border=\"1\" class=\"dataframe\">\n",
       "  <thead>\n",
       "    <tr style=\"text-align: right;\">\n",
       "      <th></th>\n",
       "      <th>one</th>\n",
       "      <th>two</th>\n",
       "      <th>three</th>\n",
       "      <th>four</th>\n",
       "    </tr>\n",
       "  </thead>\n",
       "  <tbody>\n",
       "    <tr>\n",
       "      <th>Ohio</th>\n",
       "      <td>0</td>\n",
       "      <td>0</td>\n",
       "      <td>0</td>\n",
       "      <td>0</td>\n",
       "    </tr>\n",
       "    <tr>\n",
       "      <th>Colorado</th>\n",
       "      <td>0</td>\n",
       "      <td>5</td>\n",
       "      <td>6</td>\n",
       "      <td>7</td>\n",
       "    </tr>\n",
       "    <tr>\n",
       "      <th>Utah</th>\n",
       "      <td>8</td>\n",
       "      <td>9</td>\n",
       "      <td>10</td>\n",
       "      <td>11</td>\n",
       "    </tr>\n",
       "    <tr>\n",
       "      <th>New York</th>\n",
       "      <td>12</td>\n",
       "      <td>13</td>\n",
       "      <td>14</td>\n",
       "      <td>15</td>\n",
       "    </tr>\n",
       "  </tbody>\n",
       "</table>\n",
       "</div>"
      ],
      "text/plain": [
       "          one  two  three  four\n",
       "Ohio        0    0      0     0\n",
       "Colorado    0    5      6     7\n",
       "Utah        8    9     10    11\n",
       "New York   12   13     14    15"
      ]
     },
     "execution_count": 51,
     "metadata": {},
     "output_type": "execute_result"
    }
   ],
   "source": [
    "data"
   ]
  },
  {
   "cell_type": "code",
   "execution_count": 52,
   "id": "5aa791c2-a1f1-452e-98a8-8c5cd62900c1",
   "metadata": {},
   "outputs": [
    {
     "data": {
      "text/html": [
       "<div>\n",
       "<style scoped>\n",
       "    .dataframe tbody tr th:only-of-type {\n",
       "        vertical-align: middle;\n",
       "    }\n",
       "\n",
       "    .dataframe tbody tr th {\n",
       "        vertical-align: top;\n",
       "    }\n",
       "\n",
       "    .dataframe thead th {\n",
       "        text-align: right;\n",
       "    }\n",
       "</style>\n",
       "<table border=\"1\" class=\"dataframe\">\n",
       "  <thead>\n",
       "    <tr style=\"text-align: right;\">\n",
       "      <th></th>\n",
       "      <th>one</th>\n",
       "      <th>two</th>\n",
       "      <th>three</th>\n",
       "      <th>four</th>\n",
       "    </tr>\n",
       "  </thead>\n",
       "  <tbody>\n",
       "    <tr>\n",
       "      <th>Ohio</th>\n",
       "      <td>0</td>\n",
       "      <td>0</td>\n",
       "      <td>0</td>\n",
       "      <td>0</td>\n",
       "    </tr>\n",
       "    <tr>\n",
       "      <th>Colorado</th>\n",
       "      <td>0</td>\n",
       "      <td>5</td>\n",
       "      <td>6</td>\n",
       "      <td>7</td>\n",
       "    </tr>\n",
       "    <tr>\n",
       "      <th>Utah</th>\n",
       "      <td>8</td>\n",
       "      <td>9</td>\n",
       "      <td>10</td>\n",
       "      <td>11</td>\n",
       "    </tr>\n",
       "    <tr>\n",
       "      <th>New York</th>\n",
       "      <td>12</td>\n",
       "      <td>13</td>\n",
       "      <td>14</td>\n",
       "      <td>15</td>\n",
       "    </tr>\n",
       "  </tbody>\n",
       "</table>\n",
       "</div>"
      ],
      "text/plain": [
       "          one  two  three  four\n",
       "Ohio        0    0      0     0\n",
       "Colorado    0    5      6     7\n",
       "Utah        8    9     10    11\n",
       "New York   12   13     14    15"
      ]
     },
     "execution_count": 52,
     "metadata": {},
     "output_type": "execute_result"
    }
   ],
   "source": [
    "#pd.DataFrame: Has special .loc and .iloc attributes\n",
    "#.loc : (axis labels)\n",
    "data"
   ]
  },
  {
   "cell_type": "code",
   "execution_count": 53,
   "id": "73c2e3d4-fca4-4855-97e5-6d7abbc1bae1",
   "metadata": {},
   "outputs": [
    {
     "data": {
      "text/plain": [
       "one      0\n",
       "two      5\n",
       "three    6\n",
       "four     7\n",
       "Name: Colorado, dtype: int64"
      ]
     },
     "execution_count": 53,
     "metadata": {},
     "output_type": "execute_result"
    }
   ],
   "source": [
    "data.loc['Colorado']"
   ]
  },
  {
   "cell_type": "code",
   "execution_count": 54,
   "id": "4fa23757-53b3-413c-b367-c18b3f5f3d6e",
   "metadata": {},
   "outputs": [
    {
     "name": "stderr",
     "output_type": "stream",
     "text": [
      "CRITICAL:root:'New York'\n"
     ]
    }
   ],
   "source": [
    "try:\n",
    "    data.loc['Colorado', 'New York']\n",
    "except KeyError as e:\n",
    "    logging.critical(e)"
   ]
  },
  {
   "cell_type": "code",
   "execution_count": 55,
   "id": "5096a34d-df15-4419-9ba3-6358732ec673",
   "metadata": {},
   "outputs": [
    {
     "data": {
      "text/plain": [
       "one      0\n",
       "two      5\n",
       "three    6\n",
       "four     7\n",
       "Name: Colorado, dtype: int64"
      ]
     },
     "execution_count": 55,
     "metadata": {},
     "output_type": "execute_result"
    }
   ],
   "source": [
    "#pass a sequence of labels to select multiple rows\n",
    "data.loc[\"Colorado\"] #1) entire row selected"
   ]
  },
  {
   "cell_type": "code",
   "execution_count": 56,
   "id": "588cffc2-28be-45f2-90f9-341bfd5cd275",
   "metadata": {},
   "outputs": [
    {
     "data": {
      "text/plain": [
       "5"
      ]
     },
     "execution_count": 56,
     "metadata": {},
     "output_type": "execute_result"
    }
   ],
   "source": [
    "#pass a sequence of labels to select multiple rows\n",
    "data.loc['Colorado', 'two'] #1) single element selected"
   ]
  },
  {
   "cell_type": "code",
   "execution_count": 57,
   "id": "feaeb753-a8cf-435f-b352-407ae7e59b40",
   "metadata": {},
   "outputs": [
    {
     "data": {
      "text/plain": [
       "two    5\n",
       "Name: Colorado, dtype: int64"
      ]
     },
     "execution_count": 57,
     "metadata": {},
     "output_type": "execute_result"
    }
   ],
   "source": [
    "data.loc['Colorado', ['two']] #single element selected with index"
   ]
  },
  {
   "cell_type": "code",
   "execution_count": 58,
   "id": "8008be34-6bf9-4095-a534-bc08ac7fd6be",
   "metadata": {},
   "outputs": [
    {
     "data": {
      "text/plain": [
       "Colorado    5\n",
       "Name: two, dtype: int64"
      ]
     },
     "execution_count": 58,
     "metadata": {},
     "output_type": "execute_result"
    }
   ],
   "source": [
    "#pattern is df.loc[List[str], str] -> pd.Series\n",
    "data.loc[['Colorado'], 'two']"
   ]
  },
  {
   "cell_type": "code",
   "execution_count": 59,
   "id": "a441e2de-e976-49e1-8ee3-65af64530c6f",
   "metadata": {},
   "outputs": [
    {
     "data": {
      "text/html": [
       "<div>\n",
       "<style scoped>\n",
       "    .dataframe tbody tr th:only-of-type {\n",
       "        vertical-align: middle;\n",
       "    }\n",
       "\n",
       "    .dataframe tbody tr th {\n",
       "        vertical-align: top;\n",
       "    }\n",
       "\n",
       "    .dataframe thead th {\n",
       "        text-align: right;\n",
       "    }\n",
       "</style>\n",
       "<table border=\"1\" class=\"dataframe\">\n",
       "  <thead>\n",
       "    <tr style=\"text-align: right;\">\n",
       "      <th></th>\n",
       "      <th>two</th>\n",
       "    </tr>\n",
       "  </thead>\n",
       "  <tbody>\n",
       "    <tr>\n",
       "      <th>Colorado</th>\n",
       "      <td>5</td>\n",
       "    </tr>\n",
       "  </tbody>\n",
       "</table>\n",
       "</div>"
      ],
      "text/plain": [
       "          two\n",
       "Colorado    5"
      ]
     },
     "execution_count": 59,
     "metadata": {},
     "output_type": "execute_result"
    }
   ],
   "source": [
    "#pattern is df.loc[List[str], List[str]]\n",
    "data.loc[['Colorado'], ['two']]"
   ]
  },
  {
   "cell_type": "code",
   "execution_count": 60,
   "id": "2779ca4e-e5d1-43f1-9a6d-a56261a8030f",
   "metadata": {},
   "outputs": [
    {
     "data": {
      "text/plain": [
       "two      5\n",
       "three    6\n",
       "Name: Colorado, dtype: int64"
      ]
     },
     "execution_count": 60,
     "metadata": {},
     "output_type": "execute_result"
    }
   ],
   "source": [
    "data.loc['Colorado', ['two', 'three']]"
   ]
  },
  {
   "cell_type": "code",
   "execution_count": 61,
   "id": "34900225-cab1-4e39-984d-00b68bc23191",
   "metadata": {},
   "outputs": [
    {
     "data": {
      "text/html": [
       "<div>\n",
       "<style scoped>\n",
       "    .dataframe tbody tr th:only-of-type {\n",
       "        vertical-align: middle;\n",
       "    }\n",
       "\n",
       "    .dataframe tbody tr th {\n",
       "        vertical-align: top;\n",
       "    }\n",
       "\n",
       "    .dataframe thead th {\n",
       "        text-align: right;\n",
       "    }\n",
       "</style>\n",
       "<table border=\"1\" class=\"dataframe\">\n",
       "  <thead>\n",
       "    <tr style=\"text-align: right;\">\n",
       "      <th></th>\n",
       "      <th>one</th>\n",
       "      <th>two</th>\n",
       "      <th>three</th>\n",
       "      <th>four</th>\n",
       "    </tr>\n",
       "  </thead>\n",
       "  <tbody>\n",
       "    <tr>\n",
       "      <th>Ohio</th>\n",
       "      <td>0</td>\n",
       "      <td>0</td>\n",
       "      <td>0</td>\n",
       "      <td>0</td>\n",
       "    </tr>\n",
       "    <tr>\n",
       "      <th>New York</th>\n",
       "      <td>12</td>\n",
       "      <td>13</td>\n",
       "      <td>14</td>\n",
       "      <td>15</td>\n",
       "    </tr>\n",
       "  </tbody>\n",
       "</table>\n",
       "</div>"
      ],
      "text/plain": [
       "          one  two  three  four\n",
       "Ohio        0    0      0     0\n",
       "New York   12   13     14    15"
      ]
     },
     "execution_count": 61,
     "metadata": {},
     "output_type": "execute_result"
    }
   ],
   "source": [
    "data.loc[['Ohio', 'New York']] #select two index items"
   ]
  },
  {
   "cell_type": "code",
   "execution_count": 62,
   "id": "12a41642-f41f-4337-b7a5-8bb3f13ac444",
   "metadata": {},
   "outputs": [
    {
     "data": {
      "text/plain": [
       "Ohio         0\n",
       "New York    12\n",
       "Name: one, dtype: int64"
      ]
     },
     "execution_count": 62,
     "metadata": {},
     "output_type": "execute_result"
    }
   ],
   "source": [
    "data.loc[['Ohio', 'New York'], 'one'] #select one column with two index items"
   ]
  },
  {
   "cell_type": "code",
   "execution_count": 63,
   "id": "65bd0486-1fad-4b4d-8102-1398352f9721",
   "metadata": {},
   "outputs": [
    {
     "data": {
      "text/plain": [
       "one       8\n",
       "two       9\n",
       "three    10\n",
       "four     11\n",
       "Name: Utah, dtype: int64"
      ]
     },
     "execution_count": 63,
     "metadata": {},
     "output_type": "execute_result"
    }
   ],
   "source": [
    "#iloc: perform integer selections, regardless of the dtype of the index\n",
    "data.iloc[2]"
   ]
  },
  {
   "cell_type": "code",
   "execution_count": 64,
   "id": "60797e82-f486-4a89-8d09-87460628881d",
   "metadata": {},
   "outputs": [
    {
     "data": {
      "text/html": [
       "<div>\n",
       "<style scoped>\n",
       "    .dataframe tbody tr th:only-of-type {\n",
       "        vertical-align: middle;\n",
       "    }\n",
       "\n",
       "    .dataframe tbody tr th {\n",
       "        vertical-align: top;\n",
       "    }\n",
       "\n",
       "    .dataframe thead th {\n",
       "        text-align: right;\n",
       "    }\n",
       "</style>\n",
       "<table border=\"1\" class=\"dataframe\">\n",
       "  <thead>\n",
       "    <tr style=\"text-align: right;\">\n",
       "      <th></th>\n",
       "      <th>one</th>\n",
       "      <th>two</th>\n",
       "      <th>three</th>\n",
       "      <th>four</th>\n",
       "    </tr>\n",
       "  </thead>\n",
       "  <tbody>\n",
       "    <tr>\n",
       "      <th>Utah</th>\n",
       "      <td>8</td>\n",
       "      <td>9</td>\n",
       "      <td>10</td>\n",
       "      <td>11</td>\n",
       "    </tr>\n",
       "    <tr>\n",
       "      <th>Colorado</th>\n",
       "      <td>0</td>\n",
       "      <td>5</td>\n",
       "      <td>6</td>\n",
       "      <td>7</td>\n",
       "    </tr>\n",
       "  </tbody>\n",
       "</table>\n",
       "</div>"
      ],
      "text/plain": [
       "          one  two  three  four\n",
       "Utah        8    9     10    11\n",
       "Colorado    0    5      6     7"
      ]
     },
     "execution_count": 64,
     "metadata": {},
     "output_type": "execute_result"
    }
   ],
   "source": [
    "data.iloc[[2, 1]]"
   ]
  },
  {
   "cell_type": "code",
   "execution_count": 65,
   "id": "3f40c93c-c669-4d51-b17a-b6854e6c7d17",
   "metadata": {},
   "outputs": [
    {
     "data": {
      "text/plain": [
       "four    11\n",
       "one      8\n",
       "two      9\n",
       "Name: Utah, dtype: int64"
      ]
     },
     "execution_count": 65,
     "metadata": {},
     "output_type": "execute_result"
    }
   ],
   "source": [
    "data.iloc[2, [3, 0, 1]]"
   ]
  },
  {
   "cell_type": "code",
   "execution_count": 66,
   "id": "92444706-7f6b-4754-9d6e-5c2a88d1606c",
   "metadata": {},
   "outputs": [
    {
     "data": {
      "text/html": [
       "<div>\n",
       "<style scoped>\n",
       "    .dataframe tbody tr th:only-of-type {\n",
       "        vertical-align: middle;\n",
       "    }\n",
       "\n",
       "    .dataframe tbody tr th {\n",
       "        vertical-align: top;\n",
       "    }\n",
       "\n",
       "    .dataframe thead th {\n",
       "        text-align: right;\n",
       "    }\n",
       "</style>\n",
       "<table border=\"1\" class=\"dataframe\">\n",
       "  <thead>\n",
       "    <tr style=\"text-align: right;\">\n",
       "      <th></th>\n",
       "      <th>four</th>\n",
       "      <th>one</th>\n",
       "      <th>two</th>\n",
       "    </tr>\n",
       "  </thead>\n",
       "  <tbody>\n",
       "    <tr>\n",
       "      <th>Colorado</th>\n",
       "      <td>7</td>\n",
       "      <td>0</td>\n",
       "      <td>5</td>\n",
       "    </tr>\n",
       "    <tr>\n",
       "      <th>Utah</th>\n",
       "      <td>11</td>\n",
       "      <td>8</td>\n",
       "      <td>9</td>\n",
       "    </tr>\n",
       "  </tbody>\n",
       "</table>\n",
       "</div>"
      ],
      "text/plain": [
       "          four  one  two\n",
       "Colorado     7    0    5\n",
       "Utah        11    8    9"
      ]
     },
     "execution_count": 66,
     "metadata": {},
     "output_type": "execute_result"
    }
   ],
   "source": [
    "data.iloc[[1, 2], [3, 0, 1]]"
   ]
  },
  {
   "cell_type": "code",
   "execution_count": 67,
   "id": "84245449-f264-4d02-a3eb-2fae02b1128e",
   "metadata": {},
   "outputs": [
    {
     "data": {
      "text/html": [
       "<div>\n",
       "<style scoped>\n",
       "    .dataframe tbody tr th:only-of-type {\n",
       "        vertical-align: middle;\n",
       "    }\n",
       "\n",
       "    .dataframe tbody tr th {\n",
       "        vertical-align: top;\n",
       "    }\n",
       "\n",
       "    .dataframe thead th {\n",
       "        text-align: right;\n",
       "    }\n",
       "</style>\n",
       "<table border=\"1\" class=\"dataframe\">\n",
       "  <thead>\n",
       "    <tr style=\"text-align: right;\">\n",
       "      <th></th>\n",
       "      <th>four</th>\n",
       "      <th>one</th>\n",
       "      <th>two</th>\n",
       "    </tr>\n",
       "  </thead>\n",
       "  <tbody>\n",
       "    <tr>\n",
       "      <th>Utah</th>\n",
       "      <td>11</td>\n",
       "      <td>8</td>\n",
       "      <td>9</td>\n",
       "    </tr>\n",
       "    <tr>\n",
       "      <th>Colorado</th>\n",
       "      <td>7</td>\n",
       "      <td>0</td>\n",
       "      <td>5</td>\n",
       "    </tr>\n",
       "  </tbody>\n",
       "</table>\n",
       "</div>"
      ],
      "text/plain": [
       "          four  one  two\n",
       "Utah        11    8    9\n",
       "Colorado     7    0    5"
      ]
     },
     "execution_count": 67,
     "metadata": {},
     "output_type": "execute_result"
    }
   ],
   "source": [
    "data.iloc[[2, 1], [3, 0, 1]]"
   ]
  },
  {
   "cell_type": "code",
   "execution_count": 68,
   "id": "0501a6eb-aded-439c-a642-9e835d466189",
   "metadata": {},
   "outputs": [
    {
     "data": {
      "text/plain": [
       "Ohio        0\n",
       "Colorado    5\n",
       "Utah        9\n",
       "Name: two, dtype: int64"
      ]
     },
     "execution_count": 68,
     "metadata": {},
     "output_type": "execute_result"
    }
   ],
   "source": [
    "#loc and iloc work with slices\n",
    "data.loc[:'Utah', 'two']"
   ]
  },
  {
   "cell_type": "code",
   "execution_count": 69,
   "id": "88ab0f4b-238d-4efb-bfca-ba51ba5089cc",
   "metadata": {},
   "outputs": [
    {
     "data": {
      "text/plain": [
       "Ohio        0\n",
       "Colorado    6\n",
       "Name: three, dtype: int64"
      ]
     },
     "execution_count": 69,
     "metadata": {},
     "output_type": "execute_result"
    }
   ],
   "source": [
    "data.loc[:'Colorado', 'three']"
   ]
  },
  {
   "cell_type": "code",
   "execution_count": 70,
   "id": "089bb90d-a929-4e2f-b3ab-127d17c7b189",
   "metadata": {},
   "outputs": [
    {
     "data": {
      "text/html": [
       "<div>\n",
       "<style scoped>\n",
       "    .dataframe tbody tr th:only-of-type {\n",
       "        vertical-align: middle;\n",
       "    }\n",
       "\n",
       "    .dataframe tbody tr th {\n",
       "        vertical-align: top;\n",
       "    }\n",
       "\n",
       "    .dataframe thead th {\n",
       "        text-align: right;\n",
       "    }\n",
       "</style>\n",
       "<table border=\"1\" class=\"dataframe\">\n",
       "  <thead>\n",
       "    <tr style=\"text-align: right;\">\n",
       "      <th></th>\n",
       "      <th>one</th>\n",
       "      <th>two</th>\n",
       "      <th>three</th>\n",
       "    </tr>\n",
       "  </thead>\n",
       "  <tbody>\n",
       "    <tr>\n",
       "      <th>Colorado</th>\n",
       "      <td>0</td>\n",
       "      <td>5</td>\n",
       "      <td>6</td>\n",
       "    </tr>\n",
       "    <tr>\n",
       "      <th>Utah</th>\n",
       "      <td>8</td>\n",
       "      <td>9</td>\n",
       "      <td>10</td>\n",
       "    </tr>\n",
       "    <tr>\n",
       "      <th>New York</th>\n",
       "      <td>12</td>\n",
       "      <td>13</td>\n",
       "      <td>14</td>\n",
       "    </tr>\n",
       "  </tbody>\n",
       "</table>\n",
       "</div>"
      ],
      "text/plain": [
       "          one  two  three\n",
       "Colorado    0    5      6\n",
       "Utah        8    9     10\n",
       "New York   12   13     14"
      ]
     },
     "execution_count": 70,
     "metadata": {},
     "output_type": "execute_result"
    }
   ],
   "source": [
    "data.iloc[:, :3][data.three > 5]"
   ]
  },
  {
   "cell_type": "code",
   "execution_count": 71,
   "id": "0b2a21aa-b5af-4b05-9673-433fb9a68057",
   "metadata": {},
   "outputs": [
    {
     "data": {
      "text/html": [
       "<div>\n",
       "<style scoped>\n",
       "    .dataframe tbody tr th:only-of-type {\n",
       "        vertical-align: middle;\n",
       "    }\n",
       "\n",
       "    .dataframe tbody tr th {\n",
       "        vertical-align: top;\n",
       "    }\n",
       "\n",
       "    .dataframe thead th {\n",
       "        text-align: right;\n",
       "    }\n",
       "</style>\n",
       "<table border=\"1\" class=\"dataframe\">\n",
       "  <thead>\n",
       "    <tr style=\"text-align: right;\">\n",
       "      <th></th>\n",
       "      <th>one</th>\n",
       "      <th>two</th>\n",
       "    </tr>\n",
       "  </thead>\n",
       "  <tbody>\n",
       "    <tr>\n",
       "      <th>Utah</th>\n",
       "      <td>8</td>\n",
       "      <td>9</td>\n",
       "    </tr>\n",
       "    <tr>\n",
       "      <th>New York</th>\n",
       "      <td>12</td>\n",
       "      <td>13</td>\n",
       "    </tr>\n",
       "  </tbody>\n",
       "</table>\n",
       "</div>"
      ],
      "text/plain": [
       "          one  two\n",
       "Utah        8    9\n",
       "New York   12   13"
      ]
     },
     "execution_count": 71,
     "metadata": {},
     "output_type": "execute_result"
    }
   ],
   "source": [
    "data.iloc[:, :2][data.three > 6]"
   ]
  },
  {
   "cell_type": "code",
   "execution_count": 72,
   "id": "88c0a555-5395-4de4-925d-8908caf29cf6",
   "metadata": {},
   "outputs": [
    {
     "data": {
      "text/html": [
       "<div>\n",
       "<style scoped>\n",
       "    .dataframe tbody tr th:only-of-type {\n",
       "        vertical-align: middle;\n",
       "    }\n",
       "\n",
       "    .dataframe tbody tr th {\n",
       "        vertical-align: top;\n",
       "    }\n",
       "\n",
       "    .dataframe thead th {\n",
       "        text-align: right;\n",
       "    }\n",
       "</style>\n",
       "<table border=\"1\" class=\"dataframe\">\n",
       "  <thead>\n",
       "    <tr style=\"text-align: right;\">\n",
       "      <th></th>\n",
       "      <th>one</th>\n",
       "      <th>two</th>\n",
       "      <th>three</th>\n",
       "      <th>four</th>\n",
       "    </tr>\n",
       "  </thead>\n",
       "  <tbody>\n",
       "    <tr>\n",
       "      <th>Colorado</th>\n",
       "      <td>0</td>\n",
       "      <td>5</td>\n",
       "      <td>6</td>\n",
       "      <td>7</td>\n",
       "    </tr>\n",
       "    <tr>\n",
       "      <th>Utah</th>\n",
       "      <td>8</td>\n",
       "      <td>9</td>\n",
       "      <td>10</td>\n",
       "      <td>11</td>\n",
       "    </tr>\n",
       "    <tr>\n",
       "      <th>New York</th>\n",
       "      <td>12</td>\n",
       "      <td>13</td>\n",
       "      <td>14</td>\n",
       "      <td>15</td>\n",
       "    </tr>\n",
       "  </tbody>\n",
       "</table>\n",
       "</div>"
      ],
      "text/plain": [
       "          one  two  three  four\n",
       "Colorado    0    5      6     7\n",
       "Utah        8    9     10    11\n",
       "New York   12   13     14    15"
      ]
     },
     "execution_count": 72,
     "metadata": {},
     "output_type": "execute_result"
    }
   ],
   "source": [
    "#boolean arrays work only with loc not iloc\n",
    "data.loc[data.three >= 2]"
   ]
  },
  {
   "cell_type": "code",
   "execution_count": 73,
   "id": "e6a1d259-9d25-4160-bae3-58dee008c3a3",
   "metadata": {},
   "outputs": [
    {
     "data": {
      "text/html": [
       "<div>\n",
       "<style scoped>\n",
       "    .dataframe tbody tr th:only-of-type {\n",
       "        vertical-align: middle;\n",
       "    }\n",
       "\n",
       "    .dataframe tbody tr th {\n",
       "        vertical-align: top;\n",
       "    }\n",
       "\n",
       "    .dataframe thead th {\n",
       "        text-align: right;\n",
       "    }\n",
       "</style>\n",
       "<table border=\"1\" class=\"dataframe\">\n",
       "  <thead>\n",
       "    <tr style=\"text-align: right;\">\n",
       "      <th></th>\n",
       "      <th>one</th>\n",
       "      <th>two</th>\n",
       "      <th>three</th>\n",
       "      <th>four</th>\n",
       "    </tr>\n",
       "  </thead>\n",
       "  <tbody>\n",
       "    <tr>\n",
       "      <th>Utah</th>\n",
       "      <td>8</td>\n",
       "      <td>9</td>\n",
       "      <td>10</td>\n",
       "      <td>11</td>\n",
       "    </tr>\n",
       "    <tr>\n",
       "      <th>New York</th>\n",
       "      <td>12</td>\n",
       "      <td>13</td>\n",
       "      <td>14</td>\n",
       "      <td>15</td>\n",
       "    </tr>\n",
       "  </tbody>\n",
       "</table>\n",
       "</div>"
      ],
      "text/plain": [
       "          one  two  three  four\n",
       "Utah        8    9     10    11\n",
       "New York   12   13     14    15"
      ]
     },
     "execution_count": 73,
     "metadata": {},
     "output_type": "execute_result"
    }
   ],
   "source": [
    "#boolean arrays work only with loc not iloc\n",
    "data.loc[data.one > 0]"
   ]
  },
  {
   "cell_type": "code",
   "execution_count": 74,
   "id": "68aaf4f9-3248-4b9d-a086-0edd25d6fa56",
   "metadata": {},
   "outputs": [
    {
     "data": {
      "text/html": [
       "<div>\n",
       "<style scoped>\n",
       "    .dataframe tbody tr th:only-of-type {\n",
       "        vertical-align: middle;\n",
       "    }\n",
       "\n",
       "    .dataframe tbody tr th {\n",
       "        vertical-align: top;\n",
       "    }\n",
       "\n",
       "    .dataframe thead th {\n",
       "        text-align: right;\n",
       "    }\n",
       "</style>\n",
       "<table border=\"1\" class=\"dataframe\">\n",
       "  <thead>\n",
       "    <tr style=\"text-align: right;\">\n",
       "      <th></th>\n",
       "      <th>0</th>\n",
       "      <th>1</th>\n",
       "      <th>2</th>\n",
       "      <th>3</th>\n",
       "      <th>4</th>\n",
       "      <th>5</th>\n",
       "      <th>6</th>\n",
       "      <th>7</th>\n",
       "      <th>8</th>\n",
       "      <th>9</th>\n",
       "    </tr>\n",
       "  </thead>\n",
       "  <tbody>\n",
       "    <tr>\n",
       "      <th>0</th>\n",
       "      <td>0.414377</td>\n",
       "      <td>0.555749</td>\n",
       "      <td>0.748522</td>\n",
       "      <td>0.884688</td>\n",
       "      <td>0.830449</td>\n",
       "      <td>0.901752</td>\n",
       "      <td>0.365742</td>\n",
       "      <td>0.442807</td>\n",
       "      <td>0.745304</td>\n",
       "      <td>0.961479</td>\n",
       "    </tr>\n",
       "    <tr>\n",
       "      <th>1</th>\n",
       "      <td>0.112700</td>\n",
       "      <td>0.933878</td>\n",
       "      <td>0.793611</td>\n",
       "      <td>0.660924</td>\n",
       "      <td>0.916428</td>\n",
       "      <td>0.340284</td>\n",
       "      <td>0.125017</td>\n",
       "      <td>0.100929</td>\n",
       "      <td>0.672417</td>\n",
       "      <td>0.814755</td>\n",
       "    </tr>\n",
       "    <tr>\n",
       "      <th>2</th>\n",
       "      <td>0.838191</td>\n",
       "      <td>0.095266</td>\n",
       "      <td>0.406325</td>\n",
       "      <td>0.907652</td>\n",
       "      <td>0.316747</td>\n",
       "      <td>0.030372</td>\n",
       "      <td>0.073815</td>\n",
       "      <td>0.107944</td>\n",
       "      <td>0.624129</td>\n",
       "      <td>0.996248</td>\n",
       "    </tr>\n",
       "    <tr>\n",
       "      <th>3</th>\n",
       "      <td>0.030878</td>\n",
       "      <td>0.589898</td>\n",
       "      <td>0.273993</td>\n",
       "      <td>0.896262</td>\n",
       "      <td>0.619521</td>\n",
       "      <td>0.599462</td>\n",
       "      <td>0.450595</td>\n",
       "      <td>0.770240</td>\n",
       "      <td>0.959331</td>\n",
       "      <td>0.291015</td>\n",
       "    </tr>\n",
       "    <tr>\n",
       "      <th>4</th>\n",
       "      <td>0.128559</td>\n",
       "      <td>0.415480</td>\n",
       "      <td>0.946269</td>\n",
       "      <td>0.521383</td>\n",
       "      <td>0.930401</td>\n",
       "      <td>0.012278</td>\n",
       "      <td>0.493302</td>\n",
       "      <td>0.681141</td>\n",
       "      <td>0.993159</td>\n",
       "      <td>0.818061</td>\n",
       "    </tr>\n",
       "    <tr>\n",
       "      <th>...</th>\n",
       "      <td>...</td>\n",
       "      <td>...</td>\n",
       "      <td>...</td>\n",
       "      <td>...</td>\n",
       "      <td>...</td>\n",
       "      <td>...</td>\n",
       "      <td>...</td>\n",
       "      <td>...</td>\n",
       "      <td>...</td>\n",
       "      <td>...</td>\n",
       "    </tr>\n",
       "    <tr>\n",
       "      <th>95</th>\n",
       "      <td>0.900390</td>\n",
       "      <td>0.245188</td>\n",
       "      <td>0.592092</td>\n",
       "      <td>0.215989</td>\n",
       "      <td>0.352397</td>\n",
       "      <td>0.991765</td>\n",
       "      <td>0.230160</td>\n",
       "      <td>0.443585</td>\n",
       "      <td>0.445864</td>\n",
       "      <td>0.797837</td>\n",
       "    </tr>\n",
       "    <tr>\n",
       "      <th>96</th>\n",
       "      <td>0.578240</td>\n",
       "      <td>0.007426</td>\n",
       "      <td>0.588635</td>\n",
       "      <td>0.470837</td>\n",
       "      <td>0.173583</td>\n",
       "      <td>0.793422</td>\n",
       "      <td>0.135719</td>\n",
       "      <td>0.549531</td>\n",
       "      <td>0.246505</td>\n",
       "      <td>0.521871</td>\n",
       "    </tr>\n",
       "    <tr>\n",
       "      <th>97</th>\n",
       "      <td>0.822159</td>\n",
       "      <td>0.336903</td>\n",
       "      <td>0.351078</td>\n",
       "      <td>0.463786</td>\n",
       "      <td>0.347371</td>\n",
       "      <td>0.138300</td>\n",
       "      <td>0.881411</td>\n",
       "      <td>0.474775</td>\n",
       "      <td>0.436305</td>\n",
       "      <td>0.131774</td>\n",
       "    </tr>\n",
       "    <tr>\n",
       "      <th>98</th>\n",
       "      <td>0.340632</td>\n",
       "      <td>0.774625</td>\n",
       "      <td>0.343953</td>\n",
       "      <td>0.950158</td>\n",
       "      <td>0.296042</td>\n",
       "      <td>0.652944</td>\n",
       "      <td>0.082281</td>\n",
       "      <td>0.534841</td>\n",
       "      <td>0.838607</td>\n",
       "      <td>0.533761</td>\n",
       "    </tr>\n",
       "    <tr>\n",
       "      <th>99</th>\n",
       "      <td>0.188993</td>\n",
       "      <td>0.456355</td>\n",
       "      <td>0.833043</td>\n",
       "      <td>0.916346</td>\n",
       "      <td>0.987708</td>\n",
       "      <td>0.846080</td>\n",
       "      <td>0.073611</td>\n",
       "      <td>0.403483</td>\n",
       "      <td>0.822363</td>\n",
       "      <td>0.292710</td>\n",
       "    </tr>\n",
       "  </tbody>\n",
       "</table>\n",
       "<p>100 rows × 10 columns</p>\n",
       "</div>"
      ],
      "text/plain": [
       "           0         1         2         3         4         5         6  \\\n",
       "0   0.414377  0.555749  0.748522  0.884688  0.830449  0.901752  0.365742   \n",
       "1   0.112700  0.933878  0.793611  0.660924  0.916428  0.340284  0.125017   \n",
       "2   0.838191  0.095266  0.406325  0.907652  0.316747  0.030372  0.073815   \n",
       "3   0.030878  0.589898  0.273993  0.896262  0.619521  0.599462  0.450595   \n",
       "4   0.128559  0.415480  0.946269  0.521383  0.930401  0.012278  0.493302   \n",
       "..       ...       ...       ...       ...       ...       ...       ...   \n",
       "95  0.900390  0.245188  0.592092  0.215989  0.352397  0.991765  0.230160   \n",
       "96  0.578240  0.007426  0.588635  0.470837  0.173583  0.793422  0.135719   \n",
       "97  0.822159  0.336903  0.351078  0.463786  0.347371  0.138300  0.881411   \n",
       "98  0.340632  0.774625  0.343953  0.950158  0.296042  0.652944  0.082281   \n",
       "99  0.188993  0.456355  0.833043  0.916346  0.987708  0.846080  0.073611   \n",
       "\n",
       "           7         8         9  \n",
       "0   0.442807  0.745304  0.961479  \n",
       "1   0.100929  0.672417  0.814755  \n",
       "2   0.107944  0.624129  0.996248  \n",
       "3   0.770240  0.959331  0.291015  \n",
       "4   0.681141  0.993159  0.818061  \n",
       "..       ...       ...       ...  \n",
       "95  0.443585  0.445864  0.797837  \n",
       "96  0.549531  0.246505  0.521871  \n",
       "97  0.474775  0.436305  0.131774  \n",
       "98  0.534841  0.838607  0.533761  \n",
       "99  0.403483  0.822363  0.292710  \n",
       "\n",
       "[100 rows x 10 columns]"
      ]
     },
     "execution_count": 74,
     "metadata": {},
     "output_type": "execute_result"
    }
   ],
   "source": [
    "#indexing options:\n",
    "#1) df[column]\n",
    "new_df = pd.DataFrame(np.random.rand(1000).reshape((100, 10)))\n",
    "new_df"
   ]
  },
  {
   "cell_type": "code",
   "execution_count": 75,
   "id": "5f5fcd3c-2bd3-4d78-a12e-d7cd30ba069d",
   "metadata": {},
   "outputs": [],
   "source": [
    "#indexing options sample indexes\n",
    "states_index = pd.Index(['New Jersey', 'New Mexico', 'Mississippi', 'Hawaii', 'Wyoming', 'Iowa',\n",
    "       'Virginia', 'Arkansas', 'Alaska', 'Florida', 'Idaho', 'Iowa',\n",
    "       'Colorado', 'Oregon', 'Wyoming', 'Washington', 'Oregon', 'Connecticut',\n",
    "       'Nevada', 'Massachusetts', 'Arkansas', 'Arkansas', 'Vermont',\n",
    "       'New Hampshire', 'Colorado', 'Iowa', 'Maine', 'Utah', 'Kentucky',\n",
    "       'Alabama', 'Missouri', 'Connecticut', 'Ohio', 'Tennessee', 'Oregon',\n",
    "       'Colorado', 'Kansas', 'Alabama', 'New Hampshire', 'Arkansas', 'Idaho',\n",
    "       'Montana', 'South Carolina', 'Nebraska', 'Rhode Island', 'Tennessee',\n",
    "       'Alaska', 'Louisiana', 'Utah', 'Oregon', 'Idaho', 'Virginia',\n",
    "       'Louisiana', 'Colorado', 'Oregon', 'Massachusetts', 'North Carolina',\n",
    "       'South Dakota', 'Alabama', 'Rhode Island', 'Oregon', 'Utah', 'Alaska',\n",
    "       'Alabama', 'New Mexico', 'New York', 'Illinois', 'Idaho', 'Connecticut',\n",
    "       'Nebraska', 'Nebraska', 'Arkansas', 'North Carolina', 'West Virginia',\n",
    "       'Arkansas', 'Texas', 'Maine', 'Maryland', 'Virginia', 'Nebraska',\n",
    "       'North Carolina', 'Wyoming', 'Iowa', 'Connecticut', 'Arizona',\n",
    "       'Arizona', 'Tennessee', 'Alabama', 'Nebraska', 'Oklahoma', 'Arizona',\n",
    "       'Rhode Island', 'Florida', 'Montana', 'Vermont', 'Minnesota',\n",
    "       'Kentucky', 'Arizona', 'Rhode Island', 'Texas'])\n",
    "columnNames = pd.Index(['get', 'only', 'chair', 'physical', 'late', 'TV', 'body', 'meeting',\n",
    "       'present', 'left'])"
   ]
  },
  {
   "cell_type": "code",
   "execution_count": 76,
   "id": "8b0d29af-f6a8-43b2-b1ce-d7a4aec08777",
   "metadata": {},
   "outputs": [
    {
     "data": {
      "text/html": [
       "<div>\n",
       "<style scoped>\n",
       "    .dataframe tbody tr th:only-of-type {\n",
       "        vertical-align: middle;\n",
       "    }\n",
       "\n",
       "    .dataframe tbody tr th {\n",
       "        vertical-align: top;\n",
       "    }\n",
       "\n",
       "    .dataframe thead th {\n",
       "        text-align: right;\n",
       "    }\n",
       "</style>\n",
       "<table border=\"1\" class=\"dataframe\">\n",
       "  <thead>\n",
       "    <tr style=\"text-align: right;\">\n",
       "      <th></th>\n",
       "      <th>0</th>\n",
       "      <th>1</th>\n",
       "      <th>2</th>\n",
       "      <th>3</th>\n",
       "      <th>4</th>\n",
       "      <th>5</th>\n",
       "      <th>6</th>\n",
       "      <th>7</th>\n",
       "      <th>8</th>\n",
       "      <th>9</th>\n",
       "    </tr>\n",
       "  </thead>\n",
       "  <tbody>\n",
       "    <tr>\n",
       "      <th>New Jersey</th>\n",
       "      <td>0.745053</td>\n",
       "      <td>0.529789</td>\n",
       "      <td>0.577715</td>\n",
       "      <td>0.133979</td>\n",
       "      <td>0.960705</td>\n",
       "      <td>0.158220</td>\n",
       "      <td>0.281996</td>\n",
       "      <td>0.964000</td>\n",
       "      <td>0.687259</td>\n",
       "      <td>0.871455</td>\n",
       "    </tr>\n",
       "    <tr>\n",
       "      <th>New Mexico</th>\n",
       "      <td>0.079040</td>\n",
       "      <td>0.872473</td>\n",
       "      <td>0.873590</td>\n",
       "      <td>0.909516</td>\n",
       "      <td>0.153908</td>\n",
       "      <td>0.423759</td>\n",
       "      <td>0.882077</td>\n",
       "      <td>0.336050</td>\n",
       "      <td>0.835434</td>\n",
       "      <td>0.228035</td>\n",
       "    </tr>\n",
       "    <tr>\n",
       "      <th>Mississippi</th>\n",
       "      <td>0.042239</td>\n",
       "      <td>0.332183</td>\n",
       "      <td>0.569570</td>\n",
       "      <td>0.899459</td>\n",
       "      <td>0.140887</td>\n",
       "      <td>0.508817</td>\n",
       "      <td>0.758790</td>\n",
       "      <td>0.470820</td>\n",
       "      <td>0.680529</td>\n",
       "      <td>0.006299</td>\n",
       "    </tr>\n",
       "    <tr>\n",
       "      <th>Hawaii</th>\n",
       "      <td>0.507256</td>\n",
       "      <td>0.875886</td>\n",
       "      <td>0.437920</td>\n",
       "      <td>0.344463</td>\n",
       "      <td>0.860147</td>\n",
       "      <td>0.281550</td>\n",
       "      <td>0.679554</td>\n",
       "      <td>0.241648</td>\n",
       "      <td>0.061419</td>\n",
       "      <td>0.144373</td>\n",
       "    </tr>\n",
       "    <tr>\n",
       "      <th>Wyoming</th>\n",
       "      <td>0.428548</td>\n",
       "      <td>0.130548</td>\n",
       "      <td>0.076651</td>\n",
       "      <td>0.089080</td>\n",
       "      <td>0.146424</td>\n",
       "      <td>0.344921</td>\n",
       "      <td>0.415549</td>\n",
       "      <td>0.674101</td>\n",
       "      <td>0.153288</td>\n",
       "      <td>0.592536</td>\n",
       "    </tr>\n",
       "    <tr>\n",
       "      <th>...</th>\n",
       "      <td>...</td>\n",
       "      <td>...</td>\n",
       "      <td>...</td>\n",
       "      <td>...</td>\n",
       "      <td>...</td>\n",
       "      <td>...</td>\n",
       "      <td>...</td>\n",
       "      <td>...</td>\n",
       "      <td>...</td>\n",
       "      <td>...</td>\n",
       "    </tr>\n",
       "    <tr>\n",
       "      <th>Minnesota</th>\n",
       "      <td>0.293082</td>\n",
       "      <td>0.788467</td>\n",
       "      <td>0.696858</td>\n",
       "      <td>0.184817</td>\n",
       "      <td>0.325530</td>\n",
       "      <td>0.226822</td>\n",
       "      <td>0.575910</td>\n",
       "      <td>0.351695</td>\n",
       "      <td>0.219618</td>\n",
       "      <td>0.841995</td>\n",
       "    </tr>\n",
       "    <tr>\n",
       "      <th>Kentucky</th>\n",
       "      <td>0.717538</td>\n",
       "      <td>0.836942</td>\n",
       "      <td>0.208035</td>\n",
       "      <td>0.047558</td>\n",
       "      <td>0.283102</td>\n",
       "      <td>0.197055</td>\n",
       "      <td>0.633819</td>\n",
       "      <td>0.353203</td>\n",
       "      <td>0.510266</td>\n",
       "      <td>0.111651</td>\n",
       "    </tr>\n",
       "    <tr>\n",
       "      <th>Arizona</th>\n",
       "      <td>0.165405</td>\n",
       "      <td>0.314710</td>\n",
       "      <td>0.362327</td>\n",
       "      <td>0.361745</td>\n",
       "      <td>0.211486</td>\n",
       "      <td>0.161434</td>\n",
       "      <td>0.415447</td>\n",
       "      <td>0.628322</td>\n",
       "      <td>0.065317</td>\n",
       "      <td>0.256080</td>\n",
       "    </tr>\n",
       "    <tr>\n",
       "      <th>Rhode Island</th>\n",
       "      <td>0.512781</td>\n",
       "      <td>0.446762</td>\n",
       "      <td>0.155805</td>\n",
       "      <td>0.783507</td>\n",
       "      <td>0.563850</td>\n",
       "      <td>0.846113</td>\n",
       "      <td>0.487403</td>\n",
       "      <td>0.667495</td>\n",
       "      <td>0.236400</td>\n",
       "      <td>0.109537</td>\n",
       "    </tr>\n",
       "    <tr>\n",
       "      <th>Texas</th>\n",
       "      <td>0.327952</td>\n",
       "      <td>0.882618</td>\n",
       "      <td>0.322434</td>\n",
       "      <td>0.936038</td>\n",
       "      <td>0.349617</td>\n",
       "      <td>0.942422</td>\n",
       "      <td>0.922922</td>\n",
       "      <td>0.308447</td>\n",
       "      <td>0.306929</td>\n",
       "      <td>0.819872</td>\n",
       "    </tr>\n",
       "  </tbody>\n",
       "</table>\n",
       "<p>100 rows × 10 columns</p>\n",
       "</div>"
      ],
      "text/plain": [
       "                     0         1         2         3         4         5  \\\n",
       "New Jersey    0.745053  0.529789  0.577715  0.133979  0.960705  0.158220   \n",
       "New Mexico    0.079040  0.872473  0.873590  0.909516  0.153908  0.423759   \n",
       "Mississippi   0.042239  0.332183  0.569570  0.899459  0.140887  0.508817   \n",
       "Hawaii        0.507256  0.875886  0.437920  0.344463  0.860147  0.281550   \n",
       "Wyoming       0.428548  0.130548  0.076651  0.089080  0.146424  0.344921   \n",
       "...                ...       ...       ...       ...       ...       ...   \n",
       "Minnesota     0.293082  0.788467  0.696858  0.184817  0.325530  0.226822   \n",
       "Kentucky      0.717538  0.836942  0.208035  0.047558  0.283102  0.197055   \n",
       "Arizona       0.165405  0.314710  0.362327  0.361745  0.211486  0.161434   \n",
       "Rhode Island  0.512781  0.446762  0.155805  0.783507  0.563850  0.846113   \n",
       "Texas         0.327952  0.882618  0.322434  0.936038  0.349617  0.942422   \n",
       "\n",
       "                     6         7         8         9  \n",
       "New Jersey    0.281996  0.964000  0.687259  0.871455  \n",
       "New Mexico    0.882077  0.336050  0.835434  0.228035  \n",
       "Mississippi   0.758790  0.470820  0.680529  0.006299  \n",
       "Hawaii        0.679554  0.241648  0.061419  0.144373  \n",
       "Wyoming       0.415549  0.674101  0.153288  0.592536  \n",
       "...                ...       ...       ...       ...  \n",
       "Minnesota     0.575910  0.351695  0.219618  0.841995  \n",
       "Kentucky      0.633819  0.353203  0.510266  0.111651  \n",
       "Arizona       0.415447  0.628322  0.065317  0.256080  \n",
       "Rhode Island  0.487403  0.667495  0.236400  0.109537  \n",
       "Texas         0.922922  0.308447  0.306929  0.819872  \n",
       "\n",
       "[100 rows x 10 columns]"
      ]
     },
     "execution_count": 76,
     "metadata": {},
     "output_type": "execute_result"
    }
   ],
   "source": [
    "#indexing options:\n",
    "#1) df[column]\n",
    "new_df = pd.DataFrame(np.random.rand(1000).reshape((100, 10)),\n",
    "                     index=states_index)\n",
    "new_df"
   ]
  },
  {
   "cell_type": "code",
   "execution_count": 77,
   "id": "bbeb8e31-9aad-44dd-ab6b-f44c731f2853",
   "metadata": {},
   "outputs": [
    {
     "data": {
      "text/html": [
       "<div>\n",
       "<style scoped>\n",
       "    .dataframe tbody tr th:only-of-type {\n",
       "        vertical-align: middle;\n",
       "    }\n",
       "\n",
       "    .dataframe tbody tr th {\n",
       "        vertical-align: top;\n",
       "    }\n",
       "\n",
       "    .dataframe thead th {\n",
       "        text-align: right;\n",
       "    }\n",
       "</style>\n",
       "<table border=\"1\" class=\"dataframe\">\n",
       "  <thead>\n",
       "    <tr style=\"text-align: right;\">\n",
       "      <th></th>\n",
       "      <th>get</th>\n",
       "      <th>only</th>\n",
       "      <th>chair</th>\n",
       "      <th>physical</th>\n",
       "      <th>late</th>\n",
       "      <th>TV</th>\n",
       "      <th>body</th>\n",
       "      <th>meeting</th>\n",
       "      <th>present</th>\n",
       "      <th>left</th>\n",
       "    </tr>\n",
       "  </thead>\n",
       "  <tbody>\n",
       "    <tr>\n",
       "      <th>New Jersey</th>\n",
       "      <td>0.339565</td>\n",
       "      <td>0.499765</td>\n",
       "      <td>0.926195</td>\n",
       "      <td>0.735082</td>\n",
       "      <td>0.974739</td>\n",
       "      <td>0.607088</td>\n",
       "      <td>0.903145</td>\n",
       "      <td>0.107577</td>\n",
       "      <td>0.579743</td>\n",
       "      <td>0.262691</td>\n",
       "    </tr>\n",
       "    <tr>\n",
       "      <th>New Mexico</th>\n",
       "      <td>0.758118</td>\n",
       "      <td>0.634514</td>\n",
       "      <td>0.448062</td>\n",
       "      <td>0.762712</td>\n",
       "      <td>0.588183</td>\n",
       "      <td>0.998799</td>\n",
       "      <td>0.774013</td>\n",
       "      <td>0.461178</td>\n",
       "      <td>0.108110</td>\n",
       "      <td>0.545073</td>\n",
       "    </tr>\n",
       "    <tr>\n",
       "      <th>Mississippi</th>\n",
       "      <td>0.679022</td>\n",
       "      <td>0.204745</td>\n",
       "      <td>0.354847</td>\n",
       "      <td>0.700278</td>\n",
       "      <td>0.466422</td>\n",
       "      <td>0.742710</td>\n",
       "      <td>0.312107</td>\n",
       "      <td>0.023848</td>\n",
       "      <td>0.564242</td>\n",
       "      <td>0.297306</td>\n",
       "    </tr>\n",
       "    <tr>\n",
       "      <th>Hawaii</th>\n",
       "      <td>0.636110</td>\n",
       "      <td>0.738194</td>\n",
       "      <td>0.392923</td>\n",
       "      <td>0.789221</td>\n",
       "      <td>0.105264</td>\n",
       "      <td>0.793427</td>\n",
       "      <td>0.647479</td>\n",
       "      <td>0.183210</td>\n",
       "      <td>0.094148</td>\n",
       "      <td>0.218792</td>\n",
       "    </tr>\n",
       "    <tr>\n",
       "      <th>Wyoming</th>\n",
       "      <td>0.897273</td>\n",
       "      <td>0.711441</td>\n",
       "      <td>0.642518</td>\n",
       "      <td>0.733755</td>\n",
       "      <td>0.129529</td>\n",
       "      <td>0.995305</td>\n",
       "      <td>0.780974</td>\n",
       "      <td>0.441416</td>\n",
       "      <td>0.698702</td>\n",
       "      <td>0.133675</td>\n",
       "    </tr>\n",
       "    <tr>\n",
       "      <th>...</th>\n",
       "      <td>...</td>\n",
       "      <td>...</td>\n",
       "      <td>...</td>\n",
       "      <td>...</td>\n",
       "      <td>...</td>\n",
       "      <td>...</td>\n",
       "      <td>...</td>\n",
       "      <td>...</td>\n",
       "      <td>...</td>\n",
       "      <td>...</td>\n",
       "    </tr>\n",
       "    <tr>\n",
       "      <th>Minnesota</th>\n",
       "      <td>0.732109</td>\n",
       "      <td>0.818258</td>\n",
       "      <td>0.932185</td>\n",
       "      <td>0.842470</td>\n",
       "      <td>0.073675</td>\n",
       "      <td>0.743180</td>\n",
       "      <td>0.126933</td>\n",
       "      <td>0.612257</td>\n",
       "      <td>0.267782</td>\n",
       "      <td>0.936029</td>\n",
       "    </tr>\n",
       "    <tr>\n",
       "      <th>Kentucky</th>\n",
       "      <td>0.865005</td>\n",
       "      <td>0.582337</td>\n",
       "      <td>0.464105</td>\n",
       "      <td>0.561105</td>\n",
       "      <td>0.726414</td>\n",
       "      <td>0.591874</td>\n",
       "      <td>0.587980</td>\n",
       "      <td>0.457044</td>\n",
       "      <td>0.671201</td>\n",
       "      <td>0.948019</td>\n",
       "    </tr>\n",
       "    <tr>\n",
       "      <th>Arizona</th>\n",
       "      <td>0.404710</td>\n",
       "      <td>0.434271</td>\n",
       "      <td>0.658362</td>\n",
       "      <td>0.114221</td>\n",
       "      <td>0.859926</td>\n",
       "      <td>0.499117</td>\n",
       "      <td>0.506861</td>\n",
       "      <td>0.897447</td>\n",
       "      <td>0.356258</td>\n",
       "      <td>0.877340</td>\n",
       "    </tr>\n",
       "    <tr>\n",
       "      <th>Rhode Island</th>\n",
       "      <td>0.370934</td>\n",
       "      <td>0.445707</td>\n",
       "      <td>0.292811</td>\n",
       "      <td>0.848313</td>\n",
       "      <td>0.571564</td>\n",
       "      <td>0.311003</td>\n",
       "      <td>0.206431</td>\n",
       "      <td>0.030653</td>\n",
       "      <td>0.736060</td>\n",
       "      <td>0.979797</td>\n",
       "    </tr>\n",
       "    <tr>\n",
       "      <th>Texas</th>\n",
       "      <td>0.924306</td>\n",
       "      <td>0.136377</td>\n",
       "      <td>0.646371</td>\n",
       "      <td>0.484407</td>\n",
       "      <td>0.948774</td>\n",
       "      <td>0.168397</td>\n",
       "      <td>0.270735</td>\n",
       "      <td>0.668436</td>\n",
       "      <td>0.319769</td>\n",
       "      <td>0.480054</td>\n",
       "    </tr>\n",
       "  </tbody>\n",
       "</table>\n",
       "<p>100 rows × 10 columns</p>\n",
       "</div>"
      ],
      "text/plain": [
       "                   get      only     chair  physical      late        TV  \\\n",
       "New Jersey    0.339565  0.499765  0.926195  0.735082  0.974739  0.607088   \n",
       "New Mexico    0.758118  0.634514  0.448062  0.762712  0.588183  0.998799   \n",
       "Mississippi   0.679022  0.204745  0.354847  0.700278  0.466422  0.742710   \n",
       "Hawaii        0.636110  0.738194  0.392923  0.789221  0.105264  0.793427   \n",
       "Wyoming       0.897273  0.711441  0.642518  0.733755  0.129529  0.995305   \n",
       "...                ...       ...       ...       ...       ...       ...   \n",
       "Minnesota     0.732109  0.818258  0.932185  0.842470  0.073675  0.743180   \n",
       "Kentucky      0.865005  0.582337  0.464105  0.561105  0.726414  0.591874   \n",
       "Arizona       0.404710  0.434271  0.658362  0.114221  0.859926  0.499117   \n",
       "Rhode Island  0.370934  0.445707  0.292811  0.848313  0.571564  0.311003   \n",
       "Texas         0.924306  0.136377  0.646371  0.484407  0.948774  0.168397   \n",
       "\n",
       "                  body   meeting   present      left  \n",
       "New Jersey    0.903145  0.107577  0.579743  0.262691  \n",
       "New Mexico    0.774013  0.461178  0.108110  0.545073  \n",
       "Mississippi   0.312107  0.023848  0.564242  0.297306  \n",
       "Hawaii        0.647479  0.183210  0.094148  0.218792  \n",
       "Wyoming       0.780974  0.441416  0.698702  0.133675  \n",
       "...                ...       ...       ...       ...  \n",
       "Minnesota     0.126933  0.612257  0.267782  0.936029  \n",
       "Kentucky      0.587980  0.457044  0.671201  0.948019  \n",
       "Arizona       0.506861  0.897447  0.356258  0.877340  \n",
       "Rhode Island  0.206431  0.030653  0.736060  0.979797  \n",
       "Texas         0.270735  0.668436  0.319769  0.480054  \n",
       "\n",
       "[100 rows x 10 columns]"
      ]
     },
     "execution_count": 77,
     "metadata": {},
     "output_type": "execute_result"
    }
   ],
   "source": [
    "#indexing options:\n",
    "#1) df[column]\n",
    "\n",
    "new_df = pd.DataFrame(np.random.rand(1000).reshape((100, 10)),\n",
    "                     index=states_index,\n",
    "                     columns=columnNames)\n",
    "new_df"
   ]
  },
  {
   "cell_type": "code",
   "execution_count": 78,
   "id": "d956704f-bf4f-4bd4-8bcb-fe830b5f7ec5",
   "metadata": {},
   "outputs": [
    {
     "data": {
      "text/html": [
       "<div>\n",
       "<style scoped>\n",
       "    .dataframe tbody tr th:only-of-type {\n",
       "        vertical-align: middle;\n",
       "    }\n",
       "\n",
       "    .dataframe tbody tr th {\n",
       "        vertical-align: top;\n",
       "    }\n",
       "\n",
       "    .dataframe thead th {\n",
       "        text-align: right;\n",
       "    }\n",
       "</style>\n",
       "<table border=\"1\" class=\"dataframe\">\n",
       "  <thead>\n",
       "    <tr style=\"text-align: right;\">\n",
       "      <th></th>\n",
       "      <th>TV</th>\n",
       "      <th>body</th>\n",
       "      <th>chair</th>\n",
       "      <th>get</th>\n",
       "      <th>late</th>\n",
       "      <th>left</th>\n",
       "      <th>meeting</th>\n",
       "      <th>only</th>\n",
       "      <th>physical</th>\n",
       "      <th>present</th>\n",
       "    </tr>\n",
       "  </thead>\n",
       "  <tbody>\n",
       "    <tr>\n",
       "      <th>New Jersey</th>\n",
       "      <td>0.041895</td>\n",
       "      <td>0.732314</td>\n",
       "      <td>0.991752</td>\n",
       "      <td>0.339223</td>\n",
       "      <td>0.089463</td>\n",
       "      <td>0.070682</td>\n",
       "      <td>0.392083</td>\n",
       "      <td>0.236549</td>\n",
       "      <td>0.043386</td>\n",
       "      <td>0.545052</td>\n",
       "    </tr>\n",
       "    <tr>\n",
       "      <th>New Mexico</th>\n",
       "      <td>0.438871</td>\n",
       "      <td>0.437597</td>\n",
       "      <td>0.511570</td>\n",
       "      <td>0.064989</td>\n",
       "      <td>0.782460</td>\n",
       "      <td>0.455824</td>\n",
       "      <td>0.458617</td>\n",
       "      <td>0.011366</td>\n",
       "      <td>0.477877</td>\n",
       "      <td>0.310156</td>\n",
       "    </tr>\n",
       "    <tr>\n",
       "      <th>Mississippi</th>\n",
       "      <td>0.481227</td>\n",
       "      <td>0.207586</td>\n",
       "      <td>0.382694</td>\n",
       "      <td>0.264330</td>\n",
       "      <td>0.958557</td>\n",
       "      <td>0.371627</td>\n",
       "      <td>0.847110</td>\n",
       "      <td>0.705405</td>\n",
       "      <td>0.281249</td>\n",
       "      <td>0.935774</td>\n",
       "    </tr>\n",
       "    <tr>\n",
       "      <th>Hawaii</th>\n",
       "      <td>0.858755</td>\n",
       "      <td>0.562991</td>\n",
       "      <td>0.855853</td>\n",
       "      <td>0.378321</td>\n",
       "      <td>0.665382</td>\n",
       "      <td>0.846548</td>\n",
       "      <td>0.552291</td>\n",
       "      <td>0.000860</td>\n",
       "      <td>0.093033</td>\n",
       "      <td>0.674770</td>\n",
       "    </tr>\n",
       "    <tr>\n",
       "      <th>Wyoming</th>\n",
       "      <td>0.341842</td>\n",
       "      <td>0.945804</td>\n",
       "      <td>0.671552</td>\n",
       "      <td>0.403087</td>\n",
       "      <td>0.732717</td>\n",
       "      <td>0.043786</td>\n",
       "      <td>0.991814</td>\n",
       "      <td>0.769777</td>\n",
       "      <td>0.969271</td>\n",
       "      <td>0.441960</td>\n",
       "    </tr>\n",
       "    <tr>\n",
       "      <th>...</th>\n",
       "      <td>...</td>\n",
       "      <td>...</td>\n",
       "      <td>...</td>\n",
       "      <td>...</td>\n",
       "      <td>...</td>\n",
       "      <td>...</td>\n",
       "      <td>...</td>\n",
       "      <td>...</td>\n",
       "      <td>...</td>\n",
       "      <td>...</td>\n",
       "    </tr>\n",
       "    <tr>\n",
       "      <th>Minnesota</th>\n",
       "      <td>0.974630</td>\n",
       "      <td>0.523065</td>\n",
       "      <td>0.596628</td>\n",
       "      <td>0.685359</td>\n",
       "      <td>0.187991</td>\n",
       "      <td>0.289683</td>\n",
       "      <td>0.399357</td>\n",
       "      <td>0.925600</td>\n",
       "      <td>0.451889</td>\n",
       "      <td>0.638746</td>\n",
       "    </tr>\n",
       "    <tr>\n",
       "      <th>Kentucky</th>\n",
       "      <td>0.624921</td>\n",
       "      <td>0.252234</td>\n",
       "      <td>0.993722</td>\n",
       "      <td>0.412090</td>\n",
       "      <td>0.185371</td>\n",
       "      <td>0.173664</td>\n",
       "      <td>0.714215</td>\n",
       "      <td>0.942167</td>\n",
       "      <td>0.882256</td>\n",
       "      <td>0.470535</td>\n",
       "    </tr>\n",
       "    <tr>\n",
       "      <th>Arizona</th>\n",
       "      <td>0.054764</td>\n",
       "      <td>0.348575</td>\n",
       "      <td>0.242528</td>\n",
       "      <td>0.826082</td>\n",
       "      <td>0.623486</td>\n",
       "      <td>0.720443</td>\n",
       "      <td>0.686582</td>\n",
       "      <td>0.481026</td>\n",
       "      <td>0.478267</td>\n",
       "      <td>0.217659</td>\n",
       "    </tr>\n",
       "    <tr>\n",
       "      <th>Rhode Island</th>\n",
       "      <td>0.464843</td>\n",
       "      <td>0.131868</td>\n",
       "      <td>0.837024</td>\n",
       "      <td>0.795805</td>\n",
       "      <td>0.810176</td>\n",
       "      <td>0.607680</td>\n",
       "      <td>0.837716</td>\n",
       "      <td>0.241980</td>\n",
       "      <td>0.237042</td>\n",
       "      <td>0.356058</td>\n",
       "    </tr>\n",
       "    <tr>\n",
       "      <th>Texas</th>\n",
       "      <td>0.260381</td>\n",
       "      <td>0.666855</td>\n",
       "      <td>0.273260</td>\n",
       "      <td>0.454632</td>\n",
       "      <td>0.498072</td>\n",
       "      <td>0.385046</td>\n",
       "      <td>0.843113</td>\n",
       "      <td>0.544460</td>\n",
       "      <td>0.993134</td>\n",
       "      <td>0.974327</td>\n",
       "    </tr>\n",
       "  </tbody>\n",
       "</table>\n",
       "<p>100 rows × 10 columns</p>\n",
       "</div>"
      ],
      "text/plain": [
       "                    TV      body     chair       get      late      left  \\\n",
       "New Jersey    0.041895  0.732314  0.991752  0.339223  0.089463  0.070682   \n",
       "New Mexico    0.438871  0.437597  0.511570  0.064989  0.782460  0.455824   \n",
       "Mississippi   0.481227  0.207586  0.382694  0.264330  0.958557  0.371627   \n",
       "Hawaii        0.858755  0.562991  0.855853  0.378321  0.665382  0.846548   \n",
       "Wyoming       0.341842  0.945804  0.671552  0.403087  0.732717  0.043786   \n",
       "...                ...       ...       ...       ...       ...       ...   \n",
       "Minnesota     0.974630  0.523065  0.596628  0.685359  0.187991  0.289683   \n",
       "Kentucky      0.624921  0.252234  0.993722  0.412090  0.185371  0.173664   \n",
       "Arizona       0.054764  0.348575  0.242528  0.826082  0.623486  0.720443   \n",
       "Rhode Island  0.464843  0.131868  0.837024  0.795805  0.810176  0.607680   \n",
       "Texas         0.260381  0.666855  0.273260  0.454632  0.498072  0.385046   \n",
       "\n",
       "               meeting      only  physical   present  \n",
       "New Jersey    0.392083  0.236549  0.043386  0.545052  \n",
       "New Mexico    0.458617  0.011366  0.477877  0.310156  \n",
       "Mississippi   0.847110  0.705405  0.281249  0.935774  \n",
       "Hawaii        0.552291  0.000860  0.093033  0.674770  \n",
       "Wyoming       0.991814  0.769777  0.969271  0.441960  \n",
       "...                ...       ...       ...       ...  \n",
       "Minnesota     0.399357  0.925600  0.451889  0.638746  \n",
       "Kentucky      0.714215  0.942167  0.882256  0.470535  \n",
       "Arizona       0.686582  0.481026  0.478267  0.217659  \n",
       "Rhode Island  0.837716  0.241980  0.237042  0.356058  \n",
       "Texas         0.843113  0.544460  0.993134  0.974327  \n",
       "\n",
       "[100 rows x 10 columns]"
      ]
     },
     "execution_count": 78,
     "metadata": {},
     "output_type": "execute_result"
    }
   ],
   "source": [
    "#indexing options:\n",
    "#1) df[column]\n",
    "new_df = pd.DataFrame(np.random.rand(1000).reshape((100, 10)),\n",
    "                     index=states_index,\n",
    "                     columns=columnNames)\n",
    "new_df.reindex(sorted(columnNames), axis=1)"
   ]
  },
  {
   "cell_type": "code",
   "execution_count": 79,
   "id": "ce20c476-6ce6-4c80-9382-f2070839adce",
   "metadata": {},
   "outputs": [
    {
     "data": {
      "text/html": [
       "<div>\n",
       "<style scoped>\n",
       "    .dataframe tbody tr th:only-of-type {\n",
       "        vertical-align: middle;\n",
       "    }\n",
       "\n",
       "    .dataframe tbody tr th {\n",
       "        vertical-align: top;\n",
       "    }\n",
       "\n",
       "    .dataframe thead th {\n",
       "        text-align: right;\n",
       "    }\n",
       "</style>\n",
       "<table border=\"1\" class=\"dataframe\">\n",
       "  <thead>\n",
       "    <tr style=\"text-align: right;\">\n",
       "      <th></th>\n",
       "      <th>TV</th>\n",
       "      <th>body</th>\n",
       "      <th>chair</th>\n",
       "      <th>get</th>\n",
       "      <th>late</th>\n",
       "      <th>left</th>\n",
       "      <th>meeting</th>\n",
       "      <th>only</th>\n",
       "      <th>physical</th>\n",
       "      <th>present</th>\n",
       "    </tr>\n",
       "  </thead>\n",
       "  <tbody>\n",
       "    <tr>\n",
       "      <th>New Jersey</th>\n",
       "      <td>0.041895</td>\n",
       "      <td>0.732314</td>\n",
       "      <td>0.991752</td>\n",
       "      <td>0.339223</td>\n",
       "      <td>0.089463</td>\n",
       "      <td>0.070682</td>\n",
       "      <td>0.392083</td>\n",
       "      <td>0.236549</td>\n",
       "      <td>0.043386</td>\n",
       "      <td>0.545052</td>\n",
       "    </tr>\n",
       "    <tr>\n",
       "      <th>New Mexico</th>\n",
       "      <td>0.438871</td>\n",
       "      <td>0.437597</td>\n",
       "      <td>0.511570</td>\n",
       "      <td>0.064989</td>\n",
       "      <td>0.782460</td>\n",
       "      <td>0.455824</td>\n",
       "      <td>0.458617</td>\n",
       "      <td>0.011366</td>\n",
       "      <td>0.477877</td>\n",
       "      <td>0.310156</td>\n",
       "    </tr>\n",
       "    <tr>\n",
       "      <th>Mississippi</th>\n",
       "      <td>0.481227</td>\n",
       "      <td>0.207586</td>\n",
       "      <td>0.382694</td>\n",
       "      <td>0.264330</td>\n",
       "      <td>0.958557</td>\n",
       "      <td>0.371627</td>\n",
       "      <td>0.847110</td>\n",
       "      <td>0.705405</td>\n",
       "      <td>0.281249</td>\n",
       "      <td>0.935774</td>\n",
       "    </tr>\n",
       "    <tr>\n",
       "      <th>Hawaii</th>\n",
       "      <td>0.858755</td>\n",
       "      <td>0.562991</td>\n",
       "      <td>0.855853</td>\n",
       "      <td>0.378321</td>\n",
       "      <td>0.665382</td>\n",
       "      <td>0.846548</td>\n",
       "      <td>0.552291</td>\n",
       "      <td>0.000860</td>\n",
       "      <td>0.093033</td>\n",
       "      <td>0.674770</td>\n",
       "    </tr>\n",
       "    <tr>\n",
       "      <th>Wyoming</th>\n",
       "      <td>0.341842</td>\n",
       "      <td>0.945804</td>\n",
       "      <td>0.671552</td>\n",
       "      <td>0.403087</td>\n",
       "      <td>0.732717</td>\n",
       "      <td>0.043786</td>\n",
       "      <td>0.991814</td>\n",
       "      <td>0.769777</td>\n",
       "      <td>0.969271</td>\n",
       "      <td>0.441960</td>\n",
       "    </tr>\n",
       "    <tr>\n",
       "      <th>...</th>\n",
       "      <td>...</td>\n",
       "      <td>...</td>\n",
       "      <td>...</td>\n",
       "      <td>...</td>\n",
       "      <td>...</td>\n",
       "      <td>...</td>\n",
       "      <td>...</td>\n",
       "      <td>...</td>\n",
       "      <td>...</td>\n",
       "      <td>...</td>\n",
       "    </tr>\n",
       "    <tr>\n",
       "      <th>Minnesota</th>\n",
       "      <td>0.974630</td>\n",
       "      <td>0.523065</td>\n",
       "      <td>0.596628</td>\n",
       "      <td>0.685359</td>\n",
       "      <td>0.187991</td>\n",
       "      <td>0.289683</td>\n",
       "      <td>0.399357</td>\n",
       "      <td>0.925600</td>\n",
       "      <td>0.451889</td>\n",
       "      <td>0.638746</td>\n",
       "    </tr>\n",
       "    <tr>\n",
       "      <th>Kentucky</th>\n",
       "      <td>0.624921</td>\n",
       "      <td>0.252234</td>\n",
       "      <td>0.993722</td>\n",
       "      <td>0.412090</td>\n",
       "      <td>0.185371</td>\n",
       "      <td>0.173664</td>\n",
       "      <td>0.714215</td>\n",
       "      <td>0.942167</td>\n",
       "      <td>0.882256</td>\n",
       "      <td>0.470535</td>\n",
       "    </tr>\n",
       "    <tr>\n",
       "      <th>Arizona</th>\n",
       "      <td>0.054764</td>\n",
       "      <td>0.348575</td>\n",
       "      <td>0.242528</td>\n",
       "      <td>0.826082</td>\n",
       "      <td>0.623486</td>\n",
       "      <td>0.720443</td>\n",
       "      <td>0.686582</td>\n",
       "      <td>0.481026</td>\n",
       "      <td>0.478267</td>\n",
       "      <td>0.217659</td>\n",
       "    </tr>\n",
       "    <tr>\n",
       "      <th>Rhode Island</th>\n",
       "      <td>0.464843</td>\n",
       "      <td>0.131868</td>\n",
       "      <td>0.837024</td>\n",
       "      <td>0.795805</td>\n",
       "      <td>0.810176</td>\n",
       "      <td>0.607680</td>\n",
       "      <td>0.837716</td>\n",
       "      <td>0.241980</td>\n",
       "      <td>0.237042</td>\n",
       "      <td>0.356058</td>\n",
       "    </tr>\n",
       "    <tr>\n",
       "      <th>Texas</th>\n",
       "      <td>0.260381</td>\n",
       "      <td>0.666855</td>\n",
       "      <td>0.273260</td>\n",
       "      <td>0.454632</td>\n",
       "      <td>0.498072</td>\n",
       "      <td>0.385046</td>\n",
       "      <td>0.843113</td>\n",
       "      <td>0.544460</td>\n",
       "      <td>0.993134</td>\n",
       "      <td>0.974327</td>\n",
       "    </tr>\n",
       "  </tbody>\n",
       "</table>\n",
       "<p>100 rows × 10 columns</p>\n",
       "</div>"
      ],
      "text/plain": [
       "                    TV      body     chair       get      late      left  \\\n",
       "New Jersey    0.041895  0.732314  0.991752  0.339223  0.089463  0.070682   \n",
       "New Mexico    0.438871  0.437597  0.511570  0.064989  0.782460  0.455824   \n",
       "Mississippi   0.481227  0.207586  0.382694  0.264330  0.958557  0.371627   \n",
       "Hawaii        0.858755  0.562991  0.855853  0.378321  0.665382  0.846548   \n",
       "Wyoming       0.341842  0.945804  0.671552  0.403087  0.732717  0.043786   \n",
       "...                ...       ...       ...       ...       ...       ...   \n",
       "Minnesota     0.974630  0.523065  0.596628  0.685359  0.187991  0.289683   \n",
       "Kentucky      0.624921  0.252234  0.993722  0.412090  0.185371  0.173664   \n",
       "Arizona       0.054764  0.348575  0.242528  0.826082  0.623486  0.720443   \n",
       "Rhode Island  0.464843  0.131868  0.837024  0.795805  0.810176  0.607680   \n",
       "Texas         0.260381  0.666855  0.273260  0.454632  0.498072  0.385046   \n",
       "\n",
       "               meeting      only  physical   present  \n",
       "New Jersey    0.392083  0.236549  0.043386  0.545052  \n",
       "New Mexico    0.458617  0.011366  0.477877  0.310156  \n",
       "Mississippi   0.847110  0.705405  0.281249  0.935774  \n",
       "Hawaii        0.552291  0.000860  0.093033  0.674770  \n",
       "Wyoming       0.991814  0.769777  0.969271  0.441960  \n",
       "...                ...       ...       ...       ...  \n",
       "Minnesota     0.399357  0.925600  0.451889  0.638746  \n",
       "Kentucky      0.714215  0.942167  0.882256  0.470535  \n",
       "Arizona       0.686582  0.481026  0.478267  0.217659  \n",
       "Rhode Island  0.837716  0.241980  0.237042  0.356058  \n",
       "Texas         0.843113  0.544460  0.993134  0.974327  \n",
       "\n",
       "[100 rows x 10 columns]"
      ]
     },
     "execution_count": 79,
     "metadata": {},
     "output_type": "execute_result"
    }
   ],
   "source": [
    "new_index = columnNames.sort_values() #we can call the sort_values method of the pd.Index object\n",
    "new_df.reindex(new_index, axis=1)"
   ]
  },
  {
   "cell_type": "code",
   "execution_count": 80,
   "id": "bb88feb2-5d0f-410c-9b1d-69e46e1fcaa8",
   "metadata": {},
   "outputs": [
    {
     "data": {
      "text/html": [
       "<div>\n",
       "<style scoped>\n",
       "    .dataframe tbody tr th:only-of-type {\n",
       "        vertical-align: middle;\n",
       "    }\n",
       "\n",
       "    .dataframe tbody tr th {\n",
       "        vertical-align: top;\n",
       "    }\n",
       "\n",
       "    .dataframe thead th {\n",
       "        text-align: right;\n",
       "    }\n",
       "</style>\n",
       "<table border=\"1\" class=\"dataframe\">\n",
       "  <thead>\n",
       "    <tr style=\"text-align: right;\">\n",
       "      <th></th>\n",
       "      <th>get</th>\n",
       "      <th>only</th>\n",
       "      <th>chair</th>\n",
       "      <th>physical</th>\n",
       "      <th>late</th>\n",
       "      <th>TV</th>\n",
       "      <th>body</th>\n",
       "      <th>meeting</th>\n",
       "      <th>present</th>\n",
       "      <th>left</th>\n",
       "    </tr>\n",
       "  </thead>\n",
       "  <tbody>\n",
       "    <tr>\n",
       "      <th>Montana</th>\n",
       "      <td>0.052584</td>\n",
       "      <td>0.858699</td>\n",
       "      <td>0.283633</td>\n",
       "      <td>0.956462</td>\n",
       "      <td>0.78192</td>\n",
       "      <td>0.680163</td>\n",
       "      <td>0.913400</td>\n",
       "      <td>0.817496</td>\n",
       "      <td>0.965756</td>\n",
       "      <td>0.959574</td>\n",
       "    </tr>\n",
       "    <tr>\n",
       "      <th>Montana</th>\n",
       "      <td>0.160692</td>\n",
       "      <td>0.820479</td>\n",
       "      <td>0.694909</td>\n",
       "      <td>0.143626</td>\n",
       "      <td>0.18627</td>\n",
       "      <td>0.058365</td>\n",
       "      <td>0.088567</td>\n",
       "      <td>0.660961</td>\n",
       "      <td>0.551170</td>\n",
       "      <td>0.970664</td>\n",
       "    </tr>\n",
       "  </tbody>\n",
       "</table>\n",
       "</div>"
      ],
      "text/plain": [
       "              get      only     chair  physical     late        TV      body  \\\n",
       "Montana  0.052584  0.858699  0.283633  0.956462  0.78192  0.680163  0.913400   \n",
       "Montana  0.160692  0.820479  0.694909  0.143626  0.18627  0.058365  0.088567   \n",
       "\n",
       "          meeting   present      left  \n",
       "Montana  0.817496  0.965756  0.959574  \n",
       "Montana  0.660961  0.551170  0.970664  "
      ]
     },
     "execution_count": 80,
     "metadata": {},
     "output_type": "execute_result"
    }
   ],
   "source": [
    "new_df.loc['Montana']"
   ]
  },
  {
   "cell_type": "code",
   "execution_count": 81,
   "id": "1c1b3354-bc16-42b5-b0b6-695e8e516568",
   "metadata": {},
   "outputs": [
    {
     "data": {
      "text/plain": [
       "Index(['New Jersey', 'New Mexico', 'Mississippi', 'Hawaii', 'Wyoming', 'Iowa',\n",
       "       'Virginia', 'Arkansas', 'Alaska', 'Florida', 'Idaho', 'Iowa',\n",
       "       'Colorado', 'Oregon', 'Wyoming', 'Washington', 'Oregon', 'Connecticut',\n",
       "       'Nevada', 'Massachusetts', 'Arkansas', 'Arkansas', 'Vermont',\n",
       "       'New Hampshire', 'Colorado', 'Iowa', 'Maine', 'Utah', 'Kentucky',\n",
       "       'Alabama', 'Missouri', 'Connecticut', 'Ohio', 'Tennessee', 'Oregon',\n",
       "       'Colorado', 'Kansas', 'Alabama', 'New Hampshire', 'Arkansas', 'Idaho',\n",
       "       'Montana', 'South Carolina', 'Nebraska', 'Rhode Island', 'Tennessee',\n",
       "       'Alaska', 'Louisiana', 'Utah', 'Oregon', 'Idaho', 'Virginia',\n",
       "       'Louisiana', 'Colorado', 'Oregon', 'Massachusetts', 'North Carolina',\n",
       "       'South Dakota', 'Alabama', 'Rhode Island', 'Oregon', 'Utah', 'Alaska',\n",
       "       'Alabama', 'New Mexico', 'New York', 'Illinois', 'Idaho', 'Connecticut',\n",
       "       'Nebraska', 'Nebraska', 'Arkansas', 'North Carolina', 'West Virginia',\n",
       "       'Arkansas', 'Texas', 'Maine', 'Maryland', 'Virginia', 'Nebraska',\n",
       "       'North Carolina', 'Wyoming', 'Iowa', 'Connecticut', 'Arizona',\n",
       "       'Arizona', 'Tennessee', 'Alabama', 'Nebraska', 'Oklahoma', 'Arizona',\n",
       "       'Rhode Island', 'Florida', 'Montana', 'Vermont', 'Minnesota',\n",
       "       'Kentucky', 'Arizona', 'Rhode Island', 'Texas'],\n",
       "      dtype='object')"
      ]
     },
     "execution_count": 81,
     "metadata": {},
     "output_type": "execute_result"
    }
   ],
   "source": [
    "new_df.index"
   ]
  },
  {
   "cell_type": "code",
   "execution_count": 82,
   "id": "58449042-efa0-41e4-b0e2-0904d1f50435",
   "metadata": {},
   "outputs": [
    {
     "data": {
      "text/plain": [
       "New Jersey      0.339223\n",
       "New Mexico      0.064989\n",
       "Mississippi     0.264330\n",
       "Hawaii          0.378321\n",
       "Wyoming         0.403087\n",
       "                  ...   \n",
       "Minnesota       0.685359\n",
       "Kentucky        0.412090\n",
       "Arizona         0.826082\n",
       "Rhode Island    0.795805\n",
       "Texas           0.454632\n",
       "Name: get, Length: 100, dtype: float64"
      ]
     },
     "execution_count": 82,
     "metadata": {},
     "output_type": "execute_result"
    }
   ],
   "source": [
    "#df[column]\n",
    "new_df['get']"
   ]
  },
  {
   "cell_type": "code",
   "execution_count": 83,
   "id": "98f6a93c-e433-427d-892e-ff26f14f2519",
   "metadata": {},
   "outputs": [
    {
     "data": {
      "text/plain": [
       "Montana    0.283633\n",
       "Montana    0.694909\n",
       "Name: chair, dtype: float64"
      ]
     },
     "execution_count": 83,
     "metadata": {},
     "output_type": "execute_result"
    }
   ],
   "source": [
    "new_df.loc[['Montana'], 'chair']"
   ]
  },
  {
   "cell_type": "code",
   "execution_count": 84,
   "id": "60f781d9-e324-47f0-b650-1cfc0b772cb8",
   "metadata": {},
   "outputs": [
    {
     "data": {
      "text/html": [
       "<div>\n",
       "<style scoped>\n",
       "    .dataframe tbody tr th:only-of-type {\n",
       "        vertical-align: middle;\n",
       "    }\n",
       "\n",
       "    .dataframe tbody tr th {\n",
       "        vertical-align: top;\n",
       "    }\n",
       "\n",
       "    .dataframe thead th {\n",
       "        text-align: right;\n",
       "    }\n",
       "</style>\n",
       "<table border=\"1\" class=\"dataframe\">\n",
       "  <thead>\n",
       "    <tr style=\"text-align: right;\">\n",
       "      <th></th>\n",
       "      <th>body</th>\n",
       "    </tr>\n",
       "  </thead>\n",
       "  <tbody>\n",
       "    <tr>\n",
       "      <th>Montana</th>\n",
       "      <td>0.913400</td>\n",
       "    </tr>\n",
       "    <tr>\n",
       "      <th>Montana</th>\n",
       "      <td>0.088567</td>\n",
       "    </tr>\n",
       "  </tbody>\n",
       "</table>\n",
       "</div>"
      ],
      "text/plain": [
       "             body\n",
       "Montana  0.913400\n",
       "Montana  0.088567"
      ]
     },
     "execution_count": 84,
     "metadata": {},
     "output_type": "execute_result"
    }
   ],
   "source": [
    "new_df.loc[['Montana'], ['body']] #using a sequence creates a DataFrame rather than a Series"
   ]
  },
  {
   "cell_type": "code",
   "execution_count": 85,
   "id": "80d11584-d13c-4abe-99c0-662224b8a0f8",
   "metadata": {},
   "outputs": [
    {
     "data": {
      "text/html": [
       "<div>\n",
       "<style scoped>\n",
       "    .dataframe tbody tr th:only-of-type {\n",
       "        vertical-align: middle;\n",
       "    }\n",
       "\n",
       "    .dataframe tbody tr th {\n",
       "        vertical-align: top;\n",
       "    }\n",
       "\n",
       "    .dataframe thead th {\n",
       "        text-align: right;\n",
       "    }\n",
       "</style>\n",
       "<table border=\"1\" class=\"dataframe\">\n",
       "  <thead>\n",
       "    <tr style=\"text-align: right;\">\n",
       "      <th></th>\n",
       "      <th>physical</th>\n",
       "    </tr>\n",
       "  </thead>\n",
       "  <tbody>\n",
       "    <tr>\n",
       "      <th>Montana</th>\n",
       "      <td>0.956462</td>\n",
       "    </tr>\n",
       "    <tr>\n",
       "      <th>Montana</th>\n",
       "      <td>0.143626</td>\n",
       "    </tr>\n",
       "  </tbody>\n",
       "</table>\n",
       "</div>"
      ],
      "text/plain": [
       "         physical\n",
       "Montana  0.956462\n",
       "Montana  0.143626"
      ]
     },
     "execution_count": 85,
     "metadata": {},
     "output_type": "execute_result"
    }
   ],
   "source": [
    "new_df.loc['Montana', ['physical']] #converting the first part into a string rather than a single-item list produces\n",
    "#the same result"
   ]
  },
  {
   "cell_type": "code",
   "execution_count": null,
   "id": "1be6934a-8579-4bd3-bf38-a9242b5b5a5e",
   "metadata": {},
   "outputs": [],
   "source": []
  },
  {
   "cell_type": "code",
   "execution_count": 86,
   "id": "78f29da7-2b95-42d5-b8ef-9bf8d9355186",
   "metadata": {},
   "outputs": [
    {
     "data": {
      "text/html": [
       "<div>\n",
       "<style scoped>\n",
       "    .dataframe tbody tr th:only-of-type {\n",
       "        vertical-align: middle;\n",
       "    }\n",
       "\n",
       "    .dataframe tbody tr th {\n",
       "        vertical-align: top;\n",
       "    }\n",
       "\n",
       "    .dataframe thead th {\n",
       "        text-align: right;\n",
       "    }\n",
       "</style>\n",
       "<table border=\"1\" class=\"dataframe\">\n",
       "  <thead>\n",
       "    <tr style=\"text-align: right;\">\n",
       "      <th></th>\n",
       "      <th>get</th>\n",
       "      <th>only</th>\n",
       "      <th>chair</th>\n",
       "      <th>physical</th>\n",
       "      <th>late</th>\n",
       "      <th>TV</th>\n",
       "      <th>body</th>\n",
       "      <th>meeting</th>\n",
       "      <th>present</th>\n",
       "      <th>left</th>\n",
       "    </tr>\n",
       "  </thead>\n",
       "  <tbody>\n",
       "    <tr>\n",
       "      <th>Montana</th>\n",
       "      <td>0.052584</td>\n",
       "      <td>0.858699</td>\n",
       "      <td>0.283633</td>\n",
       "      <td>0.956462</td>\n",
       "      <td>0.78192</td>\n",
       "      <td>0.680163</td>\n",
       "      <td>0.913400</td>\n",
       "      <td>0.817496</td>\n",
       "      <td>0.965756</td>\n",
       "      <td>0.959574</td>\n",
       "    </tr>\n",
       "    <tr>\n",
       "      <th>Montana</th>\n",
       "      <td>0.160692</td>\n",
       "      <td>0.820479</td>\n",
       "      <td>0.694909</td>\n",
       "      <td>0.143626</td>\n",
       "      <td>0.18627</td>\n",
       "      <td>0.058365</td>\n",
       "      <td>0.088567</td>\n",
       "      <td>0.660961</td>\n",
       "      <td>0.551170</td>\n",
       "      <td>0.970664</td>\n",
       "    </tr>\n",
       "  </tbody>\n",
       "</table>\n",
       "</div>"
      ],
      "text/plain": [
       "              get      only     chair  physical     late        TV      body  \\\n",
       "Montana  0.052584  0.858699  0.283633  0.956462  0.78192  0.680163  0.913400   \n",
       "Montana  0.160692  0.820479  0.694909  0.143626  0.18627  0.058365  0.088567   \n",
       "\n",
       "          meeting   present      left  \n",
       "Montana  0.817496  0.965756  0.959574  \n",
       "Montana  0.660961  0.551170  0.970664  "
      ]
     },
     "execution_count": 86,
     "metadata": {},
     "output_type": "execute_result"
    }
   ],
   "source": [
    "#df.loc[rows] select single row or subset of rows from the DataFrame by label\n",
    "new_df.loc['Montana']"
   ]
  },
  {
   "cell_type": "code",
   "execution_count": 87,
   "id": "9523f2a2-703b-4bf9-be95-a6bd6004183c",
   "metadata": {},
   "outputs": [
    {
     "data": {
      "text/html": [
       "<div>\n",
       "<style scoped>\n",
       "    .dataframe tbody tr th:only-of-type {\n",
       "        vertical-align: middle;\n",
       "    }\n",
       "\n",
       "    .dataframe tbody tr th {\n",
       "        vertical-align: top;\n",
       "    }\n",
       "\n",
       "    .dataframe thead th {\n",
       "        text-align: right;\n",
       "    }\n",
       "</style>\n",
       "<table border=\"1\" class=\"dataframe\">\n",
       "  <thead>\n",
       "    <tr style=\"text-align: right;\">\n",
       "      <th></th>\n",
       "      <th>get</th>\n",
       "      <th>only</th>\n",
       "      <th>chair</th>\n",
       "      <th>physical</th>\n",
       "      <th>late</th>\n",
       "      <th>TV</th>\n",
       "      <th>body</th>\n",
       "      <th>meeting</th>\n",
       "      <th>present</th>\n",
       "      <th>left</th>\n",
       "    </tr>\n",
       "  </thead>\n",
       "  <tbody>\n",
       "    <tr>\n",
       "      <th>Montana</th>\n",
       "      <td>0.052584</td>\n",
       "      <td>0.858699</td>\n",
       "      <td>0.283633</td>\n",
       "      <td>0.956462</td>\n",
       "      <td>0.781920</td>\n",
       "      <td>0.680163</td>\n",
       "      <td>0.913400</td>\n",
       "      <td>0.817496</td>\n",
       "      <td>0.965756</td>\n",
       "      <td>0.959574</td>\n",
       "    </tr>\n",
       "    <tr>\n",
       "      <th>Montana</th>\n",
       "      <td>0.160692</td>\n",
       "      <td>0.820479</td>\n",
       "      <td>0.694909</td>\n",
       "      <td>0.143626</td>\n",
       "      <td>0.186270</td>\n",
       "      <td>0.058365</td>\n",
       "      <td>0.088567</td>\n",
       "      <td>0.660961</td>\n",
       "      <td>0.551170</td>\n",
       "      <td>0.970664</td>\n",
       "    </tr>\n",
       "    <tr>\n",
       "      <th>Virginia</th>\n",
       "      <td>0.484601</td>\n",
       "      <td>0.961611</td>\n",
       "      <td>0.738785</td>\n",
       "      <td>0.310780</td>\n",
       "      <td>0.908330</td>\n",
       "      <td>0.045776</td>\n",
       "      <td>0.948943</td>\n",
       "      <td>0.188796</td>\n",
       "      <td>0.058048</td>\n",
       "      <td>0.427934</td>\n",
       "    </tr>\n",
       "    <tr>\n",
       "      <th>Virginia</th>\n",
       "      <td>0.127417</td>\n",
       "      <td>0.101614</td>\n",
       "      <td>0.978705</td>\n",
       "      <td>0.670355</td>\n",
       "      <td>0.266097</td>\n",
       "      <td>0.430786</td>\n",
       "      <td>0.594528</td>\n",
       "      <td>0.359170</td>\n",
       "      <td>0.161186</td>\n",
       "      <td>0.608026</td>\n",
       "    </tr>\n",
       "    <tr>\n",
       "      <th>Virginia</th>\n",
       "      <td>0.963268</td>\n",
       "      <td>0.335037</td>\n",
       "      <td>0.372593</td>\n",
       "      <td>0.745663</td>\n",
       "      <td>0.501691</td>\n",
       "      <td>0.230974</td>\n",
       "      <td>0.144117</td>\n",
       "      <td>0.872877</td>\n",
       "      <td>0.330392</td>\n",
       "      <td>0.255349</td>\n",
       "    </tr>\n",
       "  </tbody>\n",
       "</table>\n",
       "</div>"
      ],
      "text/plain": [
       "               get      only     chair  physical      late        TV  \\\n",
       "Montana   0.052584  0.858699  0.283633  0.956462  0.781920  0.680163   \n",
       "Montana   0.160692  0.820479  0.694909  0.143626  0.186270  0.058365   \n",
       "Virginia  0.484601  0.961611  0.738785  0.310780  0.908330  0.045776   \n",
       "Virginia  0.127417  0.101614  0.978705  0.670355  0.266097  0.430786   \n",
       "Virginia  0.963268  0.335037  0.372593  0.745663  0.501691  0.230974   \n",
       "\n",
       "              body   meeting   present      left  \n",
       "Montana   0.913400  0.817496  0.965756  0.959574  \n",
       "Montana   0.088567  0.660961  0.551170  0.970664  \n",
       "Virginia  0.948943  0.188796  0.058048  0.427934  \n",
       "Virginia  0.594528  0.359170  0.161186  0.608026  \n",
       "Virginia  0.144117  0.872877  0.330392  0.255349  "
      ]
     },
     "execution_count": 87,
     "metadata": {},
     "output_type": "execute_result"
    }
   ],
   "source": [
    "#df.loc[rows] select single row or subset of rows from the DataFrame by label\n",
    "new_df.loc[['Montana', 'Virginia']]"
   ]
  },
  {
   "cell_type": "code",
   "execution_count": 88,
   "id": "0ae3cb37-2e85-495f-978b-be18be99abfc",
   "metadata": {},
   "outputs": [
    {
     "data": {
      "text/plain": [
       "Rhode Island    0.203818\n",
       "Rhode Island    0.287776\n",
       "Rhode Island    0.218942\n",
       "Rhode Island    0.241980\n",
       "Name: only, dtype: float64"
      ]
     },
     "execution_count": 88,
     "metadata": {},
     "output_type": "execute_result"
    }
   ],
   "source": [
    "#df.loc[rows, cols] : select both rows and columns by label\n",
    "new_df.loc['Rhode Island', 'only']"
   ]
  },
  {
   "cell_type": "code",
   "execution_count": 89,
   "id": "ecbdf655-5df9-4311-af26-a8648d32469d",
   "metadata": {},
   "outputs": [
    {
     "data": {
      "text/html": [
       "<div>\n",
       "<style scoped>\n",
       "    .dataframe tbody tr th:only-of-type {\n",
       "        vertical-align: middle;\n",
       "    }\n",
       "\n",
       "    .dataframe tbody tr th {\n",
       "        vertical-align: top;\n",
       "    }\n",
       "\n",
       "    .dataframe thead th {\n",
       "        text-align: right;\n",
       "    }\n",
       "</style>\n",
       "<table border=\"1\" class=\"dataframe\">\n",
       "  <thead>\n",
       "    <tr style=\"text-align: right;\">\n",
       "      <th></th>\n",
       "      <th>only</th>\n",
       "      <th>present</th>\n",
       "    </tr>\n",
       "  </thead>\n",
       "  <tbody>\n",
       "    <tr>\n",
       "      <th>Rhode Island</th>\n",
       "      <td>0.203818</td>\n",
       "      <td>0.404295</td>\n",
       "    </tr>\n",
       "    <tr>\n",
       "      <th>Rhode Island</th>\n",
       "      <td>0.287776</td>\n",
       "      <td>0.986014</td>\n",
       "    </tr>\n",
       "    <tr>\n",
       "      <th>Rhode Island</th>\n",
       "      <td>0.218942</td>\n",
       "      <td>0.087321</td>\n",
       "    </tr>\n",
       "    <tr>\n",
       "      <th>Rhode Island</th>\n",
       "      <td>0.241980</td>\n",
       "      <td>0.356058</td>\n",
       "    </tr>\n",
       "  </tbody>\n",
       "</table>\n",
       "</div>"
      ],
      "text/plain": [
       "                  only   present\n",
       "Rhode Island  0.203818  0.404295\n",
       "Rhode Island  0.287776  0.986014\n",
       "Rhode Island  0.218942  0.087321\n",
       "Rhode Island  0.241980  0.356058"
      ]
     },
     "execution_count": 89,
     "metadata": {},
     "output_type": "execute_result"
    }
   ],
   "source": [
    "#df.loc[rows, cols]\n",
    "new_df.loc['Rhode Island', ['only', 'present']] "
   ]
  },
  {
   "cell_type": "code",
   "execution_count": 90,
   "id": "095f6ad6-84ea-4a80-be57-bd4143569522",
   "metadata": {},
   "outputs": [
    {
     "data": {
      "text/html": [
       "<div>\n",
       "<style scoped>\n",
       "    .dataframe tbody tr th:only-of-type {\n",
       "        vertical-align: middle;\n",
       "    }\n",
       "\n",
       "    .dataframe tbody tr th {\n",
       "        vertical-align: top;\n",
       "    }\n",
       "\n",
       "    .dataframe thead th {\n",
       "        text-align: right;\n",
       "    }\n",
       "</style>\n",
       "<table border=\"1\" class=\"dataframe\">\n",
       "  <thead>\n",
       "    <tr style=\"text-align: right;\">\n",
       "      <th></th>\n",
       "      <th>only</th>\n",
       "      <th>present</th>\n",
       "    </tr>\n",
       "  </thead>\n",
       "  <tbody>\n",
       "    <tr>\n",
       "      <th>Rhode Island</th>\n",
       "      <td>0.203818</td>\n",
       "      <td>0.404295</td>\n",
       "    </tr>\n",
       "    <tr>\n",
       "      <th>Rhode Island</th>\n",
       "      <td>0.287776</td>\n",
       "      <td>0.986014</td>\n",
       "    </tr>\n",
       "    <tr>\n",
       "      <th>Rhode Island</th>\n",
       "      <td>0.218942</td>\n",
       "      <td>0.087321</td>\n",
       "    </tr>\n",
       "    <tr>\n",
       "      <th>Rhode Island</th>\n",
       "      <td>0.241980</td>\n",
       "      <td>0.356058</td>\n",
       "    </tr>\n",
       "  </tbody>\n",
       "</table>\n",
       "</div>"
      ],
      "text/plain": [
       "                  only   present\n",
       "Rhode Island  0.203818  0.404295\n",
       "Rhode Island  0.287776  0.986014\n",
       "Rhode Island  0.218942  0.087321\n",
       "Rhode Island  0.241980  0.356058"
      ]
     },
     "execution_count": 90,
     "metadata": {},
     "output_type": "execute_result"
    }
   ],
   "source": [
    "#df.loc[rows, cols]\n",
    "new_df.loc[['Rhode Island'], ['only', 'present']] #same as above"
   ]
  },
  {
   "cell_type": "code",
   "execution_count": 91,
   "id": "1c83bdbf-8714-4830-89d3-03bbfe84693b",
   "metadata": {},
   "outputs": [
    {
     "data": {
      "text/html": [
       "<div>\n",
       "<style scoped>\n",
       "    .dataframe tbody tr th:only-of-type {\n",
       "        vertical-align: middle;\n",
       "    }\n",
       "\n",
       "    .dataframe tbody tr th {\n",
       "        vertical-align: top;\n",
       "    }\n",
       "\n",
       "    .dataframe thead th {\n",
       "        text-align: right;\n",
       "    }\n",
       "</style>\n",
       "<table border=\"1\" class=\"dataframe\">\n",
       "  <thead>\n",
       "    <tr style=\"text-align: right;\">\n",
       "      <th></th>\n",
       "      <th>only</th>\n",
       "    </tr>\n",
       "  </thead>\n",
       "  <tbody>\n",
       "    <tr>\n",
       "      <th>Rhode Island</th>\n",
       "      <td>0.203818</td>\n",
       "    </tr>\n",
       "    <tr>\n",
       "      <th>Rhode Island</th>\n",
       "      <td>0.287776</td>\n",
       "    </tr>\n",
       "    <tr>\n",
       "      <th>Rhode Island</th>\n",
       "      <td>0.218942</td>\n",
       "    </tr>\n",
       "    <tr>\n",
       "      <th>Rhode Island</th>\n",
       "      <td>0.241980</td>\n",
       "    </tr>\n",
       "    <tr>\n",
       "      <th>Virginia</th>\n",
       "      <td>0.961611</td>\n",
       "    </tr>\n",
       "    <tr>\n",
       "      <th>Virginia</th>\n",
       "      <td>0.101614</td>\n",
       "    </tr>\n",
       "    <tr>\n",
       "      <th>Virginia</th>\n",
       "      <td>0.335037</td>\n",
       "    </tr>\n",
       "  </tbody>\n",
       "</table>\n",
       "</div>"
      ],
      "text/plain": [
       "                  only\n",
       "Rhode Island  0.203818\n",
       "Rhode Island  0.287776\n",
       "Rhode Island  0.218942\n",
       "Rhode Island  0.241980\n",
       "Virginia      0.961611\n",
       "Virginia      0.101614\n",
       "Virginia      0.335037"
      ]
     },
     "execution_count": 91,
     "metadata": {},
     "output_type": "execute_result"
    }
   ],
   "source": [
    "#df.loc[rows, cols]\n",
    "new_df.loc[['Rhode Island', 'Virginia'], ['only']]"
   ]
  },
  {
   "cell_type": "code",
   "execution_count": 92,
   "id": "a59d4943-176e-40a5-a589-a909eb039726",
   "metadata": {},
   "outputs": [
    {
     "data": {
      "text/plain": [
       "Rhode Island    0.203818\n",
       "Rhode Island    0.287776\n",
       "Rhode Island    0.218942\n",
       "Rhode Island    0.241980\n",
       "Virginia        0.961611\n",
       "Virginia        0.101614\n",
       "Virginia        0.335037\n",
       "Name: only, dtype: float64"
      ]
     },
     "execution_count": 92,
     "metadata": {},
     "output_type": "execute_result"
    }
   ],
   "source": [
    "#df.loc[rows, cols]\n",
    "new_df.loc[['Rhode Island', 'Virginia'], 'only']"
   ]
  },
  {
   "cell_type": "code",
   "execution_count": 93,
   "id": "324c44fc-205e-4785-a4a4-3155e2f4e97b",
   "metadata": {},
   "outputs": [
    {
     "data": {
      "text/html": [
       "<div>\n",
       "<style scoped>\n",
       "    .dataframe tbody tr th:only-of-type {\n",
       "        vertical-align: middle;\n",
       "    }\n",
       "\n",
       "    .dataframe tbody tr th {\n",
       "        vertical-align: top;\n",
       "    }\n",
       "\n",
       "    .dataframe thead th {\n",
       "        text-align: right;\n",
       "    }\n",
       "</style>\n",
       "<table border=\"1\" class=\"dataframe\">\n",
       "  <thead>\n",
       "    <tr style=\"text-align: right;\">\n",
       "      <th></th>\n",
       "      <th>physical</th>\n",
       "      <th>present</th>\n",
       "    </tr>\n",
       "  </thead>\n",
       "  <tbody>\n",
       "    <tr>\n",
       "      <th>Rhode Island</th>\n",
       "      <td>0.080614</td>\n",
       "      <td>0.404295</td>\n",
       "    </tr>\n",
       "    <tr>\n",
       "      <th>Rhode Island</th>\n",
       "      <td>0.553281</td>\n",
       "      <td>0.986014</td>\n",
       "    </tr>\n",
       "    <tr>\n",
       "      <th>Rhode Island</th>\n",
       "      <td>0.543793</td>\n",
       "      <td>0.087321</td>\n",
       "    </tr>\n",
       "    <tr>\n",
       "      <th>Rhode Island</th>\n",
       "      <td>0.237042</td>\n",
       "      <td>0.356058</td>\n",
       "    </tr>\n",
       "    <tr>\n",
       "      <th>Virginia</th>\n",
       "      <td>0.310780</td>\n",
       "      <td>0.058048</td>\n",
       "    </tr>\n",
       "    <tr>\n",
       "      <th>Virginia</th>\n",
       "      <td>0.670355</td>\n",
       "      <td>0.161186</td>\n",
       "    </tr>\n",
       "    <tr>\n",
       "      <th>Virginia</th>\n",
       "      <td>0.745663</td>\n",
       "      <td>0.330392</td>\n",
       "    </tr>\n",
       "  </tbody>\n",
       "</table>\n",
       "</div>"
      ],
      "text/plain": [
       "              physical   present\n",
       "Rhode Island  0.080614  0.404295\n",
       "Rhode Island  0.553281  0.986014\n",
       "Rhode Island  0.543793  0.087321\n",
       "Rhode Island  0.237042  0.356058\n",
       "Virginia      0.310780  0.058048\n",
       "Virginia      0.670355  0.161186\n",
       "Virginia      0.745663  0.330392"
      ]
     },
     "execution_count": 93,
     "metadata": {},
     "output_type": "execute_result"
    }
   ],
   "source": [
    "#df.loc[rows, cols]\n",
    "new_df.loc[['Rhode Island', 'Virginia'], ['physical', 'present']]"
   ]
  },
  {
   "cell_type": "code",
   "execution_count": 94,
   "id": "ae829c4f-09e7-4362-ad5a-db4c95aa58b0",
   "metadata": {},
   "outputs": [
    {
     "data": {
      "text/plain": [
       "get         0.339223\n",
       "only        0.236549\n",
       "chair       0.991752\n",
       "physical    0.043386\n",
       "late        0.089463\n",
       "TV          0.041895\n",
       "body        0.732314\n",
       "meeting     0.392083\n",
       "present     0.545052\n",
       "left        0.070682\n",
       "Name: New Jersey, dtype: float64"
      ]
     },
     "execution_count": 94,
     "metadata": {},
     "output_type": "execute_result"
    }
   ],
   "source": [
    "#df.iloc[rows] \n",
    "new_df.iloc[0]"
   ]
  },
  {
   "cell_type": "code",
   "execution_count": 95,
   "id": "8b53f197-7e04-4a1f-a66e-90452ffe8ca0",
   "metadata": {},
   "outputs": [
    {
     "data": {
      "text/html": [
       "<div>\n",
       "<style scoped>\n",
       "    .dataframe tbody tr th:only-of-type {\n",
       "        vertical-align: middle;\n",
       "    }\n",
       "\n",
       "    .dataframe tbody tr th {\n",
       "        vertical-align: top;\n",
       "    }\n",
       "\n",
       "    .dataframe thead th {\n",
       "        text-align: right;\n",
       "    }\n",
       "</style>\n",
       "<table border=\"1\" class=\"dataframe\">\n",
       "  <thead>\n",
       "    <tr style=\"text-align: right;\">\n",
       "      <th></th>\n",
       "      <th>get</th>\n",
       "      <th>only</th>\n",
       "      <th>chair</th>\n",
       "      <th>physical</th>\n",
       "      <th>late</th>\n",
       "      <th>TV</th>\n",
       "      <th>body</th>\n",
       "      <th>meeting</th>\n",
       "      <th>present</th>\n",
       "      <th>left</th>\n",
       "    </tr>\n",
       "  </thead>\n",
       "  <tbody>\n",
       "    <tr>\n",
       "      <th>Mississippi</th>\n",
       "      <td>0.264330</td>\n",
       "      <td>0.705405</td>\n",
       "      <td>0.382694</td>\n",
       "      <td>0.281249</td>\n",
       "      <td>0.958557</td>\n",
       "      <td>0.481227</td>\n",
       "      <td>0.207586</td>\n",
       "      <td>0.847110</td>\n",
       "      <td>0.935774</td>\n",
       "      <td>0.371627</td>\n",
       "    </tr>\n",
       "    <tr>\n",
       "      <th>Hawaii</th>\n",
       "      <td>0.378321</td>\n",
       "      <td>0.000860</td>\n",
       "      <td>0.855853</td>\n",
       "      <td>0.093033</td>\n",
       "      <td>0.665382</td>\n",
       "      <td>0.858755</td>\n",
       "      <td>0.562991</td>\n",
       "      <td>0.552291</td>\n",
       "      <td>0.674770</td>\n",
       "      <td>0.846548</td>\n",
       "    </tr>\n",
       "    <tr>\n",
       "      <th>Wyoming</th>\n",
       "      <td>0.403087</td>\n",
       "      <td>0.769777</td>\n",
       "      <td>0.671552</td>\n",
       "      <td>0.969271</td>\n",
       "      <td>0.732717</td>\n",
       "      <td>0.341842</td>\n",
       "      <td>0.945804</td>\n",
       "      <td>0.991814</td>\n",
       "      <td>0.441960</td>\n",
       "      <td>0.043786</td>\n",
       "    </tr>\n",
       "    <tr>\n",
       "      <th>Iowa</th>\n",
       "      <td>0.356546</td>\n",
       "      <td>0.479494</td>\n",
       "      <td>0.456726</td>\n",
       "      <td>0.618647</td>\n",
       "      <td>0.840504</td>\n",
       "      <td>0.382721</td>\n",
       "      <td>0.741692</td>\n",
       "      <td>0.939225</td>\n",
       "      <td>0.423777</td>\n",
       "      <td>0.039643</td>\n",
       "    </tr>\n",
       "    <tr>\n",
       "      <th>Virginia</th>\n",
       "      <td>0.484601</td>\n",
       "      <td>0.961611</td>\n",
       "      <td>0.738785</td>\n",
       "      <td>0.310780</td>\n",
       "      <td>0.908330</td>\n",
       "      <td>0.045776</td>\n",
       "      <td>0.948943</td>\n",
       "      <td>0.188796</td>\n",
       "      <td>0.058048</td>\n",
       "      <td>0.427934</td>\n",
       "    </tr>\n",
       "    <tr>\n",
       "      <th>...</th>\n",
       "      <td>...</td>\n",
       "      <td>...</td>\n",
       "      <td>...</td>\n",
       "      <td>...</td>\n",
       "      <td>...</td>\n",
       "      <td>...</td>\n",
       "      <td>...</td>\n",
       "      <td>...</td>\n",
       "      <td>...</td>\n",
       "      <td>...</td>\n",
       "    </tr>\n",
       "    <tr>\n",
       "      <th>Minnesota</th>\n",
       "      <td>0.685359</td>\n",
       "      <td>0.925600</td>\n",
       "      <td>0.596628</td>\n",
       "      <td>0.451889</td>\n",
       "      <td>0.187991</td>\n",
       "      <td>0.974630</td>\n",
       "      <td>0.523065</td>\n",
       "      <td>0.399357</td>\n",
       "      <td>0.638746</td>\n",
       "      <td>0.289683</td>\n",
       "    </tr>\n",
       "    <tr>\n",
       "      <th>Kentucky</th>\n",
       "      <td>0.412090</td>\n",
       "      <td>0.942167</td>\n",
       "      <td>0.993722</td>\n",
       "      <td>0.882256</td>\n",
       "      <td>0.185371</td>\n",
       "      <td>0.624921</td>\n",
       "      <td>0.252234</td>\n",
       "      <td>0.714215</td>\n",
       "      <td>0.470535</td>\n",
       "      <td>0.173664</td>\n",
       "    </tr>\n",
       "    <tr>\n",
       "      <th>Arizona</th>\n",
       "      <td>0.826082</td>\n",
       "      <td>0.481026</td>\n",
       "      <td>0.242528</td>\n",
       "      <td>0.478267</td>\n",
       "      <td>0.623486</td>\n",
       "      <td>0.054764</td>\n",
       "      <td>0.348575</td>\n",
       "      <td>0.686582</td>\n",
       "      <td>0.217659</td>\n",
       "      <td>0.720443</td>\n",
       "    </tr>\n",
       "    <tr>\n",
       "      <th>Rhode Island</th>\n",
       "      <td>0.795805</td>\n",
       "      <td>0.241980</td>\n",
       "      <td>0.837024</td>\n",
       "      <td>0.237042</td>\n",
       "      <td>0.810176</td>\n",
       "      <td>0.464843</td>\n",
       "      <td>0.131868</td>\n",
       "      <td>0.837716</td>\n",
       "      <td>0.356058</td>\n",
       "      <td>0.607680</td>\n",
       "    </tr>\n",
       "    <tr>\n",
       "      <th>Texas</th>\n",
       "      <td>0.454632</td>\n",
       "      <td>0.544460</td>\n",
       "      <td>0.273260</td>\n",
       "      <td>0.993134</td>\n",
       "      <td>0.498072</td>\n",
       "      <td>0.260381</td>\n",
       "      <td>0.666855</td>\n",
       "      <td>0.843113</td>\n",
       "      <td>0.974327</td>\n",
       "      <td>0.385046</td>\n",
       "    </tr>\n",
       "  </tbody>\n",
       "</table>\n",
       "<p>98 rows × 10 columns</p>\n",
       "</div>"
      ],
      "text/plain": [
       "                   get      only     chair  physical      late        TV  \\\n",
       "Mississippi   0.264330  0.705405  0.382694  0.281249  0.958557  0.481227   \n",
       "Hawaii        0.378321  0.000860  0.855853  0.093033  0.665382  0.858755   \n",
       "Wyoming       0.403087  0.769777  0.671552  0.969271  0.732717  0.341842   \n",
       "Iowa          0.356546  0.479494  0.456726  0.618647  0.840504  0.382721   \n",
       "Virginia      0.484601  0.961611  0.738785  0.310780  0.908330  0.045776   \n",
       "...                ...       ...       ...       ...       ...       ...   \n",
       "Minnesota     0.685359  0.925600  0.596628  0.451889  0.187991  0.974630   \n",
       "Kentucky      0.412090  0.942167  0.993722  0.882256  0.185371  0.624921   \n",
       "Arizona       0.826082  0.481026  0.242528  0.478267  0.623486  0.054764   \n",
       "Rhode Island  0.795805  0.241980  0.837024  0.237042  0.810176  0.464843   \n",
       "Texas         0.454632  0.544460  0.273260  0.993134  0.498072  0.260381   \n",
       "\n",
       "                  body   meeting   present      left  \n",
       "Mississippi   0.207586  0.847110  0.935774  0.371627  \n",
       "Hawaii        0.562991  0.552291  0.674770  0.846548  \n",
       "Wyoming       0.945804  0.991814  0.441960  0.043786  \n",
       "Iowa          0.741692  0.939225  0.423777  0.039643  \n",
       "Virginia      0.948943  0.188796  0.058048  0.427934  \n",
       "...                ...       ...       ...       ...  \n",
       "Minnesota     0.523065  0.399357  0.638746  0.289683  \n",
       "Kentucky      0.252234  0.714215  0.470535  0.173664  \n",
       "Arizona       0.348575  0.686582  0.217659  0.720443  \n",
       "Rhode Island  0.131868  0.837716  0.356058  0.607680  \n",
       "Texas         0.666855  0.843113  0.974327  0.385046  \n",
       "\n",
       "[98 rows x 10 columns]"
      ]
     },
     "execution_count": 95,
     "metadata": {},
     "output_type": "execute_result"
    }
   ],
   "source": [
    "new_df.iloc[2:]"
   ]
  },
  {
   "cell_type": "code",
   "execution_count": 96,
   "id": "a50c91d0-3011-4be3-a150-b346d687ef91",
   "metadata": {},
   "outputs": [
    {
     "data": {
      "text/html": [
       "<div>\n",
       "<style scoped>\n",
       "    .dataframe tbody tr th:only-of-type {\n",
       "        vertical-align: middle;\n",
       "    }\n",
       "\n",
       "    .dataframe tbody tr th {\n",
       "        vertical-align: top;\n",
       "    }\n",
       "\n",
       "    .dataframe thead th {\n",
       "        text-align: right;\n",
       "    }\n",
       "</style>\n",
       "<table border=\"1\" class=\"dataframe\">\n",
       "  <thead>\n",
       "    <tr style=\"text-align: right;\">\n",
       "      <th></th>\n",
       "      <th>get</th>\n",
       "      <th>only</th>\n",
       "      <th>chair</th>\n",
       "      <th>physical</th>\n",
       "      <th>late</th>\n",
       "      <th>TV</th>\n",
       "      <th>body</th>\n",
       "      <th>meeting</th>\n",
       "      <th>present</th>\n",
       "      <th>left</th>\n",
       "    </tr>\n",
       "  </thead>\n",
       "  <tbody>\n",
       "    <tr>\n",
       "      <th>Iowa</th>\n",
       "      <td>0.665775</td>\n",
       "      <td>0.731147</td>\n",
       "      <td>0.380001</td>\n",
       "      <td>0.932737</td>\n",
       "      <td>0.938612</td>\n",
       "      <td>0.644122</td>\n",
       "      <td>0.829950</td>\n",
       "      <td>0.366772</td>\n",
       "      <td>0.346656</td>\n",
       "      <td>0.592029</td>\n",
       "    </tr>\n",
       "    <tr>\n",
       "      <th>Maine</th>\n",
       "      <td>0.385322</td>\n",
       "      <td>0.139374</td>\n",
       "      <td>0.156711</td>\n",
       "      <td>0.528226</td>\n",
       "      <td>0.195244</td>\n",
       "      <td>0.022970</td>\n",
       "      <td>0.460666</td>\n",
       "      <td>0.667872</td>\n",
       "      <td>0.061425</td>\n",
       "      <td>0.370387</td>\n",
       "    </tr>\n",
       "    <tr>\n",
       "      <th>Utah</th>\n",
       "      <td>0.995141</td>\n",
       "      <td>0.206183</td>\n",
       "      <td>0.706966</td>\n",
       "      <td>0.424190</td>\n",
       "      <td>0.503415</td>\n",
       "      <td>0.913280</td>\n",
       "      <td>0.342759</td>\n",
       "      <td>0.224722</td>\n",
       "      <td>0.602184</td>\n",
       "      <td>0.002915</td>\n",
       "    </tr>\n",
       "    <tr>\n",
       "      <th>Kentucky</th>\n",
       "      <td>0.572812</td>\n",
       "      <td>0.574182</td>\n",
       "      <td>0.860961</td>\n",
       "      <td>0.688659</td>\n",
       "      <td>0.005550</td>\n",
       "      <td>0.937178</td>\n",
       "      <td>0.224805</td>\n",
       "      <td>0.304773</td>\n",
       "      <td>0.421769</td>\n",
       "      <td>0.610650</td>\n",
       "    </tr>\n",
       "  </tbody>\n",
       "</table>\n",
       "</div>"
      ],
      "text/plain": [
       "               get      only     chair  physical      late        TV  \\\n",
       "Iowa      0.665775  0.731147  0.380001  0.932737  0.938612  0.644122   \n",
       "Maine     0.385322  0.139374  0.156711  0.528226  0.195244  0.022970   \n",
       "Utah      0.995141  0.206183  0.706966  0.424190  0.503415  0.913280   \n",
       "Kentucky  0.572812  0.574182  0.860961  0.688659  0.005550  0.937178   \n",
       "\n",
       "              body   meeting   present      left  \n",
       "Iowa      0.829950  0.366772  0.346656  0.592029  \n",
       "Maine     0.460666  0.667872  0.061425  0.370387  \n",
       "Utah      0.342759  0.224722  0.602184  0.002915  \n",
       "Kentucky  0.224805  0.304773  0.421769  0.610650  "
      ]
     },
     "execution_count": 96,
     "metadata": {},
     "output_type": "execute_result"
    }
   ],
   "source": [
    "#df.iloc[rows]\n",
    "new_df.iloc[25:29]"
   ]
  },
  {
   "cell_type": "code",
   "execution_count": 97,
   "id": "ddc75043-d9b0-493e-a97c-39bda0b22804",
   "metadata": {},
   "outputs": [
    {
     "data": {
      "text/plain": [
       "New Jersey      0.236549\n",
       "New Mexico      0.011366\n",
       "Mississippi     0.705405\n",
       "Hawaii          0.000860\n",
       "Wyoming         0.769777\n",
       "                  ...   \n",
       "Minnesota       0.925600\n",
       "Kentucky        0.942167\n",
       "Arizona         0.481026\n",
       "Rhode Island    0.241980\n",
       "Texas           0.544460\n",
       "Name: only, Length: 100, dtype: float64"
      ]
     },
     "execution_count": 97,
     "metadata": {},
     "output_type": "execute_result"
    }
   ],
   "source": [
    "#df.iloc[:, cols]\n",
    "new_df.iloc[:, 1]"
   ]
  },
  {
   "cell_type": "code",
   "execution_count": 98,
   "id": "b21f799d-029d-4829-84d0-60b96ca2a319",
   "metadata": {},
   "outputs": [
    {
     "data": {
      "text/plain": [
       "New Jersey      0.070682\n",
       "New Mexico      0.455824\n",
       "Mississippi     0.371627\n",
       "Hawaii          0.846548\n",
       "Wyoming         0.043786\n",
       "                  ...   \n",
       "Minnesota       0.289683\n",
       "Kentucky        0.173664\n",
       "Arizona         0.720443\n",
       "Rhode Island    0.607680\n",
       "Texas           0.385046\n",
       "Name: left, Length: 100, dtype: float64"
      ]
     },
     "execution_count": 98,
     "metadata": {},
     "output_type": "execute_result"
    }
   ],
   "source": [
    "#new_df.iloc[:, columns]\n",
    "new_df.iloc[:, -1]"
   ]
  },
  {
   "cell_type": "code",
   "execution_count": 99,
   "id": "2d513d9f-ac64-47c3-9e40-a43420997864",
   "metadata": {},
   "outputs": [
    {
     "data": {
      "text/html": [
       "<div>\n",
       "<style scoped>\n",
       "    .dataframe tbody tr th:only-of-type {\n",
       "        vertical-align: middle;\n",
       "    }\n",
       "\n",
       "    .dataframe tbody tr th {\n",
       "        vertical-align: top;\n",
       "    }\n",
       "\n",
       "    .dataframe thead th {\n",
       "        text-align: right;\n",
       "    }\n",
       "</style>\n",
       "<table border=\"1\" class=\"dataframe\">\n",
       "  <thead>\n",
       "    <tr style=\"text-align: right;\">\n",
       "      <th></th>\n",
       "      <th>present</th>\n",
       "      <th>left</th>\n",
       "    </tr>\n",
       "  </thead>\n",
       "  <tbody>\n",
       "    <tr>\n",
       "      <th>New Jersey</th>\n",
       "      <td>0.545052</td>\n",
       "      <td>0.070682</td>\n",
       "    </tr>\n",
       "    <tr>\n",
       "      <th>New Mexico</th>\n",
       "      <td>0.310156</td>\n",
       "      <td>0.455824</td>\n",
       "    </tr>\n",
       "    <tr>\n",
       "      <th>Mississippi</th>\n",
       "      <td>0.935774</td>\n",
       "      <td>0.371627</td>\n",
       "    </tr>\n",
       "    <tr>\n",
       "      <th>Hawaii</th>\n",
       "      <td>0.674770</td>\n",
       "      <td>0.846548</td>\n",
       "    </tr>\n",
       "    <tr>\n",
       "      <th>Wyoming</th>\n",
       "      <td>0.441960</td>\n",
       "      <td>0.043786</td>\n",
       "    </tr>\n",
       "    <tr>\n",
       "      <th>...</th>\n",
       "      <td>...</td>\n",
       "      <td>...</td>\n",
       "    </tr>\n",
       "    <tr>\n",
       "      <th>Minnesota</th>\n",
       "      <td>0.638746</td>\n",
       "      <td>0.289683</td>\n",
       "    </tr>\n",
       "    <tr>\n",
       "      <th>Kentucky</th>\n",
       "      <td>0.470535</td>\n",
       "      <td>0.173664</td>\n",
       "    </tr>\n",
       "    <tr>\n",
       "      <th>Arizona</th>\n",
       "      <td>0.217659</td>\n",
       "      <td>0.720443</td>\n",
       "    </tr>\n",
       "    <tr>\n",
       "      <th>Rhode Island</th>\n",
       "      <td>0.356058</td>\n",
       "      <td>0.607680</td>\n",
       "    </tr>\n",
       "    <tr>\n",
       "      <th>Texas</th>\n",
       "      <td>0.974327</td>\n",
       "      <td>0.385046</td>\n",
       "    </tr>\n",
       "  </tbody>\n",
       "</table>\n",
       "<p>100 rows × 2 columns</p>\n",
       "</div>"
      ],
      "text/plain": [
       "               present      left\n",
       "New Jersey    0.545052  0.070682\n",
       "New Mexico    0.310156  0.455824\n",
       "Mississippi   0.935774  0.371627\n",
       "Hawaii        0.674770  0.846548\n",
       "Wyoming       0.441960  0.043786\n",
       "...                ...       ...\n",
       "Minnesota     0.638746  0.289683\n",
       "Kentucky      0.470535  0.173664\n",
       "Arizona       0.217659  0.720443\n",
       "Rhode Island  0.356058  0.607680\n",
       "Texas         0.974327  0.385046\n",
       "\n",
       "[100 rows x 2 columns]"
      ]
     },
     "execution_count": 99,
     "metadata": {},
     "output_type": "execute_result"
    }
   ],
   "source": [
    "#new_df.iloc[:, columns]\n",
    "new_df.iloc[:, -2:]"
   ]
  },
  {
   "cell_type": "code",
   "execution_count": 100,
   "id": "24d36e1c-1320-4bf2-981f-4c352ed94f49",
   "metadata": {},
   "outputs": [
    {
     "data": {
      "text/plain": [
       "0.9585565625018238"
      ]
     },
     "execution_count": 100,
     "metadata": {},
     "output_type": "execute_result"
    }
   ],
   "source": [
    "#df.iloc[rows, cols]\n",
    "new_df.iloc[2, 4] #one item as a scalar"
   ]
  },
  {
   "cell_type": "code",
   "execution_count": 101,
   "id": "aa24b48e-e110-47d2-9437-5b4188ed14bf",
   "metadata": {},
   "outputs": [
    {
     "data": {
      "text/plain": [
       "late    0.958557\n",
       "Name: Mississippi, dtype: float64"
      ]
     },
     "execution_count": 101,
     "metadata": {},
     "output_type": "execute_result"
    }
   ],
   "source": [
    "#pattern is df.iloc[int, List[int]]\n",
    "new_df.iloc[2, [4]] #displays the index when we put the second item in a list"
   ]
  },
  {
   "cell_type": "code",
   "execution_count": 102,
   "id": "2c776777-24fd-49f8-8454-d9f9e18b5b5a",
   "metadata": {},
   "outputs": [
    {
     "data": {
      "text/plain": [
       "Mississippi    0.958557\n",
       "Name: late, dtype: float64"
      ]
     },
     "execution_count": 102,
     "metadata": {},
     "output_type": "execute_result"
    }
   ],
   "source": [
    "#pattern is df.iloc[List[int], int]\n",
    "new_df.iloc[[2], 4] #same as above "
   ]
  },
  {
   "cell_type": "code",
   "execution_count": 103,
   "id": "d51cfe0a-329b-476b-a05b-b8b8a02c84f2",
   "metadata": {},
   "outputs": [
    {
     "data": {
      "text/html": [
       "<div>\n",
       "<style scoped>\n",
       "    .dataframe tbody tr th:only-of-type {\n",
       "        vertical-align: middle;\n",
       "    }\n",
       "\n",
       "    .dataframe tbody tr th {\n",
       "        vertical-align: top;\n",
       "    }\n",
       "\n",
       "    .dataframe thead th {\n",
       "        text-align: right;\n",
       "    }\n",
       "</style>\n",
       "<table border=\"1\" class=\"dataframe\">\n",
       "  <thead>\n",
       "    <tr style=\"text-align: right;\">\n",
       "      <th></th>\n",
       "      <th>late</th>\n",
       "    </tr>\n",
       "  </thead>\n",
       "  <tbody>\n",
       "    <tr>\n",
       "      <th>Mississippi</th>\n",
       "      <td>0.958557</td>\n",
       "    </tr>\n",
       "  </tbody>\n",
       "</table>\n",
       "</div>"
      ],
      "text/plain": [
       "                 late\n",
       "Mississippi  0.958557"
      ]
     },
     "execution_count": 103,
     "metadata": {},
     "output_type": "execute_result"
    }
   ],
   "source": [
    "#pattern is df.iloc[List[int], List[int]]\n",
    "new_df.iloc[[2], [4]] #same as above "
   ]
  },
  {
   "cell_type": "code",
   "execution_count": 104,
   "id": "bd107b3d-eda1-4efa-803d-e85a23759c95",
   "metadata": {},
   "outputs": [
    {
     "data": {
      "text/html": [
       "<div>\n",
       "<style scoped>\n",
       "    .dataframe tbody tr th:only-of-type {\n",
       "        vertical-align: middle;\n",
       "    }\n",
       "\n",
       "    .dataframe tbody tr th {\n",
       "        vertical-align: top;\n",
       "    }\n",
       "\n",
       "    .dataframe thead th {\n",
       "        text-align: right;\n",
       "    }\n",
       "</style>\n",
       "<table border=\"1\" class=\"dataframe\">\n",
       "  <thead>\n",
       "    <tr style=\"text-align: right;\">\n",
       "      <th></th>\n",
       "      <th>late</th>\n",
       "    </tr>\n",
       "  </thead>\n",
       "  <tbody>\n",
       "    <tr>\n",
       "      <th>Mississippi</th>\n",
       "      <td>0.958557</td>\n",
       "    </tr>\n",
       "    <tr>\n",
       "      <th>Hawaii</th>\n",
       "      <td>0.665382</td>\n",
       "    </tr>\n",
       "  </tbody>\n",
       "</table>\n",
       "</div>"
      ],
      "text/plain": [
       "                 late\n",
       "Mississippi  0.958557\n",
       "Hawaii       0.665382"
      ]
     },
     "execution_count": 104,
     "metadata": {},
     "output_type": "execute_result"
    }
   ],
   "source": [
    "#pattern is df.iloc[List[int, int], List[int]]\n",
    "new_df.iloc[[2, 3], [4]] #dataframe with two rows one column"
   ]
  },
  {
   "cell_type": "code",
   "execution_count": 105,
   "id": "a323f5f1-8ecc-405f-af93-5aa62b6ee34b",
   "metadata": {},
   "outputs": [
    {
     "data": {
      "text/plain": [
       "late    0.958557\n",
       "TV      0.481227\n",
       "Name: Mississippi, dtype: float64"
      ]
     },
     "execution_count": 105,
     "metadata": {},
     "output_type": "execute_result"
    }
   ],
   "source": [
    "new_df.iloc[2, [4, 5]] #two items"
   ]
  },
  {
   "cell_type": "code",
   "execution_count": 106,
   "id": "1ff5e866-59f7-4e93-8777-f7f56fa3805d",
   "metadata": {},
   "outputs": [
    {
     "data": {
      "text/html": [
       "<div>\n",
       "<style scoped>\n",
       "    .dataframe tbody tr th:only-of-type {\n",
       "        vertical-align: middle;\n",
       "    }\n",
       "\n",
       "    .dataframe tbody tr th {\n",
       "        vertical-align: top;\n",
       "    }\n",
       "\n",
       "    .dataframe thead th {\n",
       "        text-align: right;\n",
       "    }\n",
       "</style>\n",
       "<table border=\"1\" class=\"dataframe\">\n",
       "  <thead>\n",
       "    <tr style=\"text-align: right;\">\n",
       "      <th></th>\n",
       "      <th>late</th>\n",
       "      <th>TV</th>\n",
       "    </tr>\n",
       "  </thead>\n",
       "  <tbody>\n",
       "    <tr>\n",
       "      <th>Mississippi</th>\n",
       "      <td>0.958557</td>\n",
       "      <td>0.481227</td>\n",
       "    </tr>\n",
       "  </tbody>\n",
       "</table>\n",
       "</div>"
      ],
      "text/plain": [
       "                 late        TV\n",
       "Mississippi  0.958557  0.481227"
      ]
     },
     "execution_count": 106,
     "metadata": {},
     "output_type": "execute_result"
    }
   ],
   "source": [
    "new_df.iloc[[2], [4, 5]] #DataFrame with two columns one row"
   ]
  },
  {
   "cell_type": "code",
   "execution_count": 107,
   "id": "9e10d362-ad50-4912-8998-c0396b033d6e",
   "metadata": {},
   "outputs": [
    {
     "data": {
      "text/html": [
       "<div>\n",
       "<style scoped>\n",
       "    .dataframe tbody tr th:only-of-type {\n",
       "        vertical-align: middle;\n",
       "    }\n",
       "\n",
       "    .dataframe tbody tr th {\n",
       "        vertical-align: top;\n",
       "    }\n",
       "\n",
       "    .dataframe thead th {\n",
       "        text-align: right;\n",
       "    }\n",
       "</style>\n",
       "<table border=\"1\" class=\"dataframe\">\n",
       "  <thead>\n",
       "    <tr style=\"text-align: right;\">\n",
       "      <th></th>\n",
       "      <th>late</th>\n",
       "      <th>TV</th>\n",
       "    </tr>\n",
       "  </thead>\n",
       "  <tbody>\n",
       "    <tr>\n",
       "      <th>Mississippi</th>\n",
       "      <td>0.958557</td>\n",
       "      <td>0.481227</td>\n",
       "    </tr>\n",
       "    <tr>\n",
       "      <th>New Mexico</th>\n",
       "      <td>0.782460</td>\n",
       "      <td>0.438871</td>\n",
       "    </tr>\n",
       "  </tbody>\n",
       "</table>\n",
       "</div>"
      ],
      "text/plain": [
       "                 late        TV\n",
       "Mississippi  0.958557  0.481227\n",
       "New Mexico   0.782460  0.438871"
      ]
     },
     "execution_count": 107,
     "metadata": {},
     "output_type": "execute_result"
    }
   ],
   "source": [
    "new_df.iloc[[2, 1], [4, 5]] #DataFrame with two "
   ]
  },
  {
   "cell_type": "code",
   "execution_count": 108,
   "id": "1950319f-cb58-4fdd-a8af-876b8d12c0d1",
   "metadata": {},
   "outputs": [
    {
     "data": {
      "text/html": [
       "<div>\n",
       "<style scoped>\n",
       "    .dataframe tbody tr th:only-of-type {\n",
       "        vertical-align: middle;\n",
       "    }\n",
       "\n",
       "    .dataframe tbody tr th {\n",
       "        vertical-align: top;\n",
       "    }\n",
       "\n",
       "    .dataframe thead th {\n",
       "        text-align: right;\n",
       "    }\n",
       "</style>\n",
       "<table border=\"1\" class=\"dataframe\">\n",
       "  <thead>\n",
       "    <tr style=\"text-align: right;\">\n",
       "      <th></th>\n",
       "      <th>physical</th>\n",
       "    </tr>\n",
       "  </thead>\n",
       "  <tbody>\n",
       "    <tr>\n",
       "      <th>New Jersey</th>\n",
       "      <td>0.043386</td>\n",
       "    </tr>\n",
       "    <tr>\n",
       "      <th>New Mexico</th>\n",
       "      <td>0.477877</td>\n",
       "    </tr>\n",
       "    <tr>\n",
       "      <th>Mississippi</th>\n",
       "      <td>0.281249</td>\n",
       "    </tr>\n",
       "    <tr>\n",
       "      <th>Hawaii</th>\n",
       "      <td>0.093033</td>\n",
       "    </tr>\n",
       "    <tr>\n",
       "      <th>Wyoming</th>\n",
       "      <td>0.969271</td>\n",
       "    </tr>\n",
       "    <tr>\n",
       "      <th>...</th>\n",
       "      <td>...</td>\n",
       "    </tr>\n",
       "    <tr>\n",
       "      <th>Minnesota</th>\n",
       "      <td>0.451889</td>\n",
       "    </tr>\n",
       "    <tr>\n",
       "      <th>Kentucky</th>\n",
       "      <td>0.882256</td>\n",
       "    </tr>\n",
       "    <tr>\n",
       "      <th>Arizona</th>\n",
       "      <td>0.478267</td>\n",
       "    </tr>\n",
       "    <tr>\n",
       "      <th>Rhode Island</th>\n",
       "      <td>0.237042</td>\n",
       "    </tr>\n",
       "    <tr>\n",
       "      <th>Texas</th>\n",
       "      <td>0.993134</td>\n",
       "    </tr>\n",
       "  </tbody>\n",
       "</table>\n",
       "<p>100 rows × 1 columns</p>\n",
       "</div>"
      ],
      "text/plain": [
       "              physical\n",
       "New Jersey    0.043386\n",
       "New Mexico    0.477877\n",
       "Mississippi   0.281249\n",
       "Hawaii        0.093033\n",
       "Wyoming       0.969271\n",
       "...                ...\n",
       "Minnesota     0.451889\n",
       "Kentucky      0.882256\n",
       "Arizona       0.478267\n",
       "Rhode Island  0.237042\n",
       "Texas         0.993134\n",
       "\n",
       "[100 rows x 1 columns]"
      ]
     },
     "execution_count": 108,
     "metadata": {},
     "output_type": "execute_result"
    }
   ],
   "source": [
    "#new_df.iloc[:, columns]\n",
    "new_df.iloc[:, [3]] #second item as a list makes a DataFrame"
   ]
  },
  {
   "cell_type": "code",
   "execution_count": 109,
   "id": "30363192-9011-42f6-9d0c-733ed262f3b7",
   "metadata": {},
   "outputs": [
    {
     "data": {
      "text/html": [
       "<div>\n",
       "<style scoped>\n",
       "    .dataframe tbody tr th:only-of-type {\n",
       "        vertical-align: middle;\n",
       "    }\n",
       "\n",
       "    .dataframe tbody tr th {\n",
       "        vertical-align: top;\n",
       "    }\n",
       "\n",
       "    .dataframe thead th {\n",
       "        text-align: right;\n",
       "    }\n",
       "</style>\n",
       "<table border=\"1\" class=\"dataframe\">\n",
       "  <thead>\n",
       "    <tr style=\"text-align: right;\">\n",
       "      <th></th>\n",
       "      <th>physical</th>\n",
       "    </tr>\n",
       "  </thead>\n",
       "  <tbody>\n",
       "    <tr>\n",
       "      <th>New Jersey</th>\n",
       "      <td>0.043386</td>\n",
       "    </tr>\n",
       "    <tr>\n",
       "      <th>New Mexico</th>\n",
       "      <td>0.477877</td>\n",
       "    </tr>\n",
       "    <tr>\n",
       "      <th>Mississippi</th>\n",
       "      <td>0.281249</td>\n",
       "    </tr>\n",
       "    <tr>\n",
       "      <th>Hawaii</th>\n",
       "      <td>0.093033</td>\n",
       "    </tr>\n",
       "    <tr>\n",
       "      <th>Wyoming</th>\n",
       "      <td>0.969271</td>\n",
       "    </tr>\n",
       "    <tr>\n",
       "      <th>...</th>\n",
       "      <td>...</td>\n",
       "    </tr>\n",
       "    <tr>\n",
       "      <th>Minnesota</th>\n",
       "      <td>0.451889</td>\n",
       "    </tr>\n",
       "    <tr>\n",
       "      <th>Kentucky</th>\n",
       "      <td>0.882256</td>\n",
       "    </tr>\n",
       "    <tr>\n",
       "      <th>Arizona</th>\n",
       "      <td>0.478267</td>\n",
       "    </tr>\n",
       "    <tr>\n",
       "      <th>Rhode Island</th>\n",
       "      <td>0.237042</td>\n",
       "    </tr>\n",
       "    <tr>\n",
       "      <th>Texas</th>\n",
       "      <td>0.993134</td>\n",
       "    </tr>\n",
       "  </tbody>\n",
       "</table>\n",
       "<p>100 rows × 1 columns</p>\n",
       "</div>"
      ],
      "text/plain": [
       "              physical\n",
       "New Jersey    0.043386\n",
       "New Mexico    0.477877\n",
       "Mississippi   0.281249\n",
       "Hawaii        0.093033\n",
       "Wyoming       0.969271\n",
       "...                ...\n",
       "Minnesota     0.451889\n",
       "Kentucky      0.882256\n",
       "Arizona       0.478267\n",
       "Rhode Island  0.237042\n",
       "Texas         0.993134\n",
       "\n",
       "[100 rows x 1 columns]"
      ]
     },
     "execution_count": 109,
     "metadata": {},
     "output_type": "execute_result"
    }
   ],
   "source": [
    "#new_df.iloc[:, columns]\n",
    "#pattern is new_df.iloc[..., List[int]]\n",
    "new_df.iloc[..., [3]] #second item as a list makes a DataFrame"
   ]
  },
  {
   "cell_type": "code",
   "execution_count": 110,
   "id": "ed1330fd-f3ce-4535-850e-0e6da99bd68f",
   "metadata": {},
   "outputs": [
    {
     "data": {
      "text/plain": [
       "0.043386192656261535"
      ]
     },
     "execution_count": 110,
     "metadata": {},
     "output_type": "execute_result"
    }
   ],
   "source": [
    "#df.at[row, col] #select a single scalar value by row and column label\n",
    "new_df.at['New Jersey', 'physical']"
   ]
  },
  {
   "cell_type": "code",
   "execution_count": 111,
   "id": "d1e6744c-4252-4659-8235-87502c1a6704",
   "metadata": {},
   "outputs": [
    {
     "data": {
      "text/plain": [
       "New Mexico    0.477877\n",
       "New Mexico    0.803991\n",
       "Name: physical, dtype: float64"
      ]
     },
     "execution_count": 111,
     "metadata": {},
     "output_type": "execute_result"
    }
   ],
   "source": [
    "#df.at doesn't work with lists, only individual values\n",
    "new_df.at['New Mexico', 'physical'] #returns more than one row if we have more than onel"
   ]
  },
  {
   "cell_type": "code",
   "execution_count": 112,
   "id": "4fd0a64a-616f-4003-8c8a-f7873f98313c",
   "metadata": {},
   "outputs": [
    {
     "data": {
      "text/plain": [
       "0.33922340224421765"
      ]
     },
     "execution_count": 112,
     "metadata": {},
     "output_type": "execute_result"
    }
   ],
   "source": [
    "#df.iat[row, column]\n",
    "new_df.iat[0, 0]"
   ]
  },
  {
   "cell_type": "code",
   "execution_count": 113,
   "id": "a8291096-723d-4ddb-8f04-58c047c46093",
   "metadata": {},
   "outputs": [
    {
     "data": {
      "text/plain": [
       "0.3850457495389401"
      ]
     },
     "execution_count": 113,
     "metadata": {},
     "output_type": "execute_result"
    }
   ],
   "source": [
    "#df.iat[row, column]\n",
    "new_df.iat[-1, -1]"
   ]
  },
  {
   "cell_type": "code",
   "execution_count": 114,
   "id": "a26782a9-761f-40e3-880b-54390cdd16bf",
   "metadata": {},
   "outputs": [
    {
     "name": "stdout",
     "output_type": "stream",
     "text": [
      "columns Index(['get', 'only', 'chair', 'physical', 'late', 'TV', 'body', 'meeting',\n",
      "       'present', 'left'],\n",
      "      dtype='object')\n"
     ]
    }
   ],
   "source": [
    "#df.reindex method : select either rows or columns by their labels\n",
    "print('columns', new_df.columns)"
   ]
  },
  {
   "cell_type": "code",
   "execution_count": 115,
   "id": "10f1784e-e6f5-4afc-a7ad-5ee3049ab763",
   "metadata": {},
   "outputs": [
    {
     "data": {
      "text/html": [
       "<div>\n",
       "<style scoped>\n",
       "    .dataframe tbody tr th:only-of-type {\n",
       "        vertical-align: middle;\n",
       "    }\n",
       "\n",
       "    .dataframe tbody tr th {\n",
       "        vertical-align: top;\n",
       "    }\n",
       "\n",
       "    .dataframe thead th {\n",
       "        text-align: right;\n",
       "    }\n",
       "</style>\n",
       "<table border=\"1\" class=\"dataframe\">\n",
       "  <thead>\n",
       "    <tr style=\"text-align: right;\">\n",
       "      <th></th>\n",
       "      <th>get</th>\n",
       "      <th>only</th>\n",
       "      <th>chair</th>\n",
       "    </tr>\n",
       "  </thead>\n",
       "  <tbody>\n",
       "    <tr>\n",
       "      <th>New Jersey</th>\n",
       "      <td>0.339223</td>\n",
       "      <td>0.236549</td>\n",
       "      <td>0.991752</td>\n",
       "    </tr>\n",
       "    <tr>\n",
       "      <th>New Mexico</th>\n",
       "      <td>0.064989</td>\n",
       "      <td>0.011366</td>\n",
       "      <td>0.511570</td>\n",
       "    </tr>\n",
       "    <tr>\n",
       "      <th>Mississippi</th>\n",
       "      <td>0.264330</td>\n",
       "      <td>0.705405</td>\n",
       "      <td>0.382694</td>\n",
       "    </tr>\n",
       "    <tr>\n",
       "      <th>Hawaii</th>\n",
       "      <td>0.378321</td>\n",
       "      <td>0.000860</td>\n",
       "      <td>0.855853</td>\n",
       "    </tr>\n",
       "    <tr>\n",
       "      <th>Wyoming</th>\n",
       "      <td>0.403087</td>\n",
       "      <td>0.769777</td>\n",
       "      <td>0.671552</td>\n",
       "    </tr>\n",
       "    <tr>\n",
       "      <th>...</th>\n",
       "      <td>...</td>\n",
       "      <td>...</td>\n",
       "      <td>...</td>\n",
       "    </tr>\n",
       "    <tr>\n",
       "      <th>Minnesota</th>\n",
       "      <td>0.685359</td>\n",
       "      <td>0.925600</td>\n",
       "      <td>0.596628</td>\n",
       "    </tr>\n",
       "    <tr>\n",
       "      <th>Kentucky</th>\n",
       "      <td>0.412090</td>\n",
       "      <td>0.942167</td>\n",
       "      <td>0.993722</td>\n",
       "    </tr>\n",
       "    <tr>\n",
       "      <th>Arizona</th>\n",
       "      <td>0.826082</td>\n",
       "      <td>0.481026</td>\n",
       "      <td>0.242528</td>\n",
       "    </tr>\n",
       "    <tr>\n",
       "      <th>Rhode Island</th>\n",
       "      <td>0.795805</td>\n",
       "      <td>0.241980</td>\n",
       "      <td>0.837024</td>\n",
       "    </tr>\n",
       "    <tr>\n",
       "      <th>Texas</th>\n",
       "      <td>0.454632</td>\n",
       "      <td>0.544460</td>\n",
       "      <td>0.273260</td>\n",
       "    </tr>\n",
       "  </tbody>\n",
       "</table>\n",
       "<p>100 rows × 3 columns</p>\n",
       "</div>"
      ],
      "text/plain": [
       "                   get      only     chair\n",
       "New Jersey    0.339223  0.236549  0.991752\n",
       "New Mexico    0.064989  0.011366  0.511570\n",
       "Mississippi   0.264330  0.705405  0.382694\n",
       "Hawaii        0.378321  0.000860  0.855853\n",
       "Wyoming       0.403087  0.769777  0.671552\n",
       "...                ...       ...       ...\n",
       "Minnesota     0.685359  0.925600  0.596628\n",
       "Kentucky      0.412090  0.942167  0.993722\n",
       "Arizona       0.826082  0.481026  0.242528\n",
       "Rhode Island  0.795805  0.241980  0.837024\n",
       "Texas         0.454632  0.544460  0.273260\n",
       "\n",
       "[100 rows x 3 columns]"
      ]
     },
     "execution_count": 115,
     "metadata": {},
     "output_type": "execute_result"
    }
   ],
   "source": [
    "new_df.reindex(['get', 'only', 'chair'], axis=1)"
   ]
  },
  {
   "cell_type": "code",
   "execution_count": 116,
   "id": "b95b4694-4c42-42f7-9ab3-e9addcac1549",
   "metadata": {},
   "outputs": [
    {
     "data": {
      "text/html": [
       "<div>\n",
       "<style scoped>\n",
       "    .dataframe tbody tr th:only-of-type {\n",
       "        vertical-align: middle;\n",
       "    }\n",
       "\n",
       "    .dataframe tbody tr th {\n",
       "        vertical-align: top;\n",
       "    }\n",
       "\n",
       "    .dataframe thead th {\n",
       "        text-align: right;\n",
       "    }\n",
       "</style>\n",
       "<table border=\"1\" class=\"dataframe\">\n",
       "  <thead>\n",
       "    <tr style=\"text-align: right;\">\n",
       "      <th></th>\n",
       "      <th>get</th>\n",
       "      <th>only</th>\n",
       "      <th>chair</th>\n",
       "    </tr>\n",
       "  </thead>\n",
       "  <tbody>\n",
       "    <tr>\n",
       "      <th>New Jersey</th>\n",
       "      <td>0.339223</td>\n",
       "      <td>0.236549</td>\n",
       "      <td>0.991752</td>\n",
       "    </tr>\n",
       "    <tr>\n",
       "      <th>New Mexico</th>\n",
       "      <td>0.064989</td>\n",
       "      <td>0.011366</td>\n",
       "      <td>0.511570</td>\n",
       "    </tr>\n",
       "    <tr>\n",
       "      <th>Mississippi</th>\n",
       "      <td>0.264330</td>\n",
       "      <td>0.705405</td>\n",
       "      <td>0.382694</td>\n",
       "    </tr>\n",
       "    <tr>\n",
       "      <th>Hawaii</th>\n",
       "      <td>0.378321</td>\n",
       "      <td>0.000860</td>\n",
       "      <td>0.855853</td>\n",
       "    </tr>\n",
       "    <tr>\n",
       "      <th>Wyoming</th>\n",
       "      <td>0.403087</td>\n",
       "      <td>0.769777</td>\n",
       "      <td>0.671552</td>\n",
       "    </tr>\n",
       "    <tr>\n",
       "      <th>...</th>\n",
       "      <td>...</td>\n",
       "      <td>...</td>\n",
       "      <td>...</td>\n",
       "    </tr>\n",
       "    <tr>\n",
       "      <th>Minnesota</th>\n",
       "      <td>0.685359</td>\n",
       "      <td>0.925600</td>\n",
       "      <td>0.596628</td>\n",
       "    </tr>\n",
       "    <tr>\n",
       "      <th>Kentucky</th>\n",
       "      <td>0.412090</td>\n",
       "      <td>0.942167</td>\n",
       "      <td>0.993722</td>\n",
       "    </tr>\n",
       "    <tr>\n",
       "      <th>Arizona</th>\n",
       "      <td>0.826082</td>\n",
       "      <td>0.481026</td>\n",
       "      <td>0.242528</td>\n",
       "    </tr>\n",
       "    <tr>\n",
       "      <th>Rhode Island</th>\n",
       "      <td>0.795805</td>\n",
       "      <td>0.241980</td>\n",
       "      <td>0.837024</td>\n",
       "    </tr>\n",
       "    <tr>\n",
       "      <th>Texas</th>\n",
       "      <td>0.454632</td>\n",
       "      <td>0.544460</td>\n",
       "      <td>0.273260</td>\n",
       "    </tr>\n",
       "  </tbody>\n",
       "</table>\n",
       "<p>100 rows × 3 columns</p>\n",
       "</div>"
      ],
      "text/plain": [
       "                   get      only     chair\n",
       "New Jersey    0.339223  0.236549  0.991752\n",
       "New Mexico    0.064989  0.011366  0.511570\n",
       "Mississippi   0.264330  0.705405  0.382694\n",
       "Hawaii        0.378321  0.000860  0.855853\n",
       "Wyoming       0.403087  0.769777  0.671552\n",
       "...                ...       ...       ...\n",
       "Minnesota     0.685359  0.925600  0.596628\n",
       "Kentucky      0.412090  0.942167  0.993722\n",
       "Arizona       0.826082  0.481026  0.242528\n",
       "Rhode Island  0.795805  0.241980  0.837024\n",
       "Texas         0.454632  0.544460  0.273260\n",
       "\n",
       "[100 rows x 3 columns]"
      ]
     },
     "execution_count": 116,
     "metadata": {},
     "output_type": "execute_result"
    }
   ],
   "source": [
    "new_df.reindex(['get', 'only', 'chair'], axis=1)"
   ]
  },
  {
   "cell_type": "code",
   "execution_count": 117,
   "id": "d2262c79-f21e-4d0a-beb6-eda2274a341e",
   "metadata": {},
   "outputs": [
    {
     "data": {
      "text/html": [
       "<div>\n",
       "<style scoped>\n",
       "    .dataframe tbody tr th:only-of-type {\n",
       "        vertical-align: middle;\n",
       "    }\n",
       "\n",
       "    .dataframe tbody tr th {\n",
       "        vertical-align: top;\n",
       "    }\n",
       "\n",
       "    .dataframe thead th {\n",
       "        text-align: right;\n",
       "    }\n",
       "</style>\n",
       "<table border=\"1\" class=\"dataframe\">\n",
       "  <thead>\n",
       "    <tr style=\"text-align: right;\">\n",
       "      <th></th>\n",
       "      <th>get</th>\n",
       "      <th>only</th>\n",
       "      <th>chair</th>\n",
       "    </tr>\n",
       "  </thead>\n",
       "  <tbody>\n",
       "    <tr>\n",
       "      <th>New Jersey</th>\n",
       "      <td>0.339223</td>\n",
       "      <td>0.236549</td>\n",
       "      <td>0.991752</td>\n",
       "    </tr>\n",
       "    <tr>\n",
       "      <th>New Mexico</th>\n",
       "      <td>0.064989</td>\n",
       "      <td>0.011366</td>\n",
       "      <td>0.511570</td>\n",
       "    </tr>\n",
       "    <tr>\n",
       "      <th>Mississippi</th>\n",
       "      <td>0.264330</td>\n",
       "      <td>0.705405</td>\n",
       "      <td>0.382694</td>\n",
       "    </tr>\n",
       "    <tr>\n",
       "      <th>Hawaii</th>\n",
       "      <td>0.378321</td>\n",
       "      <td>0.000860</td>\n",
       "      <td>0.855853</td>\n",
       "    </tr>\n",
       "    <tr>\n",
       "      <th>Wyoming</th>\n",
       "      <td>0.403087</td>\n",
       "      <td>0.769777</td>\n",
       "      <td>0.671552</td>\n",
       "    </tr>\n",
       "    <tr>\n",
       "      <th>...</th>\n",
       "      <td>...</td>\n",
       "      <td>...</td>\n",
       "      <td>...</td>\n",
       "    </tr>\n",
       "    <tr>\n",
       "      <th>Minnesota</th>\n",
       "      <td>0.685359</td>\n",
       "      <td>0.925600</td>\n",
       "      <td>0.596628</td>\n",
       "    </tr>\n",
       "    <tr>\n",
       "      <th>Kentucky</th>\n",
       "      <td>0.412090</td>\n",
       "      <td>0.942167</td>\n",
       "      <td>0.993722</td>\n",
       "    </tr>\n",
       "    <tr>\n",
       "      <th>Arizona</th>\n",
       "      <td>0.826082</td>\n",
       "      <td>0.481026</td>\n",
       "      <td>0.242528</td>\n",
       "    </tr>\n",
       "    <tr>\n",
       "      <th>Rhode Island</th>\n",
       "      <td>0.795805</td>\n",
       "      <td>0.241980</td>\n",
       "      <td>0.837024</td>\n",
       "    </tr>\n",
       "    <tr>\n",
       "      <th>Texas</th>\n",
       "      <td>0.454632</td>\n",
       "      <td>0.544460</td>\n",
       "      <td>0.273260</td>\n",
       "    </tr>\n",
       "  </tbody>\n",
       "</table>\n",
       "<p>100 rows × 3 columns</p>\n",
       "</div>"
      ],
      "text/plain": [
       "                   get      only     chair\n",
       "New Jersey    0.339223  0.236549  0.991752\n",
       "New Mexico    0.064989  0.011366  0.511570\n",
       "Mississippi   0.264330  0.705405  0.382694\n",
       "Hawaii        0.378321  0.000860  0.855853\n",
       "Wyoming       0.403087  0.769777  0.671552\n",
       "...                ...       ...       ...\n",
       "Minnesota     0.685359  0.925600  0.596628\n",
       "Kentucky      0.412090  0.942167  0.993722\n",
       "Arizona       0.826082  0.481026  0.242528\n",
       "Rhode Island  0.795805  0.241980  0.837024\n",
       "Texas         0.454632  0.544460  0.273260\n",
       "\n",
       "[100 rows x 3 columns]"
      ]
     },
     "execution_count": 117,
     "metadata": {},
     "output_type": "execute_result"
    }
   ],
   "source": [
    "first_three_columns = ['get', 'only', 'chair']\n",
    "new_df.reindex(first_three_columns, axis='columns') #use reindex to effectively drop rows"
   ]
  },
  {
   "cell_type": "code",
   "execution_count": 118,
   "id": "8473c078-d0d8-468b-bf3f-9f454a8ed9f7",
   "metadata": {},
   "outputs": [
    {
     "data": {
      "text/html": [
       "<div>\n",
       "<style scoped>\n",
       "    .dataframe tbody tr th:only-of-type {\n",
       "        vertical-align: middle;\n",
       "    }\n",
       "\n",
       "    .dataframe tbody tr th {\n",
       "        vertical-align: top;\n",
       "    }\n",
       "\n",
       "    .dataframe thead th {\n",
       "        text-align: right;\n",
       "    }\n",
       "</style>\n",
       "<table border=\"1\" class=\"dataframe\">\n",
       "  <thead>\n",
       "    <tr style=\"text-align: right;\">\n",
       "      <th></th>\n",
       "      <th>get</th>\n",
       "      <th>only</th>\n",
       "      <th>chair</th>\n",
       "    </tr>\n",
       "  </thead>\n",
       "  <tbody>\n",
       "    <tr>\n",
       "      <th>New Jersey</th>\n",
       "      <td>0.339223</td>\n",
       "      <td>0.236549</td>\n",
       "      <td>0.991752</td>\n",
       "    </tr>\n",
       "    <tr>\n",
       "      <th>New Mexico</th>\n",
       "      <td>0.064989</td>\n",
       "      <td>0.011366</td>\n",
       "      <td>0.511570</td>\n",
       "    </tr>\n",
       "    <tr>\n",
       "      <th>Mississippi</th>\n",
       "      <td>0.264330</td>\n",
       "      <td>0.705405</td>\n",
       "      <td>0.382694</td>\n",
       "    </tr>\n",
       "    <tr>\n",
       "      <th>Hawaii</th>\n",
       "      <td>0.378321</td>\n",
       "      <td>0.000860</td>\n",
       "      <td>0.855853</td>\n",
       "    </tr>\n",
       "    <tr>\n",
       "      <th>Wyoming</th>\n",
       "      <td>0.403087</td>\n",
       "      <td>0.769777</td>\n",
       "      <td>0.671552</td>\n",
       "    </tr>\n",
       "    <tr>\n",
       "      <th>...</th>\n",
       "      <td>...</td>\n",
       "      <td>...</td>\n",
       "      <td>...</td>\n",
       "    </tr>\n",
       "    <tr>\n",
       "      <th>Minnesota</th>\n",
       "      <td>0.685359</td>\n",
       "      <td>0.925600</td>\n",
       "      <td>0.596628</td>\n",
       "    </tr>\n",
       "    <tr>\n",
       "      <th>Kentucky</th>\n",
       "      <td>0.412090</td>\n",
       "      <td>0.942167</td>\n",
       "      <td>0.993722</td>\n",
       "    </tr>\n",
       "    <tr>\n",
       "      <th>Arizona</th>\n",
       "      <td>0.826082</td>\n",
       "      <td>0.481026</td>\n",
       "      <td>0.242528</td>\n",
       "    </tr>\n",
       "    <tr>\n",
       "      <th>Rhode Island</th>\n",
       "      <td>0.795805</td>\n",
       "      <td>0.241980</td>\n",
       "      <td>0.837024</td>\n",
       "    </tr>\n",
       "    <tr>\n",
       "      <th>Texas</th>\n",
       "      <td>0.454632</td>\n",
       "      <td>0.544460</td>\n",
       "      <td>0.273260</td>\n",
       "    </tr>\n",
       "  </tbody>\n",
       "</table>\n",
       "<p>100 rows × 3 columns</p>\n",
       "</div>"
      ],
      "text/plain": [
       "                   get      only     chair\n",
       "New Jersey    0.339223  0.236549  0.991752\n",
       "New Mexico    0.064989  0.011366  0.511570\n",
       "Mississippi   0.264330  0.705405  0.382694\n",
       "Hawaii        0.378321  0.000860  0.855853\n",
       "Wyoming       0.403087  0.769777  0.671552\n",
       "...                ...       ...       ...\n",
       "Minnesota     0.685359  0.925600  0.596628\n",
       "Kentucky      0.412090  0.942167  0.993722\n",
       "Arizona       0.826082  0.481026  0.242528\n",
       "Rhode Island  0.795805  0.241980  0.837024\n",
       "Texas         0.454632  0.544460  0.273260\n",
       "\n",
       "[100 rows x 3 columns]"
      ]
     },
     "execution_count": 118,
     "metadata": {},
     "output_type": "execute_result"
    }
   ],
   "source": [
    "first_three_columns = ['get', 'only', 'chair']\n",
    "new_df.reindex(first_three_columns, axis=1)"
   ]
  },
  {
   "cell_type": "code",
   "execution_count": 119,
   "id": "af6f3ba0-4fb6-4bc5-a34c-8522c631fa17",
   "metadata": {},
   "outputs": [
    {
     "name": "stderr",
     "output_type": "stream",
     "text": [
      "/var/folders/kz/gdzfkm910wq4p613kw6rbgw40000gn/T/ipykernel_1181/658422002.py:4: FutureWarning: reindexing with a non-unique Index is deprecated and will raise in a future version.\n",
      "  new_df.reindex(first_three_states, axis=0)\n",
      "CRITICAL:root:cannot reindex on an axis with duplicate labels\n"
     ]
    }
   ],
   "source": [
    "#if we have an index with duplicate labels, than we cannot reindex\n",
    "try:\n",
    "    first_three_states = ['Alabama', 'Alaska', 'Arizona']\n",
    "    new_df.reindex(first_three_states, axis=0)\n",
    "except ValueError as e:\n",
    "    logging.critical(e)"
   ]
  },
  {
   "cell_type": "code",
   "execution_count": 120,
   "id": "1cd86620-477a-4032-87eb-8cc956c55a4e",
   "metadata": {},
   "outputs": [
    {
     "data": {
      "text/plain": [
       "0    0.0\n",
       "1    1.0\n",
       "2    2.0\n",
       "dtype: float64"
      ]
     },
     "execution_count": 120,
     "metadata": {},
     "output_type": "execute_result"
    }
   ],
   "source": [
    "#integer indexing pitfalls and issues: Pandas cannot tell if an Integer Index is label-based\n",
    "#or position-based. Therefore, Pandas treats integer indices as label-based to be safe\n",
    "#the code below will raise an error\n",
    "ser = pd.Series(np.arange(3.))\n",
    "ser"
   ]
  },
  {
   "cell_type": "code",
   "execution_count": 121,
   "id": "d850b3ae-d137-469f-a41e-855b3c679f11",
   "metadata": {},
   "outputs": [
    {
     "name": "stderr",
     "output_type": "stream",
     "text": [
      "CRITICAL:root:-1\n"
     ]
    }
   ],
   "source": [
    "try:\n",
    "    ser[-1]\n",
    "except KeyError as e:\n",
    "    logging.critical(e)"
   ]
  },
  {
   "cell_type": "code",
   "execution_count": 122,
   "id": "ae12c241-f7fa-4c02-9c01-8984e10f832a",
   "metadata": {},
   "outputs": [
    {
     "data": {
      "text/plain": [
       "0    0.0\n",
       "1    1.0\n",
       "2    2.0\n",
       "dtype: float64"
      ]
     },
     "execution_count": 122,
     "metadata": {},
     "output_type": "execute_result"
    }
   ],
   "source": [
    "ser #pandas doesn't want to guess if it is label or integer based indexing"
   ]
  },
  {
   "cell_type": "code",
   "execution_count": 123,
   "id": "3ce965c8-1a51-4919-89cb-a1584b98faa9",
   "metadata": {},
   "outputs": [
    {
     "data": {
      "text/plain": [
       "a    0.0\n",
       "b    1.0\n",
       "c    2.0\n",
       "dtype: float64"
      ]
     },
     "execution_count": 123,
     "metadata": {},
     "output_type": "execute_result"
    }
   ],
   "source": [
    "#noninteger index does not have this ambiguity\n",
    "ser2 = pd.Series(np.arange(3.), index=['a', 'b', 'c'])\n",
    "ser2"
   ]
  },
  {
   "cell_type": "code",
   "execution_count": 124,
   "id": "2a838b89-38d5-456b-aee3-7a32187884b7",
   "metadata": {},
   "outputs": [
    {
     "data": {
      "text/plain": [
       "2.0"
      ]
     },
     "execution_count": 124,
     "metadata": {},
     "output_type": "execute_result"
    }
   ],
   "source": [
    "#this won't have this problem\n",
    "ser2[-1]"
   ]
  },
  {
   "cell_type": "code",
   "execution_count": 125,
   "id": "3c3fd4a2-242a-4e7d-9ad1-e315738ccc61",
   "metadata": {},
   "outputs": [
    {
     "data": {
      "text/plain": [
       "2.0"
      ]
     },
     "execution_count": 125,
     "metadata": {},
     "output_type": "execute_result"
    }
   ],
   "source": [
    "#use loc or iloc to index an axis with integers\n",
    "ser.iloc[-1]"
   ]
  },
  {
   "cell_type": "code",
   "execution_count": 126,
   "id": "71e5493f-eaff-4fde-a46c-06f0db8f17c0",
   "metadata": {},
   "outputs": [
    {
     "data": {
      "text/plain": [
       "0    0.0\n",
       "1    1.0\n",
       "dtype: float64"
      ]
     },
     "execution_count": 126,
     "metadata": {},
     "output_type": "execute_result"
    }
   ],
   "source": [
    "#slicing with integers always is integer-oriented\n",
    "ser[:2]\n",
    "#AVOID AMBIGUITY: Use .loc and .iloc"
   ]
  },
  {
   "cell_type": "code",
   "execution_count": 127,
   "id": "e253ced9-8120-4f70-bcac-b0d5d4e10a25",
   "metadata": {},
   "outputs": [
    {
     "data": {
      "text/html": [
       "<div>\n",
       "<style scoped>\n",
       "    .dataframe tbody tr th:only-of-type {\n",
       "        vertical-align: middle;\n",
       "    }\n",
       "\n",
       "    .dataframe tbody tr th {\n",
       "        vertical-align: top;\n",
       "    }\n",
       "\n",
       "    .dataframe thead th {\n",
       "        text-align: right;\n",
       "    }\n",
       "</style>\n",
       "<table border=\"1\" class=\"dataframe\">\n",
       "  <thead>\n",
       "    <tr style=\"text-align: right;\">\n",
       "      <th></th>\n",
       "      <th>one</th>\n",
       "      <th>two</th>\n",
       "      <th>three</th>\n",
       "      <th>four</th>\n",
       "    </tr>\n",
       "  </thead>\n",
       "  <tbody>\n",
       "    <tr>\n",
       "      <th>Ohio</th>\n",
       "      <td>0</td>\n",
       "      <td>0</td>\n",
       "      <td>0</td>\n",
       "      <td>0</td>\n",
       "    </tr>\n",
       "    <tr>\n",
       "      <th>Colorado</th>\n",
       "      <td>0</td>\n",
       "      <td>5</td>\n",
       "      <td>6</td>\n",
       "      <td>7</td>\n",
       "    </tr>\n",
       "    <tr>\n",
       "      <th>Utah</th>\n",
       "      <td>8</td>\n",
       "      <td>9</td>\n",
       "      <td>10</td>\n",
       "      <td>11</td>\n",
       "    </tr>\n",
       "    <tr>\n",
       "      <th>New York</th>\n",
       "      <td>12</td>\n",
       "      <td>13</td>\n",
       "      <td>14</td>\n",
       "      <td>15</td>\n",
       "    </tr>\n",
       "  </tbody>\n",
       "</table>\n",
       "</div>"
      ],
      "text/plain": [
       "          one  two  three  four\n",
       "Ohio        0    0      0     0\n",
       "Colorado    0    5      6     7\n",
       "Utah        8    9     10    11\n",
       "New York   12   13     14    15"
      ]
     },
     "execution_count": 127,
     "metadata": {},
     "output_type": "execute_result"
    }
   ],
   "source": [
    "#Chained indexing pitfalls:\n",
    "#1a) view DataFrame before modification\n",
    "data"
   ]
  },
  {
   "cell_type": "code",
   "execution_count": 128,
   "id": "4d86bd07-5af5-4d88-9d41-6f6b0f85a24d",
   "metadata": {},
   "outputs": [
    {
     "data": {
      "text/plain": [
       "Ohio         0\n",
       "Colorado     0\n",
       "Utah         8\n",
       "New York    12\n",
       "Name: one, dtype: int64"
      ]
     },
     "execution_count": 128,
     "metadata": {},
     "output_type": "execute_result"
    }
   ],
   "source": [
    "#Note: data['one'] access the column directly with a label.\n",
    "data['one']"
   ]
  },
  {
   "cell_type": "code",
   "execution_count": 129,
   "id": "5eeb83ea-f7db-4c24-b8e3-798a4c5cb59a",
   "metadata": {},
   "outputs": [
    {
     "data": {
      "text/plain": [
       "Ohio         0\n",
       "Colorado     0\n",
       "Utah         8\n",
       "New York    12\n",
       "Name: one, dtype: int64"
      ]
     },
     "execution_count": 129,
     "metadata": {},
     "output_type": "execute_result"
    }
   ],
   "source": [
    "#1b) View data in its original form.\n",
    "data.loc[:, 'one']"
   ]
  },
  {
   "cell_type": "code",
   "execution_count": 130,
   "id": "9d8a2508-cc4e-4881-bb83-248b9289faf1",
   "metadata": {},
   "outputs": [],
   "source": [
    "#1c) Assign every item in column \"one\" to the value of 1.\n",
    "data.loc[:, 'one'] = 1"
   ]
  },
  {
   "cell_type": "code",
   "execution_count": 131,
   "id": "12f0211c-ad56-4fc5-b6f6-f8edd451d456",
   "metadata": {},
   "outputs": [
    {
     "data": {
      "text/html": [
       "<div>\n",
       "<style scoped>\n",
       "    .dataframe tbody tr th:only-of-type {\n",
       "        vertical-align: middle;\n",
       "    }\n",
       "\n",
       "    .dataframe tbody tr th {\n",
       "        vertical-align: top;\n",
       "    }\n",
       "\n",
       "    .dataframe thead th {\n",
       "        text-align: right;\n",
       "    }\n",
       "</style>\n",
       "<table border=\"1\" class=\"dataframe\">\n",
       "  <thead>\n",
       "    <tr style=\"text-align: right;\">\n",
       "      <th></th>\n",
       "      <th>one</th>\n",
       "      <th>two</th>\n",
       "      <th>three</th>\n",
       "      <th>four</th>\n",
       "    </tr>\n",
       "  </thead>\n",
       "  <tbody>\n",
       "    <tr>\n",
       "      <th>Ohio</th>\n",
       "      <td>1</td>\n",
       "      <td>0</td>\n",
       "      <td>0</td>\n",
       "      <td>0</td>\n",
       "    </tr>\n",
       "    <tr>\n",
       "      <th>Colorado</th>\n",
       "      <td>1</td>\n",
       "      <td>5</td>\n",
       "      <td>6</td>\n",
       "      <td>7</td>\n",
       "    </tr>\n",
       "    <tr>\n",
       "      <th>Utah</th>\n",
       "      <td>1</td>\n",
       "      <td>9</td>\n",
       "      <td>10</td>\n",
       "      <td>11</td>\n",
       "    </tr>\n",
       "    <tr>\n",
       "      <th>New York</th>\n",
       "      <td>1</td>\n",
       "      <td>13</td>\n",
       "      <td>14</td>\n",
       "      <td>15</td>\n",
       "    </tr>\n",
       "  </tbody>\n",
       "</table>\n",
       "</div>"
      ],
      "text/plain": [
       "          one  two  three  four\n",
       "Ohio        1    0      0     0\n",
       "Colorado    1    5      6     7\n",
       "Utah        1    9     10    11\n",
       "New York    1   13     14    15"
      ]
     },
     "execution_count": 131,
     "metadata": {},
     "output_type": "execute_result"
    }
   ],
   "source": [
    "#1d) View modified data\n",
    "data #every item in the DataFrame is set to one"
   ]
  },
  {
   "cell_type": "code",
   "execution_count": 132,
   "id": "db425536-e626-42c0-a8ea-a6583a601641",
   "metadata": {},
   "outputs": [
    {
     "data": {
      "text/plain": [
       "one       1\n",
       "two       9\n",
       "three    10\n",
       "four     11\n",
       "Name: Utah, dtype: int64"
      ]
     },
     "execution_count": 132,
     "metadata": {},
     "output_type": "execute_result"
    }
   ],
   "source": [
    "#2) Here we set each value in row number 2 (starting from 0, named \"Utah\") to 5. \n",
    "#2a) View data in its original form\n",
    "data.iloc[2]"
   ]
  },
  {
   "cell_type": "code",
   "execution_count": 133,
   "id": "407e325a-888e-4d8e-be6c-c514f7c7c2c1",
   "metadata": {},
   "outputs": [],
   "source": [
    "#2) Set the value of each item in row 2 (starting from 0, named \"Utah\") to 5.\n",
    "#2b) Code that sets the value in place\n",
    "data.iloc[2] = 5"
   ]
  },
  {
   "cell_type": "code",
   "execution_count": 134,
   "id": "8e1655c0-a097-4813-a8e8-b8ab436ff9b5",
   "metadata": {},
   "outputs": [
    {
     "data": {
      "text/plain": [
       "one      5\n",
       "two      5\n",
       "three    5\n",
       "four     5\n",
       "Name: Utah, dtype: int64"
      ]
     },
     "execution_count": 134,
     "metadata": {},
     "output_type": "execute_result"
    }
   ],
   "source": [
    "#2b) Just as a note, we can get the exact same view of column three by using data.loc['Utah'].\n",
    "data.loc['Utah']"
   ]
  },
  {
   "cell_type": "code",
   "execution_count": 135,
   "id": "de93a18e-5df9-413d-bc9b-e501432f22ac",
   "metadata": {},
   "outputs": [
    {
     "data": {
      "text/plain": [
       "Ohio        False\n",
       "Colorado     True\n",
       "Utah        False\n",
       "New York     True\n",
       "Name: four, dtype: bool"
      ]
     },
     "execution_count": 135,
     "metadata": {},
     "output_type": "execute_result"
    }
   ],
   "source": [
    "#3a) To illustrate what is happening, let's view the boolean array we use for indexing\n",
    "data['four'] > 5 #take the column labelled \"four\" and return a boolean series. True if the row value is\n",
    "#greater than five, false if it is not. \n"
   ]
  },
  {
   "cell_type": "code",
   "execution_count": 136,
   "id": "8b77d40b-3a93-4c29-af64-a47696818471",
   "metadata": {},
   "outputs": [
    {
     "data": {
      "text/html": [
       "<div>\n",
       "<style scoped>\n",
       "    .dataframe tbody tr th:only-of-type {\n",
       "        vertical-align: middle;\n",
       "    }\n",
       "\n",
       "    .dataframe tbody tr th {\n",
       "        vertical-align: top;\n",
       "    }\n",
       "\n",
       "    .dataframe thead th {\n",
       "        text-align: right;\n",
       "    }\n",
       "</style>\n",
       "<table border=\"1\" class=\"dataframe\">\n",
       "  <thead>\n",
       "    <tr style=\"text-align: right;\">\n",
       "      <th></th>\n",
       "      <th>one</th>\n",
       "      <th>two</th>\n",
       "      <th>three</th>\n",
       "      <th>four</th>\n",
       "    </tr>\n",
       "  </thead>\n",
       "  <tbody>\n",
       "    <tr>\n",
       "      <th>Colorado</th>\n",
       "      <td>1</td>\n",
       "      <td>5</td>\n",
       "      <td>6</td>\n",
       "      <td>7</td>\n",
       "    </tr>\n",
       "    <tr>\n",
       "      <th>New York</th>\n",
       "      <td>1</td>\n",
       "      <td>13</td>\n",
       "      <td>14</td>\n",
       "      <td>15</td>\n",
       "    </tr>\n",
       "  </tbody>\n",
       "</table>\n",
       "</div>"
      ],
      "text/plain": [
       "          one  two  three  four\n",
       "Colorado    1    5      6     7\n",
       "New York    1   13     14    15"
      ]
     },
     "execution_count": 136,
     "metadata": {},
     "output_type": "execute_result"
    }
   ],
   "source": [
    "#3b) To further illustrate what is happening, let's get the rows where the value of column 'four' is >= 5\n",
    "data.loc[data['four'] > 5] #notice we do not get any results from Ohio because data.loc['Ohio', 'Four'] there is less than 5"
   ]
  },
  {
   "cell_type": "code",
   "execution_count": 137,
   "id": "0a7dc1db-34b2-46c9-b372-45cbea98c7bb",
   "metadata": {},
   "outputs": [],
   "source": [
    "#3cß) Finally, let us use the code which assigns the value 3 to every item in column 4 that is larger than 3.\n",
    "data.loc[data['four'] > 5] = 3"
   ]
  },
  {
   "cell_type": "code",
   "execution_count": 138,
   "id": "9827d5f2-82b7-4ddf-a482-23d8c802a427",
   "metadata": {},
   "outputs": [
    {
     "data": {
      "text/html": [
       "<div>\n",
       "<style scoped>\n",
       "    .dataframe tbody tr th:only-of-type {\n",
       "        vertical-align: middle;\n",
       "    }\n",
       "\n",
       "    .dataframe tbody tr th {\n",
       "        vertical-align: top;\n",
       "    }\n",
       "\n",
       "    .dataframe thead th {\n",
       "        text-align: right;\n",
       "    }\n",
       "</style>\n",
       "<table border=\"1\" class=\"dataframe\">\n",
       "  <thead>\n",
       "    <tr style=\"text-align: right;\">\n",
       "      <th></th>\n",
       "      <th>one</th>\n",
       "      <th>two</th>\n",
       "      <th>three</th>\n",
       "      <th>four</th>\n",
       "    </tr>\n",
       "  </thead>\n",
       "  <tbody>\n",
       "    <tr>\n",
       "      <th>Ohio</th>\n",
       "      <td>1</td>\n",
       "      <td>0</td>\n",
       "      <td>0</td>\n",
       "      <td>0</td>\n",
       "    </tr>\n",
       "    <tr>\n",
       "      <th>Colorado</th>\n",
       "      <td>3</td>\n",
       "      <td>3</td>\n",
       "      <td>3</td>\n",
       "      <td>3</td>\n",
       "    </tr>\n",
       "    <tr>\n",
       "      <th>Utah</th>\n",
       "      <td>5</td>\n",
       "      <td>5</td>\n",
       "      <td>5</td>\n",
       "      <td>5</td>\n",
       "    </tr>\n",
       "    <tr>\n",
       "      <th>New York</th>\n",
       "      <td>3</td>\n",
       "      <td>3</td>\n",
       "      <td>3</td>\n",
       "      <td>3</td>\n",
       "    </tr>\n",
       "  </tbody>\n",
       "</table>\n",
       "</div>"
      ],
      "text/plain": [
       "          one  two  three  four\n",
       "Ohio        1    0      0     0\n",
       "Colorado    3    3      3     3\n",
       "Utah        5    5      5     5\n",
       "New York    3    3      3     3"
      ]
     },
     "execution_count": 138,
     "metadata": {},
     "output_type": "execute_result"
    }
   ],
   "source": [
    "data"
   ]
  },
  {
   "cell_type": "code",
   "execution_count": 139,
   "id": "e56a8516-d6f4-4506-8ada-326000b86b6e",
   "metadata": {},
   "outputs": [
    {
     "data": {
      "text/plain": [
       "four     0\n",
       "three    0\n",
       "Name: Ohio, dtype: int64"
      ]
     },
     "execution_count": 139,
     "metadata": {},
     "output_type": "execute_result"
    }
   ],
   "source": [
    "#some more examples from indexing row 0 (Ohio) using .loc syntax\n",
    "data.loc['Ohio', ['four', 'three']]"
   ]
  },
  {
   "cell_type": "code",
   "execution_count": 140,
   "id": "19341758-23ad-4144-a577-9e2d87c5dc8b",
   "metadata": {},
   "outputs": [
    {
     "data": {
      "text/plain": [
       "three    0\n",
       "four     0\n",
       "Name: Ohio, dtype: int64"
      ]
     },
     "execution_count": 140,
     "metadata": {},
     "output_type": "execute_result"
    }
   ],
   "source": [
    "data.loc['Ohio', ['three', 'four']]"
   ]
  },
  {
   "cell_type": "code",
   "execution_count": 141,
   "id": "132c5304-9966-42a2-b3cc-c3139d00d40a",
   "metadata": {},
   "outputs": [
    {
     "data": {
      "text/plain": [
       "Ohio        1\n",
       "New York    3\n",
       "Name: one, dtype: int64"
      ]
     },
     "execution_count": 141,
     "metadata": {},
     "output_type": "execute_result"
    }
   ],
   "source": [
    "data.loc[['Ohio', 'New York'], 'one']"
   ]
  },
  {
   "cell_type": "code",
   "execution_count": 142,
   "id": "1a18818b-994a-4468-a854-21a96d1be4c1",
   "metadata": {},
   "outputs": [
    {
     "data": {
      "text/plain": [
       "four     0\n",
       "three    0\n",
       "Name: Ohio, dtype: int64"
      ]
     },
     "execution_count": 142,
     "metadata": {},
     "output_type": "execute_result"
    }
   ],
   "source": [
    "#let's use iloc\n",
    "data.iloc[0, [3, 2]]"
   ]
  },
  {
   "cell_type": "code",
   "execution_count": 143,
   "id": "3de18c61-6246-42bb-88e5-e390c2f84aa8",
   "metadata": {},
   "outputs": [
    {
     "name": "stderr",
     "output_type": "stream",
     "text": [
      "/var/folders/kz/gdzfkm910wq4p613kw6rbgw40000gn/T/ipykernel_1181/2407576872.py:2: SettingWithCopyWarning: \n",
      "A value is trying to be set on a copy of a slice from a DataFrame.\n",
      "Try using .loc[row_indexer,col_indexer] = value instead\n",
      "\n",
      "See the caveats in the documentation: https://pandas.pydata.org/pandas-docs/stable/user_guide/indexing.html#returning-a-view-versus-a-copy\n",
      "  data.loc[data.three == 5]['three'] = 6\n"
     ]
    }
   ],
   "source": [
    "#common gotcha: chaining selections when assigning\n",
    "data.loc[data.three == 5]['three'] = 6"
   ]
  },
  {
   "cell_type": "code",
   "execution_count": 144,
   "id": "90d3d76a-5115-45f7-84a7-d98c5c3928e0",
   "metadata": {},
   "outputs": [
    {
     "data": {
      "text/html": [
       "<div>\n",
       "<style scoped>\n",
       "    .dataframe tbody tr th:only-of-type {\n",
       "        vertical-align: middle;\n",
       "    }\n",
       "\n",
       "    .dataframe tbody tr th {\n",
       "        vertical-align: top;\n",
       "    }\n",
       "\n",
       "    .dataframe thead th {\n",
       "        text-align: right;\n",
       "    }\n",
       "</style>\n",
       "<table border=\"1\" class=\"dataframe\">\n",
       "  <thead>\n",
       "    <tr style=\"text-align: right;\">\n",
       "      <th></th>\n",
       "      <th>one</th>\n",
       "      <th>two</th>\n",
       "      <th>three</th>\n",
       "      <th>four</th>\n",
       "    </tr>\n",
       "  </thead>\n",
       "  <tbody>\n",
       "    <tr>\n",
       "      <th>Ohio</th>\n",
       "      <td>1</td>\n",
       "      <td>0</td>\n",
       "      <td>0</td>\n",
       "      <td>0</td>\n",
       "    </tr>\n",
       "    <tr>\n",
       "      <th>Colorado</th>\n",
       "      <td>3</td>\n",
       "      <td>3</td>\n",
       "      <td>3</td>\n",
       "      <td>3</td>\n",
       "    </tr>\n",
       "    <tr>\n",
       "      <th>Utah</th>\n",
       "      <td>5</td>\n",
       "      <td>5</td>\n",
       "      <td>5</td>\n",
       "      <td>5</td>\n",
       "    </tr>\n",
       "    <tr>\n",
       "      <th>New York</th>\n",
       "      <td>3</td>\n",
       "      <td>3</td>\n",
       "      <td>3</td>\n",
       "      <td>3</td>\n",
       "    </tr>\n",
       "  </tbody>\n",
       "</table>\n",
       "</div>"
      ],
      "text/plain": [
       "          one  two  three  four\n",
       "Ohio        1    0      0     0\n",
       "Colorado    3    3      3     3\n",
       "Utah        5    5      5     5\n",
       "New York    3    3      3     3"
      ]
     },
     "execution_count": 144,
     "metadata": {},
     "output_type": "execute_result"
    }
   ],
   "source": [
    "#we are inadvertantly modifying a temporary value\n",
    "#the data here is not modified\n",
    "data"
   ]
  },
  {
   "cell_type": "code",
   "execution_count": 146,
   "id": "56eb2f2e-3866-4524-8a28-0ad5262a6eda",
   "metadata": {},
   "outputs": [
    {
     "data": {
      "text/html": [
       "<div>\n",
       "<style scoped>\n",
       "    .dataframe tbody tr th:only-of-type {\n",
       "        vertical-align: middle;\n",
       "    }\n",
       "\n",
       "    .dataframe tbody tr th {\n",
       "        vertical-align: top;\n",
       "    }\n",
       "\n",
       "    .dataframe thead th {\n",
       "        text-align: right;\n",
       "    }\n",
       "</style>\n",
       "<table border=\"1\" class=\"dataframe\">\n",
       "  <thead>\n",
       "    <tr style=\"text-align: right;\">\n",
       "      <th></th>\n",
       "      <th>one</th>\n",
       "      <th>two</th>\n",
       "      <th>three</th>\n",
       "      <th>four</th>\n",
       "    </tr>\n",
       "  </thead>\n",
       "  <tbody>\n",
       "    <tr>\n",
       "      <th>Utah</th>\n",
       "      <td>5</td>\n",
       "      <td>5</td>\n",
       "      <td>5</td>\n",
       "      <td>5</td>\n",
       "    </tr>\n",
       "  </tbody>\n",
       "</table>\n",
       "</div>"
      ],
      "text/plain": [
       "      one  two  three  four\n",
       "Utah    5    5      5     5"
      ]
     },
     "execution_count": 146,
     "metadata": {},
     "output_type": "execute_result"
    }
   ],
   "source": [
    "#Solution: Use .loc to create a single operation. Thus no temporary values that need modification.\n",
    "#1a) Display the whole row\n",
    "data.loc[data.three == 5]"
   ]
  },
  {
   "cell_type": "code",
   "execution_count": 147,
   "id": "d95cf731-1ebf-4afa-8b06-f8c0d301ee1b",
   "metadata": {},
   "outputs": [
    {
     "data": {
      "text/plain": [
       "Utah    5\n",
       "Name: three, dtype: int64"
      ]
     },
     "execution_count": 147,
     "metadata": {},
     "output_type": "execute_result"
    }
   ],
   "source": [
    "#1b) Display the value of row 5 in column three\n",
    "data.loc[data.three == 5, 'three']"
   ]
  },
  {
   "cell_type": "code",
   "execution_count": 149,
   "id": "79c3fde2-5795-4016-a1c8-b5af6689e396",
   "metadata": {},
   "outputs": [],
   "source": [
    "#1c) Set the value of row 5 in column three to 3\n",
    "data.loc[data.three == 5, 'three'] = 6"
   ]
  },
  {
   "cell_type": "code",
   "execution_count": 150,
   "id": "82839407-bc4e-49b3-9b58-54bfdd407554",
   "metadata": {},
   "outputs": [
    {
     "data": {
      "text/html": [
       "<div>\n",
       "<style scoped>\n",
       "    .dataframe tbody tr th:only-of-type {\n",
       "        vertical-align: middle;\n",
       "    }\n",
       "\n",
       "    .dataframe tbody tr th {\n",
       "        vertical-align: top;\n",
       "    }\n",
       "\n",
       "    .dataframe thead th {\n",
       "        text-align: right;\n",
       "    }\n",
       "</style>\n",
       "<table border=\"1\" class=\"dataframe\">\n",
       "  <thead>\n",
       "    <tr style=\"text-align: right;\">\n",
       "      <th></th>\n",
       "      <th>one</th>\n",
       "      <th>two</th>\n",
       "      <th>three</th>\n",
       "      <th>four</th>\n",
       "    </tr>\n",
       "  </thead>\n",
       "  <tbody>\n",
       "    <tr>\n",
       "      <th>Ohio</th>\n",
       "      <td>1</td>\n",
       "      <td>0</td>\n",
       "      <td>0</td>\n",
       "      <td>0</td>\n",
       "    </tr>\n",
       "    <tr>\n",
       "      <th>Colorado</th>\n",
       "      <td>3</td>\n",
       "      <td>3</td>\n",
       "      <td>3</td>\n",
       "      <td>3</td>\n",
       "    </tr>\n",
       "    <tr>\n",
       "      <th>Utah</th>\n",
       "      <td>5</td>\n",
       "      <td>5</td>\n",
       "      <td>6</td>\n",
       "      <td>5</td>\n",
       "    </tr>\n",
       "    <tr>\n",
       "      <th>New York</th>\n",
       "      <td>3</td>\n",
       "      <td>3</td>\n",
       "      <td>3</td>\n",
       "      <td>3</td>\n",
       "    </tr>\n",
       "  </tbody>\n",
       "</table>\n",
       "</div>"
      ],
      "text/plain": [
       "          one  two  three  four\n",
       "Ohio        1    0      0     0\n",
       "Colorado    3    3      3     3\n",
       "Utah        5    5      6     5\n",
       "New York    3    3      3     3"
      ]
     },
     "execution_count": 150,
     "metadata": {},
     "output_type": "execute_result"
    }
   ],
   "source": [
    "data #notice we modified the value"
   ]
  },
  {
   "cell_type": "code",
   "execution_count": null,
   "id": "67ec4479-d2cd-409d-90ec-3a93b846791f",
   "metadata": {},
   "outputs": [],
   "source": [
    "#1d) Let's modify the value to 7 using .iloc syntax\n",
    "data.iloc[]"
   ]
  }
 ],
 "metadata": {
  "kernelspec": {
   "display_name": "Python 3 (ipykernel)",
   "language": "python",
   "name": "python3"
  },
  "language_info": {
   "codemirror_mode": {
    "name": "ipython",
    "version": 3
   },
   "file_extension": ".py",
   "mimetype": "text/x-python",
   "name": "python",
   "nbconvert_exporter": "python",
   "pygments_lexer": "ipython3",
   "version": "3.10.8"
  }
 },
 "nbformat": 4,
 "nbformat_minor": 5
}
