{
 "cells": [
  {
   "cell_type": "code",
   "execution_count": 1,
   "id": "c1ff50da-a831-459d-ab37-c38c9f7d0d36",
   "metadata": {},
   "outputs": [],
   "source": [
    "from typing import List, Callable, Union\n",
    "import numpy as np\n",
    "import pandas as pd\n",
    "import statsmodels.api as sm\n",
    "import statsmodels.formula.api as smf"
   ]
  },
  {
   "cell_type": "code",
   "execution_count": 2,
   "id": "bbe9c335-e03b-420d-b7e8-26cb04b54be5",
   "metadata": {},
   "outputs": [],
   "source": [
    "np.set_printoptions(suppress=True)"
   ]
  },
  {
   "cell_type": "code",
   "execution_count": 3,
   "id": "ec3fa212-de57-4ff6-ac8f-500915eecfd8",
   "metadata": {},
   "outputs": [],
   "source": [
    "#To make the example reproducible. \n",
    "rng = np.random.default_rng(12345)\n",
    "\n",
    "def dnorm(mean: Union[int, float],\n",
    "         variance: Union[int, float],\n",
    "         size=1):\n",
    "    if isinstance(size, int):\n",
    "        size = size,\n",
    "    return mean + np.sqrt(variance) * rng.standard_normal(*size)\n",
    "\n"
   ]
  },
  {
   "cell_type": "code",
   "execution_count": 4,
   "id": "32e22d06-9609-4963-b5d0-b1bfcd45ab98",
   "metadata": {},
   "outputs": [],
   "source": [
    "#simulate time series data with an autoregressive process and nose.\n",
    "init_x = 4\n",
    "\n",
    "values = [init_x, init_x]\n",
    "\n",
    "N = 1000\n",
    "\n",
    "b0 = 0.8\n",
    "b1 = -0.4\n",
    "\n",
    "noise = dnorm(0, 0.1, N)\n",
    "for i in range(N):\n",
    "    new_x = values[-1] * b0 + values[-2] * b1 + noise[i]\n",
    "    values.append(new_x)"
   ]
  },
  {
   "cell_type": "code",
   "execution_count": 5,
   "id": "d43ea3fb-8c44-4f84-a3bc-46fedecdbc7e",
   "metadata": {},
   "outputs": [],
   "source": [
    "#this has an AR(2) structure with parameters 0.8 and -0.4\n",
    "#when we fit an AR model (autoregressive model)  we might not know the number of lags\n",
    "from statsmodels.tsa.ar_model import AutoReg"
   ]
  },
  {
   "cell_type": "code",
   "execution_count": 6,
   "id": "f5e4d833-0b62-472c-ad45-1a4aed8bb6f5",
   "metadata": {},
   "outputs": [],
   "source": [
    "MAXLAGS = 5"
   ]
  },
  {
   "cell_type": "code",
   "execution_count": 7,
   "id": "eae8d30e-13ed-4efa-afa2-8c752d92c00d",
   "metadata": {},
   "outputs": [],
   "source": [
    "model = AutoReg(values, MAXLAGS)"
   ]
  },
  {
   "cell_type": "code",
   "execution_count": 8,
   "id": "3d21d9a2-5e14-4a22-a648-a5ec4d0b09fb",
   "metadata": {},
   "outputs": [],
   "source": [
    "results = model.fit()"
   ]
  },
  {
   "cell_type": "code",
   "execution_count": 9,
   "id": "53075e93-9af8-499f-ae07-459c0248d3c7",
   "metadata": {},
   "outputs": [
    {
     "data": {
      "text/plain": [
       "array([ 0.00312421,  0.82271464, -0.43568671, -0.00569183,  0.02271538,\n",
       "       -0.02522406])"
      ]
     },
     "execution_count": 9,
     "metadata": {},
     "output_type": "execute_result"
    }
   ],
   "source": [
    "results.params"
   ]
  },
  {
   "cell_type": "code",
   "execution_count": null,
   "id": "2f25b81d-d88f-432c-b5ee-13c86f295ba5",
   "metadata": {},
   "outputs": [],
   "source": []
  },
  {
   "cell_type": "code",
   "execution_count": null,
   "id": "8c45543a-4a1f-4bcb-b497-e98a9e01af7c",
   "metadata": {},
   "outputs": [],
   "source": []
  }
 ],
 "metadata": {
  "kernelspec": {
   "display_name": "Python 3 (ipykernel)",
   "language": "python",
   "name": "python3"
  },
  "language_info": {
   "codemirror_mode": {
    "name": "ipython",
    "version": 3
   },
   "file_extension": ".py",
   "mimetype": "text/x-python",
   "name": "python",
   "nbconvert_exporter": "python",
   "pygments_lexer": "ipython3",
   "version": "3.10.8"
  }
 },
 "nbformat": 4,
 "nbformat_minor": 5
}
