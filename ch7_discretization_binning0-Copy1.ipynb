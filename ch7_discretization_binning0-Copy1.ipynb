{
 "cells": [
  {
   "cell_type": "code",
   "execution_count": 1,
   "id": "01e29b72-a1eb-4682-818b-cf45a098030f",
   "metadata": {},
   "outputs": [],
   "source": [
    "from typing import List, Dict\n",
    "import pandas as pd\n",
    "import numpy as np"
   ]
  },
  {
   "cell_type": "code",
   "execution_count": 2,
   "id": "280d44e0-4edf-4181-b265-c7bb494b3b50",
   "metadata": {},
   "outputs": [],
   "source": [
    "#we can separate continuous data into bins for analysis\n",
    "#here we have ages and we want to separate them into age buckets\n",
    "ages : List[int] = [20, 22, 25, 27, 21, 23, 37, 31, 61, 45, 41, 32]"
   ]
  },
  {
   "cell_type": "code",
   "execution_count": 3,
   "id": "01ae5476-bed3-42b1-9be2-8d68333bd69f",
   "metadata": {},
   "outputs": [],
   "source": [
    "#we will divide the ages into bins of 18-25, 26-35, 36-60, 60-100\n",
    "bins : List[int] = [18, 25, 35, 60, 100]"
   ]
  },
  {
   "cell_type": "code",
   "execution_count": 4,
   "id": "af4f5a53-77cb-4f94-86d1-8926c77dc10a",
   "metadata": {},
   "outputs": [],
   "source": [
    "age_categories = pd.cut(ages, bins)"
   ]
  },
  {
   "cell_type": "code",
   "execution_count": 5,
   "id": "40a05d48-843c-4b87-a60c-8c0faeb079ea",
   "metadata": {},
   "outputs": [
    {
     "data": {
      "text/plain": [
       "[(18, 25], (18, 25], (18, 25], (25, 35], (18, 25], ..., (25, 35], (60, 100], (35, 60], (35, 60], (25, 35]]\n",
       "Length: 12\n",
       "Categories (4, interval[int64, right]): [(18, 25] < (25, 35] < (35, 60] < (60, 100]]"
      ]
     },
     "execution_count": 5,
     "metadata": {},
     "output_type": "execute_result"
    }
   ],
   "source": [
    "age_categories #a categorical object"
   ]
  },
  {
   "cell_type": "code",
   "execution_count": 6,
   "id": "8b026b66-a8e9-4ce1-9849-74a7a5c0afda",
   "metadata": {},
   "outputs": [
    {
     "data": {
      "text/plain": [
       "array([0, 0, 0, 1, 0, 0, 2, 1, 3, 2, 2, 1], dtype=int8)"
      ]
     },
     "execution_count": 6,
     "metadata": {},
     "output_type": "execute_result"
    }
   ],
   "source": [
    "#each bin has a special value that contains the lower and upper limits of the bin. The output\n",
    "#is information that depicts the Categorical object.\n",
    "#The square bracket is a hard boundary, while the curly bracket is a soft boundary.\n",
    "age_categories.codes"
   ]
  },
  {
   "cell_type": "code",
   "execution_count": 7,
   "id": "1496ca76-aa9a-4124-9972-54c00a8c608e",
   "metadata": {},
   "outputs": [
    {
     "data": {
      "text/plain": [
       "IntervalIndex([(18, 25], (25, 35], (35, 60], (60, 100]], dtype='interval[int64, right]')"
      ]
     },
     "execution_count": 7,
     "metadata": {},
     "output_type": "execute_result"
    }
   ],
   "source": [
    "age_categories.categories"
   ]
  },
  {
   "cell_type": "code",
   "execution_count": 8,
   "id": "073387c1-3844-4332-8a46-2a3902ba3401",
   "metadata": {},
   "outputs": [
    {
     "data": {
      "text/plain": [
       "Interval(18, 25, closed='right')"
      ]
     },
     "execution_count": 8,
     "metadata": {},
     "output_type": "execute_result"
    }
   ],
   "source": [
    "age_categories.categories[0]"
   ]
  },
  {
   "cell_type": "code",
   "execution_count": 9,
   "id": "ca667a6b-ecf8-4111-b187-86597bd4da9f",
   "metadata": {},
   "outputs": [
    {
     "data": {
      "text/plain": [
       "(18, 25]     5\n",
       "(25, 35]     3\n",
       "(35, 60]     3\n",
       "(60, 100]    1\n",
       "dtype: int64"
      ]
     },
     "execution_count": 9,
     "metadata": {},
     "output_type": "execute_result"
    }
   ],
   "source": [
    "pd.value_counts(age_categories) #bin counts for the result of pandas.cut"
   ]
  },
  {
   "cell_type": "code",
   "execution_count": 10,
   "id": "2939f801-8451-4b3f-90a8-31ffcd579fce",
   "metadata": {},
   "outputs": [
    {
     "data": {
      "text/plain": [
       "(array([0, 1, 2, 3], dtype=int8), array([5, 3, 3, 1]))"
      ]
     },
     "execution_count": 10,
     "metadata": {},
     "output_type": "execute_result"
    }
   ],
   "source": [
    "np.unique(age_categories.codes, return_counts=True)"
   ]
  },
  {
   "cell_type": "code",
   "execution_count": 11,
   "id": "85f5011b-4ef8-4b1b-a825-c875a050d359",
   "metadata": {},
   "outputs": [
    {
     "data": {
      "text/plain": [
       "[[18, 25), [18, 25), [25, 35), [25, 35), [18, 25), ..., [25, 35), [60, 100), [35, 60), [35, 60), [25, 35)]\n",
       "Length: 12\n",
       "Categories (4, interval[int64, left]): [[18, 25) < [25, 35) < [35, 60) < [60, 100)]"
      ]
     },
     "execution_count": 11,
     "metadata": {},
     "output_type": "execute_result"
    }
   ],
   "source": [
    "#we can change which side of the intervals are exclusive with the \"right=False\" argument\n",
    "pd.cut(ages, bins, right=False)"
   ]
  },
  {
   "cell_type": "code",
   "execution_count": 12,
   "id": "38fbc8a9-9977-47b5-8117-9ac8274b519e",
   "metadata": {},
   "outputs": [
    {
     "data": {
      "text/plain": [
       "[(18, 25], (18, 25], (18, 25], (25, 35], (18, 25], ..., (25, 35], (60, 100], (35, 60], (35, 60], (25, 35]]\n",
       "Length: 12\n",
       "Categories (4, interval[int64, right]): [(18, 25] < (25, 35] < (35, 60] < (60, 100]]"
      ]
     },
     "execution_count": 12,
     "metadata": {},
     "output_type": "execute_result"
    }
   ],
   "source": [
    "pd.cut(ages, bins, right=True) #same as the original"
   ]
  },
  {
   "cell_type": "code",
   "execution_count": 15,
   "id": "e49832e9-69c8-492e-9679-d95e5c020efb",
   "metadata": {},
   "outputs": [],
   "source": [
    "#override interval-based labelling: pass a list or array of labels to the labels option\n",
    "group_names : List[str] = ['Youth', 'YoungAdult', 'MiddleAged', 'Senior']"
   ]
  },
  {
   "cell_type": "code",
   "execution_count": 16,
   "id": "4a5ffc19-3f9e-4c3c-acc4-c157f4935b49",
   "metadata": {},
   "outputs": [
    {
     "data": {
      "text/plain": [
       "['Youth', 'Youth', 'Youth', 'YoungAdult', 'Youth', ..., 'YoungAdult', 'Senior', 'MiddleAged', 'MiddleAged', 'YoungAdult']\n",
       "Length: 12\n",
       "Categories (4, object): ['Youth' < 'YoungAdult' < 'MiddleAged' < 'Senior']"
      ]
     },
     "execution_count": 16,
     "metadata": {},
     "output_type": "execute_result"
    }
   ],
   "source": [
    "pd.cut(ages, bins, labels=group_names)"
   ]
  },
  {
   "cell_type": "code",
   "execution_count": 18,
   "id": "8ed7250a-5dfa-479a-9061-b11b3b44008d",
   "metadata": {},
   "outputs": [
    {
     "data": {
      "text/plain": [
       "Index(['Youth', 'YoungAdult', 'MiddleAged', 'Senior'], dtype='object')"
      ]
     },
     "execution_count": 18,
     "metadata": {},
     "output_type": "execute_result"
    }
   ],
   "source": [
    "#display the categories\n",
    "pd.cut(ages, bins, labels=group_names).categories"
   ]
  },
  {
   "cell_type": "code",
   "execution_count": 19,
   "id": "31447545-e21b-497e-9a7c-e02a0fcc301e",
   "metadata": {},
   "outputs": [
    {
     "data": {
      "text/plain": [
       "array([0, 0, 0, 1, 0, 0, 2, 1, 3, 2, 2, 1], dtype=int8)"
      ]
     },
     "execution_count": 19,
     "metadata": {},
     "output_type": "execute_result"
    }
   ],
   "source": [
    "pd.cut(ages, bins, labels=group_names).codes"
   ]
  },
  {
   "cell_type": "code",
   "execution_count": 20,
   "id": "8ec3a751-2386-4765-a50f-a21f44c0f47a",
   "metadata": {},
   "outputs": [],
   "source": [
    "#if we pass an integer number of bins, pandas will automatically compute equal length bins\n",
    "#make uniformly distributed data\n",
    "data = np.random.uniform(size=20)"
   ]
  },
  {
   "cell_type": "code",
   "execution_count": 21,
   "id": "7efff9cf-b304-4bbb-b1a2-768b27da1180",
   "metadata": {},
   "outputs": [
    {
     "data": {
      "text/plain": [
       "[(0.085, 0.31], (0.53, 0.75], (0.085, 0.31], (0.085, 0.31], (0.53, 0.75], ..., (0.31, 0.53], (0.085, 0.31], (0.75, 0.97], (0.75, 0.97], (0.75, 0.97]]\n",
       "Length: 20\n",
       "Categories (4, interval[float64, right]): [(0.085, 0.31] < (0.31, 0.53] < (0.53, 0.75] < (0.75, 0.97]]"
      ]
     },
     "execution_count": 21,
     "metadata": {},
     "output_type": "execute_result"
    }
   ],
   "source": [
    "pd.cut(data, 4, precision=2)"
   ]
  },
  {
   "cell_type": "code",
   "execution_count": 22,
   "id": "916962e2-9665-4531-8e66-defa5ddc2ad6",
   "metadata": {},
   "outputs": [],
   "source": [
    "#pd.qcut: similar to pd.cut, but automatically calculates equally sized bins\n",
    "data = np.random.standard_normal(1000)"
   ]
  },
  {
   "cell_type": "code",
   "execution_count": 23,
   "id": "2dcc2332-04ba-48a0-a88f-72c28e537d8e",
   "metadata": {},
   "outputs": [
    {
     "data": {
      "text/plain": [
       "[(0.71, 3.49], (0.71, 3.49], (0.71, 3.49], (0.031, 0.71], (-0.67, 0.031], ..., (-0.67, 0.031], (0.031, 0.71], (0.031, 0.71], (-3.4299999999999997, -0.67], (-0.67, 0.031]]\n",
       "Length: 1000\n",
       "Categories (4, interval[float64, right]): [(-3.4299999999999997, -0.67] < (-0.67, 0.031] < (0.031, 0.71] < (0.71, 3.49]]"
      ]
     },
     "execution_count": 23,
     "metadata": {},
     "output_type": "execute_result"
    }
   ],
   "source": [
    "quartiles = pd.qcut(data, 4, precision=2)\n",
    "quartiles"
   ]
  },
  {
   "cell_type": "code",
   "execution_count": 24,
   "id": "05d16a18-60b3-4bff-bd85-b947f68ed9cb",
   "metadata": {},
   "outputs": [
    {
     "data": {
      "text/plain": [
       "(-3.4299999999999997, -0.67]    250\n",
       "(-0.67, 0.031]                  250\n",
       "(0.031, 0.71]                   250\n",
       "(0.71, 3.49]                    250\n",
       "dtype: int64"
      ]
     },
     "execution_count": 24,
     "metadata": {},
     "output_type": "execute_result"
    }
   ],
   "source": [
    "pd.value_counts(quartiles)"
   ]
  },
  {
   "cell_type": "code",
   "execution_count": 25,
   "id": "8b26899e-1500-45dd-a4cb-a4b179d20c08",
   "metadata": {},
   "outputs": [
    {
     "data": {
      "text/plain": [
       "[(1.188, 3.486], (0.0313, 1.188], (0.0313, 1.188], (0.0313, 1.188], (-1.284, 0.0313], ..., (-1.284, 0.0313], (0.0313, 1.188], (0.0313, 1.188], (-3.425, -1.284], (-1.284, 0.0313]]\n",
       "Length: 1000\n",
       "Categories (4, interval[float64, right]): [(-3.425, -1.284] < (-1.284, 0.0313] < (0.0313, 1.188] < (1.188, 3.486]]"
      ]
     },
     "execution_count": 25,
     "metadata": {},
     "output_type": "execute_result"
    }
   ],
   "source": [
    "#We can also pass our own quantiles to pandas.qcut. This is similar to pandas.cut.\n",
    "#first let's type the code\n",
    "pd.qcut(data, [0, 0.1, 0.5, 0.9, 1.])"
   ]
  },
  {
   "cell_type": "code",
   "execution_count": 26,
   "id": "72744669-1d43-4480-babd-3cb91a021b28",
   "metadata": {},
   "outputs": [
    {
     "data": {
      "text/plain": [
       "(-3.425, -1.284]    100\n",
       "(-1.284, 0.0313]    400\n",
       "(0.0313, 1.188]     400\n",
       "(1.188, 3.486]      100\n",
       "dtype: int64"
      ]
     },
     "execution_count": 26,
     "metadata": {},
     "output_type": "execute_result"
    }
   ],
   "source": [
    "#We can also pass our own quantiles to pandas.qcut. This is similar to pandas.cut.\n",
    "#type the code then get the value_counts\n",
    "pd.qcut(data, [0, 0.1, 0.5, 0.9, 1.]).value_counts()"
   ]
  },
  {
   "cell_type": "code",
   "execution_count": 27,
   "id": "014b1607-0a72-43ee-9ecd-d860ed0b5b50",
   "metadata": {},
   "outputs": [
    {
     "data": {
      "text/plain": [
       "(-1.284, 0.0313]    400\n",
       "(0.0313, 1.188]     400\n",
       "(-3.425, -1.284]    100\n",
       "(1.188, 3.486]      100\n",
       "dtype: int64"
      ]
     },
     "execution_count": 27,
     "metadata": {},
     "output_type": "execute_result"
    }
   ],
   "source": [
    "#We can also pass our own quantiles to pandas.qcut. This is similar to pandas.cut.\n",
    "#we can also use the standalone pd.value_counts() method\n",
    "pd.value_counts(pd.qcut(data, [0, 0.1, 0.5, 0.9, 1.]))"
   ]
  },
  {
   "cell_type": "markdown",
   "id": "53be9655-f3ca-49cc-9f62-6086dc15ed17",
   "metadata": {},
   "source": [
    "Note: we will return to using pd.cut and pd.qcut later for aggregation and group operations."
   ]
  },
  {
   "cell_type": "code",
   "execution_count": 29,
   "id": "166e5c67-ee35-4ec9-88f5-fdfce30dc3dd",
   "metadata": {},
   "outputs": [
    {
     "data": {
      "text/html": [
       "<div>\n",
       "<style scoped>\n",
       "    .dataframe tbody tr th:only-of-type {\n",
       "        vertical-align: middle;\n",
       "    }\n",
       "\n",
       "    .dataframe tbody tr th {\n",
       "        vertical-align: top;\n",
       "    }\n",
       "\n",
       "    .dataframe thead th {\n",
       "        text-align: right;\n",
       "    }\n",
       "</style>\n",
       "<table border=\"1\" class=\"dataframe\">\n",
       "  <thead>\n",
       "    <tr style=\"text-align: right;\">\n",
       "      <th></th>\n",
       "      <th>0</th>\n",
       "      <th>1</th>\n",
       "      <th>2</th>\n",
       "      <th>3</th>\n",
       "    </tr>\n",
       "  </thead>\n",
       "  <tbody>\n",
       "    <tr>\n",
       "      <th>count</th>\n",
       "      <td>1000.000000</td>\n",
       "      <td>1000.000000</td>\n",
       "      <td>1000.000000</td>\n",
       "      <td>1000.000000</td>\n",
       "    </tr>\n",
       "    <tr>\n",
       "      <th>mean</th>\n",
       "      <td>-0.020188</td>\n",
       "      <td>0.037430</td>\n",
       "      <td>0.022943</td>\n",
       "      <td>-0.029026</td>\n",
       "    </tr>\n",
       "    <tr>\n",
       "      <th>std</th>\n",
       "      <td>0.988590</td>\n",
       "      <td>1.040346</td>\n",
       "      <td>1.011265</td>\n",
       "      <td>1.013260</td>\n",
       "    </tr>\n",
       "    <tr>\n",
       "      <th>min</th>\n",
       "      <td>-3.001212</td>\n",
       "      <td>-3.169716</td>\n",
       "      <td>-2.707933</td>\n",
       "      <td>-3.879819</td>\n",
       "    </tr>\n",
       "    <tr>\n",
       "      <th>25%</th>\n",
       "      <td>-0.689570</td>\n",
       "      <td>-0.689296</td>\n",
       "      <td>-0.720052</td>\n",
       "      <td>-0.715882</td>\n",
       "    </tr>\n",
       "    <tr>\n",
       "      <th>50%</th>\n",
       "      <td>-0.004829</td>\n",
       "      <td>0.030883</td>\n",
       "      <td>0.022692</td>\n",
       "      <td>-0.010995</td>\n",
       "    </tr>\n",
       "    <tr>\n",
       "      <th>75%</th>\n",
       "      <td>0.600622</td>\n",
       "      <td>0.748121</td>\n",
       "      <td>0.738377</td>\n",
       "      <td>0.640114</td>\n",
       "    </tr>\n",
       "    <tr>\n",
       "      <th>max</th>\n",
       "      <td>2.940414</td>\n",
       "      <td>3.249725</td>\n",
       "      <td>3.350035</td>\n",
       "      <td>2.878894</td>\n",
       "    </tr>\n",
       "  </tbody>\n",
       "</table>\n",
       "</div>"
      ],
      "text/plain": [
       "                 0            1            2            3\n",
       "count  1000.000000  1000.000000  1000.000000  1000.000000\n",
       "mean     -0.020188     0.037430     0.022943    -0.029026\n",
       "std       0.988590     1.040346     1.011265     1.013260\n",
       "min      -3.001212    -3.169716    -2.707933    -3.879819\n",
       "25%      -0.689570    -0.689296    -0.720052    -0.715882\n",
       "50%      -0.004829     0.030883     0.022692    -0.010995\n",
       "75%       0.600622     0.748121     0.738377     0.640114\n",
       "max       2.940414     3.249725     3.350035     2.878894"
      ]
     },
     "execution_count": 29,
     "metadata": {},
     "output_type": "execute_result"
    }
   ],
   "source": [
    "data = pd.DataFrame(np.random.standard_normal((1000, 4)))\n",
    "data.describe()"
   ]
  },
  {
   "cell_type": "code",
   "execution_count": 30,
   "id": "fcc52615-9d56-48e1-a648-93c0512d522f",
   "metadata": {},
   "outputs": [
    {
     "data": {
      "text/plain": [
       "0     -0.253225\n",
       "1      0.642069\n",
       "2      0.251830\n",
       "3      0.021578\n",
       "4      0.874424\n",
       "         ...   \n",
       "995    0.161863\n",
       "996   -0.219551\n",
       "997   -0.126874\n",
       "998    1.475531\n",
       "999    0.658000\n",
       "Name: 2, Length: 1000, dtype: float64"
      ]
     },
     "execution_count": 30,
     "metadata": {},
     "output_type": "execute_result"
    }
   ],
   "source": [
    "#Task: find values in one of the columns exceeding 3 in absolute value\n",
    "col = data[2]\n",
    "col"
   ]
  },
  {
   "cell_type": "code",
   "execution_count": 31,
   "id": "7982bdd8-a3f2-45ae-8934-70a4412d04d6",
   "metadata": {},
   "outputs": [
    {
     "data": {
      "text/plain": [
       "323    3.350035\n",
       "765    3.198088\n",
       "Name: 2, dtype: float64"
      ]
     },
     "execution_count": 31,
     "metadata": {},
     "output_type": "execute_result"
    }
   ],
   "source": [
    "#filter the column such that the absolute value is greater than three\n",
    "col[col.abs() > 3]"
   ]
  },
  {
   "cell_type": "code",
   "execution_count": 32,
   "id": "91197bc6-df4d-4711-8080-e35415300230",
   "metadata": {},
   "outputs": [
    {
     "data": {
      "text/html": [
       "<div>\n",
       "<style scoped>\n",
       "    .dataframe tbody tr th:only-of-type {\n",
       "        vertical-align: middle;\n",
       "    }\n",
       "\n",
       "    .dataframe tbody tr th {\n",
       "        vertical-align: top;\n",
       "    }\n",
       "\n",
       "    .dataframe thead th {\n",
       "        text-align: right;\n",
       "    }\n",
       "</style>\n",
       "<table border=\"1\" class=\"dataframe\">\n",
       "  <thead>\n",
       "    <tr style=\"text-align: right;\">\n",
       "      <th></th>\n",
       "      <th>0</th>\n",
       "      <th>1</th>\n",
       "      <th>2</th>\n",
       "      <th>3</th>\n",
       "    </tr>\n",
       "  </thead>\n",
       "  <tbody>\n",
       "    <tr>\n",
       "      <th>0</th>\n",
       "      <td>NaN</td>\n",
       "      <td>NaN</td>\n",
       "      <td>NaN</td>\n",
       "      <td>NaN</td>\n",
       "    </tr>\n",
       "    <tr>\n",
       "      <th>1</th>\n",
       "      <td>NaN</td>\n",
       "      <td>NaN</td>\n",
       "      <td>NaN</td>\n",
       "      <td>NaN</td>\n",
       "    </tr>\n",
       "    <tr>\n",
       "      <th>2</th>\n",
       "      <td>NaN</td>\n",
       "      <td>NaN</td>\n",
       "      <td>NaN</td>\n",
       "      <td>NaN</td>\n",
       "    </tr>\n",
       "    <tr>\n",
       "      <th>3</th>\n",
       "      <td>NaN</td>\n",
       "      <td>NaN</td>\n",
       "      <td>NaN</td>\n",
       "      <td>NaN</td>\n",
       "    </tr>\n",
       "    <tr>\n",
       "      <th>4</th>\n",
       "      <td>NaN</td>\n",
       "      <td>NaN</td>\n",
       "      <td>NaN</td>\n",
       "      <td>NaN</td>\n",
       "    </tr>\n",
       "    <tr>\n",
       "      <th>...</th>\n",
       "      <td>...</td>\n",
       "      <td>...</td>\n",
       "      <td>...</td>\n",
       "      <td>...</td>\n",
       "    </tr>\n",
       "    <tr>\n",
       "      <th>995</th>\n",
       "      <td>NaN</td>\n",
       "      <td>NaN</td>\n",
       "      <td>NaN</td>\n",
       "      <td>NaN</td>\n",
       "    </tr>\n",
       "    <tr>\n",
       "      <th>996</th>\n",
       "      <td>NaN</td>\n",
       "      <td>NaN</td>\n",
       "      <td>NaN</td>\n",
       "      <td>NaN</td>\n",
       "    </tr>\n",
       "    <tr>\n",
       "      <th>997</th>\n",
       "      <td>NaN</td>\n",
       "      <td>NaN</td>\n",
       "      <td>NaN</td>\n",
       "      <td>NaN</td>\n",
       "    </tr>\n",
       "    <tr>\n",
       "      <th>998</th>\n",
       "      <td>NaN</td>\n",
       "      <td>NaN</td>\n",
       "      <td>NaN</td>\n",
       "      <td>NaN</td>\n",
       "    </tr>\n",
       "    <tr>\n",
       "      <th>999</th>\n",
       "      <td>NaN</td>\n",
       "      <td>NaN</td>\n",
       "      <td>NaN</td>\n",
       "      <td>NaN</td>\n",
       "    </tr>\n",
       "  </tbody>\n",
       "</table>\n",
       "<p>1000 rows × 4 columns</p>\n",
       "</div>"
      ],
      "text/plain": [
       "      0   1   2   3\n",
       "0   NaN NaN NaN NaN\n",
       "1   NaN NaN NaN NaN\n",
       "2   NaN NaN NaN NaN\n",
       "3   NaN NaN NaN NaN\n",
       "4   NaN NaN NaN NaN\n",
       "..   ..  ..  ..  ..\n",
       "995 NaN NaN NaN NaN\n",
       "996 NaN NaN NaN NaN\n",
       "997 NaN NaN NaN NaN\n",
       "998 NaN NaN NaN NaN\n",
       "999 NaN NaN NaN NaN\n",
       "\n",
       "[1000 rows x 4 columns]"
      ]
     },
     "execution_count": 32,
     "metadata": {},
     "output_type": "execute_result"
    }
   ],
   "source": [
    "#to select rows with a value greater than 3 or less than -3, use the any method on a boolean dataframe\n",
    "data[(data.abs() > 3)] #we are using all so it is all np.Nan values"
   ]
  },
  {
   "cell_type": "code",
   "execution_count": 41,
   "id": "91ceccb8-ffc6-4540-bf33-83377c1de917",
   "metadata": {},
   "outputs": [
    {
     "data": {
      "text/html": [
       "<div>\n",
       "<style scoped>\n",
       "    .dataframe tbody tr th:only-of-type {\n",
       "        vertical-align: middle;\n",
       "    }\n",
       "\n",
       "    .dataframe tbody tr th {\n",
       "        vertical-align: top;\n",
       "    }\n",
       "\n",
       "    .dataframe thead th {\n",
       "        text-align: right;\n",
       "    }\n",
       "</style>\n",
       "<table border=\"1\" class=\"dataframe\">\n",
       "  <thead>\n",
       "    <tr style=\"text-align: right;\">\n",
       "      <th></th>\n",
       "      <th>0</th>\n",
       "      <th>1</th>\n",
       "      <th>2</th>\n",
       "      <th>3</th>\n",
       "    </tr>\n",
       "  </thead>\n",
       "  <tbody>\n",
       "  </tbody>\n",
       "</table>\n",
       "</div>"
      ],
      "text/plain": [
       "Empty DataFrame\n",
       "Columns: [0, 1, 2, 3]\n",
       "Index: []"
      ]
     },
     "execution_count": 41,
     "metadata": {},
     "output_type": "execute_result"
    }
   ],
   "source": [
    "data[(data.abs() > 3).all(axis=1)]"
   ]
  },
  {
   "cell_type": "code",
   "execution_count": 42,
   "id": "8fad791f-58fc-4fdc-93b1-53cb7761a9f7",
   "metadata": {},
   "outputs": [
    {
     "data": {
      "text/html": [
       "<div>\n",
       "<style scoped>\n",
       "    .dataframe tbody tr th:only-of-type {\n",
       "        vertical-align: middle;\n",
       "    }\n",
       "\n",
       "    .dataframe tbody tr th {\n",
       "        vertical-align: top;\n",
       "    }\n",
       "\n",
       "    .dataframe thead th {\n",
       "        text-align: right;\n",
       "    }\n",
       "</style>\n",
       "<table border=\"1\" class=\"dataframe\">\n",
       "  <thead>\n",
       "    <tr style=\"text-align: right;\">\n",
       "      <th></th>\n",
       "      <th>0</th>\n",
       "      <th>1</th>\n",
       "      <th>2</th>\n",
       "      <th>3</th>\n",
       "    </tr>\n",
       "  </thead>\n",
       "  <tbody>\n",
       "  </tbody>\n",
       "</table>\n",
       "</div>"
      ],
      "text/plain": [
       "Empty DataFrame\n",
       "Columns: [0, 1, 2, 3]\n",
       "Index: []"
      ]
     },
     "execution_count": 42,
     "metadata": {},
     "output_type": "execute_result"
    }
   ],
   "source": [
    "data[(data.abs() > 3).all(axis='columns')]"
   ]
  },
  {
   "cell_type": "code",
   "execution_count": null,
   "id": "42c4720c-64c2-4c8f-9f36-12e84043e83e",
   "metadata": {},
   "outputs": [],
   "source": []
  },
  {
   "cell_type": "code",
   "execution_count": null,
   "id": "f6cdf9ab-c753-49b4-b80d-535d4923ac83",
   "metadata": {},
   "outputs": [],
   "source": []
  },
  {
   "cell_type": "code",
   "execution_count": null,
   "id": "90a89c77-25df-4a65-ae06-56cb0cf00385",
   "metadata": {},
   "outputs": [],
   "source": []
  },
  {
   "cell_type": "code",
   "execution_count": null,
   "id": "62ac627c-b0ac-4fdc-a56a-c8b386f9b12e",
   "metadata": {},
   "outputs": [],
   "source": []
  },
  {
   "cell_type": "code",
   "execution_count": null,
   "id": "8e87fbcf-365a-40bf-b6e8-e01be8fdba56",
   "metadata": {},
   "outputs": [],
   "source": []
  },
  {
   "cell_type": "code",
   "execution_count": null,
   "id": "dcb4be2b-51e3-4da8-8a19-9660cc6b1730",
   "metadata": {},
   "outputs": [],
   "source": []
  },
  {
   "cell_type": "code",
   "execution_count": null,
   "id": "20db74f1-109e-4598-9650-941b18f93b0f",
   "metadata": {},
   "outputs": [],
   "source": []
  }
 ],
 "metadata": {
  "kernelspec": {
   "display_name": "Python 3 (ipykernel)",
   "language": "python",
   "name": "python3"
  },
  "language_info": {
   "codemirror_mode": {
    "name": "ipython",
    "version": 3
   },
   "file_extension": ".py",
   "mimetype": "text/x-python",
   "name": "python",
   "nbconvert_exporter": "python",
   "pygments_lexer": "ipython3",
   "version": "3.10.8"
  }
 },
 "nbformat": 4,
 "nbformat_minor": 5
}
