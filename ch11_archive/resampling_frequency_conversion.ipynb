{
 "cells": [
  {
   "cell_type": "code",
   "execution_count": 1,
   "id": "d08c4c01-0d2c-4d3f-aadf-cec56d0866ff",
   "metadata": {},
   "outputs": [],
   "source": [
    "from datetime import datetime\n",
    "import numpy as np\n",
    "import pandas as pd"
   ]
  },
  {
   "cell_type": "code",
   "execution_count": 2,
   "id": "2ea9cbd2-04b4-403f-a8dd-027791b68d08",
   "metadata": {},
   "outputs": [],
   "source": [
    "dates = pd.date_range('2000-01-01', periods=100)"
   ]
  },
  {
   "cell_type": "code",
   "execution_count": 3,
   "id": "0ebb62d0-7ce7-407d-a5f5-d2ff13621d0c",
   "metadata": {},
   "outputs": [
    {
     "data": {
      "text/plain": [
       "DatetimeIndex(['2000-01-01', '2000-01-02', '2000-01-03', '2000-01-04',\n",
       "               '2000-01-05', '2000-01-06', '2000-01-07', '2000-01-08',\n",
       "               '2000-01-09', '2000-01-10'],\n",
       "              dtype='datetime64[ns]', freq='D')"
      ]
     },
     "execution_count": 3,
     "metadata": {},
     "output_type": "execute_result"
    }
   ],
   "source": [
    "dates[:10]"
   ]
  },
  {
   "cell_type": "code",
   "execution_count": 4,
   "id": "09768b8c-82bf-433e-951b-18b2010b7152",
   "metadata": {},
   "outputs": [],
   "source": [
    "ts = pd.Series(np.random.standard_normal(len(dates)), index=dates)"
   ]
  },
  {
   "cell_type": "code",
   "execution_count": 5,
   "id": "3732e4c8-46c6-4c4d-9aa8-2138e5532e4e",
   "metadata": {},
   "outputs": [
    {
     "data": {
      "text/plain": [
       "2000-01-01   -0.218817\n",
       "2000-01-02    0.556600\n",
       "2000-01-03   -0.158278\n",
       "2000-01-04   -0.657281\n",
       "2000-01-05    0.493075\n",
       "                ...   \n",
       "2000-04-05   -0.002421\n",
       "2000-04-06    0.327136\n",
       "2000-04-07    0.003186\n",
       "2000-04-08    0.429938\n",
       "2000-04-09    1.004624\n",
       "Freq: D, Length: 100, dtype: float64"
      ]
     },
     "execution_count": 5,
     "metadata": {},
     "output_type": "execute_result"
    }
   ],
   "source": [
    "ts"
   ]
  },
  {
   "cell_type": "code",
   "execution_count": 6,
   "id": "26d49107-c05a-43f5-94ea-85b99ac1de56",
   "metadata": {},
   "outputs": [
    {
     "data": {
      "text/plain": [
       "2000-01-31   -0.064335\n",
       "2000-02-29   -0.274024\n",
       "2000-03-31   -0.097005\n",
       "2000-04-30    0.176277\n",
       "Freq: M, dtype: float64"
      ]
     },
     "execution_count": 6,
     "metadata": {},
     "output_type": "execute_result"
    }
   ],
   "source": [
    "#pandas objects equipped to a resample method.\n",
    "#Aggregation is downsampling, conversion from lower to higher frequency is upsampling.\n",
    "ts.resample('M').mean() #A"
   ]
  },
  {
   "cell_type": "code",
   "execution_count": 7,
   "id": "a5686a9d-8318-4cf4-930b-6110e178829a",
   "metadata": {},
   "outputs": [
    {
     "data": {
      "text/plain": [
       "2000-01   -0.064335\n",
       "2000-02   -0.274024\n",
       "2000-03   -0.097005\n",
       "2000-04    0.176277\n",
       "Freq: M, dtype: float64"
      ]
     },
     "execution_count": 7,
     "metadata": {},
     "output_type": "execute_result"
    }
   ],
   "source": [
    "ts.resample('M', kind='period').mean() #B"
   ]
  },
  {
   "cell_type": "code",
   "execution_count": 8,
   "id": "66df2c4b-b7ce-4af1-8e7b-841f66c15b21",
   "metadata": {},
   "outputs": [
    {
     "data": {
      "text/plain": [
       "2000-01-31   -0.064335\n",
       "2000-02-29   -0.274024\n",
       "2000-03-31   -0.097005\n",
       "2000-04-30    0.176277\n",
       "Freq: M, dtype: float64"
      ]
     },
     "execution_count": 8,
     "metadata": {},
     "output_type": "execute_result"
    }
   ],
   "source": [
    "#practice\n",
    "ts.resample(rule='M').mean() #A2"
   ]
  },
  {
   "cell_type": "code",
   "execution_count": 9,
   "id": "26fbceaf-1d54-4a8d-8d9b-d8e067dc4cff",
   "metadata": {},
   "outputs": [
    {
     "data": {
      "text/plain": [
       "2000-01-31   -0.064335\n",
       "2000-02-29   -0.274024\n",
       "2000-03-31   -0.097005\n",
       "2000-04-30    0.176277\n",
       "Freq: M, dtype: float64"
      ]
     },
     "execution_count": 9,
     "metadata": {},
     "output_type": "execute_result"
    }
   ],
   "source": [
    "ts.resample(rule='M', axis=0).mean() #A3"
   ]
  },
  {
   "cell_type": "code",
   "execution_count": 10,
   "id": "237808b8-78c4-45f3-9c28-ab5a15d88b91",
   "metadata": {},
   "outputs": [],
   "source": [
    "#Downsampling: aggregating higher frequency to lower frequency.\n",
    "#start with one-minute frequency data\n",
    "dates = pd.date_range('2000-01-01', periods=12, freq='T')"
   ]
  },
  {
   "cell_type": "code",
   "execution_count": 11,
   "id": "d2a54b11-ab9e-47db-a448-8592bf871781",
   "metadata": {},
   "outputs": [
    {
     "data": {
      "text/plain": [
       "DatetimeIndex(['2000-01-01 00:00:00', '2000-01-01 00:01:00',\n",
       "               '2000-01-01 00:02:00', '2000-01-01 00:03:00',\n",
       "               '2000-01-01 00:04:00', '2000-01-01 00:05:00',\n",
       "               '2000-01-01 00:06:00', '2000-01-01 00:07:00',\n",
       "               '2000-01-01 00:08:00', '2000-01-01 00:09:00',\n",
       "               '2000-01-01 00:10:00', '2000-01-01 00:11:00'],\n",
       "              dtype='datetime64[ns]', freq='T')"
      ]
     },
     "execution_count": 11,
     "metadata": {},
     "output_type": "execute_result"
    }
   ],
   "source": [
    "dates"
   ]
  },
  {
   "cell_type": "code",
   "execution_count": 12,
   "id": "d341b84c-6282-47d2-b6d2-5de07164722c",
   "metadata": {},
   "outputs": [],
   "source": [
    "ts = pd.Series(np.arange(len(dates)), index=dates)"
   ]
  },
  {
   "cell_type": "code",
   "execution_count": 15,
   "id": "87094782-bfa5-440b-9c56-bb124d8cc216",
   "metadata": {},
   "outputs": [
    {
     "data": {
      "text/plain": [
       "2000-01-01 00:00:00     0\n",
       "2000-01-01 00:01:00     1\n",
       "2000-01-01 00:02:00     2\n",
       "2000-01-01 00:03:00     3\n",
       "2000-01-01 00:04:00     4\n",
       "2000-01-01 00:05:00     5\n",
       "2000-01-01 00:06:00     6\n",
       "2000-01-01 00:07:00     7\n",
       "2000-01-01 00:08:00     8\n",
       "2000-01-01 00:09:00     9\n",
       "2000-01-01 00:10:00    10\n",
       "2000-01-01 00:11:00    11\n",
       "Freq: T, dtype: int64"
      ]
     },
     "execution_count": 15,
     "metadata": {},
     "output_type": "execute_result"
    }
   ],
   "source": [
    "ts"
   ]
  },
  {
   "cell_type": "code",
   "execution_count": 16,
   "id": "06c3c69b-0434-4082-a0e2-402cefbb9e36",
   "metadata": {},
   "outputs": [
    {
     "data": {
      "text/plain": [
       "2000-01-01 00:00:00    10\n",
       "2000-01-01 00:05:00    35\n",
       "2000-01-01 00:10:00    21\n",
       "Freq: 5T, dtype: int64"
      ]
     },
     "execution_count": 16,
     "metadata": {},
     "output_type": "execute_result"
    }
   ],
   "source": [
    "#what if we want to aggregate the data into\n",
    "#five-minute chunks or bars by taking a sample of each group\n",
    "ts.resample('5min').sum()"
   ]
  },
  {
   "cell_type": "code",
   "execution_count": 17,
   "id": "f84bf54e-229a-48a6-9ffe-0361cd68f374",
   "metadata": {},
   "outputs": [
    {
     "data": {
      "text/plain": [
       "2000-01-01 00:00:00    10\n",
       "2000-01-01 00:05:00    35\n",
       "2000-01-01 00:10:00    21\n",
       "Freq: 5T, dtype: int64"
      ]
     },
     "execution_count": 17,
     "metadata": {},
     "output_type": "execute_result"
    }
   ],
   "source": [
    "#the default is that the bin edge is closed on the left side\n",
    "#the following is the same as above.\n",
    "ts.resample('5min', closed='left').sum()"
   ]
  },
  {
   "cell_type": "code",
   "execution_count": 18,
   "id": "ed5627cb-e848-44c3-9391-580dc7f56401",
   "metadata": {},
   "outputs": [
    {
     "data": {
      "text/plain": [
       "1999-12-31 23:55:00     0\n",
       "2000-01-01 00:00:00    15\n",
       "2000-01-01 00:05:00    40\n",
       "2000-01-01 00:10:00    11\n",
       "Freq: 5T, dtype: int64"
      ]
     },
     "execution_count": 18,
     "metadata": {},
     "output_type": "execute_result"
    }
   ],
   "source": [
    "#This means that a time on exactly the interval will be recorded in the following, rather\n",
    "#than the previous interval.\n",
    "#For example '2000-01-01 00:00:00' is under the '1990-12-31 interval'\n",
    "ts.resample('5min', closed='right').sum()"
   ]
  },
  {
   "cell_type": "code",
   "execution_count": 23,
   "id": "47ae8265-1ca9-46e7-9955-b8a3d3d483b5",
   "metadata": {},
   "outputs": [
    {
     "data": {
      "text/plain": [
       "2000-03-31    66\n",
       "Freq: BQ-DEC, dtype: int64"
      ]
     },
     "execution_count": 23,
     "metadata": {},
     "output_type": "execute_result"
    }
   ],
   "source": [
    "#the defaults are chosen to be intuitive, rather than consistent.\n",
    "#e.g. \"M\", \"A\", \"Q\", \"BM\", \"BQ\", and \"W\" use closed=right\n",
    "ts.resample('BQ').sum()"
   ]
  },
  {
   "cell_type": "code",
   "execution_count": 24,
   "id": "08aff3a5-236c-4a08-911b-9a6fe70f1378",
   "metadata": {},
   "outputs": [
    {
     "data": {
      "text/plain": [
       "2000-03-31    66\n",
       "Freq: BQ-DEC, dtype: int64"
      ]
     },
     "execution_count": 24,
     "metadata": {},
     "output_type": "execute_result"
    }
   ],
   "source": [
    "ts.resample('BQ', closed='right').sum()"
   ]
  },
  {
   "cell_type": "code",
   "execution_count": 26,
   "id": "5150f1fd-953b-43b0-b669-b957b6677338",
   "metadata": {},
   "outputs": [
    {
     "data": {
      "text/plain": [
       "2000-01-31    66\n",
       "Freq: M, dtype: int64"
      ]
     },
     "execution_count": 26,
     "metadata": {},
     "output_type": "execute_result"
    }
   ],
   "source": [
    "ts.resample('M').sum() #default is closed='right'"
   ]
  },
  {
   "cell_type": "code",
   "execution_count": 27,
   "id": "848e599c-2046-47f2-bbf8-463d4ddd7cbc",
   "metadata": {},
   "outputs": [
    {
     "data": {
      "text/plain": [
       "2000-01-31    66\n",
       "Freq: M, dtype: int64"
      ]
     },
     "execution_count": 27,
     "metadata": {},
     "output_type": "execute_result"
    }
   ],
   "source": [
    "ts.resample('M', closed='right').sum()"
   ]
  },
  {
   "cell_type": "code",
   "execution_count": 28,
   "id": "e6c23e54-8379-4c55-9ffc-c5623026b8a0",
   "metadata": {},
   "outputs": [
    {
     "data": {
      "text/plain": [
       "2000-01-01    66\n",
       "Freq: D, dtype: int64"
      ]
     },
     "execution_count": 28,
     "metadata": {},
     "output_type": "execute_result"
    }
   ],
   "source": [
    "#as for the remaining frequencies, they use closed='left'\n",
    "ts.resample('D').sum()"
   ]
  },
  {
   "cell_type": "code",
   "execution_count": 29,
   "id": "ef100b7e-deca-4281-a296-caa82d04e5bf",
   "metadata": {},
   "outputs": [
    {
     "data": {
      "text/plain": [
       "2000-01-01    66\n",
       "Freq: D, dtype: int64"
      ]
     },
     "execution_count": 29,
     "metadata": {},
     "output_type": "execute_result"
    }
   ],
   "source": [
    "ts.resample('D', closed='left').sum()"
   ]
  },
  {
   "cell_type": "code",
   "execution_count": 31,
   "id": "bd0d159d-eb14-4a0d-a097-665e658eedb3",
   "metadata": {},
   "outputs": [
    {
     "data": {
      "text/plain": [
       "1999-12-31     0\n",
       "2000-01-01    66\n",
       "Freq: D, dtype: int64"
      ]
     },
     "execution_count": 31,
     "metadata": {},
     "output_type": "execute_result"
    }
   ],
   "source": [
    "#this is different\n",
    "ts.resample('D', closed='right').sum()"
   ]
  },
  {
   "cell_type": "code",
   "execution_count": 33,
   "id": "e3998fe7-02e4-4f84-ab79-4eb88701090d",
   "metadata": {},
   "outputs": [],
   "source": [
    "#Downsampling: high to low frequency"
   ]
  },
  {
   "cell_type": "code",
   "execution_count": null,
   "id": "ac9d08e2-b297-41b9-8911-998439d7d584",
   "metadata": {},
   "outputs": [],
   "source": []
  }
 ],
 "metadata": {
  "kernelspec": {
   "display_name": "Python 3 (ipykernel)",
   "language": "python",
   "name": "python3"
  },
  "language_info": {
   "codemirror_mode": {
    "name": "ipython",
    "version": 3
   },
   "file_extension": ".py",
   "mimetype": "text/x-python",
   "name": "python",
   "nbconvert_exporter": "python",
   "pygments_lexer": "ipython3",
   "version": "3.10.8"
  }
 },
 "nbformat": 4,
 "nbformat_minor": 5
}
