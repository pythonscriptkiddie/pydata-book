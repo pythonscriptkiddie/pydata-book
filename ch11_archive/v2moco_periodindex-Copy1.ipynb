{
 "cells": [
  {
   "cell_type": "code",
   "execution_count": 1,
   "id": "334a7f9b-86a7-42a1-bb8e-e8d9ec2cf81d",
   "metadata": {},
   "outputs": [],
   "source": [
    "from datetime import datetime\n",
    "from pathlib import Path\n",
    "import numpy as np\n",
    "import pandas as pd\n",
    "import dask.dataframe as dd"
   ]
  },
  {
   "cell_type": "code",
   "execution_count": 2,
   "id": "a9384407-78c9-4302-a818-51b4d35c28cd",
   "metadata": {},
   "outputs": [],
   "source": [
    "DATA_PATH : Path = Path('data/Traffic_Violations.csv')"
   ]
  },
  {
   "cell_type": "code",
   "execution_count": 3,
   "id": "1aa2b8cb-2cec-45ff-8f50-660c41230f0d",
   "metadata": {},
   "outputs": [],
   "source": [
    "#resampling means taking a time series from one index to another\n",
    "#Downsampling: Aggregating higher frequency to lower frequency.\n",
    "#Upsampling: Converting lower frequency to higher frequency.\n",
    "dates = pd.date_range('2000-01-02', periods=100)"
   ]
  },
  {
   "cell_type": "code",
   "execution_count": 4,
   "id": "6f63c5d6-2f62-4631-8911-b28901cd2ff1",
   "metadata": {},
   "outputs": [
    {
     "data": {
      "text/plain": [
       "DatetimeIndex(['2000-01-02', '2000-01-03', '2000-01-04', '2000-01-05',\n",
       "               '2000-01-06', '2000-01-07', '2000-01-08', '2000-01-09',\n",
       "               '2000-01-10', '2000-01-11', '2000-01-12', '2000-01-13',\n",
       "               '2000-01-14', '2000-01-15', '2000-01-16', '2000-01-17',\n",
       "               '2000-01-18', '2000-01-19', '2000-01-20', '2000-01-21',\n",
       "               '2000-01-22', '2000-01-23', '2000-01-24', '2000-01-25',\n",
       "               '2000-01-26', '2000-01-27', '2000-01-28', '2000-01-29',\n",
       "               '2000-01-30', '2000-01-31', '2000-02-01', '2000-02-02',\n",
       "               '2000-02-03', '2000-02-04', '2000-02-05', '2000-02-06',\n",
       "               '2000-02-07', '2000-02-08', '2000-02-09', '2000-02-10',\n",
       "               '2000-02-11', '2000-02-12', '2000-02-13', '2000-02-14',\n",
       "               '2000-02-15', '2000-02-16', '2000-02-17', '2000-02-18',\n",
       "               '2000-02-19', '2000-02-20', '2000-02-21', '2000-02-22',\n",
       "               '2000-02-23', '2000-02-24', '2000-02-25', '2000-02-26',\n",
       "               '2000-02-27', '2000-02-28', '2000-02-29', '2000-03-01',\n",
       "               '2000-03-02', '2000-03-03', '2000-03-04', '2000-03-05',\n",
       "               '2000-03-06', '2000-03-07', '2000-03-08', '2000-03-09',\n",
       "               '2000-03-10', '2000-03-11', '2000-03-12', '2000-03-13',\n",
       "               '2000-03-14', '2000-03-15', '2000-03-16', '2000-03-17',\n",
       "               '2000-03-18', '2000-03-19', '2000-03-20', '2000-03-21',\n",
       "               '2000-03-22', '2000-03-23', '2000-03-24', '2000-03-25',\n",
       "               '2000-03-26', '2000-03-27', '2000-03-28', '2000-03-29',\n",
       "               '2000-03-30', '2000-03-31', '2000-04-01', '2000-04-02',\n",
       "               '2000-04-03', '2000-04-04', '2000-04-05', '2000-04-06',\n",
       "               '2000-04-07', '2000-04-08', '2000-04-09', '2000-04-10'],\n",
       "              dtype='datetime64[ns]', freq='D')"
      ]
     },
     "execution_count": 4,
     "metadata": {},
     "output_type": "execute_result"
    }
   ],
   "source": [
    "dates"
   ]
  },
  {
   "cell_type": "code",
   "execution_count": 5,
   "id": "96e391cb-ed9b-44d4-bcd1-aa571dc5cf31",
   "metadata": {},
   "outputs": [],
   "source": [
    "ts = pd.Series(np.random.standard_normal(len(dates)), index=dates)"
   ]
  },
  {
   "cell_type": "code",
   "execution_count": 6,
   "id": "ba4a0179-c9fe-4dfb-90cc-e719b8912ee3",
   "metadata": {},
   "outputs": [
    {
     "data": {
      "text/plain": [
       "2000-01-02   -0.322821\n",
       "2000-01-03   -1.230934\n",
       "2000-01-04   -0.085114\n",
       "2000-01-05   -1.418302\n",
       "2000-01-06    1.646228\n",
       "                ...   \n",
       "2000-04-06    1.008034\n",
       "2000-04-07    1.438145\n",
       "2000-04-08   -1.039647\n",
       "2000-04-09    0.225117\n",
       "2000-04-10   -0.607272\n",
       "Freq: D, Length: 100, dtype: float64"
      ]
     },
     "execution_count": 6,
     "metadata": {},
     "output_type": "execute_result"
    }
   ],
   "source": [
    "ts"
   ]
  },
  {
   "cell_type": "code",
   "execution_count": 7,
   "id": "2ce7b9ab-1e9c-4a67-adf0-6d8d4b21b875",
   "metadata": {},
   "outputs": [
    {
     "data": {
      "text/plain": [
       "<pandas.core.resample.DatetimeIndexResampler object at 0x7fc2b1d6e110>"
      ]
     },
     "execution_count": 7,
     "metadata": {},
     "output_type": "execute_result"
    }
   ],
   "source": [
    "ts.resample('M')"
   ]
  },
  {
   "cell_type": "code",
   "execution_count": 8,
   "id": "efb6f8a7-6a86-4328-a19a-c9c4508dc59e",
   "metadata": {},
   "outputs": [
    {
     "data": {
      "text/plain": [
       "2000-01-31    0.570731\n",
       "2000-02-29    0.332498\n",
       "2000-03-31    0.240137\n",
       "2000-04-30   -0.034738\n",
       "Freq: M, dtype: float64"
      ]
     },
     "execution_count": 8,
     "metadata": {},
     "output_type": "execute_result"
    }
   ],
   "source": [
    "ts.resample('M').mean()"
   ]
  },
  {
   "cell_type": "code",
   "execution_count": 9,
   "id": "556bcf18-1af9-4b78-a7d6-f4f3a1b550f7",
   "metadata": {},
   "outputs": [
    {
     "data": {
      "text/plain": [
       "2000-01-31    0.570731\n",
       "2000-02-29    0.332498\n",
       "2000-03-31    0.240137\n",
       "2000-04-30   -0.034738\n",
       "Freq: M, dtype: float64"
      ]
     },
     "execution_count": 9,
     "metadata": {},
     "output_type": "execute_result"
    }
   ],
   "source": [
    "ts.resample(rule='M').mean()"
   ]
  },
  {
   "cell_type": "code",
   "execution_count": 10,
   "id": "481e2839-7643-443e-a060-bf2dd89d6018",
   "metadata": {},
   "outputs": [
    {
     "data": {
      "text/plain": [
       "2000-01-02   -0.322821\n",
       "2000-01-03   -1.230934\n",
       "2000-01-04   -0.085114\n",
       "2000-01-05   -1.418302\n",
       "2000-01-06    1.646228\n",
       "                ...   \n",
       "2000-04-06    1.008034\n",
       "2000-04-07    1.438145\n",
       "2000-04-08   -1.039647\n",
       "2000-04-09    0.225117\n",
       "2000-04-10   -0.607272\n",
       "Freq: D, Length: 100, dtype: float64"
      ]
     },
     "execution_count": 10,
     "metadata": {},
     "output_type": "execute_result"
    }
   ],
   "source": [
    "ts.resample(rule='D').mean()"
   ]
  },
  {
   "cell_type": "code",
   "execution_count": 11,
   "id": "28076c7d-728f-4dd7-be44-9183a55b80f1",
   "metadata": {},
   "outputs": [
    {
     "data": {
      "text/plain": [
       "2000-01-02 00:00:00   -0.322821\n",
       "2000-01-02 01:00:00         NaN\n",
       "2000-01-02 02:00:00         NaN\n",
       "2000-01-02 03:00:00         NaN\n",
       "2000-01-02 04:00:00         NaN\n",
       "                         ...   \n",
       "2000-04-09 20:00:00         NaN\n",
       "2000-04-09 21:00:00         NaN\n",
       "2000-04-09 22:00:00         NaN\n",
       "2000-04-09 23:00:00         NaN\n",
       "2000-04-10 00:00:00   -0.607272\n",
       "Freq: H, Length: 2377, dtype: float64"
      ]
     },
     "execution_count": 11,
     "metadata": {},
     "output_type": "execute_result"
    }
   ],
   "source": [
    "ts.resample(rule='H').mean()"
   ]
  },
  {
   "cell_type": "code",
   "execution_count": 12,
   "id": "ffd2da16-2ec5-45ae-9d60-73418a49b053",
   "metadata": {},
   "outputs": [
    {
     "data": {
      "text/plain": [
       "2000-01-02 00:00:00   -0.322821\n",
       "2000-01-02 01:00:00   -0.322821\n",
       "2000-01-02 02:00:00   -0.322821\n",
       "2000-01-02 03:00:00   -0.322821\n",
       "2000-01-02 04:00:00   -0.322821\n",
       "                         ...   \n",
       "2000-04-09 20:00:00    0.225117\n",
       "2000-04-09 21:00:00    0.225117\n",
       "2000-04-09 22:00:00    0.225117\n",
       "2000-04-09 23:00:00    0.225117\n",
       "2000-04-10 00:00:00   -0.607272\n",
       "Freq: H, Length: 2377, dtype: float64"
      ]
     },
     "execution_count": 12,
     "metadata": {},
     "output_type": "execute_result"
    }
   ],
   "source": [
    "ts.resample(rule='H').mean().fillna(method='ffill')"
   ]
  },
  {
   "cell_type": "code",
   "execution_count": 13,
   "id": "a7e4d93a-8b2a-4710-a476-1bb257979122",
   "metadata": {},
   "outputs": [
    {
     "data": {
      "text/plain": [
       "2000-01-02 00:00:00   -0.322821\n",
       "2000-01-02 01:00:00   -0.322821\n",
       "2000-01-02 02:00:00   -0.322821\n",
       "2000-01-02 03:00:00   -0.322821\n",
       "2000-01-02 04:00:00   -0.322821\n",
       "2000-01-02 05:00:00   -0.322821\n",
       "2000-01-02 06:00:00   -0.322821\n",
       "2000-01-02 07:00:00   -0.322821\n",
       "2000-01-02 08:00:00   -0.322821\n",
       "2000-01-02 09:00:00   -0.322821\n",
       "2000-01-02 10:00:00   -0.322821\n",
       "2000-01-02 11:00:00   -0.322821\n",
       "2000-01-02 12:00:00   -0.322821\n",
       "2000-01-02 13:00:00   -0.322821\n",
       "2000-01-02 14:00:00   -0.322821\n",
       "2000-01-02 15:00:00   -0.322821\n",
       "2000-01-02 16:00:00   -0.322821\n",
       "2000-01-02 17:00:00   -0.322821\n",
       "2000-01-02 18:00:00   -0.322821\n",
       "2000-01-02 19:00:00   -0.322821\n",
       "2000-01-02 20:00:00   -0.322821\n",
       "2000-01-02 21:00:00   -0.322821\n",
       "2000-01-02 22:00:00   -0.322821\n",
       "2000-01-02 23:00:00   -0.322821\n",
       "2000-01-03 00:00:00   -1.230934\n",
       "2000-01-03 01:00:00   -1.230934\n",
       "2000-01-03 02:00:00   -1.230934\n",
       "2000-01-03 03:00:00   -1.230934\n",
       "2000-01-03 04:00:00   -1.230934\n",
       "2000-01-03 05:00:00   -1.230934\n",
       "2000-01-03 06:00:00   -1.230934\n",
       "2000-01-03 07:00:00   -1.230934\n",
       "2000-01-03 08:00:00   -1.230934\n",
       "2000-01-03 09:00:00   -1.230934\n",
       "2000-01-03 10:00:00   -1.230934\n",
       "2000-01-03 11:00:00   -1.230934\n",
       "2000-01-03 12:00:00   -1.230934\n",
       "2000-01-03 13:00:00   -1.230934\n",
       "2000-01-03 14:00:00   -1.230934\n",
       "2000-01-03 15:00:00   -1.230934\n",
       "2000-01-03 16:00:00   -1.230934\n",
       "2000-01-03 17:00:00   -1.230934\n",
       "2000-01-03 18:00:00   -1.230934\n",
       "2000-01-03 19:00:00   -1.230934\n",
       "2000-01-03 20:00:00   -1.230934\n",
       "2000-01-03 21:00:00   -1.230934\n",
       "2000-01-03 22:00:00   -1.230934\n",
       "2000-01-03 23:00:00   -1.230934\n",
       "Freq: H, dtype: float64"
      ]
     },
     "execution_count": 13,
     "metadata": {},
     "output_type": "execute_result"
    }
   ],
   "source": [
    "ts.resample(rule='H').mean().fillna(method='ffill')[:48]"
   ]
  },
  {
   "cell_type": "code",
   "execution_count": 14,
   "id": "fead65ab-48b1-4090-a8f5-598ddbd9ad67",
   "metadata": {},
   "outputs": [
    {
     "data": {
      "text/plain": [
       "2000-01-02 00:00:00   -0.322821\n",
       "2000-01-02 01:00:00   -1.230934\n",
       "2000-01-02 02:00:00   -1.230934\n",
       "2000-01-02 03:00:00   -1.230934\n",
       "2000-01-02 04:00:00   -1.230934\n",
       "2000-01-02 05:00:00   -1.230934\n",
       "2000-01-02 06:00:00   -1.230934\n",
       "2000-01-02 07:00:00   -1.230934\n",
       "2000-01-02 08:00:00   -1.230934\n",
       "2000-01-02 09:00:00   -1.230934\n",
       "2000-01-02 10:00:00   -1.230934\n",
       "2000-01-02 11:00:00   -1.230934\n",
       "2000-01-02 12:00:00   -1.230934\n",
       "2000-01-02 13:00:00   -1.230934\n",
       "2000-01-02 14:00:00   -1.230934\n",
       "2000-01-02 15:00:00   -1.230934\n",
       "2000-01-02 16:00:00   -1.230934\n",
       "2000-01-02 17:00:00   -1.230934\n",
       "2000-01-02 18:00:00   -1.230934\n",
       "2000-01-02 19:00:00   -1.230934\n",
       "2000-01-02 20:00:00   -1.230934\n",
       "2000-01-02 21:00:00   -1.230934\n",
       "2000-01-02 22:00:00   -1.230934\n",
       "2000-01-02 23:00:00   -1.230934\n",
       "2000-01-03 00:00:00   -1.230934\n",
       "2000-01-03 01:00:00   -0.085114\n",
       "2000-01-03 02:00:00   -0.085114\n",
       "2000-01-03 03:00:00   -0.085114\n",
       "2000-01-03 04:00:00   -0.085114\n",
       "2000-01-03 05:00:00   -0.085114\n",
       "2000-01-03 06:00:00   -0.085114\n",
       "2000-01-03 07:00:00   -0.085114\n",
       "2000-01-03 08:00:00   -0.085114\n",
       "2000-01-03 09:00:00   -0.085114\n",
       "2000-01-03 10:00:00   -0.085114\n",
       "2000-01-03 11:00:00   -0.085114\n",
       "2000-01-03 12:00:00   -0.085114\n",
       "2000-01-03 13:00:00   -0.085114\n",
       "2000-01-03 14:00:00   -0.085114\n",
       "2000-01-03 15:00:00   -0.085114\n",
       "2000-01-03 16:00:00   -0.085114\n",
       "2000-01-03 17:00:00   -0.085114\n",
       "2000-01-03 18:00:00   -0.085114\n",
       "2000-01-03 19:00:00   -0.085114\n",
       "2000-01-03 20:00:00   -0.085114\n",
       "2000-01-03 21:00:00   -0.085114\n",
       "2000-01-03 22:00:00   -0.085114\n",
       "2000-01-03 23:00:00   -0.085114\n",
       "Freq: H, dtype: float64"
      ]
     },
     "execution_count": 14,
     "metadata": {},
     "output_type": "execute_result"
    }
   ],
   "source": [
    "ts.resample(rule='H').mean().fillna(method='bfill')[:48]"
   ]
  },
  {
   "cell_type": "code",
   "execution_count": 15,
   "id": "5b177512-4d9f-4074-8b41-eefe64990dbc",
   "metadata": {},
   "outputs": [
    {
     "data": {
      "text/plain": [
       "2000-01-02 00:00:00   -0.322821\n",
       "2000-01-02 01:00:00   -0.322821\n",
       "2000-01-02 02:00:00   -0.322821\n",
       "2000-01-02 03:00:00   -0.322821\n",
       "2000-01-02 04:00:00   -0.322821\n",
       "2000-01-02 05:00:00   -0.322821\n",
       "2000-01-02 06:00:00   -0.322821\n",
       "2000-01-02 07:00:00   -0.322821\n",
       "2000-01-02 08:00:00   -0.322821\n",
       "2000-01-02 09:00:00   -0.322821\n",
       "2000-01-02 10:00:00   -0.322821\n",
       "2000-01-02 11:00:00   -0.322821\n",
       "2000-01-02 12:00:00   -0.322821\n",
       "2000-01-02 13:00:00   -0.322821\n",
       "2000-01-02 14:00:00   -0.322821\n",
       "2000-01-02 15:00:00   -0.322821\n",
       "2000-01-02 16:00:00   -0.322821\n",
       "2000-01-02 17:00:00   -0.322821\n",
       "2000-01-02 18:00:00   -0.322821\n",
       "2000-01-02 19:00:00   -0.322821\n",
       "2000-01-02 20:00:00   -0.322821\n",
       "2000-01-02 21:00:00   -0.322821\n",
       "2000-01-02 22:00:00   -0.322821\n",
       "2000-01-02 23:00:00   -0.322821\n",
       "2000-01-03 00:00:00   -1.230934\n",
       "2000-01-03 01:00:00   -1.230934\n",
       "2000-01-03 02:00:00   -1.230934\n",
       "2000-01-03 03:00:00   -1.230934\n",
       "2000-01-03 04:00:00   -1.230934\n",
       "2000-01-03 05:00:00   -1.230934\n",
       "2000-01-03 06:00:00   -1.230934\n",
       "2000-01-03 07:00:00   -1.230934\n",
       "2000-01-03 08:00:00   -1.230934\n",
       "2000-01-03 09:00:00   -1.230934\n",
       "2000-01-03 10:00:00   -1.230934\n",
       "2000-01-03 11:00:00   -1.230934\n",
       "2000-01-03 12:00:00   -1.230934\n",
       "2000-01-03 13:00:00   -1.230934\n",
       "2000-01-03 14:00:00   -1.230934\n",
       "2000-01-03 15:00:00   -1.230934\n",
       "2000-01-03 16:00:00   -1.230934\n",
       "2000-01-03 17:00:00   -1.230934\n",
       "2000-01-03 18:00:00   -1.230934\n",
       "2000-01-03 19:00:00   -1.230934\n",
       "2000-01-03 20:00:00   -1.230934\n",
       "2000-01-03 21:00:00   -1.230934\n",
       "2000-01-03 22:00:00   -1.230934\n",
       "2000-01-03 23:00:00   -1.230934\n",
       "Freq: H, dtype: float64"
      ]
     },
     "execution_count": 15,
     "metadata": {},
     "output_type": "execute_result"
    }
   ],
   "source": [
    "ts.resample(rule='H').mean().fillna(method='pad')[:48]"
   ]
  },
  {
   "cell_type": "code",
   "execution_count": 16,
   "id": "56d98923-58ef-4ded-b6ce-b4bc157c7ed1",
   "metadata": {},
   "outputs": [],
   "source": [
    "test_frequency = ts.resample(rule='H').mean().fillna(method='pad')[:49]"
   ]
  },
  {
   "cell_type": "code",
   "execution_count": 17,
   "id": "14f76841-f418-4b01-aa40-4854fb866475",
   "metadata": {},
   "outputs": [],
   "source": [
    "first, second = test_frequency[0], test_frequency[24]"
   ]
  },
  {
   "cell_type": "code",
   "execution_count": 18,
   "id": "093025e3-3831-4746-b916-fa1a17ad94c8",
   "metadata": {},
   "outputs": [],
   "source": [
    "first_day_progression = np.linspace(first, second, 23)"
   ]
  },
  {
   "cell_type": "code",
   "execution_count": 19,
   "id": "0d5ba869-eca7-47ab-926d-0e1a76abdf5c",
   "metadata": {},
   "outputs": [
    {
     "data": {
      "text/plain": [
       "-0.3228206893017752"
      ]
     },
     "execution_count": 19,
     "metadata": {},
     "output_type": "execute_result"
    }
   ],
   "source": [
    "first"
   ]
  },
  {
   "cell_type": "code",
   "execution_count": 20,
   "id": "42fe3d7d-9fe0-4981-a44b-c5c6bcbddf5a",
   "metadata": {},
   "outputs": [
    {
     "data": {
      "text/plain": [
       "-1.2309343369410157"
      ]
     },
     "execution_count": 20,
     "metadata": {},
     "output_type": "execute_result"
    }
   ],
   "source": [
    "second"
   ]
  },
  {
   "cell_type": "code",
   "execution_count": 21,
   "id": "de68b75d-00d6-4e12-8bc3-3c73ff54007c",
   "metadata": {},
   "outputs": [],
   "source": [
    "third = test_frequency[48]"
   ]
  },
  {
   "cell_type": "code",
   "execution_count": 22,
   "id": "5d9a2639-675d-4410-85a7-25c9029b6b18",
   "metadata": {},
   "outputs": [
    {
     "data": {
      "text/plain": [
       "-0.08511368175044647"
      ]
     },
     "execution_count": 22,
     "metadata": {},
     "output_type": "execute_result"
    }
   ],
   "source": [
    "third"
   ]
  },
  {
   "cell_type": "code",
   "execution_count": 23,
   "id": "2636862d-cd39-45d8-9dee-532237986a04",
   "metadata": {},
   "outputs": [],
   "source": [
    "second_day_progression = np.linspace(second, third, 23)"
   ]
  },
  {
   "cell_type": "code",
   "execution_count": 24,
   "id": "478de496-02af-47da-ad37-7b3fda147e77",
   "metadata": {},
   "outputs": [
    {
     "data": {
      "text/plain": [
       "2000-01-02 00:00:00   -0.322821\n",
       "2000-01-02 01:00:00   -0.364099\n",
       "2000-01-02 02:00:00   -0.405376\n",
       "2000-01-02 03:00:00   -0.446654\n",
       "2000-01-02 04:00:00   -0.487932\n",
       "2000-01-02 05:00:00   -0.529210\n",
       "2000-01-02 06:00:00   -0.570488\n",
       "2000-01-02 07:00:00   -0.611766\n",
       "2000-01-02 08:00:00   -0.653044\n",
       "2000-01-02 09:00:00   -0.694322\n",
       "2000-01-02 10:00:00   -0.735600\n",
       "2000-01-02 11:00:00   -0.776878\n",
       "2000-01-02 12:00:00   -0.818155\n",
       "2000-01-02 13:00:00   -0.859433\n",
       "2000-01-02 14:00:00   -0.900711\n",
       "2000-01-02 15:00:00   -0.941989\n",
       "2000-01-02 16:00:00   -0.983267\n",
       "2000-01-02 17:00:00   -1.024545\n",
       "2000-01-02 18:00:00   -1.065823\n",
       "2000-01-02 19:00:00   -1.107101\n",
       "2000-01-02 20:00:00   -1.148379\n",
       "2000-01-02 21:00:00   -1.189656\n",
       "2000-01-02 22:00:00   -1.230934\n",
       "2000-01-02 23:00:00   -0.322821\n",
       "2000-01-03 00:00:00   -1.230934\n",
       "2000-01-03 01:00:00   -1.230934\n",
       "2000-01-03 02:00:00   -1.230934\n",
       "2000-01-03 03:00:00   -1.230934\n",
       "2000-01-03 04:00:00   -1.230934\n",
       "2000-01-03 05:00:00   -1.230934\n",
       "2000-01-03 06:00:00   -1.230934\n",
       "2000-01-03 07:00:00   -1.230934\n",
       "2000-01-03 08:00:00   -1.230934\n",
       "2000-01-03 09:00:00   -1.230934\n",
       "2000-01-03 10:00:00   -1.230934\n",
       "2000-01-03 11:00:00   -1.230934\n",
       "2000-01-03 12:00:00   -1.230934\n",
       "2000-01-03 13:00:00   -1.230934\n",
       "2000-01-03 14:00:00   -1.230934\n",
       "2000-01-03 15:00:00   -1.230934\n",
       "2000-01-03 16:00:00   -1.230934\n",
       "2000-01-03 17:00:00   -1.230934\n",
       "2000-01-03 18:00:00   -1.230934\n",
       "2000-01-03 19:00:00   -1.230934\n",
       "2000-01-03 20:00:00   -1.230934\n",
       "2000-01-03 21:00:00   -1.230934\n",
       "2000-01-03 22:00:00   -1.230934\n",
       "2000-01-03 23:00:00   -1.230934\n",
       "2000-01-04 00:00:00   -0.085114\n",
       "Freq: H, dtype: float64"
      ]
     },
     "execution_count": 24,
     "metadata": {},
     "output_type": "execute_result"
    }
   ],
   "source": [
    "test_frequency[:23] = first_day_progression\n",
    "test_frequency"
   ]
  },
  {
   "cell_type": "code",
   "execution_count": 25,
   "id": "7429b181-ea33-4d99-aeba-5e9021e791a7",
   "metadata": {},
   "outputs": [
    {
     "data": {
      "text/plain": [
       "2000-01-02 00:00:00   -0.322821\n",
       "2000-01-02 01:00:00   -0.364099\n",
       "2000-01-02 02:00:00   -0.405376\n",
       "2000-01-02 03:00:00   -0.446654\n",
       "2000-01-02 04:00:00   -0.487932\n",
       "2000-01-02 05:00:00   -0.529210\n",
       "2000-01-02 06:00:00   -0.570488\n",
       "2000-01-02 07:00:00   -0.611766\n",
       "2000-01-02 08:00:00   -0.653044\n",
       "2000-01-02 09:00:00   -0.694322\n",
       "2000-01-02 10:00:00   -0.735600\n",
       "2000-01-02 11:00:00   -0.776878\n",
       "2000-01-02 12:00:00   -0.818155\n",
       "2000-01-02 13:00:00   -0.859433\n",
       "2000-01-02 14:00:00   -0.900711\n",
       "2000-01-02 15:00:00   -0.941989\n",
       "2000-01-02 16:00:00   -0.983267\n",
       "2000-01-02 17:00:00   -1.024545\n",
       "2000-01-02 18:00:00   -1.065823\n",
       "2000-01-02 19:00:00   -1.107101\n",
       "2000-01-02 20:00:00   -1.148379\n",
       "2000-01-02 21:00:00   -1.189656\n",
       "2000-01-02 22:00:00   -1.230934\n",
       "2000-01-02 23:00:00   -1.230934\n",
       "2000-01-03 00:00:00   -1.178852\n",
       "2000-01-03 01:00:00   -1.126769\n",
       "2000-01-03 02:00:00   -1.074686\n",
       "2000-01-03 03:00:00   -1.022603\n",
       "2000-01-03 04:00:00   -0.970521\n",
       "2000-01-03 05:00:00   -0.918438\n",
       "2000-01-03 06:00:00   -0.866355\n",
       "2000-01-03 07:00:00   -0.814272\n",
       "2000-01-03 08:00:00   -0.762190\n",
       "2000-01-03 09:00:00   -0.710107\n",
       "2000-01-03 10:00:00   -0.658024\n",
       "2000-01-03 11:00:00   -0.605941\n",
       "2000-01-03 12:00:00   -0.553858\n",
       "2000-01-03 13:00:00   -0.501776\n",
       "2000-01-03 14:00:00   -0.449693\n",
       "2000-01-03 15:00:00   -0.397610\n",
       "2000-01-03 16:00:00   -0.345527\n",
       "2000-01-03 17:00:00   -0.293445\n",
       "2000-01-03 18:00:00   -0.241362\n",
       "2000-01-03 19:00:00   -0.189279\n",
       "2000-01-03 20:00:00   -0.137196\n",
       "2000-01-03 21:00:00   -0.085114\n",
       "2000-01-03 22:00:00   -1.230934\n",
       "2000-01-03 23:00:00   -1.230934\n",
       "2000-01-04 00:00:00   -0.085114\n",
       "Freq: H, dtype: float64"
      ]
     },
     "execution_count": 25,
     "metadata": {},
     "output_type": "execute_result"
    }
   ],
   "source": [
    "test_frequency[23:46] = second_day_progression\n",
    "test_frequency"
   ]
  },
  {
   "cell_type": "code",
   "execution_count": 26,
   "id": "e2643868-e90e-4e61-8e94-0e768bb7be36",
   "metadata": {},
   "outputs": [],
   "source": [
    "#Downsampling. Things to think about: which side of the interval is closed, and\n",
    "#how to label each aggregated bin.\n",
    "dates = pd.date_range('2000-01-01', periods=12, freq='T')"
   ]
  },
  {
   "cell_type": "code",
   "execution_count": 27,
   "id": "a9150347-8c9a-4b8f-9ef7-bc2243318239",
   "metadata": {},
   "outputs": [
    {
     "data": {
      "text/plain": [
       "DatetimeIndex(['2000-01-01 00:00:00', '2000-01-01 00:01:00',\n",
       "               '2000-01-01 00:02:00', '2000-01-01 00:03:00',\n",
       "               '2000-01-01 00:04:00', '2000-01-01 00:05:00',\n",
       "               '2000-01-01 00:06:00', '2000-01-01 00:07:00',\n",
       "               '2000-01-01 00:08:00', '2000-01-01 00:09:00',\n",
       "               '2000-01-01 00:10:00', '2000-01-01 00:11:00'],\n",
       "              dtype='datetime64[ns]', freq='T')"
      ]
     },
     "execution_count": 27,
     "metadata": {},
     "output_type": "execute_result"
    }
   ],
   "source": [
    "dates"
   ]
  },
  {
   "cell_type": "code",
   "execution_count": 28,
   "id": "f462d5f4-acb8-4641-9754-f76164e0e697",
   "metadata": {},
   "outputs": [],
   "source": [
    "ts = pd.Series(np.arange(len(dates)), index=dates)"
   ]
  },
  {
   "cell_type": "code",
   "execution_count": 29,
   "id": "2aee604d-4478-4478-a027-075bb45174c9",
   "metadata": {},
   "outputs": [
    {
     "data": {
      "text/plain": [
       "2000-01-01 00:00:00     0\n",
       "2000-01-01 00:01:00     1\n",
       "2000-01-01 00:02:00     2\n",
       "2000-01-01 00:03:00     3\n",
       "2000-01-01 00:04:00     4\n",
       "2000-01-01 00:05:00     5\n",
       "2000-01-01 00:06:00     6\n",
       "2000-01-01 00:07:00     7\n",
       "2000-01-01 00:08:00     8\n",
       "2000-01-01 00:09:00     9\n",
       "2000-01-01 00:10:00    10\n",
       "2000-01-01 00:11:00    11\n",
       "Freq: T, dtype: int64"
      ]
     },
     "execution_count": 29,
     "metadata": {},
     "output_type": "execute_result"
    }
   ],
   "source": [
    "ts"
   ]
  },
  {
   "cell_type": "code",
   "execution_count": 30,
   "id": "e0bd26d3-3972-4235-9f2d-3e1b982dd868",
   "metadata": {},
   "outputs": [
    {
     "data": {
      "text/plain": [
       "2000-01-01 00:00:00    10\n",
       "2000-01-01 00:05:00    35\n",
       "2000-01-01 00:10:00    21\n",
       "Freq: 5T, dtype: int64"
      ]
     },
     "execution_count": 30,
     "metadata": {},
     "output_type": "execute_result"
    }
   ],
   "source": [
    "#Suppose we wanted to aggregate this data into five-minute chunks or bars by taking the sum of each group.\n",
    "ts.resample('5min').sum()"
   ]
  },
  {
   "cell_type": "code",
   "execution_count": 31,
   "id": "ed746475-1f86-44d1-ba76-25cc0936e13d",
   "metadata": {},
   "outputs": [
    {
     "data": {
      "text/plain": [
       "2000-01-01 00:00:00    45\n",
       "2000-01-01 00:10:00    21\n",
       "Freq: 10T, dtype: int64"
      ]
     },
     "execution_count": 31,
     "metadata": {},
     "output_type": "execute_result"
    }
   ],
   "source": [
    "ts.resample('10min').sum() "
   ]
  },
  {
   "cell_type": "code",
   "execution_count": 32,
   "id": "60eb2473-91de-418a-ba84-76923f443a4f",
   "metadata": {},
   "outputs": [
    {
     "data": {
      "text/plain": [
       "1999-12-31 23:55:00     0\n",
       "2000-01-01 00:00:00    15\n",
       "2000-01-01 00:05:00    40\n",
       "2000-01-01 00:10:00    11\n",
       "Freq: 5T, dtype: int64"
      ]
     },
     "execution_count": 32,
     "metadata": {},
     "output_type": "execute_result"
    }
   ],
   "source": [
    "#the frequency defines bin edges. 00:05 value is included in the interval by default \n",
    "#(for this frequency), and the 0:05 interval is excluded by default\n",
    "ts.resample('5min', closed='right').sum()"
   ]
  },
  {
   "cell_type": "code",
   "execution_count": 33,
   "id": "3f548148-fd68-4607-b871-ae18718904f5",
   "metadata": {},
   "outputs": [
    {
     "data": {
      "text/plain": [
       "2000-01-01 00:00:00    10\n",
       "2000-01-01 00:05:00    35\n",
       "2000-01-01 00:10:00    21\n",
       "Freq: 5T, dtype: int64"
      ]
     },
     "execution_count": 33,
     "metadata": {},
     "output_type": "execute_result"
    }
   ],
   "source": [
    "ts.resample('5min', closed='left').sum() #same as the default step above"
   ]
  },
  {
   "cell_type": "code",
   "execution_count": 34,
   "id": "d6261e8c-18d3-42f3-a4b4-43fabfca109b",
   "metadata": {},
   "outputs": [
    {
     "data": {
      "text/plain": [
       "1999-12-31 23:50:00     0\n",
       "2000-01-01 00:00:00    55\n",
       "2000-01-01 00:10:00    11\n",
       "Freq: 10T, dtype: int64"
      ]
     },
     "execution_count": 34,
     "metadata": {},
     "output_type": "execute_result"
    }
   ],
   "source": [
    "ts.resample('10min', closed='right').sum()"
   ]
  },
  {
   "cell_type": "code",
   "execution_count": 35,
   "id": "91a19b60-fd59-43e5-8466-465e8ba76398",
   "metadata": {},
   "outputs": [
    {
     "data": {
      "text/plain": [
       "2000-01-01 00:00:00    10\n",
       "2000-01-01 00:05:00    35\n",
       "2000-01-01 00:10:00    21\n",
       "Freq: 5T, dtype: int64"
      ]
     },
     "execution_count": 35,
     "metadata": {},
     "output_type": "execute_result"
    }
   ],
   "source": [
    "#the labels are from the left side of the index, but we can label them with the right bin edge\n",
    "#by passing label='right'\n",
    "ts.resample('5min').sum()"
   ]
  },
  {
   "cell_type": "code",
   "execution_count": 36,
   "id": "f2eeb84d-dfc0-4c8f-8c5c-00b5e27aad8f",
   "metadata": {},
   "outputs": [
    {
     "data": {
      "text/plain": [
       "1999-12-31 23:55:00     0\n",
       "2000-01-01 00:00:00    15\n",
       "2000-01-01 00:05:00    40\n",
       "2000-01-01 00:10:00    11\n",
       "Freq: 5T, dtype: int64"
      ]
     },
     "execution_count": 36,
     "metadata": {},
     "output_type": "execute_result"
    }
   ],
   "source": [
    "#the labels are from the left side of the index, but we can label them with the right bin edge\n",
    "#by passing label='right'\n",
    "ts.resample('5min', closed='right').sum()"
   ]
  },
  {
   "cell_type": "code",
   "execution_count": 37,
   "id": "4457d128-c65d-44e3-9776-b325d23e2ffc",
   "metadata": {},
   "outputs": [
    {
     "data": {
      "text/plain": [
       "2000-01-01 00:00:00     0\n",
       "2000-01-01 00:05:00    15\n",
       "2000-01-01 00:10:00    40\n",
       "2000-01-01 00:15:00    11\n",
       "Freq: 5T, dtype: int64"
      ]
     },
     "execution_count": 37,
     "metadata": {},
     "output_type": "execute_result"
    }
   ],
   "source": [
    "#the labels are from the left side of the index, but we can label them with the right bin edge\n",
    "#by passing label='right'\n",
    "ts.resample('5min', closed='right', label='right').sum()"
   ]
  },
  {
   "cell_type": "code",
   "execution_count": 38,
   "id": "1ec628fd-aa19-49a3-8291-97af38626704",
   "metadata": {},
   "outputs": [
    {
     "data": {
      "text/plain": [
       "1999-12-31 23:55:00     0\n",
       "2000-01-01 00:00:00    15\n",
       "2000-01-01 00:05:00    40\n",
       "2000-01-01 00:10:00    11\n",
       "Freq: 5T, dtype: int64"
      ]
     },
     "execution_count": 38,
     "metadata": {},
     "output_type": "execute_result"
    }
   ],
   "source": [
    "#the labels are from the left side of the index, but we can label them with the right bin edge\n",
    "#by passing label='right'\n",
    "ts.resample('5min', closed='right', label='left').sum()"
   ]
  },
  {
   "cell_type": "code",
   "execution_count": 39,
   "id": "b0695969-40b2-4e07-b3d8-e9853e5d0b4d",
   "metadata": {},
   "outputs": [],
   "source": [
    "#We might want to make the index more clear by shifting it by some default amount. \n",
    "from pandas.tseries.frequencies import to_offset"
   ]
  },
  {
   "cell_type": "code",
   "execution_count": 40,
   "id": "81b31bb2-9ac4-49fe-9e4e-fe353c4896c4",
   "metadata": {},
   "outputs": [],
   "source": [
    "result = ts.resample('5min', closed='right', label='right').sum()"
   ]
  },
  {
   "cell_type": "code",
   "execution_count": 41,
   "id": "1afce08b-16a4-4bf5-9e4e-5f3cb6b50014",
   "metadata": {},
   "outputs": [
    {
     "data": {
      "text/plain": [
       "2000-01-01 00:00:00     0\n",
       "2000-01-01 00:05:00    15\n",
       "2000-01-01 00:10:00    40\n",
       "2000-01-01 00:15:00    11\n",
       "Freq: 5T, dtype: int64"
      ]
     },
     "execution_count": 41,
     "metadata": {},
     "output_type": "execute_result"
    }
   ],
   "source": [
    "result"
   ]
  },
  {
   "cell_type": "code",
   "execution_count": 42,
   "id": "01f6e99d-6564-4d1e-a3d5-12dc1fa0b417",
   "metadata": {},
   "outputs": [],
   "source": [
    "result.index = result.index + to_offset('-1s')"
   ]
  },
  {
   "cell_type": "code",
   "execution_count": 43,
   "id": "b447e285-da04-4675-aea5-d9758c153691",
   "metadata": {},
   "outputs": [
    {
     "data": {
      "text/plain": [
       "1999-12-31 23:59:59     0\n",
       "2000-01-01 00:04:59    15\n",
       "2000-01-01 00:09:59    40\n",
       "2000-01-01 00:14:59    11\n",
       "Freq: 5T, dtype: int64"
      ]
     },
     "execution_count": 43,
     "metadata": {},
     "output_type": "execute_result"
    }
   ],
   "source": [
    "result"
   ]
  },
  {
   "cell_type": "code",
   "execution_count": 44,
   "id": "a767b8f9-6b35-4f87-9d2b-3e536cbeaad6",
   "metadata": {},
   "outputs": [],
   "source": [
    "#Open-high-low-close (OHLC) formatting\n",
    "#one way to aggregate financial time series\n",
    "#computed in a single function call\n",
    "ts = pd.Series(np.random.permutation(np.arange(len(dates))), index=dates)"
   ]
  },
  {
   "cell_type": "code",
   "execution_count": 45,
   "id": "fedee55e-4b2a-4bf6-8793-2a4b2236ff9a",
   "metadata": {},
   "outputs": [
    {
     "data": {
      "text/plain": [
       "2000-01-01 00:00:00    11\n",
       "2000-01-01 00:01:00     9\n",
       "2000-01-01 00:02:00     2\n",
       "2000-01-01 00:03:00     0\n",
       "2000-01-01 00:04:00     8\n",
       "2000-01-01 00:05:00     3\n",
       "2000-01-01 00:06:00     6\n",
       "2000-01-01 00:07:00    10\n",
       "2000-01-01 00:08:00     7\n",
       "2000-01-01 00:09:00     4\n",
       "2000-01-01 00:10:00     1\n",
       "2000-01-01 00:11:00     5\n",
       "Freq: T, dtype: int64"
      ]
     },
     "execution_count": 45,
     "metadata": {},
     "output_type": "execute_result"
    }
   ],
   "source": [
    "ts"
   ]
  },
  {
   "cell_type": "code",
   "execution_count": 46,
   "id": "9cee5023-8abf-4631-a584-302fb45034f7",
   "metadata": {},
   "outputs": [
    {
     "data": {
      "text/html": [
       "<div>\n",
       "<style scoped>\n",
       "    .dataframe tbody tr th:only-of-type {\n",
       "        vertical-align: middle;\n",
       "    }\n",
       "\n",
       "    .dataframe tbody tr th {\n",
       "        vertical-align: top;\n",
       "    }\n",
       "\n",
       "    .dataframe thead th {\n",
       "        text-align: right;\n",
       "    }\n",
       "</style>\n",
       "<table border=\"1\" class=\"dataframe\">\n",
       "  <thead>\n",
       "    <tr style=\"text-align: right;\">\n",
       "      <th></th>\n",
       "      <th>open</th>\n",
       "      <th>high</th>\n",
       "      <th>low</th>\n",
       "      <th>close</th>\n",
       "    </tr>\n",
       "  </thead>\n",
       "  <tbody>\n",
       "    <tr>\n",
       "      <th>2000-01-01 00:00:00</th>\n",
       "      <td>11</td>\n",
       "      <td>11</td>\n",
       "      <td>0</td>\n",
       "      <td>8</td>\n",
       "    </tr>\n",
       "    <tr>\n",
       "      <th>2000-01-01 00:05:00</th>\n",
       "      <td>3</td>\n",
       "      <td>10</td>\n",
       "      <td>3</td>\n",
       "      <td>4</td>\n",
       "    </tr>\n",
       "    <tr>\n",
       "      <th>2000-01-01 00:10:00</th>\n",
       "      <td>1</td>\n",
       "      <td>5</td>\n",
       "      <td>1</td>\n",
       "      <td>5</td>\n",
       "    </tr>\n",
       "  </tbody>\n",
       "</table>\n",
       "</div>"
      ],
      "text/plain": [
       "                     open  high  low  close\n",
       "2000-01-01 00:00:00    11    11    0      8\n",
       "2000-01-01 00:05:00     3    10    3      4\n",
       "2000-01-01 00:10:00     1     5    1      5"
      ]
     },
     "execution_count": 46,
     "metadata": {},
     "output_type": "execute_result"
    }
   ],
   "source": [
    "ts.resample('5min').ohlc()"
   ]
  },
  {
   "cell_type": "code",
   "execution_count": 47,
   "id": "3c35e9b3-b660-4400-a917-8f14b859601c",
   "metadata": {},
   "outputs": [
    {
     "data": {
      "text/html": [
       "<div>\n",
       "<style scoped>\n",
       "    .dataframe tbody tr th:only-of-type {\n",
       "        vertical-align: middle;\n",
       "    }\n",
       "\n",
       "    .dataframe tbody tr th {\n",
       "        vertical-align: top;\n",
       "    }\n",
       "\n",
       "    .dataframe thead th {\n",
       "        text-align: right;\n",
       "    }\n",
       "</style>\n",
       "<table border=\"1\" class=\"dataframe\">\n",
       "  <thead>\n",
       "    <tr style=\"text-align: right;\">\n",
       "      <th></th>\n",
       "      <th>0</th>\n",
       "      <th>1</th>\n",
       "      <th>2</th>\n",
       "      <th>3</th>\n",
       "    </tr>\n",
       "  </thead>\n",
       "  <tbody>\n",
       "    <tr>\n",
       "      <th>0</th>\n",
       "      <td>-1.031838</td>\n",
       "      <td>-0.463591</td>\n",
       "      <td>1.19615</td>\n",
       "      <td>0.099543</td>\n",
       "    </tr>\n",
       "    <tr>\n",
       "      <th>1</th>\n",
       "      <td>-0.306789</td>\n",
       "      <td>-0.814426</td>\n",
       "      <td>1.11756</td>\n",
       "      <td>0.406341</td>\n",
       "    </tr>\n",
       "  </tbody>\n",
       "</table>\n",
       "</div>"
      ],
      "text/plain": [
       "          0         1        2         3\n",
       "0 -1.031838 -0.463591  1.19615  0.099543\n",
       "1 -0.306789 -0.814426  1.11756  0.406341"
      ]
     },
     "execution_count": 47,
     "metadata": {},
     "output_type": "execute_result"
    }
   ],
   "source": [
    "#Upsampling/Interpolation: upsamping = conversion from lower to higher frequency. No aggregation is needed.\n",
    "#Example: a timeframe with weekly data.\n",
    "pd.DataFrame(np.random.standard_normal((2, 4)))"
   ]
  },
  {
   "cell_type": "code",
   "execution_count": 48,
   "id": "6b5ff1ed-294d-4b71-8270-2ff07d51d2b0",
   "metadata": {},
   "outputs": [
    {
     "data": {
      "text/plain": [
       "DatetimeIndex(['2000-01-01', '2000-01-02'], dtype='datetime64[ns]', freq='D')"
      ]
     },
     "execution_count": 48,
     "metadata": {},
     "output_type": "execute_result"
    }
   ],
   "source": [
    "#Let's view the index separately here\n",
    "pd.date_range('2000-01-01', periods=2)"
   ]
  },
  {
   "cell_type": "code",
   "execution_count": 49,
   "id": "bb05101e-1e9e-400b-ab00-c31b7c8b29d0",
   "metadata": {},
   "outputs": [
    {
     "data": {
      "text/plain": [
       "DatetimeIndex(['2000-01-05', '2000-01-12'], dtype='datetime64[ns]', freq='W-WED')"
      ]
     },
     "execution_count": 49,
     "metadata": {},
     "output_type": "execute_result"
    }
   ],
   "source": [
    "#Let's view the index separately here\n",
    "pd.date_range('2000-01-01', periods=2, freq='W-WED')"
   ]
  },
  {
   "cell_type": "code",
   "execution_count": 50,
   "id": "7a1f3e77-6052-4e43-bac0-15a4fbbf97b1",
   "metadata": {},
   "outputs": [
    {
     "data": {
      "text/html": [
       "<div>\n",
       "<style scoped>\n",
       "    .dataframe tbody tr th:only-of-type {\n",
       "        vertical-align: middle;\n",
       "    }\n",
       "\n",
       "    .dataframe tbody tr th {\n",
       "        vertical-align: top;\n",
       "    }\n",
       "\n",
       "    .dataframe thead th {\n",
       "        text-align: right;\n",
       "    }\n",
       "</style>\n",
       "<table border=\"1\" class=\"dataframe\">\n",
       "  <thead>\n",
       "    <tr style=\"text-align: right;\">\n",
       "      <th></th>\n",
       "      <th>0</th>\n",
       "      <th>1</th>\n",
       "      <th>2</th>\n",
       "      <th>3</th>\n",
       "    </tr>\n",
       "  </thead>\n",
       "  <tbody>\n",
       "    <tr>\n",
       "      <th>2000-01-05</th>\n",
       "      <td>0.204533</td>\n",
       "      <td>1.983053</td>\n",
       "      <td>-0.675003</td>\n",
       "      <td>-1.454214</td>\n",
       "    </tr>\n",
       "    <tr>\n",
       "      <th>2000-01-12</th>\n",
       "      <td>-0.364383</td>\n",
       "      <td>0.666435</td>\n",
       "      <td>-0.882011</td>\n",
       "      <td>1.552979</td>\n",
       "    </tr>\n",
       "  </tbody>\n",
       "</table>\n",
       "</div>"
      ],
      "text/plain": [
       "                   0         1         2         3\n",
       "2000-01-05  0.204533  1.983053 -0.675003 -1.454214\n",
       "2000-01-12 -0.364383  0.666435 -0.882011  1.552979"
      ]
     },
     "execution_count": 50,
     "metadata": {},
     "output_type": "execute_result"
    }
   ],
   "source": [
    "pd.DataFrame(np.random.standard_normal((2, 4)),\n",
    "            index=pd.date_range('2000-01-01', periods=2, freq='W-WED'))"
   ]
  },
  {
   "cell_type": "code",
   "execution_count": 51,
   "id": "cfc706e5-b4da-4370-987e-089039305cfe",
   "metadata": {},
   "outputs": [],
   "source": [
    "frame = pd.DataFrame(np.random.standard_normal((2, 4)),\n",
    "            index=pd.date_range('2000-01-01', periods=2, freq='W-WED'),\n",
    "            columns=['Colorado', 'Texas', 'New York', 'Ohio'])"
   ]
  },
  {
   "cell_type": "code",
   "execution_count": 52,
   "id": "955107e7-ebc5-446d-b8a9-c773ec71ecf4",
   "metadata": {},
   "outputs": [
    {
     "data": {
      "text/html": [
       "<div>\n",
       "<style scoped>\n",
       "    .dataframe tbody tr th:only-of-type {\n",
       "        vertical-align: middle;\n",
       "    }\n",
       "\n",
       "    .dataframe tbody tr th {\n",
       "        vertical-align: top;\n",
       "    }\n",
       "\n",
       "    .dataframe thead th {\n",
       "        text-align: right;\n",
       "    }\n",
       "</style>\n",
       "<table border=\"1\" class=\"dataframe\">\n",
       "  <thead>\n",
       "    <tr style=\"text-align: right;\">\n",
       "      <th></th>\n",
       "      <th>Colorado</th>\n",
       "      <th>Texas</th>\n",
       "      <th>New York</th>\n",
       "      <th>Ohio</th>\n",
       "    </tr>\n",
       "  </thead>\n",
       "  <tbody>\n",
       "    <tr>\n",
       "      <th>2000-01-05</th>\n",
       "      <td>-0.706398</td>\n",
       "      <td>0.223247</td>\n",
       "      <td>0.660100</td>\n",
       "      <td>0.814763</td>\n",
       "    </tr>\n",
       "    <tr>\n",
       "      <th>2000-01-12</th>\n",
       "      <td>-0.796032</td>\n",
       "      <td>0.187475</td>\n",
       "      <td>1.230669</td>\n",
       "      <td>0.530354</td>\n",
       "    </tr>\n",
       "  </tbody>\n",
       "</table>\n",
       "</div>"
      ],
      "text/plain": [
       "            Colorado     Texas  New York      Ohio\n",
       "2000-01-05 -0.706398  0.223247  0.660100  0.814763\n",
       "2000-01-12 -0.796032  0.187475  1.230669  0.530354"
      ]
     },
     "execution_count": 52,
     "metadata": {},
     "output_type": "execute_result"
    }
   ],
   "source": [
    "frame"
   ]
  },
  {
   "cell_type": "code",
   "execution_count": 53,
   "id": "8e09a304-b8e5-4893-a5ac-f3eff8c0004f",
   "metadata": {},
   "outputs": [],
   "source": [
    "#we only have one value per group with this data\n",
    "#missing values occur in the gaps\n",
    "df_daily = frame.resample('D').asfreq()"
   ]
  },
  {
   "cell_type": "code",
   "execution_count": 54,
   "id": "74a298e6-9b55-47f6-8043-d722989ad57b",
   "metadata": {},
   "outputs": [
    {
     "data": {
      "text/html": [
       "<div>\n",
       "<style scoped>\n",
       "    .dataframe tbody tr th:only-of-type {\n",
       "        vertical-align: middle;\n",
       "    }\n",
       "\n",
       "    .dataframe tbody tr th {\n",
       "        vertical-align: top;\n",
       "    }\n",
       "\n",
       "    .dataframe thead th {\n",
       "        text-align: right;\n",
       "    }\n",
       "</style>\n",
       "<table border=\"1\" class=\"dataframe\">\n",
       "  <thead>\n",
       "    <tr style=\"text-align: right;\">\n",
       "      <th></th>\n",
       "      <th>Colorado</th>\n",
       "      <th>Texas</th>\n",
       "      <th>New York</th>\n",
       "      <th>Ohio</th>\n",
       "    </tr>\n",
       "  </thead>\n",
       "  <tbody>\n",
       "    <tr>\n",
       "      <th>2000-01-05</th>\n",
       "      <td>-0.706398</td>\n",
       "      <td>0.223247</td>\n",
       "      <td>0.660100</td>\n",
       "      <td>0.814763</td>\n",
       "    </tr>\n",
       "    <tr>\n",
       "      <th>2000-01-06</th>\n",
       "      <td>NaN</td>\n",
       "      <td>NaN</td>\n",
       "      <td>NaN</td>\n",
       "      <td>NaN</td>\n",
       "    </tr>\n",
       "    <tr>\n",
       "      <th>2000-01-07</th>\n",
       "      <td>NaN</td>\n",
       "      <td>NaN</td>\n",
       "      <td>NaN</td>\n",
       "      <td>NaN</td>\n",
       "    </tr>\n",
       "    <tr>\n",
       "      <th>2000-01-08</th>\n",
       "      <td>NaN</td>\n",
       "      <td>NaN</td>\n",
       "      <td>NaN</td>\n",
       "      <td>NaN</td>\n",
       "    </tr>\n",
       "    <tr>\n",
       "      <th>2000-01-09</th>\n",
       "      <td>NaN</td>\n",
       "      <td>NaN</td>\n",
       "      <td>NaN</td>\n",
       "      <td>NaN</td>\n",
       "    </tr>\n",
       "    <tr>\n",
       "      <th>2000-01-10</th>\n",
       "      <td>NaN</td>\n",
       "      <td>NaN</td>\n",
       "      <td>NaN</td>\n",
       "      <td>NaN</td>\n",
       "    </tr>\n",
       "    <tr>\n",
       "      <th>2000-01-11</th>\n",
       "      <td>NaN</td>\n",
       "      <td>NaN</td>\n",
       "      <td>NaN</td>\n",
       "      <td>NaN</td>\n",
       "    </tr>\n",
       "    <tr>\n",
       "      <th>2000-01-12</th>\n",
       "      <td>-0.796032</td>\n",
       "      <td>0.187475</td>\n",
       "      <td>1.230669</td>\n",
       "      <td>0.530354</td>\n",
       "    </tr>\n",
       "  </tbody>\n",
       "</table>\n",
       "</div>"
      ],
      "text/plain": [
       "            Colorado     Texas  New York      Ohio\n",
       "2000-01-05 -0.706398  0.223247  0.660100  0.814763\n",
       "2000-01-06       NaN       NaN       NaN       NaN\n",
       "2000-01-07       NaN       NaN       NaN       NaN\n",
       "2000-01-08       NaN       NaN       NaN       NaN\n",
       "2000-01-09       NaN       NaN       NaN       NaN\n",
       "2000-01-10       NaN       NaN       NaN       NaN\n",
       "2000-01-11       NaN       NaN       NaN       NaN\n",
       "2000-01-12 -0.796032  0.187475  1.230669  0.530354"
      ]
     },
     "execution_count": 54,
     "metadata": {},
     "output_type": "execute_result"
    }
   ],
   "source": [
    "df_daily"
   ]
  },
  {
   "cell_type": "code",
   "execution_count": 55,
   "id": "194ed18e-17f3-4af6-81ce-cbb3764dac7a",
   "metadata": {},
   "outputs": [
    {
     "data": {
      "text/html": [
       "<div>\n",
       "<style scoped>\n",
       "    .dataframe tbody tr th:only-of-type {\n",
       "        vertical-align: middle;\n",
       "    }\n",
       "\n",
       "    .dataframe tbody tr th {\n",
       "        vertical-align: top;\n",
       "    }\n",
       "\n",
       "    .dataframe thead th {\n",
       "        text-align: right;\n",
       "    }\n",
       "</style>\n",
       "<table border=\"1\" class=\"dataframe\">\n",
       "  <thead>\n",
       "    <tr style=\"text-align: right;\">\n",
       "      <th></th>\n",
       "      <th>Colorado</th>\n",
       "      <th>Texas</th>\n",
       "      <th>New York</th>\n",
       "      <th>Ohio</th>\n",
       "    </tr>\n",
       "  </thead>\n",
       "  <tbody>\n",
       "    <tr>\n",
       "      <th>2000-01-05</th>\n",
       "      <td>-0.706398</td>\n",
       "      <td>0.223247</td>\n",
       "      <td>0.660100</td>\n",
       "      <td>0.814763</td>\n",
       "    </tr>\n",
       "    <tr>\n",
       "      <th>2000-01-06</th>\n",
       "      <td>-0.706398</td>\n",
       "      <td>0.223247</td>\n",
       "      <td>0.660100</td>\n",
       "      <td>0.814763</td>\n",
       "    </tr>\n",
       "    <tr>\n",
       "      <th>2000-01-07</th>\n",
       "      <td>-0.706398</td>\n",
       "      <td>0.223247</td>\n",
       "      <td>0.660100</td>\n",
       "      <td>0.814763</td>\n",
       "    </tr>\n",
       "    <tr>\n",
       "      <th>2000-01-08</th>\n",
       "      <td>-0.706398</td>\n",
       "      <td>0.223247</td>\n",
       "      <td>0.660100</td>\n",
       "      <td>0.814763</td>\n",
       "    </tr>\n",
       "    <tr>\n",
       "      <th>2000-01-09</th>\n",
       "      <td>-0.706398</td>\n",
       "      <td>0.223247</td>\n",
       "      <td>0.660100</td>\n",
       "      <td>0.814763</td>\n",
       "    </tr>\n",
       "    <tr>\n",
       "      <th>2000-01-10</th>\n",
       "      <td>-0.706398</td>\n",
       "      <td>0.223247</td>\n",
       "      <td>0.660100</td>\n",
       "      <td>0.814763</td>\n",
       "    </tr>\n",
       "    <tr>\n",
       "      <th>2000-01-11</th>\n",
       "      <td>-0.706398</td>\n",
       "      <td>0.223247</td>\n",
       "      <td>0.660100</td>\n",
       "      <td>0.814763</td>\n",
       "    </tr>\n",
       "    <tr>\n",
       "      <th>2000-01-12</th>\n",
       "      <td>-0.796032</td>\n",
       "      <td>0.187475</td>\n",
       "      <td>1.230669</td>\n",
       "      <td>0.530354</td>\n",
       "    </tr>\n",
       "  </tbody>\n",
       "</table>\n",
       "</div>"
      ],
      "text/plain": [
       "            Colorado     Texas  New York      Ohio\n",
       "2000-01-05 -0.706398  0.223247  0.660100  0.814763\n",
       "2000-01-06 -0.706398  0.223247  0.660100  0.814763\n",
       "2000-01-07 -0.706398  0.223247  0.660100  0.814763\n",
       "2000-01-08 -0.706398  0.223247  0.660100  0.814763\n",
       "2000-01-09 -0.706398  0.223247  0.660100  0.814763\n",
       "2000-01-10 -0.706398  0.223247  0.660100  0.814763\n",
       "2000-01-11 -0.706398  0.223247  0.660100  0.814763\n",
       "2000-01-12 -0.796032  0.187475  1.230669  0.530354"
      ]
     },
     "execution_count": 55,
     "metadata": {},
     "output_type": "execute_result"
    }
   ],
   "source": [
    "#Same methods as fillna or reindex\n",
    "frame.resample('D').ffill()"
   ]
  },
  {
   "cell_type": "code",
   "execution_count": 56,
   "id": "a08d3119-115a-4b96-a1c6-14a21c7a2dd9",
   "metadata": {},
   "outputs": [
    {
     "data": {
      "text/html": [
       "<div>\n",
       "<style scoped>\n",
       "    .dataframe tbody tr th:only-of-type {\n",
       "        vertical-align: middle;\n",
       "    }\n",
       "\n",
       "    .dataframe tbody tr th {\n",
       "        vertical-align: top;\n",
       "    }\n",
       "\n",
       "    .dataframe thead th {\n",
       "        text-align: right;\n",
       "    }\n",
       "</style>\n",
       "<table border=\"1\" class=\"dataframe\">\n",
       "  <thead>\n",
       "    <tr style=\"text-align: right;\">\n",
       "      <th></th>\n",
       "      <th>Colorado</th>\n",
       "      <th>Texas</th>\n",
       "      <th>New York</th>\n",
       "      <th>Ohio</th>\n",
       "    </tr>\n",
       "  </thead>\n",
       "  <tbody>\n",
       "    <tr>\n",
       "      <th>2000-01-05</th>\n",
       "      <td>-0.706398</td>\n",
       "      <td>0.223247</td>\n",
       "      <td>0.660100</td>\n",
       "      <td>0.814763</td>\n",
       "    </tr>\n",
       "    <tr>\n",
       "      <th>2000-01-06</th>\n",
       "      <td>-0.706398</td>\n",
       "      <td>0.223247</td>\n",
       "      <td>0.660100</td>\n",
       "      <td>0.814763</td>\n",
       "    </tr>\n",
       "    <tr>\n",
       "      <th>2000-01-07</th>\n",
       "      <td>-0.706398</td>\n",
       "      <td>0.223247</td>\n",
       "      <td>0.660100</td>\n",
       "      <td>0.814763</td>\n",
       "    </tr>\n",
       "    <tr>\n",
       "      <th>2000-01-08</th>\n",
       "      <td>NaN</td>\n",
       "      <td>NaN</td>\n",
       "      <td>NaN</td>\n",
       "      <td>NaN</td>\n",
       "    </tr>\n",
       "    <tr>\n",
       "      <th>2000-01-09</th>\n",
       "      <td>NaN</td>\n",
       "      <td>NaN</td>\n",
       "      <td>NaN</td>\n",
       "      <td>NaN</td>\n",
       "    </tr>\n",
       "    <tr>\n",
       "      <th>2000-01-10</th>\n",
       "      <td>NaN</td>\n",
       "      <td>NaN</td>\n",
       "      <td>NaN</td>\n",
       "      <td>NaN</td>\n",
       "    </tr>\n",
       "    <tr>\n",
       "      <th>2000-01-11</th>\n",
       "      <td>NaN</td>\n",
       "      <td>NaN</td>\n",
       "      <td>NaN</td>\n",
       "      <td>NaN</td>\n",
       "    </tr>\n",
       "    <tr>\n",
       "      <th>2000-01-12</th>\n",
       "      <td>-0.796032</td>\n",
       "      <td>0.187475</td>\n",
       "      <td>1.230669</td>\n",
       "      <td>0.530354</td>\n",
       "    </tr>\n",
       "  </tbody>\n",
       "</table>\n",
       "</div>"
      ],
      "text/plain": [
       "            Colorado     Texas  New York      Ohio\n",
       "2000-01-05 -0.706398  0.223247  0.660100  0.814763\n",
       "2000-01-06 -0.706398  0.223247  0.660100  0.814763\n",
       "2000-01-07 -0.706398  0.223247  0.660100  0.814763\n",
       "2000-01-08       NaN       NaN       NaN       NaN\n",
       "2000-01-09       NaN       NaN       NaN       NaN\n",
       "2000-01-10       NaN       NaN       NaN       NaN\n",
       "2000-01-11       NaN       NaN       NaN       NaN\n",
       "2000-01-12 -0.796032  0.187475  1.230669  0.530354"
      ]
     },
     "execution_count": 56,
     "metadata": {},
     "output_type": "execute_result"
    }
   ],
   "source": [
    "#we can also fill only a certain number of periods forward\n",
    "frame.resample('D').ffill(limit=2)"
   ]
  },
  {
   "cell_type": "code",
   "execution_count": 57,
   "id": "fadba7b9-206b-4938-a6b2-8e849b04e9a6",
   "metadata": {},
   "outputs": [
    {
     "data": {
      "text/html": [
       "<div>\n",
       "<style scoped>\n",
       "    .dataframe tbody tr th:only-of-type {\n",
       "        vertical-align: middle;\n",
       "    }\n",
       "\n",
       "    .dataframe tbody tr th {\n",
       "        vertical-align: top;\n",
       "    }\n",
       "\n",
       "    .dataframe thead th {\n",
       "        text-align: right;\n",
       "    }\n",
       "</style>\n",
       "<table border=\"1\" class=\"dataframe\">\n",
       "  <thead>\n",
       "    <tr style=\"text-align: right;\">\n",
       "      <th></th>\n",
       "      <th>Colorado</th>\n",
       "      <th>Texas</th>\n",
       "      <th>New York</th>\n",
       "      <th>Ohio</th>\n",
       "    </tr>\n",
       "  </thead>\n",
       "  <tbody>\n",
       "    <tr>\n",
       "      <th>2000-01-06</th>\n",
       "      <td>-0.706398</td>\n",
       "      <td>0.223247</td>\n",
       "      <td>0.660100</td>\n",
       "      <td>0.814763</td>\n",
       "    </tr>\n",
       "    <tr>\n",
       "      <th>2000-01-13</th>\n",
       "      <td>-0.796032</td>\n",
       "      <td>0.187475</td>\n",
       "      <td>1.230669</td>\n",
       "      <td>0.530354</td>\n",
       "    </tr>\n",
       "  </tbody>\n",
       "</table>\n",
       "</div>"
      ],
      "text/plain": [
       "            Colorado     Texas  New York      Ohio\n",
       "2000-01-06 -0.706398  0.223247  0.660100  0.814763\n",
       "2000-01-13 -0.796032  0.187475  1.230669  0.530354"
      ]
     },
     "execution_count": 57,
     "metadata": {},
     "output_type": "execute_result"
    }
   ],
   "source": [
    "#Interestingly, we do not need to have a date index that is similar to the old one at all\n",
    "frame.resample('W-THU').ffill()"
   ]
  },
  {
   "cell_type": "code",
   "execution_count": 58,
   "id": "63b5e32c-233d-415e-9564-1feb5a990b18",
   "metadata": {},
   "outputs": [],
   "source": [
    "#practice\n",
    "step0 = frame.resample('D').ffill(limit=2)"
   ]
  },
  {
   "cell_type": "code",
   "execution_count": 59,
   "id": "dee76af1-3022-45f8-b0ba-73828ec9ffa3",
   "metadata": {},
   "outputs": [
    {
     "data": {
      "text/html": [
       "<div>\n",
       "<style scoped>\n",
       "    .dataframe tbody tr th:only-of-type {\n",
       "        vertical-align: middle;\n",
       "    }\n",
       "\n",
       "    .dataframe tbody tr th {\n",
       "        vertical-align: top;\n",
       "    }\n",
       "\n",
       "    .dataframe thead th {\n",
       "        text-align: right;\n",
       "    }\n",
       "</style>\n",
       "<table border=\"1\" class=\"dataframe\">\n",
       "  <thead>\n",
       "    <tr style=\"text-align: right;\">\n",
       "      <th></th>\n",
       "      <th>Colorado</th>\n",
       "      <th>Texas</th>\n",
       "      <th>New York</th>\n",
       "      <th>Ohio</th>\n",
       "    </tr>\n",
       "  </thead>\n",
       "  <tbody>\n",
       "    <tr>\n",
       "      <th>2000-01-05</th>\n",
       "      <td>-0.706398</td>\n",
       "      <td>0.223247</td>\n",
       "      <td>0.660100</td>\n",
       "      <td>0.814763</td>\n",
       "    </tr>\n",
       "    <tr>\n",
       "      <th>2000-01-06</th>\n",
       "      <td>-0.706398</td>\n",
       "      <td>0.223247</td>\n",
       "      <td>0.660100</td>\n",
       "      <td>0.814763</td>\n",
       "    </tr>\n",
       "    <tr>\n",
       "      <th>2000-01-07</th>\n",
       "      <td>-0.706398</td>\n",
       "      <td>0.223247</td>\n",
       "      <td>0.660100</td>\n",
       "      <td>0.814763</td>\n",
       "    </tr>\n",
       "    <tr>\n",
       "      <th>2000-01-08</th>\n",
       "      <td>NaN</td>\n",
       "      <td>NaN</td>\n",
       "      <td>NaN</td>\n",
       "      <td>NaN</td>\n",
       "    </tr>\n",
       "    <tr>\n",
       "      <th>2000-01-09</th>\n",
       "      <td>NaN</td>\n",
       "      <td>NaN</td>\n",
       "      <td>NaN</td>\n",
       "      <td>NaN</td>\n",
       "    </tr>\n",
       "    <tr>\n",
       "      <th>2000-01-10</th>\n",
       "      <td>NaN</td>\n",
       "      <td>NaN</td>\n",
       "      <td>NaN</td>\n",
       "      <td>NaN</td>\n",
       "    </tr>\n",
       "    <tr>\n",
       "      <th>2000-01-11</th>\n",
       "      <td>NaN</td>\n",
       "      <td>NaN</td>\n",
       "      <td>NaN</td>\n",
       "      <td>NaN</td>\n",
       "    </tr>\n",
       "    <tr>\n",
       "      <th>2000-01-12</th>\n",
       "      <td>-0.796032</td>\n",
       "      <td>0.187475</td>\n",
       "      <td>1.230669</td>\n",
       "      <td>0.530354</td>\n",
       "    </tr>\n",
       "  </tbody>\n",
       "</table>\n",
       "</div>"
      ],
      "text/plain": [
       "            Colorado     Texas  New York      Ohio\n",
       "2000-01-05 -0.706398  0.223247  0.660100  0.814763\n",
       "2000-01-06 -0.706398  0.223247  0.660100  0.814763\n",
       "2000-01-07 -0.706398  0.223247  0.660100  0.814763\n",
       "2000-01-08       NaN       NaN       NaN       NaN\n",
       "2000-01-09       NaN       NaN       NaN       NaN\n",
       "2000-01-10       NaN       NaN       NaN       NaN\n",
       "2000-01-11       NaN       NaN       NaN       NaN\n",
       "2000-01-12 -0.796032  0.187475  1.230669  0.530354"
      ]
     },
     "execution_count": 59,
     "metadata": {},
     "output_type": "execute_result"
    }
   ],
   "source": [
    "step0"
   ]
  },
  {
   "cell_type": "code",
   "execution_count": 60,
   "id": "84316417-ab76-4848-a29f-9bea75a7aa5c",
   "metadata": {},
   "outputs": [],
   "source": [
    "step1 = step0.bfill(limit=2)"
   ]
  },
  {
   "cell_type": "code",
   "execution_count": 61,
   "id": "7e64e738-c051-49cf-861b-da21c5a3ff74",
   "metadata": {},
   "outputs": [
    {
     "data": {
      "text/html": [
       "<div>\n",
       "<style scoped>\n",
       "    .dataframe tbody tr th:only-of-type {\n",
       "        vertical-align: middle;\n",
       "    }\n",
       "\n",
       "    .dataframe tbody tr th {\n",
       "        vertical-align: top;\n",
       "    }\n",
       "\n",
       "    .dataframe thead th {\n",
       "        text-align: right;\n",
       "    }\n",
       "</style>\n",
       "<table border=\"1\" class=\"dataframe\">\n",
       "  <thead>\n",
       "    <tr style=\"text-align: right;\">\n",
       "      <th></th>\n",
       "      <th>Colorado</th>\n",
       "      <th>Texas</th>\n",
       "      <th>New York</th>\n",
       "      <th>Ohio</th>\n",
       "    </tr>\n",
       "  </thead>\n",
       "  <tbody>\n",
       "    <tr>\n",
       "      <th>2000-01-05</th>\n",
       "      <td>-0.706398</td>\n",
       "      <td>0.223247</td>\n",
       "      <td>0.660100</td>\n",
       "      <td>0.814763</td>\n",
       "    </tr>\n",
       "    <tr>\n",
       "      <th>2000-01-06</th>\n",
       "      <td>-0.706398</td>\n",
       "      <td>0.223247</td>\n",
       "      <td>0.660100</td>\n",
       "      <td>0.814763</td>\n",
       "    </tr>\n",
       "    <tr>\n",
       "      <th>2000-01-07</th>\n",
       "      <td>-0.706398</td>\n",
       "      <td>0.223247</td>\n",
       "      <td>0.660100</td>\n",
       "      <td>0.814763</td>\n",
       "    </tr>\n",
       "    <tr>\n",
       "      <th>2000-01-08</th>\n",
       "      <td>NaN</td>\n",
       "      <td>NaN</td>\n",
       "      <td>NaN</td>\n",
       "      <td>NaN</td>\n",
       "    </tr>\n",
       "    <tr>\n",
       "      <th>2000-01-09</th>\n",
       "      <td>NaN</td>\n",
       "      <td>NaN</td>\n",
       "      <td>NaN</td>\n",
       "      <td>NaN</td>\n",
       "    </tr>\n",
       "    <tr>\n",
       "      <th>2000-01-10</th>\n",
       "      <td>-0.796032</td>\n",
       "      <td>0.187475</td>\n",
       "      <td>1.230669</td>\n",
       "      <td>0.530354</td>\n",
       "    </tr>\n",
       "    <tr>\n",
       "      <th>2000-01-11</th>\n",
       "      <td>-0.796032</td>\n",
       "      <td>0.187475</td>\n",
       "      <td>1.230669</td>\n",
       "      <td>0.530354</td>\n",
       "    </tr>\n",
       "    <tr>\n",
       "      <th>2000-01-12</th>\n",
       "      <td>-0.796032</td>\n",
       "      <td>0.187475</td>\n",
       "      <td>1.230669</td>\n",
       "      <td>0.530354</td>\n",
       "    </tr>\n",
       "  </tbody>\n",
       "</table>\n",
       "</div>"
      ],
      "text/plain": [
       "            Colorado     Texas  New York      Ohio\n",
       "2000-01-05 -0.706398  0.223247  0.660100  0.814763\n",
       "2000-01-06 -0.706398  0.223247  0.660100  0.814763\n",
       "2000-01-07 -0.706398  0.223247  0.660100  0.814763\n",
       "2000-01-08       NaN       NaN       NaN       NaN\n",
       "2000-01-09       NaN       NaN       NaN       NaN\n",
       "2000-01-10 -0.796032  0.187475  1.230669  0.530354\n",
       "2000-01-11 -0.796032  0.187475  1.230669  0.530354\n",
       "2000-01-12 -0.796032  0.187475  1.230669  0.530354"
      ]
     },
     "execution_count": 61,
     "metadata": {},
     "output_type": "execute_result"
    }
   ],
   "source": [
    "step1"
   ]
  },
  {
   "cell_type": "code",
   "execution_count": 62,
   "id": "e76d5b65-33e6-498f-ac52-90b2dd4c2241",
   "metadata": {},
   "outputs": [],
   "source": [
    "step2 = step0.fillna(step0.mean(axis=0))"
   ]
  },
  {
   "cell_type": "code",
   "execution_count": 63,
   "id": "87f6fad4-a0a4-42e6-9059-056db824cb59",
   "metadata": {},
   "outputs": [
    {
     "data": {
      "text/html": [
       "<div>\n",
       "<style scoped>\n",
       "    .dataframe tbody tr th:only-of-type {\n",
       "        vertical-align: middle;\n",
       "    }\n",
       "\n",
       "    .dataframe tbody tr th {\n",
       "        vertical-align: top;\n",
       "    }\n",
       "\n",
       "    .dataframe thead th {\n",
       "        text-align: right;\n",
       "    }\n",
       "</style>\n",
       "<table border=\"1\" class=\"dataframe\">\n",
       "  <thead>\n",
       "    <tr style=\"text-align: right;\">\n",
       "      <th></th>\n",
       "      <th>Colorado</th>\n",
       "      <th>Texas</th>\n",
       "      <th>New York</th>\n",
       "      <th>Ohio</th>\n",
       "    </tr>\n",
       "  </thead>\n",
       "  <tbody>\n",
       "    <tr>\n",
       "      <th>2000-01-05</th>\n",
       "      <td>-0.706398</td>\n",
       "      <td>0.223247</td>\n",
       "      <td>0.660100</td>\n",
       "      <td>0.814763</td>\n",
       "    </tr>\n",
       "    <tr>\n",
       "      <th>2000-01-06</th>\n",
       "      <td>-0.706398</td>\n",
       "      <td>0.223247</td>\n",
       "      <td>0.660100</td>\n",
       "      <td>0.814763</td>\n",
       "    </tr>\n",
       "    <tr>\n",
       "      <th>2000-01-07</th>\n",
       "      <td>-0.706398</td>\n",
       "      <td>0.223247</td>\n",
       "      <td>0.660100</td>\n",
       "      <td>0.814763</td>\n",
       "    </tr>\n",
       "    <tr>\n",
       "      <th>2000-01-08</th>\n",
       "      <td>-0.728806</td>\n",
       "      <td>0.214304</td>\n",
       "      <td>0.802742</td>\n",
       "      <td>0.743661</td>\n",
       "    </tr>\n",
       "    <tr>\n",
       "      <th>2000-01-09</th>\n",
       "      <td>-0.728806</td>\n",
       "      <td>0.214304</td>\n",
       "      <td>0.802742</td>\n",
       "      <td>0.743661</td>\n",
       "    </tr>\n",
       "    <tr>\n",
       "      <th>2000-01-10</th>\n",
       "      <td>-0.728806</td>\n",
       "      <td>0.214304</td>\n",
       "      <td>0.802742</td>\n",
       "      <td>0.743661</td>\n",
       "    </tr>\n",
       "    <tr>\n",
       "      <th>2000-01-11</th>\n",
       "      <td>-0.728806</td>\n",
       "      <td>0.214304</td>\n",
       "      <td>0.802742</td>\n",
       "      <td>0.743661</td>\n",
       "    </tr>\n",
       "    <tr>\n",
       "      <th>2000-01-12</th>\n",
       "      <td>-0.796032</td>\n",
       "      <td>0.187475</td>\n",
       "      <td>1.230669</td>\n",
       "      <td>0.530354</td>\n",
       "    </tr>\n",
       "  </tbody>\n",
       "</table>\n",
       "</div>"
      ],
      "text/plain": [
       "            Colorado     Texas  New York      Ohio\n",
       "2000-01-05 -0.706398  0.223247  0.660100  0.814763\n",
       "2000-01-06 -0.706398  0.223247  0.660100  0.814763\n",
       "2000-01-07 -0.706398  0.223247  0.660100  0.814763\n",
       "2000-01-08 -0.728806  0.214304  0.802742  0.743661\n",
       "2000-01-09 -0.728806  0.214304  0.802742  0.743661\n",
       "2000-01-10 -0.728806  0.214304  0.802742  0.743661\n",
       "2000-01-11 -0.728806  0.214304  0.802742  0.743661\n",
       "2000-01-12 -0.796032  0.187475  1.230669  0.530354"
      ]
     },
     "execution_count": 63,
     "metadata": {},
     "output_type": "execute_result"
    }
   ],
   "source": [
    "step2"
   ]
  },
  {
   "cell_type": "code",
   "execution_count": 64,
   "id": "bf75f52a-71c8-4784-89d2-1457712bf885",
   "metadata": {},
   "outputs": [],
   "source": [
    "#resampling with periods\n",
    "#simlar to timestamps\n",
    "frame = pd.DataFrame(np.random.standard_normal((24, 4)),\n",
    "                    index=pd.period_range('1-2000', '12-2001',\n",
    "                                         freq='M'),\n",
    "                    columns=['Colorado', 'Texas', 'New York', 'Ohio'])"
   ]
  },
  {
   "cell_type": "code",
   "execution_count": 65,
   "id": "c5b92f12-558a-42e4-a104-eab907de2d17",
   "metadata": {},
   "outputs": [
    {
     "data": {
      "text/html": [
       "<div>\n",
       "<style scoped>\n",
       "    .dataframe tbody tr th:only-of-type {\n",
       "        vertical-align: middle;\n",
       "    }\n",
       "\n",
       "    .dataframe tbody tr th {\n",
       "        vertical-align: top;\n",
       "    }\n",
       "\n",
       "    .dataframe thead th {\n",
       "        text-align: right;\n",
       "    }\n",
       "</style>\n",
       "<table border=\"1\" class=\"dataframe\">\n",
       "  <thead>\n",
       "    <tr style=\"text-align: right;\">\n",
       "      <th></th>\n",
       "      <th>Colorado</th>\n",
       "      <th>Texas</th>\n",
       "      <th>New York</th>\n",
       "      <th>Ohio</th>\n",
       "    </tr>\n",
       "  </thead>\n",
       "  <tbody>\n",
       "    <tr>\n",
       "      <th>2000-01</th>\n",
       "      <td>-0.563938</td>\n",
       "      <td>0.485148</td>\n",
       "      <td>0.243539</td>\n",
       "      <td>0.877014</td>\n",
       "    </tr>\n",
       "    <tr>\n",
       "      <th>2000-02</th>\n",
       "      <td>-0.556545</td>\n",
       "      <td>2.117484</td>\n",
       "      <td>-0.032936</td>\n",
       "      <td>0.575301</td>\n",
       "    </tr>\n",
       "    <tr>\n",
       "      <th>2000-03</th>\n",
       "      <td>-1.564062</td>\n",
       "      <td>1.592204</td>\n",
       "      <td>-0.750089</td>\n",
       "      <td>0.144420</td>\n",
       "    </tr>\n",
       "    <tr>\n",
       "      <th>2000-04</th>\n",
       "      <td>-1.178436</td>\n",
       "      <td>-0.238127</td>\n",
       "      <td>-1.760505</td>\n",
       "      <td>-0.568869</td>\n",
       "    </tr>\n",
       "    <tr>\n",
       "      <th>2000-05</th>\n",
       "      <td>-1.128359</td>\n",
       "      <td>-1.340785</td>\n",
       "      <td>1.075025</td>\n",
       "      <td>-0.790068</td>\n",
       "    </tr>\n",
       "  </tbody>\n",
       "</table>\n",
       "</div>"
      ],
      "text/plain": [
       "         Colorado     Texas  New York      Ohio\n",
       "2000-01 -0.563938  0.485148  0.243539  0.877014\n",
       "2000-02 -0.556545  2.117484 -0.032936  0.575301\n",
       "2000-03 -1.564062  1.592204 -0.750089  0.144420\n",
       "2000-04 -1.178436 -0.238127 -1.760505 -0.568869\n",
       "2000-05 -1.128359 -1.340785  1.075025 -0.790068"
      ]
     },
     "execution_count": 65,
     "metadata": {},
     "output_type": "execute_result"
    }
   ],
   "source": [
    "frame.head(n=5)"
   ]
  },
  {
   "cell_type": "code",
   "execution_count": 66,
   "id": "c8407dfc-caa6-4d3d-bf57-edefef9812a6",
   "metadata": {},
   "outputs": [],
   "source": [
    "annual_frame = frame.resample('A-DEC').mean()"
   ]
  },
  {
   "cell_type": "code",
   "execution_count": 67,
   "id": "113d75a6-53b3-4ea8-b93d-06258584ac07",
   "metadata": {},
   "outputs": [
    {
     "data": {
      "text/html": [
       "<div>\n",
       "<style scoped>\n",
       "    .dataframe tbody tr th:only-of-type {\n",
       "        vertical-align: middle;\n",
       "    }\n",
       "\n",
       "    .dataframe tbody tr th {\n",
       "        vertical-align: top;\n",
       "    }\n",
       "\n",
       "    .dataframe thead th {\n",
       "        text-align: right;\n",
       "    }\n",
       "</style>\n",
       "<table border=\"1\" class=\"dataframe\">\n",
       "  <thead>\n",
       "    <tr style=\"text-align: right;\">\n",
       "      <th></th>\n",
       "      <th>Colorado</th>\n",
       "      <th>Texas</th>\n",
       "      <th>New York</th>\n",
       "      <th>Ohio</th>\n",
       "    </tr>\n",
       "  </thead>\n",
       "  <tbody>\n",
       "    <tr>\n",
       "      <th>2000</th>\n",
       "      <td>-0.521683</td>\n",
       "      <td>-0.303638</td>\n",
       "      <td>-0.155024</td>\n",
       "      <td>-0.315890</td>\n",
       "    </tr>\n",
       "    <tr>\n",
       "      <th>2001</th>\n",
       "      <td>0.010259</td>\n",
       "      <td>-0.070632</td>\n",
       "      <td>0.182642</td>\n",
       "      <td>0.479801</td>\n",
       "    </tr>\n",
       "  </tbody>\n",
       "</table>\n",
       "</div>"
      ],
      "text/plain": [
       "      Colorado     Texas  New York      Ohio\n",
       "2000 -0.521683 -0.303638 -0.155024 -0.315890\n",
       "2001  0.010259 -0.070632  0.182642  0.479801"
      ]
     },
     "execution_count": 67,
     "metadata": {},
     "output_type": "execute_result"
    }
   ],
   "source": [
    "annual_frame"
   ]
  },
  {
   "cell_type": "code",
   "execution_count": 68,
   "id": "3bfc46a2-3b43-4871-8746-e74a51fc1f73",
   "metadata": {},
   "outputs": [
    {
     "data": {
      "text/html": [
       "<div>\n",
       "<style scoped>\n",
       "    .dataframe tbody tr th:only-of-type {\n",
       "        vertical-align: middle;\n",
       "    }\n",
       "\n",
       "    .dataframe tbody tr th {\n",
       "        vertical-align: top;\n",
       "    }\n",
       "\n",
       "    .dataframe thead th {\n",
       "        text-align: right;\n",
       "    }\n",
       "</style>\n",
       "<table border=\"1\" class=\"dataframe\">\n",
       "  <thead>\n",
       "    <tr style=\"text-align: right;\">\n",
       "      <th></th>\n",
       "      <th>Colorado</th>\n",
       "      <th>Texas</th>\n",
       "      <th>New York</th>\n",
       "      <th>Ohio</th>\n",
       "    </tr>\n",
       "  </thead>\n",
       "  <tbody>\n",
       "    <tr>\n",
       "      <th>2000Q1</th>\n",
       "      <td>-0.521683</td>\n",
       "      <td>-0.303638</td>\n",
       "      <td>-0.155024</td>\n",
       "      <td>-0.315890</td>\n",
       "    </tr>\n",
       "    <tr>\n",
       "      <th>2000Q2</th>\n",
       "      <td>-0.521683</td>\n",
       "      <td>-0.303638</td>\n",
       "      <td>-0.155024</td>\n",
       "      <td>-0.315890</td>\n",
       "    </tr>\n",
       "    <tr>\n",
       "      <th>2000Q3</th>\n",
       "      <td>-0.521683</td>\n",
       "      <td>-0.303638</td>\n",
       "      <td>-0.155024</td>\n",
       "      <td>-0.315890</td>\n",
       "    </tr>\n",
       "    <tr>\n",
       "      <th>2000Q4</th>\n",
       "      <td>-0.521683</td>\n",
       "      <td>-0.303638</td>\n",
       "      <td>-0.155024</td>\n",
       "      <td>-0.315890</td>\n",
       "    </tr>\n",
       "    <tr>\n",
       "      <th>2001Q1</th>\n",
       "      <td>0.010259</td>\n",
       "      <td>-0.070632</td>\n",
       "      <td>0.182642</td>\n",
       "      <td>0.479801</td>\n",
       "    </tr>\n",
       "    <tr>\n",
       "      <th>2001Q2</th>\n",
       "      <td>0.010259</td>\n",
       "      <td>-0.070632</td>\n",
       "      <td>0.182642</td>\n",
       "      <td>0.479801</td>\n",
       "    </tr>\n",
       "    <tr>\n",
       "      <th>2001Q3</th>\n",
       "      <td>0.010259</td>\n",
       "      <td>-0.070632</td>\n",
       "      <td>0.182642</td>\n",
       "      <td>0.479801</td>\n",
       "    </tr>\n",
       "    <tr>\n",
       "      <th>2001Q4</th>\n",
       "      <td>0.010259</td>\n",
       "      <td>-0.070632</td>\n",
       "      <td>0.182642</td>\n",
       "      <td>0.479801</td>\n",
       "    </tr>\n",
       "  </tbody>\n",
       "</table>\n",
       "</div>"
      ],
      "text/plain": [
       "        Colorado     Texas  New York      Ohio\n",
       "2000Q1 -0.521683 -0.303638 -0.155024 -0.315890\n",
       "2000Q2 -0.521683 -0.303638 -0.155024 -0.315890\n",
       "2000Q3 -0.521683 -0.303638 -0.155024 -0.315890\n",
       "2000Q4 -0.521683 -0.303638 -0.155024 -0.315890\n",
       "2001Q1  0.010259 -0.070632  0.182642  0.479801\n",
       "2001Q2  0.010259 -0.070632  0.182642  0.479801\n",
       "2001Q3  0.010259 -0.070632  0.182642  0.479801\n",
       "2001Q4  0.010259 -0.070632  0.182642  0.479801"
      ]
     },
     "execution_count": 68,
     "metadata": {},
     "output_type": "execute_result"
    }
   ],
   "source": [
    "#upsampling is more nuanced, as we must make the decision about which end in which to place\n",
    "#the values. Default is start, but we can specify end.\n",
    "#Quarterly, year ending in December\n",
    "annual_frame.resample('Q-DEC').ffill()"
   ]
  },
  {
   "cell_type": "code",
   "execution_count": 69,
   "id": "98e23ea4-d65f-42ca-b3ee-f828ee16c443",
   "metadata": {},
   "outputs": [
    {
     "data": {
      "text/html": [
       "<div>\n",
       "<style scoped>\n",
       "    .dataframe tbody tr th:only-of-type {\n",
       "        vertical-align: middle;\n",
       "    }\n",
       "\n",
       "    .dataframe tbody tr th {\n",
       "        vertical-align: top;\n",
       "    }\n",
       "\n",
       "    .dataframe thead th {\n",
       "        text-align: right;\n",
       "    }\n",
       "</style>\n",
       "<table border=\"1\" class=\"dataframe\">\n",
       "  <thead>\n",
       "    <tr style=\"text-align: right;\">\n",
       "      <th></th>\n",
       "      <th>Colorado</th>\n",
       "      <th>Texas</th>\n",
       "      <th>New York</th>\n",
       "      <th>Ohio</th>\n",
       "    </tr>\n",
       "  </thead>\n",
       "  <tbody>\n",
       "    <tr>\n",
       "      <th>2000Q1</th>\n",
       "      <td>-0.521683</td>\n",
       "      <td>-0.303638</td>\n",
       "      <td>-0.155024</td>\n",
       "      <td>-0.315890</td>\n",
       "    </tr>\n",
       "    <tr>\n",
       "      <th>2000Q2</th>\n",
       "      <td>NaN</td>\n",
       "      <td>NaN</td>\n",
       "      <td>NaN</td>\n",
       "      <td>NaN</td>\n",
       "    </tr>\n",
       "    <tr>\n",
       "      <th>2000Q3</th>\n",
       "      <td>NaN</td>\n",
       "      <td>NaN</td>\n",
       "      <td>NaN</td>\n",
       "      <td>NaN</td>\n",
       "    </tr>\n",
       "    <tr>\n",
       "      <th>2000Q4</th>\n",
       "      <td>NaN</td>\n",
       "      <td>NaN</td>\n",
       "      <td>NaN</td>\n",
       "      <td>NaN</td>\n",
       "    </tr>\n",
       "    <tr>\n",
       "      <th>2001Q1</th>\n",
       "      <td>0.010259</td>\n",
       "      <td>-0.070632</td>\n",
       "      <td>0.182642</td>\n",
       "      <td>0.479801</td>\n",
       "    </tr>\n",
       "    <tr>\n",
       "      <th>2001Q2</th>\n",
       "      <td>NaN</td>\n",
       "      <td>NaN</td>\n",
       "      <td>NaN</td>\n",
       "      <td>NaN</td>\n",
       "    </tr>\n",
       "    <tr>\n",
       "      <th>2001Q3</th>\n",
       "      <td>NaN</td>\n",
       "      <td>NaN</td>\n",
       "      <td>NaN</td>\n",
       "      <td>NaN</td>\n",
       "    </tr>\n",
       "    <tr>\n",
       "      <th>2001Q4</th>\n",
       "      <td>NaN</td>\n",
       "      <td>NaN</td>\n",
       "      <td>NaN</td>\n",
       "      <td>NaN</td>\n",
       "    </tr>\n",
       "  </tbody>\n",
       "</table>\n",
       "</div>"
      ],
      "text/plain": [
       "        Colorado     Texas  New York      Ohio\n",
       "2000Q1 -0.521683 -0.303638 -0.155024 -0.315890\n",
       "2000Q2       NaN       NaN       NaN       NaN\n",
       "2000Q3       NaN       NaN       NaN       NaN\n",
       "2000Q4       NaN       NaN       NaN       NaN\n",
       "2001Q1  0.010259 -0.070632  0.182642  0.479801\n",
       "2001Q2       NaN       NaN       NaN       NaN\n",
       "2001Q3       NaN       NaN       NaN       NaN\n",
       "2001Q4       NaN       NaN       NaN       NaN"
      ]
     },
     "execution_count": 69,
     "metadata": {},
     "output_type": "execute_result"
    }
   ],
   "source": [
    "annual_frame.resample('Q-DEC', convention='start').asfreq()"
   ]
  },
  {
   "cell_type": "code",
   "execution_count": 70,
   "id": "baf6275d-4c30-4af7-9fcd-e49a71caf084",
   "metadata": {},
   "outputs": [
    {
     "data": {
      "text/html": [
       "<div>\n",
       "<style scoped>\n",
       "    .dataframe tbody tr th:only-of-type {\n",
       "        vertical-align: middle;\n",
       "    }\n",
       "\n",
       "    .dataframe tbody tr th {\n",
       "        vertical-align: top;\n",
       "    }\n",
       "\n",
       "    .dataframe thead th {\n",
       "        text-align: right;\n",
       "    }\n",
       "</style>\n",
       "<table border=\"1\" class=\"dataframe\">\n",
       "  <thead>\n",
       "    <tr style=\"text-align: right;\">\n",
       "      <th></th>\n",
       "      <th>Colorado</th>\n",
       "      <th>Texas</th>\n",
       "      <th>New York</th>\n",
       "      <th>Ohio</th>\n",
       "    </tr>\n",
       "  </thead>\n",
       "  <tbody>\n",
       "    <tr>\n",
       "      <th>2000Q4</th>\n",
       "      <td>-0.521683</td>\n",
       "      <td>-0.303638</td>\n",
       "      <td>-0.155024</td>\n",
       "      <td>-0.315890</td>\n",
       "    </tr>\n",
       "    <tr>\n",
       "      <th>2001Q1</th>\n",
       "      <td>NaN</td>\n",
       "      <td>NaN</td>\n",
       "      <td>NaN</td>\n",
       "      <td>NaN</td>\n",
       "    </tr>\n",
       "    <tr>\n",
       "      <th>2001Q2</th>\n",
       "      <td>NaN</td>\n",
       "      <td>NaN</td>\n",
       "      <td>NaN</td>\n",
       "      <td>NaN</td>\n",
       "    </tr>\n",
       "    <tr>\n",
       "      <th>2001Q3</th>\n",
       "      <td>NaN</td>\n",
       "      <td>NaN</td>\n",
       "      <td>NaN</td>\n",
       "      <td>NaN</td>\n",
       "    </tr>\n",
       "    <tr>\n",
       "      <th>2001Q4</th>\n",
       "      <td>0.010259</td>\n",
       "      <td>-0.070632</td>\n",
       "      <td>0.182642</td>\n",
       "      <td>0.479801</td>\n",
       "    </tr>\n",
       "  </tbody>\n",
       "</table>\n",
       "</div>"
      ],
      "text/plain": [
       "        Colorado     Texas  New York      Ohio\n",
       "2000Q4 -0.521683 -0.303638 -0.155024 -0.315890\n",
       "2001Q1       NaN       NaN       NaN       NaN\n",
       "2001Q2       NaN       NaN       NaN       NaN\n",
       "2001Q3       NaN       NaN       NaN       NaN\n",
       "2001Q4  0.010259 -0.070632  0.182642  0.479801"
      ]
     },
     "execution_count": 70,
     "metadata": {},
     "output_type": "execute_result"
    }
   ],
   "source": [
    "annual_frame.resample('Q-DEC', convention='end').asfreq()"
   ]
  },
  {
   "cell_type": "code",
   "execution_count": 71,
   "id": "88580374-ae3b-411b-8962-8197da5dd3a2",
   "metadata": {},
   "outputs": [
    {
     "data": {
      "text/html": [
       "<div>\n",
       "<style scoped>\n",
       "    .dataframe tbody tr th:only-of-type {\n",
       "        vertical-align: middle;\n",
       "    }\n",
       "\n",
       "    .dataframe tbody tr th {\n",
       "        vertical-align: top;\n",
       "    }\n",
       "\n",
       "    .dataframe thead th {\n",
       "        text-align: right;\n",
       "    }\n",
       "</style>\n",
       "<table border=\"1\" class=\"dataframe\">\n",
       "  <thead>\n",
       "    <tr style=\"text-align: right;\">\n",
       "      <th></th>\n",
       "      <th>Colorado</th>\n",
       "      <th>Texas</th>\n",
       "      <th>New York</th>\n",
       "      <th>Ohio</th>\n",
       "    </tr>\n",
       "  </thead>\n",
       "  <tbody>\n",
       "    <tr>\n",
       "      <th>2000Q4</th>\n",
       "      <td>-0.521683</td>\n",
       "      <td>-0.303638</td>\n",
       "      <td>-0.155024</td>\n",
       "      <td>-0.315890</td>\n",
       "    </tr>\n",
       "    <tr>\n",
       "      <th>2001Q1</th>\n",
       "      <td>NaN</td>\n",
       "      <td>NaN</td>\n",
       "      <td>NaN</td>\n",
       "      <td>NaN</td>\n",
       "    </tr>\n",
       "    <tr>\n",
       "      <th>2001Q2</th>\n",
       "      <td>NaN</td>\n",
       "      <td>NaN</td>\n",
       "      <td>NaN</td>\n",
       "      <td>NaN</td>\n",
       "    </tr>\n",
       "    <tr>\n",
       "      <th>2001Q3</th>\n",
       "      <td>NaN</td>\n",
       "      <td>NaN</td>\n",
       "      <td>NaN</td>\n",
       "      <td>NaN</td>\n",
       "    </tr>\n",
       "    <tr>\n",
       "      <th>2001Q4</th>\n",
       "      <td>0.010259</td>\n",
       "      <td>-0.070632</td>\n",
       "      <td>0.182642</td>\n",
       "      <td>0.479801</td>\n",
       "    </tr>\n",
       "  </tbody>\n",
       "</table>\n",
       "</div>"
      ],
      "text/plain": [
       "        Colorado     Texas  New York      Ohio\n",
       "2000Q4 -0.521683 -0.303638 -0.155024 -0.315890\n",
       "2001Q1       NaN       NaN       NaN       NaN\n",
       "2001Q2       NaN       NaN       NaN       NaN\n",
       "2001Q3       NaN       NaN       NaN       NaN\n",
       "2001Q4  0.010259 -0.070632  0.182642  0.479801"
      ]
     },
     "execution_count": 71,
     "metadata": {},
     "output_type": "execute_result"
    }
   ],
   "source": [
    "annual_frame.resample('Q-DEC', convention='end').asfreq()"
   ]
  },
  {
   "cell_type": "code",
   "execution_count": 72,
   "id": "bb3b072b-ca1c-49b2-a669-701b18f07089",
   "metadata": {},
   "outputs": [
    {
     "data": {
      "text/html": [
       "<div>\n",
       "<style scoped>\n",
       "    .dataframe tbody tr th:only-of-type {\n",
       "        vertical-align: middle;\n",
       "    }\n",
       "\n",
       "    .dataframe tbody tr th {\n",
       "        vertical-align: top;\n",
       "    }\n",
       "\n",
       "    .dataframe thead th {\n",
       "        text-align: right;\n",
       "    }\n",
       "</style>\n",
       "<table border=\"1\" class=\"dataframe\">\n",
       "  <thead>\n",
       "    <tr style=\"text-align: right;\">\n",
       "      <th></th>\n",
       "      <th>Colorado</th>\n",
       "      <th>Texas</th>\n",
       "      <th>New York</th>\n",
       "      <th>Ohio</th>\n",
       "    </tr>\n",
       "  </thead>\n",
       "  <tbody>\n",
       "    <tr>\n",
       "      <th>2000Q4</th>\n",
       "      <td>-0.521683</td>\n",
       "      <td>-0.303638</td>\n",
       "      <td>-0.155024</td>\n",
       "      <td>-0.315890</td>\n",
       "    </tr>\n",
       "    <tr>\n",
       "      <th>2001Q1</th>\n",
       "      <td>-0.521683</td>\n",
       "      <td>-0.303638</td>\n",
       "      <td>-0.155024</td>\n",
       "      <td>-0.315890</td>\n",
       "    </tr>\n",
       "    <tr>\n",
       "      <th>2001Q2</th>\n",
       "      <td>-0.521683</td>\n",
       "      <td>-0.303638</td>\n",
       "      <td>-0.155024</td>\n",
       "      <td>-0.315890</td>\n",
       "    </tr>\n",
       "    <tr>\n",
       "      <th>2001Q3</th>\n",
       "      <td>-0.521683</td>\n",
       "      <td>-0.303638</td>\n",
       "      <td>-0.155024</td>\n",
       "      <td>-0.315890</td>\n",
       "    </tr>\n",
       "    <tr>\n",
       "      <th>2001Q4</th>\n",
       "      <td>0.010259</td>\n",
       "      <td>-0.070632</td>\n",
       "      <td>0.182642</td>\n",
       "      <td>0.479801</td>\n",
       "    </tr>\n",
       "    <tr>\n",
       "      <th>2002Q1</th>\n",
       "      <td>0.010259</td>\n",
       "      <td>-0.070632</td>\n",
       "      <td>0.182642</td>\n",
       "      <td>0.479801</td>\n",
       "    </tr>\n",
       "    <tr>\n",
       "      <th>2002Q2</th>\n",
       "      <td>0.010259</td>\n",
       "      <td>-0.070632</td>\n",
       "      <td>0.182642</td>\n",
       "      <td>0.479801</td>\n",
       "    </tr>\n",
       "    <tr>\n",
       "      <th>2002Q3</th>\n",
       "      <td>0.010259</td>\n",
       "      <td>-0.070632</td>\n",
       "      <td>0.182642</td>\n",
       "      <td>0.479801</td>\n",
       "    </tr>\n",
       "  </tbody>\n",
       "</table>\n",
       "</div>"
      ],
      "text/plain": [
       "        Colorado     Texas  New York      Ohio\n",
       "2000Q4 -0.521683 -0.303638 -0.155024 -0.315890\n",
       "2001Q1 -0.521683 -0.303638 -0.155024 -0.315890\n",
       "2001Q2 -0.521683 -0.303638 -0.155024 -0.315890\n",
       "2001Q3 -0.521683 -0.303638 -0.155024 -0.315890\n",
       "2001Q4  0.010259 -0.070632  0.182642  0.479801\n",
       "2002Q1  0.010259 -0.070632  0.182642  0.479801\n",
       "2002Q2  0.010259 -0.070632  0.182642  0.479801\n",
       "2002Q3  0.010259 -0.070632  0.182642  0.479801"
      ]
     },
     "execution_count": 72,
     "metadata": {},
     "output_type": "execute_result"
    }
   ],
   "source": [
    "#in resampling, a larger frequency must be a superperiod or subperiod of the original period range,\n",
    "#depending on if we are downsampling or upsampling, respectively.\n",
    "annual_frame.resample('Q-MAR').ffill()"
   ]
  },
  {
   "cell_type": "code",
   "execution_count": 73,
   "id": "17ea5f00-303f-43f2-ad17-00c6819d5b89",
   "metadata": {},
   "outputs": [],
   "source": [
    "test0 = annual_frame.resample('Q-MAR').ffill()"
   ]
  },
  {
   "cell_type": "code",
   "execution_count": 74,
   "id": "68806004-3211-42db-8c46-e7c238774622",
   "metadata": {},
   "outputs": [
    {
     "data": {
      "text/html": [
       "<div>\n",
       "<style scoped>\n",
       "    .dataframe tbody tr th:only-of-type {\n",
       "        vertical-align: middle;\n",
       "    }\n",
       "\n",
       "    .dataframe tbody tr th {\n",
       "        vertical-align: top;\n",
       "    }\n",
       "\n",
       "    .dataframe thead th {\n",
       "        text-align: right;\n",
       "    }\n",
       "</style>\n",
       "<table border=\"1\" class=\"dataframe\">\n",
       "  <thead>\n",
       "    <tr style=\"text-align: right;\">\n",
       "      <th></th>\n",
       "      <th>Colorado</th>\n",
       "      <th>Texas</th>\n",
       "      <th>New York</th>\n",
       "      <th>Ohio</th>\n",
       "    </tr>\n",
       "  </thead>\n",
       "  <tbody>\n",
       "    <tr>\n",
       "      <th>2000Q4</th>\n",
       "      <td>-0.521683</td>\n",
       "      <td>-0.303638</td>\n",
       "      <td>-0.155024</td>\n",
       "      <td>-0.315890</td>\n",
       "    </tr>\n",
       "    <tr>\n",
       "      <th>2001Q1</th>\n",
       "      <td>-0.521683</td>\n",
       "      <td>-0.303638</td>\n",
       "      <td>-0.155024</td>\n",
       "      <td>-0.315890</td>\n",
       "    </tr>\n",
       "    <tr>\n",
       "      <th>2001Q2</th>\n",
       "      <td>-0.521683</td>\n",
       "      <td>-0.303638</td>\n",
       "      <td>-0.155024</td>\n",
       "      <td>-0.315890</td>\n",
       "    </tr>\n",
       "    <tr>\n",
       "      <th>2001Q3</th>\n",
       "      <td>-0.521683</td>\n",
       "      <td>-0.303638</td>\n",
       "      <td>-0.155024</td>\n",
       "      <td>-0.315890</td>\n",
       "    </tr>\n",
       "    <tr>\n",
       "      <th>2001Q4</th>\n",
       "      <td>0.010259</td>\n",
       "      <td>-0.070632</td>\n",
       "      <td>0.182642</td>\n",
       "      <td>0.479801</td>\n",
       "    </tr>\n",
       "    <tr>\n",
       "      <th>2002Q1</th>\n",
       "      <td>0.010259</td>\n",
       "      <td>-0.070632</td>\n",
       "      <td>0.182642</td>\n",
       "      <td>0.479801</td>\n",
       "    </tr>\n",
       "    <tr>\n",
       "      <th>2002Q2</th>\n",
       "      <td>0.010259</td>\n",
       "      <td>-0.070632</td>\n",
       "      <td>0.182642</td>\n",
       "      <td>0.479801</td>\n",
       "    </tr>\n",
       "    <tr>\n",
       "      <th>2002Q3</th>\n",
       "      <td>0.010259</td>\n",
       "      <td>-0.070632</td>\n",
       "      <td>0.182642</td>\n",
       "      <td>0.479801</td>\n",
       "    </tr>\n",
       "  </tbody>\n",
       "</table>\n",
       "</div>"
      ],
      "text/plain": [
       "        Colorado     Texas  New York      Ohio\n",
       "2000Q4 -0.521683 -0.303638 -0.155024 -0.315890\n",
       "2001Q1 -0.521683 -0.303638 -0.155024 -0.315890\n",
       "2001Q2 -0.521683 -0.303638 -0.155024 -0.315890\n",
       "2001Q3 -0.521683 -0.303638 -0.155024 -0.315890\n",
       "2001Q4  0.010259 -0.070632  0.182642  0.479801\n",
       "2002Q1  0.010259 -0.070632  0.182642  0.479801\n",
       "2002Q2  0.010259 -0.070632  0.182642  0.479801\n",
       "2002Q3  0.010259 -0.070632  0.182642  0.479801"
      ]
     },
     "execution_count": 74,
     "metadata": {},
     "output_type": "execute_result"
    }
   ],
   "source": [
    "test0"
   ]
  },
  {
   "cell_type": "code",
   "execution_count": 75,
   "id": "c77f94c3-db25-4d9e-8ca4-e6778b1513d4",
   "metadata": {},
   "outputs": [
    {
     "name": "stdout",
     "output_type": "stream",
     "text": [
      "Reindexing only valid with uniquely valued Index objects\n"
     ]
    }
   ],
   "source": [
    "#Q-Mar only lines up with A-MAR, A-JUN, A-SEP, and A-DEC.\n",
    "try:\n",
    "    test0.resample('A-FEB').asfreq()\n",
    "except Exception as e:\n",
    "    print(e)"
   ]
  },
  {
   "cell_type": "code",
   "execution_count": 76,
   "id": "0b4dbbd2-9a34-47ae-aaac-a4f7bb5fed7e",
   "metadata": {},
   "outputs": [],
   "source": [
    "#grouped time resampling\n",
    "#for time series data, resample is a group operation based on a time intervalization\n",
    "#for example (pg. 394)\n",
    "N = 15"
   ]
  },
  {
   "cell_type": "code",
   "execution_count": 77,
   "id": "5cf113b4-3460-434b-9370-46ae299359c5",
   "metadata": {},
   "outputs": [],
   "source": [
    "times = pd.date_range('2017-05-20 00:00', freq='1min', periods=N)"
   ]
  },
  {
   "cell_type": "code",
   "execution_count": 78,
   "id": "9ae32b82-8e99-48b9-b86a-b95c0522ae52",
   "metadata": {},
   "outputs": [
    {
     "data": {
      "text/plain": [
       "DatetimeIndex(['2017-05-20 00:00:00', '2017-05-20 00:01:00',\n",
       "               '2017-05-20 00:02:00', '2017-05-20 00:03:00',\n",
       "               '2017-05-20 00:04:00', '2017-05-20 00:05:00',\n",
       "               '2017-05-20 00:06:00', '2017-05-20 00:07:00',\n",
       "               '2017-05-20 00:08:00', '2017-05-20 00:09:00',\n",
       "               '2017-05-20 00:10:00', '2017-05-20 00:11:00',\n",
       "               '2017-05-20 00:12:00', '2017-05-20 00:13:00',\n",
       "               '2017-05-20 00:14:00'],\n",
       "              dtype='datetime64[ns]', freq='T')"
      ]
     },
     "execution_count": 78,
     "metadata": {},
     "output_type": "execute_result"
    }
   ],
   "source": [
    "times"
   ]
  },
  {
   "cell_type": "code",
   "execution_count": 79,
   "id": "d79723ab-f82f-4817-bbda-89589ab7b86e",
   "metadata": {},
   "outputs": [
    {
     "data": {
      "text/html": [
       "<div>\n",
       "<style scoped>\n",
       "    .dataframe tbody tr th:only-of-type {\n",
       "        vertical-align: middle;\n",
       "    }\n",
       "\n",
       "    .dataframe tbody tr th {\n",
       "        vertical-align: top;\n",
       "    }\n",
       "\n",
       "    .dataframe thead th {\n",
       "        text-align: right;\n",
       "    }\n",
       "</style>\n",
       "<table border=\"1\" class=\"dataframe\">\n",
       "  <thead>\n",
       "    <tr style=\"text-align: right;\">\n",
       "      <th></th>\n",
       "      <th>time</th>\n",
       "    </tr>\n",
       "  </thead>\n",
       "  <tbody>\n",
       "    <tr>\n",
       "      <th>0</th>\n",
       "      <td>2017-05-20 00:00:00</td>\n",
       "    </tr>\n",
       "    <tr>\n",
       "      <th>1</th>\n",
       "      <td>2017-05-20 00:01:00</td>\n",
       "    </tr>\n",
       "    <tr>\n",
       "      <th>2</th>\n",
       "      <td>2017-05-20 00:02:00</td>\n",
       "    </tr>\n",
       "    <tr>\n",
       "      <th>3</th>\n",
       "      <td>2017-05-20 00:03:00</td>\n",
       "    </tr>\n",
       "    <tr>\n",
       "      <th>4</th>\n",
       "      <td>2017-05-20 00:04:00</td>\n",
       "    </tr>\n",
       "    <tr>\n",
       "      <th>5</th>\n",
       "      <td>2017-05-20 00:05:00</td>\n",
       "    </tr>\n",
       "    <tr>\n",
       "      <th>6</th>\n",
       "      <td>2017-05-20 00:06:00</td>\n",
       "    </tr>\n",
       "    <tr>\n",
       "      <th>7</th>\n",
       "      <td>2017-05-20 00:07:00</td>\n",
       "    </tr>\n",
       "    <tr>\n",
       "      <th>8</th>\n",
       "      <td>2017-05-20 00:08:00</td>\n",
       "    </tr>\n",
       "    <tr>\n",
       "      <th>9</th>\n",
       "      <td>2017-05-20 00:09:00</td>\n",
       "    </tr>\n",
       "    <tr>\n",
       "      <th>10</th>\n",
       "      <td>2017-05-20 00:10:00</td>\n",
       "    </tr>\n",
       "    <tr>\n",
       "      <th>11</th>\n",
       "      <td>2017-05-20 00:11:00</td>\n",
       "    </tr>\n",
       "    <tr>\n",
       "      <th>12</th>\n",
       "      <td>2017-05-20 00:12:00</td>\n",
       "    </tr>\n",
       "    <tr>\n",
       "      <th>13</th>\n",
       "      <td>2017-05-20 00:13:00</td>\n",
       "    </tr>\n",
       "    <tr>\n",
       "      <th>14</th>\n",
       "      <td>2017-05-20 00:14:00</td>\n",
       "    </tr>\n",
       "  </tbody>\n",
       "</table>\n",
       "</div>"
      ],
      "text/plain": [
       "                  time\n",
       "0  2017-05-20 00:00:00\n",
       "1  2017-05-20 00:01:00\n",
       "2  2017-05-20 00:02:00\n",
       "3  2017-05-20 00:03:00\n",
       "4  2017-05-20 00:04:00\n",
       "5  2017-05-20 00:05:00\n",
       "6  2017-05-20 00:06:00\n",
       "7  2017-05-20 00:07:00\n",
       "8  2017-05-20 00:08:00\n",
       "9  2017-05-20 00:09:00\n",
       "10 2017-05-20 00:10:00\n",
       "11 2017-05-20 00:11:00\n",
       "12 2017-05-20 00:12:00\n",
       "13 2017-05-20 00:13:00\n",
       "14 2017-05-20 00:14:00"
      ]
     },
     "execution_count": 79,
     "metadata": {},
     "output_type": "execute_result"
    }
   ],
   "source": [
    "pd.DataFrame({'time': times})"
   ]
  },
  {
   "cell_type": "code",
   "execution_count": 80,
   "id": "8869f642-0f00-44fb-ab9d-85eafc380cf5",
   "metadata": {},
   "outputs": [],
   "source": [
    "df = pd.DataFrame({'time': times,\n",
    "             'value': np.arange(N)})"
   ]
  },
  {
   "cell_type": "code",
   "execution_count": 81,
   "id": "030a3913-fafd-4a75-9139-63a4ee62a1eb",
   "metadata": {},
   "outputs": [
    {
     "data": {
      "text/html": [
       "<div>\n",
       "<style scoped>\n",
       "    .dataframe tbody tr th:only-of-type {\n",
       "        vertical-align: middle;\n",
       "    }\n",
       "\n",
       "    .dataframe tbody tr th {\n",
       "        vertical-align: top;\n",
       "    }\n",
       "\n",
       "    .dataframe thead th {\n",
       "        text-align: right;\n",
       "    }\n",
       "</style>\n",
       "<table border=\"1\" class=\"dataframe\">\n",
       "  <thead>\n",
       "    <tr style=\"text-align: right;\">\n",
       "      <th></th>\n",
       "      <th>value</th>\n",
       "    </tr>\n",
       "    <tr>\n",
       "      <th>time</th>\n",
       "      <th></th>\n",
       "    </tr>\n",
       "  </thead>\n",
       "  <tbody>\n",
       "    <tr>\n",
       "      <th>2017-05-20 00:00:00</th>\n",
       "      <td>0</td>\n",
       "    </tr>\n",
       "    <tr>\n",
       "      <th>2017-05-20 00:01:00</th>\n",
       "      <td>1</td>\n",
       "    </tr>\n",
       "    <tr>\n",
       "      <th>2017-05-20 00:02:00</th>\n",
       "      <td>2</td>\n",
       "    </tr>\n",
       "    <tr>\n",
       "      <th>2017-05-20 00:03:00</th>\n",
       "      <td>3</td>\n",
       "    </tr>\n",
       "    <tr>\n",
       "      <th>2017-05-20 00:04:00</th>\n",
       "      <td>4</td>\n",
       "    </tr>\n",
       "    <tr>\n",
       "      <th>2017-05-20 00:05:00</th>\n",
       "      <td>5</td>\n",
       "    </tr>\n",
       "    <tr>\n",
       "      <th>2017-05-20 00:06:00</th>\n",
       "      <td>6</td>\n",
       "    </tr>\n",
       "    <tr>\n",
       "      <th>2017-05-20 00:07:00</th>\n",
       "      <td>7</td>\n",
       "    </tr>\n",
       "    <tr>\n",
       "      <th>2017-05-20 00:08:00</th>\n",
       "      <td>8</td>\n",
       "    </tr>\n",
       "    <tr>\n",
       "      <th>2017-05-20 00:09:00</th>\n",
       "      <td>9</td>\n",
       "    </tr>\n",
       "    <tr>\n",
       "      <th>2017-05-20 00:10:00</th>\n",
       "      <td>10</td>\n",
       "    </tr>\n",
       "    <tr>\n",
       "      <th>2017-05-20 00:11:00</th>\n",
       "      <td>11</td>\n",
       "    </tr>\n",
       "    <tr>\n",
       "      <th>2017-05-20 00:12:00</th>\n",
       "      <td>12</td>\n",
       "    </tr>\n",
       "    <tr>\n",
       "      <th>2017-05-20 00:13:00</th>\n",
       "      <td>13</td>\n",
       "    </tr>\n",
       "    <tr>\n",
       "      <th>2017-05-20 00:14:00</th>\n",
       "      <td>14</td>\n",
       "    </tr>\n",
       "  </tbody>\n",
       "</table>\n",
       "</div>"
      ],
      "text/plain": [
       "                     value\n",
       "time                      \n",
       "2017-05-20 00:00:00      0\n",
       "2017-05-20 00:01:00      1\n",
       "2017-05-20 00:02:00      2\n",
       "2017-05-20 00:03:00      3\n",
       "2017-05-20 00:04:00      4\n",
       "2017-05-20 00:05:00      5\n",
       "2017-05-20 00:06:00      6\n",
       "2017-05-20 00:07:00      7\n",
       "2017-05-20 00:08:00      8\n",
       "2017-05-20 00:09:00      9\n",
       "2017-05-20 00:10:00     10\n",
       "2017-05-20 00:11:00     11\n",
       "2017-05-20 00:12:00     12\n",
       "2017-05-20 00:13:00     13\n",
       "2017-05-20 00:14:00     14"
      ]
     },
     "execution_count": 81,
     "metadata": {},
     "output_type": "execute_result"
    }
   ],
   "source": [
    "#we can index by \"time\" and resample\n",
    "df.set_index('time')"
   ]
  },
  {
   "cell_type": "code",
   "execution_count": 82,
   "id": "42e16dd3-eac4-47b8-8df3-449ece57ed1e",
   "metadata": {},
   "outputs": [
    {
     "data": {
      "text/html": [
       "<div>\n",
       "<style scoped>\n",
       "    .dataframe tbody tr th:only-of-type {\n",
       "        vertical-align: middle;\n",
       "    }\n",
       "\n",
       "    .dataframe tbody tr th {\n",
       "        vertical-align: top;\n",
       "    }\n",
       "\n",
       "    .dataframe thead th {\n",
       "        text-align: right;\n",
       "    }\n",
       "</style>\n",
       "<table border=\"1\" class=\"dataframe\">\n",
       "  <thead>\n",
       "    <tr style=\"text-align: right;\">\n",
       "      <th></th>\n",
       "      <th>value</th>\n",
       "    </tr>\n",
       "    <tr>\n",
       "      <th>time</th>\n",
       "      <th></th>\n",
       "    </tr>\n",
       "  </thead>\n",
       "  <tbody>\n",
       "    <tr>\n",
       "      <th>2017-05-20 00:00:00</th>\n",
       "      <td>5</td>\n",
       "    </tr>\n",
       "    <tr>\n",
       "      <th>2017-05-20 00:05:00</th>\n",
       "      <td>5</td>\n",
       "    </tr>\n",
       "    <tr>\n",
       "      <th>2017-05-20 00:10:00</th>\n",
       "      <td>5</td>\n",
       "    </tr>\n",
       "  </tbody>\n",
       "</table>\n",
       "</div>"
      ],
      "text/plain": [
       "                     value\n",
       "time                      \n",
       "2017-05-20 00:00:00      5\n",
       "2017-05-20 00:05:00      5\n",
       "2017-05-20 00:10:00      5"
      ]
     },
     "execution_count": 82,
     "metadata": {},
     "output_type": "execute_result"
    }
   ],
   "source": [
    "#we can index by \"time\" and resample\n",
    "df.set_index('time').resample('5min').count()"
   ]
  },
  {
   "cell_type": "code",
   "execution_count": 83,
   "id": "f209c1bb-9731-4e70-a82d-931e39aaef65",
   "metadata": {},
   "outputs": [
    {
     "data": {
      "text/html": [
       "<div>\n",
       "<style scoped>\n",
       "    .dataframe tbody tr th:only-of-type {\n",
       "        vertical-align: middle;\n",
       "    }\n",
       "\n",
       "    .dataframe tbody tr th {\n",
       "        vertical-align: top;\n",
       "    }\n",
       "\n",
       "    .dataframe thead th {\n",
       "        text-align: right;\n",
       "    }\n",
       "</style>\n",
       "<table border=\"1\" class=\"dataframe\">\n",
       "  <thead>\n",
       "    <tr style=\"text-align: right;\">\n",
       "      <th></th>\n",
       "      <th>time</th>\n",
       "    </tr>\n",
       "  </thead>\n",
       "  <tbody>\n",
       "    <tr>\n",
       "      <th>0</th>\n",
       "      <td>2017-05-20 00:00:00</td>\n",
       "    </tr>\n",
       "    <tr>\n",
       "      <th>1</th>\n",
       "      <td>2017-05-20 00:00:00</td>\n",
       "    </tr>\n",
       "    <tr>\n",
       "      <th>2</th>\n",
       "      <td>2017-05-20 00:00:00</td>\n",
       "    </tr>\n",
       "    <tr>\n",
       "      <th>3</th>\n",
       "      <td>2017-05-20 00:01:00</td>\n",
       "    </tr>\n",
       "    <tr>\n",
       "      <th>4</th>\n",
       "      <td>2017-05-20 00:01:00</td>\n",
       "    </tr>\n",
       "    <tr>\n",
       "      <th>5</th>\n",
       "      <td>2017-05-20 00:01:00</td>\n",
       "    </tr>\n",
       "    <tr>\n",
       "      <th>6</th>\n",
       "      <td>2017-05-20 00:02:00</td>\n",
       "    </tr>\n",
       "    <tr>\n",
       "      <th>7</th>\n",
       "      <td>2017-05-20 00:02:00</td>\n",
       "    </tr>\n",
       "    <tr>\n",
       "      <th>8</th>\n",
       "      <td>2017-05-20 00:02:00</td>\n",
       "    </tr>\n",
       "    <tr>\n",
       "      <th>9</th>\n",
       "      <td>2017-05-20 00:03:00</td>\n",
       "    </tr>\n",
       "  </tbody>\n",
       "</table>\n",
       "</div>"
      ],
      "text/plain": [
       "                 time\n",
       "0 2017-05-20 00:00:00\n",
       "1 2017-05-20 00:00:00\n",
       "2 2017-05-20 00:00:00\n",
       "3 2017-05-20 00:01:00\n",
       "4 2017-05-20 00:01:00\n",
       "5 2017-05-20 00:01:00\n",
       "6 2017-05-20 00:02:00\n",
       "7 2017-05-20 00:02:00\n",
       "8 2017-05-20 00:02:00\n",
       "9 2017-05-20 00:03:00"
      ]
     },
     "execution_count": 83,
     "metadata": {},
     "output_type": "execute_result"
    }
   ],
   "source": [
    "#what if we have multiple time series (in same df), marked by an aditional group key column\n",
    "pd.DataFrame({'time': times.repeat(3)})[:10]"
   ]
  },
  {
   "cell_type": "code",
   "execution_count": 84,
   "id": "baa52617-8906-4bf7-a27a-d4d82e1fdebc",
   "metadata": {},
   "outputs": [
    {
     "data": {
      "text/html": [
       "<div>\n",
       "<style scoped>\n",
       "    .dataframe tbody tr th:only-of-type {\n",
       "        vertical-align: middle;\n",
       "    }\n",
       "\n",
       "    .dataframe tbody tr th {\n",
       "        vertical-align: top;\n",
       "    }\n",
       "\n",
       "    .dataframe thead th {\n",
       "        text-align: right;\n",
       "    }\n",
       "</style>\n",
       "<table border=\"1\" class=\"dataframe\">\n",
       "  <thead>\n",
       "    <tr style=\"text-align: right;\">\n",
       "      <th></th>\n",
       "      <th>time</th>\n",
       "      <th>key</th>\n",
       "    </tr>\n",
       "  </thead>\n",
       "  <tbody>\n",
       "    <tr>\n",
       "      <th>0</th>\n",
       "      <td>2017-05-20 00:00:00</td>\n",
       "      <td>a</td>\n",
       "    </tr>\n",
       "    <tr>\n",
       "      <th>1</th>\n",
       "      <td>2017-05-20 00:00:00</td>\n",
       "      <td>b</td>\n",
       "    </tr>\n",
       "    <tr>\n",
       "      <th>2</th>\n",
       "      <td>2017-05-20 00:00:00</td>\n",
       "      <td>c</td>\n",
       "    </tr>\n",
       "    <tr>\n",
       "      <th>3</th>\n",
       "      <td>2017-05-20 00:01:00</td>\n",
       "      <td>a</td>\n",
       "    </tr>\n",
       "    <tr>\n",
       "      <th>4</th>\n",
       "      <td>2017-05-20 00:01:00</td>\n",
       "      <td>b</td>\n",
       "    </tr>\n",
       "    <tr>\n",
       "      <th>5</th>\n",
       "      <td>2017-05-20 00:01:00</td>\n",
       "      <td>c</td>\n",
       "    </tr>\n",
       "    <tr>\n",
       "      <th>6</th>\n",
       "      <td>2017-05-20 00:02:00</td>\n",
       "      <td>a</td>\n",
       "    </tr>\n",
       "    <tr>\n",
       "      <th>7</th>\n",
       "      <td>2017-05-20 00:02:00</td>\n",
       "      <td>b</td>\n",
       "    </tr>\n",
       "    <tr>\n",
       "      <th>8</th>\n",
       "      <td>2017-05-20 00:02:00</td>\n",
       "      <td>c</td>\n",
       "    </tr>\n",
       "    <tr>\n",
       "      <th>9</th>\n",
       "      <td>2017-05-20 00:03:00</td>\n",
       "      <td>a</td>\n",
       "    </tr>\n",
       "  </tbody>\n",
       "</table>\n",
       "</div>"
      ],
      "text/plain": [
       "                 time key\n",
       "0 2017-05-20 00:00:00   a\n",
       "1 2017-05-20 00:00:00   b\n",
       "2 2017-05-20 00:00:00   c\n",
       "3 2017-05-20 00:01:00   a\n",
       "4 2017-05-20 00:01:00   b\n",
       "5 2017-05-20 00:01:00   c\n",
       "6 2017-05-20 00:02:00   a\n",
       "7 2017-05-20 00:02:00   b\n",
       "8 2017-05-20 00:02:00   c\n",
       "9 2017-05-20 00:03:00   a"
      ]
     },
     "execution_count": 84,
     "metadata": {},
     "output_type": "execute_result"
    }
   ],
   "source": [
    "#what if we have multiple time series (in same df), marked by an aditional group key column\n",
    "pd.DataFrame({'time': times.repeat(3),\n",
    "             'key': np.tile(['a', 'b', 'c'], N)})[:10]"
   ]
  },
  {
   "cell_type": "code",
   "execution_count": 85,
   "id": "97425cb9-3ba9-4c16-a489-08167c77fedc",
   "metadata": {},
   "outputs": [
    {
     "data": {
      "text/html": [
       "<div>\n",
       "<style scoped>\n",
       "    .dataframe tbody tr th:only-of-type {\n",
       "        vertical-align: middle;\n",
       "    }\n",
       "\n",
       "    .dataframe tbody tr th {\n",
       "        vertical-align: top;\n",
       "    }\n",
       "\n",
       "    .dataframe thead th {\n",
       "        text-align: right;\n",
       "    }\n",
       "</style>\n",
       "<table border=\"1\" class=\"dataframe\">\n",
       "  <thead>\n",
       "    <tr style=\"text-align: right;\">\n",
       "      <th></th>\n",
       "      <th>time</th>\n",
       "      <th>key</th>\n",
       "    </tr>\n",
       "  </thead>\n",
       "  <tbody>\n",
       "    <tr>\n",
       "      <th>0</th>\n",
       "      <td>2017-05-20 00:00:00</td>\n",
       "      <td>a</td>\n",
       "    </tr>\n",
       "    <tr>\n",
       "      <th>1</th>\n",
       "      <td>2017-05-20 00:00:00</td>\n",
       "      <td>b</td>\n",
       "    </tr>\n",
       "    <tr>\n",
       "      <th>2</th>\n",
       "      <td>2017-05-20 00:00:00</td>\n",
       "      <td>c</td>\n",
       "    </tr>\n",
       "    <tr>\n",
       "      <th>3</th>\n",
       "      <td>2017-05-20 00:01:00</td>\n",
       "      <td>a</td>\n",
       "    </tr>\n",
       "    <tr>\n",
       "      <th>4</th>\n",
       "      <td>2017-05-20 00:01:00</td>\n",
       "      <td>b</td>\n",
       "    </tr>\n",
       "    <tr>\n",
       "      <th>5</th>\n",
       "      <td>2017-05-20 00:01:00</td>\n",
       "      <td>c</td>\n",
       "    </tr>\n",
       "    <tr>\n",
       "      <th>6</th>\n",
       "      <td>2017-05-20 00:02:00</td>\n",
       "      <td>a</td>\n",
       "    </tr>\n",
       "    <tr>\n",
       "      <th>7</th>\n",
       "      <td>2017-05-20 00:02:00</td>\n",
       "      <td>b</td>\n",
       "    </tr>\n",
       "    <tr>\n",
       "      <th>8</th>\n",
       "      <td>2017-05-20 00:02:00</td>\n",
       "      <td>c</td>\n",
       "    </tr>\n",
       "    <tr>\n",
       "      <th>9</th>\n",
       "      <td>2017-05-20 00:03:00</td>\n",
       "      <td>a</td>\n",
       "    </tr>\n",
       "  </tbody>\n",
       "</table>\n",
       "</div>"
      ],
      "text/plain": [
       "                 time key\n",
       "0 2017-05-20 00:00:00   a\n",
       "1 2017-05-20 00:00:00   b\n",
       "2 2017-05-20 00:00:00   c\n",
       "3 2017-05-20 00:01:00   a\n",
       "4 2017-05-20 00:01:00   b\n",
       "5 2017-05-20 00:01:00   c\n",
       "6 2017-05-20 00:02:00   a\n",
       "7 2017-05-20 00:02:00   b\n",
       "8 2017-05-20 00:02:00   c\n",
       "9 2017-05-20 00:03:00   a"
      ]
     },
     "execution_count": 85,
     "metadata": {},
     "output_type": "execute_result"
    }
   ],
   "source": [
    "#what if we have multiple time series (in same df), marked by an aditional group key column\n",
    "pd.DataFrame({'time': times.repeat(3),\n",
    "             'key': np.tile(['a', 'b', 'c'], N),\n",
    "             })[:10]"
   ]
  },
  {
   "cell_type": "code",
   "execution_count": 86,
   "id": "875ad2be-281b-492b-854d-d5ff54eecc7e",
   "metadata": {},
   "outputs": [],
   "source": [
    "df2 = pd.DataFrame({'time': times.repeat(3),\n",
    "             'key': np.tile(['a', 'b', 'c'], N),\n",
    "             'value': np.arange(N * 3.)})"
   ]
  },
  {
   "cell_type": "code",
   "execution_count": 87,
   "id": "4797a757-5bbf-4929-a6ec-76132012ec41",
   "metadata": {},
   "outputs": [
    {
     "data": {
      "text/html": [
       "<div>\n",
       "<style scoped>\n",
       "    .dataframe tbody tr th:only-of-type {\n",
       "        vertical-align: middle;\n",
       "    }\n",
       "\n",
       "    .dataframe tbody tr th {\n",
       "        vertical-align: top;\n",
       "    }\n",
       "\n",
       "    .dataframe thead th {\n",
       "        text-align: right;\n",
       "    }\n",
       "</style>\n",
       "<table border=\"1\" class=\"dataframe\">\n",
       "  <thead>\n",
       "    <tr style=\"text-align: right;\">\n",
       "      <th></th>\n",
       "      <th>time</th>\n",
       "      <th>key</th>\n",
       "      <th>value</th>\n",
       "    </tr>\n",
       "  </thead>\n",
       "  <tbody>\n",
       "    <tr>\n",
       "      <th>0</th>\n",
       "      <td>2017-05-20 00:00:00</td>\n",
       "      <td>a</td>\n",
       "      <td>0.0</td>\n",
       "    </tr>\n",
       "    <tr>\n",
       "      <th>1</th>\n",
       "      <td>2017-05-20 00:00:00</td>\n",
       "      <td>b</td>\n",
       "      <td>1.0</td>\n",
       "    </tr>\n",
       "    <tr>\n",
       "      <th>2</th>\n",
       "      <td>2017-05-20 00:00:00</td>\n",
       "      <td>c</td>\n",
       "      <td>2.0</td>\n",
       "    </tr>\n",
       "    <tr>\n",
       "      <th>3</th>\n",
       "      <td>2017-05-20 00:01:00</td>\n",
       "      <td>a</td>\n",
       "      <td>3.0</td>\n",
       "    </tr>\n",
       "    <tr>\n",
       "      <th>4</th>\n",
       "      <td>2017-05-20 00:01:00</td>\n",
       "      <td>b</td>\n",
       "      <td>4.0</td>\n",
       "    </tr>\n",
       "    <tr>\n",
       "      <th>5</th>\n",
       "      <td>2017-05-20 00:01:00</td>\n",
       "      <td>c</td>\n",
       "      <td>5.0</td>\n",
       "    </tr>\n",
       "    <tr>\n",
       "      <th>6</th>\n",
       "      <td>2017-05-20 00:02:00</td>\n",
       "      <td>a</td>\n",
       "      <td>6.0</td>\n",
       "    </tr>\n",
       "    <tr>\n",
       "      <th>7</th>\n",
       "      <td>2017-05-20 00:02:00</td>\n",
       "      <td>b</td>\n",
       "      <td>7.0</td>\n",
       "    </tr>\n",
       "    <tr>\n",
       "      <th>8</th>\n",
       "      <td>2017-05-20 00:02:00</td>\n",
       "      <td>c</td>\n",
       "      <td>8.0</td>\n",
       "    </tr>\n",
       "    <tr>\n",
       "      <th>9</th>\n",
       "      <td>2017-05-20 00:03:00</td>\n",
       "      <td>a</td>\n",
       "      <td>9.0</td>\n",
       "    </tr>\n",
       "    <tr>\n",
       "      <th>10</th>\n",
       "      <td>2017-05-20 00:03:00</td>\n",
       "      <td>b</td>\n",
       "      <td>10.0</td>\n",
       "    </tr>\n",
       "    <tr>\n",
       "      <th>11</th>\n",
       "      <td>2017-05-20 00:03:00</td>\n",
       "      <td>c</td>\n",
       "      <td>11.0</td>\n",
       "    </tr>\n",
       "    <tr>\n",
       "      <th>12</th>\n",
       "      <td>2017-05-20 00:04:00</td>\n",
       "      <td>a</td>\n",
       "      <td>12.0</td>\n",
       "    </tr>\n",
       "    <tr>\n",
       "      <th>13</th>\n",
       "      <td>2017-05-20 00:04:00</td>\n",
       "      <td>b</td>\n",
       "      <td>13.0</td>\n",
       "    </tr>\n",
       "    <tr>\n",
       "      <th>14</th>\n",
       "      <td>2017-05-20 00:04:00</td>\n",
       "      <td>c</td>\n",
       "      <td>14.0</td>\n",
       "    </tr>\n",
       "    <tr>\n",
       "      <th>15</th>\n",
       "      <td>2017-05-20 00:05:00</td>\n",
       "      <td>a</td>\n",
       "      <td>15.0</td>\n",
       "    </tr>\n",
       "    <tr>\n",
       "      <th>16</th>\n",
       "      <td>2017-05-20 00:05:00</td>\n",
       "      <td>b</td>\n",
       "      <td>16.0</td>\n",
       "    </tr>\n",
       "    <tr>\n",
       "      <th>17</th>\n",
       "      <td>2017-05-20 00:05:00</td>\n",
       "      <td>c</td>\n",
       "      <td>17.0</td>\n",
       "    </tr>\n",
       "    <tr>\n",
       "      <th>18</th>\n",
       "      <td>2017-05-20 00:06:00</td>\n",
       "      <td>a</td>\n",
       "      <td>18.0</td>\n",
       "    </tr>\n",
       "    <tr>\n",
       "      <th>19</th>\n",
       "      <td>2017-05-20 00:06:00</td>\n",
       "      <td>b</td>\n",
       "      <td>19.0</td>\n",
       "    </tr>\n",
       "    <tr>\n",
       "      <th>20</th>\n",
       "      <td>2017-05-20 00:06:00</td>\n",
       "      <td>c</td>\n",
       "      <td>20.0</td>\n",
       "    </tr>\n",
       "    <tr>\n",
       "      <th>21</th>\n",
       "      <td>2017-05-20 00:07:00</td>\n",
       "      <td>a</td>\n",
       "      <td>21.0</td>\n",
       "    </tr>\n",
       "    <tr>\n",
       "      <th>22</th>\n",
       "      <td>2017-05-20 00:07:00</td>\n",
       "      <td>b</td>\n",
       "      <td>22.0</td>\n",
       "    </tr>\n",
       "    <tr>\n",
       "      <th>23</th>\n",
       "      <td>2017-05-20 00:07:00</td>\n",
       "      <td>c</td>\n",
       "      <td>23.0</td>\n",
       "    </tr>\n",
       "    <tr>\n",
       "      <th>24</th>\n",
       "      <td>2017-05-20 00:08:00</td>\n",
       "      <td>a</td>\n",
       "      <td>24.0</td>\n",
       "    </tr>\n",
       "    <tr>\n",
       "      <th>25</th>\n",
       "      <td>2017-05-20 00:08:00</td>\n",
       "      <td>b</td>\n",
       "      <td>25.0</td>\n",
       "    </tr>\n",
       "    <tr>\n",
       "      <th>26</th>\n",
       "      <td>2017-05-20 00:08:00</td>\n",
       "      <td>c</td>\n",
       "      <td>26.0</td>\n",
       "    </tr>\n",
       "    <tr>\n",
       "      <th>27</th>\n",
       "      <td>2017-05-20 00:09:00</td>\n",
       "      <td>a</td>\n",
       "      <td>27.0</td>\n",
       "    </tr>\n",
       "    <tr>\n",
       "      <th>28</th>\n",
       "      <td>2017-05-20 00:09:00</td>\n",
       "      <td>b</td>\n",
       "      <td>28.0</td>\n",
       "    </tr>\n",
       "    <tr>\n",
       "      <th>29</th>\n",
       "      <td>2017-05-20 00:09:00</td>\n",
       "      <td>c</td>\n",
       "      <td>29.0</td>\n",
       "    </tr>\n",
       "    <tr>\n",
       "      <th>30</th>\n",
       "      <td>2017-05-20 00:10:00</td>\n",
       "      <td>a</td>\n",
       "      <td>30.0</td>\n",
       "    </tr>\n",
       "    <tr>\n",
       "      <th>31</th>\n",
       "      <td>2017-05-20 00:10:00</td>\n",
       "      <td>b</td>\n",
       "      <td>31.0</td>\n",
       "    </tr>\n",
       "    <tr>\n",
       "      <th>32</th>\n",
       "      <td>2017-05-20 00:10:00</td>\n",
       "      <td>c</td>\n",
       "      <td>32.0</td>\n",
       "    </tr>\n",
       "    <tr>\n",
       "      <th>33</th>\n",
       "      <td>2017-05-20 00:11:00</td>\n",
       "      <td>a</td>\n",
       "      <td>33.0</td>\n",
       "    </tr>\n",
       "    <tr>\n",
       "      <th>34</th>\n",
       "      <td>2017-05-20 00:11:00</td>\n",
       "      <td>b</td>\n",
       "      <td>34.0</td>\n",
       "    </tr>\n",
       "    <tr>\n",
       "      <th>35</th>\n",
       "      <td>2017-05-20 00:11:00</td>\n",
       "      <td>c</td>\n",
       "      <td>35.0</td>\n",
       "    </tr>\n",
       "    <tr>\n",
       "      <th>36</th>\n",
       "      <td>2017-05-20 00:12:00</td>\n",
       "      <td>a</td>\n",
       "      <td>36.0</td>\n",
       "    </tr>\n",
       "    <tr>\n",
       "      <th>37</th>\n",
       "      <td>2017-05-20 00:12:00</td>\n",
       "      <td>b</td>\n",
       "      <td>37.0</td>\n",
       "    </tr>\n",
       "    <tr>\n",
       "      <th>38</th>\n",
       "      <td>2017-05-20 00:12:00</td>\n",
       "      <td>c</td>\n",
       "      <td>38.0</td>\n",
       "    </tr>\n",
       "    <tr>\n",
       "      <th>39</th>\n",
       "      <td>2017-05-20 00:13:00</td>\n",
       "      <td>a</td>\n",
       "      <td>39.0</td>\n",
       "    </tr>\n",
       "    <tr>\n",
       "      <th>40</th>\n",
       "      <td>2017-05-20 00:13:00</td>\n",
       "      <td>b</td>\n",
       "      <td>40.0</td>\n",
       "    </tr>\n",
       "    <tr>\n",
       "      <th>41</th>\n",
       "      <td>2017-05-20 00:13:00</td>\n",
       "      <td>c</td>\n",
       "      <td>41.0</td>\n",
       "    </tr>\n",
       "    <tr>\n",
       "      <th>42</th>\n",
       "      <td>2017-05-20 00:14:00</td>\n",
       "      <td>a</td>\n",
       "      <td>42.0</td>\n",
       "    </tr>\n",
       "    <tr>\n",
       "      <th>43</th>\n",
       "      <td>2017-05-20 00:14:00</td>\n",
       "      <td>b</td>\n",
       "      <td>43.0</td>\n",
       "    </tr>\n",
       "    <tr>\n",
       "      <th>44</th>\n",
       "      <td>2017-05-20 00:14:00</td>\n",
       "      <td>c</td>\n",
       "      <td>44.0</td>\n",
       "    </tr>\n",
       "  </tbody>\n",
       "</table>\n",
       "</div>"
      ],
      "text/plain": [
       "                  time key  value\n",
       "0  2017-05-20 00:00:00   a    0.0\n",
       "1  2017-05-20 00:00:00   b    1.0\n",
       "2  2017-05-20 00:00:00   c    2.0\n",
       "3  2017-05-20 00:01:00   a    3.0\n",
       "4  2017-05-20 00:01:00   b    4.0\n",
       "5  2017-05-20 00:01:00   c    5.0\n",
       "6  2017-05-20 00:02:00   a    6.0\n",
       "7  2017-05-20 00:02:00   b    7.0\n",
       "8  2017-05-20 00:02:00   c    8.0\n",
       "9  2017-05-20 00:03:00   a    9.0\n",
       "10 2017-05-20 00:03:00   b   10.0\n",
       "11 2017-05-20 00:03:00   c   11.0\n",
       "12 2017-05-20 00:04:00   a   12.0\n",
       "13 2017-05-20 00:04:00   b   13.0\n",
       "14 2017-05-20 00:04:00   c   14.0\n",
       "15 2017-05-20 00:05:00   a   15.0\n",
       "16 2017-05-20 00:05:00   b   16.0\n",
       "17 2017-05-20 00:05:00   c   17.0\n",
       "18 2017-05-20 00:06:00   a   18.0\n",
       "19 2017-05-20 00:06:00   b   19.0\n",
       "20 2017-05-20 00:06:00   c   20.0\n",
       "21 2017-05-20 00:07:00   a   21.0\n",
       "22 2017-05-20 00:07:00   b   22.0\n",
       "23 2017-05-20 00:07:00   c   23.0\n",
       "24 2017-05-20 00:08:00   a   24.0\n",
       "25 2017-05-20 00:08:00   b   25.0\n",
       "26 2017-05-20 00:08:00   c   26.0\n",
       "27 2017-05-20 00:09:00   a   27.0\n",
       "28 2017-05-20 00:09:00   b   28.0\n",
       "29 2017-05-20 00:09:00   c   29.0\n",
       "30 2017-05-20 00:10:00   a   30.0\n",
       "31 2017-05-20 00:10:00   b   31.0\n",
       "32 2017-05-20 00:10:00   c   32.0\n",
       "33 2017-05-20 00:11:00   a   33.0\n",
       "34 2017-05-20 00:11:00   b   34.0\n",
       "35 2017-05-20 00:11:00   c   35.0\n",
       "36 2017-05-20 00:12:00   a   36.0\n",
       "37 2017-05-20 00:12:00   b   37.0\n",
       "38 2017-05-20 00:12:00   c   38.0\n",
       "39 2017-05-20 00:13:00   a   39.0\n",
       "40 2017-05-20 00:13:00   b   40.0\n",
       "41 2017-05-20 00:13:00   c   41.0\n",
       "42 2017-05-20 00:14:00   a   42.0\n",
       "43 2017-05-20 00:14:00   b   43.0\n",
       "44 2017-05-20 00:14:00   c   44.0"
      ]
     },
     "execution_count": 87,
     "metadata": {},
     "output_type": "execute_result"
    }
   ],
   "source": [
    "df2"
   ]
  },
  {
   "cell_type": "code",
   "execution_count": 88,
   "id": "add2a584-2617-4246-9e29-77278cb8864c",
   "metadata": {},
   "outputs": [],
   "source": [
    "#to do the same resampling for each value of 'key' we introduce the pandas.grouper object\n",
    "time_key = pd.Grouper(freq='5min')"
   ]
  },
  {
   "cell_type": "code",
   "execution_count": null,
   "id": "1035bd51-4f70-46d7-af9e-a81337675f49",
   "metadata": {},
   "outputs": [],
   "source": []
  }
 ],
 "metadata": {
  "kernelspec": {
   "display_name": "Python 3 (ipykernel)",
   "language": "python",
   "name": "python3"
  },
  "language_info": {
   "codemirror_mode": {
    "name": "ipython",
    "version": 3
   },
   "file_extension": ".py",
   "mimetype": "text/x-python",
   "name": "python",
   "nbconvert_exporter": "python",
   "pygments_lexer": "ipython3",
   "version": "3.10.8"
  }
 },
 "nbformat": 4,
 "nbformat_minor": 5
}
