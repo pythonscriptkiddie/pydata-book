{
 "cells": [
  {
   "cell_type": "code",
   "execution_count": 1,
   "id": "40059dc7-8982-42eb-aa85-2fb81ceacb52",
   "metadata": {},
   "outputs": [],
   "source": [
    "from datetime import datetime\n",
    "import numpy as np\n",
    "import pandas as pd"
   ]
  },
  {
   "cell_type": "code",
   "execution_count": 2,
   "id": "0c383c9f-a21f-499e-bb85-5b6d1c6195f9",
   "metadata": {},
   "outputs": [],
   "source": [
    "#Timestamp/period conversion\n",
    "dates = pd.date_range('2000-01-01', periods=3, freq='M')"
   ]
  },
  {
   "cell_type": "code",
   "execution_count": 3,
   "id": "beb53c60-d845-4564-9f8a-74bf983cd7da",
   "metadata": {},
   "outputs": [
    {
     "data": {
      "text/plain": [
       "DatetimeIndex(['2000-01-31', '2000-02-29', '2000-03-31'], dtype='datetime64[ns]', freq='M')"
      ]
     },
     "execution_count": 3,
     "metadata": {},
     "output_type": "execute_result"
    }
   ],
   "source": [
    "dates"
   ]
  },
  {
   "cell_type": "code",
   "execution_count": 4,
   "id": "826966fb-32aa-41f8-8037-6666b1fbfda3",
   "metadata": {},
   "outputs": [
    {
     "data": {
      "text/plain": [
       "array([datetime.datetime(2000, 1, 31, 0, 0),\n",
       "       datetime.datetime(2000, 2, 29, 0, 0),\n",
       "       datetime.datetime(2000, 3, 31, 0, 0)], dtype=object)"
      ]
     },
     "execution_count": 4,
     "metadata": {},
     "output_type": "execute_result"
    }
   ],
   "source": [
    "dates.to_pydatetime() #converts to a series of python dates"
   ]
  },
  {
   "cell_type": "code",
   "execution_count": 5,
   "id": "4cc846b7-b4bf-4fb3-9366-e4f0d2bab588",
   "metadata": {},
   "outputs": [],
   "source": [
    "ts = pd.Series(np.random.standard_normal(3), index=dates)"
   ]
  },
  {
   "cell_type": "code",
   "execution_count": 6,
   "id": "090b6973-5a3e-4be8-bcc8-6eec844bb492",
   "metadata": {},
   "outputs": [
    {
     "data": {
      "text/plain": [
       "2000-01-31    1.606024\n",
       "2000-02-29   -0.366375\n",
       "2000-03-31    1.368605\n",
       "Freq: M, dtype: float64"
      ]
     },
     "execution_count": 6,
     "metadata": {},
     "output_type": "execute_result"
    }
   ],
   "source": [
    "ts"
   ]
  },
  {
   "cell_type": "code",
   "execution_count": 7,
   "id": "773cc0ab-c413-4ab3-b47c-2b788666ab40",
   "metadata": {},
   "outputs": [],
   "source": [
    "#convert timestamp index to periods with the to_period method\n",
    "pts = ts.to_period()"
   ]
  },
  {
   "cell_type": "code",
   "execution_count": 8,
   "id": "c9cd2692-e9e4-4222-af57-a35559e8c8ce",
   "metadata": {},
   "outputs": [
    {
     "data": {
      "text/plain": [
       "2000-01    1.606024\n",
       "2000-02   -0.366375\n",
       "2000-03    1.368605\n",
       "Freq: M, dtype: float64"
      ]
     },
     "execution_count": 8,
     "metadata": {},
     "output_type": "execute_result"
    }
   ],
   "source": [
    "pts"
   ]
  },
  {
   "cell_type": "code",
   "execution_count": 9,
   "id": "fa4c003b-15dd-4ecb-8ea6-343f1f042a76",
   "metadata": {},
   "outputs": [],
   "source": [
    "#Timestamps only belong to a single period for a given frequency.\n",
    "#Frequency is inferred by default, but we can specify ANY frequency that it supports.\n",
    "dates = pd.date_range('2000-01-29', periods=6)"
   ]
  },
  {
   "cell_type": "code",
   "execution_count": 10,
   "id": "667198d8-fc85-41bf-9f38-48fb2c697288",
   "metadata": {},
   "outputs": [
    {
     "data": {
      "text/plain": [
       "DatetimeIndex(['2000-01-29', '2000-01-30', '2000-01-31', '2000-02-01',\n",
       "               '2000-02-02', '2000-02-03'],\n",
       "              dtype='datetime64[ns]', freq='D')"
      ]
     },
     "execution_count": 10,
     "metadata": {},
     "output_type": "execute_result"
    }
   ],
   "source": [
    "dates #if we create a date_range with a given number of periods, it will add days by default."
   ]
  },
  {
   "cell_type": "code",
   "execution_count": 11,
   "id": "b37423e6-a851-45c7-ac61-2b5b9f080ee9",
   "metadata": {},
   "outputs": [
    {
     "name": "stdout",
     "output_type": "stream",
     "text": [
      "Cannot generate range with start=949104000000000000 and periods=-1\n"
     ]
    }
   ],
   "source": [
    "#If we \n",
    "try:\n",
    "    pd.date_range('2000-01-29', periods=-1)\n",
    "except Exception as e:\n",
    "    print(e)"
   ]
  },
  {
   "cell_type": "code",
   "execution_count": 12,
   "id": "8055e8c2-7dd5-4940-84ff-8b344e451f0d",
   "metadata": {},
   "outputs": [],
   "source": [
    "ts2 = pd.Series(np.random.standard_normal(6), index=dates)"
   ]
  },
  {
   "cell_type": "code",
   "execution_count": 13,
   "id": "30408733-9e1a-4bf0-a25d-f0b3a1229846",
   "metadata": {},
   "outputs": [
    {
     "data": {
      "text/plain": [
       "2000-01-29    0.204088\n",
       "2000-01-30   -0.294086\n",
       "2000-01-31    0.762696\n",
       "2000-02-01   -0.713756\n",
       "2000-02-02    0.281793\n",
       "2000-02-03   -0.133763\n",
       "Freq: D, dtype: float64"
      ]
     },
     "execution_count": 13,
     "metadata": {},
     "output_type": "execute_result"
    }
   ],
   "source": [
    "ts2"
   ]
  },
  {
   "cell_type": "code",
   "execution_count": 14,
   "id": "99e8b1f5-f6ef-4976-98ce-b93c47d83d97",
   "metadata": {},
   "outputs": [
    {
     "data": {
      "text/plain": [
       "2000-01    0.204088\n",
       "2000-01   -0.294086\n",
       "2000-01    0.762696\n",
       "2000-02   -0.713756\n",
       "2000-02    0.281793\n",
       "2000-02   -0.133763\n",
       "Freq: M, dtype: float64"
      ]
     },
     "execution_count": 14,
     "metadata": {},
     "output_type": "execute_result"
    }
   ],
   "source": [
    "ts2.to_period('M')"
   ]
  },
  {
   "cell_type": "code",
   "execution_count": 15,
   "id": "0baff1bb-dff4-4de3-ba48-b89b7bc8224b",
   "metadata": {},
   "outputs": [
    {
     "data": {
      "text/plain": [
       "2000    0.204088\n",
       "2000   -0.294086\n",
       "2000    0.762696\n",
       "2000   -0.713756\n",
       "2000    0.281793\n",
       "2000   -0.133763\n",
       "Freq: A-DEC, dtype: float64"
      ]
     },
     "execution_count": 15,
     "metadata": {},
     "output_type": "execute_result"
    }
   ],
   "source": [
    "ts2.to_period('Y')"
   ]
  },
  {
   "cell_type": "code",
   "execution_count": 16,
   "id": "1281069b-e0d6-41aa-8636-7135328efcbf",
   "metadata": {},
   "outputs": [],
   "source": [
    "pts = ts2.to_period()"
   ]
  },
  {
   "cell_type": "code",
   "execution_count": 17,
   "id": "0cb2329c-5bdf-4b29-b994-dbabc029efb8",
   "metadata": {},
   "outputs": [
    {
     "data": {
      "text/plain": [
       "2000-01-29    0.204088\n",
       "2000-01-30   -0.294086\n",
       "2000-01-31    0.762696\n",
       "2000-02-01   -0.713756\n",
       "2000-02-02    0.281793\n",
       "2000-02-03   -0.133763\n",
       "Freq: D, dtype: float64"
      ]
     },
     "execution_count": 17,
     "metadata": {},
     "output_type": "execute_result"
    }
   ],
   "source": [
    "pts"
   ]
  },
  {
   "cell_type": "code",
   "execution_count": 18,
   "id": "8c2068e6-5c0c-41e2-a9e5-0281cc1e4d08",
   "metadata": {},
   "outputs": [
    {
     "data": {
      "text/plain": [
       "2000-01-29 23:59:59.999999999    0.204088\n",
       "2000-01-30 23:59:59.999999999   -0.294086\n",
       "2000-01-31 23:59:59.999999999    0.762696\n",
       "2000-02-01 23:59:59.999999999   -0.713756\n",
       "2000-02-02 23:59:59.999999999    0.281793\n",
       "2000-02-03 23:59:59.999999999   -0.133763\n",
       "Freq: D, dtype: float64"
      ]
     },
     "execution_count": 18,
     "metadata": {},
     "output_type": "execute_result"
    }
   ],
   "source": [
    "pts.to_timestamp(how='end')"
   ]
  },
  {
   "cell_type": "code",
   "execution_count": 19,
   "id": "1f2dcd42-80bf-4523-9c19-5bee627f5eca",
   "metadata": {},
   "outputs": [
    {
     "data": {
      "text/plain": [
       "2000-01-29    0.204088\n",
       "2000-01-30   -0.294086\n",
       "2000-01-31    0.762696\n",
       "2000-02-01   -0.713756\n",
       "2000-02-02    0.281793\n",
       "2000-02-03   -0.133763\n",
       "Freq: D, dtype: float64"
      ]
     },
     "execution_count": 19,
     "metadata": {},
     "output_type": "execute_result"
    }
   ],
   "source": [
    "pts.to_timestamp(how='start')"
   ]
  },
  {
   "cell_type": "code",
   "execution_count": null,
   "id": "bfde6c1d-e1e2-4a37-aa89-dd1aade980a3",
   "metadata": {},
   "outputs": [],
   "source": []
  }
 ],
 "metadata": {
  "kernelspec": {
   "display_name": "Python 3 (ipykernel)",
   "language": "python",
   "name": "python3"
  },
  "language_info": {
   "codemirror_mode": {
    "name": "ipython",
    "version": 3
   },
   "file_extension": ".py",
   "mimetype": "text/x-python",
   "name": "python",
   "nbconvert_exporter": "python",
   "pygments_lexer": "ipython3",
   "version": "3.10.8"
  }
 },
 "nbformat": 4,
 "nbformat_minor": 5
}
