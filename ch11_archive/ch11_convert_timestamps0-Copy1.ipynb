{
 "cells": [
  {
   "cell_type": "code",
   "execution_count": 2,
   "id": "40059dc7-8982-42eb-aa85-2fb81ceacb52",
   "metadata": {},
   "outputs": [],
   "source": [
    "from datetime import datetime\n",
    "import numpy as np\n",
    "import pandas as pd"
   ]
  },
  {
   "cell_type": "code",
   "execution_count": 3,
   "id": "0c383c9f-a21f-499e-bb85-5b6d1c6195f9",
   "metadata": {},
   "outputs": [],
   "source": [
    "#Timestamp/period conversion\n",
    "dates = pd.date_range('2000-01-01', periods=3, freq='M')"
   ]
  },
  {
   "cell_type": "code",
   "execution_count": 4,
   "id": "beb53c60-d845-4564-9f8a-74bf983cd7da",
   "metadata": {},
   "outputs": [
    {
     "data": {
      "text/plain": [
       "DatetimeIndex(['2000-01-31', '2000-02-29', '2000-03-31'], dtype='datetime64[ns]', freq='M')"
      ]
     },
     "execution_count": 4,
     "metadata": {},
     "output_type": "execute_result"
    }
   ],
   "source": [
    "dates"
   ]
  },
  {
   "cell_type": "code",
   "execution_count": 7,
   "id": "826966fb-32aa-41f8-8037-6666b1fbfda3",
   "metadata": {},
   "outputs": [
    {
     "data": {
      "text/plain": [
       "array([datetime.datetime(2000, 1, 31, 0, 0),\n",
       "       datetime.datetime(2000, 2, 29, 0, 0),\n",
       "       datetime.datetime(2000, 3, 31, 0, 0)], dtype=object)"
      ]
     },
     "execution_count": 7,
     "metadata": {},
     "output_type": "execute_result"
    }
   ],
   "source": [
    "dates.to_pydatetime() #converts to a series of python ranges"
   ]
  },
  {
   "cell_type": "code",
   "execution_count": 8,
   "id": "4cc846b7-b4bf-4fb3-9366-e4f0d2bab588",
   "metadata": {},
   "outputs": [],
   "source": [
    "ts = pd.Series(np.random.standard_normal(3), index=dates)"
   ]
  },
  {
   "cell_type": "code",
   "execution_count": 9,
   "id": "090b6973-5a3e-4be8-bcc8-6eec844bb492",
   "metadata": {},
   "outputs": [
    {
     "data": {
      "text/plain": [
       "2000-01-31    0.330265\n",
       "2000-02-29    0.841423\n",
       "2000-03-31   -2.302925\n",
       "Freq: M, dtype: float64"
      ]
     },
     "execution_count": 9,
     "metadata": {},
     "output_type": "execute_result"
    }
   ],
   "source": [
    "ts"
   ]
  },
  {
   "cell_type": "code",
   "execution_count": 10,
   "id": "773cc0ab-c413-4ab3-b47c-2b788666ab40",
   "metadata": {},
   "outputs": [],
   "source": [
    "#convert timestamp index to periods with the to_period method\n",
    "pts = ts.to_period()"
   ]
  },
  {
   "cell_type": "code",
   "execution_count": 11,
   "id": "c9cd2692-e9e4-4222-af57-a35559e8c8ce",
   "metadata": {},
   "outputs": [
    {
     "data": {
      "text/plain": [
       "2000-01    0.330265\n",
       "2000-02    0.841423\n",
       "2000-03   -2.302925\n",
       "Freq: M, dtype: float64"
      ]
     },
     "execution_count": 11,
     "metadata": {},
     "output_type": "execute_result"
    }
   ],
   "source": [
    "pts"
   ]
  },
  {
   "cell_type": "code",
   "execution_count": null,
   "id": "fa4c003b-15dd-4ecb-8ea6-343f1f042a76",
   "metadata": {},
   "outputs": [],
   "source": [
    "#Timestamps only belong to a single period for a given frequency.\n",
    "#Frequency is inferred by default, but "
   ]
  }
 ],
 "metadata": {
  "kernelspec": {
   "display_name": "Python 3 (ipykernel)",
   "language": "python",
   "name": "python3"
  },
  "language_info": {
   "codemirror_mode": {
    "name": "ipython",
    "version": 3
   },
   "file_extension": ".py",
   "mimetype": "text/x-python",
   "name": "python",
   "nbconvert_exporter": "python",
   "pygments_lexer": "ipython3",
   "version": "3.10.8"
  }
 },
 "nbformat": 4,
 "nbformat_minor": 5
}
