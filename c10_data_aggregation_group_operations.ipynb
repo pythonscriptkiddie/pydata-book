{
 "cells": [
  {
   "cell_type": "code",
   "execution_count": 10,
   "id": "ec40d37b-9f42-427e-9fe1-df59466655d1",
   "metadata": {},
   "outputs": [],
   "source": [
    "import numpy as np\n",
    "import pandas as pd"
   ]
  },
  {
   "cell_type": "code",
   "execution_count": 11,
   "id": "0d7c9d3d-bce6-49ae-98eb-2421679c68e3",
   "metadata": {},
   "outputs": [],
   "source": [
    "#group by function\n",
    "df = pd.DataFrame({'key1': ['a', 'a', None, 'b', 'b', 'a', None],\n",
    "                  'key2': pd.Series([1, 2, 1, 2, 1, None, 1], dtype='Int64'),\n",
    "                  'data1': np.random.standard_normal(7),\n",
    "                  'data2': np.random.standard_normal(7)})"
   ]
  },
  {
   "cell_type": "code",
   "execution_count": 12,
   "id": "6ed9ab62-ac4b-4d33-8868-1f37c8f982d5",
   "metadata": {},
   "outputs": [
    {
     "data": {
      "text/html": [
       "<div>\n",
       "<style scoped>\n",
       "    .dataframe tbody tr th:only-of-type {\n",
       "        vertical-align: middle;\n",
       "    }\n",
       "\n",
       "    .dataframe tbody tr th {\n",
       "        vertical-align: top;\n",
       "    }\n",
       "\n",
       "    .dataframe thead th {\n",
       "        text-align: right;\n",
       "    }\n",
       "</style>\n",
       "<table border=\"1\" class=\"dataframe\">\n",
       "  <thead>\n",
       "    <tr style=\"text-align: right;\">\n",
       "      <th></th>\n",
       "      <th>key1</th>\n",
       "      <th>key2</th>\n",
       "      <th>data1</th>\n",
       "      <th>data2</th>\n",
       "    </tr>\n",
       "  </thead>\n",
       "  <tbody>\n",
       "    <tr>\n",
       "      <th>0</th>\n",
       "      <td>a</td>\n",
       "      <td>1</td>\n",
       "      <td>-0.557985</td>\n",
       "      <td>-0.628090</td>\n",
       "    </tr>\n",
       "    <tr>\n",
       "      <th>1</th>\n",
       "      <td>a</td>\n",
       "      <td>2</td>\n",
       "      <td>-0.696778</td>\n",
       "      <td>-0.191770</td>\n",
       "    </tr>\n",
       "    <tr>\n",
       "      <th>2</th>\n",
       "      <td>None</td>\n",
       "      <td>1</td>\n",
       "      <td>-0.738855</td>\n",
       "      <td>-1.567379</td>\n",
       "    </tr>\n",
       "    <tr>\n",
       "      <th>3</th>\n",
       "      <td>b</td>\n",
       "      <td>2</td>\n",
       "      <td>0.236903</td>\n",
       "      <td>0.096523</td>\n",
       "    </tr>\n",
       "    <tr>\n",
       "      <th>4</th>\n",
       "      <td>b</td>\n",
       "      <td>1</td>\n",
       "      <td>0.363353</td>\n",
       "      <td>-1.301435</td>\n",
       "    </tr>\n",
       "    <tr>\n",
       "      <th>5</th>\n",
       "      <td>a</td>\n",
       "      <td>&lt;NA&gt;</td>\n",
       "      <td>-0.115747</td>\n",
       "      <td>-1.767970</td>\n",
       "    </tr>\n",
       "    <tr>\n",
       "      <th>6</th>\n",
       "      <td>None</td>\n",
       "      <td>1</td>\n",
       "      <td>-0.948024</td>\n",
       "      <td>-0.327628</td>\n",
       "    </tr>\n",
       "  </tbody>\n",
       "</table>\n",
       "</div>"
      ],
      "text/plain": [
       "   key1  key2     data1     data2\n",
       "0     a     1 -0.557985 -0.628090\n",
       "1     a     2 -0.696778 -0.191770\n",
       "2  None     1 -0.738855 -1.567379\n",
       "3     b     2  0.236903  0.096523\n",
       "4     b     1  0.363353 -1.301435\n",
       "5     a  <NA> -0.115747 -1.767970\n",
       "6  None     1 -0.948024 -0.327628"
      ]
     },
     "execution_count": 12,
     "metadata": {},
     "output_type": "execute_result"
    }
   ],
   "source": [
    "df"
   ]
  },
  {
   "cell_type": "code",
   "execution_count": 13,
   "id": "8b03c684-628c-4526-8201-261bdf98da95",
   "metadata": {},
   "outputs": [],
   "source": [
    "#precalculate everyone we need to group this data by creating a GroupBy object\n",
    "grouped = df['data1'].groupby(df['key1'])"
   ]
  },
  {
   "cell_type": "code",
   "execution_count": 14,
   "id": "df56afbb-6c74-42a2-aa56-b9202a9b91db",
   "metadata": {},
   "outputs": [
    {
     "data": {
      "text/plain": [
       "<pandas.core.groupby.generic.SeriesGroupBy object at 0x11eac9f10>"
      ]
     },
     "execution_count": 14,
     "metadata": {},
     "output_type": "execute_result"
    }
   ],
   "source": [
    "grouped"
   ]
  },
  {
   "cell_type": "code",
   "execution_count": 15,
   "id": "6d0bded1-a391-4420-b52d-09e04ccfdffe",
   "metadata": {},
   "outputs": [
    {
     "data": {
      "text/plain": [
       "pandas.core.groupby.generic.SeriesGroupBy"
      ]
     },
     "execution_count": 15,
     "metadata": {},
     "output_type": "execute_result"
    }
   ],
   "source": [
    "type(grouped)"
   ]
  },
  {
   "cell_type": "code",
   "execution_count": null,
   "id": "5f08f967-b1da-4adf-8f42-b1fd3e5f806b",
   "metadata": {},
   "outputs": [],
   "source": [
    "#we have not yet computed anything, so let's calculate the mean using the .mean() function\n"
   ]
  }
 ],
 "metadata": {
  "kernelspec": {
   "display_name": "Python 3 (ipykernel)",
   "language": "python",
   "name": "python3"
  },
  "language_info": {
   "codemirror_mode": {
    "name": "ipython",
    "version": 3
   },
   "file_extension": ".py",
   "mimetype": "text/x-python",
   "name": "python",
   "nbconvert_exporter": "python",
   "pygments_lexer": "ipython3",
   "version": "3.11.9"
  }
 },
 "nbformat": 4,
 "nbformat_minor": 5
}
