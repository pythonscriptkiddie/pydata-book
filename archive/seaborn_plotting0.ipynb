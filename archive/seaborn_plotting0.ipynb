{
 "cells": [
  {
   "cell_type": "code",
   "execution_count": 1,
   "id": "568ff354-bef8-43e5-ba76-cc792823bed4",
   "metadata": {},
   "outputs": [],
   "source": [
    "import string\n",
    "import pandas as pd\n",
    "import numpy as np\n",
    "from matplotlib import pyplot as plt\n",
    "import seaborn as sns\n",
    "np.set_printoptions(suppress=True)"
   ]
  },
  {
   "cell_type": "code",
   "execution_count": 2,
   "id": "5c39a366-8102-4039-b22f-098a38399a21",
   "metadata": {},
   "outputs": [
    {
     "data": {
      "text/plain": [
       "0    -0.011862\n",
       "10    1.393728\n",
       "20    2.083346\n",
       "30    2.214103\n",
       "40    2.534706\n",
       "50    3.474939\n",
       "60    3.661116\n",
       "70    2.209733\n",
       "80    0.144913\n",
       "90   -0.046191\n",
       "dtype: float64"
      ]
     },
     "execution_count": 2,
     "metadata": {},
     "output_type": "execute_result"
    }
   ],
   "source": [
    "#pd.Series and pd.DataFrame: have a polot attribute for making basic plots\n",
    "s = pd.Series(np.random.standard_normal(10).cumsum(), index=np.arange(0, 100, 10))\n",
    "s"
   ]
  },
  {
   "cell_type": "code",
   "execution_count": 3,
   "id": "0f561c57-acd6-4cfe-8180-03c54882b368",
   "metadata": {},
   "outputs": [
    {
     "data": {
      "text/plain": [
       "<AxesSubplot:>"
      ]
     },
     "execution_count": 3,
     "metadata": {},
     "output_type": "execute_result"
    },
    {
     "data": {
      "image/png": "[encoded data removed]",
      "text/plain": [
       "<Figure size 432x288 with 1 Axes>"
      ]
     },
     "metadata": {
      "needs_background": "light"
     },
     "output_type": "display_data"
    }
   ],
   "source": [
    "s.plot()"
   ]
  },
  {
   "cell_type": "code",
   "execution_count": 4,
   "id": "e7ddf562-7244-41a6-aae0-1ef1407679cb",
   "metadata": {},
   "outputs": [
    {
     "data": {
      "text/plain": [
       "0     2.259163\n",
       "10    3.236957\n",
       "20    4.204613\n",
       "30    3.384062\n",
       "40    4.060202\n",
       "50    4.969568\n",
       "60    6.066895\n",
       "70    4.829365\n",
       "80    4.391084\n",
       "90    3.270529\n",
       "dtype: float64"
      ]
     },
     "execution_count": 4,
     "metadata": {},
     "output_type": "execute_result"
    }
   ],
   "source": [
    "#plot options\n",
    "s = pd.Series(np.random.standard_normal(10).cumsum(), index=np.arange(0, 100, 10))\n",
    "s"
   ]
  },
  {
   "cell_type": "code",
   "execution_count": 5,
   "id": "475d10bd-82ca-4921-ac70-851b83191146",
   "metadata": {},
   "outputs": [
    {
     "data": {
      "text/plain": [
       "<AxesSubplot:title={'center':'My first plot using a Series.'}>"
      ]
     },
     "execution_count": 5,
     "metadata": {},
     "output_type": "execute_result"
    },
    {
     "data": {
      "image/png": "[encoded data removed]",
      "text/plain": [
       "<Figure size 432x288 with 1 Axes>"
      ]
     },
     "metadata": {
      "needs_background": "light"
     },
     "output_type": "display_data"
    }
   ],
   "source": [
    "s.plot(kind='bar', use_index=True, title='My first plot using a Series.')"
   ]
  },
  {
   "cell_type": "code",
   "execution_count": 6,
   "id": "d9e82593-faa4-430f-b213-c7474ebd61ce",
   "metadata": {},
   "outputs": [
    {
     "data": {
      "text/html": [
       "<div>\n",
       "<style scoped>\n",
       "    .dataframe tbody tr th:only-of-type {\n",
       "        vertical-align: middle;\n",
       "    }\n",
       "\n",
       "    .dataframe tbody tr th {\n",
       "        vertical-align: top;\n",
       "    }\n",
       "\n",
       "    .dataframe thead th {\n",
       "        text-align: right;\n",
       "    }\n",
       "</style>\n",
       "<table border=\"1\" class=\"dataframe\">\n",
       "  <thead>\n",
       "    <tr style=\"text-align: right;\">\n",
       "      <th></th>\n",
       "      <th>A</th>\n",
       "      <th>B</th>\n",
       "      <th>C</th>\n",
       "      <th>D</th>\n",
       "    </tr>\n",
       "  </thead>\n",
       "  <tbody>\n",
       "    <tr>\n",
       "      <th>0</th>\n",
       "      <td>-0.605742</td>\n",
       "      <td>0.272868</td>\n",
       "      <td>1.577862</td>\n",
       "      <td>0.756070</td>\n",
       "    </tr>\n",
       "    <tr>\n",
       "      <th>10</th>\n",
       "      <td>0.314107</td>\n",
       "      <td>-1.618649</td>\n",
       "      <td>2.611999</td>\n",
       "      <td>1.622756</td>\n",
       "    </tr>\n",
       "    <tr>\n",
       "      <th>20</th>\n",
       "      <td>0.626572</td>\n",
       "      <td>-2.164937</td>\n",
       "      <td>2.977570</td>\n",
       "      <td>2.568133</td>\n",
       "    </tr>\n",
       "    <tr>\n",
       "      <th>30</th>\n",
       "      <td>1.054318</td>\n",
       "      <td>-2.906150</td>\n",
       "      <td>2.124430</td>\n",
       "      <td>3.382697</td>\n",
       "    </tr>\n",
       "    <tr>\n",
       "      <th>40</th>\n",
       "      <td>1.151869</td>\n",
       "      <td>-2.632015</td>\n",
       "      <td>2.422973</td>\n",
       "      <td>2.821261</td>\n",
       "    </tr>\n",
       "    <tr>\n",
       "      <th>50</th>\n",
       "      <td>-1.034910</td>\n",
       "      <td>-1.632663</td>\n",
       "      <td>3.753757</td>\n",
       "      <td>2.982197</td>\n",
       "    </tr>\n",
       "    <tr>\n",
       "      <th>60</th>\n",
       "      <td>-1.767857</td>\n",
       "      <td>-0.771469</td>\n",
       "      <td>2.037396</td>\n",
       "      <td>4.122608</td>\n",
       "    </tr>\n",
       "    <tr>\n",
       "      <th>70</th>\n",
       "      <td>-1.623424</td>\n",
       "      <td>-1.808857</td>\n",
       "      <td>1.744873</td>\n",
       "      <td>5.127542</td>\n",
       "    </tr>\n",
       "    <tr>\n",
       "      <th>80</th>\n",
       "      <td>-1.139741</td>\n",
       "      <td>-0.343174</td>\n",
       "      <td>2.780428</td>\n",
       "      <td>4.652843</td>\n",
       "    </tr>\n",
       "    <tr>\n",
       "      <th>90</th>\n",
       "      <td>-1.360971</td>\n",
       "      <td>-0.561421</td>\n",
       "      <td>1.680287</td>\n",
       "      <td>3.732244</td>\n",
       "    </tr>\n",
       "  </tbody>\n",
       "</table>\n",
       "</div>"
      ],
      "text/plain": [
       "           A         B         C         D\n",
       "0  -0.605742  0.272868  1.577862  0.756070\n",
       "10  0.314107 -1.618649  2.611999  1.622756\n",
       "20  0.626572 -2.164937  2.977570  2.568133\n",
       "30  1.054318 -2.906150  2.124430  3.382697\n",
       "40  1.151869 -2.632015  2.422973  2.821261\n",
       "50 -1.034910 -1.632663  3.753757  2.982197\n",
       "60 -1.767857 -0.771469  2.037396  4.122608\n",
       "70 -1.623424 -1.808857  1.744873  5.127542\n",
       "80 -1.139741 -0.343174  2.780428  4.652843\n",
       "90 -1.360971 -0.561421  1.680287  3.732244"
      ]
     },
     "execution_count": 6,
     "metadata": {},
     "output_type": "execute_result"
    }
   ],
   "source": [
    "#a DataFrame's plot method creates a line plot with different columns representing each line\n",
    "#The plot method creates legends automatically.\n",
    "df = pd.DataFrame(np.random.standard_normal((10, 4)).cumsum(0),\n",
    "                 columns=['A', 'B', 'C', 'D'],\n",
    "                 index=np.arange(0, 100, 10))\n",
    "df"
   ]
  },
  {
   "cell_type": "code",
   "execution_count": 7,
   "id": "83a91585-e7c1-4eb6-9c46-6151c9b59379",
   "metadata": {},
   "outputs": [
    {
     "data": {
      "image/png": "[encoded data removed]",
      "text/plain": [
       "<Figure size 432x288 with 1 Axes>"
      ]
     },
     "metadata": {},
     "output_type": "display_data"
    }
   ],
   "source": [
    "#list(string.ascii_lowercase[:16])\n",
    "with plt.style.context('grayscale'):\n",
    "    df.plot();\n",
    "    #plt.plot(np.sin(np.linspace(0, 2 * np.pi)), 'r-o')\n",
    "#plt.show()"
   ]
  },
  {
   "cell_type": "code",
   "execution_count": 8,
   "id": "c862e607-2f16-472c-8009-d2c1357c14e9",
   "metadata": {},
   "outputs": [],
   "source": [
    " #equivalent to df.plot.line"
   ]
  },
  {
   "cell_type": "code",
   "execution_count": 9,
   "id": "7df5b6be-54ff-4312-bb2e-89b6e16686d0",
   "metadata": {},
   "outputs": [
    {
     "data": {
      "text/plain": [
       "<AxesSubplot:>"
      ]
     },
     "execution_count": 9,
     "metadata": {},
     "output_type": "execute_result"
    },
    {
     "data": {
      "image/png": "[encoded data removed]",
      "text/plain": [
       "<Figure size 432x288 with 2 Axes>"
      ]
     },
     "metadata": {
      "needs_background": "light"
     },
     "output_type": "display_data"
    }
   ],
   "source": [
    "#Bar plots\n",
    "#plot.bar() and plot.barh() methods\n",
    "fig, axes = plt.subplots(2, 1)\n",
    "data = pd.Series(np.random.uniform(size=16), index=list('abcdefghijklmnop'))\n",
    "data.plot.bar(ax=axes[0], color='black', alpha=0.7)"
   ]
  },
  {
   "cell_type": "code",
   "execution_count": 10,
   "id": "0b8bce1c-6cbc-4a67-8700-6e589649e9c2",
   "metadata": {},
   "outputs": [
    {
     "data": {
      "text/plain": [
       "<AxesSubplot:>"
      ]
     },
     "execution_count": 10,
     "metadata": {},
     "output_type": "execute_result"
    },
    {
     "data": {
      "image/png": "[encoded data removed]",
      "text/plain": [
       "<Figure size 432x288 with 2 Axes>"
      ]
     },
     "metadata": {
      "needs_background": "light"
     },
     "output_type": "display_data"
    }
   ],
   "source": [
    "#Bar plots\n",
    "#plot.bar() and plot.barh() methods\n",
    "fig, axes = plt.subplots(2, 1)\n",
    "data = pd.Series(np.random.uniform(size=16), index=list('abcdefghijklmnop'))\n",
    "data.plot.bar(ax=axes[0], color='black', alpha=0.7)\n",
    "data.plot.barh(ax=axes[1], color='black', alpha=0.7)"
   ]
  },
  {
   "cell_type": "code",
   "execution_count": 11,
   "id": "e2ca137b-ee40-4467-88cf-6c068e9f135e",
   "metadata": {},
   "outputs": [
    {
     "data": {
      "text/html": [
       "<div>\n",
       "<style scoped>\n",
       "    .dataframe tbody tr th:only-of-type {\n",
       "        vertical-align: middle;\n",
       "    }\n",
       "\n",
       "    .dataframe tbody tr th {\n",
       "        vertical-align: top;\n",
       "    }\n",
       "\n",
       "    .dataframe thead th {\n",
       "        text-align: right;\n",
       "    }\n",
       "</style>\n",
       "<table border=\"1\" class=\"dataframe\">\n",
       "  <thead>\n",
       "    <tr style=\"text-align: right;\">\n",
       "      <th></th>\n",
       "      <th>0</th>\n",
       "      <th>1</th>\n",
       "      <th>2</th>\n",
       "      <th>3</th>\n",
       "    </tr>\n",
       "  </thead>\n",
       "  <tbody>\n",
       "    <tr>\n",
       "      <th>0</th>\n",
       "      <td>0.209633</td>\n",
       "      <td>0.736860</td>\n",
       "      <td>0.446664</td>\n",
       "      <td>0.069102</td>\n",
       "    </tr>\n",
       "    <tr>\n",
       "      <th>1</th>\n",
       "      <td>0.277047</td>\n",
       "      <td>0.786775</td>\n",
       "      <td>0.680561</td>\n",
       "      <td>0.555282</td>\n",
       "    </tr>\n",
       "    <tr>\n",
       "      <th>2</th>\n",
       "      <td>0.125315</td>\n",
       "      <td>0.966118</td>\n",
       "      <td>0.658990</td>\n",
       "      <td>0.236417</td>\n",
       "    </tr>\n",
       "    <tr>\n",
       "      <th>3</th>\n",
       "      <td>0.548628</td>\n",
       "      <td>0.991468</td>\n",
       "      <td>0.291383</td>\n",
       "      <td>0.275078</td>\n",
       "    </tr>\n",
       "    <tr>\n",
       "      <th>4</th>\n",
       "      <td>0.880941</td>\n",
       "      <td>0.762032</td>\n",
       "      <td>0.849741</td>\n",
       "      <td>0.955491</td>\n",
       "    </tr>\n",
       "    <tr>\n",
       "      <th>5</th>\n",
       "      <td>0.959008</td>\n",
       "      <td>0.252173</td>\n",
       "      <td>0.627934</td>\n",
       "      <td>0.386913</td>\n",
       "    </tr>\n",
       "  </tbody>\n",
       "</table>\n",
       "</div>"
      ],
      "text/plain": [
       "          0         1         2         3\n",
       "0  0.209633  0.736860  0.446664  0.069102\n",
       "1  0.277047  0.786775  0.680561  0.555282\n",
       "2  0.125315  0.966118  0.658990  0.236417\n",
       "3  0.548628  0.991468  0.291383  0.275078\n",
       "4  0.880941  0.762032  0.849741  0.955491\n",
       "5  0.959008  0.252173  0.627934  0.386913"
      ]
     },
     "execution_count": 11,
     "metadata": {},
     "output_type": "execute_result"
    }
   ],
   "source": [
    "#DataFrame bar plots\n",
    "#rows are grouped in bars side by side for each value\n",
    "pd.DataFrame(np.random.uniform(size=(6, 4)))"
   ]
  },
  {
   "cell_type": "code",
   "execution_count": 12,
   "id": "6827a8a5-71e3-4d9e-a216-3d868ad62208",
   "metadata": {},
   "outputs": [],
   "source": [
    "#DataFrame bar plots\n",
    "#rows are grouped in bars side by side for each value\n",
    "df = pd.DataFrame(np.random.uniform(size=(6, 4)),\n",
    "            index=['one', 'two', 'three', 'four', 'five', 'six'],\n",
    "            columns=pd.Index(['A', 'B', 'C', 'D'],\n",
    "            name='Genus'))"
   ]
  },
  {
   "cell_type": "code",
   "execution_count": 13,
   "id": "1100369f-8240-4120-92c2-115756897f5d",
   "metadata": {},
   "outputs": [
    {
     "data": {
      "text/html": [
       "<div>\n",
       "<style scoped>\n",
       "    .dataframe tbody tr th:only-of-type {\n",
       "        vertical-align: middle;\n",
       "    }\n",
       "\n",
       "    .dataframe tbody tr th {\n",
       "        vertical-align: top;\n",
       "    }\n",
       "\n",
       "    .dataframe thead th {\n",
       "        text-align: right;\n",
       "    }\n",
       "</style>\n",
       "<table border=\"1\" class=\"dataframe\">\n",
       "  <thead>\n",
       "    <tr style=\"text-align: right;\">\n",
       "      <th>Genus</th>\n",
       "      <th>A</th>\n",
       "      <th>B</th>\n",
       "      <th>C</th>\n",
       "      <th>D</th>\n",
       "    </tr>\n",
       "  </thead>\n",
       "  <tbody>\n",
       "    <tr>\n",
       "      <th>one</th>\n",
       "      <td>0.525192</td>\n",
       "      <td>0.403917</td>\n",
       "      <td>0.262503</td>\n",
       "      <td>0.869453</td>\n",
       "    </tr>\n",
       "    <tr>\n",
       "      <th>two</th>\n",
       "      <td>0.177162</td>\n",
       "      <td>0.454568</td>\n",
       "      <td>0.551102</td>\n",
       "      <td>0.941361</td>\n",
       "    </tr>\n",
       "    <tr>\n",
       "      <th>three</th>\n",
       "      <td>0.470170</td>\n",
       "      <td>0.924553</td>\n",
       "      <td>0.941585</td>\n",
       "      <td>0.824972</td>\n",
       "    </tr>\n",
       "    <tr>\n",
       "      <th>four</th>\n",
       "      <td>0.321382</td>\n",
       "      <td>0.744258</td>\n",
       "      <td>0.658472</td>\n",
       "      <td>0.165439</td>\n",
       "    </tr>\n",
       "    <tr>\n",
       "      <th>five</th>\n",
       "      <td>0.026984</td>\n",
       "      <td>0.497436</td>\n",
       "      <td>0.591358</td>\n",
       "      <td>0.199740</td>\n",
       "    </tr>\n",
       "    <tr>\n",
       "      <th>six</th>\n",
       "      <td>0.130606</td>\n",
       "      <td>0.693952</td>\n",
       "      <td>0.213143</td>\n",
       "      <td>0.888288</td>\n",
       "    </tr>\n",
       "  </tbody>\n",
       "</table>\n",
       "</div>"
      ],
      "text/plain": [
       "Genus         A         B         C         D\n",
       "one    0.525192  0.403917  0.262503  0.869453\n",
       "two    0.177162  0.454568  0.551102  0.941361\n",
       "three  0.470170  0.924553  0.941585  0.824972\n",
       "four   0.321382  0.744258  0.658472  0.165439\n",
       "five   0.026984  0.497436  0.591358  0.199740\n",
       "six    0.130606  0.693952  0.213143  0.888288"
      ]
     },
     "execution_count": 13,
     "metadata": {},
     "output_type": "execute_result"
    }
   ],
   "source": [
    "df"
   ]
  },
  {
   "cell_type": "code",
   "execution_count": 14,
   "id": "54d7467d-d3f4-449f-8fa8-4746fbb4e000",
   "metadata": {},
   "outputs": [
    {
     "data": {
      "text/plain": [
       "<AxesSubplot:>"
      ]
     },
     "execution_count": 14,
     "metadata": {},
     "output_type": "execute_result"
    },
    {
     "data": {
      "image/png": "[encoded data removed]",
      "text/plain": [
       "<Figure size 432x288 with 1 Axes>"
      ]
     },
     "metadata": {
      "needs_background": "light"
     },
     "output_type": "display_data"
    }
   ],
   "source": [
    "df.plot.bar()"
   ]
  },
  {
   "cell_type": "code",
   "execution_count": 15,
   "id": "d565ad3c-a844-4030-8b97-8687c4a1eceb",
   "metadata": {},
   "outputs": [
    {
     "data": {
      "image/png": "[encoded data removed]",
      "text/plain": [
       "<Figure size 432x288 with 1 Axes>"
      ]
     },
     "metadata": {},
     "output_type": "display_data"
    }
   ],
   "source": [
    "#let's make it grayscale\n",
    "with plt.style.context('grayscale'):\n",
    "    df.plot.bar();"
   ]
  },
  {
   "cell_type": "code",
   "execution_count": 16,
   "id": "3e7e29b4-c239-4d9b-8b73-b861a4c7f188",
   "metadata": {},
   "outputs": [
    {
     "data": {
      "image/png": "[encoded data removed]",
      "text/plain": [
       "<Figure size 432x288 with 1 Axes>"
      ]
     },
     "metadata": {},
     "output_type": "display_data"
    }
   ],
   "source": [
    "#stacked=True creates a stacked bar chart\n",
    "with plt.style.context('ggplot'):\n",
    "    df.plot.bar(stacked=True, alpha=0.5)"
   ]
  },
  {
   "cell_type": "code",
   "execution_count": 17,
   "id": "da922c9b-7641-4b0d-a341-c7a0d9812d5e",
   "metadata": {},
   "outputs": [
    {
     "data": {
      "text/plain": [
       "<AxesSubplot:title={'center':'Customer Age'}>"
      ]
     },
     "execution_count": 17,
     "metadata": {},
     "output_type": "execute_result"
    },
    {
     "data": {
      "image/png": "[encoded data removed]",
      "text/plain": [
       "<Figure size 432x288 with 1 Axes>"
      ]
     },
     "metadata": {
      "needs_background": "light"
     },
     "output_type": "display_data"
    }
   ],
   "source": [
    "#determine a series value count frequency\n",
    "#s.value_counts().plot.bar()\n",
    "s = pd.Series(np.random.randint(22, 32, 50))\n",
    "s.value_counts().plot.bar(title='Customer Age')"
   ]
  },
  {
   "cell_type": "code",
   "execution_count": 18,
   "id": "de87e2f9-49df-44a1-8b85-432276a2f9e5",
   "metadata": {},
   "outputs": [],
   "source": [
    "#let's look at the tips dataset\n",
    "#Objective: Make a stacked bar plot showing the percentage of data points for each party size every day.\n",
    "tips = pd.read_csv('examples/tips.csv')"
   ]
  },
  {
   "cell_type": "code",
   "execution_count": 19,
   "id": "9c664f47-0ad2-49c5-8a5f-3cfb63c27dcd",
   "metadata": {},
   "outputs": [
    {
     "data": {
      "text/html": [
       "<div>\n",
       "<style scoped>\n",
       "    .dataframe tbody tr th:only-of-type {\n",
       "        vertical-align: middle;\n",
       "    }\n",
       "\n",
       "    .dataframe tbody tr th {\n",
       "        vertical-align: top;\n",
       "    }\n",
       "\n",
       "    .dataframe thead th {\n",
       "        text-align: right;\n",
       "    }\n",
       "</style>\n",
       "<table border=\"1\" class=\"dataframe\">\n",
       "  <thead>\n",
       "    <tr style=\"text-align: right;\">\n",
       "      <th></th>\n",
       "      <th>total_bill</th>\n",
       "      <th>tip</th>\n",
       "      <th>smoker</th>\n",
       "      <th>day</th>\n",
       "      <th>time</th>\n",
       "      <th>size</th>\n",
       "    </tr>\n",
       "  </thead>\n",
       "  <tbody>\n",
       "    <tr>\n",
       "      <th>0</th>\n",
       "      <td>16.99</td>\n",
       "      <td>1.01</td>\n",
       "      <td>No</td>\n",
       "      <td>Sun</td>\n",
       "      <td>Dinner</td>\n",
       "      <td>2</td>\n",
       "    </tr>\n",
       "    <tr>\n",
       "      <th>1</th>\n",
       "      <td>10.34</td>\n",
       "      <td>1.66</td>\n",
       "      <td>No</td>\n",
       "      <td>Sun</td>\n",
       "      <td>Dinner</td>\n",
       "      <td>3</td>\n",
       "    </tr>\n",
       "    <tr>\n",
       "      <th>2</th>\n",
       "      <td>21.01</td>\n",
       "      <td>3.50</td>\n",
       "      <td>No</td>\n",
       "      <td>Sun</td>\n",
       "      <td>Dinner</td>\n",
       "      <td>3</td>\n",
       "    </tr>\n",
       "    <tr>\n",
       "      <th>3</th>\n",
       "      <td>23.68</td>\n",
       "      <td>3.31</td>\n",
       "      <td>No</td>\n",
       "      <td>Sun</td>\n",
       "      <td>Dinner</td>\n",
       "      <td>2</td>\n",
       "    </tr>\n",
       "    <tr>\n",
       "      <th>4</th>\n",
       "      <td>24.59</td>\n",
       "      <td>3.61</td>\n",
       "      <td>No</td>\n",
       "      <td>Sun</td>\n",
       "      <td>Dinner</td>\n",
       "      <td>4</td>\n",
       "    </tr>\n",
       "  </tbody>\n",
       "</table>\n",
       "</div>"
      ],
      "text/plain": [
       "   total_bill   tip smoker  day    time  size\n",
       "0       16.99  1.01     No  Sun  Dinner     2\n",
       "1       10.34  1.66     No  Sun  Dinner     3\n",
       "2       21.01  3.50     No  Sun  Dinner     3\n",
       "3       23.68  3.31     No  Sun  Dinner     2\n",
       "4       24.59  3.61     No  Sun  Dinner     4"
      ]
     },
     "execution_count": 19,
     "metadata": {},
     "output_type": "execute_result"
    }
   ],
   "source": [
    "tips.head()"
   ]
  },
  {
   "cell_type": "code",
   "execution_count": 20,
   "id": "e66a4dc2-8b4f-4dd5-86c0-9e461d209178",
   "metadata": {},
   "outputs": [],
   "source": [
    "#pd.crosstab: computes a simple frequency table\n",
    "party_counts = pd.crosstab(tips['day'], tips['size'])"
   ]
  },
  {
   "cell_type": "code",
   "execution_count": 21,
   "id": "58f07e91-b0a1-4ef4-aafc-6da3c07e1471",
   "metadata": {},
   "outputs": [
    {
     "data": {
      "text/html": [
       "<div>\n",
       "<style scoped>\n",
       "    .dataframe tbody tr th:only-of-type {\n",
       "        vertical-align: middle;\n",
       "    }\n",
       "\n",
       "    .dataframe tbody tr th {\n",
       "        vertical-align: top;\n",
       "    }\n",
       "\n",
       "    .dataframe thead th {\n",
       "        text-align: right;\n",
       "    }\n",
       "</style>\n",
       "<table border=\"1\" class=\"dataframe\">\n",
       "  <thead>\n",
       "    <tr style=\"text-align: right;\">\n",
       "      <th>size</th>\n",
       "      <th>1</th>\n",
       "      <th>2</th>\n",
       "      <th>3</th>\n",
       "      <th>4</th>\n",
       "      <th>5</th>\n",
       "      <th>6</th>\n",
       "    </tr>\n",
       "    <tr>\n",
       "      <th>day</th>\n",
       "      <th></th>\n",
       "      <th></th>\n",
       "      <th></th>\n",
       "      <th></th>\n",
       "      <th></th>\n",
       "      <th></th>\n",
       "    </tr>\n",
       "  </thead>\n",
       "  <tbody>\n",
       "    <tr>\n",
       "      <th>Fri</th>\n",
       "      <td>1</td>\n",
       "      <td>16</td>\n",
       "      <td>1</td>\n",
       "      <td>1</td>\n",
       "      <td>0</td>\n",
       "      <td>0</td>\n",
       "    </tr>\n",
       "    <tr>\n",
       "      <th>Sat</th>\n",
       "      <td>2</td>\n",
       "      <td>53</td>\n",
       "      <td>18</td>\n",
       "      <td>13</td>\n",
       "      <td>1</td>\n",
       "      <td>0</td>\n",
       "    </tr>\n",
       "    <tr>\n",
       "      <th>Sun</th>\n",
       "      <td>0</td>\n",
       "      <td>39</td>\n",
       "      <td>15</td>\n",
       "      <td>18</td>\n",
       "      <td>3</td>\n",
       "      <td>1</td>\n",
       "    </tr>\n",
       "    <tr>\n",
       "      <th>Thur</th>\n",
       "      <td>1</td>\n",
       "      <td>48</td>\n",
       "      <td>4</td>\n",
       "      <td>5</td>\n",
       "      <td>1</td>\n",
       "      <td>3</td>\n",
       "    </tr>\n",
       "  </tbody>\n",
       "</table>\n",
       "</div>"
      ],
      "text/plain": [
       "size  1   2   3   4  5  6\n",
       "day                      \n",
       "Fri   1  16   1   1  0  0\n",
       "Sat   2  53  18  13  1  0\n",
       "Sun   0  39  15  18  3  1\n",
       "Thur  1  48   4   5  1  3"
      ]
     },
     "execution_count": 21,
     "metadata": {},
     "output_type": "execute_result"
    }
   ],
   "source": [
    "party_counts"
   ]
  },
  {
   "cell_type": "code",
   "execution_count": 22,
   "id": "a5df55ab-bfa0-40b3-9333-7da28be58984",
   "metadata": {},
   "outputs": [],
   "source": [
    "#call party_counts.reindex to reorder the indices\n",
    "party_counts = party_counts.reindex(index=['Thur', 'Fri', 'Sat', 'Sun'])"
   ]
  },
  {
   "cell_type": "code",
   "execution_count": 23,
   "id": "8e319326-7fb2-4f11-ab3c-7313d3e7f26f",
   "metadata": {},
   "outputs": [
    {
     "data": {
      "text/html": [
       "<div>\n",
       "<style scoped>\n",
       "    .dataframe tbody tr th:only-of-type {\n",
       "        vertical-align: middle;\n",
       "    }\n",
       "\n",
       "    .dataframe tbody tr th {\n",
       "        vertical-align: top;\n",
       "    }\n",
       "\n",
       "    .dataframe thead th {\n",
       "        text-align: right;\n",
       "    }\n",
       "</style>\n",
       "<table border=\"1\" class=\"dataframe\">\n",
       "  <thead>\n",
       "    <tr style=\"text-align: right;\">\n",
       "      <th>size</th>\n",
       "      <th>1</th>\n",
       "      <th>2</th>\n",
       "      <th>3</th>\n",
       "      <th>4</th>\n",
       "      <th>5</th>\n",
       "      <th>6</th>\n",
       "    </tr>\n",
       "    <tr>\n",
       "      <th>day</th>\n",
       "      <th></th>\n",
       "      <th></th>\n",
       "      <th></th>\n",
       "      <th></th>\n",
       "      <th></th>\n",
       "      <th></th>\n",
       "    </tr>\n",
       "  </thead>\n",
       "  <tbody>\n",
       "    <tr>\n",
       "      <th>Thur</th>\n",
       "      <td>1</td>\n",
       "      <td>48</td>\n",
       "      <td>4</td>\n",
       "      <td>5</td>\n",
       "      <td>1</td>\n",
       "      <td>3</td>\n",
       "    </tr>\n",
       "    <tr>\n",
       "      <th>Fri</th>\n",
       "      <td>1</td>\n",
       "      <td>16</td>\n",
       "      <td>1</td>\n",
       "      <td>1</td>\n",
       "      <td>0</td>\n",
       "      <td>0</td>\n",
       "    </tr>\n",
       "    <tr>\n",
       "      <th>Sat</th>\n",
       "      <td>2</td>\n",
       "      <td>53</td>\n",
       "      <td>18</td>\n",
       "      <td>13</td>\n",
       "      <td>1</td>\n",
       "      <td>0</td>\n",
       "    </tr>\n",
       "    <tr>\n",
       "      <th>Sun</th>\n",
       "      <td>0</td>\n",
       "      <td>39</td>\n",
       "      <td>15</td>\n",
       "      <td>18</td>\n",
       "      <td>3</td>\n",
       "      <td>1</td>\n",
       "    </tr>\n",
       "  </tbody>\n",
       "</table>\n",
       "</div>"
      ],
      "text/plain": [
       "size  1   2   3   4  5  6\n",
       "day                      \n",
       "Thur  1  48   4   5  1  3\n",
       "Fri   1  16   1   1  0  0\n",
       "Sat   2  53  18  13  1  0\n",
       "Sun   0  39  15  18  3  1"
      ]
     },
     "execution_count": 23,
     "metadata": {},
     "output_type": "execute_result"
    }
   ],
   "source": [
    "party_counts"
   ]
  },
  {
   "cell_type": "code",
   "execution_count": 24,
   "id": "6341331c-2d58-476f-98ed-069b5a5b8970",
   "metadata": {},
   "outputs": [],
   "source": [
    "#since there are not many one or six-person parties we will remove them here\n",
    "party_counts = party_counts.loc[:, 2:5]"
   ]
  },
  {
   "cell_type": "code",
   "execution_count": 25,
   "id": "93c346a9-5ab4-48e4-92a1-0be27a1d477e",
   "metadata": {},
   "outputs": [
    {
     "data": {
      "text/html": [
       "<div>\n",
       "<style scoped>\n",
       "    .dataframe tbody tr th:only-of-type {\n",
       "        vertical-align: middle;\n",
       "    }\n",
       "\n",
       "    .dataframe tbody tr th {\n",
       "        vertical-align: top;\n",
       "    }\n",
       "\n",
       "    .dataframe thead th {\n",
       "        text-align: right;\n",
       "    }\n",
       "</style>\n",
       "<table border=\"1\" class=\"dataframe\">\n",
       "  <thead>\n",
       "    <tr style=\"text-align: right;\">\n",
       "      <th>size</th>\n",
       "      <th>2</th>\n",
       "      <th>3</th>\n",
       "      <th>4</th>\n",
       "      <th>5</th>\n",
       "    </tr>\n",
       "    <tr>\n",
       "      <th>day</th>\n",
       "      <th></th>\n",
       "      <th></th>\n",
       "      <th></th>\n",
       "      <th></th>\n",
       "    </tr>\n",
       "  </thead>\n",
       "  <tbody>\n",
       "    <tr>\n",
       "      <th>Thur</th>\n",
       "      <td>48</td>\n",
       "      <td>4</td>\n",
       "      <td>5</td>\n",
       "      <td>1</td>\n",
       "    </tr>\n",
       "    <tr>\n",
       "      <th>Fri</th>\n",
       "      <td>16</td>\n",
       "      <td>1</td>\n",
       "      <td>1</td>\n",
       "      <td>0</td>\n",
       "    </tr>\n",
       "    <tr>\n",
       "      <th>Sat</th>\n",
       "      <td>53</td>\n",
       "      <td>18</td>\n",
       "      <td>13</td>\n",
       "      <td>1</td>\n",
       "    </tr>\n",
       "    <tr>\n",
       "      <th>Sun</th>\n",
       "      <td>39</td>\n",
       "      <td>15</td>\n",
       "      <td>18</td>\n",
       "      <td>3</td>\n",
       "    </tr>\n",
       "  </tbody>\n",
       "</table>\n",
       "</div>"
      ],
      "text/plain": [
       "size   2   3   4  5\n",
       "day                \n",
       "Thur  48   4   5  1\n",
       "Fri   16   1   1  0\n",
       "Sat   53  18  13  1\n",
       "Sun   39  15  18  3"
      ]
     },
     "execution_count": 25,
     "metadata": {},
     "output_type": "execute_result"
    }
   ],
   "source": [
    "party_counts"
   ]
  },
  {
   "cell_type": "code",
   "execution_count": 26,
   "id": "5a834f75-2aaa-4595-acda-ebd5cc0e0660",
   "metadata": {},
   "outputs": [],
   "source": [
    "#normalize so each row sums to one, then make the plot\n",
    "party_pcts = party_counts.div(party_counts.sum(axis='columns'),\n",
    "                             axis='index')"
   ]
  },
  {
   "cell_type": "code",
   "execution_count": 27,
   "id": "0bdaf18e-6e4f-40fe-bd49-cc0409e2b461",
   "metadata": {},
   "outputs": [
    {
     "data": {
      "text/html": [
       "<div>\n",
       "<style scoped>\n",
       "    .dataframe tbody tr th:only-of-type {\n",
       "        vertical-align: middle;\n",
       "    }\n",
       "\n",
       "    .dataframe tbody tr th {\n",
       "        vertical-align: top;\n",
       "    }\n",
       "\n",
       "    .dataframe thead th {\n",
       "        text-align: right;\n",
       "    }\n",
       "</style>\n",
       "<table border=\"1\" class=\"dataframe\">\n",
       "  <thead>\n",
       "    <tr style=\"text-align: right;\">\n",
       "      <th>size</th>\n",
       "      <th>2</th>\n",
       "      <th>3</th>\n",
       "      <th>4</th>\n",
       "      <th>5</th>\n",
       "    </tr>\n",
       "    <tr>\n",
       "      <th>day</th>\n",
       "      <th></th>\n",
       "      <th></th>\n",
       "      <th></th>\n",
       "      <th></th>\n",
       "    </tr>\n",
       "  </thead>\n",
       "  <tbody>\n",
       "    <tr>\n",
       "      <th>Thur</th>\n",
       "      <td>0.827586</td>\n",
       "      <td>0.068966</td>\n",
       "      <td>0.086207</td>\n",
       "      <td>0.017241</td>\n",
       "    </tr>\n",
       "    <tr>\n",
       "      <th>Fri</th>\n",
       "      <td>0.888889</td>\n",
       "      <td>0.055556</td>\n",
       "      <td>0.055556</td>\n",
       "      <td>0.000000</td>\n",
       "    </tr>\n",
       "    <tr>\n",
       "      <th>Sat</th>\n",
       "      <td>0.623529</td>\n",
       "      <td>0.211765</td>\n",
       "      <td>0.152941</td>\n",
       "      <td>0.011765</td>\n",
       "    </tr>\n",
       "    <tr>\n",
       "      <th>Sun</th>\n",
       "      <td>0.520000</td>\n",
       "      <td>0.200000</td>\n",
       "      <td>0.240000</td>\n",
       "      <td>0.040000</td>\n",
       "    </tr>\n",
       "  </tbody>\n",
       "</table>\n",
       "</div>"
      ],
      "text/plain": [
       "size         2         3         4         5\n",
       "day                                         \n",
       "Thur  0.827586  0.068966  0.086207  0.017241\n",
       "Fri   0.888889  0.055556  0.055556  0.000000\n",
       "Sat   0.623529  0.211765  0.152941  0.011765\n",
       "Sun   0.520000  0.200000  0.240000  0.040000"
      ]
     },
     "execution_count": 27,
     "metadata": {},
     "output_type": "execute_result"
    }
   ],
   "source": [
    "party_pcts"
   ]
  },
  {
   "cell_type": "code",
   "execution_count": 28,
   "id": "6e34fd8e-7de1-4a7e-b5ab-93097b5c7f7c",
   "metadata": {},
   "outputs": [
    {
     "data": {
      "text/plain": [
       "<AxesSubplot:xlabel='day'>"
      ]
     },
     "execution_count": 28,
     "metadata": {},
     "output_type": "execute_result"
    },
    {
     "data": {
      "image/png": "[encoded data removed]",
      "text/plain": [
       "<Figure size 432x288 with 1 Axes>"
      ]
     },
     "metadata": {
      "needs_background": "light"
     },
     "output_type": "display_data"
    }
   ],
   "source": [
    "party_pcts.plot.bar(stacked=True)"
   ]
  },
  {
   "cell_type": "code",
   "execution_count": 29,
   "id": "943ecf66-8d38-4b32-9b23-a44b848a4160",
   "metadata": {},
   "outputs": [
    {
     "data": {
      "text/plain": [
       "<AxesSubplot:xlabel='day'>"
      ]
     },
     "execution_count": 29,
     "metadata": {},
     "output_type": "execute_result"
    },
    {
     "data": {
      "image/png": "[encoded data removed]",
      "text/plain": [
       "<Figure size 432x288 with 1 Axes>"
      ]
     },
     "metadata": {
      "needs_background": "light"
     },
     "output_type": "display_data"
    }
   ],
   "source": [
    "#unstacked version\n",
    "party_pcts.plot.bar(stacked=False)"
   ]
  },
  {
   "cell_type": "code",
   "execution_count": 30,
   "id": "5185d1a7-de7e-43ed-bcf0-99eb3c9a8e54",
   "metadata": {},
   "outputs": [
    {
     "data": {
      "text/html": [
       "<div>\n",
       "<style scoped>\n",
       "    .dataframe tbody tr th:only-of-type {\n",
       "        vertical-align: middle;\n",
       "    }\n",
       "\n",
       "    .dataframe tbody tr th {\n",
       "        vertical-align: top;\n",
       "    }\n",
       "\n",
       "    .dataframe thead th {\n",
       "        text-align: right;\n",
       "    }\n",
       "</style>\n",
       "<table border=\"1\" class=\"dataframe\">\n",
       "  <thead>\n",
       "    <tr style=\"text-align: right;\">\n",
       "      <th></th>\n",
       "      <th>total_bill</th>\n",
       "      <th>tip</th>\n",
       "      <th>smoker</th>\n",
       "      <th>day</th>\n",
       "      <th>time</th>\n",
       "      <th>size</th>\n",
       "    </tr>\n",
       "  </thead>\n",
       "  <tbody>\n",
       "    <tr>\n",
       "      <th>0</th>\n",
       "      <td>16.99</td>\n",
       "      <td>1.01</td>\n",
       "      <td>No</td>\n",
       "      <td>Sun</td>\n",
       "      <td>Dinner</td>\n",
       "      <td>2</td>\n",
       "    </tr>\n",
       "    <tr>\n",
       "      <th>1</th>\n",
       "      <td>10.34</td>\n",
       "      <td>1.66</td>\n",
       "      <td>No</td>\n",
       "      <td>Sun</td>\n",
       "      <td>Dinner</td>\n",
       "      <td>3</td>\n",
       "    </tr>\n",
       "    <tr>\n",
       "      <th>2</th>\n",
       "      <td>21.01</td>\n",
       "      <td>3.50</td>\n",
       "      <td>No</td>\n",
       "      <td>Sun</td>\n",
       "      <td>Dinner</td>\n",
       "      <td>3</td>\n",
       "    </tr>\n",
       "    <tr>\n",
       "      <th>3</th>\n",
       "      <td>23.68</td>\n",
       "      <td>3.31</td>\n",
       "      <td>No</td>\n",
       "      <td>Sun</td>\n",
       "      <td>Dinner</td>\n",
       "      <td>2</td>\n",
       "    </tr>\n",
       "    <tr>\n",
       "      <th>4</th>\n",
       "      <td>24.59</td>\n",
       "      <td>3.61</td>\n",
       "      <td>No</td>\n",
       "      <td>Sun</td>\n",
       "      <td>Dinner</td>\n",
       "      <td>4</td>\n",
       "    </tr>\n",
       "    <tr>\n",
       "      <th>...</th>\n",
       "      <td>...</td>\n",
       "      <td>...</td>\n",
       "      <td>...</td>\n",
       "      <td>...</td>\n",
       "      <td>...</td>\n",
       "      <td>...</td>\n",
       "    </tr>\n",
       "    <tr>\n",
       "      <th>239</th>\n",
       "      <td>29.03</td>\n",
       "      <td>5.92</td>\n",
       "      <td>No</td>\n",
       "      <td>Sat</td>\n",
       "      <td>Dinner</td>\n",
       "      <td>3</td>\n",
       "    </tr>\n",
       "    <tr>\n",
       "      <th>240</th>\n",
       "      <td>27.18</td>\n",
       "      <td>2.00</td>\n",
       "      <td>Yes</td>\n",
       "      <td>Sat</td>\n",
       "      <td>Dinner</td>\n",
       "      <td>2</td>\n",
       "    </tr>\n",
       "    <tr>\n",
       "      <th>241</th>\n",
       "      <td>22.67</td>\n",
       "      <td>2.00</td>\n",
       "      <td>Yes</td>\n",
       "      <td>Sat</td>\n",
       "      <td>Dinner</td>\n",
       "      <td>2</td>\n",
       "    </tr>\n",
       "    <tr>\n",
       "      <th>242</th>\n",
       "      <td>17.82</td>\n",
       "      <td>1.75</td>\n",
       "      <td>No</td>\n",
       "      <td>Sat</td>\n",
       "      <td>Dinner</td>\n",
       "      <td>2</td>\n",
       "    </tr>\n",
       "    <tr>\n",
       "      <th>243</th>\n",
       "      <td>18.78</td>\n",
       "      <td>3.00</td>\n",
       "      <td>No</td>\n",
       "      <td>Thur</td>\n",
       "      <td>Dinner</td>\n",
       "      <td>2</td>\n",
       "    </tr>\n",
       "  </tbody>\n",
       "</table>\n",
       "<p>244 rows × 6 columns</p>\n",
       "</div>"
      ],
      "text/plain": [
       "     total_bill   tip smoker   day    time  size\n",
       "0         16.99  1.01     No   Sun  Dinner     2\n",
       "1         10.34  1.66     No   Sun  Dinner     3\n",
       "2         21.01  3.50     No   Sun  Dinner     3\n",
       "3         23.68  3.31     No   Sun  Dinner     2\n",
       "4         24.59  3.61     No   Sun  Dinner     4\n",
       "..          ...   ...    ...   ...     ...   ...\n",
       "239       29.03  5.92     No   Sat  Dinner     3\n",
       "240       27.18  2.00    Yes   Sat  Dinner     2\n",
       "241       22.67  2.00    Yes   Sat  Dinner     2\n",
       "242       17.82  1.75     No   Sat  Dinner     2\n",
       "243       18.78  3.00     No  Thur  Dinner     2\n",
       "\n",
       "[244 rows x 6 columns]"
      ]
     },
     "execution_count": 30,
     "metadata": {},
     "output_type": "execute_result"
    }
   ],
   "source": [
    "#things that require aggregation are easier with Seaborn\n",
    "tips"
   ]
  },
  {
   "cell_type": "code",
   "execution_count": 31,
   "id": "a9f86117-2779-4771-9702-8f5b7404ad80",
   "metadata": {},
   "outputs": [],
   "source": [
    "tips['tip_pct'] = tips['tip'] / (tips['total_bill'] - tips['tip'])"
   ]
  },
  {
   "cell_type": "code",
   "execution_count": 32,
   "id": "84208f99-9f9a-4082-94d7-db1921b609fc",
   "metadata": {},
   "outputs": [
    {
     "data": {
      "text/html": [
       "<div>\n",
       "<style scoped>\n",
       "    .dataframe tbody tr th:only-of-type {\n",
       "        vertical-align: middle;\n",
       "    }\n",
       "\n",
       "    .dataframe tbody tr th {\n",
       "        vertical-align: top;\n",
       "    }\n",
       "\n",
       "    .dataframe thead th {\n",
       "        text-align: right;\n",
       "    }\n",
       "</style>\n",
       "<table border=\"1\" class=\"dataframe\">\n",
       "  <thead>\n",
       "    <tr style=\"text-align: right;\">\n",
       "      <th></th>\n",
       "      <th>total_bill</th>\n",
       "      <th>tip</th>\n",
       "      <th>smoker</th>\n",
       "      <th>day</th>\n",
       "      <th>time</th>\n",
       "      <th>size</th>\n",
       "      <th>tip_pct</th>\n",
       "    </tr>\n",
       "  </thead>\n",
       "  <tbody>\n",
       "    <tr>\n",
       "      <th>0</th>\n",
       "      <td>16.99</td>\n",
       "      <td>1.01</td>\n",
       "      <td>No</td>\n",
       "      <td>Sun</td>\n",
       "      <td>Dinner</td>\n",
       "      <td>2</td>\n",
       "      <td>0.063204</td>\n",
       "    </tr>\n",
       "    <tr>\n",
       "      <th>1</th>\n",
       "      <td>10.34</td>\n",
       "      <td>1.66</td>\n",
       "      <td>No</td>\n",
       "      <td>Sun</td>\n",
       "      <td>Dinner</td>\n",
       "      <td>3</td>\n",
       "      <td>0.191244</td>\n",
       "    </tr>\n",
       "    <tr>\n",
       "      <th>2</th>\n",
       "      <td>21.01</td>\n",
       "      <td>3.50</td>\n",
       "      <td>No</td>\n",
       "      <td>Sun</td>\n",
       "      <td>Dinner</td>\n",
       "      <td>3</td>\n",
       "      <td>0.199886</td>\n",
       "    </tr>\n",
       "    <tr>\n",
       "      <th>3</th>\n",
       "      <td>23.68</td>\n",
       "      <td>3.31</td>\n",
       "      <td>No</td>\n",
       "      <td>Sun</td>\n",
       "      <td>Dinner</td>\n",
       "      <td>2</td>\n",
       "      <td>0.162494</td>\n",
       "    </tr>\n",
       "    <tr>\n",
       "      <th>4</th>\n",
       "      <td>24.59</td>\n",
       "      <td>3.61</td>\n",
       "      <td>No</td>\n",
       "      <td>Sun</td>\n",
       "      <td>Dinner</td>\n",
       "      <td>4</td>\n",
       "      <td>0.172069</td>\n",
       "    </tr>\n",
       "  </tbody>\n",
       "</table>\n",
       "</div>"
      ],
      "text/plain": [
       "   total_bill   tip smoker  day    time  size   tip_pct\n",
       "0       16.99  1.01     No  Sun  Dinner     2  0.063204\n",
       "1       10.34  1.66     No  Sun  Dinner     3  0.191244\n",
       "2       21.01  3.50     No  Sun  Dinner     3  0.199886\n",
       "3       23.68  3.31     No  Sun  Dinner     2  0.162494\n",
       "4       24.59  3.61     No  Sun  Dinner     4  0.172069"
      ]
     },
     "execution_count": 32,
     "metadata": {},
     "output_type": "execute_result"
    }
   ],
   "source": [
    "tips.head()"
   ]
  },
  {
   "cell_type": "code",
   "execution_count": 33,
   "id": "4d104c38-7b32-4157-861a-9c34513df1d5",
   "metadata": {},
   "outputs": [
    {
     "data": {
      "text/plain": [
       "<AxesSubplot:xlabel='tip_pct', ylabel='day'>"
      ]
     },
     "execution_count": 33,
     "metadata": {},
     "output_type": "execute_result"
    },
    {
     "data": {
      "image/png": "[encoded data removed]",
      "text/plain": [
       "<Figure size 432x288 with 1 Axes>"
      ]
     },
     "metadata": {
      "needs_background": "light"
     },
     "output_type": "display_data"
    }
   ],
   "source": [
    "#bar plot\n",
    "sns.barplot(x='tip_pct', y='day', data=tips)"
   ]
  },
  {
   "cell_type": "code",
   "execution_count": 34,
   "id": "07f68e35-63e0-4e9e-bcba-f8f5d2f8b0ca",
   "metadata": {},
   "outputs": [
    {
     "data": {
      "text/plain": [
       "<AxesSubplot:xlabel='tip_pct', ylabel='day'>"
      ]
     },
     "execution_count": 34,
     "metadata": {},
     "output_type": "execute_result"
    },
    {
     "data": {
      "image/png": "[encoded data removed]",
      "text/plain": [
       "<Figure size 432x288 with 1 Axes>"
      ]
     },
     "metadata": {
      "needs_background": "light"
     },
     "output_type": "display_data"
    }
   ],
   "source": [
    "#bar plot\n",
    "#same as above, but we specify the orient as \"h\"\n",
    "sns.barplot(x='tip_pct', y='day', orient='h', data=tips)"
   ]
  },
  {
   "cell_type": "code",
   "execution_count": 35,
   "id": "ad6a6608-4886-43ca-8853-75dd85188ec1",
   "metadata": {},
   "outputs": [
    {
     "data": {
      "text/plain": [
       "<AxesSubplot:xlabel='tip_pct', ylabel='day'>"
      ]
     },
     "execution_count": 35,
     "metadata": {},
     "output_type": "execute_result"
    },
    {
     "data": {
      "image/png": "[encoded data removed]",
      "text/plain": [
       "<Figure size 432x288 with 1 Axes>"
      ]
     },
     "metadata": {
      "needs_background": "light"
     },
     "output_type": "display_data"
    }
   ],
   "source": [
    "#We can add additional categorical variable that lets us see if its lunch or dinner\n",
    "sns.barplot(x='tip_pct', y='day', data=tips, orient='h')"
   ]
  },
  {
   "cell_type": "code",
   "execution_count": 36,
   "id": "454f2719-49f7-463b-b925-9bca2d441160",
   "metadata": {},
   "outputs": [
    {
     "data": {
      "text/plain": [
       "<AxesSubplot:ylabel='Frequency'>"
      ]
     },
     "execution_count": 36,
     "metadata": {},
     "output_type": "execute_result"
    },
    {
     "data": {
      "image/png": "[encoded data removed]",
      "text/plain": [
       "<Figure size 432x288 with 1 Axes>"
      ]
     },
     "metadata": {
      "needs_background": "light"
     },
     "output_type": "display_data"
    }
   ],
   "source": [
    "#histograms/density plots: a histogram is a bar plot focused on value frequency\n",
    "tips['tip_pct'].plot.hist(bins=50)"
   ]
  },
  {
   "cell_type": "code",
   "execution_count": 37,
   "id": "82f98d44-47f2-4712-b6bc-bba8dc29ab8f",
   "metadata": {},
   "outputs": [
    {
     "data": {
      "text/plain": [
       "<AxesSubplot:ylabel='Density'>"
      ]
     },
     "execution_count": 37,
     "metadata": {},
     "output_type": "execute_result"
    },
    {
     "data": {
      "image/png": "[encoded data removed]",
      "text/plain": [
       "<Figure size 432x288 with 1 Axes>"
      ]
     },
     "metadata": {
      "needs_background": "light"
     },
     "output_type": "display_data"
    }
   ],
   "source": [
    "#density plot with same data\n",
    "tips['tip_pct'].plot.density()"
   ]
  },
  {
   "cell_type": "code",
   "execution_count": 38,
   "id": "9e086c90-58db-4f81-ad33-4194e20ed533",
   "metadata": {},
   "outputs": [
    {
     "data": {
      "text/plain": [
       "array([ 0.06885497, -0.41238522,  0.02637927,  0.29791259,  1.10189105,\n",
       "        1.22480781, -0.55475899, -1.08597681, -0.5841568 , -0.09090476,\n",
       "        0.03548122, -0.85412893, -0.61167906,  0.52467508, -0.69567493,\n",
       "       -0.11178929,  2.31835696,  0.3018153 ,  0.46654827, -0.41847615,\n",
       "       -2.90255655,  0.74358498, -0.23193364, -0.26199206,  0.74403385,\n",
       "       -0.85825146, -0.64517396,  1.22950734, -1.04902189, -1.59895092,\n",
       "        0.69448446, -1.80722549,  0.31103081,  0.38011033,  0.12321582,\n",
       "       -0.74064055, -1.0525447 , -0.98212931, -1.52363827, -0.01627792,\n",
       "        0.51338262,  1.27242197,  0.50313561,  0.67740439, -0.66284369,\n",
       "       -0.00857542,  0.47264538,  0.7119439 ,  0.5078704 ,  0.68735022,\n",
       "       -0.30009931, -0.1657451 , -0.02183476,  0.47870986, -0.07834565,\n",
       "        0.29198102, -1.40675485, -0.70790978,  0.52401417,  0.97927088,\n",
       "       -0.0830534 , -0.2266422 ,  2.17261658,  0.05854031,  0.67016196,\n",
       "       -0.06646157,  0.02252005,  0.67899645,  1.01889353,  0.81811014,\n",
       "        0.0448718 ,  0.18066891,  0.40438438, -0.46901352,  0.56007909,\n",
       "       -1.28091968,  1.2896406 ,  0.77752816,  0.95640823,  0.70390519,\n",
       "       -0.11027747,  0.40280818, -0.42921114, -2.41432124,  0.05537304,\n",
       "       -0.15341018,  0.3599694 ,  1.27207364,  0.71907891, -0.25160087,\n",
       "       -0.31017249, -0.30823521,  0.25747305,  0.01790693, -1.73317742,\n",
       "        2.29821767, -1.16050215,  0.99107605, -2.08783508,  0.60787536,\n",
       "       -0.10450099,  0.8640615 , -0.23251351,  0.24542299, -0.79026017,\n",
       "       -0.00185659,  1.97024783, -0.29942888,  0.72611248, -1.03127648,\n",
       "       -1.07887981, -0.12561569, -0.86033552,  0.51878754,  0.13817106,\n",
       "       -0.35559946, -1.71190108,  0.41710115,  0.46465774, -0.0678198 ,\n",
       "        0.09731569,  0.43224938, -0.51215231, -0.78447501,  0.33133995,\n",
       "       -0.9405883 , -1.77727426,  0.57761552, -0.41536379, -1.52633931,\n",
       "        0.21072578, -0.02900148,  1.02926014,  0.40069238, -0.38743008,\n",
       "       -0.71235168, -0.88569583,  1.170045  , -1.21886711,  1.66138047,\n",
       "       -0.2022631 ,  1.13086565, -0.04382558, -0.58349157,  1.06745415,\n",
       "       -1.42682979,  0.18003094,  0.84666567,  0.88103098, -0.96069244,\n",
       "       -1.99300927,  1.60014208, -0.91013676,  0.22739612, -1.11665102,\n",
       "        1.22292148,  0.17345721,  0.06148183, -0.46625023, -1.86245521,\n",
       "        1.29926402,  0.55302785,  0.0596681 ,  0.853855  ,  0.21045618,\n",
       "       -0.83317424, -0.11060447,  0.09354181,  0.11656187,  1.580836  ,\n",
       "       -0.7731297 , -2.31802928,  0.57892335,  0.68211522, -1.99434391,\n",
       "        0.28180588, -1.33800572,  0.1243584 , -0.88948452,  0.34761795,\n",
       "        0.56259958,  0.2179148 ,  0.64308146,  0.98281394,  2.21074223,\n",
       "       -0.77900577,  1.87971868,  0.67508366,  2.32554088,  0.44745992,\n",
       "       -0.07539212, -0.74736693, -0.56097652, -1.24358557, -0.64765051,\n",
       "       -0.21053764,  0.7608789 ,  0.5120625 , -1.88616115,  0.43110818])"
      ]
     },
     "execution_count": 38,
     "metadata": {},
     "output_type": "execute_result"
    }
   ],
   "source": [
    "#histplot method: easier histograms and density plots\n",
    "comp1 = np.random.standard_normal(200)\n",
    "comp1"
   ]
  },
  {
   "cell_type": "code",
   "execution_count": 39,
   "id": "4946aae6-7eaf-4ac2-9b92-840510e72e6b",
   "metadata": {},
   "outputs": [
    {
     "data": {
      "text/plain": [
       "array([ 8.86550879,  8.3304215 ,  8.45414617,  9.34245449,  9.86182401,\n",
       "       12.2696875 , 10.73034084, 11.0904249 ,  9.73817155,  8.74240357,\n",
       "        9.33707734, 10.07575917, 12.98480324, 11.86417793,  7.55146281,\n",
       "        9.11408247, 10.02207435, 11.81974936,  8.82952435,  9.16737819,\n",
       "        9.99307814,  7.93695709, 14.81093597,  8.77445783,  9.60062246,\n",
       "        5.87036646, 10.52198614, 12.96599619, 13.00118224,  9.97990675,\n",
       "        9.99518654, 13.65413549,  7.10826268,  8.48618398, 12.18243915,\n",
       "        7.96902495,  8.72438143,  9.43335328, 10.15194065, 13.86776577,\n",
       "        6.57317684,  7.81323051, 11.09135666,  8.21285268,  8.23341052,\n",
       "       10.12704754,  7.5075134 , 10.71932812, 10.33359144,  9.98793198,\n",
       "       11.31270604,  8.48919681,  8.37831395,  9.29031331, 11.05959292,\n",
       "       11.38751228, 10.96156836, 12.54715088, 10.20995365,  8.14546652,\n",
       "        8.47358973, 11.92779926, 10.97131222, 11.10342663, 11.03345784,\n",
       "       16.11315182,  8.10753013,  8.48190313, 12.23585522,  8.85996723,\n",
       "        8.69670851,  8.44147692, 11.01525849, 10.7858515 , 13.30780125,\n",
       "       11.36178685, 10.88180536,  9.24260946,  7.28345562, 12.45565326,\n",
       "        8.44365871, 10.82296297, 12.40610631, 10.68673148, 12.46448745,\n",
       "       11.62998721, 11.29290992, 10.4387777 , 11.104296  ,  8.82467947,\n",
       "       10.6252336 , 11.05514357, 10.67913827, 11.24067982, 11.44511498,\n",
       "        8.86734606, 11.45873794,  9.36146092,  8.29700135, 12.72474427,\n",
       "       11.49642069,  8.74707765, 11.99718621, 10.75496348,  8.42321202,\n",
       "        5.46300971,  9.39039385, 10.65527556,  7.74991097, 11.20533301,\n",
       "        9.20237264, 12.1081336 , 10.74773451, 10.85211108, 15.69638748,\n",
       "        5.85388288,  8.76312999, 13.29228514,  9.5799848 , 10.1436281 ,\n",
       "       10.51795326, 11.28078394,  9.15115986,  7.88460854, 10.17109002,\n",
       "       13.11471278, 10.99231638,  9.18671548, 10.57686518,  9.98364055,\n",
       "        6.62210989,  6.34018746,  8.78067646, 15.09960847, 12.09187468,\n",
       "       10.86900039, 10.56381223,  8.42874215,  9.01491168, 10.25485563,\n",
       "        8.87864775, 12.92036775, 10.19860976, 11.52070876,  8.95525158,\n",
       "        7.90012082, 10.50580464, 11.77475497,  9.69482712,  8.58188796,\n",
       "       12.98189012, 13.62982091,  5.94772534,  7.54815792, 12.53510758,\n",
       "       10.21873626,  6.98825328,  8.34986246, 12.63996874, 11.1068768 ,\n",
       "        5.74693215, 14.08454674,  6.50532621, 13.61929006, 10.96049548,\n",
       "       10.5869343 , 11.00957643,  9.07294216, 10.61754515, 10.95020765,\n",
       "       11.44416993,  9.44782344,  9.12159352,  7.81952356, 12.20343352,\n",
       "       12.03720688, 10.73921051,  9.92153507,  9.69692887,  6.15280102,\n",
       "        6.4130673 , 11.09750377,  9.88904358,  7.85486726, 11.50687118,\n",
       "        9.61491973, 11.59861562, 13.37794131, 10.47949599,  9.46864061,\n",
       "       10.96771284,  8.08902052,  9.72087566, 10.15215972, 13.30431547,\n",
       "       10.1264455 ,  9.99480256,  8.48057303, 10.71862314,  9.36607186])"
      ]
     },
     "execution_count": 39,
     "metadata": {},
     "output_type": "execute_result"
    }
   ],
   "source": [
    "comp2 = 10 + 2 * np.random.standard_normal(200)\n",
    "comp2"
   ]
  },
  {
   "cell_type": "code",
   "execution_count": 40,
   "id": "f4d536e9-ff46-4cb3-a09d-535c70284f59",
   "metadata": {},
   "outputs": [
    {
     "data": {
      "text/plain": [
       "0       0.068855\n",
       "1      -0.412385\n",
       "2       0.026379\n",
       "3       0.297913\n",
       "4       1.101891\n",
       "         ...    \n",
       "395    10.126445\n",
       "396     9.994803\n",
       "397     8.480573\n",
       "398    10.718623\n",
       "399     9.366072\n",
       "Length: 400, dtype: float64"
      ]
     },
     "execution_count": 40,
     "metadata": {},
     "output_type": "execute_result"
    }
   ],
   "source": [
    "values = pd.Series(np.concatenate([comp1, comp2]))\n",
    "values"
   ]
  },
  {
   "cell_type": "code",
   "execution_count": 41,
   "id": "2a94a658-911b-416d-94a5-3e776e88485b",
   "metadata": {},
   "outputs": [
    {
     "data": {
      "text/plain": [
       "<AxesSubplot:ylabel='Count'>"
      ]
     },
     "execution_count": 41,
     "metadata": {},
     "output_type": "execute_result"
    },
    {
     "data": {
      "image/png": "[encoded data removed]",
      "text/plain": [
       "<Figure size 432x288 with 1 Axes>"
      ]
     },
     "metadata": {
      "needs_background": "light"
     },
     "output_type": "display_data"
    }
   ],
   "source": [
    "sns.histplot(values, bins=100, color='black')"
   ]
  },
  {
   "cell_type": "code",
   "execution_count": 46,
   "id": "6547b5d8-f0ac-41df-8965-fbe717f428ee",
   "metadata": {},
   "outputs": [
    {
     "data": {
      "text/html": [
       "<div>\n",
       "<style scoped>\n",
       "    .dataframe tbody tr th:only-of-type {\n",
       "        vertical-align: middle;\n",
       "    }\n",
       "\n",
       "    .dataframe tbody tr th {\n",
       "        vertical-align: top;\n",
       "    }\n",
       "\n",
       "    .dataframe thead th {\n",
       "        text-align: right;\n",
       "    }\n",
       "</style>\n",
       "<table border=\"1\" class=\"dataframe\">\n",
       "  <thead>\n",
       "    <tr style=\"text-align: right;\">\n",
       "      <th></th>\n",
       "      <th>year</th>\n",
       "      <th>quarter</th>\n",
       "      <th>realgdp</th>\n",
       "      <th>realcons</th>\n",
       "      <th>realinv</th>\n",
       "      <th>realgovt</th>\n",
       "      <th>realdpi</th>\n",
       "      <th>cpi</th>\n",
       "      <th>m1</th>\n",
       "      <th>tbilrate</th>\n",
       "      <th>unemp</th>\n",
       "      <th>pop</th>\n",
       "      <th>infl</th>\n",
       "      <th>realint</th>\n",
       "    </tr>\n",
       "  </thead>\n",
       "  <tbody>\n",
       "    <tr>\n",
       "      <th>0</th>\n",
       "      <td>1959</td>\n",
       "      <td>1</td>\n",
       "      <td>2710.349</td>\n",
       "      <td>1707.4</td>\n",
       "      <td>286.898</td>\n",
       "      <td>470.045</td>\n",
       "      <td>1886.9</td>\n",
       "      <td>28.98</td>\n",
       "      <td>139.7</td>\n",
       "      <td>2.82</td>\n",
       "      <td>5.8</td>\n",
       "      <td>177.146</td>\n",
       "      <td>0.00</td>\n",
       "      <td>0.00</td>\n",
       "    </tr>\n",
       "    <tr>\n",
       "      <th>1</th>\n",
       "      <td>1959</td>\n",
       "      <td>2</td>\n",
       "      <td>2778.801</td>\n",
       "      <td>1733.7</td>\n",
       "      <td>310.859</td>\n",
       "      <td>481.301</td>\n",
       "      <td>1919.7</td>\n",
       "      <td>29.15</td>\n",
       "      <td>141.7</td>\n",
       "      <td>3.08</td>\n",
       "      <td>5.1</td>\n",
       "      <td>177.830</td>\n",
       "      <td>2.34</td>\n",
       "      <td>0.74</td>\n",
       "    </tr>\n",
       "    <tr>\n",
       "      <th>2</th>\n",
       "      <td>1959</td>\n",
       "      <td>3</td>\n",
       "      <td>2775.488</td>\n",
       "      <td>1751.8</td>\n",
       "      <td>289.226</td>\n",
       "      <td>491.260</td>\n",
       "      <td>1916.4</td>\n",
       "      <td>29.35</td>\n",
       "      <td>140.5</td>\n",
       "      <td>3.82</td>\n",
       "      <td>5.3</td>\n",
       "      <td>178.657</td>\n",
       "      <td>2.74</td>\n",
       "      <td>1.09</td>\n",
       "    </tr>\n",
       "    <tr>\n",
       "      <th>3</th>\n",
       "      <td>1959</td>\n",
       "      <td>4</td>\n",
       "      <td>2785.204</td>\n",
       "      <td>1753.7</td>\n",
       "      <td>299.356</td>\n",
       "      <td>484.052</td>\n",
       "      <td>1931.3</td>\n",
       "      <td>29.37</td>\n",
       "      <td>140.0</td>\n",
       "      <td>4.33</td>\n",
       "      <td>5.6</td>\n",
       "      <td>179.386</td>\n",
       "      <td>0.27</td>\n",
       "      <td>4.06</td>\n",
       "    </tr>\n",
       "    <tr>\n",
       "      <th>4</th>\n",
       "      <td>1960</td>\n",
       "      <td>1</td>\n",
       "      <td>2847.699</td>\n",
       "      <td>1770.5</td>\n",
       "      <td>331.722</td>\n",
       "      <td>462.199</td>\n",
       "      <td>1955.5</td>\n",
       "      <td>29.54</td>\n",
       "      <td>139.6</td>\n",
       "      <td>3.50</td>\n",
       "      <td>5.2</td>\n",
       "      <td>180.007</td>\n",
       "      <td>2.31</td>\n",
       "      <td>1.19</td>\n",
       "    </tr>\n",
       "  </tbody>\n",
       "</table>\n",
       "</div>"
      ],
      "text/plain": [
       "   year  quarter   realgdp  realcons  realinv  realgovt  realdpi    cpi  \\\n",
       "0  1959        1  2710.349    1707.4  286.898   470.045   1886.9  28.98   \n",
       "1  1959        2  2778.801    1733.7  310.859   481.301   1919.7  29.15   \n",
       "2  1959        3  2775.488    1751.8  289.226   491.260   1916.4  29.35   \n",
       "3  1959        4  2785.204    1753.7  299.356   484.052   1931.3  29.37   \n",
       "4  1960        1  2847.699    1770.5  331.722   462.199   1955.5  29.54   \n",
       "\n",
       "      m1  tbilrate  unemp      pop  infl  realint  \n",
       "0  139.7      2.82    5.8  177.146  0.00     0.00  \n",
       "1  141.7      3.08    5.1  177.830  2.34     0.74  \n",
       "2  140.5      3.82    5.3  178.657  2.74     1.09  \n",
       "3  140.0      4.33    5.6  179.386  0.27     4.06  \n",
       "4  139.6      3.50    5.2  180.007  2.31     1.19  "
      ]
     },
     "execution_count": 46,
     "metadata": {},
     "output_type": "execute_result"
    }
   ],
   "source": [
    "#scatter/point plots\n",
    "#point or scatter plots can let us see relationship between two one-dimensional data series\n",
    "macro = pd.read_csv('examples/macrodata.csv')\n",
    "macro.head()"
   ]
  },
  {
   "cell_type": "code",
   "execution_count": 52,
   "id": "8b4eb7c8-de7c-4813-825c-0b85fef813be",
   "metadata": {},
   "outputs": [],
   "source": [
    "data = macro[['cpi', 'm1', 'tbilrate', 'unemp']]"
   ]
  },
  {
   "cell_type": "code",
   "execution_count": 53,
   "id": "2e3ad2c6-59d2-4cc8-bef2-ff8aeb8e0d31",
   "metadata": {},
   "outputs": [
    {
     "data": {
      "text/html": [
       "<div>\n",
       "<style scoped>\n",
       "    .dataframe tbody tr th:only-of-type {\n",
       "        vertical-align: middle;\n",
       "    }\n",
       "\n",
       "    .dataframe tbody tr th {\n",
       "        vertical-align: top;\n",
       "    }\n",
       "\n",
       "    .dataframe thead th {\n",
       "        text-align: right;\n",
       "    }\n",
       "</style>\n",
       "<table border=\"1\" class=\"dataframe\">\n",
       "  <thead>\n",
       "    <tr style=\"text-align: right;\">\n",
       "      <th></th>\n",
       "      <th>cpi</th>\n",
       "      <th>m1</th>\n",
       "      <th>tbilrate</th>\n",
       "      <th>unemp</th>\n",
       "    </tr>\n",
       "  </thead>\n",
       "  <tbody>\n",
       "    <tr>\n",
       "      <th>0</th>\n",
       "      <td>28.98</td>\n",
       "      <td>139.7</td>\n",
       "      <td>2.82</td>\n",
       "      <td>5.8</td>\n",
       "    </tr>\n",
       "    <tr>\n",
       "      <th>1</th>\n",
       "      <td>29.15</td>\n",
       "      <td>141.7</td>\n",
       "      <td>3.08</td>\n",
       "      <td>5.1</td>\n",
       "    </tr>\n",
       "    <tr>\n",
       "      <th>2</th>\n",
       "      <td>29.35</td>\n",
       "      <td>140.5</td>\n",
       "      <td>3.82</td>\n",
       "      <td>5.3</td>\n",
       "    </tr>\n",
       "    <tr>\n",
       "      <th>3</th>\n",
       "      <td>29.37</td>\n",
       "      <td>140.0</td>\n",
       "      <td>4.33</td>\n",
       "      <td>5.6</td>\n",
       "    </tr>\n",
       "    <tr>\n",
       "      <th>4</th>\n",
       "      <td>29.54</td>\n",
       "      <td>139.6</td>\n",
       "      <td>3.50</td>\n",
       "      <td>5.2</td>\n",
       "    </tr>\n",
       "  </tbody>\n",
       "</table>\n",
       "</div>"
      ],
      "text/plain": [
       "     cpi     m1  tbilrate  unemp\n",
       "0  28.98  139.7      2.82    5.8\n",
       "1  29.15  141.7      3.08    5.1\n",
       "2  29.35  140.5      3.82    5.3\n",
       "3  29.37  140.0      4.33    5.6\n",
       "4  29.54  139.6      3.50    5.2"
      ]
     },
     "execution_count": 53,
     "metadata": {},
     "output_type": "execute_result"
    }
   ],
   "source": [
    "data.head()"
   ]
  },
  {
   "cell_type": "code",
   "execution_count": 54,
   "id": "833d227b-ec29-4e09-8494-d6c32cd882cd",
   "metadata": {},
   "outputs": [],
   "source": [
    "#compute the log differences\n",
    "trans_data = np.log(data).diff().dropna()"
   ]
  },
  {
   "cell_type": "code",
   "execution_count": 55,
   "id": "77265f7b-4a70-4ba4-81ea-34b6892e8222",
   "metadata": {},
   "outputs": [
    {
     "data": {
      "text/html": [
       "<div>\n",
       "<style scoped>\n",
       "    .dataframe tbody tr th:only-of-type {\n",
       "        vertical-align: middle;\n",
       "    }\n",
       "\n",
       "    .dataframe tbody tr th {\n",
       "        vertical-align: top;\n",
       "    }\n",
       "\n",
       "    .dataframe thead th {\n",
       "        text-align: right;\n",
       "    }\n",
       "</style>\n",
       "<table border=\"1\" class=\"dataframe\">\n",
       "  <thead>\n",
       "    <tr style=\"text-align: right;\">\n",
       "      <th></th>\n",
       "      <th>cpi</th>\n",
       "      <th>m1</th>\n",
       "      <th>tbilrate</th>\n",
       "      <th>unemp</th>\n",
       "    </tr>\n",
       "  </thead>\n",
       "  <tbody>\n",
       "    <tr>\n",
       "      <th>198</th>\n",
       "      <td>-0.007904</td>\n",
       "      <td>0.045361</td>\n",
       "      <td>-0.396881</td>\n",
       "      <td>0.105361</td>\n",
       "    </tr>\n",
       "    <tr>\n",
       "      <th>199</th>\n",
       "      <td>-0.021979</td>\n",
       "      <td>0.066753</td>\n",
       "      <td>-2.277267</td>\n",
       "      <td>0.139762</td>\n",
       "    </tr>\n",
       "    <tr>\n",
       "      <th>200</th>\n",
       "      <td>0.002340</td>\n",
       "      <td>0.010286</td>\n",
       "      <td>0.606136</td>\n",
       "      <td>0.160343</td>\n",
       "    </tr>\n",
       "    <tr>\n",
       "      <th>201</th>\n",
       "      <td>0.008419</td>\n",
       "      <td>0.037461</td>\n",
       "      <td>-0.200671</td>\n",
       "      <td>0.127339</td>\n",
       "    </tr>\n",
       "    <tr>\n",
       "      <th>202</th>\n",
       "      <td>0.008894</td>\n",
       "      <td>0.012202</td>\n",
       "      <td>-0.405465</td>\n",
       "      <td>0.042560</td>\n",
       "    </tr>\n",
       "  </tbody>\n",
       "</table>\n",
       "</div>"
      ],
      "text/plain": [
       "          cpi        m1  tbilrate     unemp\n",
       "198 -0.007904  0.045361 -0.396881  0.105361\n",
       "199 -0.021979  0.066753 -2.277267  0.139762\n",
       "200  0.002340  0.010286  0.606136  0.160343\n",
       "201  0.008419  0.037461 -0.200671  0.127339\n",
       "202  0.008894  0.012202 -0.405465  0.042560"
      ]
     },
     "execution_count": 55,
     "metadata": {},
     "output_type": "execute_result"
    }
   ],
   "source": [
    "trans_data.tail()"
   ]
  },
  {
   "cell_type": "code",
   "execution_count": 58,
   "id": "57f45af6-a27a-475a-9508-faf26dee9f94",
   "metadata": {},
   "outputs": [
    {
     "data": {
      "image/png": "[encoded data removed]",
      "text/plain": [
       "<Figure size 432x288 with 1 Axes>"
      ]
     },
     "metadata": {
      "needs_background": "light"
     },
     "output_type": "display_data"
    }
   ],
   "source": [
    "#we can use seaborn regplot method, making a scatter plot and a linear regression line\n",
    "ax = sns.regplot(x='m1', y='unemp', data=trans_data)\n",
    "ax.set_title('Changes in log(m1) versus log(unemp)');"
   ]
  },
  {
   "cell_type": "code",
   "execution_count": 59,
   "id": "9f2e8c00-56c9-49a7-9b7e-a81c643c8e17",
   "metadata": {},
   "outputs": [
    {
     "data": {
      "text/plain": [
       "<seaborn.axisgrid.PairGrid at 0x7f9e5981d630>"
      ]
     },
     "execution_count": 59,
     "metadata": {},
     "output_type": "execute_result"
    },
    {
     "data": {
      "image/png": "[encoded data removed]",
      "text/plain": [
       "<Figure size 720x720 with 20 Axes>"
      ]
     },
     "metadata": {
      "needs_background": "light"
     },
     "output_type": "display_data"
    }
   ],
   "source": [
    "#pairplots use a matrix of scatter plots\n",
    "sns.pairplot(trans_data, diag_kind='kde', plot_kws={'alpha': 0.2})"
   ]
  },
  {
   "cell_type": "code",
   "execution_count": 61,
   "id": "b41bfc85-5eaa-4823-92fe-29748bbe3732",
   "metadata": {},
   "outputs": [
    {
     "data": {
      "text/plain": [
       "<seaborn.axisgrid.FacetGrid at 0x7f9e59c1aec0>"
      ]
     },
     "execution_count": 61,
     "metadata": {},
     "output_type": "execute_result"
    },
    {
     "data": {
      "image/png": "[encoded data removed]",
      "text/plain": [
       "<Figure size 789.625x360 with 2 Axes>"
      ]
     },
     "metadata": {
      "needs_background": "light"
     },
     "output_type": "display_data"
    }
   ],
   "source": [
    "#facet grid: seaborn has a catplot function that makes facet grids easier\n",
    "sns.catplot(x='day', y='tip_pct', hue='time', col='smoker',\n",
    "           kind='bar', data=tips[tips.tip_pct < 1])"
   ]
  },
  {
   "cell_type": "code",
   "execution_count": 62,
   "id": "9d5a3cb7-57ac-4371-bc13-62cd09adf30f",
   "metadata": {},
   "outputs": [
    {
     "data": {
      "text/plain": [
       "<seaborn.axisgrid.FacetGrid at 0x7f9e7a316710>"
      ]
     },
     "execution_count": 62,
     "metadata": {},
     "output_type": "execute_result"
    },
    {
     "data": {
      "image/png": "[encoded data removed]",
      "text/plain": [
       "<Figure size 720x720 with 4 Axes>"
      ]
     },
     "metadata": {
      "needs_background": "light"
     },
     "output_type": "display_data"
    }
   ],
   "source": [
    "#instead of grouping by time with different bar colors, we can\n",
    "#expand the facet grid by adding one row per time value\n",
    "sns.catplot(x='day', y='tip_pct', row='time',\n",
    "           col='smoker', kind='bar', data=tips[tips.tip_pct < 1])"
   ]
  },
  {
   "cell_type": "code",
   "execution_count": 63,
   "id": "aa82dd4c-ec9b-4e4e-93f6-3b7f792880b1",
   "metadata": {},
   "outputs": [
    {
     "data": {
      "text/plain": [
       "<seaborn.axisgrid.FacetGrid at 0x7f9e6a858ac0>"
      ]
     },
     "execution_count": 63,
     "metadata": {},
     "output_type": "execute_result"
    },
    {
     "data": {
      "image/png": "[encoded data removed]",
      "text/plain": [
       "<Figure size 360x360 with 1 Axes>"
      ]
     },
     "metadata": {
      "needs_background": "light"
     },
     "output_type": "display_data"
    }
   ],
   "source": [
    "#additional catplot types: boxplots\n",
    "sns.catplot(x='tip_pct', y='day', kind='box',\n",
    "           data=tips[tips.tip_pct < 0.5])"
   ]
  },
  {
   "cell_type": "code",
   "execution_count": null,
   "id": "d289cfde-e2b5-4907-b386-de7821c3b508",
   "metadata": {},
   "outputs": [],
   "source": []
  }
 ],
 "metadata": {
  "kernelspec": {
   "display_name": "Python 3 (ipykernel)",
   "language": "python",
   "name": "python3"
  },
  "language_info": {
   "codemirror_mode": {
    "name": "ipython",
    "version": 3
   },
   "file_extension": ".py",
   "mimetype": "text/x-python",
   "name": "python",
   "nbconvert_exporter": "python",
   "pygments_lexer": "ipython3",
   "version": "3.10.0"
  }
 },
 "nbformat": 4,
 "nbformat_minor": 5
}
