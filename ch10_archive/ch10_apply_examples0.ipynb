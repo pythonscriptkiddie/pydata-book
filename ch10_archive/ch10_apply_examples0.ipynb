{
 "cells": [
  {
   "cell_type": "code",
   "execution_count": 1,
   "id": "8d59c691-aa7d-45ab-8e05-c06e60cd3a30",
   "metadata": {},
   "outputs": [],
   "source": [
    "import functools\n",
    "import operator\n",
    "from typing import List\n",
    "import numpy as np\n",
    "import pandas as pd"
   ]
  },
  {
   "cell_type": "code",
   "execution_count": 2,
   "id": "6967c525-622f-422e-a72f-11b7f4939236",
   "metadata": {},
   "outputs": [
    {
     "data": {
      "text/html": [
       "<div>\n",
       "<style scoped>\n",
       "    .dataframe tbody tr th:only-of-type {\n",
       "        vertical-align: middle;\n",
       "    }\n",
       "\n",
       "    .dataframe tbody tr th {\n",
       "        vertical-align: top;\n",
       "    }\n",
       "\n",
       "    .dataframe thead th {\n",
       "        text-align: right;\n",
       "    }\n",
       "</style>\n",
       "<table border=\"1\" class=\"dataframe\">\n",
       "  <thead>\n",
       "    <tr style=\"text-align: right;\">\n",
       "      <th></th>\n",
       "      <th>total_bill</th>\n",
       "      <th>tip</th>\n",
       "      <th>smoker</th>\n",
       "      <th>day</th>\n",
       "      <th>time</th>\n",
       "      <th>size</th>\n",
       "    </tr>\n",
       "  </thead>\n",
       "  <tbody>\n",
       "    <tr>\n",
       "      <th>0</th>\n",
       "      <td>16.99</td>\n",
       "      <td>1.01</td>\n",
       "      <td>No</td>\n",
       "      <td>Sun</td>\n",
       "      <td>Dinner</td>\n",
       "      <td>2</td>\n",
       "    </tr>\n",
       "    <tr>\n",
       "      <th>1</th>\n",
       "      <td>10.34</td>\n",
       "      <td>1.66</td>\n",
       "      <td>No</td>\n",
       "      <td>Sun</td>\n",
       "      <td>Dinner</td>\n",
       "      <td>3</td>\n",
       "    </tr>\n",
       "    <tr>\n",
       "      <th>2</th>\n",
       "      <td>21.01</td>\n",
       "      <td>3.50</td>\n",
       "      <td>No</td>\n",
       "      <td>Sun</td>\n",
       "      <td>Dinner</td>\n",
       "      <td>3</td>\n",
       "    </tr>\n",
       "    <tr>\n",
       "      <th>3</th>\n",
       "      <td>23.68</td>\n",
       "      <td>3.31</td>\n",
       "      <td>No</td>\n",
       "      <td>Sun</td>\n",
       "      <td>Dinner</td>\n",
       "      <td>2</td>\n",
       "    </tr>\n",
       "    <tr>\n",
       "      <th>4</th>\n",
       "      <td>24.59</td>\n",
       "      <td>3.61</td>\n",
       "      <td>No</td>\n",
       "      <td>Sun</td>\n",
       "      <td>Dinner</td>\n",
       "      <td>4</td>\n",
       "    </tr>\n",
       "    <tr>\n",
       "      <th>...</th>\n",
       "      <td>...</td>\n",
       "      <td>...</td>\n",
       "      <td>...</td>\n",
       "      <td>...</td>\n",
       "      <td>...</td>\n",
       "      <td>...</td>\n",
       "    </tr>\n",
       "    <tr>\n",
       "      <th>239</th>\n",
       "      <td>29.03</td>\n",
       "      <td>5.92</td>\n",
       "      <td>No</td>\n",
       "      <td>Sat</td>\n",
       "      <td>Dinner</td>\n",
       "      <td>3</td>\n",
       "    </tr>\n",
       "    <tr>\n",
       "      <th>240</th>\n",
       "      <td>27.18</td>\n",
       "      <td>2.00</td>\n",
       "      <td>Yes</td>\n",
       "      <td>Sat</td>\n",
       "      <td>Dinner</td>\n",
       "      <td>2</td>\n",
       "    </tr>\n",
       "    <tr>\n",
       "      <th>241</th>\n",
       "      <td>22.67</td>\n",
       "      <td>2.00</td>\n",
       "      <td>Yes</td>\n",
       "      <td>Sat</td>\n",
       "      <td>Dinner</td>\n",
       "      <td>2</td>\n",
       "    </tr>\n",
       "    <tr>\n",
       "      <th>242</th>\n",
       "      <td>17.82</td>\n",
       "      <td>1.75</td>\n",
       "      <td>No</td>\n",
       "      <td>Sat</td>\n",
       "      <td>Dinner</td>\n",
       "      <td>2</td>\n",
       "    </tr>\n",
       "    <tr>\n",
       "      <th>243</th>\n",
       "      <td>18.78</td>\n",
       "      <td>3.00</td>\n",
       "      <td>No</td>\n",
       "      <td>Thur</td>\n",
       "      <td>Dinner</td>\n",
       "      <td>2</td>\n",
       "    </tr>\n",
       "  </tbody>\n",
       "</table>\n",
       "<p>244 rows × 6 columns</p>\n",
       "</div>"
      ],
      "text/plain": [
       "     total_bill   tip smoker   day    time  size\n",
       "0         16.99  1.01     No   Sun  Dinner     2\n",
       "1         10.34  1.66     No   Sun  Dinner     3\n",
       "2         21.01  3.50     No   Sun  Dinner     3\n",
       "3         23.68  3.31     No   Sun  Dinner     2\n",
       "4         24.59  3.61     No   Sun  Dinner     4\n",
       "..          ...   ...    ...   ...     ...   ...\n",
       "239       29.03  5.92     No   Sat  Dinner     3\n",
       "240       27.18  2.00    Yes   Sat  Dinner     2\n",
       "241       22.67  2.00    Yes   Sat  Dinner     2\n",
       "242       17.82  1.75     No   Sat  Dinner     2\n",
       "243       18.78  3.00     No  Thur  Dinner     2\n",
       "\n",
       "[244 rows x 6 columns]"
      ]
     },
     "execution_count": 2,
     "metadata": {},
     "output_type": "execute_result"
    }
   ],
   "source": [
    "tips = pd.read_csv('examples/tips.csv')\n",
    "tips"
   ]
  },
  {
   "cell_type": "code",
   "execution_count": 3,
   "id": "ec80073d-402d-4f37-a5d8-64e6da72d3a2",
   "metadata": {},
   "outputs": [],
   "source": [
    "tips['tip_pct'] = tips['tip'] / (tips['tip'] + tips['total_bill'])"
   ]
  },
  {
   "cell_type": "code",
   "execution_count": 4,
   "id": "f300425e-618c-447a-af5d-db2f16970e8e",
   "metadata": {},
   "outputs": [
    {
     "data": {
      "text/html": [
       "<div>\n",
       "<style scoped>\n",
       "    .dataframe tbody tr th:only-of-type {\n",
       "        vertical-align: middle;\n",
       "    }\n",
       "\n",
       "    .dataframe tbody tr th {\n",
       "        vertical-align: top;\n",
       "    }\n",
       "\n",
       "    .dataframe thead th {\n",
       "        text-align: right;\n",
       "    }\n",
       "</style>\n",
       "<table border=\"1\" class=\"dataframe\">\n",
       "  <thead>\n",
       "    <tr style=\"text-align: right;\">\n",
       "      <th></th>\n",
       "      <th>total_bill</th>\n",
       "      <th>tip</th>\n",
       "      <th>smoker</th>\n",
       "      <th>day</th>\n",
       "      <th>time</th>\n",
       "      <th>size</th>\n",
       "      <th>tip_pct</th>\n",
       "    </tr>\n",
       "  </thead>\n",
       "  <tbody>\n",
       "    <tr>\n",
       "      <th>0</th>\n",
       "      <td>16.99</td>\n",
       "      <td>1.01</td>\n",
       "      <td>No</td>\n",
       "      <td>Sun</td>\n",
       "      <td>Dinner</td>\n",
       "      <td>2</td>\n",
       "      <td>0.056111</td>\n",
       "    </tr>\n",
       "    <tr>\n",
       "      <th>1</th>\n",
       "      <td>10.34</td>\n",
       "      <td>1.66</td>\n",
       "      <td>No</td>\n",
       "      <td>Sun</td>\n",
       "      <td>Dinner</td>\n",
       "      <td>3</td>\n",
       "      <td>0.138333</td>\n",
       "    </tr>\n",
       "    <tr>\n",
       "      <th>2</th>\n",
       "      <td>21.01</td>\n",
       "      <td>3.50</td>\n",
       "      <td>No</td>\n",
       "      <td>Sun</td>\n",
       "      <td>Dinner</td>\n",
       "      <td>3</td>\n",
       "      <td>0.142799</td>\n",
       "    </tr>\n",
       "    <tr>\n",
       "      <th>3</th>\n",
       "      <td>23.68</td>\n",
       "      <td>3.31</td>\n",
       "      <td>No</td>\n",
       "      <td>Sun</td>\n",
       "      <td>Dinner</td>\n",
       "      <td>2</td>\n",
       "      <td>0.122638</td>\n",
       "    </tr>\n",
       "    <tr>\n",
       "      <th>4</th>\n",
       "      <td>24.59</td>\n",
       "      <td>3.61</td>\n",
       "      <td>No</td>\n",
       "      <td>Sun</td>\n",
       "      <td>Dinner</td>\n",
       "      <td>4</td>\n",
       "      <td>0.128014</td>\n",
       "    </tr>\n",
       "    <tr>\n",
       "      <th>...</th>\n",
       "      <td>...</td>\n",
       "      <td>...</td>\n",
       "      <td>...</td>\n",
       "      <td>...</td>\n",
       "      <td>...</td>\n",
       "      <td>...</td>\n",
       "      <td>...</td>\n",
       "    </tr>\n",
       "    <tr>\n",
       "      <th>239</th>\n",
       "      <td>29.03</td>\n",
       "      <td>5.92</td>\n",
       "      <td>No</td>\n",
       "      <td>Sat</td>\n",
       "      <td>Dinner</td>\n",
       "      <td>3</td>\n",
       "      <td>0.169385</td>\n",
       "    </tr>\n",
       "    <tr>\n",
       "      <th>240</th>\n",
       "      <td>27.18</td>\n",
       "      <td>2.00</td>\n",
       "      <td>Yes</td>\n",
       "      <td>Sat</td>\n",
       "      <td>Dinner</td>\n",
       "      <td>2</td>\n",
       "      <td>0.068540</td>\n",
       "    </tr>\n",
       "    <tr>\n",
       "      <th>241</th>\n",
       "      <td>22.67</td>\n",
       "      <td>2.00</td>\n",
       "      <td>Yes</td>\n",
       "      <td>Sat</td>\n",
       "      <td>Dinner</td>\n",
       "      <td>2</td>\n",
       "      <td>0.081070</td>\n",
       "    </tr>\n",
       "    <tr>\n",
       "      <th>242</th>\n",
       "      <td>17.82</td>\n",
       "      <td>1.75</td>\n",
       "      <td>No</td>\n",
       "      <td>Sat</td>\n",
       "      <td>Dinner</td>\n",
       "      <td>2</td>\n",
       "      <td>0.089423</td>\n",
       "    </tr>\n",
       "    <tr>\n",
       "      <th>243</th>\n",
       "      <td>18.78</td>\n",
       "      <td>3.00</td>\n",
       "      <td>No</td>\n",
       "      <td>Thur</td>\n",
       "      <td>Dinner</td>\n",
       "      <td>2</td>\n",
       "      <td>0.137741</td>\n",
       "    </tr>\n",
       "  </tbody>\n",
       "</table>\n",
       "<p>244 rows × 7 columns</p>\n",
       "</div>"
      ],
      "text/plain": [
       "     total_bill   tip smoker   day    time  size   tip_pct\n",
       "0         16.99  1.01     No   Sun  Dinner     2  0.056111\n",
       "1         10.34  1.66     No   Sun  Dinner     3  0.138333\n",
       "2         21.01  3.50     No   Sun  Dinner     3  0.142799\n",
       "3         23.68  3.31     No   Sun  Dinner     2  0.122638\n",
       "4         24.59  3.61     No   Sun  Dinner     4  0.128014\n",
       "..          ...   ...    ...   ...     ...   ...       ...\n",
       "239       29.03  5.92     No   Sat  Dinner     3  0.169385\n",
       "240       27.18  2.00    Yes   Sat  Dinner     2  0.068540\n",
       "241       22.67  2.00    Yes   Sat  Dinner     2  0.081070\n",
       "242       17.82  1.75     No   Sat  Dinner     2  0.089423\n",
       "243       18.78  3.00     No  Thur  Dinner     2  0.137741\n",
       "\n",
       "[244 rows x 7 columns]"
      ]
     },
     "execution_count": 4,
     "metadata": {},
     "output_type": "execute_result"
    }
   ],
   "source": [
    "tips"
   ]
  },
  {
   "cell_type": "code",
   "execution_count": 5,
   "id": "7283ae26-99a6-4b65-802e-1b2852e326af",
   "metadata": {},
   "outputs": [],
   "source": [
    "##functions we pass to apply may be return either a Pandas object or a scalar value.\n",
    "#the remainder of chapter 10 will include examples, starting with the tips dataset we loaded above.\n",
    "result = tips.groupby('smoker')['tip_pct'].describe()"
   ]
  },
  {
   "cell_type": "code",
   "execution_count": 6,
   "id": "55520624-b0ac-4710-9cf4-2135cafbfaac",
   "metadata": {},
   "outputs": [
    {
     "data": {
      "text/html": [
       "<div>\n",
       "<style scoped>\n",
       "    .dataframe tbody tr th:only-of-type {\n",
       "        vertical-align: middle;\n",
       "    }\n",
       "\n",
       "    .dataframe tbody tr th {\n",
       "        vertical-align: top;\n",
       "    }\n",
       "\n",
       "    .dataframe thead th {\n",
       "        text-align: right;\n",
       "    }\n",
       "</style>\n",
       "<table border=\"1\" class=\"dataframe\">\n",
       "  <thead>\n",
       "    <tr style=\"text-align: right;\">\n",
       "      <th></th>\n",
       "      <th>count</th>\n",
       "      <th>mean</th>\n",
       "      <th>std</th>\n",
       "      <th>min</th>\n",
       "      <th>25%</th>\n",
       "      <th>50%</th>\n",
       "      <th>75%</th>\n",
       "      <th>max</th>\n",
       "    </tr>\n",
       "    <tr>\n",
       "      <th>smoker</th>\n",
       "      <th></th>\n",
       "      <th></th>\n",
       "      <th></th>\n",
       "      <th></th>\n",
       "      <th></th>\n",
       "      <th></th>\n",
       "      <th></th>\n",
       "      <th></th>\n",
       "    </tr>\n",
       "  </thead>\n",
       "  <tbody>\n",
       "    <tr>\n",
       "      <th>No</th>\n",
       "      <td>151.0</td>\n",
       "      <td>0.136419</td>\n",
       "      <td>0.029645</td>\n",
       "      <td>0.053744</td>\n",
       "      <td>0.120419</td>\n",
       "      <td>0.134667</td>\n",
       "      <td>0.156128</td>\n",
       "      <td>0.226000</td>\n",
       "    </tr>\n",
       "    <tr>\n",
       "      <th>Yes</th>\n",
       "      <td>93.0</td>\n",
       "      <td>0.136454</td>\n",
       "      <td>0.054017</td>\n",
       "      <td>0.034412</td>\n",
       "      <td>0.096471</td>\n",
       "      <td>0.133333</td>\n",
       "      <td>0.163221</td>\n",
       "      <td>0.415323</td>\n",
       "    </tr>\n",
       "  </tbody>\n",
       "</table>\n",
       "</div>"
      ],
      "text/plain": [
       "        count      mean       std       min       25%       50%       75%  \\\n",
       "smoker                                                                      \n",
       "No      151.0  0.136419  0.029645  0.053744  0.120419  0.134667  0.156128   \n",
       "Yes      93.0  0.136454  0.054017  0.034412  0.096471  0.133333  0.163221   \n",
       "\n",
       "             max  \n",
       "smoker            \n",
       "No      0.226000  \n",
       "Yes     0.415323  "
      ]
     },
     "execution_count": 6,
     "metadata": {},
     "output_type": "execute_result"
    }
   ],
   "source": [
    "result"
   ]
  },
  {
   "cell_type": "code",
   "execution_count": 7,
   "id": "087ea282-0e31-4b13-9366-e77991b1be5a",
   "metadata": {},
   "outputs": [
    {
     "data": {
      "text/plain": [
       "       smoker\n",
       "count  No        151.000000\n",
       "       Yes        93.000000\n",
       "mean   No          0.136419\n",
       "       Yes         0.136454\n",
       "std    No          0.029645\n",
       "       Yes         0.054017\n",
       "min    No          0.053744\n",
       "       Yes         0.034412\n",
       "25%    No          0.120419\n",
       "       Yes         0.096471\n",
       "50%    No          0.134667\n",
       "       Yes         0.133333\n",
       "75%    No          0.156128\n",
       "       Yes         0.163221\n",
       "max    No          0.226000\n",
       "       Yes         0.415323\n",
       "dtype: float64"
      ]
     },
     "execution_count": 7,
     "metadata": {},
     "output_type": "execute_result"
    }
   ],
   "source": [
    "result.unstack('smoker')"
   ]
  },
  {
   "cell_type": "code",
   "execution_count": 8,
   "id": "efaca3b9-d70e-42fc-a7ba-a11485fcfcb2",
   "metadata": {},
   "outputs": [
    {
     "data": {
      "text/html": [
       "<div>\n",
       "<style scoped>\n",
       "    .dataframe tbody tr th:only-of-type {\n",
       "        vertical-align: middle;\n",
       "    }\n",
       "\n",
       "    .dataframe tbody tr th {\n",
       "        vertical-align: top;\n",
       "    }\n",
       "\n",
       "    .dataframe thead th {\n",
       "        text-align: right;\n",
       "    }\n",
       "</style>\n",
       "<table border=\"1\" class=\"dataframe\">\n",
       "  <thead>\n",
       "    <tr style=\"text-align: right;\">\n",
       "      <th></th>\n",
       "      <th>count</th>\n",
       "      <th>mean</th>\n",
       "      <th>std</th>\n",
       "      <th>min</th>\n",
       "      <th>25%</th>\n",
       "      <th>50%</th>\n",
       "      <th>75%</th>\n",
       "      <th>max</th>\n",
       "    </tr>\n",
       "  </thead>\n",
       "  <tbody>\n",
       "    <tr>\n",
       "      <th>count</th>\n",
       "      <td>2.000000</td>\n",
       "      <td>2.000000</td>\n",
       "      <td>2.000000</td>\n",
       "      <td>2.000000</td>\n",
       "      <td>2.000000</td>\n",
       "      <td>2.000000</td>\n",
       "      <td>2.000000</td>\n",
       "      <td>2.000000</td>\n",
       "    </tr>\n",
       "    <tr>\n",
       "      <th>mean</th>\n",
       "      <td>122.000000</td>\n",
       "      <td>0.136437</td>\n",
       "      <td>0.041831</td>\n",
       "      <td>0.044078</td>\n",
       "      <td>0.108445</td>\n",
       "      <td>0.134000</td>\n",
       "      <td>0.159675</td>\n",
       "      <td>0.320661</td>\n",
       "    </tr>\n",
       "    <tr>\n",
       "      <th>std</th>\n",
       "      <td>41.012193</td>\n",
       "      <td>0.000024</td>\n",
       "      <td>0.017233</td>\n",
       "      <td>0.013670</td>\n",
       "      <td>0.016934</td>\n",
       "      <td>0.000943</td>\n",
       "      <td>0.005015</td>\n",
       "      <td>0.133871</td>\n",
       "    </tr>\n",
       "    <tr>\n",
       "      <th>min</th>\n",
       "      <td>93.000000</td>\n",
       "      <td>0.136419</td>\n",
       "      <td>0.029645</td>\n",
       "      <td>0.034412</td>\n",
       "      <td>0.096471</td>\n",
       "      <td>0.133333</td>\n",
       "      <td>0.156128</td>\n",
       "      <td>0.226000</td>\n",
       "    </tr>\n",
       "    <tr>\n",
       "      <th>25%</th>\n",
       "      <td>107.500000</td>\n",
       "      <td>0.136428</td>\n",
       "      <td>0.035738</td>\n",
       "      <td>0.039245</td>\n",
       "      <td>0.102458</td>\n",
       "      <td>0.133667</td>\n",
       "      <td>0.157901</td>\n",
       "      <td>0.273331</td>\n",
       "    </tr>\n",
       "    <tr>\n",
       "      <th>50%</th>\n",
       "      <td>122.000000</td>\n",
       "      <td>0.136437</td>\n",
       "      <td>0.041831</td>\n",
       "      <td>0.044078</td>\n",
       "      <td>0.108445</td>\n",
       "      <td>0.134000</td>\n",
       "      <td>0.159675</td>\n",
       "      <td>0.320661</td>\n",
       "    </tr>\n",
       "    <tr>\n",
       "      <th>75%</th>\n",
       "      <td>136.500000</td>\n",
       "      <td>0.136445</td>\n",
       "      <td>0.047924</td>\n",
       "      <td>0.048911</td>\n",
       "      <td>0.114432</td>\n",
       "      <td>0.134334</td>\n",
       "      <td>0.161448</td>\n",
       "      <td>0.367992</td>\n",
       "    </tr>\n",
       "    <tr>\n",
       "      <th>max</th>\n",
       "      <td>151.000000</td>\n",
       "      <td>0.136454</td>\n",
       "      <td>0.054017</td>\n",
       "      <td>0.053744</td>\n",
       "      <td>0.120419</td>\n",
       "      <td>0.134667</td>\n",
       "      <td>0.163221</td>\n",
       "      <td>0.415323</td>\n",
       "    </tr>\n",
       "  </tbody>\n",
       "</table>\n",
       "</div>"
      ],
      "text/plain": [
       "            count      mean       std       min       25%       50%       75%  \\\n",
       "count    2.000000  2.000000  2.000000  2.000000  2.000000  2.000000  2.000000   \n",
       "mean   122.000000  0.136437  0.041831  0.044078  0.108445  0.134000  0.159675   \n",
       "std     41.012193  0.000024  0.017233  0.013670  0.016934  0.000943  0.005015   \n",
       "min     93.000000  0.136419  0.029645  0.034412  0.096471  0.133333  0.156128   \n",
       "25%    107.500000  0.136428  0.035738  0.039245  0.102458  0.133667  0.157901   \n",
       "50%    122.000000  0.136437  0.041831  0.044078  0.108445  0.134000  0.159675   \n",
       "75%    136.500000  0.136445  0.047924  0.048911  0.114432  0.134334  0.161448   \n",
       "max    151.000000  0.136454  0.054017  0.053744  0.120419  0.134667  0.163221   \n",
       "\n",
       "            max  \n",
       "count  2.000000  \n",
       "mean   0.320661  \n",
       "std    0.133871  \n",
       "min    0.226000  \n",
       "25%    0.273331  \n",
       "50%    0.320661  \n",
       "75%    0.367992  \n",
       "max    0.415323  "
      ]
     },
     "execution_count": 8,
     "metadata": {},
     "output_type": "execute_result"
    }
   ],
   "source": [
    "#inside groupby, when we invoke describe it is really just this shortcut:\n",
    "def f(group):\n",
    "    return group.describe()\n",
    "\n",
    "result.apply(f)"
   ]
  },
  {
   "cell_type": "code",
   "execution_count": 9,
   "id": "4a117bdc-7dae-43a8-811a-faa7f243859f",
   "metadata": {},
   "outputs": [
    {
     "data": {
      "text/html": [
       "<div>\n",
       "<style scoped>\n",
       "    .dataframe tbody tr th:only-of-type {\n",
       "        vertical-align: middle;\n",
       "    }\n",
       "\n",
       "    .dataframe tbody tr th {\n",
       "        vertical-align: top;\n",
       "    }\n",
       "\n",
       "    .dataframe thead th {\n",
       "        text-align: right;\n",
       "    }\n",
       "</style>\n",
       "<table border=\"1\" class=\"dataframe\">\n",
       "  <thead>\n",
       "    <tr style=\"text-align: right;\">\n",
       "      <th></th>\n",
       "      <th>total_bill</th>\n",
       "      <th>tip</th>\n",
       "      <th>smoker</th>\n",
       "      <th>day</th>\n",
       "      <th>time</th>\n",
       "      <th>size</th>\n",
       "      <th>tip_pct</th>\n",
       "    </tr>\n",
       "  </thead>\n",
       "  <tbody>\n",
       "    <tr>\n",
       "      <th>232</th>\n",
       "      <td>11.61</td>\n",
       "      <td>3.39</td>\n",
       "      <td>No</td>\n",
       "      <td>Sat</td>\n",
       "      <td>Dinner</td>\n",
       "      <td>2</td>\n",
       "      <td>0.226000</td>\n",
       "    </tr>\n",
       "    <tr>\n",
       "      <th>149</th>\n",
       "      <td>7.51</td>\n",
       "      <td>2.00</td>\n",
       "      <td>No</td>\n",
       "      <td>Thur</td>\n",
       "      <td>Lunch</td>\n",
       "      <td>2</td>\n",
       "      <td>0.210305</td>\n",
       "    </tr>\n",
       "    <tr>\n",
       "      <th>51</th>\n",
       "      <td>10.29</td>\n",
       "      <td>2.60</td>\n",
       "      <td>No</td>\n",
       "      <td>Sun</td>\n",
       "      <td>Dinner</td>\n",
       "      <td>2</td>\n",
       "      <td>0.201707</td>\n",
       "    </tr>\n",
       "    <tr>\n",
       "      <th>185</th>\n",
       "      <td>20.69</td>\n",
       "      <td>5.00</td>\n",
       "      <td>No</td>\n",
       "      <td>Sun</td>\n",
       "      <td>Dinner</td>\n",
       "      <td>5</td>\n",
       "      <td>0.194628</td>\n",
       "    </tr>\n",
       "    <tr>\n",
       "      <th>88</th>\n",
       "      <td>24.71</td>\n",
       "      <td>5.85</td>\n",
       "      <td>No</td>\n",
       "      <td>Thur</td>\n",
       "      <td>Lunch</td>\n",
       "      <td>2</td>\n",
       "      <td>0.191427</td>\n",
       "    </tr>\n",
       "    <tr>\n",
       "      <th>172</th>\n",
       "      <td>7.25</td>\n",
       "      <td>5.15</td>\n",
       "      <td>Yes</td>\n",
       "      <td>Sun</td>\n",
       "      <td>Dinner</td>\n",
       "      <td>2</td>\n",
       "      <td>0.415323</td>\n",
       "    </tr>\n",
       "    <tr>\n",
       "      <th>178</th>\n",
       "      <td>9.60</td>\n",
       "      <td>4.00</td>\n",
       "      <td>Yes</td>\n",
       "      <td>Sun</td>\n",
       "      <td>Dinner</td>\n",
       "      <td>2</td>\n",
       "      <td>0.294118</td>\n",
       "    </tr>\n",
       "    <tr>\n",
       "      <th>67</th>\n",
       "      <td>3.07</td>\n",
       "      <td>1.00</td>\n",
       "      <td>Yes</td>\n",
       "      <td>Sat</td>\n",
       "      <td>Dinner</td>\n",
       "      <td>1</td>\n",
       "      <td>0.245700</td>\n",
       "    </tr>\n",
       "    <tr>\n",
       "      <th>183</th>\n",
       "      <td>23.17</td>\n",
       "      <td>6.50</td>\n",
       "      <td>Yes</td>\n",
       "      <td>Sun</td>\n",
       "      <td>Dinner</td>\n",
       "      <td>4</td>\n",
       "      <td>0.219077</td>\n",
       "    </tr>\n",
       "    <tr>\n",
       "      <th>109</th>\n",
       "      <td>14.31</td>\n",
       "      <td>4.00</td>\n",
       "      <td>Yes</td>\n",
       "      <td>Sat</td>\n",
       "      <td>Dinner</td>\n",
       "      <td>2</td>\n",
       "      <td>0.218460</td>\n",
       "    </tr>\n",
       "  </tbody>\n",
       "</table>\n",
       "</div>"
      ],
      "text/plain": [
       "     total_bill   tip smoker   day    time  size   tip_pct\n",
       "232       11.61  3.39     No   Sat  Dinner     2  0.226000\n",
       "149        7.51  2.00     No  Thur   Lunch     2  0.210305\n",
       "51        10.29  2.60     No   Sun  Dinner     2  0.201707\n",
       "185       20.69  5.00     No   Sun  Dinner     5  0.194628\n",
       "88        24.71  5.85     No  Thur   Lunch     2  0.191427\n",
       "172        7.25  5.15    Yes   Sun  Dinner     2  0.415323\n",
       "178        9.60  4.00    Yes   Sun  Dinner     2  0.294118\n",
       "67         3.07  1.00    Yes   Sat  Dinner     1  0.245700\n",
       "183       23.17  6.50    Yes   Sun  Dinner     4  0.219077\n",
       "109       14.31  4.00    Yes   Sat  Dinner     2  0.218460"
      ]
     },
     "execution_count": 9,
     "metadata": {},
     "output_type": "execute_result"
    }
   ],
   "source": [
    "def top(df: pd.DataFrame, n: int=5, column: str='tip_pct'):\n",
    "    return df.sort_values(column, ascending=False)[:n]\n",
    "\n",
    "#suppressing group keys\n",
    "tips.groupby('smoker', group_keys=False).apply(top)"
   ]
  },
  {
   "cell_type": "code",
   "execution_count": 10,
   "id": "acacd651-1166-41de-b197-cb822924d56f",
   "metadata": {},
   "outputs": [],
   "source": [
    "#quantile and bucket analysis:\n",
    "#pd.cut and pd.qcut let us separate up the data into buckets\n",
    "#combine with groupby lets us easily perform bucket or quantile analysis on a Dataset\n",
    "frame = pd.DataFrame({'data1': np.random.standard_normal(1000),\n",
    "                     'data2': np.random.standard_normal(1000)})"
   ]
  },
  {
   "cell_type": "code",
   "execution_count": 11,
   "id": "7de1a61d-b0b0-4308-b660-70f5b7d0bd2c",
   "metadata": {},
   "outputs": [
    {
     "data": {
      "text/html": [
       "<div>\n",
       "<style scoped>\n",
       "    .dataframe tbody tr th:only-of-type {\n",
       "        vertical-align: middle;\n",
       "    }\n",
       "\n",
       "    .dataframe tbody tr th {\n",
       "        vertical-align: top;\n",
       "    }\n",
       "\n",
       "    .dataframe thead th {\n",
       "        text-align: right;\n",
       "    }\n",
       "</style>\n",
       "<table border=\"1\" class=\"dataframe\">\n",
       "  <thead>\n",
       "    <tr style=\"text-align: right;\">\n",
       "      <th></th>\n",
       "      <th>data1</th>\n",
       "      <th>data2</th>\n",
       "    </tr>\n",
       "  </thead>\n",
       "  <tbody>\n",
       "    <tr>\n",
       "      <th>0</th>\n",
       "      <td>-0.075669</td>\n",
       "      <td>1.850556</td>\n",
       "    </tr>\n",
       "    <tr>\n",
       "      <th>1</th>\n",
       "      <td>0.547327</td>\n",
       "      <td>0.840329</td>\n",
       "    </tr>\n",
       "    <tr>\n",
       "      <th>2</th>\n",
       "      <td>0.239275</td>\n",
       "      <td>2.672239</td>\n",
       "    </tr>\n",
       "    <tr>\n",
       "      <th>3</th>\n",
       "      <td>-0.721486</td>\n",
       "      <td>1.319259</td>\n",
       "    </tr>\n",
       "    <tr>\n",
       "      <th>4</th>\n",
       "      <td>2.174544</td>\n",
       "      <td>1.179400</td>\n",
       "    </tr>\n",
       "  </tbody>\n",
       "</table>\n",
       "</div>"
      ],
      "text/plain": [
       "      data1     data2\n",
       "0 -0.075669  1.850556\n",
       "1  0.547327  0.840329\n",
       "2  0.239275  2.672239\n",
       "3 -0.721486  1.319259\n",
       "4  2.174544  1.179400"
      ]
     },
     "execution_count": 11,
     "metadata": {},
     "output_type": "execute_result"
    }
   ],
   "source": [
    "frame.head()"
   ]
  },
  {
   "cell_type": "code",
   "execution_count": 12,
   "id": "90a6823a-a308-470b-b454-9cf8b29b946d",
   "metadata": {},
   "outputs": [],
   "source": [
    "#cut the frame into four parts\n",
    "quartiles = pd.cut(frame['data1'], 4)"
   ]
  },
  {
   "cell_type": "code",
   "execution_count": 13,
   "id": "704026b9-6e6a-4889-bd70-a5b3daaa89c3",
   "metadata": {},
   "outputs": [
    {
     "data": {
      "text/plain": [
       "0     (-1.001, 0.638]\n",
       "1     (-1.001, 0.638]\n",
       "2     (-1.001, 0.638]\n",
       "3     (-1.001, 0.638]\n",
       "4      (0.638, 2.277]\n",
       "5    (-2.647, -1.001]\n",
       "6     (-1.001, 0.638]\n",
       "7     (-1.001, 0.638]\n",
       "8      (0.638, 2.277]\n",
       "9    (-2.647, -1.001]\n",
       "Name: data1, dtype: category\n",
       "Categories (4, interval[float64, right]): [(-2.647, -1.001] < (-1.001, 0.638] < (0.638, 2.277] < (2.277, 3.916]]"
      ]
     },
     "execution_count": 13,
     "metadata": {},
     "output_type": "execute_result"
    }
   ],
   "source": [
    "quartiles.head(n=10)"
   ]
  },
  {
   "cell_type": "code",
   "execution_count": 14,
   "id": "f61df0b5-07d4-4cb6-aeaf-2669582f2cfa",
   "metadata": {},
   "outputs": [
    {
     "data": {
      "text/plain": [
       "0     (-1.001, 0.638]\n",
       "1     (-1.001, 0.638]\n",
       "2     (-1.001, 0.638]\n",
       "3     (-1.001, 0.638]\n",
       "4      (0.638, 2.277]\n",
       "5    (-2.647, -1.001]\n",
       "6     (-1.001, 0.638]\n",
       "7     (-1.001, 0.638]\n",
       "8      (0.638, 2.277]\n",
       "9    (-2.647, -1.001]\n",
       "Name: data1, dtype: category\n",
       "Categories (4, interval[float64, right]): [(-2.647, -1.001] < (-1.001, 0.638] < (0.638, 2.277] < (2.277, 3.916]]"
      ]
     },
     "execution_count": 14,
     "metadata": {},
     "output_type": "execute_result"
    }
   ],
   "source": [
    "#same as above\n",
    "quartiles.head(10)"
   ]
  },
  {
   "cell_type": "code",
   "execution_count": 15,
   "id": "bad4e973-b353-4e55-8799-888ce25badd6",
   "metadata": {},
   "outputs": [],
   "source": [
    "#we can pass the Categorical object obtained by pd.cut directly to groupby\n",
    "#compute a set of group statistics like below\n",
    "def get_stats(group):\n",
    "    return pd.DataFrame(\n",
    "        {'min': group.min(), 'max': group.max(),\n",
    "        'count': group.count(), 'mean': group.mean()}\n",
    "    )"
   ]
  },
  {
   "cell_type": "code",
   "execution_count": 16,
   "id": "5c3f3977-c5d3-4e98-9f5b-ee26791c46a1",
   "metadata": {},
   "outputs": [],
   "source": [
    "grouped = frame.groupby(quartiles)"
   ]
  },
  {
   "cell_type": "code",
   "execution_count": 17,
   "id": "3f92b3ad-d03e-46c1-8752-789ccb5c5790",
   "metadata": {},
   "outputs": [
    {
     "data": {
      "text/plain": [
       "<pandas.core.groupby.generic.DataFrameGroupBy object at 0x7fe0b05619f0>"
      ]
     },
     "execution_count": 17,
     "metadata": {},
     "output_type": "execute_result"
    }
   ],
   "source": [
    "grouped"
   ]
  },
  {
   "cell_type": "code",
   "execution_count": 18,
   "id": "748368a7-6769-49f1-a832-1ca87a6d7c11",
   "metadata": {},
   "outputs": [
    {
     "data": {
      "text/html": [
       "<div>\n",
       "<style scoped>\n",
       "    .dataframe tbody tr th:only-of-type {\n",
       "        vertical-align: middle;\n",
       "    }\n",
       "\n",
       "    .dataframe tbody tr th {\n",
       "        vertical-align: top;\n",
       "    }\n",
       "\n",
       "    .dataframe thead th {\n",
       "        text-align: right;\n",
       "    }\n",
       "</style>\n",
       "<table border=\"1\" class=\"dataframe\">\n",
       "  <thead>\n",
       "    <tr style=\"text-align: right;\">\n",
       "      <th></th>\n",
       "      <th></th>\n",
       "      <th>min</th>\n",
       "      <th>max</th>\n",
       "      <th>count</th>\n",
       "      <th>mean</th>\n",
       "    </tr>\n",
       "    <tr>\n",
       "      <th>data1</th>\n",
       "      <th></th>\n",
       "      <th></th>\n",
       "      <th></th>\n",
       "      <th></th>\n",
       "      <th></th>\n",
       "    </tr>\n",
       "  </thead>\n",
       "  <tbody>\n",
       "    <tr>\n",
       "      <th rowspan=\"2\" valign=\"top\">(-2.647, -1.001]</th>\n",
       "      <th>data1</th>\n",
       "      <td>-2.640178</td>\n",
       "      <td>-1.008004</td>\n",
       "      <td>163</td>\n",
       "      <td>-1.499142</td>\n",
       "    </tr>\n",
       "    <tr>\n",
       "      <th>data2</th>\n",
       "      <td>-2.787575</td>\n",
       "      <td>2.773949</td>\n",
       "      <td>163</td>\n",
       "      <td>-0.075180</td>\n",
       "    </tr>\n",
       "    <tr>\n",
       "      <th rowspan=\"2\" valign=\"top\">(-1.001, 0.638]</th>\n",
       "      <th>data1</th>\n",
       "      <td>-0.999407</td>\n",
       "      <td>0.637435</td>\n",
       "      <td>568</td>\n",
       "      <td>-0.130390</td>\n",
       "    </tr>\n",
       "    <tr>\n",
       "      <th>data2</th>\n",
       "      <td>-3.216128</td>\n",
       "      <td>3.880993</td>\n",
       "      <td>568</td>\n",
       "      <td>0.017592</td>\n",
       "    </tr>\n",
       "    <tr>\n",
       "      <th rowspan=\"2\" valign=\"top\">(0.638, 2.277]</th>\n",
       "      <th>data1</th>\n",
       "      <td>0.644782</td>\n",
       "      <td>2.274246</td>\n",
       "      <td>261</td>\n",
       "      <td>1.203011</td>\n",
       "    </tr>\n",
       "    <tr>\n",
       "      <th>data2</th>\n",
       "      <td>-2.644741</td>\n",
       "      <td>3.182710</td>\n",
       "      <td>261</td>\n",
       "      <td>-0.028749</td>\n",
       "    </tr>\n",
       "    <tr>\n",
       "      <th rowspan=\"2\" valign=\"top\">(2.277, 3.916]</th>\n",
       "      <th>data1</th>\n",
       "      <td>2.373180</td>\n",
       "      <td>3.916392</td>\n",
       "      <td>8</td>\n",
       "      <td>2.797382</td>\n",
       "    </tr>\n",
       "    <tr>\n",
       "      <th>data2</th>\n",
       "      <td>-1.205173</td>\n",
       "      <td>1.774882</td>\n",
       "      <td>8</td>\n",
       "      <td>0.032733</td>\n",
       "    </tr>\n",
       "  </tbody>\n",
       "</table>\n",
       "</div>"
      ],
      "text/plain": [
       "                             min       max  count      mean\n",
       "data1                                                      \n",
       "(-2.647, -1.001] data1 -2.640178 -1.008004    163 -1.499142\n",
       "                 data2 -2.787575  2.773949    163 -0.075180\n",
       "(-1.001, 0.638]  data1 -0.999407  0.637435    568 -0.130390\n",
       "                 data2 -3.216128  3.880993    568  0.017592\n",
       "(0.638, 2.277]   data1  0.644782  2.274246    261  1.203011\n",
       "                 data2 -2.644741  3.182710    261 -0.028749\n",
       "(2.277, 3.916]   data1  2.373180  3.916392      8  2.797382\n",
       "                 data2 -1.205173  1.774882      8  0.032733"
      ]
     },
     "execution_count": 18,
     "metadata": {},
     "output_type": "execute_result"
    }
   ],
   "source": [
    "grouped.apply(get_stats)"
   ]
  },
  {
   "cell_type": "code",
   "execution_count": 19,
   "id": "ce58990a-2f87-45fc-8418-4b156e03f7bb",
   "metadata": {},
   "outputs": [
    {
     "data": {
      "text/html": [
       "<div>\n",
       "<style scoped>\n",
       "    .dataframe tbody tr th:only-of-type {\n",
       "        vertical-align: middle;\n",
       "    }\n",
       "\n",
       "    .dataframe tbody tr th {\n",
       "        vertical-align: top;\n",
       "    }\n",
       "\n",
       "    .dataframe thead tr th {\n",
       "        text-align: left;\n",
       "    }\n",
       "\n",
       "    .dataframe thead tr:last-of-type th {\n",
       "        text-align: right;\n",
       "    }\n",
       "</style>\n",
       "<table border=\"1\" class=\"dataframe\">\n",
       "  <thead>\n",
       "    <tr>\n",
       "      <th></th>\n",
       "      <th colspan=\"4\" halign=\"left\">data1</th>\n",
       "      <th colspan=\"4\" halign=\"left\">data2</th>\n",
       "    </tr>\n",
       "    <tr>\n",
       "      <th></th>\n",
       "      <th>min</th>\n",
       "      <th>max</th>\n",
       "      <th>count</th>\n",
       "      <th>mean</th>\n",
       "      <th>min</th>\n",
       "      <th>max</th>\n",
       "      <th>count</th>\n",
       "      <th>mean</th>\n",
       "    </tr>\n",
       "    <tr>\n",
       "      <th>data1</th>\n",
       "      <th></th>\n",
       "      <th></th>\n",
       "      <th></th>\n",
       "      <th></th>\n",
       "      <th></th>\n",
       "      <th></th>\n",
       "      <th></th>\n",
       "      <th></th>\n",
       "    </tr>\n",
       "  </thead>\n",
       "  <tbody>\n",
       "    <tr>\n",
       "      <th>(-2.647, -1.001]</th>\n",
       "      <td>-2.640178</td>\n",
       "      <td>-1.008004</td>\n",
       "      <td>163</td>\n",
       "      <td>-1.499142</td>\n",
       "      <td>-2.787575</td>\n",
       "      <td>2.773949</td>\n",
       "      <td>163</td>\n",
       "      <td>-0.075180</td>\n",
       "    </tr>\n",
       "    <tr>\n",
       "      <th>(-1.001, 0.638]</th>\n",
       "      <td>-0.999407</td>\n",
       "      <td>0.637435</td>\n",
       "      <td>568</td>\n",
       "      <td>-0.130390</td>\n",
       "      <td>-3.216128</td>\n",
       "      <td>3.880993</td>\n",
       "      <td>568</td>\n",
       "      <td>0.017592</td>\n",
       "    </tr>\n",
       "    <tr>\n",
       "      <th>(0.638, 2.277]</th>\n",
       "      <td>0.644782</td>\n",
       "      <td>2.274246</td>\n",
       "      <td>261</td>\n",
       "      <td>1.203011</td>\n",
       "      <td>-2.644741</td>\n",
       "      <td>3.182710</td>\n",
       "      <td>261</td>\n",
       "      <td>-0.028749</td>\n",
       "    </tr>\n",
       "    <tr>\n",
       "      <th>(2.277, 3.916]</th>\n",
       "      <td>2.373180</td>\n",
       "      <td>3.916392</td>\n",
       "      <td>8</td>\n",
       "      <td>2.797382</td>\n",
       "      <td>-1.205173</td>\n",
       "      <td>1.774882</td>\n",
       "      <td>8</td>\n",
       "      <td>0.032733</td>\n",
       "    </tr>\n",
       "  </tbody>\n",
       "</table>\n",
       "</div>"
      ],
      "text/plain": [
       "                     data1                               data2            \\\n",
       "                       min       max count      mean       min       max   \n",
       "data1                                                                      \n",
       "(-2.647, -1.001] -2.640178 -1.008004   163 -1.499142 -2.787575  2.773949   \n",
       "(-1.001, 0.638]  -0.999407  0.637435   568 -0.130390 -3.216128  3.880993   \n",
       "(0.638, 2.277]    0.644782  2.274246   261  1.203011 -2.644741  3.182710   \n",
       "(2.277, 3.916]    2.373180  3.916392     8  2.797382 -1.205173  1.774882   \n",
       "\n",
       "                                  \n",
       "                 count      mean  \n",
       "data1                             \n",
       "(-2.647, -1.001]   163 -0.075180  \n",
       "(-1.001, 0.638]    568  0.017592  \n",
       "(0.638, 2.277]     261 -0.028749  \n",
       "(2.277, 3.916]       8  0.032733  "
      ]
     },
     "execution_count": 19,
     "metadata": {},
     "output_type": "execute_result"
    }
   ],
   "source": [
    "#Note: we could also have gotten the same result with the following\n",
    "grouped.agg(['min', 'max', 'count', 'mean'])"
   ]
  },
  {
   "cell_type": "code",
   "execution_count": 20,
   "id": "d8246e89-eedc-4c2e-9327-db4a0ab1a3bc",
   "metadata": {},
   "outputs": [],
   "source": [
    "#pd.cut in the above situation creates equal-length buckets\n",
    "#pd.qcut can create equal size buckets based on the sample quantiles\n",
    "#pass bins=4 and labels=False to obtain the relevant quartile indices\n",
    "quartiles_samp = pd.qcut(frame['data1'], 4, labels=False)"
   ]
  },
  {
   "cell_type": "code",
   "execution_count": 21,
   "id": "eac7d01a-ae41-4148-a895-4131079faab1",
   "metadata": {},
   "outputs": [
    {
     "data": {
      "text/plain": [
       "0    1\n",
       "1    2\n",
       "2    2\n",
       "3    0\n",
       "4    3\n",
       "Name: data1, dtype: int64"
      ]
     },
     "execution_count": 21,
     "metadata": {},
     "output_type": "execute_result"
    }
   ],
   "source": [
    "quartiles_samp.head()"
   ]
  },
  {
   "cell_type": "code",
   "execution_count": 22,
   "id": "73eb72e1-4d34-48e7-bb50-057b9433d1f7",
   "metadata": {},
   "outputs": [],
   "source": [
    "grouped = frame.groupby(quartiles_samp)"
   ]
  },
  {
   "cell_type": "code",
   "execution_count": 23,
   "id": "c5f175d2-df4e-4471-af25-aacc1f57457b",
   "metadata": {},
   "outputs": [
    {
     "data": {
      "text/plain": [
       "<pandas.core.groupby.generic.DataFrameGroupBy object at 0x7fe0b0562590>"
      ]
     },
     "execution_count": 23,
     "metadata": {},
     "output_type": "execute_result"
    }
   ],
   "source": [
    "grouped"
   ]
  },
  {
   "cell_type": "code",
   "execution_count": 24,
   "id": "6c210b5f-2963-44ae-bb8e-3de1b01738dc",
   "metadata": {},
   "outputs": [
    {
     "data": {
      "text/html": [
       "<div>\n",
       "<style scoped>\n",
       "    .dataframe tbody tr th:only-of-type {\n",
       "        vertical-align: middle;\n",
       "    }\n",
       "\n",
       "    .dataframe tbody tr th {\n",
       "        vertical-align: top;\n",
       "    }\n",
       "\n",
       "    .dataframe thead th {\n",
       "        text-align: right;\n",
       "    }\n",
       "</style>\n",
       "<table border=\"1\" class=\"dataframe\">\n",
       "  <thead>\n",
       "    <tr style=\"text-align: right;\">\n",
       "      <th></th>\n",
       "      <th></th>\n",
       "      <th>min</th>\n",
       "      <th>max</th>\n",
       "      <th>count</th>\n",
       "      <th>mean</th>\n",
       "    </tr>\n",
       "    <tr>\n",
       "      <th>data1</th>\n",
       "      <th></th>\n",
       "      <th></th>\n",
       "      <th></th>\n",
       "      <th></th>\n",
       "      <th></th>\n",
       "    </tr>\n",
       "  </thead>\n",
       "  <tbody>\n",
       "    <tr>\n",
       "      <th rowspan=\"2\" valign=\"top\">0</th>\n",
       "      <th>data1</th>\n",
       "      <td>-2.640178</td>\n",
       "      <td>-0.687926</td>\n",
       "      <td>250</td>\n",
       "      <td>-1.264451</td>\n",
       "    </tr>\n",
       "    <tr>\n",
       "      <th>data2</th>\n",
       "      <td>-2.787575</td>\n",
       "      <td>2.773949</td>\n",
       "      <td>250</td>\n",
       "      <td>-0.099105</td>\n",
       "    </tr>\n",
       "    <tr>\n",
       "      <th rowspan=\"2\" valign=\"top\">1</th>\n",
       "      <th>data1</th>\n",
       "      <td>-0.687237</td>\n",
       "      <td>0.042290</td>\n",
       "      <td>250</td>\n",
       "      <td>-0.308973</td>\n",
       "    </tr>\n",
       "    <tr>\n",
       "      <th>data2</th>\n",
       "      <td>-3.216128</td>\n",
       "      <td>3.880993</td>\n",
       "      <td>250</td>\n",
       "      <td>0.122685</td>\n",
       "    </tr>\n",
       "    <tr>\n",
       "      <th rowspan=\"2\" valign=\"top\">2</th>\n",
       "      <th>data1</th>\n",
       "      <td>0.043286</td>\n",
       "      <td>0.706961</td>\n",
       "      <td>250</td>\n",
       "      <td>0.350635</td>\n",
       "    </tr>\n",
       "    <tr>\n",
       "      <th>data2</th>\n",
       "      <td>-2.621028</td>\n",
       "      <td>2.947916</td>\n",
       "      <td>250</td>\n",
       "      <td>-0.025353</td>\n",
       "    </tr>\n",
       "    <tr>\n",
       "      <th rowspan=\"2\" valign=\"top\">3</th>\n",
       "      <th>data1</th>\n",
       "      <td>0.708559</td>\n",
       "      <td>3.916392</td>\n",
       "      <td>250</td>\n",
       "      <td>1.294563</td>\n",
       "    </tr>\n",
       "    <tr>\n",
       "      <th>data2</th>\n",
       "      <td>-2.644741</td>\n",
       "      <td>3.182710</td>\n",
       "      <td>250</td>\n",
       "      <td>-0.036242</td>\n",
       "    </tr>\n",
       "  </tbody>\n",
       "</table>\n",
       "</div>"
      ],
      "text/plain": [
       "                  min       max  count      mean\n",
       "data1                                           \n",
       "0     data1 -2.640178 -0.687926    250 -1.264451\n",
       "      data2 -2.787575  2.773949    250 -0.099105\n",
       "1     data1 -0.687237  0.042290    250 -0.308973\n",
       "      data2 -3.216128  3.880993    250  0.122685\n",
       "2     data1  0.043286  0.706961    250  0.350635\n",
       "      data2 -2.621028  2.947916    250 -0.025353\n",
       "3     data1  0.708559  3.916392    250  1.294563\n",
       "      data2 -2.644741  3.182710    250 -0.036242"
      ]
     },
     "execution_count": 24,
     "metadata": {},
     "output_type": "execute_result"
    }
   ],
   "source": [
    "grouped.apply(get_stats)"
   ]
  },
  {
   "cell_type": "code",
   "execution_count": 25,
   "id": "f9df2db9-621a-4811-b7fc-d314b53495be",
   "metadata": {},
   "outputs": [],
   "source": [
    "#Example: fill missing values with group-specific values.\n",
    "#When we clean up missing data, we might want to drop some of the observations using dropna.\n",
    "#We might aslo want to do the opposite. That is, filling values based on some criteria.\n",
    "#fillna is the proper tool for this set of circumstances.\n",
    "s = pd.Series(np.random.standard_normal(6))\n",
    "s[::2] = np.nan"
   ]
  },
  {
   "cell_type": "code",
   "execution_count": 26,
   "id": "8f7fa08d-9dfe-4ca8-a44e-480826308b2a",
   "metadata": {},
   "outputs": [
    {
     "data": {
      "text/plain": [
       "0         NaN\n",
       "1   -1.763581\n",
       "2         NaN\n",
       "3    1.207878\n",
       "4         NaN\n",
       "5    0.541343\n",
       "dtype: float64"
      ]
     },
     "execution_count": 26,
     "metadata": {},
     "output_type": "execute_result"
    }
   ],
   "source": [
    "s"
   ]
  },
  {
   "cell_type": "code",
   "execution_count": 27,
   "id": "d6f752d9-7253-4083-b683-9519952ec197",
   "metadata": {},
   "outputs": [
    {
     "data": {
      "text/plain": [
       "0   -0.004787\n",
       "1   -1.763581\n",
       "2   -0.004787\n",
       "3    1.207878\n",
       "4   -0.004787\n",
       "5    0.541343\n",
       "dtype: float64"
      ]
     },
     "execution_count": 27,
     "metadata": {},
     "output_type": "execute_result"
    }
   ],
   "source": [
    "s.fillna(s.mean())"
   ]
  },
  {
   "cell_type": "code",
   "execution_count": 28,
   "id": "39602500-c3d7-4e75-a27b-4c6f2fb407da",
   "metadata": {},
   "outputs": [],
   "source": [
    "#We need the fill data to vary by group. We can group the data, and then use fillna and call apply(fillna) on each chunk.\n",
    "#data: Sample data from states, with eastern and western regions.\n",
    "states: List[str] = ['Ohio', 'New York', 'Vermont', 'Florida',\n",
    "                    'Oregon', 'Nevada', 'California', 'Idaho']"
   ]
  },
  {
   "cell_type": "code",
   "execution_count": 29,
   "id": "f64f69dc-21e3-4bce-a0fb-d9f94ec7db9b",
   "metadata": {},
   "outputs": [],
   "source": [
    "group_key : List[str] = ['East', 'East', 'East', 'East',\n",
    "                        'West', 'West', 'West', 'West']"
   ]
  },
  {
   "cell_type": "code",
   "execution_count": 30,
   "id": "c16dd8c9-3dce-4166-a469-2c00d7c19af4",
   "metadata": {},
   "outputs": [],
   "source": [
    "data = pd.Series(np.random.standard_normal(8), index=states)"
   ]
  },
  {
   "cell_type": "code",
   "execution_count": 31,
   "id": "715a6dd3-65f7-44b1-8cb4-dcc242430577",
   "metadata": {},
   "outputs": [
    {
     "data": {
      "text/plain": [
       "Ohio          1.569485\n",
       "New York     -0.446465\n",
       "Vermont      -1.478570\n",
       "Florida       0.075603\n",
       "Oregon        0.553807\n",
       "Nevada       -0.628568\n",
       "California    0.650744\n",
       "Idaho        -0.639702\n",
       "dtype: float64"
      ]
     },
     "execution_count": 31,
     "metadata": {},
     "output_type": "execute_result"
    }
   ],
   "source": [
    "data"
   ]
  },
  {
   "cell_type": "code",
   "execution_count": 32,
   "id": "c5f91928-5599-4664-9818-26af731b2171",
   "metadata": {},
   "outputs": [],
   "source": [
    "#let's set some values to be missing\n",
    "data[['Vermont', 'Nevada', 'Idaho']] = np.nan"
   ]
  },
  {
   "cell_type": "code",
   "execution_count": 33,
   "id": "c70c55be-733d-4d11-a201-0f937b299d89",
   "metadata": {},
   "outputs": [
    {
     "data": {
      "text/plain": [
       "Ohio          1.569485\n",
       "New York     -0.446465\n",
       "Vermont            NaN\n",
       "Florida       0.075603\n",
       "Oregon        0.553807\n",
       "Nevada             NaN\n",
       "California    0.650744\n",
       "Idaho              NaN\n",
       "dtype: float64"
      ]
     },
     "execution_count": 33,
     "metadata": {},
     "output_type": "execute_result"
    }
   ],
   "source": [
    "data"
   ]
  },
  {
   "cell_type": "code",
   "execution_count": 34,
   "id": "a1cf71e3-6d81-4aa6-b0eb-881ce6b656f9",
   "metadata": {},
   "outputs": [
    {
     "data": {
      "text/plain": [
       "East    4\n",
       "West    4\n",
       "dtype: int64"
      ]
     },
     "execution_count": 34,
     "metadata": {},
     "output_type": "execute_result"
    }
   ],
   "source": [
    "data.groupby(group_key).size()"
   ]
  },
  {
   "cell_type": "code",
   "execution_count": 35,
   "id": "248e715c-eb12-4552-bbe9-99c30ae27f92",
   "metadata": {},
   "outputs": [
    {
     "data": {
      "text/plain": [
       "East    3\n",
       "West    2\n",
       "dtype: int64"
      ]
     },
     "execution_count": 35,
     "metadata": {},
     "output_type": "execute_result"
    }
   ],
   "source": [
    "data.groupby(group_key).count()"
   ]
  },
  {
   "cell_type": "code",
   "execution_count": 36,
   "id": "20f3fa94-2ece-485c-afbb-739e5de3c660",
   "metadata": {},
   "outputs": [
    {
     "data": {
      "text/plain": [
       "East    0.399541\n",
       "West    0.602276\n",
       "dtype: float64"
      ]
     },
     "execution_count": 36,
     "metadata": {},
     "output_type": "execute_result"
    }
   ],
   "source": [
    "data.groupby(group_key).mean()"
   ]
  },
  {
   "cell_type": "code",
   "execution_count": 37,
   "id": "d9cc2fc3-2223-417f-af59-c26cbcfd5a0e",
   "metadata": {},
   "outputs": [],
   "source": [
    "#we can fill na values using group means\n",
    "def fill_mean(group):\n",
    "    return group.fillna(group.mean())"
   ]
  },
  {
   "cell_type": "code",
   "execution_count": 38,
   "id": "6717e2a7-b277-444a-b1d3-c304dbe6e8a8",
   "metadata": {},
   "outputs": [
    {
     "data": {
      "text/plain": [
       "Ohio          1.569485\n",
       "New York     -0.446465\n",
       "Vermont       0.399541\n",
       "Florida       0.075603\n",
       "Oregon        0.553807\n",
       "Nevada        0.602276\n",
       "California    0.650744\n",
       "Idaho         0.602276\n",
       "dtype: float64"
      ]
     },
     "execution_count": 38,
     "metadata": {},
     "output_type": "execute_result"
    }
   ],
   "source": [
    "data.groupby(group_key, group_keys=False).apply(fill_mean)"
   ]
  },
  {
   "cell_type": "code",
   "execution_count": 39,
   "id": "c688b227-75a5-45a4-91c9-c969db51efc6",
   "metadata": {},
   "outputs": [
    {
     "data": {
      "text/plain": [
       "East  Ohio          1.569485\n",
       "      New York     -0.446465\n",
       "      Vermont       0.399541\n",
       "      Florida       0.075603\n",
       "West  Oregon        0.553807\n",
       "      Nevada        0.602276\n",
       "      California    0.650744\n",
       "      Idaho         0.602276\n",
       "dtype: float64"
      ]
     },
     "execution_count": 39,
     "metadata": {},
     "output_type": "execute_result"
    }
   ],
   "source": [
    "#we can include the group keys here\n",
    "data.groupby(group_key, group_keys=True).apply(fill_mean)"
   ]
  },
  {
   "cell_type": "code",
   "execution_count": 40,
   "id": "9c95d15d-544c-4088-9345-74cd49cb1b15",
   "metadata": {},
   "outputs": [],
   "source": [
    "fill_values = {'East': 0.5, 'West': -1}"
   ]
  },
  {
   "cell_type": "code",
   "execution_count": 41,
   "id": "a4e9eb79-46e6-4ade-8f93-2f34a8c8bc0d",
   "metadata": {},
   "outputs": [],
   "source": [
    "def fill_func(group):\n",
    "    return group.fillna(fill_values[group.name])"
   ]
  },
  {
   "cell_type": "code",
   "execution_count": 42,
   "id": "e77010ca-fb3b-4cbc-9bbf-2e3bb542c29a",
   "metadata": {},
   "outputs": [
    {
     "data": {
      "text/plain": [
       "Ohio          1.569485\n",
       "New York     -0.446465\n",
       "Vermont       0.500000\n",
       "Florida       0.075603\n",
       "Oregon        0.553807\n",
       "Nevada       -1.000000\n",
       "California    0.650744\n",
       "Idaho        -1.000000\n",
       "dtype: float64"
      ]
     },
     "execution_count": 42,
     "metadata": {},
     "output_type": "execute_result"
    }
   ],
   "source": [
    "data.groupby(group_key, group_keys=False).apply(fill_func)"
   ]
  },
  {
   "cell_type": "code",
   "execution_count": 43,
   "id": "c8b9ad6e-5fb2-42ce-a827-4e9be9079082",
   "metadata": {},
   "outputs": [],
   "source": [
    "#ramdom sampling and permutation\n",
    "#construct a deck of English-style playing cards\n",
    "suits : List[str] = ['H', 'S', 'C', 'D'] #Hearts, Spades, Clubs, Diamonds"
   ]
  },
  {
   "cell_type": "code",
   "execution_count": 44,
   "id": "810c7134-fa09-4d79-bc6d-63b26a2c3c7f",
   "metadata": {},
   "outputs": [],
   "source": [
    "#list(range(1, 11))"
   ]
  },
  {
   "cell_type": "code",
   "execution_count": 45,
   "id": "859552be-d7ca-453a-ac60-39e65832125b",
   "metadata": {},
   "outputs": [
    {
     "name": "stdout",
     "output_type": "stream",
     "text": [
      "[1, 2, 3, 4, 5, 6, 7, 8, 9, 10, 10, 10, 10, 1, 2, 3, 4, 5, 6, 7, 8, 9, 10, 10, 10, 10, 1, 2, 3, 4, 5, 6, 7, 8, 9, 10, 10, 10, 10, 1, 2, 3, 4, 5, 6, 7, 8, 9, 10, 10, 10, 10]\n"
     ]
    }
   ],
   "source": [
    "card_val = (list(range(1, 11)) + [10] *3) * 4\n",
    "print(card_val) #a list of integers"
   ]
  },
  {
   "cell_type": "code",
   "execution_count": 46,
   "id": "3f72ea6b-3371-4f4a-9b8e-f69aa7d5f4c1",
   "metadata": {},
   "outputs": [],
   "source": [
    "base_names = ['A'] + list(range(2, 11)) + ['J', 'K', 'Q']"
   ]
  },
  {
   "cell_type": "code",
   "execution_count": 47,
   "id": "cc568e98-0832-4888-9b96-4b009bd9c034",
   "metadata": {},
   "outputs": [],
   "source": [
    "cards0 = [[str(num)+suit] for suit in suits for num in base_names]"
   ]
  },
  {
   "cell_type": "code",
   "execution_count": 48,
   "id": "df428cf2-c940-49a7-a0db-26a92148cb9a",
   "metadata": {},
   "outputs": [],
   "source": [
    "cards1 = functools.reduce(operator.add, cards0)"
   ]
  },
  {
   "cell_type": "code",
   "execution_count": 49,
   "id": "391ea98f-a7d0-494c-8372-df837c9beb79",
   "metadata": {},
   "outputs": [],
   "source": [
    "deck = pd.Series(card_val, index=cards1)"
   ]
  },
  {
   "cell_type": "code",
   "execution_count": 50,
   "id": "0bb73d89-f931-4fde-a7b9-527c7ad94806",
   "metadata": {},
   "outputs": [
    {
     "data": {
      "text/plain": [
       "AH      1\n",
       "2H      2\n",
       "3H      3\n",
       "4H      4\n",
       "5H      5\n",
       "6H      6\n",
       "7H      7\n",
       "8H      8\n",
       "9H      9\n",
       "10H    10\n",
       "JH     10\n",
       "KH     10\n",
       "QH     10\n",
       "dtype: int64"
      ]
     },
     "execution_count": 50,
     "metadata": {},
     "output_type": "execute_result"
    }
   ],
   "source": [
    "#Now we have a Series of length 52 whose index contains card names, and values are the ones used in\n",
    "#blackjack\n",
    "deck.head(13)"
   ]
  },
  {
   "cell_type": "code",
   "execution_count": 51,
   "id": "c35aecef-8426-4f90-97c4-65f6f77cf78b",
   "metadata": {},
   "outputs": [],
   "source": [
    "#based on what we say above, we could write a function to draw a card here\n",
    "def draw(deck, n: int=5):\n",
    "    return deck.sample(n)"
   ]
  },
  {
   "cell_type": "code",
   "execution_count": 52,
   "id": "d7a8a6b4-1203-42ed-9b24-b46d5a8a90b5",
   "metadata": {},
   "outputs": [
    {
     "data": {
      "text/plain": [
       "5S     5\n",
       "9D     9\n",
       "JD    10\n",
       "9S     9\n",
       "3D     3\n",
       "dtype: int64"
      ]
     },
     "execution_count": 52,
     "metadata": {},
     "output_type": "execute_result"
    }
   ],
   "source": [
    "draw(deck)"
   ]
  },
  {
   "cell_type": "code",
   "execution_count": 53,
   "id": "d52feee5-a2d6-468a-a965-8cdbe88bf556",
   "metadata": {},
   "outputs": [],
   "source": [
    "#suppose we wenated two random cards from each suit. Because the suit is the last character\n",
    "#of each card name, we can group based on the suit and apply.\n",
    "def get_suit(card):\n",
    "    '''Takes a card and returns the suit'''\n",
    "    #last letter is suit\n",
    "    return card[-1]"
   ]
  },
  {
   "cell_type": "code",
   "execution_count": 54,
   "id": "46c1f5e1-085e-4ac5-903b-675110c350d6",
   "metadata": {},
   "outputs": [
    {
     "data": {
      "text/plain": [
       "C  4C      4\n",
       "   AC      1\n",
       "D  10D    10\n",
       "   5D      5\n",
       "H  3H      3\n",
       "   7H      7\n",
       "S  8S      8\n",
       "   3S      3\n",
       "dtype: int64"
      ]
     },
     "execution_count": 54,
     "metadata": {},
     "output_type": "execute_result"
    }
   ],
   "source": [
    "deck.groupby(get_suit).apply(draw, n=2)"
   ]
  },
  {
   "cell_type": "code",
   "execution_count": 55,
   "id": "d1cd8e2b-469a-4771-a554-fab6101d9cf9",
   "metadata": {},
   "outputs": [
    {
     "data": {
      "text/plain": [
       "AC      1\n",
       "2C      2\n",
       "3D      3\n",
       "9D      9\n",
       "2H      2\n",
       "5H      5\n",
       "3S      3\n",
       "10S    10\n",
       "dtype: int64"
      ]
     },
     "execution_count": 55,
     "metadata": {},
     "output_type": "execute_result"
    }
   ],
   "source": [
    "#This has a multindex. We could also pass group_keys=False to just see the selected cards.\n",
    "deck.groupby(get_suit, group_keys=False).apply(draw, n=2)"
   ]
  },
  {
   "cell_type": "code",
   "execution_count": null,
   "id": "8b4aaa3f-0d34-4e45-b204-428d604322b7",
   "metadata": {},
   "outputs": [],
   "source": []
  },
  {
   "cell_type": "code",
   "execution_count": null,
   "id": "7e37f2ef-c522-4fa3-8bec-2d90ee01a968",
   "metadata": {},
   "outputs": [],
   "source": []
  },
  {
   "cell_type": "code",
   "execution_count": null,
   "id": "daab7f6d-bb51-44f5-adf3-3a593a1a6996",
   "metadata": {},
   "outputs": [],
   "source": []
  },
  {
   "cell_type": "code",
   "execution_count": null,
   "id": "2bd8dd24-4e62-4b1b-99df-2eb217f392d3",
   "metadata": {},
   "outputs": [],
   "source": []
  },
  {
   "cell_type": "code",
   "execution_count": null,
   "id": "d928dd90-f56d-4da8-b8ad-7100e38b7b1a",
   "metadata": {},
   "outputs": [],
   "source": []
  }
 ],
 "metadata": {
  "kernelspec": {
   "display_name": "Python 3 (ipykernel)",
   "language": "python",
   "name": "python3"
  },
  "language_info": {
   "codemirror_mode": {
    "name": "ipython",
    "version": 3
   },
   "file_extension": ".py",
   "mimetype": "text/x-python",
   "name": "python",
   "nbconvert_exporter": "python",
   "pygments_lexer": "ipython3",
   "version": "3.10.8"
  }
 },
 "nbformat": 4,
 "nbformat_minor": 5
}
