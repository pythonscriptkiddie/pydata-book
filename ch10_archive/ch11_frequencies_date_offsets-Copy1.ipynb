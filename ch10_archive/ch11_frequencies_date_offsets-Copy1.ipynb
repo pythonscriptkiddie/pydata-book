{
 "cells": [
  {
   "cell_type": "code",
   "execution_count": 1,
   "id": "da1f3831-683b-413f-bf6a-e4e5ac869bb7",
   "metadata": {},
   "outputs": [],
   "source": [
    "from datetime import datetime\n",
    "import numpy as np\n",
    "import pandas as pd\n",
    "from pandas.tseries.offsets import Hour, Minute, Day, MonthEnd"
   ]
  },
  {
   "cell_type": "code",
   "execution_count": 2,
   "id": "9a2fa8e2-5e2c-4515-bb1d-66f3150670ce",
   "metadata": {},
   "outputs": [],
   "source": [
    "#frequencies in pandas consist of two components:\n",
    "#1) base frequency\n",
    "#2) multiplier\n",
    "#'M' is for monthly, 'H' is for hourly.\n",
    "#for the rfrequency, there is a date offset.\n",
    "#hours are represented by the \"Hour\" class\n",
    "hour = Hour()"
   ]
  },
  {
   "cell_type": "code",
   "execution_count": 3,
   "id": "43cae646-4085-4511-a20d-e1b3ee330d6b",
   "metadata": {},
   "outputs": [
    {
     "data": {
      "text/plain": [
       "<Hour>"
      ]
     },
     "execution_count": 3,
     "metadata": {},
     "output_type": "execute_result"
    }
   ],
   "source": [
    "hour"
   ]
  },
  {
   "cell_type": "code",
   "execution_count": 4,
   "id": "8b80388d-b823-49d4-93ce-4ab527aed9e6",
   "metadata": {},
   "outputs": [],
   "source": [
    "#we can define a multiple of an offset by passing an integer\n",
    "four_hours = Hour(4)"
   ]
  },
  {
   "cell_type": "code",
   "execution_count": 5,
   "id": "db026171-b8b3-49f1-87e6-1907770cf084",
   "metadata": {},
   "outputs": [
    {
     "data": {
      "text/plain": [
       "<4 * Hours>"
      ]
     },
     "execution_count": 5,
     "metadata": {},
     "output_type": "execute_result"
    }
   ],
   "source": [
    "four_hours"
   ]
  },
  {
   "cell_type": "code",
   "execution_count": 6,
   "id": "67b0ea4e-b914-401a-ac2b-ecbfdf5549b0",
   "metadata": {},
   "outputs": [
    {
     "data": {
      "text/plain": [
       "DatetimeIndex(['2000-01-01 00:00:00', '2000-01-01 04:00:00',\n",
       "               '2000-01-01 08:00:00', '2000-01-01 12:00:00',\n",
       "               '2000-01-01 16:00:00', '2000-01-01 20:00:00',\n",
       "               '2000-01-02 00:00:00', '2000-01-02 04:00:00',\n",
       "               '2000-01-02 08:00:00', '2000-01-02 12:00:00',\n",
       "               '2000-01-02 16:00:00', '2000-01-02 20:00:00',\n",
       "               '2000-01-03 00:00:00', '2000-01-03 04:00:00',\n",
       "               '2000-01-03 08:00:00', '2000-01-03 12:00:00',\n",
       "               '2000-01-03 16:00:00', '2000-01-03 20:00:00'],\n",
       "              dtype='datetime64[ns]', freq='4H')"
      ]
     },
     "execution_count": 6,
     "metadata": {},
     "output_type": "execute_result"
    }
   ],
   "source": [
    "#in most applications we do not need to create these, we can use something like \"H\" or \"4H\"\n",
    "pd.date_range('2000-01-01', '2000-01-03 23:59', freq='4H')"
   ]
  },
  {
   "cell_type": "code",
   "execution_count": 7,
   "id": "77cc608a-c9ce-4ada-9987-4060fec6692f",
   "metadata": {},
   "outputs": [
    {
     "data": {
      "text/plain": [
       "<150 * Minutes>"
      ]
     },
     "execution_count": 7,
     "metadata": {},
     "output_type": "execute_result"
    }
   ],
   "source": [
    "#offsets can often be combined using addition\n",
    "Hour(2) + Minute(30)"
   ]
  },
  {
   "cell_type": "code",
   "execution_count": 8,
   "id": "d44b7330-80d9-4fa3-9d62-4f2e9a05d19f",
   "metadata": {},
   "outputs": [
    {
     "data": {
      "text/plain": [
       "DatetimeIndex(['2000-01-01 00:00:00', '2000-01-01 04:00:00',\n",
       "               '2000-01-01 08:00:00', '2000-01-01 12:00:00',\n",
       "               '2000-01-01 16:00:00', '2000-01-01 20:00:00',\n",
       "               '2000-01-02 00:00:00', '2000-01-02 04:00:00',\n",
       "               '2000-01-02 08:00:00', '2000-01-02 12:00:00',\n",
       "               '2000-01-02 16:00:00', '2000-01-02 20:00:00',\n",
       "               '2000-01-03 00:00:00', '2000-01-03 04:00:00',\n",
       "               '2000-01-03 08:00:00', '2000-01-03 12:00:00',\n",
       "               '2000-01-03 16:00:00', '2000-01-03 20:00:00'],\n",
       "              dtype='datetime64[ns]', freq='4H')"
      ]
     },
     "execution_count": 8,
     "metadata": {},
     "output_type": "execute_result"
    }
   ],
   "source": [
    "#in most applications we do not need to create these, we can use something like \"H\" or \"4H\"\n",
    "pd.date_range('2000-01-01', '2000-01-03 23:59', freq=four_hours) #but here we use \"four_hours\""
   ]
  },
  {
   "cell_type": "code",
   "execution_count": 9,
   "id": "bde0a6c5-01ea-4bef-94a6-6d9a559f6c97",
   "metadata": {},
   "outputs": [
    {
     "data": {
      "text/plain": [
       "DatetimeIndex(['2000-01-01 00:00:00', '2000-01-01 01:30:00',\n",
       "               '2000-01-01 03:00:00', '2000-01-01 04:30:00',\n",
       "               '2000-01-01 06:00:00', '2000-01-01 07:30:00',\n",
       "               '2000-01-01 09:00:00', '2000-01-01 10:30:00',\n",
       "               '2000-01-01 12:00:00', '2000-01-01 13:30:00'],\n",
       "              dtype='datetime64[ns]', freq='90T')"
      ]
     },
     "execution_count": 9,
     "metadata": {},
     "output_type": "execute_result"
    }
   ],
   "source": [
    "#we can pass frequency strings like \"1hr30min\" \n",
    "pd.date_range('2000-01-01', periods=10, freq='1h30min')"
   ]
  },
  {
   "cell_type": "code",
   "execution_count": 10,
   "id": "8e83676c-1940-4dc8-8332-af5b8bb97033",
   "metadata": {},
   "outputs": [
    {
     "data": {
      "text/plain": [
       "DatetimeIndex(['2000-01-01', '2000-04-01', '2000-07-01', '2000-10-01'], dtype='datetime64[ns]', freq='QS-JAN')"
      ]
     },
     "execution_count": 10,
     "metadata": {},
     "output_type": "execute_result"
    }
   ],
   "source": [
    "#some frequencies have points that are not evenly spaced\n",
    "pd.date_range('2000-01-01', '2000-12-31', freq='QS-JAN')"
   ]
  },
  {
   "cell_type": "code",
   "execution_count": 11,
   "id": "caef9bf5-607e-45ca-a5bd-1fec54019f72",
   "metadata": {},
   "outputs": [],
   "source": [
    "#week of month dates\n",
    "#we can get the third friday of each month\n",
    "monthly_dates = pd.date_range('2012-01-01', '2012-09-01', freq='WOM-3FRI')"
   ]
  },
  {
   "cell_type": "code",
   "execution_count": 12,
   "id": "20254a2d-2a75-453f-901d-db1f776872e3",
   "metadata": {},
   "outputs": [
    {
     "data": {
      "text/plain": [
       "[Timestamp('2012-01-20 00:00:00', freq='WOM-3FRI'),\n",
       " Timestamp('2012-02-17 00:00:00', freq='WOM-3FRI'),\n",
       " Timestamp('2012-03-16 00:00:00', freq='WOM-3FRI'),\n",
       " Timestamp('2012-04-20 00:00:00', freq='WOM-3FRI'),\n",
       " Timestamp('2012-05-18 00:00:00', freq='WOM-3FRI'),\n",
       " Timestamp('2012-06-15 00:00:00', freq='WOM-3FRI'),\n",
       " Timestamp('2012-07-20 00:00:00', freq='WOM-3FRI'),\n",
       " Timestamp('2012-08-17 00:00:00', freq='WOM-3FRI')]"
      ]
     },
     "execution_count": 12,
     "metadata": {},
     "output_type": "execute_result"
    }
   ],
   "source": [
    "list(monthly_dates)"
   ]
  },
  {
   "cell_type": "code",
   "execution_count": 13,
   "id": "91539bba-2953-4501-9cb0-db3f76b0542f",
   "metadata": {},
   "outputs": [
    {
     "data": {
      "text/plain": [
       "2000-01-31    1.199935\n",
       "2000-02-29    0.571806\n",
       "2000-03-31    0.402750\n",
       "2000-04-30    1.546524\n",
       "Freq: M, dtype: float64"
      ]
     },
     "execution_count": 13,
     "metadata": {},
     "output_type": "execute_result"
    }
   ],
   "source": [
    "#shifting (leading/lagging) date\n",
    "#move data forward or back through time\n",
    "#without altering index\n",
    "ts = pd.Series(np.random.standard_normal(4),\n",
    "              index=pd.date_range('2000-01-01', periods=4, freq='M'))\n",
    "\n",
    "ts"
   ]
  },
  {
   "cell_type": "code",
   "execution_count": 14,
   "id": "329f0b75-f216-40c9-bb5f-a3704cf061df",
   "metadata": {},
   "outputs": [
    {
     "data": {
      "text/plain": [
       "2000-01-31         NaN\n",
       "2000-02-29         NaN\n",
       "2000-03-31    1.199935\n",
       "2000-04-30    0.571806\n",
       "Freq: M, dtype: float64"
      ]
     },
     "execution_count": 14,
     "metadata": {},
     "output_type": "execute_result"
    }
   ],
   "source": [
    "ts.shift(2) #missing data introduced at the beginning"
   ]
  },
  {
   "cell_type": "code",
   "execution_count": 15,
   "id": "d44377e6-87aa-4a90-8f32-3c08864b16bc",
   "metadata": {},
   "outputs": [
    {
     "data": {
      "text/plain": [
       "2000-01-31    0.402750\n",
       "2000-02-29    1.546524\n",
       "2000-03-31         NaN\n",
       "2000-04-30         NaN\n",
       "Freq: M, dtype: float64"
      ]
     },
     "execution_count": 15,
     "metadata": {},
     "output_type": "execute_result"
    }
   ],
   "source": [
    "ts.shift(-2) #missing data introduced at the end"
   ]
  },
  {
   "cell_type": "code",
   "execution_count": 16,
   "id": "d8be49bf-f06d-41e6-87a5-627657f32fd2",
   "metadata": {},
   "outputs": [
    {
     "data": {
      "text/plain": [
       "2000-01-31         NaN\n",
       "2000-02-29   -0.523469\n",
       "2000-03-31   -0.295653\n",
       "2000-04-30    2.839908\n",
       "Freq: M, dtype: float64"
      ]
     },
     "execution_count": 16,
     "metadata": {},
     "output_type": "execute_result"
    }
   ],
   "source": [
    "#one reason we use shift is to calculate consecutive percent changes in a time series or multiple time series\n",
    "ts / ts.shift(1) - 1"
   ]
  },
  {
   "cell_type": "code",
   "execution_count": 17,
   "id": "cf96d30f-b788-47c6-bf5b-ed70592c8f3e",
   "metadata": {},
   "outputs": [
    {
     "data": {
      "text/plain": [
       "2000-02-29    1.199935\n",
       "2000-03-31    0.571806\n",
       "2000-04-30    0.402750\n",
       "2000-05-31    1.546524\n",
       "Freq: M, dtype: float64"
      ]
     },
     "execution_count": 17,
     "metadata": {},
     "output_type": "execute_result"
    }
   ],
   "source": [
    "#naive shifts leave the index unmodified, so we can pass the frequency to advance BOTH timestamp and date, rather than just data\n",
    "ts.shift(freq='M')"
   ]
  },
  {
   "cell_type": "code",
   "execution_count": 18,
   "id": "e2591622-ae5f-46ce-bb01-f3ef41fd2deb",
   "metadata": {},
   "outputs": [
    {
     "data": {
      "text/plain": [
       "2000-02-03    1.199935\n",
       "2000-03-03    0.571806\n",
       "2000-04-03    0.402750\n",
       "2000-05-03    1.546524\n",
       "dtype: float64"
      ]
     },
     "execution_count": 18,
     "metadata": {},
     "output_type": "execute_result"
    }
   ],
   "source": [
    "#other frequencies can be passed also\n",
    "ts.shift(3, freq='D')"
   ]
  },
  {
   "cell_type": "code",
   "execution_count": 19,
   "id": "890b1969-7cab-4673-bd0c-4ec98fd48c69",
   "metadata": {},
   "outputs": [
    {
     "data": {
      "text/plain": [
       "2000-01-31 01:30:00    1.199935\n",
       "2000-02-29 01:30:00    0.571806\n",
       "2000-03-31 01:30:00    0.402750\n",
       "2000-04-30 01:30:00    1.546524\n",
       "dtype: float64"
      ]
     },
     "execution_count": 19,
     "metadata": {},
     "output_type": "execute_result"
    }
   ],
   "source": [
    "ts.shift(1, freq='90T') #Note: the freq parameter indicates the offset applies to the timestamps but does not modify the data."
   ]
  },
  {
   "cell_type": "code",
   "execution_count": 20,
   "id": "e9692d19-273c-4198-b20f-c34b15718f99",
   "metadata": {},
   "outputs": [],
   "source": [
    "#date offsets work with datetime or timestamp objects\n",
    "now = datetime(2011, 11, 17)"
   ]
  },
  {
   "cell_type": "code",
   "execution_count": 21,
   "id": "c71a4f96-b962-4013-a928-3a8fdc963916",
   "metadata": {},
   "outputs": [
    {
     "data": {
      "text/plain": [
       "Timestamp('2011-11-20 00:00:00')"
      ]
     },
     "execution_count": 21,
     "metadata": {},
     "output_type": "execute_result"
    }
   ],
   "source": [
    "now + 3 * Day()"
   ]
  },
  {
   "cell_type": "code",
   "execution_count": 22,
   "id": "c55acd35-484f-4acc-a5f8-72c77a68417a",
   "metadata": {},
   "outputs": [
    {
     "data": {
      "text/plain": [
       "Timestamp('2011-11-30 00:00:00')"
      ]
     },
     "execution_count": 22,
     "metadata": {},
     "output_type": "execute_result"
    }
   ],
   "source": [
    "#adding an anchored offset like MonthEnd, then the first inrement will \"roll forward\"\n",
    "now + MonthEnd()"
   ]
  },
  {
   "cell_type": "code",
   "execution_count": 23,
   "id": "9e0f3896-78e3-495f-a5be-544811fd53cf",
   "metadata": {},
   "outputs": [
    {
     "data": {
      "text/plain": [
       "Timestamp('2011-12-31 00:00:00')"
      ]
     },
     "execution_count": 23,
     "metadata": {},
     "output_type": "execute_result"
    }
   ],
   "source": [
    "now + MonthEnd(2)"
   ]
  },
  {
   "cell_type": "code",
   "execution_count": 24,
   "id": "6b6f71c8-d7be-4c68-a825-4036fa8dc04c",
   "metadata": {},
   "outputs": [],
   "source": [
    "#anchored offsets explicitly roll dates forward by simply using their rollforward and rollback methods, respectively.\n",
    "offset = MonthEnd()"
   ]
  },
  {
   "cell_type": "code",
   "execution_count": 25,
   "id": "2f292fd9-cb4c-4d8d-b0ce-c9f01ca4afaf",
   "metadata": {},
   "outputs": [
    {
     "data": {
      "text/plain": [
       "Timestamp('2011-11-30 00:00:00')"
      ]
     },
     "execution_count": 25,
     "metadata": {},
     "output_type": "execute_result"
    }
   ],
   "source": [
    "offset.rollforward(now)"
   ]
  },
  {
   "cell_type": "code",
   "execution_count": 26,
   "id": "f0243eaa-0c17-4d6b-a81e-13fab30d8bba",
   "metadata": {},
   "outputs": [
    {
     "data": {
      "text/plain": [
       "Timestamp('2011-10-31 00:00:00')"
      ]
     },
     "execution_count": 26,
     "metadata": {},
     "output_type": "execute_result"
    }
   ],
   "source": [
    "offset.rollback(now)"
   ]
  },
  {
   "cell_type": "code",
   "execution_count": 27,
   "id": "12bf370d-feba-43cc-86d9-c5075e9712bc",
   "metadata": {},
   "outputs": [],
   "source": [
    "#creative use of date offsets: use these methods with groupby\n",
    "ts = pd.Series(np.random.standard_normal(20),\n",
    "              index=pd.date_range('2001-01-15', periods=20, freq='4D'))"
   ]
  },
  {
   "cell_type": "code",
   "execution_count": 28,
   "id": "bb3efa55-2cc3-4eac-8479-c01b60d02e35",
   "metadata": {},
   "outputs": [
    {
     "data": {
      "text/plain": [
       "2001-01-15    1.692963\n",
       "2001-01-19    0.138470\n",
       "2001-01-23   -1.010685\n",
       "2001-01-27    0.341818\n",
       "2001-01-31   -2.829653\n",
       "2001-02-04    0.402733\n",
       "2001-02-08    0.376858\n",
       "2001-02-12   -0.114628\n",
       "2001-02-16    0.568906\n",
       "2001-02-20   -1.229390\n",
       "2001-02-24   -0.426231\n",
       "2001-02-28    0.232337\n",
       "2001-03-04    0.375309\n",
       "2001-03-08    1.923097\n",
       "2001-03-12    0.043976\n",
       "2001-03-16    0.102062\n",
       "2001-03-20    0.131272\n",
       "2001-03-24    0.334917\n",
       "2001-03-28    0.325291\n",
       "2001-04-01    0.337263\n",
       "Freq: 4D, dtype: float64"
      ]
     },
     "execution_count": 28,
     "metadata": {},
     "output_type": "execute_result"
    }
   ],
   "source": [
    "ts"
   ]
  },
  {
   "cell_type": "code",
   "execution_count": 29,
   "id": "f04f8e1f-cd41-49c4-a433-cbd6f932bcbf",
   "metadata": {},
   "outputs": [
    {
     "data": {
      "text/plain": [
       "2001-01-31   -0.333417\n",
       "2001-02-28   -0.027059\n",
       "2001-03-31    0.462275\n",
       "2001-04-30    0.337263\n",
       "dtype: float64"
      ]
     },
     "execution_count": 29,
     "metadata": {},
     "output_type": "execute_result"
    }
   ],
   "source": [
    "ts.groupby(MonthEnd().rollforward).mean()"
   ]
  },
  {
   "cell_type": "code",
   "execution_count": 30,
   "id": "dbd1c90c-2798-43c6-969e-8557f12225e8",
   "metadata": {},
   "outputs": [
    {
     "data": {
      "text/plain": [
       "2001-01-31   -0.333417\n",
       "2001-02-28   -0.027059\n",
       "2001-03-31    0.462275\n",
       "2001-04-30    0.337263\n",
       "Freq: M, dtype: float64"
      ]
     },
     "execution_count": 30,
     "metadata": {},
     "output_type": "execute_result"
    }
   ],
   "source": [
    "#easier and faster waqy to do this is to resample\n",
    "ts.resample('M').mean()"
   ]
  },
  {
   "cell_type": "code",
   "execution_count": 31,
   "id": "f693e301-a8b9-4d14-be06-d3d3203f6168",
   "metadata": {},
   "outputs": [],
   "source": [
    "#time zones\n",
    "import pytz"
   ]
  },
  {
   "cell_type": "code",
   "execution_count": 32,
   "id": "b9b96aad-e0c5-461c-b66c-cd85682abe8f",
   "metadata": {},
   "outputs": [
    {
     "data": {
      "text/plain": [
       "['US/Eastern', 'US/Hawaii', 'US/Mountain', 'US/Pacific', 'UTC']"
      ]
     },
     "execution_count": 32,
     "metadata": {},
     "output_type": "execute_result"
    }
   ],
   "source": [
    "pytz.common_timezones[-5:]"
   ]
  },
  {
   "cell_type": "code",
   "execution_count": 33,
   "id": "8a739ddb-17c3-418c-a2bc-ec1aa72680fa",
   "metadata": {},
   "outputs": [],
   "source": [
    "#pz.timezone creates a time zone object\n",
    "tz = pytz.timezone('America/New_York')"
   ]
  },
  {
   "cell_type": "code",
   "execution_count": 34,
   "id": "618b2b66-fcba-45be-b764-a4361c9d073a",
   "metadata": {},
   "outputs": [
    {
     "data": {
      "text/plain": [
       "<DstTzInfo 'America/New_York' LMT-1 day, 19:04:00 STD>"
      ]
     },
     "execution_count": 34,
     "metadata": {},
     "output_type": "execute_result"
    }
   ],
   "source": [
    "tz"
   ]
  },
  {
   "cell_type": "code",
   "execution_count": 35,
   "id": "8c21a11e-86a6-49fa-9ae0-342a0aeda3cb",
   "metadata": {},
   "outputs": [],
   "source": [
    "#time series in pandas are, by default, time zone naive\n",
    "dates = pd.date_range('2012-03-09 9:30', periods=6)"
   ]
  },
  {
   "cell_type": "code",
   "execution_count": 36,
   "id": "a1fb28de-9a0a-4446-823c-67cb76e90efb",
   "metadata": {},
   "outputs": [],
   "source": [
    "ts = pd.Series(np.random.standard_normal(len(dates)), index=dates)"
   ]
  },
  {
   "cell_type": "code",
   "execution_count": 37,
   "id": "c9608c6a-7627-4f44-96ac-08eaa745c215",
   "metadata": {},
   "outputs": [
    {
     "data": {
      "text/plain": [
       "2012-03-09 09:30:00    0.044180\n",
       "2012-03-10 09:30:00    0.757846\n",
       "2012-03-11 09:30:00   -1.011174\n",
       "2012-03-12 09:30:00    1.649797\n",
       "2012-03-13 09:30:00    1.360590\n",
       "2012-03-14 09:30:00    0.640470\n",
       "Freq: D, dtype: float64"
      ]
     },
     "execution_count": 37,
     "metadata": {},
     "output_type": "execute_result"
    }
   ],
   "source": [
    "ts"
   ]
  },
  {
   "cell_type": "code",
   "execution_count": 38,
   "id": "b5912179-ba9f-4f20-bf40-eaaea43cb53b",
   "metadata": {},
   "outputs": [
    {
     "name": "stdout",
     "output_type": "stream",
     "text": [
      "None\n"
     ]
    }
   ],
   "source": [
    "#index tz field is None\n",
    "print(ts.index.tz)"
   ]
  },
  {
   "cell_type": "code",
   "execution_count": 39,
   "id": "19709d30-41ad-4bd7-9efb-51cbdbcb57eb",
   "metadata": {},
   "outputs": [
    {
     "data": {
      "text/plain": [
       "DatetimeIndex(['2012-03-09 09:30:00+00:00', '2012-03-10 09:30:00+00:00',\n",
       "               '2012-03-11 09:30:00+00:00', '2012-03-12 09:30:00+00:00',\n",
       "               '2012-03-13 09:30:00+00:00', '2012-03-14 09:30:00+00:00',\n",
       "               '2012-03-15 09:30:00+00:00', '2012-03-16 09:30:00+00:00',\n",
       "               '2012-03-17 09:30:00+00:00', '2012-03-18 09:30:00+00:00'],\n",
       "              dtype='datetime64[ns, UTC]', freq='D')"
      ]
     },
     "execution_count": 39,
     "metadata": {},
     "output_type": "execute_result"
    }
   ],
   "source": [
    "#generate date ranges using time zone preset\n",
    "pd.date_range('2012-03-09 9:30', periods=10, tz='UTC')"
   ]
  },
  {
   "cell_type": "code",
   "execution_count": 40,
   "id": "21c79c05-2509-4a58-87ef-9f19e8b13598",
   "metadata": {},
   "outputs": [
    {
     "data": {
      "text/plain": [
       "2012-03-09 09:30:00    0.044180\n",
       "2012-03-10 09:30:00    0.757846\n",
       "2012-03-11 09:30:00   -1.011174\n",
       "2012-03-12 09:30:00    1.649797\n",
       "2012-03-13 09:30:00    1.360590\n",
       "2012-03-14 09:30:00    0.640470\n",
       "Freq: D, dtype: float64"
      ]
     },
     "execution_count": 40,
     "metadata": {},
     "output_type": "execute_result"
    }
   ],
   "source": [
    "#tz_localize method: We use this method to convert from naive to localized time\n",
    "ts"
   ]
  },
  {
   "cell_type": "code",
   "execution_count": 41,
   "id": "30912400-1453-45b1-ac27-6d1dac65b993",
   "metadata": {},
   "outputs": [],
   "source": [
    "ts_utc = ts.tz_localize('UTC')"
   ]
  },
  {
   "cell_type": "code",
   "execution_count": 42,
   "id": "4727df79-2322-4bc9-ad13-dcd34f07a031",
   "metadata": {},
   "outputs": [
    {
     "data": {
      "text/plain": [
       "2012-03-09 09:30:00+00:00    0.044180\n",
       "2012-03-10 09:30:00+00:00    0.757846\n",
       "2012-03-11 09:30:00+00:00   -1.011174\n",
       "2012-03-12 09:30:00+00:00    1.649797\n",
       "2012-03-13 09:30:00+00:00    1.360590\n",
       "2012-03-14 09:30:00+00:00    0.640470\n",
       "Freq: D, dtype: float64"
      ]
     },
     "execution_count": 42,
     "metadata": {},
     "output_type": "execute_result"
    }
   ],
   "source": [
    "ts_utc"
   ]
  },
  {
   "cell_type": "code",
   "execution_count": 43,
   "id": "219aadda-aa73-48a7-8860-e5ab0739b041",
   "metadata": {},
   "outputs": [
    {
     "data": {
      "text/plain": [
       "DatetimeIndex(['2012-03-09 09:30:00+00:00', '2012-03-10 09:30:00+00:00',\n",
       "               '2012-03-11 09:30:00+00:00', '2012-03-12 09:30:00+00:00',\n",
       "               '2012-03-13 09:30:00+00:00', '2012-03-14 09:30:00+00:00'],\n",
       "              dtype='datetime64[ns, UTC]', freq='D')"
      ]
     },
     "execution_count": 43,
     "metadata": {},
     "output_type": "execute_result"
    }
   ],
   "source": [
    "ts_utc.index"
   ]
  },
  {
   "cell_type": "code",
   "execution_count": 44,
   "id": "0d2c1041-70b0-4a9d-b5e4-d9d83de559fe",
   "metadata": {},
   "outputs": [
    {
     "data": {
      "text/plain": [
       "2012-03-09 04:30:00-05:00    0.044180\n",
       "2012-03-10 04:30:00-05:00    0.757846\n",
       "2012-03-11 05:30:00-04:00   -1.011174\n",
       "2012-03-12 05:30:00-04:00    1.649797\n",
       "2012-03-13 05:30:00-04:00    1.360590\n",
       "2012-03-14 05:30:00-04:00    0.640470\n",
       "Freq: D, dtype: float64"
      ]
     },
     "execution_count": 44,
     "metadata": {},
     "output_type": "execute_result"
    }
   ],
   "source": [
    "#once a time series is localized, it can be converted to another time zone with tz_convert\n",
    "ts_utc.tz_convert('America/New_York')"
   ]
  },
  {
   "cell_type": "code",
   "execution_count": 45,
   "id": "a3ec4372-509f-4cc9-94a4-bfbfdd0b55e0",
   "metadata": {},
   "outputs": [
    {
     "data": {
      "text/plain": [
       "2012-03-09 09:30:00-05:00    0.044180\n",
       "2012-03-10 09:30:00-05:00    0.757846\n",
       "2012-03-11 09:30:00-04:00   -1.011174\n",
       "2012-03-12 09:30:00-04:00    1.649797\n",
       "2012-03-13 09:30:00-04:00    1.360590\n",
       "2012-03-14 09:30:00-04:00    0.640470\n",
       "dtype: float64"
      ]
     },
     "execution_count": 45,
     "metadata": {},
     "output_type": "execute_result"
    }
   ],
   "source": [
    "#the preceeding time zeries can be converted to eastern time\n",
    "ts_eastern = ts.tz_localize('America/New_York')\n",
    "ts_eastern"
   ]
  },
  {
   "cell_type": "code",
   "execution_count": 46,
   "id": "587b73ee-00a6-4e77-9ba4-24d094e67cee",
   "metadata": {},
   "outputs": [
    {
     "data": {
      "text/plain": [
       "2012-03-09 14:30:00+00:00    0.044180\n",
       "2012-03-10 14:30:00+00:00    0.757846\n",
       "2012-03-11 13:30:00+00:00   -1.011174\n",
       "2012-03-12 13:30:00+00:00    1.649797\n",
       "2012-03-13 13:30:00+00:00    1.360590\n",
       "2012-03-14 13:30:00+00:00    0.640470\n",
       "dtype: float64"
      ]
     },
     "execution_count": 46,
     "metadata": {},
     "output_type": "execute_result"
    }
   ],
   "source": [
    "ts_eastern.tz_convert('UTC')"
   ]
  },
  {
   "cell_type": "code",
   "execution_count": 47,
   "id": "8097c7fa-27d4-40e5-a17e-7b18df4644a0",
   "metadata": {},
   "outputs": [
    {
     "data": {
      "text/plain": [
       "2012-03-09 15:30:00+01:00    0.044180\n",
       "2012-03-10 15:30:00+01:00    0.757846\n",
       "2012-03-11 14:30:00+01:00   -1.011174\n",
       "2012-03-12 14:30:00+01:00    1.649797\n",
       "2012-03-13 14:30:00+01:00    1.360590\n",
       "2012-03-14 14:30:00+01:00    0.640470\n",
       "dtype: float64"
      ]
     },
     "execution_count": 47,
     "metadata": {},
     "output_type": "execute_result"
    }
   ],
   "source": [
    "ts_eastern.tz_convert('Europe/Berlin')"
   ]
  },
  {
   "cell_type": "code",
   "execution_count": 48,
   "id": "78927183-a486-4d77-a375-ea1c23aee4d4",
   "metadata": {},
   "outputs": [
    {
     "data": {
      "text/plain": [
       "DatetimeIndex(['2012-03-09 09:30:00+08:00', '2012-03-10 09:30:00+08:00',\n",
       "               '2012-03-11 09:30:00+08:00', '2012-03-12 09:30:00+08:00',\n",
       "               '2012-03-13 09:30:00+08:00', '2012-03-14 09:30:00+08:00'],\n",
       "              dtype='datetime64[ns, Asia/Shanghai]', freq=None)"
      ]
     },
     "execution_count": 48,
     "metadata": {},
     "output_type": "execute_result"
    }
   ],
   "source": [
    "#tz_localize and tz_convert are also instances methods on DatetimeIndex\n",
    "ts.index.tz_localize('Asia/Shanghai')"
   ]
  },
  {
   "cell_type": "code",
   "execution_count": 49,
   "id": "9c179bd0-0314-4bb7-a525-4e281be57c74",
   "metadata": {},
   "outputs": [
    {
     "data": {
      "text/plain": [
       "Timestamp('2011-03-12 04:00:00')"
      ]
     },
     "execution_count": 49,
     "metadata": {},
     "output_type": "execute_result"
    }
   ],
   "source": [
    "#operations with timezone-aware Timestamp objects\n",
    "#just like time series and date rangers, we can localize Timestamp objects from naive to time zone-aware\n",
    "stamp = pd.Timestamp('2011-03-12 04:00')\n",
    "stamp"
   ]
  },
  {
   "cell_type": "code",
   "execution_count": 50,
   "id": "2fd7a7f1-0204-41ec-b465-a17bc40189ef",
   "metadata": {},
   "outputs": [],
   "source": [
    "stamp_utc = stamp.tz_localize('utc')"
   ]
  },
  {
   "cell_type": "code",
   "execution_count": 51,
   "id": "be235da6-74b1-41a8-980a-5dd55efead81",
   "metadata": {},
   "outputs": [
    {
     "data": {
      "text/plain": [
       "Timestamp('2011-03-12 04:00:00+0000', tz='UTC')"
      ]
     },
     "execution_count": 51,
     "metadata": {},
     "output_type": "execute_result"
    }
   ],
   "source": [
    "stamp_utc"
   ]
  },
  {
   "cell_type": "code",
   "execution_count": 52,
   "id": "a7ea7ade-9a91-46b6-b4f3-aade155948ce",
   "metadata": {},
   "outputs": [
    {
     "data": {
      "text/plain": [
       "Timestamp('2011-03-11 23:00:00-0500', tz='America/New_York')"
      ]
     },
     "execution_count": 52,
     "metadata": {},
     "output_type": "execute_result"
    }
   ],
   "source": [
    "stamp_utc.tz_convert('America/New_York')"
   ]
  },
  {
   "cell_type": "code",
   "execution_count": 53,
   "id": "070acf31-e7ef-4099-b812-ccc5a6ae1a67",
   "metadata": {},
   "outputs": [],
   "source": [
    "#You can also pass a time zone when creating a Timestamp\n",
    "stamp_moscow = pd.Timestamp('2011-03-12 04:00', tz='Europe/Moscow')"
   ]
  },
  {
   "cell_type": "code",
   "execution_count": 54,
   "id": "85a5d12c-f28d-4dd0-8c01-dad1961d6b35",
   "metadata": {},
   "outputs": [
    {
     "data": {
      "text/plain": [
       "Timestamp('2011-03-12 04:00:00+0300', tz='Europe/Moscow')"
      ]
     },
     "execution_count": 54,
     "metadata": {},
     "output_type": "execute_result"
    }
   ],
   "source": [
    "stamp_moscow"
   ]
  },
  {
   "cell_type": "code",
   "execution_count": 55,
   "id": "64aedacc-8ee4-4717-9098-b9c46963c26e",
   "metadata": {},
   "outputs": [
    {
     "data": {
      "text/plain": [
       "1299902400000000000"
      ]
     },
     "execution_count": 55,
     "metadata": {},
     "output_type": "execute_result"
    }
   ],
   "source": [
    "#time-zone-aware Timestamp objects store a UTC timestamp value as nanoseconds since the Unix epoch (01-01-1970)\n",
    "stamp_utc.value"
   ]
  },
  {
   "cell_type": "code",
   "execution_count": 56,
   "id": "a29ce1ea-03fd-4b4d-bef5-53ff65a0c741",
   "metadata": {},
   "outputs": [
    {
     "data": {
      "text/plain": [
       "1299902400000000000"
      ]
     },
     "execution_count": 56,
     "metadata": {},
     "output_type": "execute_result"
    }
   ],
   "source": [
    "stamp_utc.tz_convert('America/New_York').value"
   ]
  },
  {
   "cell_type": "code",
   "execution_count": 57,
   "id": "ed4c139e-3936-4af9-a969-f9bfd3ecbd31",
   "metadata": {},
   "outputs": [],
   "source": [
    "#When we perform time arithmetic with DateOffset objects, pandas respects DST.\n",
    "#Let's make stamps occurring right before DST transitions.\n",
    "stamp = pd.Timestamp('2012-03-11 01:30', tz='US/Eastern')"
   ]
  },
  {
   "cell_type": "code",
   "execution_count": 58,
   "id": "d40f2d1a-5e14-418c-8f6d-f9f8da221a87",
   "metadata": {},
   "outputs": [
    {
     "data": {
      "text/plain": [
       "Timestamp('2012-03-11 01:30:00-0500', tz='US/Eastern')"
      ]
     },
     "execution_count": 58,
     "metadata": {},
     "output_type": "execute_result"
    }
   ],
   "source": [
    "stamp"
   ]
  },
  {
   "cell_type": "code",
   "execution_count": 59,
   "id": "28248503-fc55-4723-99a9-2b45f70ea72c",
   "metadata": {},
   "outputs": [
    {
     "data": {
      "text/plain": [
       "Timestamp('2012-03-11 03:30:00-0400', tz='US/Eastern')"
      ]
     },
     "execution_count": 59,
     "metadata": {},
     "output_type": "execute_result"
    }
   ],
   "source": [
    "stamp + Hour() #two hour difference because DST begins"
   ]
  },
  {
   "cell_type": "code",
   "execution_count": 60,
   "id": "6985a57c-27d0-414c-b9f7-3b2bea9931c1",
   "metadata": {},
   "outputs": [],
   "source": [
    "#90 minutes before transitioning out of DST\n",
    "stamp = pd.Timestamp('2012-11-04 00:30', tz='US/Eastern')"
   ]
  },
  {
   "cell_type": "code",
   "execution_count": 61,
   "id": "7f5d5a86-1135-4c0e-b830-598a82f48704",
   "metadata": {},
   "outputs": [
    {
     "data": {
      "text/plain": [
       "Timestamp('2012-11-04 00:30:00-0400', tz='US/Eastern')"
      ]
     },
     "execution_count": 61,
     "metadata": {},
     "output_type": "execute_result"
    }
   ],
   "source": [
    "stamp"
   ]
  },
  {
   "cell_type": "code",
   "execution_count": 62,
   "id": "a410e40c-8b2a-438c-ab4d-db3e9f207a22",
   "metadata": {},
   "outputs": [
    {
     "data": {
      "text/plain": [
       "Timestamp('2012-11-04 01:30:00-0500', tz='US/Eastern')"
      ]
     },
     "execution_count": 62,
     "metadata": {},
     "output_type": "execute_result"
    }
   ],
   "source": [
    "stamp + 2 * hour"
   ]
  },
  {
   "cell_type": "code",
   "execution_count": 63,
   "id": "078bcb0f-7e16-4034-8008-10cfba42c22f",
   "metadata": {},
   "outputs": [],
   "source": [
    "#operations between different time zones\n",
    "#if two time series objects with difference time series are added, then we store the result in UTC.\n",
    "#this does not require conversion, as the Timestamps store a value in UTC.\n",
    "dates = pd.date_range('2012-03-07 09:30', periods=10, freq='B')"
   ]
  },
  {
   "cell_type": "code",
   "execution_count": 64,
   "id": "391567a7-867b-4531-abb8-fc3ed101d15d",
   "metadata": {},
   "outputs": [
    {
     "data": {
      "text/plain": [
       "DatetimeIndex(['2012-03-07 09:30:00', '2012-03-08 09:30:00',\n",
       "               '2012-03-09 09:30:00', '2012-03-12 09:30:00',\n",
       "               '2012-03-13 09:30:00', '2012-03-14 09:30:00',\n",
       "               '2012-03-15 09:30:00', '2012-03-16 09:30:00',\n",
       "               '2012-03-19 09:30:00', '2012-03-20 09:30:00'],\n",
       "              dtype='datetime64[ns]', freq='B')"
      ]
     },
     "execution_count": 64,
     "metadata": {},
     "output_type": "execute_result"
    }
   ],
   "source": [
    "dates"
   ]
  },
  {
   "cell_type": "code",
   "execution_count": 65,
   "id": "cb1ce79f-19e7-4897-8d6f-338028565c2d",
   "metadata": {},
   "outputs": [],
   "source": [
    "ts = pd.Series(np.random.standard_normal(len(dates)), index=dates)"
   ]
  },
  {
   "cell_type": "code",
   "execution_count": 66,
   "id": "b15d26ef-11ba-4d9b-b4a5-568037dbbcd5",
   "metadata": {},
   "outputs": [
    {
     "data": {
      "text/plain": [
       "2012-03-07 09:30:00   -1.073889\n",
       "2012-03-08 09:30:00    0.250145\n",
       "2012-03-09 09:30:00   -0.176619\n",
       "2012-03-12 09:30:00    1.006232\n",
       "2012-03-13 09:30:00    0.140329\n",
       "2012-03-14 09:30:00   -0.127688\n",
       "2012-03-15 09:30:00    0.182961\n",
       "2012-03-16 09:30:00   -0.105899\n",
       "2012-03-19 09:30:00    0.866445\n",
       "2012-03-20 09:30:00    1.484315\n",
       "Freq: B, dtype: float64"
      ]
     },
     "execution_count": 66,
     "metadata": {},
     "output_type": "execute_result"
    }
   ],
   "source": [
    "ts"
   ]
  },
  {
   "cell_type": "code",
   "execution_count": 67,
   "id": "0316801f-1813-442d-a9a5-70ad61b176cb",
   "metadata": {},
   "outputs": [],
   "source": [
    "ts1 = ts[:7].tz_localize('Europe/London')"
   ]
  },
  {
   "cell_type": "code",
   "execution_count": 68,
   "id": "c4a6c174-137f-4c65-967d-32e6e221686b",
   "metadata": {},
   "outputs": [],
   "source": [
    "ts2 = ts1[2:].tz_convert('Europe/Moscow')"
   ]
  },
  {
   "cell_type": "code",
   "execution_count": 69,
   "id": "ca7fc91a-3123-4368-b1b9-08466cc06866",
   "metadata": {},
   "outputs": [
    {
     "data": {
      "text/plain": [
       "2012-03-07 09:30:00+00:00   -1.073889\n",
       "2012-03-08 09:30:00+00:00    0.250145\n",
       "2012-03-09 09:30:00+00:00   -0.176619\n",
       "2012-03-12 09:30:00+00:00    1.006232\n",
       "2012-03-13 09:30:00+00:00    0.140329\n",
       "2012-03-14 09:30:00+00:00   -0.127688\n",
       "2012-03-15 09:30:00+00:00    0.182961\n",
       "dtype: float64"
      ]
     },
     "execution_count": 69,
     "metadata": {},
     "output_type": "execute_result"
    }
   ],
   "source": [
    "ts1"
   ]
  },
  {
   "cell_type": "code",
   "execution_count": 70,
   "id": "41a52d12-bc71-4142-bb62-f67c1a20febc",
   "metadata": {},
   "outputs": [
    {
     "data": {
      "text/plain": [
       "2012-03-09 13:30:00+04:00   -0.176619\n",
       "2012-03-12 13:30:00+04:00    1.006232\n",
       "2012-03-13 13:30:00+04:00    0.140329\n",
       "2012-03-14 13:30:00+04:00   -0.127688\n",
       "2012-03-15 13:30:00+04:00    0.182961\n",
       "dtype: float64"
      ]
     },
     "execution_count": 70,
     "metadata": {},
     "output_type": "execute_result"
    }
   ],
   "source": [
    "ts2"
   ]
  },
  {
   "cell_type": "code",
   "execution_count": 71,
   "id": "e1d2a7cc-d86a-4a50-9802-9ec9ffd61215",
   "metadata": {},
   "outputs": [],
   "source": [
    "result = ts1 + ts2"
   ]
  },
  {
   "cell_type": "code",
   "execution_count": 72,
   "id": "54eb130c-8516-4714-8563-cd1191ed2e9f",
   "metadata": {},
   "outputs": [
    {
     "data": {
      "text/plain": [
       "2012-03-07 09:30:00+00:00         NaN\n",
       "2012-03-08 09:30:00+00:00         NaN\n",
       "2012-03-09 09:30:00+00:00   -0.353239\n",
       "2012-03-12 09:30:00+00:00    2.012464\n",
       "2012-03-13 09:30:00+00:00    0.280658\n",
       "2012-03-14 09:30:00+00:00   -0.255375\n",
       "2012-03-15 09:30:00+00:00    0.365921\n",
       "dtype: float64"
      ]
     },
     "execution_count": 72,
     "metadata": {},
     "output_type": "execute_result"
    }
   ],
   "source": [
    "result"
   ]
  },
  {
   "cell_type": "code",
   "execution_count": 73,
   "id": "6e71967a-fe95-4d6e-976d-da5cee0a1181",
   "metadata": {},
   "outputs": [
    {
     "data": {
      "text/plain": [
       "DatetimeIndex(['2012-03-07 09:30:00+00:00', '2012-03-08 09:30:00+00:00',\n",
       "               '2012-03-09 09:30:00+00:00', '2012-03-12 09:30:00+00:00',\n",
       "               '2012-03-13 09:30:00+00:00', '2012-03-14 09:30:00+00:00',\n",
       "               '2012-03-15 09:30:00+00:00'],\n",
       "              dtype='datetime64[ns, UTC]', freq=None)"
      ]
     },
     "execution_count": 73,
     "metadata": {},
     "output_type": "execute_result"
    }
   ],
   "source": [
    "result.index"
   ]
  },
  {
   "cell_type": "code",
   "execution_count": 74,
   "id": "e48f715b-0732-4f2c-abeb-a625857f5d55",
   "metadata": {},
   "outputs": [],
   "source": [
    "#periods and period arithmetic\n",
    "#Periods represent timespans. The pd.Period class represents this datatype.\n",
    "p = pd.Period('2011', freq='A-DEC')"
   ]
  },
  {
   "cell_type": "code",
   "execution_count": 75,
   "id": "6ad7940c-8378-4050-835b-3f31be6af2ac",
   "metadata": {},
   "outputs": [
    {
     "data": {
      "text/plain": [
       "Period('2011', 'A-DEC')"
      ]
     },
     "execution_count": 75,
     "metadata": {},
     "output_type": "execute_result"
    }
   ],
   "source": [
    "p"
   ]
  },
  {
   "cell_type": "code",
   "execution_count": 76,
   "id": "03616e54-3dac-46b3-be37-6e05c604bd1c",
   "metadata": {},
   "outputs": [
    {
     "data": {
      "text/plain": [
       "Period('2016', 'A-DEC')"
      ]
     },
     "execution_count": 76,
     "metadata": {},
     "output_type": "execute_result"
    }
   ],
   "source": [
    "#This period represents the entire year of 2001. The first day is 2011-01-01 and the last is 2011-12-31.\n",
    "p + 5"
   ]
  },
  {
   "cell_type": "code",
   "execution_count": 77,
   "id": "612e8aed-e220-4944-858d-3165deb30968",
   "metadata": {},
   "outputs": [
    {
     "data": {
      "text/plain": [
       "Period('2009', 'A-DEC')"
      ]
     },
     "execution_count": 77,
     "metadata": {},
     "output_type": "execute_result"
    }
   ],
   "source": [
    "p - 2"
   ]
  },
  {
   "cell_type": "code",
   "execution_count": 78,
   "id": "4fa2888c-6d1e-4ede-9672-676342baacb1",
   "metadata": {},
   "outputs": [
    {
     "data": {
      "text/plain": [
       "<3 * YearEnds: month=12>"
      ]
     },
     "execution_count": 78,
     "metadata": {},
     "output_type": "execute_result"
    }
   ],
   "source": [
    "#if two periods have the same frequency, their difference is the number of units between them as a date offset\n",
    "pd.Period('2014', freq='A-DEC') - p"
   ]
  },
  {
   "cell_type": "code",
   "execution_count": 79,
   "id": "bdbf1d53-4cc6-45d2-bbc3-e66c71810481",
   "metadata": {},
   "outputs": [],
   "source": [
    "#regular ranges of periods:\n",
    "#period_range: construct regular ranges of periods\n",
    "periods = pd.period_range('2000-01-01', '2000-06-30', freq='M')"
   ]
  },
  {
   "cell_type": "code",
   "execution_count": 80,
   "id": "743d186f-83a0-463d-9fde-dd44e5776292",
   "metadata": {},
   "outputs": [
    {
     "data": {
      "text/plain": [
       "PeriodIndex(['2000-01', '2000-02', '2000-03', '2000-04', '2000-05', '2000-06'], dtype='period[M]')"
      ]
     },
     "execution_count": 80,
     "metadata": {},
     "output_type": "execute_result"
    }
   ],
   "source": [
    "periods"
   ]
  },
  {
   "cell_type": "code",
   "execution_count": 81,
   "id": "bf7d4ebf-0f27-47ab-95ab-1cf104815276",
   "metadata": {},
   "outputs": [
    {
     "data": {
      "text/plain": [
       "2000-01   -0.715710\n",
       "2000-02   -1.297893\n",
       "2000-03    1.193392\n",
       "2000-04   -0.651776\n",
       "2000-05    0.197270\n",
       "2000-06   -1.650755\n",
       "Freq: M, dtype: float64"
      ]
     },
     "execution_count": 81,
     "metadata": {},
     "output_type": "execute_result"
    }
   ],
   "source": [
    "#the PeriodIndex stores a sequence of periods and can serve as an axis index in any Pandas data structure\n",
    "pd.Series(np.random.standard_normal(6), index=periods)"
   ]
  },
  {
   "cell_type": "code",
   "execution_count": 82,
   "id": "0dd832b8-f7ef-4211-8886-9a776a4fb623",
   "metadata": {},
   "outputs": [],
   "source": [
    "#if we have an Array of strings, we can use a PeriodIndex, which consists of period values\n",
    "values = ['2001Q3', '2002Q2', '2003Q1']"
   ]
  },
  {
   "cell_type": "code",
   "execution_count": 83,
   "id": "c80d2ca6-5850-4a86-9cff-b369777e22e4",
   "metadata": {},
   "outputs": [],
   "source": [
    "index = pd.PeriodIndex(values, freq='Q-DEC')"
   ]
  },
  {
   "cell_type": "code",
   "execution_count": 84,
   "id": "f240091a-848e-47c9-a568-45b1c35ad27e",
   "metadata": {},
   "outputs": [
    {
     "data": {
      "text/plain": [
       "PeriodIndex(['2001Q3', '2002Q2', '2003Q1'], dtype='period[Q-DEC]')"
      ]
     },
     "execution_count": 84,
     "metadata": {},
     "output_type": "execute_result"
    }
   ],
   "source": [
    "index"
   ]
  },
  {
   "cell_type": "code",
   "execution_count": 85,
   "id": "0047847f-9daf-4827-8e96-e71265cf5e7c",
   "metadata": {},
   "outputs": [],
   "source": [
    "#period frequency conversion\n",
    "#We can convert a Period or PeriodIndex from one frequency to another.\n",
    "#Example: Converting an annual period to a monthly period.\n",
    "p = pd.Period('2011', freq='A-DEC')"
   ]
  },
  {
   "cell_type": "code",
   "execution_count": 86,
   "id": "40ef4c1f-46ae-4066-9515-a1a7e3a7309a",
   "metadata": {},
   "outputs": [
    {
     "data": {
      "text/plain": [
       "Period('2011', 'A-DEC')"
      ]
     },
     "execution_count": 86,
     "metadata": {},
     "output_type": "execute_result"
    }
   ],
   "source": [
    "p"
   ]
  },
  {
   "cell_type": "code",
   "execution_count": 87,
   "id": "590a2e6d-c0b7-427c-9f81-0649d8cef51e",
   "metadata": {},
   "outputs": [
    {
     "data": {
      "text/plain": [
       "Period('2011-01', 'M')"
      ]
     },
     "execution_count": 87,
     "metadata": {},
     "output_type": "execute_result"
    }
   ],
   "source": [
    "p.asfreq('M', how='start')"
   ]
  },
  {
   "cell_type": "code",
   "execution_count": 88,
   "id": "f33f4c41-e060-49b4-b071-c9cb2151479d",
   "metadata": {},
   "outputs": [
    {
     "data": {
      "text/plain": [
       "Period('2011-12', 'M')"
      ]
     },
     "execution_count": 88,
     "metadata": {},
     "output_type": "execute_result"
    }
   ],
   "source": [
    "p.asfreq('M', how='end')"
   ]
  },
  {
   "cell_type": "code",
   "execution_count": 89,
   "id": "6bd3e953-97d4-4722-9f02-7b12a67e7894",
   "metadata": {},
   "outputs": [],
   "source": [
    "#Periods for non-calendar fiscal years.\n",
    "p = pd.Period('2011', freq='A-JUN')"
   ]
  },
  {
   "cell_type": "code",
   "execution_count": 90,
   "id": "e5b08af3-ac50-4cbb-8d3b-6fb9711e6438",
   "metadata": {},
   "outputs": [
    {
     "data": {
      "text/plain": [
       "Period('2011', 'A-JUN')"
      ]
     },
     "execution_count": 90,
     "metadata": {},
     "output_type": "execute_result"
    }
   ],
   "source": [
    "p"
   ]
  },
  {
   "cell_type": "code",
   "execution_count": 91,
   "id": "89eab775-02f5-44c3-8d0c-280917d30409",
   "metadata": {},
   "outputs": [
    {
     "data": {
      "text/plain": [
       "Period('2010-07', 'M')"
      ]
     },
     "execution_count": 91,
     "metadata": {},
     "output_type": "execute_result"
    }
   ],
   "source": [
    "p.asfreq('M', how='start')"
   ]
  },
  {
   "cell_type": "code",
   "execution_count": 92,
   "id": "f1023f62-63bc-4ac4-b688-f1558b3fc583",
   "metadata": {},
   "outputs": [
    {
     "data": {
      "text/plain": [
       "Period('2011-06', 'M')"
      ]
     },
     "execution_count": 92,
     "metadata": {},
     "output_type": "execute_result"
    }
   ],
   "source": [
    "p.asfreq('M', how='end')"
   ]
  },
  {
   "cell_type": "code",
   "execution_count": 93,
   "id": "47145fa2-eb19-4855-90da-bab5d806ed90",
   "metadata": {},
   "outputs": [],
   "source": [
    "#Low-frequency to high-frequency conversion: pandas determines the subperiod based on where\n",
    "#the superprior 'belongs'\n",
    "#e.g. 'Aug-2011' may appear to be part of 2011, but it is not. It is part of 2012.\n",
    "p = pd.Period('Aug-2011', 'M')"
   ]
  },
  {
   "cell_type": "code",
   "execution_count": 94,
   "id": "0e1ef8d3-4dd5-45fe-9639-14d54db338e0",
   "metadata": {},
   "outputs": [
    {
     "data": {
      "text/plain": [
       "Period('2012', 'A-JUN')"
      ]
     },
     "execution_count": 94,
     "metadata": {},
     "output_type": "execute_result"
    }
   ],
   "source": [
    "p.asfreq('A-JUN')"
   ]
  },
  {
   "cell_type": "code",
   "execution_count": 95,
   "id": "3f7b0d5d-557c-41bc-9dd5-ee66919bf887",
   "metadata": {},
   "outputs": [],
   "source": [
    "#whole PeriodIndex objects or time series can be converted with these same semantics.\n",
    "periods = pd.period_range('2006', '2009', freq='A-DEC')"
   ]
  },
  {
   "cell_type": "code",
   "execution_count": 96,
   "id": "ad427d34-500c-4208-9f64-4c189f4ba7b3",
   "metadata": {},
   "outputs": [
    {
     "data": {
      "text/plain": [
       "PeriodIndex(['2006', '2007', '2008', '2009'], dtype='period[A-DEC]')"
      ]
     },
     "execution_count": 96,
     "metadata": {},
     "output_type": "execute_result"
    }
   ],
   "source": [
    "periods"
   ]
  },
  {
   "cell_type": "code",
   "execution_count": 97,
   "id": "19a016e8-9e8d-43a9-8428-a1b4ee737f5e",
   "metadata": {},
   "outputs": [],
   "source": [
    "ts = pd.Series(np.random.standard_normal(len(periods)),\n",
    "              index=periods)"
   ]
  },
  {
   "cell_type": "code",
   "execution_count": 98,
   "id": "d49ae9ba-345a-4b46-995f-83b3124084c5",
   "metadata": {},
   "outputs": [
    {
     "data": {
      "text/plain": [
       "2006    0.227203\n",
       "2007    0.426532\n",
       "2008   -0.267964\n",
       "2009   -0.982436\n",
       "Freq: A-DEC, dtype: float64"
      ]
     },
     "execution_count": 98,
     "metadata": {},
     "output_type": "execute_result"
    }
   ],
   "source": [
    "ts"
   ]
  },
  {
   "cell_type": "code",
   "execution_count": 99,
   "id": "315272f1-9f57-4856-ba1d-d26c91288acc",
   "metadata": {},
   "outputs": [
    {
     "data": {
      "text/plain": [
       "2006-01    0.227203\n",
       "2007-01    0.426532\n",
       "2008-01   -0.267964\n",
       "2009-01   -0.982436\n",
       "Freq: M, dtype: float64"
      ]
     },
     "execution_count": 99,
     "metadata": {},
     "output_type": "execute_result"
    }
   ],
   "source": [
    "ts.asfreq('M', how='start')"
   ]
  },
  {
   "cell_type": "code",
   "execution_count": 100,
   "id": "e59fe6b6-b27b-42b2-982b-28eb2347f8aa",
   "metadata": {},
   "outputs": [
    {
     "data": {
      "text/plain": [
       "2006-12-29    0.227203\n",
       "2007-12-31    0.426532\n",
       "2008-12-31   -0.267964\n",
       "2009-12-31   -0.982436\n",
       "Freq: B, dtype: float64"
      ]
     },
     "execution_count": 100,
     "metadata": {},
     "output_type": "execute_result"
    }
   ],
   "source": [
    "#Above, we use monthly periods starting with the first annual month in each annual period.\n",
    "#Let's use the \"B\" frequency.\n",
    "ts.asfreq('B', how='end')"
   ]
  },
  {
   "cell_type": "code",
   "execution_count": 101,
   "id": "4f806e37-50d0-44dd-b01d-617279a01eda",
   "metadata": {},
   "outputs": [],
   "source": [
    "#quarterly period frequencies\n",
    "#Frequently used in accounting, finance, and other fields.\n",
    "#Many times, the quarterly data corresponds to a fiscal year end.\n",
    "#2012Q4 means different things for different periods.\n",
    "p = pd.Period('2012Q4', freq='Q-JAN')"
   ]
  },
  {
   "cell_type": "code",
   "execution_count": 102,
   "id": "caca65b5-4fd0-4eb5-bfc0-4c2aba7a0e99",
   "metadata": {},
   "outputs": [
    {
     "data": {
      "text/plain": [
       "Period('2012Q4', 'Q-JAN')"
      ]
     },
     "execution_count": 102,
     "metadata": {},
     "output_type": "execute_result"
    }
   ],
   "source": [
    "p"
   ]
  },
  {
   "cell_type": "code",
   "execution_count": 103,
   "id": "c03929ca-853f-44e5-b675-2a186b090a8f",
   "metadata": {},
   "outputs": [
    {
     "data": {
      "text/plain": [
       "Period('2011-11-01', 'D')"
      ]
     },
     "execution_count": 103,
     "metadata": {},
     "output_type": "execute_result"
    }
   ],
   "source": [
    "#If we had a fiscal year ending in January, then 2012Q4 runs through January 2012.\n",
    "p.asfreq('D', how='start')"
   ]
  },
  {
   "cell_type": "code",
   "execution_count": 104,
   "id": "ab15d27e-eedf-44e6-9b9b-fbe32bb16296",
   "metadata": {},
   "outputs": [
    {
     "data": {
      "text/plain": [
       "Period('2012-01-31', 'D')"
      ]
     },
     "execution_count": 104,
     "metadata": {},
     "output_type": "execute_result"
    }
   ],
   "source": [
    "p.asfreq('D', how='end')"
   ]
  },
  {
   "cell_type": "code",
   "execution_count": 105,
   "id": "b70d3f8f-aa7b-42aa-b1a7-b1c44554fd19",
   "metadata": {},
   "outputs": [],
   "source": [
    "#Thus we can do period arithmetic, so we can get the timestamp at 4pm on the second-to-last business day.\n",
    "p4pm = (p.asfreq('B', how='end') - 1).asfreq('T', how='start') + 16 * 6"
   ]
  },
  {
   "cell_type": "code",
   "execution_count": 106,
   "id": "0ace8e1f-aea7-4d01-bbb7-049cf675199d",
   "metadata": {},
   "outputs": [
    {
     "data": {
      "text/plain": [
       "Period('2012-01-30 01:36', 'T')"
      ]
     },
     "execution_count": 106,
     "metadata": {},
     "output_type": "execute_result"
    }
   ],
   "source": [
    "p4pm"
   ]
  },
  {
   "cell_type": "code",
   "execution_count": 107,
   "id": "8061d077-08bf-424a-a055-be29b6e960cf",
   "metadata": {},
   "outputs": [
    {
     "data": {
      "text/plain": [
       "Timestamp('2012-01-30 01:36:00')"
      ]
     },
     "execution_count": 107,
     "metadata": {},
     "output_type": "execute_result"
    }
   ],
   "source": [
    "p4pm.to_timestamp() #period.to_timestamp = returns the timestamp at the start of the priod"
   ]
  },
  {
   "cell_type": "code",
   "execution_count": 108,
   "id": "41c26980-ca79-49b5-add4-b15c348481aa",
   "metadata": {},
   "outputs": [],
   "source": [
    "#Generating a quarterly range.\n",
    "periods = pd.period_range('2011Q3', '2012Q4', freq='Q-JAN')"
   ]
  },
  {
   "cell_type": "code",
   "execution_count": 109,
   "id": "e58010c8-abe5-442a-97d8-0b69c088af93",
   "metadata": {},
   "outputs": [],
   "source": [
    "ts = pd.Series(np.arange(len(periods)), index=periods)"
   ]
  },
  {
   "cell_type": "code",
   "execution_count": 110,
   "id": "35833863-19d5-475e-a0e2-6fd9802724c0",
   "metadata": {},
   "outputs": [
    {
     "data": {
      "text/plain": [
       "2011Q3    0\n",
       "2011Q4    1\n",
       "2012Q1    2\n",
       "2012Q2    3\n",
       "2012Q3    4\n",
       "2012Q4    5\n",
       "Freq: Q-JAN, dtype: int64"
      ]
     },
     "execution_count": 110,
     "metadata": {},
     "output_type": "execute_result"
    }
   ],
   "source": [
    "ts"
   ]
  },
  {
   "cell_type": "code",
   "execution_count": 111,
   "id": "74dba149-6b1b-40b8-b3a1-b6c624fccd7f",
   "metadata": {},
   "outputs": [],
   "source": [
    "new_periods = (periods.asfreq('B', 'end') - 1).asfreq('H', 'start') + 16"
   ]
  },
  {
   "cell_type": "code",
   "execution_count": 112,
   "id": "69927f33-3a9a-4942-b293-b2e9041c0579",
   "metadata": {},
   "outputs": [
    {
     "data": {
      "text/plain": [
       "PeriodIndex(['2010-10-28 16:00', '2011-01-28 16:00', '2011-04-28 16:00',\n",
       "             '2011-07-28 16:00', '2011-10-28 16:00', '2012-01-30 16:00'],\n",
       "            dtype='period[H]')"
      ]
     },
     "execution_count": 112,
     "metadata": {},
     "output_type": "execute_result"
    }
   ],
   "source": [
    "new_periods"
   ]
  },
  {
   "cell_type": "code",
   "execution_count": 113,
   "id": "d015c46b-648e-4555-a9e5-c09b2803479f",
   "metadata": {},
   "outputs": [],
   "source": [
    "ts.index = new_periods.to_timestamp()"
   ]
  },
  {
   "cell_type": "code",
   "execution_count": 114,
   "id": "1f0a585c-a106-485c-8ea9-a71b3c8c7fb7",
   "metadata": {},
   "outputs": [
    {
     "data": {
      "text/plain": [
       "2010-10-28 16:00:00    0\n",
       "2011-01-28 16:00:00    1\n",
       "2011-04-28 16:00:00    2\n",
       "2011-07-28 16:00:00    3\n",
       "2011-10-28 16:00:00    4\n",
       "2012-01-30 16:00:00    5\n",
       "dtype: int64"
      ]
     },
     "execution_count": 114,
     "metadata": {},
     "output_type": "execute_result"
    }
   ],
   "source": [
    "ts"
   ]
  },
  {
   "cell_type": "code",
   "execution_count": null,
   "id": "ee78d07d-42ca-4a85-bab2-2352ba8e01a6",
   "metadata": {},
   "outputs": [],
   "source": []
  }
 ],
 "metadata": {
  "kernelspec": {
   "display_name": "Python 3 (ipykernel)",
   "language": "python",
   "name": "python3"
  },
  "language_info": {
   "codemirror_mode": {
    "name": "ipython",
    "version": 3
   },
   "file_extension": ".py",
   "mimetype": "text/x-python",
   "name": "python",
   "nbconvert_exporter": "python",
   "pygments_lexer": "ipython3",
   "version": "3.10.8"
  }
 },
 "nbformat": 4,
 "nbformat_minor": 5
}
