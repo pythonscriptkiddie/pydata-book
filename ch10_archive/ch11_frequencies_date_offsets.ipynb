{
 "cells": [
  {
   "cell_type": "code",
   "execution_count": 1,
   "id": "da1f3831-683b-413f-bf6a-e4e5ac869bb7",
   "metadata": {},
   "outputs": [],
   "source": [
    "from datetime import datetime\n",
    "import numpy as np\n",
    "import pandas as pd\n",
    "from pandas.tseries.offsets import Hour, Minute, Day, MonthEnd"
   ]
  },
  {
   "cell_type": "code",
   "execution_count": 2,
   "id": "9a2fa8e2-5e2c-4515-bb1d-66f3150670ce",
   "metadata": {},
   "outputs": [],
   "source": [
    "#frequencies in pandas consist of two components:\n",
    "#1) base frequency\n",
    "#2) multiplier\n",
    "#'M' is for monthly, 'H' is for hourly.\n",
    "#for the rfrequency, there is a date offset.\n",
    "#hours are represented by the \"Hour\" class\n",
    "hour = Hour()"
   ]
  },
  {
   "cell_type": "code",
   "execution_count": 3,
   "id": "43cae646-4085-4511-a20d-e1b3ee330d6b",
   "metadata": {},
   "outputs": [
    {
     "data": {
      "text/plain": [
       "<Hour>"
      ]
     },
     "execution_count": 3,
     "metadata": {},
     "output_type": "execute_result"
    }
   ],
   "source": [
    "hour"
   ]
  },
  {
   "cell_type": "code",
   "execution_count": 4,
   "id": "8b80388d-b823-49d4-93ce-4ab527aed9e6",
   "metadata": {},
   "outputs": [],
   "source": [
    "#we can define a multiple of an offset by passing an integer\n",
    "four_hours = Hour(4)"
   ]
  },
  {
   "cell_type": "code",
   "execution_count": 5,
   "id": "db026171-b8b3-49f1-87e6-1907770cf084",
   "metadata": {},
   "outputs": [
    {
     "data": {
      "text/plain": [
       "<4 * Hours>"
      ]
     },
     "execution_count": 5,
     "metadata": {},
     "output_type": "execute_result"
    }
   ],
   "source": [
    "four_hours"
   ]
  },
  {
   "cell_type": "code",
   "execution_count": 6,
   "id": "67b0ea4e-b914-401a-ac2b-ecbfdf5549b0",
   "metadata": {},
   "outputs": [
    {
     "data": {
      "text/plain": [
       "DatetimeIndex(['2000-01-01 00:00:00', '2000-01-01 04:00:00',\n",
       "               '2000-01-01 08:00:00', '2000-01-01 12:00:00',\n",
       "               '2000-01-01 16:00:00', '2000-01-01 20:00:00',\n",
       "               '2000-01-02 00:00:00', '2000-01-02 04:00:00',\n",
       "               '2000-01-02 08:00:00', '2000-01-02 12:00:00',\n",
       "               '2000-01-02 16:00:00', '2000-01-02 20:00:00',\n",
       "               '2000-01-03 00:00:00', '2000-01-03 04:00:00',\n",
       "               '2000-01-03 08:00:00', '2000-01-03 12:00:00',\n",
       "               '2000-01-03 16:00:00', '2000-01-03 20:00:00'],\n",
       "              dtype='datetime64[ns]', freq='4H')"
      ]
     },
     "execution_count": 6,
     "metadata": {},
     "output_type": "execute_result"
    }
   ],
   "source": [
    "#in most applications we do not need to create these, we can use something like \"H\" or \"4H\"\n",
    "pd.date_range('2000-01-01', '2000-01-03 23:59', freq='4H')"
   ]
  },
  {
   "cell_type": "code",
   "execution_count": 7,
   "id": "77cc608a-c9ce-4ada-9987-4060fec6692f",
   "metadata": {},
   "outputs": [
    {
     "data": {
      "text/plain": [
       "<150 * Minutes>"
      ]
     },
     "execution_count": 7,
     "metadata": {},
     "output_type": "execute_result"
    }
   ],
   "source": [
    "#offsets can often be combined using addition\n",
    "Hour(2) + Minute(30)"
   ]
  },
  {
   "cell_type": "code",
   "execution_count": 8,
   "id": "d44b7330-80d9-4fa3-9d62-4f2e9a05d19f",
   "metadata": {},
   "outputs": [
    {
     "data": {
      "text/plain": [
       "DatetimeIndex(['2000-01-01 00:00:00', '2000-01-01 04:00:00',\n",
       "               '2000-01-01 08:00:00', '2000-01-01 12:00:00',\n",
       "               '2000-01-01 16:00:00', '2000-01-01 20:00:00',\n",
       "               '2000-01-02 00:00:00', '2000-01-02 04:00:00',\n",
       "               '2000-01-02 08:00:00', '2000-01-02 12:00:00',\n",
       "               '2000-01-02 16:00:00', '2000-01-02 20:00:00',\n",
       "               '2000-01-03 00:00:00', '2000-01-03 04:00:00',\n",
       "               '2000-01-03 08:00:00', '2000-01-03 12:00:00',\n",
       "               '2000-01-03 16:00:00', '2000-01-03 20:00:00'],\n",
       "              dtype='datetime64[ns]', freq='4H')"
      ]
     },
     "execution_count": 8,
     "metadata": {},
     "output_type": "execute_result"
    }
   ],
   "source": [
    "#in most applications we do not need to create these, we can use something like \"H\" or \"4H\"\n",
    "pd.date_range('2000-01-01', '2000-01-03 23:59', freq=four_hours) #but here we use \"four_hours\""
   ]
  },
  {
   "cell_type": "code",
   "execution_count": 9,
   "id": "bde0a6c5-01ea-4bef-94a6-6d9a559f6c97",
   "metadata": {},
   "outputs": [
    {
     "data": {
      "text/plain": [
       "DatetimeIndex(['2000-01-01 00:00:00', '2000-01-01 01:30:00',\n",
       "               '2000-01-01 03:00:00', '2000-01-01 04:30:00',\n",
       "               '2000-01-01 06:00:00', '2000-01-01 07:30:00',\n",
       "               '2000-01-01 09:00:00', '2000-01-01 10:30:00',\n",
       "               '2000-01-01 12:00:00', '2000-01-01 13:30:00'],\n",
       "              dtype='datetime64[ns]', freq='90T')"
      ]
     },
     "execution_count": 9,
     "metadata": {},
     "output_type": "execute_result"
    }
   ],
   "source": [
    "#we can pass frequency strings like \"1hr30min\" \n",
    "pd.date_range('2000-01-01', periods=10, freq='1h30min')"
   ]
  },
  {
   "cell_type": "code",
   "execution_count": 10,
   "id": "8e83676c-1940-4dc8-8332-af5b8bb97033",
   "metadata": {},
   "outputs": [
    {
     "data": {
      "text/plain": [
       "DatetimeIndex(['2000-01-01', '2000-04-01', '2000-07-01', '2000-10-01'], dtype='datetime64[ns]', freq='QS-JAN')"
      ]
     },
     "execution_count": 10,
     "metadata": {},
     "output_type": "execute_result"
    }
   ],
   "source": [
    "#some frequencies have points that are not evenly spaced\n",
    "pd.date_range('2000-01-01', '2000-12-31', freq='QS-JAN')"
   ]
  },
  {
   "cell_type": "code",
   "execution_count": 11,
   "id": "caef9bf5-607e-45ca-a5bd-1fec54019f72",
   "metadata": {},
   "outputs": [],
   "source": [
    "#week of month dates\n",
    "#we can get the third friday of each month\n",
    "monthly_dates = pd.date_range('2012-01-01', '2012-09-01', freq='WOM-3FRI')"
   ]
  },
  {
   "cell_type": "code",
   "execution_count": 12,
   "id": "20254a2d-2a75-453f-901d-db1f776872e3",
   "metadata": {},
   "outputs": [
    {
     "data": {
      "text/plain": [
       "[Timestamp('2012-01-20 00:00:00', freq='WOM-3FRI'),\n",
       " Timestamp('2012-02-17 00:00:00', freq='WOM-3FRI'),\n",
       " Timestamp('2012-03-16 00:00:00', freq='WOM-3FRI'),\n",
       " Timestamp('2012-04-20 00:00:00', freq='WOM-3FRI'),\n",
       " Timestamp('2012-05-18 00:00:00', freq='WOM-3FRI'),\n",
       " Timestamp('2012-06-15 00:00:00', freq='WOM-3FRI'),\n",
       " Timestamp('2012-07-20 00:00:00', freq='WOM-3FRI'),\n",
       " Timestamp('2012-08-17 00:00:00', freq='WOM-3FRI')]"
      ]
     },
     "execution_count": 12,
     "metadata": {},
     "output_type": "execute_result"
    }
   ],
   "source": [
    "list(monthly_dates)"
   ]
  },
  {
   "cell_type": "code",
   "execution_count": 13,
   "id": "91539bba-2953-4501-9cb0-db3f76b0542f",
   "metadata": {},
   "outputs": [
    {
     "data": {
      "text/plain": [
       "2000-01-31   -0.616258\n",
       "2000-02-29   -1.164947\n",
       "2000-03-31    0.205786\n",
       "2000-04-30   -1.092521\n",
       "Freq: M, dtype: float64"
      ]
     },
     "execution_count": 13,
     "metadata": {},
     "output_type": "execute_result"
    }
   ],
   "source": [
    "#shifting (leading/lagging) date\n",
    "#move data forward or back through time\n",
    "#without altering index\n",
    "ts = pd.Series(np.random.standard_normal(4),\n",
    "              index=pd.date_range('2000-01-01', periods=4, freq='M'))\n",
    "\n",
    "ts"
   ]
  },
  {
   "cell_type": "code",
   "execution_count": 14,
   "id": "329f0b75-f216-40c9-bb5f-a3704cf061df",
   "metadata": {},
   "outputs": [
    {
     "data": {
      "text/plain": [
       "2000-01-31         NaN\n",
       "2000-02-29         NaN\n",
       "2000-03-31   -0.616258\n",
       "2000-04-30   -1.164947\n",
       "Freq: M, dtype: float64"
      ]
     },
     "execution_count": 14,
     "metadata": {},
     "output_type": "execute_result"
    }
   ],
   "source": [
    "ts.shift(2) #missing data introduced at the beginning"
   ]
  },
  {
   "cell_type": "code",
   "execution_count": 15,
   "id": "d44377e6-87aa-4a90-8f32-3c08864b16bc",
   "metadata": {},
   "outputs": [
    {
     "data": {
      "text/plain": [
       "2000-01-31    0.205786\n",
       "2000-02-29   -1.092521\n",
       "2000-03-31         NaN\n",
       "2000-04-30         NaN\n",
       "Freq: M, dtype: float64"
      ]
     },
     "execution_count": 15,
     "metadata": {},
     "output_type": "execute_result"
    }
   ],
   "source": [
    "ts.shift(-2) #missing data introduced at the end"
   ]
  },
  {
   "cell_type": "code",
   "execution_count": 16,
   "id": "d8be49bf-f06d-41e6-87a5-627657f32fd2",
   "metadata": {},
   "outputs": [
    {
     "data": {
      "text/plain": [
       "2000-01-31         NaN\n",
       "2000-02-29    0.890355\n",
       "2000-03-31   -1.176648\n",
       "2000-04-30   -6.309020\n",
       "Freq: M, dtype: float64"
      ]
     },
     "execution_count": 16,
     "metadata": {},
     "output_type": "execute_result"
    }
   ],
   "source": [
    "#one reason we use shift is to calculate consecutive percent changes in a time series or multiple time series\n",
    "ts / ts.shift(1) - 1"
   ]
  },
  {
   "cell_type": "code",
   "execution_count": 17,
   "id": "cf96d30f-b788-47c6-bf5b-ed70592c8f3e",
   "metadata": {},
   "outputs": [
    {
     "data": {
      "text/plain": [
       "2000-02-29   -0.616258\n",
       "2000-03-31   -1.164947\n",
       "2000-04-30    0.205786\n",
       "2000-05-31   -1.092521\n",
       "Freq: M, dtype: float64"
      ]
     },
     "execution_count": 17,
     "metadata": {},
     "output_type": "execute_result"
    }
   ],
   "source": [
    "#naive shifts leave the index unmodified, so we can pass the frequency to advance BOTH timestamp and date, rather than just data\n",
    "ts.shift(freq='M')"
   ]
  },
  {
   "cell_type": "code",
   "execution_count": 18,
   "id": "e2591622-ae5f-46ce-bb01-f3ef41fd2deb",
   "metadata": {},
   "outputs": [
    {
     "data": {
      "text/plain": [
       "2000-02-03   -0.616258\n",
       "2000-03-03   -1.164947\n",
       "2000-04-03    0.205786\n",
       "2000-05-03   -1.092521\n",
       "dtype: float64"
      ]
     },
     "execution_count": 18,
     "metadata": {},
     "output_type": "execute_result"
    }
   ],
   "source": [
    "#other frequencies can be passed also\n",
    "ts.shift(3, freq='D')"
   ]
  },
  {
   "cell_type": "code",
   "execution_count": 19,
   "id": "890b1969-7cab-4673-bd0c-4ec98fd48c69",
   "metadata": {},
   "outputs": [
    {
     "data": {
      "text/plain": [
       "2000-01-31 01:30:00   -0.616258\n",
       "2000-02-29 01:30:00   -1.164947\n",
       "2000-03-31 01:30:00    0.205786\n",
       "2000-04-30 01:30:00   -1.092521\n",
       "dtype: float64"
      ]
     },
     "execution_count": 19,
     "metadata": {},
     "output_type": "execute_result"
    }
   ],
   "source": [
    "ts.shift(1, freq='90T') #Note: the freq parameter indicates the offset applies to the timestamps but does not modify the data."
   ]
  },
  {
   "cell_type": "code",
   "execution_count": 20,
   "id": "e9692d19-273c-4198-b20f-c34b15718f99",
   "metadata": {},
   "outputs": [],
   "source": [
    "#date offsets work with datetime or timestamp objects\n",
    "now = datetime(2011, 11, 17)"
   ]
  },
  {
   "cell_type": "code",
   "execution_count": 21,
   "id": "c71a4f96-b962-4013-a928-3a8fdc963916",
   "metadata": {},
   "outputs": [
    {
     "data": {
      "text/plain": [
       "Timestamp('2011-11-20 00:00:00')"
      ]
     },
     "execution_count": 21,
     "metadata": {},
     "output_type": "execute_result"
    }
   ],
   "source": [
    "now + 3 * Day()"
   ]
  },
  {
   "cell_type": "code",
   "execution_count": 22,
   "id": "c55acd35-484f-4acc-a5f8-72c77a68417a",
   "metadata": {},
   "outputs": [
    {
     "data": {
      "text/plain": [
       "Timestamp('2011-11-30 00:00:00')"
      ]
     },
     "execution_count": 22,
     "metadata": {},
     "output_type": "execute_result"
    }
   ],
   "source": [
    "#adding an anchored offset like MonthEnd, then the first inrement will \"roll forward\"\n",
    "now + MonthEnd()"
   ]
  },
  {
   "cell_type": "code",
   "execution_count": 23,
   "id": "9e0f3896-78e3-495f-a5be-544811fd53cf",
   "metadata": {},
   "outputs": [
    {
     "data": {
      "text/plain": [
       "Timestamp('2011-12-31 00:00:00')"
      ]
     },
     "execution_count": 23,
     "metadata": {},
     "output_type": "execute_result"
    }
   ],
   "source": [
    "now + MonthEnd(2)"
   ]
  },
  {
   "cell_type": "code",
   "execution_count": 24,
   "id": "6b6f71c8-d7be-4c68-a825-4036fa8dc04c",
   "metadata": {},
   "outputs": [],
   "source": [
    "#anchored offsets explicitly roll dates forward by simply using their rollforward and rollback methods, respectively.\n",
    "offset = MonthEnd()"
   ]
  },
  {
   "cell_type": "code",
   "execution_count": 25,
   "id": "2f292fd9-cb4c-4d8d-b0ce-c9f01ca4afaf",
   "metadata": {},
   "outputs": [
    {
     "data": {
      "text/plain": [
       "Timestamp('2011-11-30 00:00:00')"
      ]
     },
     "execution_count": 25,
     "metadata": {},
     "output_type": "execute_result"
    }
   ],
   "source": [
    "offset.rollforward(now)"
   ]
  },
  {
   "cell_type": "code",
   "execution_count": 26,
   "id": "f0243eaa-0c17-4d6b-a81e-13fab30d8bba",
   "metadata": {},
   "outputs": [
    {
     "data": {
      "text/plain": [
       "Timestamp('2011-10-31 00:00:00')"
      ]
     },
     "execution_count": 26,
     "metadata": {},
     "output_type": "execute_result"
    }
   ],
   "source": [
    "offset.rollback(now)"
   ]
  },
  {
   "cell_type": "code",
   "execution_count": 27,
   "id": "12bf370d-feba-43cc-86d9-c5075e9712bc",
   "metadata": {},
   "outputs": [],
   "source": [
    "#creative use of date offsets: use these methods with groupby\n",
    "ts = pd.Series(np.random.standard_normal(20),\n",
    "              index=pd.date_range('2001-01-15', periods=20, freq='4D'))"
   ]
  },
  {
   "cell_type": "code",
   "execution_count": 28,
   "id": "bb3efa55-2cc3-4eac-8479-c01b60d02e35",
   "metadata": {},
   "outputs": [
    {
     "data": {
      "text/plain": [
       "2001-01-15   -1.601320\n",
       "2001-01-19    0.130424\n",
       "2001-01-23   -1.019238\n",
       "2001-01-27    1.025176\n",
       "2001-01-31   -0.836085\n",
       "2001-02-04    0.935818\n",
       "2001-02-08    0.905923\n",
       "2001-02-12    0.258781\n",
       "2001-02-16   -2.209227\n",
       "2001-02-20    0.719798\n",
       "2001-02-24    1.100150\n",
       "2001-02-28   -1.124986\n",
       "2001-03-04   -0.228383\n",
       "2001-03-08    2.238445\n",
       "2001-03-12   -0.852517\n",
       "2001-03-16   -0.547619\n",
       "2001-03-20   -0.096925\n",
       "2001-03-24    0.458395\n",
       "2001-03-28   -0.598085\n",
       "2001-04-01    0.509224\n",
       "Freq: 4D, dtype: float64"
      ]
     },
     "execution_count": 28,
     "metadata": {},
     "output_type": "execute_result"
    }
   ],
   "source": [
    "ts"
   ]
  },
  {
   "cell_type": "code",
   "execution_count": 29,
   "id": "f04f8e1f-cd41-49c4-a433-cbd6f932bcbf",
   "metadata": {},
   "outputs": [
    {
     "data": {
      "text/plain": [
       "2001-01-31   -0.460209\n",
       "2001-02-28    0.083751\n",
       "2001-03-31    0.053330\n",
       "2001-04-30    0.509224\n",
       "dtype: float64"
      ]
     },
     "execution_count": 29,
     "metadata": {},
     "output_type": "execute_result"
    }
   ],
   "source": [
    "ts.groupby(MonthEnd().rollforward).mean()"
   ]
  },
  {
   "cell_type": "code",
   "execution_count": 30,
   "id": "dbd1c90c-2798-43c6-969e-8557f12225e8",
   "metadata": {},
   "outputs": [
    {
     "data": {
      "text/plain": [
       "2001-01-31   -0.460209\n",
       "2001-02-28    0.083751\n",
       "2001-03-31    0.053330\n",
       "2001-04-30    0.509224\n",
       "Freq: M, dtype: float64"
      ]
     },
     "execution_count": 30,
     "metadata": {},
     "output_type": "execute_result"
    }
   ],
   "source": [
    "#easier and faster waqy to do this is to resample\n",
    "ts.resample('M').mean()"
   ]
  },
  {
   "cell_type": "code",
   "execution_count": 31,
   "id": "f693e301-a8b9-4d14-be06-d3d3203f6168",
   "metadata": {},
   "outputs": [],
   "source": [
    "#time zones\n",
    "import pytz"
   ]
  },
  {
   "cell_type": "code",
   "execution_count": 32,
   "id": "b9b96aad-e0c5-461c-b66c-cd85682abe8f",
   "metadata": {},
   "outputs": [
    {
     "data": {
      "text/plain": [
       "['US/Eastern', 'US/Hawaii', 'US/Mountain', 'US/Pacific', 'UTC']"
      ]
     },
     "execution_count": 32,
     "metadata": {},
     "output_type": "execute_result"
    }
   ],
   "source": [
    "pytz.common_timezones[-5:]"
   ]
  },
  {
   "cell_type": "code",
   "execution_count": 33,
   "id": "8a739ddb-17c3-418c-a2bc-ec1aa72680fa",
   "metadata": {},
   "outputs": [],
   "source": [
    "#pz.timezone creates a time zone object\n",
    "tz = pytz.timezone('America/New_York')"
   ]
  },
  {
   "cell_type": "code",
   "execution_count": 34,
   "id": "618b2b66-fcba-45be-b764-a4361c9d073a",
   "metadata": {},
   "outputs": [
    {
     "data": {
      "text/plain": [
       "<DstTzInfo 'America/New_York' LMT-1 day, 19:04:00 STD>"
      ]
     },
     "execution_count": 34,
     "metadata": {},
     "output_type": "execute_result"
    }
   ],
   "source": [
    "tz"
   ]
  },
  {
   "cell_type": "code",
   "execution_count": 35,
   "id": "8c21a11e-86a6-49fa-9ae0-342a0aeda3cb",
   "metadata": {},
   "outputs": [],
   "source": [
    "#time series in pandas are, by default, time zone naive\n",
    "dates = pd.date_range('2012-03-09 9:30', periods=6)"
   ]
  },
  {
   "cell_type": "code",
   "execution_count": 36,
   "id": "a1fb28de-9a0a-4446-823c-67cb76e90efb",
   "metadata": {},
   "outputs": [],
   "source": [
    "ts = pd.Series(np.random.standard_normal(len(dates)), index=dates)"
   ]
  },
  {
   "cell_type": "code",
   "execution_count": 37,
   "id": "c9608c6a-7627-4f44-96ac-08eaa745c215",
   "metadata": {},
   "outputs": [
    {
     "data": {
      "text/plain": [
       "2012-03-09 09:30:00    0.215783\n",
       "2012-03-10 09:30:00   -0.258104\n",
       "2012-03-11 09:30:00    1.817215\n",
       "2012-03-12 09:30:00   -0.090038\n",
       "2012-03-13 09:30:00    0.249517\n",
       "2012-03-14 09:30:00    1.246313\n",
       "Freq: D, dtype: float64"
      ]
     },
     "execution_count": 37,
     "metadata": {},
     "output_type": "execute_result"
    }
   ],
   "source": [
    "ts"
   ]
  },
  {
   "cell_type": "code",
   "execution_count": 38,
   "id": "b5912179-ba9f-4f20-bf40-eaaea43cb53b",
   "metadata": {},
   "outputs": [
    {
     "name": "stdout",
     "output_type": "stream",
     "text": [
      "None\n"
     ]
    }
   ],
   "source": [
    "#index tz field is None\n",
    "print(ts.index.tz)"
   ]
  },
  {
   "cell_type": "code",
   "execution_count": 39,
   "id": "19709d30-41ad-4bd7-9efb-51cbdbcb57eb",
   "metadata": {},
   "outputs": [
    {
     "data": {
      "text/plain": [
       "DatetimeIndex(['2012-03-09 09:30:00+00:00', '2012-03-10 09:30:00+00:00',\n",
       "               '2012-03-11 09:30:00+00:00', '2012-03-12 09:30:00+00:00',\n",
       "               '2012-03-13 09:30:00+00:00', '2012-03-14 09:30:00+00:00',\n",
       "               '2012-03-15 09:30:00+00:00', '2012-03-16 09:30:00+00:00',\n",
       "               '2012-03-17 09:30:00+00:00', '2012-03-18 09:30:00+00:00'],\n",
       "              dtype='datetime64[ns, UTC]', freq='D')"
      ]
     },
     "execution_count": 39,
     "metadata": {},
     "output_type": "execute_result"
    }
   ],
   "source": [
    "#generate date ranges using time zone preset\n",
    "pd.date_range('2012-03-09 9:30', periods=10, tz='UTC')"
   ]
  },
  {
   "cell_type": "code",
   "execution_count": 40,
   "id": "21c79c05-2509-4a58-87ef-9f19e8b13598",
   "metadata": {},
   "outputs": [
    {
     "data": {
      "text/plain": [
       "2012-03-09 09:30:00    0.215783\n",
       "2012-03-10 09:30:00   -0.258104\n",
       "2012-03-11 09:30:00    1.817215\n",
       "2012-03-12 09:30:00   -0.090038\n",
       "2012-03-13 09:30:00    0.249517\n",
       "2012-03-14 09:30:00    1.246313\n",
       "Freq: D, dtype: float64"
      ]
     },
     "execution_count": 40,
     "metadata": {},
     "output_type": "execute_result"
    }
   ],
   "source": [
    "#tz_localize method: We use this method to convert from naive to localized time\n",
    "ts"
   ]
  },
  {
   "cell_type": "code",
   "execution_count": 41,
   "id": "30912400-1453-45b1-ac27-6d1dac65b993",
   "metadata": {},
   "outputs": [],
   "source": [
    "ts_utc = ts.tz_localize('UTC')"
   ]
  },
  {
   "cell_type": "code",
   "execution_count": 42,
   "id": "4727df79-2322-4bc9-ad13-dcd34f07a031",
   "metadata": {},
   "outputs": [
    {
     "data": {
      "text/plain": [
       "2012-03-09 09:30:00+00:00    0.215783\n",
       "2012-03-10 09:30:00+00:00   -0.258104\n",
       "2012-03-11 09:30:00+00:00    1.817215\n",
       "2012-03-12 09:30:00+00:00   -0.090038\n",
       "2012-03-13 09:30:00+00:00    0.249517\n",
       "2012-03-14 09:30:00+00:00    1.246313\n",
       "Freq: D, dtype: float64"
      ]
     },
     "execution_count": 42,
     "metadata": {},
     "output_type": "execute_result"
    }
   ],
   "source": [
    "ts_utc"
   ]
  },
  {
   "cell_type": "code",
   "execution_count": 43,
   "id": "219aadda-aa73-48a7-8860-e5ab0739b041",
   "metadata": {},
   "outputs": [
    {
     "data": {
      "text/plain": [
       "DatetimeIndex(['2012-03-09 09:30:00+00:00', '2012-03-10 09:30:00+00:00',\n",
       "               '2012-03-11 09:30:00+00:00', '2012-03-12 09:30:00+00:00',\n",
       "               '2012-03-13 09:30:00+00:00', '2012-03-14 09:30:00+00:00'],\n",
       "              dtype='datetime64[ns, UTC]', freq='D')"
      ]
     },
     "execution_count": 43,
     "metadata": {},
     "output_type": "execute_result"
    }
   ],
   "source": [
    "ts_utc.index"
   ]
  },
  {
   "cell_type": "code",
   "execution_count": 44,
   "id": "0d2c1041-70b0-4a9d-b5e4-d9d83de559fe",
   "metadata": {},
   "outputs": [
    {
     "data": {
      "text/plain": [
       "2012-03-09 04:30:00-05:00    0.215783\n",
       "2012-03-10 04:30:00-05:00   -0.258104\n",
       "2012-03-11 05:30:00-04:00    1.817215\n",
       "2012-03-12 05:30:00-04:00   -0.090038\n",
       "2012-03-13 05:30:00-04:00    0.249517\n",
       "2012-03-14 05:30:00-04:00    1.246313\n",
       "Freq: D, dtype: float64"
      ]
     },
     "execution_count": 44,
     "metadata": {},
     "output_type": "execute_result"
    }
   ],
   "source": [
    "#once a time series is localized, it can be converted to another time zone with tz_convert\n",
    "ts_utc.tz_convert('America/New_York')"
   ]
  },
  {
   "cell_type": "code",
   "execution_count": 45,
   "id": "a3ec4372-509f-4cc9-94a4-bfbfdd0b55e0",
   "metadata": {},
   "outputs": [
    {
     "data": {
      "text/plain": [
       "2012-03-09 09:30:00-05:00    0.215783\n",
       "2012-03-10 09:30:00-05:00   -0.258104\n",
       "2012-03-11 09:30:00-04:00    1.817215\n",
       "2012-03-12 09:30:00-04:00   -0.090038\n",
       "2012-03-13 09:30:00-04:00    0.249517\n",
       "2012-03-14 09:30:00-04:00    1.246313\n",
       "dtype: float64"
      ]
     },
     "execution_count": 45,
     "metadata": {},
     "output_type": "execute_result"
    }
   ],
   "source": [
    "#the preceeding time zeries can be converted to eastern time\n",
    "ts_eastern = ts.tz_localize('America/New_York')\n",
    "ts_eastern"
   ]
  },
  {
   "cell_type": "code",
   "execution_count": 46,
   "id": "587b73ee-00a6-4e77-9ba4-24d094e67cee",
   "metadata": {},
   "outputs": [
    {
     "data": {
      "text/plain": [
       "2012-03-09 14:30:00+00:00    0.215783\n",
       "2012-03-10 14:30:00+00:00   -0.258104\n",
       "2012-03-11 13:30:00+00:00    1.817215\n",
       "2012-03-12 13:30:00+00:00   -0.090038\n",
       "2012-03-13 13:30:00+00:00    0.249517\n",
       "2012-03-14 13:30:00+00:00    1.246313\n",
       "dtype: float64"
      ]
     },
     "execution_count": 46,
     "metadata": {},
     "output_type": "execute_result"
    }
   ],
   "source": [
    "ts_eastern.tz_convert('UTC')"
   ]
  },
  {
   "cell_type": "code",
   "execution_count": 47,
   "id": "8097c7fa-27d4-40e5-a17e-7b18df4644a0",
   "metadata": {},
   "outputs": [
    {
     "data": {
      "text/plain": [
       "2012-03-09 15:30:00+01:00    0.215783\n",
       "2012-03-10 15:30:00+01:00   -0.258104\n",
       "2012-03-11 14:30:00+01:00    1.817215\n",
       "2012-03-12 14:30:00+01:00   -0.090038\n",
       "2012-03-13 14:30:00+01:00    0.249517\n",
       "2012-03-14 14:30:00+01:00    1.246313\n",
       "dtype: float64"
      ]
     },
     "execution_count": 47,
     "metadata": {},
     "output_type": "execute_result"
    }
   ],
   "source": [
    "ts_eastern.tz_convert('Europe/Berlin')"
   ]
  },
  {
   "cell_type": "code",
   "execution_count": 48,
   "id": "78927183-a486-4d77-a375-ea1c23aee4d4",
   "metadata": {},
   "outputs": [
    {
     "data": {
      "text/plain": [
       "DatetimeIndex(['2012-03-09 09:30:00+08:00', '2012-03-10 09:30:00+08:00',\n",
       "               '2012-03-11 09:30:00+08:00', '2012-03-12 09:30:00+08:00',\n",
       "               '2012-03-13 09:30:00+08:00', '2012-03-14 09:30:00+08:00'],\n",
       "              dtype='datetime64[ns, Asia/Shanghai]', freq=None)"
      ]
     },
     "execution_count": 48,
     "metadata": {},
     "output_type": "execute_result"
    }
   ],
   "source": [
    "#tz_localize and tz_convert are also instances methods on DatetimeIndex\n",
    "ts.index.tz_localize('Asia/Shanghai')"
   ]
  },
  {
   "cell_type": "code",
   "execution_count": 49,
   "id": "9c179bd0-0314-4bb7-a525-4e281be57c74",
   "metadata": {},
   "outputs": [
    {
     "data": {
      "text/plain": [
       "Timestamp('2011-03-12 04:00:00')"
      ]
     },
     "execution_count": 49,
     "metadata": {},
     "output_type": "execute_result"
    }
   ],
   "source": [
    "#operations with timezone-aware Timestamp objects\n",
    "#just like time series and date rangers, we can localize Timestamp objects from naive to time zone-aware\n",
    "stamp = pd.Timestamp('2011-03-12 04:00')\n",
    "stamp"
   ]
  },
  {
   "cell_type": "code",
   "execution_count": 50,
   "id": "2fd7a7f1-0204-41ec-b465-a17bc40189ef",
   "metadata": {},
   "outputs": [],
   "source": [
    "stamp_utc = stamp.tz_localize('utc')"
   ]
  },
  {
   "cell_type": "code",
   "execution_count": 51,
   "id": "be235da6-74b1-41a8-980a-5dd55efead81",
   "metadata": {},
   "outputs": [
    {
     "data": {
      "text/plain": [
       "Timestamp('2011-03-12 04:00:00+0000', tz='UTC')"
      ]
     },
     "execution_count": 51,
     "metadata": {},
     "output_type": "execute_result"
    }
   ],
   "source": [
    "stamp_utc"
   ]
  },
  {
   "cell_type": "code",
   "execution_count": 52,
   "id": "a7ea7ade-9a91-46b6-b4f3-aade155948ce",
   "metadata": {},
   "outputs": [
    {
     "data": {
      "text/plain": [
       "Timestamp('2011-03-11 23:00:00-0500', tz='America/New_York')"
      ]
     },
     "execution_count": 52,
     "metadata": {},
     "output_type": "execute_result"
    }
   ],
   "source": [
    "stamp_utc.tz_convert('America/New_York')"
   ]
  },
  {
   "cell_type": "code",
   "execution_count": 53,
   "id": "070acf31-e7ef-4099-b812-ccc5a6ae1a67",
   "metadata": {},
   "outputs": [],
   "source": [
    "#You can also pass a time zone when creating a Timestamp\n",
    "stamp_moscow = pd.Timestamp('2011-03-12 04:00', tz='Europe/Moscow')"
   ]
  },
  {
   "cell_type": "code",
   "execution_count": 54,
   "id": "85a5d12c-f28d-4dd0-8c01-dad1961d6b35",
   "metadata": {},
   "outputs": [
    {
     "data": {
      "text/plain": [
       "Timestamp('2011-03-12 04:00:00+0300', tz='Europe/Moscow')"
      ]
     },
     "execution_count": 54,
     "metadata": {},
     "output_type": "execute_result"
    }
   ],
   "source": [
    "stamp_moscow"
   ]
  },
  {
   "cell_type": "code",
   "execution_count": 55,
   "id": "64aedacc-8ee4-4717-9098-b9c46963c26e",
   "metadata": {},
   "outputs": [
    {
     "data": {
      "text/plain": [
       "1299902400000000000"
      ]
     },
     "execution_count": 55,
     "metadata": {},
     "output_type": "execute_result"
    }
   ],
   "source": [
    "#time-zone-aware Timestamp objects store a UTC timestamp value as nanoseconds since the Unix epoch (01-01-1970)\n",
    "stamp_utc.value"
   ]
  },
  {
   "cell_type": "code",
   "execution_count": 56,
   "id": "a29ce1ea-03fd-4b4d-bef5-53ff65a0c741",
   "metadata": {},
   "outputs": [
    {
     "data": {
      "text/plain": [
       "1299902400000000000"
      ]
     },
     "execution_count": 56,
     "metadata": {},
     "output_type": "execute_result"
    }
   ],
   "source": [
    "stamp_utc.tz_convert('America/New_York').value"
   ]
  },
  {
   "cell_type": "code",
   "execution_count": 57,
   "id": "ed4c139e-3936-4af9-a969-f9bfd3ecbd31",
   "metadata": {},
   "outputs": [],
   "source": [
    "#When we perform time arithmetic with DateOffset objects, pandas respects DST.\n",
    "#Let's make stamps occurring right before DST transitions.\n",
    "stamp = pd.Timestamp('2012-03-11 01:30', tz='US/Eastern')"
   ]
  },
  {
   "cell_type": "code",
   "execution_count": 58,
   "id": "d40f2d1a-5e14-418c-8f6d-f9f8da221a87",
   "metadata": {},
   "outputs": [
    {
     "data": {
      "text/plain": [
       "Timestamp('2012-03-11 01:30:00-0500', tz='US/Eastern')"
      ]
     },
     "execution_count": 58,
     "metadata": {},
     "output_type": "execute_result"
    }
   ],
   "source": [
    "stamp"
   ]
  },
  {
   "cell_type": "code",
   "execution_count": 59,
   "id": "28248503-fc55-4723-99a9-2b45f70ea72c",
   "metadata": {},
   "outputs": [
    {
     "data": {
      "text/plain": [
       "Timestamp('2012-03-11 03:30:00-0400', tz='US/Eastern')"
      ]
     },
     "execution_count": 59,
     "metadata": {},
     "output_type": "execute_result"
    }
   ],
   "source": [
    "stamp + Hour() #two hour difference because DST begins"
   ]
  },
  {
   "cell_type": "code",
   "execution_count": 60,
   "id": "6985a57c-27d0-414c-b9f7-3b2bea9931c1",
   "metadata": {},
   "outputs": [],
   "source": [
    "#90 minutes before transitioning out of DST\n",
    "stamp = pd.Timestamp('2012-11-04 00:30', tz='US/Eastern')"
   ]
  },
  {
   "cell_type": "code",
   "execution_count": 61,
   "id": "7f5d5a86-1135-4c0e-b830-598a82f48704",
   "metadata": {},
   "outputs": [
    {
     "data": {
      "text/plain": [
       "Timestamp('2012-11-04 00:30:00-0400', tz='US/Eastern')"
      ]
     },
     "execution_count": 61,
     "metadata": {},
     "output_type": "execute_result"
    }
   ],
   "source": [
    "stamp"
   ]
  },
  {
   "cell_type": "code",
   "execution_count": 62,
   "id": "a410e40c-8b2a-438c-ab4d-db3e9f207a22",
   "metadata": {},
   "outputs": [
    {
     "data": {
      "text/plain": [
       "Timestamp('2012-11-04 01:30:00-0500', tz='US/Eastern')"
      ]
     },
     "execution_count": 62,
     "metadata": {},
     "output_type": "execute_result"
    }
   ],
   "source": [
    "stamp + 2 * hour"
   ]
  },
  {
   "cell_type": "code",
   "execution_count": 63,
   "id": "078bcb0f-7e16-4034-8008-10cfba42c22f",
   "metadata": {},
   "outputs": [],
   "source": [
    "#operations between different time zones\n",
    "#if two time series objects "
   ]
  }
 ],
 "metadata": {
  "kernelspec": {
   "display_name": "Python 3 (ipykernel)",
   "language": "python",
   "name": "python3"
  },
  "language_info": {
   "codemirror_mode": {
    "name": "ipython",
    "version": 3
   },
   "file_extension": ".py",
   "mimetype": "text/x-python",
   "name": "python",
   "nbconvert_exporter": "python",
   "pygments_lexer": "ipython3",
   "version": "3.10.8"
  }
 },
 "nbformat": 4,
 "nbformat_minor": 5
}
