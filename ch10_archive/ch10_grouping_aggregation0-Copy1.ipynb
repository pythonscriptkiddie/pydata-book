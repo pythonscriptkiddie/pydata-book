{
 "cells": [
  {
   "cell_type": "code",
   "execution_count": 1,
   "id": "91fab74d-3c6e-4d3f-af4e-bc98069dfa5e",
   "metadata": {},
   "outputs": [],
   "source": [
    "from typing import List, Dict\n",
    "import numpy as np\n",
    "import pandas as pd"
   ]
  },
  {
   "cell_type": "code",
   "execution_count": 2,
   "id": "7bdee30e-d3c3-4427-8be1-91202f54d908",
   "metadata": {},
   "outputs": [],
   "source": [
    "df = pd.DataFrame({'key1': ['a', 'a', None, 'b', 'b', 'a', None],\n",
    "                  'key2': pd.Series([1, 2, 1, 2, 1, None, 1], dtype='Int64'),\n",
    "                  'data1': np.random.standard_normal(7),\n",
    "                  'data2': np.random.standard_normal(7)})"
   ]
  },
  {
   "cell_type": "code",
   "execution_count": 3,
   "id": "4ef0f1b0-6ff0-4741-ab91-f5a6460de7ed",
   "metadata": {},
   "outputs": [
    {
     "data": {
      "text/html": [
       "<div>\n",
       "<style scoped>\n",
       "    .dataframe tbody tr th:only-of-type {\n",
       "        vertical-align: middle;\n",
       "    }\n",
       "\n",
       "    .dataframe tbody tr th {\n",
       "        vertical-align: top;\n",
       "    }\n",
       "\n",
       "    .dataframe thead th {\n",
       "        text-align: right;\n",
       "    }\n",
       "</style>\n",
       "<table border=\"1\" class=\"dataframe\">\n",
       "  <thead>\n",
       "    <tr style=\"text-align: right;\">\n",
       "      <th></th>\n",
       "      <th>key1</th>\n",
       "      <th>key2</th>\n",
       "      <th>data1</th>\n",
       "      <th>data2</th>\n",
       "    </tr>\n",
       "  </thead>\n",
       "  <tbody>\n",
       "    <tr>\n",
       "      <th>0</th>\n",
       "      <td>a</td>\n",
       "      <td>1</td>\n",
       "      <td>-0.886677</td>\n",
       "      <td>-0.304075</td>\n",
       "    </tr>\n",
       "    <tr>\n",
       "      <th>1</th>\n",
       "      <td>a</td>\n",
       "      <td>2</td>\n",
       "      <td>-1.592214</td>\n",
       "      <td>-0.041614</td>\n",
       "    </tr>\n",
       "    <tr>\n",
       "      <th>2</th>\n",
       "      <td>None</td>\n",
       "      <td>1</td>\n",
       "      <td>-2.185377</td>\n",
       "      <td>1.536094</td>\n",
       "    </tr>\n",
       "    <tr>\n",
       "      <th>3</th>\n",
       "      <td>b</td>\n",
       "      <td>2</td>\n",
       "      <td>2.155221</td>\n",
       "      <td>-0.882579</td>\n",
       "    </tr>\n",
       "    <tr>\n",
       "      <th>4</th>\n",
       "      <td>b</td>\n",
       "      <td>1</td>\n",
       "      <td>-0.626440</td>\n",
       "      <td>1.744910</td>\n",
       "    </tr>\n",
       "    <tr>\n",
       "      <th>5</th>\n",
       "      <td>a</td>\n",
       "      <td>&lt;NA&gt;</td>\n",
       "      <td>0.108844</td>\n",
       "      <td>0.356165</td>\n",
       "    </tr>\n",
       "    <tr>\n",
       "      <th>6</th>\n",
       "      <td>None</td>\n",
       "      <td>1</td>\n",
       "      <td>1.443020</td>\n",
       "      <td>0.193343</td>\n",
       "    </tr>\n",
       "  </tbody>\n",
       "</table>\n",
       "</div>"
      ],
      "text/plain": [
       "   key1  key2     data1     data2\n",
       "0     a     1 -0.886677 -0.304075\n",
       "1     a     2 -1.592214 -0.041614\n",
       "2  None     1 -2.185377  1.536094\n",
       "3     b     2  2.155221 -0.882579\n",
       "4     b     1 -0.626440  1.744910\n",
       "5     a  <NA>  0.108844  0.356165\n",
       "6  None     1  1.443020  0.193343"
      ]
     },
     "execution_count": 3,
     "metadata": {},
     "output_type": "execute_result"
    }
   ],
   "source": [
    "df"
   ]
  },
  {
   "cell_type": "code",
   "execution_count": 4,
   "id": "3283713c-c8eb-47f4-ab0d-a2b06639e1cb",
   "metadata": {},
   "outputs": [],
   "source": [
    "#Let's compute the mean of the data1 column using the labels from key1\n",
    "#one way is to access data1 and call groupby with the column (a series) at key1\n",
    "grouped = df['data1'].groupby(df['key1'])"
   ]
  },
  {
   "cell_type": "code",
   "execution_count": 5,
   "id": "86aa3627-6e91-4465-b9e5-505d5fde735b",
   "metadata": {},
   "outputs": [
    {
     "data": {
      "text/plain": [
       "<pandas.core.groupby.generic.SeriesGroupBy object at 0x7ff66a752050>"
      ]
     },
     "execution_count": 5,
     "metadata": {},
     "output_type": "execute_result"
    }
   ],
   "source": [
    "#GroupBy object: contains intermediate data about the information needed to apply the operations\n",
    "grouped"
   ]
  },
  {
   "cell_type": "code",
   "execution_count": 6,
   "id": "c50503fe-51cb-463f-a61a-17da83bce715",
   "metadata": {},
   "outputs": [
    {
     "data": {
      "text/plain": [
       "key1\n",
       "a   -0.790016\n",
       "b    0.764391\n",
       "Name: data1, dtype: float64"
      ]
     },
     "execution_count": 6,
     "metadata": {},
     "output_type": "execute_result"
    }
   ],
   "source": [
    "#calculate the mean\n",
    "grouped.mean()"
   ]
  },
  {
   "cell_type": "code",
   "execution_count": 7,
   "id": "91604bf0-810d-44a7-a82e-f395a4d544a7",
   "metadata": {},
   "outputs": [],
   "source": [
    "#above, we split the data on the group key, producing a new Series indexed by values in the key1 column\n",
    "grouped2 = df['data2'].groupby(df['key1'])"
   ]
  },
  {
   "cell_type": "code",
   "execution_count": 8,
   "id": "370a1a8e-2c80-47c8-b937-9a10ce3b9b5c",
   "metadata": {},
   "outputs": [
    {
     "data": {
      "text/plain": [
       "<pandas.core.groupby.generic.SeriesGroupBy object at 0x7ff66a7e4400>"
      ]
     },
     "execution_count": 8,
     "metadata": {},
     "output_type": "execute_result"
    }
   ],
   "source": [
    "grouped2"
   ]
  },
  {
   "cell_type": "code",
   "execution_count": 9,
   "id": "fac89694-d2fa-48de-b10b-26c089f60818",
   "metadata": {},
   "outputs": [
    {
     "data": {
      "text/plain": [
       "key1\n",
       "a    0.003492\n",
       "b    0.431166\n",
       "Name: data2, dtype: float64"
      ]
     },
     "execution_count": 9,
     "metadata": {},
     "output_type": "execute_result"
    }
   ],
   "source": [
    "grouped2.mean()"
   ]
  },
  {
   "cell_type": "code",
   "execution_count": 10,
   "id": "96d0a8d5-eb36-42b6-baf4-8621b60d24f4",
   "metadata": {},
   "outputs": [],
   "source": [
    "#passing multiple arrays as a list:\n",
    "means = df['data1'].groupby([df['key1'], df['key2']]).mean()"
   ]
  },
  {
   "cell_type": "code",
   "execution_count": 11,
   "id": "2ec01d46-706f-4e1b-9f27-6049836b50ff",
   "metadata": {},
   "outputs": [
    {
     "data": {
      "text/plain": [
       "key1  key2\n",
       "a     1      -0.886677\n",
       "      2      -1.592214\n",
       "b     1      -0.626440\n",
       "      2       2.155221\n",
       "Name: data1, dtype: float64"
      ]
     },
     "execution_count": 11,
     "metadata": {},
     "output_type": "execute_result"
    }
   ],
   "source": [
    "means #now has heirarchical index"
   ]
  },
  {
   "cell_type": "code",
   "execution_count": 12,
   "id": "91661466-6706-4588-abcd-0af886f28c53",
   "metadata": {},
   "outputs": [
    {
     "data": {
      "text/plain": [
       "MultiIndex([('a', 1),\n",
       "            ('a', 2),\n",
       "            ('b', 1),\n",
       "            ('b', 2)],\n",
       "           names=['key1', 'key2'])"
      ]
     },
     "execution_count": 12,
     "metadata": {},
     "output_type": "execute_result"
    }
   ],
   "source": [
    "means.index"
   ]
  },
  {
   "cell_type": "code",
   "execution_count": 13,
   "id": "313342ee-268a-4ffb-ad12-da02b8fecd17",
   "metadata": {},
   "outputs": [
    {
     "data": {
      "text/html": [
       "<div>\n",
       "<style scoped>\n",
       "    .dataframe tbody tr th:only-of-type {\n",
       "        vertical-align: middle;\n",
       "    }\n",
       "\n",
       "    .dataframe tbody tr th {\n",
       "        vertical-align: top;\n",
       "    }\n",
       "\n",
       "    .dataframe thead th {\n",
       "        text-align: right;\n",
       "    }\n",
       "</style>\n",
       "<table border=\"1\" class=\"dataframe\">\n",
       "  <thead>\n",
       "    <tr style=\"text-align: right;\">\n",
       "      <th>key2</th>\n",
       "      <th>1</th>\n",
       "      <th>2</th>\n",
       "    </tr>\n",
       "    <tr>\n",
       "      <th>key1</th>\n",
       "      <th></th>\n",
       "      <th></th>\n",
       "    </tr>\n",
       "  </thead>\n",
       "  <tbody>\n",
       "    <tr>\n",
       "      <th>a</th>\n",
       "      <td>-0.886677</td>\n",
       "      <td>-1.592214</td>\n",
       "    </tr>\n",
       "    <tr>\n",
       "      <th>b</th>\n",
       "      <td>-0.626440</td>\n",
       "      <td>2.155221</td>\n",
       "    </tr>\n",
       "  </tbody>\n",
       "</table>\n",
       "</div>"
      ],
      "text/plain": [
       "key2         1         2\n",
       "key1                    \n",
       "a    -0.886677 -1.592214\n",
       "b    -0.626440  2.155221"
      ]
     },
     "execution_count": 13,
     "metadata": {},
     "output_type": "execute_result"
    }
   ],
   "source": [
    "means.unstack()"
   ]
  },
  {
   "cell_type": "code",
   "execution_count": 14,
   "id": "e2fc0824-bc7a-404f-a1ba-50c4850a80b1",
   "metadata": {},
   "outputs": [],
   "source": [
    "#In the following example, the group keys are Series, but we can use any array.\n",
    "#The only limitation: lengths must be equal.\n",
    "states = np.array(['OH', 'CA', 'CA', 'OH', 'OH', 'CA', 'OH'])"
   ]
  },
  {
   "cell_type": "code",
   "execution_count": 15,
   "id": "46e62654-1338-415c-a1f3-e7e1f3e50a5b",
   "metadata": {},
   "outputs": [],
   "source": [
    "years : List[int] = [2005, 2005, 2006, 2005, 2006, 2005, 2006]"
   ]
  },
  {
   "cell_type": "code",
   "execution_count": 16,
   "id": "a7f3b714-bac6-496f-b1c5-696361b3d583",
   "metadata": {},
   "outputs": [
    {
     "data": {
      "text/plain": [
       "CA  2005   -0.741685\n",
       "    2006   -2.185377\n",
       "OH  2005    0.634272\n",
       "    2006    0.408290\n",
       "Name: data1, dtype: float64"
      ]
     },
     "execution_count": 16,
     "metadata": {},
     "output_type": "execute_result"
    }
   ],
   "source": [
    "df['data1'].groupby([states, years]).mean()"
   ]
  },
  {
   "cell_type": "code",
   "execution_count": 17,
   "id": "047b31b4-6ef2-4957-93ad-32def606b9f8",
   "metadata": {},
   "outputs": [
    {
     "data": {
      "text/plain": [
       "2005  CA   -0.741685\n",
       "      OH    0.634272\n",
       "2006  CA   -2.185377\n",
       "      OH    0.408290\n",
       "Name: data1, dtype: float64"
      ]
     },
     "execution_count": 17,
     "metadata": {},
     "output_type": "execute_result"
    }
   ],
   "source": [
    "df['data1'].groupby([years, states]).mean()"
   ]
  },
  {
   "cell_type": "code",
   "execution_count": 18,
   "id": "08832b23-e230-41a1-a36c-abbaa89c6aa5",
   "metadata": {},
   "outputs": [
    {
     "data": {
      "text/plain": [
       "2005  CA   -0.741685\n",
       "      OH    0.634272\n",
       "2006  CA   -2.185377\n",
       "      OH    0.408290\n",
       "Name: data1, dtype: float64"
      ]
     },
     "execution_count": 18,
     "metadata": {},
     "output_type": "execute_result"
    }
   ],
   "source": [
    "df['data1'].groupby([years, states]).mean()"
   ]
  },
  {
   "cell_type": "code",
   "execution_count": 19,
   "id": "f9c048da-3477-4577-a6e6-1abcf0af6287",
   "metadata": {},
   "outputs": [
    {
     "data": {
      "text/html": [
       "<div>\n",
       "<style scoped>\n",
       "    .dataframe tbody tr th:only-of-type {\n",
       "        vertical-align: middle;\n",
       "    }\n",
       "\n",
       "    .dataframe tbody tr th {\n",
       "        vertical-align: top;\n",
       "    }\n",
       "\n",
       "    .dataframe thead th {\n",
       "        text-align: right;\n",
       "    }\n",
       "</style>\n",
       "<table border=\"1\" class=\"dataframe\">\n",
       "  <thead>\n",
       "    <tr style=\"text-align: right;\">\n",
       "      <th></th>\n",
       "      <th>key2</th>\n",
       "      <th>data1</th>\n",
       "      <th>data2</th>\n",
       "    </tr>\n",
       "    <tr>\n",
       "      <th>key1</th>\n",
       "      <th></th>\n",
       "      <th></th>\n",
       "      <th></th>\n",
       "    </tr>\n",
       "  </thead>\n",
       "  <tbody>\n",
       "    <tr>\n",
       "      <th>a</th>\n",
       "      <td>1.5</td>\n",
       "      <td>-0.790016</td>\n",
       "      <td>0.003492</td>\n",
       "    </tr>\n",
       "    <tr>\n",
       "      <th>b</th>\n",
       "      <td>1.5</td>\n",
       "      <td>0.764391</td>\n",
       "      <td>0.431166</td>\n",
       "    </tr>\n",
       "  </tbody>\n",
       "</table>\n",
       "</div>"
      ],
      "text/plain": [
       "      key2     data1     data2\n",
       "key1                          \n",
       "a      1.5 -0.790016  0.003492\n",
       "b      1.5  0.764391  0.431166"
      ]
     },
     "execution_count": 19,
     "metadata": {},
     "output_type": "execute_result"
    }
   ],
   "source": [
    "#frequently we find the grouping information in the same DataFrame we are working with.\n",
    "#if so, we can pass the column names as group keys\n",
    "df.groupby('key1').mean()"
   ]
  },
  {
   "cell_type": "code",
   "execution_count": 20,
   "id": "4544ffde-a5fb-4ec6-83ec-b175f1b165a2",
   "metadata": {},
   "outputs": [
    {
     "data": {
      "text/html": [
       "<div>\n",
       "<style scoped>\n",
       "    .dataframe tbody tr th:only-of-type {\n",
       "        vertical-align: middle;\n",
       "    }\n",
       "\n",
       "    .dataframe tbody tr th {\n",
       "        vertical-align: top;\n",
       "    }\n",
       "\n",
       "    .dataframe thead th {\n",
       "        text-align: right;\n",
       "    }\n",
       "</style>\n",
       "<table border=\"1\" class=\"dataframe\">\n",
       "  <thead>\n",
       "    <tr style=\"text-align: right;\">\n",
       "      <th></th>\n",
       "      <th>data1</th>\n",
       "      <th>data2</th>\n",
       "    </tr>\n",
       "    <tr>\n",
       "      <th>key2</th>\n",
       "      <th></th>\n",
       "      <th></th>\n",
       "    </tr>\n",
       "  </thead>\n",
       "  <tbody>\n",
       "    <tr>\n",
       "      <th>1</th>\n",
       "      <td>-0.563868</td>\n",
       "      <td>0.792568</td>\n",
       "    </tr>\n",
       "    <tr>\n",
       "      <th>2</th>\n",
       "      <td>0.281504</td>\n",
       "      <td>-0.462096</td>\n",
       "    </tr>\n",
       "  </tbody>\n",
       "</table>\n",
       "</div>"
      ],
      "text/plain": [
       "         data1     data2\n",
       "key2                    \n",
       "1    -0.563868  0.792568\n",
       "2     0.281504 -0.462096"
      ]
     },
     "execution_count": 20,
     "metadata": {},
     "output_type": "execute_result"
    }
   ],
   "source": [
    "df.groupby('key2').mean(numeric_only=True) #we do not have 'key1' in there because it is nonnumeric (i.e. nuisance column)"
   ]
  },
  {
   "cell_type": "code",
   "execution_count": 21,
   "id": "a20b78d9-922c-447d-824f-d35f913becc0",
   "metadata": {},
   "outputs": [
    {
     "data": {
      "text/html": [
       "<div>\n",
       "<style scoped>\n",
       "    .dataframe tbody tr th:only-of-type {\n",
       "        vertical-align: middle;\n",
       "    }\n",
       "\n",
       "    .dataframe tbody tr th {\n",
       "        vertical-align: top;\n",
       "    }\n",
       "\n",
       "    .dataframe thead th {\n",
       "        text-align: right;\n",
       "    }\n",
       "</style>\n",
       "<table border=\"1\" class=\"dataframe\">\n",
       "  <thead>\n",
       "    <tr style=\"text-align: right;\">\n",
       "      <th></th>\n",
       "      <th></th>\n",
       "      <th>data1</th>\n",
       "      <th>data2</th>\n",
       "    </tr>\n",
       "    <tr>\n",
       "      <th>key1</th>\n",
       "      <th>key2</th>\n",
       "      <th></th>\n",
       "      <th></th>\n",
       "    </tr>\n",
       "  </thead>\n",
       "  <tbody>\n",
       "    <tr>\n",
       "      <th rowspan=\"2\" valign=\"top\">a</th>\n",
       "      <th>1</th>\n",
       "      <td>-0.886677</td>\n",
       "      <td>-0.304075</td>\n",
       "    </tr>\n",
       "    <tr>\n",
       "      <th>2</th>\n",
       "      <td>-1.592214</td>\n",
       "      <td>-0.041614</td>\n",
       "    </tr>\n",
       "    <tr>\n",
       "      <th rowspan=\"2\" valign=\"top\">b</th>\n",
       "      <th>1</th>\n",
       "      <td>-0.626440</td>\n",
       "      <td>1.744910</td>\n",
       "    </tr>\n",
       "    <tr>\n",
       "      <th>2</th>\n",
       "      <td>2.155221</td>\n",
       "      <td>-0.882579</td>\n",
       "    </tr>\n",
       "  </tbody>\n",
       "</table>\n",
       "</div>"
      ],
      "text/plain": [
       "              data1     data2\n",
       "key1 key2                    \n",
       "a    1    -0.886677 -0.304075\n",
       "     2    -1.592214 -0.041614\n",
       "b    1    -0.626440  1.744910\n",
       "     2     2.155221 -0.882579"
      ]
     },
     "execution_count": 21,
     "metadata": {},
     "output_type": "execute_result"
    }
   ],
   "source": [
    "#multiple columns as keys\n",
    "df.groupby(['key1', 'key2']).mean()"
   ]
  },
  {
   "cell_type": "code",
   "execution_count": 22,
   "id": "06dcadc0-3a59-481d-a967-70e31352681e",
   "metadata": {},
   "outputs": [
    {
     "data": {
      "text/plain": [
       "key1  key2\n",
       "a     1       1\n",
       "      2       1\n",
       "b     1       1\n",
       "      2       1\n",
       "dtype: int64"
      ]
     },
     "execution_count": 22,
     "metadata": {},
     "output_type": "execute_result"
    }
   ],
   "source": [
    "#another important method is .size()\n",
    "df.groupby(['key1', 'key2']).size()"
   ]
  },
  {
   "cell_type": "code",
   "execution_count": 23,
   "id": "6a9100d1-69d6-45ab-8af6-9886f9c6befb",
   "metadata": {},
   "outputs": [
    {
     "data": {
      "text/plain": [
       "key1\n",
       "a      3\n",
       "b      2\n",
       "NaN    2\n",
       "dtype: int64"
      ]
     },
     "execution_count": 23,
     "metadata": {},
     "output_type": "execute_result"
    }
   ],
   "source": [
    "#note: any missing values in a group key are excluded from the result by default.\n",
    "#how to disable: pass dropna=False to groupby\n",
    "df.groupby('key1', dropna=False).size()"
   ]
  },
  {
   "cell_type": "code",
   "execution_count": 24,
   "id": "f8ba4c93-9885-4b29-8afd-9c603c6e8c88",
   "metadata": {},
   "outputs": [
    {
     "data": {
      "text/plain": [
       "key1  key2\n",
       "a     1       1\n",
       "      2       1\n",
       "      <NA>    1\n",
       "b     1       1\n",
       "      2       1\n",
       "NaN   1       2\n",
       "dtype: int64"
      ]
     },
     "execution_count": 24,
     "metadata": {},
     "output_type": "execute_result"
    }
   ],
   "source": [
    "df.groupby(['key1', 'key2'], dropna=False).size()"
   ]
  },
  {
   "cell_type": "code",
   "execution_count": 25,
   "id": "31387e87-f0c1-4b0d-a22c-dc5976fb6eda",
   "metadata": {},
   "outputs": [
    {
     "data": {
      "text/html": [
       "<div>\n",
       "<style scoped>\n",
       "    .dataframe tbody tr th:only-of-type {\n",
       "        vertical-align: middle;\n",
       "    }\n",
       "\n",
       "    .dataframe tbody tr th {\n",
       "        vertical-align: top;\n",
       "    }\n",
       "\n",
       "    .dataframe thead th {\n",
       "        text-align: right;\n",
       "    }\n",
       "</style>\n",
       "<table border=\"1\" class=\"dataframe\">\n",
       "  <thead>\n",
       "    <tr style=\"text-align: right;\">\n",
       "      <th></th>\n",
       "      <th>key2</th>\n",
       "      <th>data1</th>\n",
       "      <th>data2</th>\n",
       "    </tr>\n",
       "    <tr>\n",
       "      <th>key1</th>\n",
       "      <th></th>\n",
       "      <th></th>\n",
       "      <th></th>\n",
       "    </tr>\n",
       "  </thead>\n",
       "  <tbody>\n",
       "    <tr>\n",
       "      <th>a</th>\n",
       "      <td>2</td>\n",
       "      <td>3</td>\n",
       "      <td>3</td>\n",
       "    </tr>\n",
       "    <tr>\n",
       "      <th>b</th>\n",
       "      <td>2</td>\n",
       "      <td>2</td>\n",
       "      <td>2</td>\n",
       "    </tr>\n",
       "  </tbody>\n",
       "</table>\n",
       "</div>"
      ],
      "text/plain": [
       "      key2  data1  data2\n",
       "key1                    \n",
       "a        2      3      3\n",
       "b        2      2      2"
      ]
     },
     "execution_count": 25,
     "metadata": {},
     "output_type": "execute_result"
    }
   ],
   "source": [
    "#count computes the number of nonnull values in each group\n",
    "df.groupby('key1').count()"
   ]
  },
  {
   "cell_type": "code",
   "execution_count": 26,
   "id": "6be39755-ae7e-4274-9ed3-c41ec5d2d336",
   "metadata": {},
   "outputs": [
    {
     "name": "stdout",
     "output_type": "stream",
     "text": [
      "a\n",
      "  key1  key2     data1     data2\n",
      "0    a     1 -0.886677 -0.304075\n",
      "1    a     2 -1.592214 -0.041614\n",
      "5    a  <NA>  0.108844  0.356165\n",
      "b\n",
      "  key1  key2     data1     data2\n",
      "3    b     2  2.155221 -0.882579\n",
      "4    b     1 -0.626440  1.744910\n"
     ]
    }
   ],
   "source": [
    "#iterating over groups\n",
    "#object returned by groupby supports iteration, creating a sequence of 2-Tuples with\n",
    "#the group name and the chunk of data\n",
    "#consider the following:\n",
    "for name, group in df.groupby('key1'):\n",
    "    print(name)\n",
    "    print(group)"
   ]
  },
  {
   "cell_type": "code",
   "execution_count": 27,
   "id": "61df5382-5df1-4bfd-ba7f-a3395be98e4f",
   "metadata": {},
   "outputs": [
    {
     "name": "stdout",
     "output_type": "stream",
     "text": [
      "('a', 1)\n",
      "  key1  key2     data1     data2\n",
      "0    a     1 -0.886677 -0.304075\n",
      "('a', 2)\n",
      "  key1  key2     data1     data2\n",
      "1    a     2 -1.592214 -0.041614\n",
      "('b', 1)\n",
      "  key1  key2    data1    data2\n",
      "4    b     1 -0.62644  1.74491\n",
      "('b', 2)\n",
      "  key1  key2     data1     data2\n",
      "3    b     2  2.155221 -0.882579\n"
     ]
    }
   ],
   "source": [
    "#if there are multiple keys, then the first element in the list is the tuple of key values:\n",
    "for (k1, k2), group in df.groupby(['key1', 'key2']):\n",
    "    print((k1, k2))\n",
    "    print(group)"
   ]
  },
  {
   "cell_type": "code",
   "execution_count": 28,
   "id": "bc051e12-d54d-4884-80c2-69470f0bf231",
   "metadata": {},
   "outputs": [
    {
     "data": {
      "text/html": [
       "<div>\n",
       "<style scoped>\n",
       "    .dataframe tbody tr th:only-of-type {\n",
       "        vertical-align: middle;\n",
       "    }\n",
       "\n",
       "    .dataframe tbody tr th {\n",
       "        vertical-align: top;\n",
       "    }\n",
       "\n",
       "    .dataframe thead th {\n",
       "        text-align: right;\n",
       "    }\n",
       "</style>\n",
       "<table border=\"1\" class=\"dataframe\">\n",
       "  <thead>\n",
       "    <tr style=\"text-align: right;\">\n",
       "      <th></th>\n",
       "      <th>key1</th>\n",
       "      <th>key2</th>\n",
       "      <th>data1</th>\n",
       "      <th>data2</th>\n",
       "    </tr>\n",
       "  </thead>\n",
       "  <tbody>\n",
       "    <tr>\n",
       "      <th>3</th>\n",
       "      <td>b</td>\n",
       "      <td>2</td>\n",
       "      <td>2.155221</td>\n",
       "      <td>-0.882579</td>\n",
       "    </tr>\n",
       "    <tr>\n",
       "      <th>4</th>\n",
       "      <td>b</td>\n",
       "      <td>1</td>\n",
       "      <td>-0.626440</td>\n",
       "      <td>1.744910</td>\n",
       "    </tr>\n",
       "  </tbody>\n",
       "</table>\n",
       "</div>"
      ],
      "text/plain": [
       "  key1  key2     data1     data2\n",
       "3    b     2  2.155221 -0.882579\n",
       "4    b     1 -0.626440  1.744910"
      ]
     },
     "execution_count": 28,
     "metadata": {},
     "output_type": "execute_result"
    }
   ],
   "source": [
    "#we can do anything we want with the data\n",
    "#E.g.: a dictionary of the data as a one-liner\n",
    "pieces = {name: group for name, group in df.groupby('key1')}\n",
    "pieces['b']"
   ]
  },
  {
   "cell_type": "code",
   "execution_count": 29,
   "id": "acb16738-a2cd-4c48-99b5-45764d20bda3",
   "metadata": {},
   "outputs": [],
   "source": [
    "#we can work on any axis, although axis='index' by default\n",
    "grouped = df.groupby({'key1': 'key', 'key2': 'key',\n",
    "                     'data1': 'data', 'data2': 'data'}, axis='columns')"
   ]
  },
  {
   "cell_type": "code",
   "execution_count": 30,
   "id": "a75bf03c-32bc-4fbe-a1a5-6a85ed271ba9",
   "metadata": {},
   "outputs": [
    {
     "data": {
      "text/plain": [
       "<pandas.core.groupby.generic.DataFrameGroupBy object at 0x7ff66a81cca0>"
      ]
     },
     "execution_count": 30,
     "metadata": {},
     "output_type": "execute_result"
    }
   ],
   "source": [
    "grouped"
   ]
  },
  {
   "cell_type": "code",
   "execution_count": 31,
   "id": "bffe847a-b42b-4167-9c29-ab4e7aa72aeb",
   "metadata": {},
   "outputs": [
    {
     "name": "stdout",
     "output_type": "stream",
     "text": [
      "data\n",
      "      data1     data2\n",
      "0 -0.886677 -0.304075\n",
      "1 -1.592214 -0.041614\n",
      "2 -2.185377  1.536094\n",
      "3  2.155221 -0.882579\n",
      "4 -0.626440  1.744910\n",
      "5  0.108844  0.356165\n",
      "6  1.443020  0.193343\n",
      "key\n",
      "   key1  key2\n",
      "0     a     1\n",
      "1     a     2\n",
      "2  None     1\n",
      "3     b     2\n",
      "4     b     1\n",
      "5     a  <NA>\n",
      "6  None     1\n"
     ]
    }
   ],
   "source": [
    "#we can print out the groups like this:\n",
    "for group_key, group_values in grouped:\n",
    "    print(group_key)\n",
    "    print(group_values)"
   ]
  },
  {
   "cell_type": "code",
   "execution_count": 32,
   "id": "ba383b30-8c0a-464c-9044-9c40a8b70512",
   "metadata": {},
   "outputs": [
    {
     "data": {
      "text/html": [
       "<div>\n",
       "<style scoped>\n",
       "    .dataframe tbody tr th:only-of-type {\n",
       "        vertical-align: middle;\n",
       "    }\n",
       "\n",
       "    .dataframe tbody tr th {\n",
       "        vertical-align: top;\n",
       "    }\n",
       "\n",
       "    .dataframe thead th {\n",
       "        text-align: right;\n",
       "    }\n",
       "</style>\n",
       "<table border=\"1\" class=\"dataframe\">\n",
       "  <thead>\n",
       "    <tr style=\"text-align: right;\">\n",
       "      <th></th>\n",
       "      <th></th>\n",
       "      <th>data2</th>\n",
       "    </tr>\n",
       "    <tr>\n",
       "      <th>key1</th>\n",
       "      <th>key2</th>\n",
       "      <th></th>\n",
       "    </tr>\n",
       "  </thead>\n",
       "  <tbody>\n",
       "    <tr>\n",
       "      <th rowspan=\"2\" valign=\"top\">a</th>\n",
       "      <th>1</th>\n",
       "      <td>-0.304075</td>\n",
       "    </tr>\n",
       "    <tr>\n",
       "      <th>2</th>\n",
       "      <td>-0.041614</td>\n",
       "    </tr>\n",
       "    <tr>\n",
       "      <th rowspan=\"2\" valign=\"top\">b</th>\n",
       "      <th>1</th>\n",
       "      <td>1.744910</td>\n",
       "    </tr>\n",
       "    <tr>\n",
       "      <th>2</th>\n",
       "      <td>-0.882579</td>\n",
       "    </tr>\n",
       "  </tbody>\n",
       "</table>\n",
       "</div>"
      ],
      "text/plain": [
       "              data2\n",
       "key1 key2          \n",
       "a    1    -0.304075\n",
       "     2    -0.041614\n",
       "b    1     1.744910\n",
       "     2    -0.882579"
      ]
     },
     "execution_count": 32,
     "metadata": {},
     "output_type": "execute_result"
    }
   ],
   "source": [
    "#select column or subset of columns\n",
    "#df.groupby('key1')['data1']\n",
    "#or\n",
    "#df.groupby('key1')[['data2']]\n",
    "#are conveniences for:\n",
    "#df['data1'].groupby(df['key1'])\n",
    "#df[['data2']].groupby(df['key1'])\n",
    "#reason: large datasets may require that only a few columns be aggregated\n",
    "#compute the means for the 'data2' column only:\n",
    "df.groupby(['key1', 'key2'])[['data2']].mean()"
   ]
  },
  {
   "cell_type": "code",
   "execution_count": 33,
   "id": "e62cb7b8-0da9-415e-98be-a4cba4196e92",
   "metadata": {},
   "outputs": [
    {
     "data": {
      "text/plain": [
       "<pandas.core.groupby.generic.SeriesGroupBy object at 0x7ff66a81e1d0>"
      ]
     },
     "execution_count": 33,
     "metadata": {},
     "output_type": "execute_result"
    }
   ],
   "source": [
    "#object returned by this indexing option:\n",
    "#1) if we pass a list or series we get a grouped DataFrame \n",
    "#2) if we pass a single column, we get a grouped Series\n",
    "s_grouped = df.groupby(['key1', 'key2'])['data2']\n",
    "s_grouped"
   ]
  },
  {
   "cell_type": "code",
   "execution_count": 34,
   "id": "0b5d474e-17f7-4525-b92e-8968a2446b4a",
   "metadata": {},
   "outputs": [
    {
     "data": {
      "text/plain": [
       "key1  key2\n",
       "a     1      -0.304075\n",
       "      2      -0.041614\n",
       "b     1       1.744910\n",
       "      2      -0.882579\n",
       "Name: data2, dtype: float64"
      ]
     },
     "execution_count": 34,
     "metadata": {},
     "output_type": "execute_result"
    }
   ],
   "source": [
    "s_grouped.mean()"
   ]
  },
  {
   "cell_type": "code",
   "execution_count": 35,
   "id": "3d20613e-06fe-42f2-ae94-24746a981d2a",
   "metadata": {},
   "outputs": [
    {
     "data": {
      "text/html": [
       "<div>\n",
       "<style scoped>\n",
       "    .dataframe tbody tr th:only-of-type {\n",
       "        vertical-align: middle;\n",
       "    }\n",
       "\n",
       "    .dataframe tbody tr th {\n",
       "        vertical-align: top;\n",
       "    }\n",
       "\n",
       "    .dataframe thead th {\n",
       "        text-align: right;\n",
       "    }\n",
       "</style>\n",
       "<table border=\"1\" class=\"dataframe\">\n",
       "  <thead>\n",
       "    <tr style=\"text-align: right;\">\n",
       "      <th></th>\n",
       "      <th>a</th>\n",
       "      <th>b</th>\n",
       "      <th>c</th>\n",
       "      <th>d</th>\n",
       "      <th>e</th>\n",
       "    </tr>\n",
       "  </thead>\n",
       "  <tbody>\n",
       "    <tr>\n",
       "      <th>Joe</th>\n",
       "      <td>0.108992</td>\n",
       "      <td>-0.441321</td>\n",
       "      <td>0.964288</td>\n",
       "      <td>0.266299</td>\n",
       "      <td>-0.133302</td>\n",
       "    </tr>\n",
       "    <tr>\n",
       "      <th>Steven</th>\n",
       "      <td>-0.708168</td>\n",
       "      <td>-0.378783</td>\n",
       "      <td>0.410194</td>\n",
       "      <td>1.125199</td>\n",
       "      <td>-0.256270</td>\n",
       "    </tr>\n",
       "    <tr>\n",
       "      <th>Wanda</th>\n",
       "      <td>0.077001</td>\n",
       "      <td>0.368164</td>\n",
       "      <td>-0.615041</td>\n",
       "      <td>0.576952</td>\n",
       "      <td>-0.716069</td>\n",
       "    </tr>\n",
       "    <tr>\n",
       "      <th>Jill</th>\n",
       "      <td>1.571196</td>\n",
       "      <td>-0.073099</td>\n",
       "      <td>-1.983265</td>\n",
       "      <td>-0.327292</td>\n",
       "      <td>1.506435</td>\n",
       "    </tr>\n",
       "    <tr>\n",
       "      <th>Trey</th>\n",
       "      <td>0.660479</td>\n",
       "      <td>0.532839</td>\n",
       "      <td>0.300190</td>\n",
       "      <td>0.443682</td>\n",
       "      <td>-0.414753</td>\n",
       "    </tr>\n",
       "  </tbody>\n",
       "</table>\n",
       "</div>"
      ],
      "text/plain": [
       "               a         b         c         d         e\n",
       "Joe     0.108992 -0.441321  0.964288  0.266299 -0.133302\n",
       "Steven -0.708168 -0.378783  0.410194  1.125199 -0.256270\n",
       "Wanda   0.077001  0.368164 -0.615041  0.576952 -0.716069\n",
       "Jill    1.571196 -0.073099 -1.983265 -0.327292  1.506435\n",
       "Trey    0.660479  0.532839  0.300190  0.443682 -0.414753"
      ]
     },
     "execution_count": 35,
     "metadata": {},
     "output_type": "execute_result"
    }
   ],
   "source": [
    "#grouping with dictionaries and series\n",
    "people = pd.DataFrame(np.random.standard_normal((5, 5)),\n",
    "                    columns=['a', 'b', 'c', 'd', 'e'],\n",
    "                     index=['Joe', 'Steven', 'Wanda', 'Jill', 'Trey'])\n",
    "people"
   ]
  },
  {
   "cell_type": "code",
   "execution_count": 36,
   "id": "6b5abb67-5e44-499b-b1b7-e7fef84ce293",
   "metadata": {},
   "outputs": [],
   "source": [
    "people.iloc[2:3, [1, 2]] = np.nan #add a few NA values"
   ]
  },
  {
   "cell_type": "code",
   "execution_count": 37,
   "id": "fc1c1efd-95b4-4fd0-8756-e39bf62b55a9",
   "metadata": {},
   "outputs": [
    {
     "data": {
      "text/html": [
       "<div>\n",
       "<style scoped>\n",
       "    .dataframe tbody tr th:only-of-type {\n",
       "        vertical-align: middle;\n",
       "    }\n",
       "\n",
       "    .dataframe tbody tr th {\n",
       "        vertical-align: top;\n",
       "    }\n",
       "\n",
       "    .dataframe thead th {\n",
       "        text-align: right;\n",
       "    }\n",
       "</style>\n",
       "<table border=\"1\" class=\"dataframe\">\n",
       "  <thead>\n",
       "    <tr style=\"text-align: right;\">\n",
       "      <th></th>\n",
       "      <th>a</th>\n",
       "      <th>b</th>\n",
       "      <th>c</th>\n",
       "      <th>d</th>\n",
       "      <th>e</th>\n",
       "    </tr>\n",
       "  </thead>\n",
       "  <tbody>\n",
       "    <tr>\n",
       "      <th>Joe</th>\n",
       "      <td>0.108992</td>\n",
       "      <td>-0.441321</td>\n",
       "      <td>0.964288</td>\n",
       "      <td>0.266299</td>\n",
       "      <td>-0.133302</td>\n",
       "    </tr>\n",
       "    <tr>\n",
       "      <th>Steven</th>\n",
       "      <td>-0.708168</td>\n",
       "      <td>-0.378783</td>\n",
       "      <td>0.410194</td>\n",
       "      <td>1.125199</td>\n",
       "      <td>-0.256270</td>\n",
       "    </tr>\n",
       "    <tr>\n",
       "      <th>Wanda</th>\n",
       "      <td>0.077001</td>\n",
       "      <td>NaN</td>\n",
       "      <td>NaN</td>\n",
       "      <td>0.576952</td>\n",
       "      <td>-0.716069</td>\n",
       "    </tr>\n",
       "    <tr>\n",
       "      <th>Jill</th>\n",
       "      <td>1.571196</td>\n",
       "      <td>-0.073099</td>\n",
       "      <td>-1.983265</td>\n",
       "      <td>-0.327292</td>\n",
       "      <td>1.506435</td>\n",
       "    </tr>\n",
       "    <tr>\n",
       "      <th>Trey</th>\n",
       "      <td>0.660479</td>\n",
       "      <td>0.532839</td>\n",
       "      <td>0.300190</td>\n",
       "      <td>0.443682</td>\n",
       "      <td>-0.414753</td>\n",
       "    </tr>\n",
       "  </tbody>\n",
       "</table>\n",
       "</div>"
      ],
      "text/plain": [
       "               a         b         c         d         e\n",
       "Joe     0.108992 -0.441321  0.964288  0.266299 -0.133302\n",
       "Steven -0.708168 -0.378783  0.410194  1.125199 -0.256270\n",
       "Wanda   0.077001       NaN       NaN  0.576952 -0.716069\n",
       "Jill    1.571196 -0.073099 -1.983265 -0.327292  1.506435\n",
       "Trey    0.660479  0.532839  0.300190  0.443682 -0.414753"
      ]
     },
     "execution_count": 37,
     "metadata": {},
     "output_type": "execute_result"
    }
   ],
   "source": [
    "people"
   ]
  },
  {
   "cell_type": "code",
   "execution_count": 38,
   "id": "523d525b-8c6e-446d-83ab-41c9254a0d87",
   "metadata": {},
   "outputs": [],
   "source": [
    "#let's suppose we have a group corresponding to the columns and want to sum them as a group\n",
    "mapping : Dict = {'a': 'red', 'b': 'red', 'c': 'blue',\n",
    "          'd': 'blue', 'e': 'red', 'f': 'orange'}"
   ]
  },
  {
   "cell_type": "code",
   "execution_count": 45,
   "id": "9cbba65f-4ee6-4935-83f9-23d50a0c5cf3",
   "metadata": {},
   "outputs": [],
   "source": [
    "#we could construct an array from this dictionary to pass to groupby but here we will just pass\n",
    "#the dictionary.\n",
    "by_column = people.groupby(mapping, axis='columns')"
   ]
  },
  {
   "cell_type": "code",
   "execution_count": 46,
   "id": "52cad0ea-3b88-4740-8a0d-c2a748c048e0",
   "metadata": {},
   "outputs": [
    {
     "data": {
      "text/html": [
       "<div>\n",
       "<style scoped>\n",
       "    .dataframe tbody tr th:only-of-type {\n",
       "        vertical-align: middle;\n",
       "    }\n",
       "\n",
       "    .dataframe tbody tr th {\n",
       "        vertical-align: top;\n",
       "    }\n",
       "\n",
       "    .dataframe thead th {\n",
       "        text-align: right;\n",
       "    }\n",
       "</style>\n",
       "<table border=\"1\" class=\"dataframe\">\n",
       "  <thead>\n",
       "    <tr style=\"text-align: right;\">\n",
       "      <th></th>\n",
       "      <th>blue</th>\n",
       "      <th>red</th>\n",
       "    </tr>\n",
       "  </thead>\n",
       "  <tbody>\n",
       "    <tr>\n",
       "      <th>Joe</th>\n",
       "      <td>1.230588</td>\n",
       "      <td>-0.465631</td>\n",
       "    </tr>\n",
       "    <tr>\n",
       "      <th>Steven</th>\n",
       "      <td>1.535393</td>\n",
       "      <td>-1.343221</td>\n",
       "    </tr>\n",
       "    <tr>\n",
       "      <th>Wanda</th>\n",
       "      <td>0.576952</td>\n",
       "      <td>-0.639068</td>\n",
       "    </tr>\n",
       "    <tr>\n",
       "      <th>Jill</th>\n",
       "      <td>-2.310557</td>\n",
       "      <td>3.004532</td>\n",
       "    </tr>\n",
       "    <tr>\n",
       "      <th>Trey</th>\n",
       "      <td>0.743872</td>\n",
       "      <td>0.778566</td>\n",
       "    </tr>\n",
       "  </tbody>\n",
       "</table>\n",
       "</div>"
      ],
      "text/plain": [
       "            blue       red\n",
       "Joe     1.230588 -0.465631\n",
       "Steven  1.535393 -1.343221\n",
       "Wanda   0.576952 -0.639068\n",
       "Jill   -2.310557  3.004532\n",
       "Trey    0.743872  0.778566"
      ]
     },
     "execution_count": 46,
     "metadata": {},
     "output_type": "execute_result"
    }
   ],
   "source": [
    "by_column.sum()"
   ]
  },
  {
   "cell_type": "code",
   "execution_count": 47,
   "id": "88836cb4-4aab-4ec2-a2b4-98e2c8cbebe2",
   "metadata": {},
   "outputs": [],
   "source": [
    "#same as above but with a number for the axis\n",
    "by_column2 = people.groupby(mapping, axis=1)"
   ]
  },
  {
   "cell_type": "code",
   "execution_count": 48,
   "id": "73b12571-3f8e-470b-abb1-d9a0eece3290",
   "metadata": {},
   "outputs": [
    {
     "data": {
      "text/html": [
       "<div>\n",
       "<style scoped>\n",
       "    .dataframe tbody tr th:only-of-type {\n",
       "        vertical-align: middle;\n",
       "    }\n",
       "\n",
       "    .dataframe tbody tr th {\n",
       "        vertical-align: top;\n",
       "    }\n",
       "\n",
       "    .dataframe thead th {\n",
       "        text-align: right;\n",
       "    }\n",
       "</style>\n",
       "<table border=\"1\" class=\"dataframe\">\n",
       "  <thead>\n",
       "    <tr style=\"text-align: right;\">\n",
       "      <th></th>\n",
       "      <th>blue</th>\n",
       "      <th>red</th>\n",
       "    </tr>\n",
       "  </thead>\n",
       "  <tbody>\n",
       "    <tr>\n",
       "      <th>Joe</th>\n",
       "      <td>1.230588</td>\n",
       "      <td>-0.465631</td>\n",
       "    </tr>\n",
       "    <tr>\n",
       "      <th>Steven</th>\n",
       "      <td>1.535393</td>\n",
       "      <td>-1.343221</td>\n",
       "    </tr>\n",
       "    <tr>\n",
       "      <th>Wanda</th>\n",
       "      <td>0.576952</td>\n",
       "      <td>-0.639068</td>\n",
       "    </tr>\n",
       "    <tr>\n",
       "      <th>Jill</th>\n",
       "      <td>-2.310557</td>\n",
       "      <td>3.004532</td>\n",
       "    </tr>\n",
       "    <tr>\n",
       "      <th>Trey</th>\n",
       "      <td>0.743872</td>\n",
       "      <td>0.778566</td>\n",
       "    </tr>\n",
       "  </tbody>\n",
       "</table>\n",
       "</div>"
      ],
      "text/plain": [
       "            blue       red\n",
       "Joe     1.230588 -0.465631\n",
       "Steven  1.535393 -1.343221\n",
       "Wanda   0.576952 -0.639068\n",
       "Jill   -2.310557  3.004532\n",
       "Trey    0.743872  0.778566"
      ]
     },
     "execution_count": 48,
     "metadata": {},
     "output_type": "execute_result"
    }
   ],
   "source": [
    "by_column2.sum()"
   ]
  },
  {
   "cell_type": "code",
   "execution_count": 49,
   "id": "1a79da53-2548-4a97-9066-4d15c90785bc",
   "metadata": {},
   "outputs": [],
   "source": [
    "#We can also use this for pd.Series objects, which seem like a fixed-size mapping.\n",
    "map_series = pd.Series(mapping)"
   ]
  },
  {
   "cell_type": "code",
   "execution_count": 50,
   "id": "370bca8c-4940-4920-87df-fdb162869040",
   "metadata": {},
   "outputs": [
    {
     "data": {
      "text/plain": [
       "a       red\n",
       "b       red\n",
       "c      blue\n",
       "d      blue\n",
       "e       red\n",
       "f    orange\n",
       "dtype: object"
      ]
     },
     "execution_count": 50,
     "metadata": {},
     "output_type": "execute_result"
    }
   ],
   "source": [
    "map_series"
   ]
  },
  {
   "cell_type": "code",
   "execution_count": 51,
   "id": "fdb0e602-6b71-4f2f-a636-58b9d691c34d",
   "metadata": {},
   "outputs": [
    {
     "data": {
      "text/html": [
       "<div>\n",
       "<style scoped>\n",
       "    .dataframe tbody tr th:only-of-type {\n",
       "        vertical-align: middle;\n",
       "    }\n",
       "\n",
       "    .dataframe tbody tr th {\n",
       "        vertical-align: top;\n",
       "    }\n",
       "\n",
       "    .dataframe thead th {\n",
       "        text-align: right;\n",
       "    }\n",
       "</style>\n",
       "<table border=\"1\" class=\"dataframe\">\n",
       "  <thead>\n",
       "    <tr style=\"text-align: right;\">\n",
       "      <th></th>\n",
       "      <th>blue</th>\n",
       "      <th>red</th>\n",
       "    </tr>\n",
       "  </thead>\n",
       "  <tbody>\n",
       "    <tr>\n",
       "      <th>Joe</th>\n",
       "      <td>2</td>\n",
       "      <td>3</td>\n",
       "    </tr>\n",
       "    <tr>\n",
       "      <th>Steven</th>\n",
       "      <td>2</td>\n",
       "      <td>3</td>\n",
       "    </tr>\n",
       "    <tr>\n",
       "      <th>Wanda</th>\n",
       "      <td>1</td>\n",
       "      <td>2</td>\n",
       "    </tr>\n",
       "    <tr>\n",
       "      <th>Jill</th>\n",
       "      <td>2</td>\n",
       "      <td>3</td>\n",
       "    </tr>\n",
       "    <tr>\n",
       "      <th>Trey</th>\n",
       "      <td>2</td>\n",
       "      <td>3</td>\n",
       "    </tr>\n",
       "  </tbody>\n",
       "</table>\n",
       "</div>"
      ],
      "text/plain": [
       "        blue  red\n",
       "Joe        2    3\n",
       "Steven     2    3\n",
       "Wanda      1    2\n",
       "Jill       2    3\n",
       "Trey       2    3"
      ]
     },
     "execution_count": 51,
     "metadata": {},
     "output_type": "execute_result"
    }
   ],
   "source": [
    "#pass to groupby\n",
    "people.groupby(map_series, axis='columns').count()"
   ]
  },
  {
   "cell_type": "code",
   "execution_count": 55,
   "id": "c151b929-023a-4ad2-8966-1dafafb050f9",
   "metadata": {},
   "outputs": [
    {
     "data": {
      "text/html": [
       "<div>\n",
       "<style scoped>\n",
       "    .dataframe tbody tr th:only-of-type {\n",
       "        vertical-align: middle;\n",
       "    }\n",
       "\n",
       "    .dataframe tbody tr th {\n",
       "        vertical-align: top;\n",
       "    }\n",
       "\n",
       "    .dataframe thead th {\n",
       "        text-align: right;\n",
       "    }\n",
       "</style>\n",
       "<table border=\"1\" class=\"dataframe\">\n",
       "  <thead>\n",
       "    <tr style=\"text-align: right;\">\n",
       "      <th></th>\n",
       "      <th>blue</th>\n",
       "      <th>red</th>\n",
       "    </tr>\n",
       "  </thead>\n",
       "  <tbody>\n",
       "    <tr>\n",
       "      <th>Joe</th>\n",
       "      <td>2</td>\n",
       "      <td>3</td>\n",
       "    </tr>\n",
       "    <tr>\n",
       "      <th>Steven</th>\n",
       "      <td>2</td>\n",
       "      <td>3</td>\n",
       "    </tr>\n",
       "    <tr>\n",
       "      <th>Wanda</th>\n",
       "      <td>1</td>\n",
       "      <td>2</td>\n",
       "    </tr>\n",
       "    <tr>\n",
       "      <th>Jill</th>\n",
       "      <td>2</td>\n",
       "      <td>3</td>\n",
       "    </tr>\n",
       "    <tr>\n",
       "      <th>Trey</th>\n",
       "      <td>2</td>\n",
       "      <td>3</td>\n",
       "    </tr>\n",
       "  </tbody>\n",
       "</table>\n",
       "</div>"
      ],
      "text/plain": [
       "        blue  red\n",
       "Joe        2    3\n",
       "Steven     2    3\n",
       "Wanda      1    2\n",
       "Jill       2    3\n",
       "Trey       2    3"
      ]
     },
     "execution_count": 55,
     "metadata": {},
     "output_type": "execute_result"
    }
   ],
   "source": [
    "#same as above.\n",
    "#Note: if we were to use axis=1, then the result would be an empty DataFrame.\n",
    "people.groupby(map_series, axis=1).count()"
   ]
  },
  {
   "cell_type": "code",
   "execution_count": 56,
   "id": "3205d769-42ef-4c2c-86a6-4edc75b1aa7b",
   "metadata": {},
   "outputs": [
    {
     "data": {
      "text/html": [
       "<div>\n",
       "<style scoped>\n",
       "    .dataframe tbody tr th:only-of-type {\n",
       "        vertical-align: middle;\n",
       "    }\n",
       "\n",
       "    .dataframe tbody tr th {\n",
       "        vertical-align: top;\n",
       "    }\n",
       "\n",
       "    .dataframe thead th {\n",
       "        text-align: right;\n",
       "    }\n",
       "</style>\n",
       "<table border=\"1\" class=\"dataframe\">\n",
       "  <thead>\n",
       "    <tr style=\"text-align: right;\">\n",
       "      <th></th>\n",
       "      <th>a</th>\n",
       "      <th>b</th>\n",
       "      <th>c</th>\n",
       "      <th>d</th>\n",
       "      <th>e</th>\n",
       "    </tr>\n",
       "  </thead>\n",
       "  <tbody>\n",
       "    <tr>\n",
       "      <th>3</th>\n",
       "      <td>0.108992</td>\n",
       "      <td>-0.441321</td>\n",
       "      <td>0.964288</td>\n",
       "      <td>0.266299</td>\n",
       "      <td>-0.133302</td>\n",
       "    </tr>\n",
       "    <tr>\n",
       "      <th>4</th>\n",
       "      <td>2.231675</td>\n",
       "      <td>0.459740</td>\n",
       "      <td>-1.683075</td>\n",
       "      <td>0.116389</td>\n",
       "      <td>1.091682</td>\n",
       "    </tr>\n",
       "    <tr>\n",
       "      <th>5</th>\n",
       "      <td>0.077001</td>\n",
       "      <td>0.000000</td>\n",
       "      <td>0.000000</td>\n",
       "      <td>0.576952</td>\n",
       "      <td>-0.716069</td>\n",
       "    </tr>\n",
       "    <tr>\n",
       "      <th>6</th>\n",
       "      <td>-0.708168</td>\n",
       "      <td>-0.378783</td>\n",
       "      <td>0.410194</td>\n",
       "      <td>1.125199</td>\n",
       "      <td>-0.256270</td>\n",
       "    </tr>\n",
       "  </tbody>\n",
       "</table>\n",
       "</div>"
      ],
      "text/plain": [
       "          a         b         c         d         e\n",
       "3  0.108992 -0.441321  0.964288  0.266299 -0.133302\n",
       "4  2.231675  0.459740 -1.683075  0.116389  1.091682\n",
       "5  0.077001  0.000000  0.000000  0.576952 -0.716069\n",
       "6 -0.708168 -0.378783  0.410194  1.125199 -0.256270"
      ]
     },
     "execution_count": 56,
     "metadata": {},
     "output_type": "execute_result"
    }
   ],
   "source": [
    "#grouping with functions\n",
    "#example: len\n",
    "people.groupby(len).sum()"
   ]
  },
  {
   "cell_type": "code",
   "execution_count": null,
   "id": "97222dd9-7013-4c6a-ae44-98df438441fe",
   "metadata": {},
   "outputs": [],
   "source": [
    "#We can use arrays, dictionaries or Series. Pandas converts these into "
   ]
  }
 ],
 "metadata": {
  "kernelspec": {
   "display_name": "Python 3 (ipykernel)",
   "language": "python",
   "name": "python3"
  },
  "language_info": {
   "codemirror_mode": {
    "name": "ipython",
    "version": 3
   },
   "file_extension": ".py",
   "mimetype": "text/x-python",
   "name": "python",
   "nbconvert_exporter": "python",
   "pygments_lexer": "ipython3",
   "version": "3.10.0"
  }
 },
 "nbformat": 4,
 "nbformat_minor": 5
}
