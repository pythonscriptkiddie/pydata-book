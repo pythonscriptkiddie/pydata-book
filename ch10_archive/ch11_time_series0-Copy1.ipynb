{
 "cells": [
  {
   "cell_type": "code",
   "execution_count": 1,
   "id": "0c6502bb-56b5-499e-9753-045f3f245172",
   "metadata": {},
   "outputs": [],
   "source": [
    "from typing import List, Union\n",
    "from datetime import datetime, timedelta\n",
    "import numpy as np\n",
    "import pandas as pd"
   ]
  },
  {
   "cell_type": "code",
   "execution_count": 2,
   "id": "0df05b0b-9708-4553-9ba6-829a271e6759",
   "metadata": {},
   "outputs": [],
   "source": [
    "#datetime, time, and calendar modules have resources for time series data\n",
    "now = datetime.now()"
   ]
  },
  {
   "cell_type": "code",
   "execution_count": 3,
   "id": "2fee459e-2c7d-48af-a85f-27953e871898",
   "metadata": {},
   "outputs": [
    {
     "data": {
      "text/plain": [
       "datetime.datetime(2023, 1, 23, 6, 35, 21, 458823)"
      ]
     },
     "execution_count": 3,
     "metadata": {},
     "output_type": "execute_result"
    }
   ],
   "source": [
    "now"
   ]
  },
  {
   "cell_type": "code",
   "execution_count": 4,
   "id": "9ce8c281-7705-4d10-8031-ad53cf3ba504",
   "metadata": {},
   "outputs": [
    {
     "data": {
      "text/plain": [
       "(2023, 1, 23)"
      ]
     },
     "execution_count": 4,
     "metadata": {},
     "output_type": "execute_result"
    }
   ],
   "source": [
    "now.year, now.month, now.day"
   ]
  },
  {
   "cell_type": "code",
   "execution_count": 5,
   "id": "75575ba0-2303-48fc-b111-4ed5831451a3",
   "metadata": {},
   "outputs": [],
   "source": [
    "#datetime stores date and time at the microsecond range\n",
    "#timedelta represents the difference between two time objects\n",
    "delta = datetime(2011, 1, 7) - datetime(2008, 6, 24, 8, 15)"
   ]
  },
  {
   "cell_type": "code",
   "execution_count": 6,
   "id": "ef9bb172-64b3-4b2d-8e01-4b1351b5f461",
   "metadata": {},
   "outputs": [
    {
     "data": {
      "text/plain": [
       "datetime.timedelta(days=926, seconds=56700)"
      ]
     },
     "execution_count": 6,
     "metadata": {},
     "output_type": "execute_result"
    }
   ],
   "source": [
    "delta"
   ]
  },
  {
   "cell_type": "code",
   "execution_count": 7,
   "id": "8f77382e-126a-4890-832e-abf3592554d3",
   "metadata": {},
   "outputs": [
    {
     "data": {
      "text/plain": [
       "926"
      ]
     },
     "execution_count": 7,
     "metadata": {},
     "output_type": "execute_result"
    }
   ],
   "source": [
    "delta.days"
   ]
  },
  {
   "cell_type": "code",
   "execution_count": 8,
   "id": "7afd6e8c-7165-41f2-98b8-562e2301dce8",
   "metadata": {},
   "outputs": [
    {
     "data": {
      "text/plain": [
       "56700"
      ]
     },
     "execution_count": 8,
     "metadata": {},
     "output_type": "execute_result"
    }
   ],
   "source": [
    "delta.seconds"
   ]
  },
  {
   "cell_type": "code",
   "execution_count": 9,
   "id": "df1508b3-d00e-404b-ba52-2070c92342ce",
   "metadata": {},
   "outputs": [],
   "source": [
    "#Adding and subtracting timedelta objects\n",
    "start = datetime(2011, 1, 7)"
   ]
  },
  {
   "cell_type": "code",
   "execution_count": 10,
   "id": "f2349b74-28d8-4510-bdba-6820d0899acd",
   "metadata": {},
   "outputs": [
    {
     "data": {
      "text/plain": [
       "datetime.datetime(2011, 1, 19, 0, 0)"
      ]
     },
     "execution_count": 10,
     "metadata": {},
     "output_type": "execute_result"
    }
   ],
   "source": [
    "start + timedelta(12)"
   ]
  },
  {
   "cell_type": "code",
   "execution_count": 11,
   "id": "a40e039c-6cb7-4f30-beb7-436c67707a71",
   "metadata": {},
   "outputs": [
    {
     "data": {
      "text/plain": [
       "datetime.datetime(2010, 12, 14, 0, 0)"
      ]
     },
     "execution_count": 11,
     "metadata": {},
     "output_type": "execute_result"
    }
   ],
   "source": [
    "start - 2 * timedelta(12)"
   ]
  },
  {
   "cell_type": "code",
   "execution_count": 12,
   "id": "440110d6-36f7-4c7f-abbc-1b03abe08a7f",
   "metadata": {},
   "outputs": [
    {
     "data": {
      "text/plain": [
       "datetime.datetime(2011, 1, 19, 0, 0, 13)"
      ]
     },
     "execution_count": 12,
     "metadata": {},
     "output_type": "execute_result"
    }
   ],
   "source": [
    "#start of practice\n",
    "start + timedelta(12, 13)"
   ]
  },
  {
   "cell_type": "code",
   "execution_count": 13,
   "id": "96aae39c-7c51-4699-adca-6c12dd946314",
   "metadata": {},
   "outputs": [
    {
     "data": {
      "text/plain": [
       "datetime.datetime(2011, 1, 19, 0, 0, 13, 14)"
      ]
     },
     "execution_count": 13,
     "metadata": {},
     "output_type": "execute_result"
    }
   ],
   "source": [
    "start + timedelta(12, 13, 14) #adding a third number"
   ]
  },
  {
   "cell_type": "code",
   "execution_count": 14,
   "id": "407101d8-47d2-4fc9-b89e-9b389507feb2",
   "metadata": {},
   "outputs": [
    {
     "data": {
      "text/plain": [
       "datetime.datetime(2011, 1, 19, 0, 0, 13, 15014)"
      ]
     },
     "execution_count": 14,
     "metadata": {},
     "output_type": "execute_result"
    }
   ],
   "source": [
    "start + timedelta(12, 13, 14, 15) #adding a fourth number"
   ]
  },
  {
   "cell_type": "code",
   "execution_count": 15,
   "id": "ceeacf59-5136-43af-bef1-12fa42f14660",
   "metadata": {},
   "outputs": [
    {
     "data": {
      "text/plain": [
       "datetime.datetime(2011, 1, 19, 0, 0, 13, 15014)"
      ]
     },
     "execution_count": 15,
     "metadata": {},
     "output_type": "execute_result"
    }
   ],
   "source": [
    "start + timedelta(12, 13, 15014) #same as above"
   ]
  },
  {
   "cell_type": "code",
   "execution_count": 16,
   "id": "5858ba67-3566-4801-90b2-78d655264726",
   "metadata": {},
   "outputs": [
    {
     "data": {
      "text/plain": [
       "datetime.timedelta(days=12, seconds=13, microseconds=15014)"
      ]
     },
     "execution_count": 16,
     "metadata": {},
     "output_type": "execute_result"
    }
   ],
   "source": [
    "timedelta(12, 13, 14, 15)"
   ]
  },
  {
   "cell_type": "code",
   "execution_count": 17,
   "id": "451df247-5448-4584-af8b-4d5734fdf6e6",
   "metadata": {},
   "outputs": [
    {
     "data": {
      "text/plain": [
       "15014"
      ]
     },
     "execution_count": 17,
     "metadata": {},
     "output_type": "execute_result"
    }
   ],
   "source": [
    "timedelta(12, 13, 14, 15).microseconds"
   ]
  },
  {
   "cell_type": "code",
   "execution_count": 18,
   "id": "b8dc5c7b-ce21-497b-9ce7-5957e9c1ba3c",
   "metadata": {},
   "outputs": [],
   "source": [
    "def zero_between(x, y):\n",
    "    '''Random code that '''\n",
    "    return timedelta(12, 13, x, y).microseconds"
   ]
  },
  {
   "cell_type": "code",
   "execution_count": 19,
   "id": "588f682e-224a-4e3a-a9ee-0ed9352b0e61",
   "metadata": {},
   "outputs": [
    {
     "data": {
      "text/plain": [
       "15014"
      ]
     },
     "execution_count": 19,
     "metadata": {},
     "output_type": "execute_result"
    }
   ],
   "source": [
    "zero_between(14, 15)"
   ]
  },
  {
   "cell_type": "code",
   "execution_count": 20,
   "id": "eec6ed52-0b4c-4a65-aaa0-8cba1ccaa7dc",
   "metadata": {},
   "outputs": [],
   "source": [
    "#Converting between str and datetime objects\n",
    "stamp = datetime(2011, 1, 3)"
   ]
  },
  {
   "cell_type": "code",
   "execution_count": 21,
   "id": "b121054a-d733-49af-a4e8-d9593f893cca",
   "metadata": {},
   "outputs": [
    {
     "data": {
      "text/plain": [
       "'2011-01-03 00:00:00'"
      ]
     },
     "execution_count": 21,
     "metadata": {},
     "output_type": "execute_result"
    }
   ],
   "source": [
    "str(stamp)"
   ]
  },
  {
   "cell_type": "code",
   "execution_count": 22,
   "id": "8fc21f17-546e-4879-a6c1-a2b9ec1b4bb8",
   "metadata": {},
   "outputs": [
    {
     "data": {
      "text/plain": [
       "'2011-01-03'"
      ]
     },
     "execution_count": 22,
     "metadata": {},
     "output_type": "execute_result"
    }
   ],
   "source": [
    "stamp.strftime('%Y-%m-%d')"
   ]
  },
  {
   "cell_type": "code",
   "execution_count": 23,
   "id": "8bceea0d-23f0-40ba-b443-05f39019150b",
   "metadata": {},
   "outputs": [
    {
     "data": {
      "text/plain": [
       "'2011-01'"
      ]
     },
     "execution_count": 23,
     "metadata": {},
     "output_type": "execute_result"
    }
   ],
   "source": [
    "stamp.strftime('%Y-%m')"
   ]
  },
  {
   "cell_type": "code",
   "execution_count": 24,
   "id": "bc298e60-fa51-4be0-9018-8e33f9685c52",
   "metadata": {},
   "outputs": [
    {
     "data": {
      "text/plain": [
       "'003'"
      ]
     },
     "execution_count": 24,
     "metadata": {},
     "output_type": "execute_result"
    }
   ],
   "source": [
    "stamp.strftime('%j')"
   ]
  },
  {
   "cell_type": "code",
   "execution_count": 25,
   "id": "e3651a9c-981c-4465-84ac-7443f619289c",
   "metadata": {},
   "outputs": [],
   "source": [
    "stamp2 = datetime(2023, 1, 1)"
   ]
  },
  {
   "cell_type": "code",
   "execution_count": 26,
   "id": "f2ac2239-1013-4386-b738-4b1679aeaf75",
   "metadata": {},
   "outputs": [
    {
     "data": {
      "text/plain": [
       "'001'"
      ]
     },
     "execution_count": 26,
     "metadata": {},
     "output_type": "execute_result"
    }
   ],
   "source": [
    "stamp2.strftime('%j')"
   ]
  },
  {
   "cell_type": "code",
   "execution_count": 27,
   "id": "453a6438-9d57-4143-8335-d41ad355a999",
   "metadata": {},
   "outputs": [],
   "source": [
    "stamp3 = datetime(2022, 12, 31)"
   ]
  },
  {
   "cell_type": "code",
   "execution_count": 28,
   "id": "99a0d011-c004-4ce4-ba2b-91ba872c9d78",
   "metadata": {},
   "outputs": [
    {
     "data": {
      "text/plain": [
       "'365'"
      ]
     },
     "execution_count": 28,
     "metadata": {},
     "output_type": "execute_result"
    }
   ],
   "source": [
    "stamp3.strftime('%j')"
   ]
  },
  {
   "cell_type": "code",
   "execution_count": 29,
   "id": "8644d565-d85a-40e9-a0a1-7ca2f1c35e3d",
   "metadata": {},
   "outputs": [],
   "source": [
    "#time.strptime converts a string to a time\n",
    "value = '2011-01-03'"
   ]
  },
  {
   "cell_type": "code",
   "execution_count": 30,
   "id": "d3126962-1814-4430-99f0-1a3597503d0f",
   "metadata": {},
   "outputs": [
    {
     "data": {
      "text/plain": [
       "datetime.datetime(2011, 1, 3, 0, 0)"
      ]
     },
     "execution_count": 30,
     "metadata": {},
     "output_type": "execute_result"
    }
   ],
   "source": [
    "datetime.strptime(value, \"%Y-%m-%d\")"
   ]
  },
  {
   "cell_type": "code",
   "execution_count": 31,
   "id": "8186fbdc-9d7b-46b5-974b-238c9cdcd172",
   "metadata": {},
   "outputs": [],
   "source": [
    "datestrs = ['7/7/2011', '8/6/2011']"
   ]
  },
  {
   "cell_type": "code",
   "execution_count": 32,
   "id": "16311fc7-70c7-400f-abbb-3dc17d7f132d",
   "metadata": {},
   "outputs": [
    {
     "data": {
      "text/plain": [
       "[datetime.datetime(2011, 7, 7, 0, 0), datetime.datetime(2011, 8, 6, 0, 0)]"
      ]
     },
     "execution_count": 32,
     "metadata": {},
     "output_type": "execute_result"
    }
   ],
   "source": [
    "[datetime.strptime(x, '%m/%d/%Y') for x in datestrs]"
   ]
  },
  {
   "cell_type": "code",
   "execution_count": 33,
   "id": "d301b38d-2537-444b-b003-4eb1bc42df0e",
   "metadata": {},
   "outputs": [],
   "source": [
    "#pandas is suited to working with strings of dates\n",
    "datestrs : List[Union[str, datetime]] = ['2011-07-06 12:00:00', '2011-08-06 00:00:00']"
   ]
  },
  {
   "cell_type": "code",
   "execution_count": 34,
   "id": "196b445e-85d8-47fb-a600-59de82b9b5c8",
   "metadata": {},
   "outputs": [
    {
     "data": {
      "text/plain": [
       "DatetimeIndex(['2011-07-06 12:00:00', '2011-08-06 00:00:00'], dtype='datetime64[ns]', freq=None)"
      ]
     },
     "execution_count": 34,
     "metadata": {},
     "output_type": "execute_result"
    }
   ],
   "source": [
    "pd.to_datetime(datestrs)"
   ]
  },
  {
   "cell_type": "code",
   "execution_count": 35,
   "id": "78bd2edc-42b5-4c9b-86ea-588de695ba6f",
   "metadata": {},
   "outputs": [],
   "source": [
    "#Pandas also handles values that could be considered missing\n",
    "idx = pd.to_datetime(datestrs + [None])"
   ]
  },
  {
   "cell_type": "code",
   "execution_count": 36,
   "id": "54cea1d5-20fa-487d-b01b-4c5ba3a0295d",
   "metadata": {},
   "outputs": [
    {
     "data": {
      "text/plain": [
       "DatetimeIndex(['2011-07-06 12:00:00', '2011-08-06 00:00:00', 'NaT'], dtype='datetime64[ns]', freq=None)"
      ]
     },
     "execution_count": 36,
     "metadata": {},
     "output_type": "execute_result"
    }
   ],
   "source": [
    "idx"
   ]
  },
  {
   "cell_type": "code",
   "execution_count": 37,
   "id": "bc92e621-791d-4db2-bec0-672c09eeceb0",
   "metadata": {},
   "outputs": [
    {
     "data": {
      "text/plain": [
       "NaT"
      ]
     },
     "execution_count": 37,
     "metadata": {},
     "output_type": "execute_result"
    }
   ],
   "source": [
    "idx[2]"
   ]
  },
  {
   "cell_type": "code",
   "execution_count": 38,
   "id": "673e5ff1-e695-4272-9c24-47064ad7452d",
   "metadata": {},
   "outputs": [
    {
     "name": "stdout",
     "output_type": "stream",
     "text": [
      "'F' is a bad directive in format '%F'\n"
     ]
    }
   ],
   "source": [
    "#some codes do not work\n",
    "#for example %F\n",
    "try:\n",
    "    datetime.strptime(value, '%F')\n",
    "except ValueError as e:\n",
    "    print(e)"
   ]
  },
  {
   "cell_type": "code",
   "execution_count": 39,
   "id": "13fc630c-2729-4850-926c-630f81a7641f",
   "metadata": {},
   "outputs": [
    {
     "data": {
      "text/plain": [
       "array([False, False,  True])"
      ]
     },
     "execution_count": 39,
     "metadata": {},
     "output_type": "execute_result"
    }
   ],
   "source": [
    "pd.isna(idx)"
   ]
  },
  {
   "cell_type": "code",
   "execution_count": 40,
   "id": "4931cbf6-20ca-4789-afdd-4ebff48bb67b",
   "metadata": {},
   "outputs": [
    {
     "name": "stdout",
     "output_type": "stream",
     "text": [
      "'D' is a bad directive in format '%D'\n"
     ]
    }
   ],
   "source": [
    "#another example is %D, which does not work in strptime\n",
    "try:\n",
    "    datetime.strptime(value, '%D')\n",
    "except ValueError as e:\n",
    "    print(e)"
   ]
  },
  {
   "cell_type": "code",
   "execution_count": 41,
   "id": "d1092cc5-b205-432a-8687-a1007f43abf8",
   "metadata": {},
   "outputs": [
    {
     "data": {
      "text/plain": [
       "'Monday'"
      ]
     },
     "execution_count": 41,
     "metadata": {},
     "output_type": "execute_result"
    }
   ],
   "source": [
    "#datetime locale info\n",
    "datetime.strftime(now, '%A')"
   ]
  },
  {
   "cell_type": "code",
   "execution_count": 42,
   "id": "28591170-191e-46f9-b1bd-df67e68f9cfd",
   "metadata": {},
   "outputs": [
    {
     "data": {
      "text/plain": [
       "'01/23/23'"
      ]
     },
     "execution_count": 42,
     "metadata": {},
     "output_type": "execute_result"
    }
   ],
   "source": [
    "#local date formatting\n",
    "datetime.strftime(now, '%x')"
   ]
  },
  {
   "cell_type": "code",
   "execution_count": 43,
   "id": "955883ec-658f-4eda-bb64-188608a224c1",
   "metadata": {},
   "outputs": [
    {
     "data": {
      "text/plain": [
       "'06:35:21'"
      ]
     },
     "execution_count": 43,
     "metadata": {},
     "output_type": "execute_result"
    }
   ],
   "source": [
    "datetime.strftime(now, '%X')"
   ]
  },
  {
   "cell_type": "code",
   "execution_count": 44,
   "id": "cc71896d-9367-44d6-b76a-f0ad803c050f",
   "metadata": {},
   "outputs": [],
   "source": [
    "#Time series basics: Series of timestamps forms a timestamp index. Create one from a list of dates.\n",
    "dates = [datetime(2011, 1, 2), datetime(2011, 1, 5),\n",
    "        datetime(2011, 1, 7), datetime(2011, 1, 8),\n",
    "        datetime(2011, 1, 10), datetime(2011, 1, 12)]"
   ]
  },
  {
   "cell_type": "code",
   "execution_count": 45,
   "id": "a105493a-17d0-4f92-922b-bf25035f7594",
   "metadata": {},
   "outputs": [],
   "source": [
    "#convert to pandas series\n",
    "ts = pd.Series(np.random.standard_normal(6), index=dates)"
   ]
  },
  {
   "cell_type": "code",
   "execution_count": 46,
   "id": "2f5e0f1e-2e71-4940-9bcc-316258b53b06",
   "metadata": {},
   "outputs": [
    {
     "data": {
      "text/plain": [
       "2011-01-02   -1.423885\n",
       "2011-01-05   -1.436482\n",
       "2011-01-07    1.072551\n",
       "2011-01-08   -0.788211\n",
       "2011-01-10   -2.788989\n",
       "2011-01-12    1.177342\n",
       "dtype: float64"
      ]
     },
     "execution_count": 46,
     "metadata": {},
     "output_type": "execute_result"
    }
   ],
   "source": [
    "ts"
   ]
  },
  {
   "cell_type": "code",
   "execution_count": 47,
   "id": "b0681034-daee-4b1b-8732-6a59e95b7f45",
   "metadata": {},
   "outputs": [
    {
     "data": {
      "text/plain": [
       "DatetimeIndex(['2011-01-02', '2011-01-05', '2011-01-07', '2011-01-08',\n",
       "               '2011-01-10', '2011-01-12'],\n",
       "              dtype='datetime64[ns]', freq=None)"
      ]
     },
     "execution_count": 47,
     "metadata": {},
     "output_type": "execute_result"
    }
   ],
   "source": [
    "#under the hood, this is a DatetimeIndex\n",
    "ts.index"
   ]
  },
  {
   "cell_type": "code",
   "execution_count": 48,
   "id": "cc6fd046-c5e4-4665-9ce8-111dde1b0273",
   "metadata": {},
   "outputs": [
    {
     "data": {
      "text/plain": [
       "2011-01-02   -2.847770\n",
       "2011-01-05         NaN\n",
       "2011-01-07    2.145101\n",
       "2011-01-08         NaN\n",
       "2011-01-10   -5.577978\n",
       "2011-01-12         NaN\n",
       "dtype: float64"
      ]
     },
     "execution_count": 48,
     "metadata": {},
     "output_type": "execute_result"
    }
   ],
   "source": [
    "#like any other series, we can perform operations on a DatetimeIndex\n",
    "ts + ts[::2] #note the values not present are empty"
   ]
  },
  {
   "cell_type": "code",
   "execution_count": 49,
   "id": "4789c61a-da3b-4432-8af4-398705bca309",
   "metadata": {},
   "outputs": [
    {
     "data": {
      "text/plain": [
       "dtype('<M8[ns]')"
      ]
     },
     "execution_count": 49,
     "metadata": {},
     "output_type": "execute_result"
    }
   ],
   "source": [
    "#pandas stores timestamps using numpy datetime64 dtype\n",
    "ts.index.dtype"
   ]
  },
  {
   "cell_type": "code",
   "execution_count": 50,
   "id": "d42c7a4b-4967-4371-ba57-b2bd86dfc9ec",
   "metadata": {},
   "outputs": [],
   "source": [
    "#scalar values from a DatetimeIndex are pandas Timestamp objectrs\n",
    "stamp = ts.index[0]"
   ]
  },
  {
   "cell_type": "code",
   "execution_count": 51,
   "id": "7bdd2673-933b-4f7c-8fe8-aa0bf5a90701",
   "metadata": {},
   "outputs": [
    {
     "data": {
      "text/plain": [
       "Timestamp('2011-01-02 00:00:00')"
      ]
     },
     "execution_count": 51,
     "metadata": {},
     "output_type": "execute_result"
    }
   ],
   "source": [
    "stamp #a pandas Timestamp object is like a datetime object, but more versatile. E.g. millisecond info is available. "
   ]
  },
  {
   "cell_type": "code",
   "execution_count": 52,
   "id": "0199a845-19b2-4732-9c35-42323a95c9f3",
   "metadata": {},
   "outputs": [],
   "source": [
    "#DatetimeIndex series\n",
    "stamp = ts.index[2]"
   ]
  },
  {
   "cell_type": "code",
   "execution_count": 53,
   "id": "f5d2aa47-ce98-4db9-842a-1951bc24e02d",
   "metadata": {},
   "outputs": [
    {
     "data": {
      "text/plain": [
       "1.0725507251310016"
      ]
     },
     "execution_count": 53,
     "metadata": {},
     "output_type": "execute_result"
    }
   ],
   "source": [
    "ts[stamp]"
   ]
  },
  {
   "cell_type": "code",
   "execution_count": 54,
   "id": "da425b50-c3b8-4bc0-a1eb-82200c62d2d5",
   "metadata": {},
   "outputs": [
    {
     "data": {
      "text/plain": [
       "-2.788988866039932"
      ]
     },
     "execution_count": 54,
     "metadata": {},
     "output_type": "execute_result"
    }
   ],
   "source": [
    "#Strings interpretable as dates also work as a convenience\n",
    "ts['2011-01-10']"
   ]
  },
  {
   "cell_type": "code",
   "execution_count": 55,
   "id": "22aa2503-3b59-4473-9631-5dcd96218dc8",
   "metadata": {},
   "outputs": [],
   "source": [
    "#same as ts[stamp]\n",
    "assert ts['2011-01-07'] == ts[stamp]"
   ]
  },
  {
   "cell_type": "code",
   "execution_count": 56,
   "id": "a6926078-98ba-47ba-9fe4-fa4ec6655646",
   "metadata": {},
   "outputs": [],
   "source": [
    "#longer time series: select a year or a year and month\n",
    "#first generate the series\n",
    "longer_ts = pd.Series(np.random.standard_normal(1000),\n",
    "                     index=pd.date_range('2000-01-01', periods=1000))"
   ]
  },
  {
   "cell_type": "code",
   "execution_count": 57,
   "id": "1dbd75d0-d81a-49e3-a2dd-d9e0709e62f0",
   "metadata": {},
   "outputs": [
    {
     "data": {
      "text/plain": [
       "2000-01-01    0.521977\n",
       "2000-01-02    0.356766\n",
       "2000-01-03   -0.787138\n",
       "2000-01-04    0.273477\n",
       "2000-01-05    1.351379\n",
       "                ...   \n",
       "2002-09-22    0.916299\n",
       "2002-09-23    0.957860\n",
       "2002-09-24   -0.042178\n",
       "2002-09-25   -1.599945\n",
       "2002-09-26    0.570812\n",
       "Freq: D, Length: 1000, dtype: float64"
      ]
     },
     "execution_count": 57,
     "metadata": {},
     "output_type": "execute_result"
    }
   ],
   "source": [
    "longer_ts"
   ]
  },
  {
   "cell_type": "code",
   "execution_count": 58,
   "id": "f7c6bc53-71ba-467d-b5db-cf25ab3256e9",
   "metadata": {},
   "outputs": [
    {
     "data": {
      "text/plain": [
       "2001-01-01    0.491762\n",
       "2001-01-02   -1.156457\n",
       "2001-01-03    0.138799\n",
       "2001-01-04   -0.353310\n",
       "2001-01-05    0.478871\n",
       "                ...   \n",
       "2001-12-27   -0.467886\n",
       "2001-12-28    1.000816\n",
       "2001-12-29    0.913860\n",
       "2001-12-30   -0.947838\n",
       "2001-12-31   -0.158258\n",
       "Freq: D, Length: 365, dtype: float64"
      ]
     },
     "execution_count": 58,
     "metadata": {},
     "output_type": "execute_result"
    }
   ],
   "source": [
    "#select by year\n",
    "longer_ts['2001'] #interpreted as a year, selects the time period"
   ]
  },
  {
   "cell_type": "code",
   "execution_count": 59,
   "id": "627ceef8-7783-4ea1-a987-c553d17fe926",
   "metadata": {},
   "outputs": [
    {
     "data": {
      "text/plain": [
       "2001-05-01   -0.565919\n",
       "2001-05-02   -0.094890\n",
       "2001-05-03    0.603729\n",
       "2001-05-04    0.531105\n",
       "2001-05-05   -2.073718\n",
       "2001-05-06   -0.685631\n",
       "2001-05-07   -0.693674\n",
       "2001-05-08    0.554191\n",
       "2001-05-09    0.218555\n",
       "2001-05-10   -0.263421\n",
       "2001-05-11   -1.059580\n",
       "2001-05-12    1.698836\n",
       "2001-05-13    0.032632\n",
       "2001-05-14   -1.256713\n",
       "2001-05-15    1.030093\n",
       "2001-05-16   -0.243579\n",
       "2001-05-17   -0.859071\n",
       "2001-05-18   -0.324651\n",
       "2001-05-19   -0.967558\n",
       "2001-05-20   -0.561235\n",
       "2001-05-21    0.722029\n",
       "2001-05-22    1.189985\n",
       "2001-05-23    1.598239\n",
       "2001-05-24   -2.125227\n",
       "2001-05-25    1.423694\n",
       "2001-05-26   -1.251136\n",
       "2001-05-27   -0.228613\n",
       "2001-05-28   -0.619297\n",
       "2001-05-29    0.294658\n",
       "2001-05-30    0.086090\n",
       "2001-05-31   -0.024972\n",
       "Freq: D, dtype: float64"
      ]
     },
     "execution_count": 59,
     "metadata": {},
     "output_type": "execute_result"
    }
   ],
   "source": [
    "#specify the month e.g. May 2001 is '2001-05'\n",
    "longer_ts['2001-05']"
   ]
  },
  {
   "cell_type": "code",
   "execution_count": 60,
   "id": "90a587bc-7a33-4f1e-8e2b-81d8e6ff1bf2",
   "metadata": {},
   "outputs": [
    {
     "data": {
      "text/plain": [
       "2011-01-07    1.072551\n",
       "2011-01-08   -0.788211\n",
       "2011-01-10   -2.788989\n",
       "2011-01-12    1.177342\n",
       "dtype: float64"
      ]
     },
     "execution_count": 60,
     "metadata": {},
     "output_type": "execute_result"
    }
   ],
   "source": [
    "#slicing with a datetime\n",
    "ts[datetime(2011, 1, 7):] #includes the starting value"
   ]
  },
  {
   "cell_type": "code",
   "execution_count": 61,
   "id": "05a10b45-227a-4285-ba6d-5a588c743ba2",
   "metadata": {},
   "outputs": [
    {
     "data": {
      "text/plain": [
       "2011-01-07    1.072551\n",
       "2011-01-08   -0.788211\n",
       "2011-01-10   -2.788989\n",
       "2011-01-12    1.177342\n",
       "dtype: float64"
      ]
     },
     "execution_count": 61,
     "metadata": {},
     "output_type": "execute_result"
    }
   ],
   "source": [
    "ts.iloc[-4:] #.iloc also works"
   ]
  },
  {
   "cell_type": "code",
   "execution_count": 62,
   "id": "c858272f-619d-4c91-96cf-1d9376eee90d",
   "metadata": {},
   "outputs": [
    {
     "data": {
      "text/plain": [
       "2011-01-07    1.072551\n",
       "2011-01-08   -0.788211\n",
       "2011-01-10   -2.788989\n",
       "2011-01-12    1.177342\n",
       "dtype: float64"
      ]
     },
     "execution_count": 62,
     "metadata": {},
     "output_type": "execute_result"
    }
   ],
   "source": [
    "#datetime indexing\n",
    "ts[datetime(2011, 1, 7):]"
   ]
  },
  {
   "cell_type": "code",
   "execution_count": 63,
   "id": "9c781054-a679-4c27-b842-1d857c1d975e",
   "metadata": {},
   "outputs": [
    {
     "data": {
      "text/plain": [
       "2011-01-07    1.072551\n",
       "2011-01-08   -0.788211\n",
       "2011-01-10   -2.788989\n",
       "dtype: float64"
      ]
     },
     "execution_count": 63,
     "metadata": {},
     "output_type": "execute_result"
    }
   ],
   "source": [
    "ts[datetime(2011, 1, 7): datetime(2011, 1, 10)]"
   ]
  },
  {
   "cell_type": "code",
   "execution_count": 64,
   "id": "01e9940f-b1a3-46dd-901c-a939c54967c4",
   "metadata": {},
   "outputs": [
    {
     "data": {
      "text/plain": [
       "2011-01-02   -1.423885\n",
       "2011-01-05   -1.436482\n",
       "2011-01-07    1.072551\n",
       "2011-01-08   -0.788211\n",
       "2011-01-10   -2.788989\n",
       "2011-01-12    1.177342\n",
       "dtype: float64"
      ]
     },
     "execution_count": 64,
     "metadata": {},
     "output_type": "execute_result"
    }
   ],
   "source": [
    "#timestamps do not need to be in the series for a range inquiry\n",
    "ts"
   ]
  },
  {
   "cell_type": "code",
   "execution_count": 65,
   "id": "c755e181-79c2-4f9d-9a97-423b6e6050b3",
   "metadata": {},
   "outputs": [
    {
     "data": {
      "text/plain": [
       "2011-01-07    1.072551\n",
       "2011-01-08   -0.788211\n",
       "2011-01-10   -2.788989\n",
       "dtype: float64"
      ]
     },
     "execution_count": 65,
     "metadata": {},
     "output_type": "execute_result"
    }
   ],
   "source": [
    "ts['2011-01-06': '2011-01-11']"
   ]
  },
  {
   "cell_type": "code",
   "execution_count": 66,
   "id": "4466a8b6-1f39-411e-b102-d27837589d73",
   "metadata": {},
   "outputs": [
    {
     "data": {
      "text/plain": [
       "2011-01-02   -1.423885\n",
       "2011-01-05   -1.436482\n",
       "2011-01-07    1.072551\n",
       "2011-01-08   -0.788211\n",
       "dtype: float64"
      ]
     },
     "execution_count": 66,
     "metadata": {},
     "output_type": "execute_result"
    }
   ],
   "source": [
    "#modifications affect the source time series\n",
    "#truncate: slices a series between two dates.\n",
    "ts.truncate(after='2011-01-09')"
   ]
  },
  {
   "cell_type": "code",
   "execution_count": 67,
   "id": "25be42dc-ee9f-4407-9332-70c960e80afa",
   "metadata": {},
   "outputs": [],
   "source": [
    "#this also works for DataFrames as well, with the rows as an index\n",
    "dates = pd.date_range('2000-01-01', periods=100, freq = 'W-WED')"
   ]
  },
  {
   "cell_type": "code",
   "execution_count": 72,
   "id": "7099bfaf-3d99-4b10-aa89-9142a240a3eb",
   "metadata": {},
   "outputs": [
    {
     "data": {
      "text/plain": [
       "DatetimeIndex(['2000-01-05', '2000-01-12', '2000-01-19', '2000-01-26',\n",
       "               '2000-02-02', '2000-02-09', '2000-02-16', '2000-02-23',\n",
       "               '2000-03-01', '2000-03-08'],\n",
       "              dtype='datetime64[ns]', freq='W-WED')"
      ]
     },
     "execution_count": 72,
     "metadata": {},
     "output_type": "execute_result"
    }
   ],
   "source": [
    "dates[:10]"
   ]
  },
  {
   "cell_type": "code",
   "execution_count": 73,
   "id": "dc32a41a-f7f3-4d79-a228-e7f0f2e8ee26",
   "metadata": {},
   "outputs": [],
   "source": [
    "long_df = pd.DataFrame(np.random.standard_normal((100, 4)),\n",
    "                      index=dates,\n",
    "                      columns=['Colorado', 'Texas', 'New York', 'Ohio'])"
   ]
  },
  {
   "cell_type": "code",
   "execution_count": 74,
   "id": "dbf31414-ca07-4823-9c28-968d440076f5",
   "metadata": {},
   "outputs": [
    {
     "data": {
      "text/html": [
       "<div>\n",
       "<style scoped>\n",
       "    .dataframe tbody tr th:only-of-type {\n",
       "        vertical-align: middle;\n",
       "    }\n",
       "\n",
       "    .dataframe tbody tr th {\n",
       "        vertical-align: top;\n",
       "    }\n",
       "\n",
       "    .dataframe thead th {\n",
       "        text-align: right;\n",
       "    }\n",
       "</style>\n",
       "<table border=\"1\" class=\"dataframe\">\n",
       "  <thead>\n",
       "    <tr style=\"text-align: right;\">\n",
       "      <th></th>\n",
       "      <th>Colorado</th>\n",
       "      <th>Texas</th>\n",
       "      <th>New York</th>\n",
       "      <th>Ohio</th>\n",
       "    </tr>\n",
       "  </thead>\n",
       "  <tbody>\n",
       "    <tr>\n",
       "      <th>2001-05-02</th>\n",
       "      <td>-0.353734</td>\n",
       "      <td>0.508307</td>\n",
       "      <td>0.249659</td>\n",
       "      <td>0.478800</td>\n",
       "    </tr>\n",
       "    <tr>\n",
       "      <th>2001-05-09</th>\n",
       "      <td>0.742420</td>\n",
       "      <td>-0.145169</td>\n",
       "      <td>-0.203868</td>\n",
       "      <td>-0.723393</td>\n",
       "    </tr>\n",
       "    <tr>\n",
       "      <th>2001-05-16</th>\n",
       "      <td>-0.077537</td>\n",
       "      <td>1.185467</td>\n",
       "      <td>0.649684</td>\n",
       "      <td>-0.871802</td>\n",
       "    </tr>\n",
       "    <tr>\n",
       "      <th>2001-05-23</th>\n",
       "      <td>-0.303364</td>\n",
       "      <td>0.325083</td>\n",
       "      <td>1.700797</td>\n",
       "      <td>-0.064543</td>\n",
       "    </tr>\n",
       "    <tr>\n",
       "      <th>2001-05-30</th>\n",
       "      <td>0.790097</td>\n",
       "      <td>-0.992603</td>\n",
       "      <td>0.320694</td>\n",
       "      <td>0.685371</td>\n",
       "    </tr>\n",
       "  </tbody>\n",
       "</table>\n",
       "</div>"
      ],
      "text/plain": [
       "            Colorado     Texas  New York      Ohio\n",
       "2001-05-02 -0.353734  0.508307  0.249659  0.478800\n",
       "2001-05-09  0.742420 -0.145169 -0.203868 -0.723393\n",
       "2001-05-16 -0.077537  1.185467  0.649684 -0.871802\n",
       "2001-05-23 -0.303364  0.325083  1.700797 -0.064543\n",
       "2001-05-30  0.790097 -0.992603  0.320694  0.685371"
      ]
     },
     "execution_count": 74,
     "metadata": {},
     "output_type": "execute_result"
    }
   ],
   "source": [
    "long_df.loc['2001-05']"
   ]
  },
  {
   "cell_type": "code",
   "execution_count": 75,
   "id": "baf66321-ae53-4de5-8b5f-a600f3304755",
   "metadata": {},
   "outputs": [],
   "source": [
    "#time series duplicate indices\n",
    "#Example: multiple observations are on a particular timeframe.\n",
    "dates = pd.DatetimeIndex(['2000-01-01', '2000-01-02', '2000-01-02',\n",
    "                         '2001-01-02', '2000-01-03'])"
   ]
  },
  {
   "cell_type": "code",
   "execution_count": 76,
   "id": "5750a309-dd65-4cb0-8342-29935ea7a657",
   "metadata": {},
   "outputs": [
    {
     "data": {
      "text/plain": [
       "DatetimeIndex(['2000-01-01', '2000-01-02', '2000-01-02', '2001-01-02',\n",
       "               '2000-01-03'],\n",
       "              dtype='datetime64[ns]', freq=None)"
      ]
     },
     "execution_count": 76,
     "metadata": {},
     "output_type": "execute_result"
    }
   ],
   "source": [
    "dates"
   ]
  },
  {
   "cell_type": "code",
   "execution_count": 77,
   "id": "b848bbe4-81d5-4e3c-9d1e-301cfe1d6124",
   "metadata": {},
   "outputs": [],
   "source": [
    "dup_ts = pd.Series(np.arange(5), index=dates)"
   ]
  },
  {
   "cell_type": "code",
   "execution_count": 78,
   "id": "31494118-a039-463b-8e11-6e2aeb4df494",
   "metadata": {},
   "outputs": [
    {
     "data": {
      "text/plain": [
       "2000-01-01    0\n",
       "2000-01-02    1\n",
       "2000-01-02    2\n",
       "2001-01-02    3\n",
       "2000-01-03    4\n",
       "dtype: int64"
      ]
     },
     "execution_count": 78,
     "metadata": {},
     "output_type": "execute_result"
    }
   ],
   "source": [
    "dup_ts"
   ]
  },
  {
   "cell_type": "code",
   "execution_count": null,
   "id": "504dc979-fa0d-4695-bf49-d60d7d944947",
   "metadata": {},
   "outputs": [],
   "source": []
  }
 ],
 "metadata": {
  "kernelspec": {
   "display_name": "Python 3 (ipykernel)",
   "language": "python",
   "name": "python3"
  },
  "language_info": {
   "codemirror_mode": {
    "name": "ipython",
    "version": 3
   },
   "file_extension": ".py",
   "mimetype": "text/x-python",
   "name": "python",
   "nbconvert_exporter": "python",
   "pygments_lexer": "ipython3",
   "version": "3.10.8"
  }
 },
 "nbformat": 4,
 "nbformat_minor": 5
}
