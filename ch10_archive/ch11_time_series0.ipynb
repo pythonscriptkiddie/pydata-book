{
 "cells": [
  {
   "cell_type": "code",
   "execution_count": 1,
   "id": "0c6502bb-56b5-499e-9753-045f3f245172",
   "metadata": {},
   "outputs": [],
   "source": [
    "from typing import List, Union\n",
    "from datetime import datetime, timedelta\n",
    "import numpy as np\n",
    "import pandas as pd"
   ]
  },
  {
   "cell_type": "code",
   "execution_count": 2,
   "id": "0df05b0b-9708-4553-9ba6-829a271e6759",
   "metadata": {},
   "outputs": [],
   "source": [
    "#datetime, time, and calendar modules have resources for time series data\n",
    "now = datetime.now()"
   ]
  },
  {
   "cell_type": "code",
   "execution_count": 3,
   "id": "2fee459e-2c7d-48af-a85f-27953e871898",
   "metadata": {},
   "outputs": [
    {
     "data": {
      "text/plain": [
       "datetime.datetime(2023, 1, 23, 10, 56, 4, 221062)"
      ]
     },
     "execution_count": 3,
     "metadata": {},
     "output_type": "execute_result"
    }
   ],
   "source": [
    "now"
   ]
  },
  {
   "cell_type": "code",
   "execution_count": 4,
   "id": "9ce8c281-7705-4d10-8031-ad53cf3ba504",
   "metadata": {},
   "outputs": [
    {
     "data": {
      "text/plain": [
       "(2023, 1, 23)"
      ]
     },
     "execution_count": 4,
     "metadata": {},
     "output_type": "execute_result"
    }
   ],
   "source": [
    "now.year, now.month, now.day"
   ]
  },
  {
   "cell_type": "code",
   "execution_count": 5,
   "id": "75575ba0-2303-48fc-b111-4ed5831451a3",
   "metadata": {},
   "outputs": [],
   "source": [
    "#datetime stores date and time at the microsecond range\n",
    "#timedelta represents the difference between two time objects\n",
    "delta = datetime(2011, 1, 7) - datetime(2008, 6, 24, 8, 15)"
   ]
  },
  {
   "cell_type": "code",
   "execution_count": 6,
   "id": "ef9bb172-64b3-4b2d-8e01-4b1351b5f461",
   "metadata": {},
   "outputs": [
    {
     "data": {
      "text/plain": [
       "datetime.timedelta(days=926, seconds=56700)"
      ]
     },
     "execution_count": 6,
     "metadata": {},
     "output_type": "execute_result"
    }
   ],
   "source": [
    "delta"
   ]
  },
  {
   "cell_type": "code",
   "execution_count": 7,
   "id": "8f77382e-126a-4890-832e-abf3592554d3",
   "metadata": {},
   "outputs": [
    {
     "data": {
      "text/plain": [
       "926"
      ]
     },
     "execution_count": 7,
     "metadata": {},
     "output_type": "execute_result"
    }
   ],
   "source": [
    "delta.days"
   ]
  },
  {
   "cell_type": "code",
   "execution_count": 8,
   "id": "7afd6e8c-7165-41f2-98b8-562e2301dce8",
   "metadata": {},
   "outputs": [
    {
     "data": {
      "text/plain": [
       "56700"
      ]
     },
     "execution_count": 8,
     "metadata": {},
     "output_type": "execute_result"
    }
   ],
   "source": [
    "delta.seconds"
   ]
  },
  {
   "cell_type": "code",
   "execution_count": 9,
   "id": "df1508b3-d00e-404b-ba52-2070c92342ce",
   "metadata": {},
   "outputs": [],
   "source": [
    "#Adding and subtracting timedelta objects\n",
    "start = datetime(2011, 1, 7)"
   ]
  },
  {
   "cell_type": "code",
   "execution_count": 10,
   "id": "f2349b74-28d8-4510-bdba-6820d0899acd",
   "metadata": {},
   "outputs": [
    {
     "data": {
      "text/plain": [
       "datetime.datetime(2011, 1, 19, 0, 0)"
      ]
     },
     "execution_count": 10,
     "metadata": {},
     "output_type": "execute_result"
    }
   ],
   "source": [
    "start + timedelta(12)"
   ]
  },
  {
   "cell_type": "code",
   "execution_count": 11,
   "id": "a40e039c-6cb7-4f30-beb7-436c67707a71",
   "metadata": {},
   "outputs": [
    {
     "data": {
      "text/plain": [
       "datetime.datetime(2010, 12, 14, 0, 0)"
      ]
     },
     "execution_count": 11,
     "metadata": {},
     "output_type": "execute_result"
    }
   ],
   "source": [
    "start - 2 * timedelta(12)"
   ]
  },
  {
   "cell_type": "code",
   "execution_count": 12,
   "id": "440110d6-36f7-4c7f-abbc-1b03abe08a7f",
   "metadata": {},
   "outputs": [
    {
     "data": {
      "text/plain": [
       "datetime.datetime(2011, 1, 19, 0, 0, 13)"
      ]
     },
     "execution_count": 12,
     "metadata": {},
     "output_type": "execute_result"
    }
   ],
   "source": [
    "#start of practice\n",
    "start + timedelta(12, 13)"
   ]
  },
  {
   "cell_type": "code",
   "execution_count": 13,
   "id": "96aae39c-7c51-4699-adca-6c12dd946314",
   "metadata": {},
   "outputs": [
    {
     "data": {
      "text/plain": [
       "datetime.datetime(2011, 1, 19, 0, 0, 13, 14)"
      ]
     },
     "execution_count": 13,
     "metadata": {},
     "output_type": "execute_result"
    }
   ],
   "source": [
    "start + timedelta(12, 13, 14) #adding a third number"
   ]
  },
  {
   "cell_type": "code",
   "execution_count": 14,
   "id": "407101d8-47d2-4fc9-b89e-9b389507feb2",
   "metadata": {},
   "outputs": [
    {
     "data": {
      "text/plain": [
       "datetime.datetime(2011, 1, 19, 0, 0, 13, 15014)"
      ]
     },
     "execution_count": 14,
     "metadata": {},
     "output_type": "execute_result"
    }
   ],
   "source": [
    "start + timedelta(12, 13, 14, 15) #adding a fourth number"
   ]
  },
  {
   "cell_type": "code",
   "execution_count": 15,
   "id": "ceeacf59-5136-43af-bef1-12fa42f14660",
   "metadata": {},
   "outputs": [
    {
     "data": {
      "text/plain": [
       "datetime.datetime(2011, 1, 19, 0, 0, 13, 15014)"
      ]
     },
     "execution_count": 15,
     "metadata": {},
     "output_type": "execute_result"
    }
   ],
   "source": [
    "start + timedelta(12, 13, 15014) #same as above"
   ]
  },
  {
   "cell_type": "code",
   "execution_count": 16,
   "id": "5858ba67-3566-4801-90b2-78d655264726",
   "metadata": {},
   "outputs": [
    {
     "data": {
      "text/plain": [
       "datetime.timedelta(days=12, seconds=13, microseconds=15014)"
      ]
     },
     "execution_count": 16,
     "metadata": {},
     "output_type": "execute_result"
    }
   ],
   "source": [
    "timedelta(12, 13, 14, 15)"
   ]
  },
  {
   "cell_type": "code",
   "execution_count": 17,
   "id": "451df247-5448-4584-af8b-4d5734fdf6e6",
   "metadata": {},
   "outputs": [
    {
     "data": {
      "text/plain": [
       "15014"
      ]
     },
     "execution_count": 17,
     "metadata": {},
     "output_type": "execute_result"
    }
   ],
   "source": [
    "timedelta(12, 13, 14, 15).microseconds"
   ]
  },
  {
   "cell_type": "code",
   "execution_count": 18,
   "id": "b8dc5c7b-ce21-497b-9ce7-5957e9c1ba3c",
   "metadata": {},
   "outputs": [],
   "source": [
    "def zero_between(x, y):\n",
    "    '''Random code that '''\n",
    "    return timedelta(12, 13, x, y).microseconds"
   ]
  },
  {
   "cell_type": "code",
   "execution_count": 19,
   "id": "588f682e-224a-4e3a-a9ee-0ed9352b0e61",
   "metadata": {},
   "outputs": [
    {
     "data": {
      "text/plain": [
       "15014"
      ]
     },
     "execution_count": 19,
     "metadata": {},
     "output_type": "execute_result"
    }
   ],
   "source": [
    "zero_between(14, 15)"
   ]
  },
  {
   "cell_type": "code",
   "execution_count": 20,
   "id": "eec6ed52-0b4c-4a65-aaa0-8cba1ccaa7dc",
   "metadata": {},
   "outputs": [],
   "source": [
    "#Converting between str and datetime objects\n",
    "stamp = datetime(2011, 1, 3)"
   ]
  },
  {
   "cell_type": "code",
   "execution_count": 21,
   "id": "b121054a-d733-49af-a4e8-d9593f893cca",
   "metadata": {},
   "outputs": [
    {
     "data": {
      "text/plain": [
       "'2011-01-03 00:00:00'"
      ]
     },
     "execution_count": 21,
     "metadata": {},
     "output_type": "execute_result"
    }
   ],
   "source": [
    "str(stamp)"
   ]
  },
  {
   "cell_type": "code",
   "execution_count": 22,
   "id": "8fc21f17-546e-4879-a6c1-a2b9ec1b4bb8",
   "metadata": {},
   "outputs": [
    {
     "data": {
      "text/plain": [
       "'2011-01-03'"
      ]
     },
     "execution_count": 22,
     "metadata": {},
     "output_type": "execute_result"
    }
   ],
   "source": [
    "stamp.strftime('%Y-%m-%d')"
   ]
  },
  {
   "cell_type": "code",
   "execution_count": 23,
   "id": "8bceea0d-23f0-40ba-b443-05f39019150b",
   "metadata": {},
   "outputs": [
    {
     "data": {
      "text/plain": [
       "'2011-01'"
      ]
     },
     "execution_count": 23,
     "metadata": {},
     "output_type": "execute_result"
    }
   ],
   "source": [
    "stamp.strftime('%Y-%m')"
   ]
  },
  {
   "cell_type": "code",
   "execution_count": 24,
   "id": "bc298e60-fa51-4be0-9018-8e33f9685c52",
   "metadata": {},
   "outputs": [
    {
     "data": {
      "text/plain": [
       "'003'"
      ]
     },
     "execution_count": 24,
     "metadata": {},
     "output_type": "execute_result"
    }
   ],
   "source": [
    "stamp.strftime('%j')"
   ]
  },
  {
   "cell_type": "code",
   "execution_count": 25,
   "id": "e3651a9c-981c-4465-84ac-7443f619289c",
   "metadata": {},
   "outputs": [],
   "source": [
    "stamp2 = datetime(2023, 1, 1)"
   ]
  },
  {
   "cell_type": "code",
   "execution_count": 26,
   "id": "f2ac2239-1013-4386-b738-4b1679aeaf75",
   "metadata": {},
   "outputs": [
    {
     "data": {
      "text/plain": [
       "'001'"
      ]
     },
     "execution_count": 26,
     "metadata": {},
     "output_type": "execute_result"
    }
   ],
   "source": [
    "stamp2.strftime('%j')"
   ]
  },
  {
   "cell_type": "code",
   "execution_count": 27,
   "id": "453a6438-9d57-4143-8335-d41ad355a999",
   "metadata": {},
   "outputs": [],
   "source": [
    "stamp3 = datetime(2022, 12, 31)"
   ]
  },
  {
   "cell_type": "code",
   "execution_count": 28,
   "id": "99a0d011-c004-4ce4-ba2b-91ba872c9d78",
   "metadata": {},
   "outputs": [
    {
     "data": {
      "text/plain": [
       "'365'"
      ]
     },
     "execution_count": 28,
     "metadata": {},
     "output_type": "execute_result"
    }
   ],
   "source": [
    "stamp3.strftime('%j')"
   ]
  },
  {
   "cell_type": "code",
   "execution_count": 29,
   "id": "8644d565-d85a-40e9-a0a1-7ca2f1c35e3d",
   "metadata": {},
   "outputs": [],
   "source": [
    "#time.strptime converts a string to a time\n",
    "value = '2011-01-03'"
   ]
  },
  {
   "cell_type": "code",
   "execution_count": 30,
   "id": "d3126962-1814-4430-99f0-1a3597503d0f",
   "metadata": {},
   "outputs": [
    {
     "data": {
      "text/plain": [
       "datetime.datetime(2011, 1, 3, 0, 0)"
      ]
     },
     "execution_count": 30,
     "metadata": {},
     "output_type": "execute_result"
    }
   ],
   "source": [
    "datetime.strptime(value, \"%Y-%m-%d\")"
   ]
  },
  {
   "cell_type": "code",
   "execution_count": 31,
   "id": "8186fbdc-9d7b-46b5-974b-238c9cdcd172",
   "metadata": {},
   "outputs": [],
   "source": [
    "datestrs = ['7/7/2011', '8/6/2011']"
   ]
  },
  {
   "cell_type": "code",
   "execution_count": 32,
   "id": "16311fc7-70c7-400f-abbb-3dc17d7f132d",
   "metadata": {},
   "outputs": [
    {
     "data": {
      "text/plain": [
       "[datetime.datetime(2011, 7, 7, 0, 0), datetime.datetime(2011, 8, 6, 0, 0)]"
      ]
     },
     "execution_count": 32,
     "metadata": {},
     "output_type": "execute_result"
    }
   ],
   "source": [
    "[datetime.strptime(x, '%m/%d/%Y') for x in datestrs]"
   ]
  },
  {
   "cell_type": "code",
   "execution_count": 33,
   "id": "d301b38d-2537-444b-b003-4eb1bc42df0e",
   "metadata": {},
   "outputs": [],
   "source": [
    "#pandas is suited to working with strings of dates\n",
    "datestrs : List[Union[str, datetime]] = ['2011-07-06 12:00:00', '2011-08-06 00:00:00']"
   ]
  },
  {
   "cell_type": "code",
   "execution_count": 34,
   "id": "196b445e-85d8-47fb-a600-59de82b9b5c8",
   "metadata": {},
   "outputs": [
    {
     "data": {
      "text/plain": [
       "DatetimeIndex(['2011-07-06 12:00:00', '2011-08-06 00:00:00'], dtype='datetime64[ns]', freq=None)"
      ]
     },
     "execution_count": 34,
     "metadata": {},
     "output_type": "execute_result"
    }
   ],
   "source": [
    "pd.to_datetime(datestrs)"
   ]
  },
  {
   "cell_type": "code",
   "execution_count": 35,
   "id": "78bd2edc-42b5-4c9b-86ea-588de695ba6f",
   "metadata": {},
   "outputs": [],
   "source": [
    "#Pandas also handles values that could be considered missing\n",
    "idx = pd.to_datetime(datestrs + [None])"
   ]
  },
  {
   "cell_type": "code",
   "execution_count": 36,
   "id": "54cea1d5-20fa-487d-b01b-4c5ba3a0295d",
   "metadata": {},
   "outputs": [
    {
     "data": {
      "text/plain": [
       "DatetimeIndex(['2011-07-06 12:00:00', '2011-08-06 00:00:00', 'NaT'], dtype='datetime64[ns]', freq=None)"
      ]
     },
     "execution_count": 36,
     "metadata": {},
     "output_type": "execute_result"
    }
   ],
   "source": [
    "idx"
   ]
  },
  {
   "cell_type": "code",
   "execution_count": 37,
   "id": "bc92e621-791d-4db2-bec0-672c09eeceb0",
   "metadata": {},
   "outputs": [
    {
     "data": {
      "text/plain": [
       "NaT"
      ]
     },
     "execution_count": 37,
     "metadata": {},
     "output_type": "execute_result"
    }
   ],
   "source": [
    "idx[2]"
   ]
  },
  {
   "cell_type": "code",
   "execution_count": 38,
   "id": "673e5ff1-e695-4272-9c24-47064ad7452d",
   "metadata": {},
   "outputs": [
    {
     "name": "stdout",
     "output_type": "stream",
     "text": [
      "'F' is a bad directive in format '%F'\n"
     ]
    }
   ],
   "source": [
    "#some codes do not work\n",
    "#for example %F\n",
    "try:\n",
    "    datetime.strptime(value, '%F')\n",
    "except ValueError as e:\n",
    "    print(e)"
   ]
  },
  {
   "cell_type": "code",
   "execution_count": 39,
   "id": "13fc630c-2729-4850-926c-630f81a7641f",
   "metadata": {},
   "outputs": [
    {
     "data": {
      "text/plain": [
       "array([False, False,  True])"
      ]
     },
     "execution_count": 39,
     "metadata": {},
     "output_type": "execute_result"
    }
   ],
   "source": [
    "pd.isna(idx)"
   ]
  },
  {
   "cell_type": "code",
   "execution_count": 40,
   "id": "4931cbf6-20ca-4789-afdd-4ebff48bb67b",
   "metadata": {},
   "outputs": [
    {
     "name": "stdout",
     "output_type": "stream",
     "text": [
      "'D' is a bad directive in format '%D'\n"
     ]
    }
   ],
   "source": [
    "#another example is %D, which does not work in strptime\n",
    "try:\n",
    "    datetime.strptime(value, '%D')\n",
    "except ValueError as e:\n",
    "    print(e)"
   ]
  },
  {
   "cell_type": "code",
   "execution_count": 41,
   "id": "d1092cc5-b205-432a-8687-a1007f43abf8",
   "metadata": {},
   "outputs": [
    {
     "data": {
      "text/plain": [
       "'Monday'"
      ]
     },
     "execution_count": 41,
     "metadata": {},
     "output_type": "execute_result"
    }
   ],
   "source": [
    "#datetime locale info\n",
    "datetime.strftime(now, '%A')"
   ]
  },
  {
   "cell_type": "code",
   "execution_count": 42,
   "id": "28591170-191e-46f9-b1bd-df67e68f9cfd",
   "metadata": {},
   "outputs": [
    {
     "data": {
      "text/plain": [
       "'01/23/23'"
      ]
     },
     "execution_count": 42,
     "metadata": {},
     "output_type": "execute_result"
    }
   ],
   "source": [
    "#local date formatting\n",
    "datetime.strftime(now, '%x')"
   ]
  },
  {
   "cell_type": "code",
   "execution_count": 43,
   "id": "955883ec-658f-4eda-bb64-188608a224c1",
   "metadata": {},
   "outputs": [
    {
     "data": {
      "text/plain": [
       "'10:56:04'"
      ]
     },
     "execution_count": 43,
     "metadata": {},
     "output_type": "execute_result"
    }
   ],
   "source": [
    "datetime.strftime(now, '%X')"
   ]
  },
  {
   "cell_type": "code",
   "execution_count": 44,
   "id": "cc71896d-9367-44d6-b76a-f0ad803c050f",
   "metadata": {},
   "outputs": [],
   "source": [
    "#Time series basics: Series of timestamps forms a timestamp index. Create one from a list of dates.\n",
    "dates = [datetime(2011, 1, 2), datetime(2011, 1, 5),\n",
    "        datetime(2011, 1, 7), datetime(2011, 1, 8),\n",
    "        datetime(2011, 1, 10), datetime(2011, 1, 12)]"
   ]
  },
  {
   "cell_type": "code",
   "execution_count": 45,
   "id": "a105493a-17d0-4f92-922b-bf25035f7594",
   "metadata": {},
   "outputs": [],
   "source": [
    "#convert to pandas series\n",
    "ts = pd.Series(np.random.standard_normal(6), index=dates)"
   ]
  },
  {
   "cell_type": "code",
   "execution_count": 46,
   "id": "2f5e0f1e-2e71-4940-9bcc-316258b53b06",
   "metadata": {},
   "outputs": [
    {
     "data": {
      "text/plain": [
       "2011-01-02   -0.870587\n",
       "2011-01-05   -1.185729\n",
       "2011-01-07   -0.574983\n",
       "2011-01-08   -0.345509\n",
       "2011-01-10    0.356218\n",
       "2011-01-12    0.931970\n",
       "dtype: float64"
      ]
     },
     "execution_count": 46,
     "metadata": {},
     "output_type": "execute_result"
    }
   ],
   "source": [
    "ts"
   ]
  },
  {
   "cell_type": "code",
   "execution_count": 47,
   "id": "b0681034-daee-4b1b-8732-6a59e95b7f45",
   "metadata": {},
   "outputs": [
    {
     "data": {
      "text/plain": [
       "DatetimeIndex(['2011-01-02', '2011-01-05', '2011-01-07', '2011-01-08',\n",
       "               '2011-01-10', '2011-01-12'],\n",
       "              dtype='datetime64[ns]', freq=None)"
      ]
     },
     "execution_count": 47,
     "metadata": {},
     "output_type": "execute_result"
    }
   ],
   "source": [
    "#under the hood, this is a DatetimeIndex\n",
    "ts.index"
   ]
  },
  {
   "cell_type": "code",
   "execution_count": 48,
   "id": "cc6fd046-c5e4-4665-9ce8-111dde1b0273",
   "metadata": {},
   "outputs": [
    {
     "data": {
      "text/plain": [
       "2011-01-02   -1.741175\n",
       "2011-01-05         NaN\n",
       "2011-01-07   -1.149967\n",
       "2011-01-08         NaN\n",
       "2011-01-10    0.712436\n",
       "2011-01-12         NaN\n",
       "dtype: float64"
      ]
     },
     "execution_count": 48,
     "metadata": {},
     "output_type": "execute_result"
    }
   ],
   "source": [
    "#like any other series, we can perform operations on a DatetimeIndex\n",
    "ts + ts[::2] #note the values not present are empty"
   ]
  },
  {
   "cell_type": "code",
   "execution_count": 49,
   "id": "4789c61a-da3b-4432-8af4-398705bca309",
   "metadata": {},
   "outputs": [
    {
     "data": {
      "text/plain": [
       "dtype('<M8[ns]')"
      ]
     },
     "execution_count": 49,
     "metadata": {},
     "output_type": "execute_result"
    }
   ],
   "source": [
    "#pandas stores timestamps using numpy datetime64 dtype\n",
    "ts.index.dtype"
   ]
  },
  {
   "cell_type": "code",
   "execution_count": 50,
   "id": "d42c7a4b-4967-4371-ba57-b2bd86dfc9ec",
   "metadata": {},
   "outputs": [],
   "source": [
    "#scalar values from a DatetimeIndex are pandas Timestamp objectrs\n",
    "stamp = ts.index[0]"
   ]
  },
  {
   "cell_type": "code",
   "execution_count": 51,
   "id": "7bdd2673-933b-4f7c-8fe8-aa0bf5a90701",
   "metadata": {},
   "outputs": [
    {
     "data": {
      "text/plain": [
       "Timestamp('2011-01-02 00:00:00')"
      ]
     },
     "execution_count": 51,
     "metadata": {},
     "output_type": "execute_result"
    }
   ],
   "source": [
    "stamp #a pandas Timestamp object is like a datetime object, but more versatile. E.g. millisecond info is available. "
   ]
  },
  {
   "cell_type": "code",
   "execution_count": 52,
   "id": "0199a845-19b2-4732-9c35-42323a95c9f3",
   "metadata": {},
   "outputs": [],
   "source": [
    "#DatetimeIndex series\n",
    "stamp = ts.index[2]"
   ]
  },
  {
   "cell_type": "code",
   "execution_count": 53,
   "id": "f5d2aa47-ce98-4db9-842a-1951bc24e02d",
   "metadata": {},
   "outputs": [
    {
     "data": {
      "text/plain": [
       "-0.5749834497015188"
      ]
     },
     "execution_count": 53,
     "metadata": {},
     "output_type": "execute_result"
    }
   ],
   "source": [
    "ts[stamp]"
   ]
  },
  {
   "cell_type": "code",
   "execution_count": 54,
   "id": "da425b50-c3b8-4bc0-a1eb-82200c62d2d5",
   "metadata": {},
   "outputs": [
    {
     "data": {
      "text/plain": [
       "0.3562180129296428"
      ]
     },
     "execution_count": 54,
     "metadata": {},
     "output_type": "execute_result"
    }
   ],
   "source": [
    "#Strings interpretable as dates also work as a convenience\n",
    "ts['2011-01-10']"
   ]
  },
  {
   "cell_type": "code",
   "execution_count": 55,
   "id": "22aa2503-3b59-4473-9631-5dcd96218dc8",
   "metadata": {},
   "outputs": [],
   "source": [
    "#same as ts[stamp]\n",
    "assert ts['2011-01-07'] == ts[stamp]"
   ]
  },
  {
   "cell_type": "code",
   "execution_count": 56,
   "id": "a6926078-98ba-47ba-9fe4-fa4ec6655646",
   "metadata": {},
   "outputs": [],
   "source": [
    "#longer time series: select a year or a year and month\n",
    "#first generate the series\n",
    "longer_ts = pd.Series(np.random.standard_normal(1000),\n",
    "                     index=pd.date_range('2000-01-01', periods=1000))"
   ]
  },
  {
   "cell_type": "code",
   "execution_count": 57,
   "id": "1dbd75d0-d81a-49e3-a2dd-d9e0709e62f0",
   "metadata": {},
   "outputs": [
    {
     "data": {
      "text/plain": [
       "2000-01-01    0.556012\n",
       "2000-01-02    0.308354\n",
       "2000-01-03    2.738801\n",
       "2000-01-04   -0.568752\n",
       "2000-01-05    0.852513\n",
       "                ...   \n",
       "2002-09-22    0.469287\n",
       "2002-09-23   -0.146019\n",
       "2002-09-24   -1.488439\n",
       "2002-09-25   -1.338486\n",
       "2002-09-26    1.173157\n",
       "Freq: D, Length: 1000, dtype: float64"
      ]
     },
     "execution_count": 57,
     "metadata": {},
     "output_type": "execute_result"
    }
   ],
   "source": [
    "longer_ts"
   ]
  },
  {
   "cell_type": "code",
   "execution_count": 58,
   "id": "f7c6bc53-71ba-467d-b5db-cf25ab3256e9",
   "metadata": {},
   "outputs": [
    {
     "data": {
      "text/plain": [
       "2001-01-01   -0.305196\n",
       "2001-01-02   -0.138812\n",
       "2001-01-03    0.903397\n",
       "2001-01-04   -1.297963\n",
       "2001-01-05    0.614863\n",
       "                ...   \n",
       "2001-12-27    1.110466\n",
       "2001-12-28   -0.967089\n",
       "2001-12-29    0.788948\n",
       "2001-12-30    1.452397\n",
       "2001-12-31    2.056679\n",
       "Freq: D, Length: 365, dtype: float64"
      ]
     },
     "execution_count": 58,
     "metadata": {},
     "output_type": "execute_result"
    }
   ],
   "source": [
    "#select by year\n",
    "longer_ts['2001'] #interpreted as a year, selects the time period"
   ]
  },
  {
   "cell_type": "code",
   "execution_count": 59,
   "id": "627ceef8-7783-4ea1-a987-c553d17fe926",
   "metadata": {},
   "outputs": [
    {
     "data": {
      "text/plain": [
       "2001-05-01    1.237828\n",
       "2001-05-02    0.003622\n",
       "2001-05-03    1.116773\n",
       "2001-05-04   -1.330666\n",
       "2001-05-05   -1.663019\n",
       "2001-05-06   -0.867483\n",
       "2001-05-07   -2.244312\n",
       "2001-05-08    1.257345\n",
       "2001-05-09    0.329085\n",
       "2001-05-10    0.119496\n",
       "2001-05-11    0.785396\n",
       "2001-05-12   -1.183162\n",
       "2001-05-13    0.333825\n",
       "2001-05-14   -0.237456\n",
       "2001-05-15    0.028148\n",
       "2001-05-16    0.749690\n",
       "2001-05-17    0.720174\n",
       "2001-05-18    1.182521\n",
       "2001-05-19    0.893263\n",
       "2001-05-20   -0.934405\n",
       "2001-05-21    0.293950\n",
       "2001-05-22   -0.103267\n",
       "2001-05-23    0.051300\n",
       "2001-05-24   -1.248440\n",
       "2001-05-25   -1.424091\n",
       "2001-05-26   -2.030204\n",
       "2001-05-27    1.289736\n",
       "2001-05-28   -1.563650\n",
       "2001-05-29   -0.645101\n",
       "2001-05-30    1.389628\n",
       "2001-05-31    0.811685\n",
       "Freq: D, dtype: float64"
      ]
     },
     "execution_count": 59,
     "metadata": {},
     "output_type": "execute_result"
    }
   ],
   "source": [
    "#specify the month e.g. May 2001 is '2001-05'\n",
    "longer_ts['2001-05']"
   ]
  },
  {
   "cell_type": "code",
   "execution_count": 60,
   "id": "90a587bc-7a33-4f1e-8e2b-81d8e6ff1bf2",
   "metadata": {},
   "outputs": [
    {
     "data": {
      "text/plain": [
       "2011-01-07   -0.574983\n",
       "2011-01-08   -0.345509\n",
       "2011-01-10    0.356218\n",
       "2011-01-12    0.931970\n",
       "dtype: float64"
      ]
     },
     "execution_count": 60,
     "metadata": {},
     "output_type": "execute_result"
    }
   ],
   "source": [
    "#slicing with a datetime\n",
    "ts[datetime(2011, 1, 7):] #includes the starting value"
   ]
  },
  {
   "cell_type": "code",
   "execution_count": 61,
   "id": "05a10b45-227a-4285-ba6d-5a588c743ba2",
   "metadata": {},
   "outputs": [
    {
     "data": {
      "text/plain": [
       "2011-01-07   -0.574983\n",
       "2011-01-08   -0.345509\n",
       "2011-01-10    0.356218\n",
       "2011-01-12    0.931970\n",
       "dtype: float64"
      ]
     },
     "execution_count": 61,
     "metadata": {},
     "output_type": "execute_result"
    }
   ],
   "source": [
    "ts.iloc[-4:] #.iloc also works"
   ]
  },
  {
   "cell_type": "code",
   "execution_count": 62,
   "id": "c858272f-619d-4c91-96cf-1d9376eee90d",
   "metadata": {},
   "outputs": [
    {
     "data": {
      "text/plain": [
       "2011-01-07   -0.574983\n",
       "2011-01-08   -0.345509\n",
       "2011-01-10    0.356218\n",
       "2011-01-12    0.931970\n",
       "dtype: float64"
      ]
     },
     "execution_count": 62,
     "metadata": {},
     "output_type": "execute_result"
    }
   ],
   "source": [
    "#datetime indexing\n",
    "ts[datetime(2011, 1, 7):]"
   ]
  },
  {
   "cell_type": "code",
   "execution_count": 63,
   "id": "9c781054-a679-4c27-b842-1d857c1d975e",
   "metadata": {},
   "outputs": [
    {
     "data": {
      "text/plain": [
       "2011-01-07   -0.574983\n",
       "2011-01-08   -0.345509\n",
       "2011-01-10    0.356218\n",
       "dtype: float64"
      ]
     },
     "execution_count": 63,
     "metadata": {},
     "output_type": "execute_result"
    }
   ],
   "source": [
    "ts[datetime(2011, 1, 7): datetime(2011, 1, 10)]"
   ]
  },
  {
   "cell_type": "code",
   "execution_count": 64,
   "id": "01e9940f-b1a3-46dd-901c-a939c54967c4",
   "metadata": {},
   "outputs": [
    {
     "data": {
      "text/plain": [
       "2011-01-02   -0.870587\n",
       "2011-01-05   -1.185729\n",
       "2011-01-07   -0.574983\n",
       "2011-01-08   -0.345509\n",
       "2011-01-10    0.356218\n",
       "2011-01-12    0.931970\n",
       "dtype: float64"
      ]
     },
     "execution_count": 64,
     "metadata": {},
     "output_type": "execute_result"
    }
   ],
   "source": [
    "#timestamps do not need to be in the series for a range inquiry\n",
    "ts"
   ]
  },
  {
   "cell_type": "code",
   "execution_count": 65,
   "id": "c755e181-79c2-4f9d-9a97-423b6e6050b3",
   "metadata": {},
   "outputs": [
    {
     "data": {
      "text/plain": [
       "2011-01-07   -0.574983\n",
       "2011-01-08   -0.345509\n",
       "2011-01-10    0.356218\n",
       "dtype: float64"
      ]
     },
     "execution_count": 65,
     "metadata": {},
     "output_type": "execute_result"
    }
   ],
   "source": [
    "ts['2011-01-06': '2011-01-11']"
   ]
  },
  {
   "cell_type": "code",
   "execution_count": 66,
   "id": "4466a8b6-1f39-411e-b102-d27837589d73",
   "metadata": {},
   "outputs": [
    {
     "data": {
      "text/plain": [
       "2011-01-02   -0.870587\n",
       "2011-01-05   -1.185729\n",
       "2011-01-07   -0.574983\n",
       "2011-01-08   -0.345509\n",
       "dtype: float64"
      ]
     },
     "execution_count": 66,
     "metadata": {},
     "output_type": "execute_result"
    }
   ],
   "source": [
    "#modifications affect the source time series\n",
    "#truncate: slices a series between two dates.\n",
    "ts.truncate(after='2011-01-09')"
   ]
  },
  {
   "cell_type": "code",
   "execution_count": 67,
   "id": "25be42dc-ee9f-4407-9332-70c960e80afa",
   "metadata": {},
   "outputs": [],
   "source": [
    "#this also works for DataFrames as well, with the rows as an index\n",
    "dates = pd.date_range('2000-01-01', periods=100, freq = 'W-WED')"
   ]
  },
  {
   "cell_type": "code",
   "execution_count": 68,
   "id": "7099bfaf-3d99-4b10-aa89-9142a240a3eb",
   "metadata": {},
   "outputs": [
    {
     "data": {
      "text/plain": [
       "DatetimeIndex(['2000-01-05', '2000-01-12', '2000-01-19', '2000-01-26',\n",
       "               '2000-02-02', '2000-02-09', '2000-02-16', '2000-02-23',\n",
       "               '2000-03-01', '2000-03-08'],\n",
       "              dtype='datetime64[ns]', freq='W-WED')"
      ]
     },
     "execution_count": 68,
     "metadata": {},
     "output_type": "execute_result"
    }
   ],
   "source": [
    "dates[:10]"
   ]
  },
  {
   "cell_type": "code",
   "execution_count": 69,
   "id": "dc32a41a-f7f3-4d79-a228-e7f0f2e8ee26",
   "metadata": {},
   "outputs": [],
   "source": [
    "long_df = pd.DataFrame(np.random.standard_normal((100, 4)),\n",
    "                      index=dates,\n",
    "                      columns=['Colorado', 'Texas', 'New York', 'Ohio'])"
   ]
  },
  {
   "cell_type": "code",
   "execution_count": 70,
   "id": "dbf31414-ca07-4823-9c28-968d440076f5",
   "metadata": {},
   "outputs": [
    {
     "data": {
      "text/html": [
       "<div>\n",
       "<style scoped>\n",
       "    .dataframe tbody tr th:only-of-type {\n",
       "        vertical-align: middle;\n",
       "    }\n",
       "\n",
       "    .dataframe tbody tr th {\n",
       "        vertical-align: top;\n",
       "    }\n",
       "\n",
       "    .dataframe thead th {\n",
       "        text-align: right;\n",
       "    }\n",
       "</style>\n",
       "<table border=\"1\" class=\"dataframe\">\n",
       "  <thead>\n",
       "    <tr style=\"text-align: right;\">\n",
       "      <th></th>\n",
       "      <th>Colorado</th>\n",
       "      <th>Texas</th>\n",
       "      <th>New York</th>\n",
       "      <th>Ohio</th>\n",
       "    </tr>\n",
       "  </thead>\n",
       "  <tbody>\n",
       "    <tr>\n",
       "      <th>2001-05-02</th>\n",
       "      <td>-0.792399</td>\n",
       "      <td>-0.509812</td>\n",
       "      <td>0.041632</td>\n",
       "      <td>-0.643342</td>\n",
       "    </tr>\n",
       "    <tr>\n",
       "      <th>2001-05-09</th>\n",
       "      <td>0.299364</td>\n",
       "      <td>1.545871</td>\n",
       "      <td>0.486863</td>\n",
       "      <td>-0.374723</td>\n",
       "    </tr>\n",
       "    <tr>\n",
       "      <th>2001-05-16</th>\n",
       "      <td>-0.340324</td>\n",
       "      <td>-0.545136</td>\n",
       "      <td>-2.683771</td>\n",
       "      <td>1.582533</td>\n",
       "    </tr>\n",
       "    <tr>\n",
       "      <th>2001-05-23</th>\n",
       "      <td>-0.492746</td>\n",
       "      <td>0.539917</td>\n",
       "      <td>0.746566</td>\n",
       "      <td>-0.108253</td>\n",
       "    </tr>\n",
       "    <tr>\n",
       "      <th>2001-05-30</th>\n",
       "      <td>1.132892</td>\n",
       "      <td>0.915624</td>\n",
       "      <td>0.417241</td>\n",
       "      <td>0.655029</td>\n",
       "    </tr>\n",
       "  </tbody>\n",
       "</table>\n",
       "</div>"
      ],
      "text/plain": [
       "            Colorado     Texas  New York      Ohio\n",
       "2001-05-02 -0.792399 -0.509812  0.041632 -0.643342\n",
       "2001-05-09  0.299364  1.545871  0.486863 -0.374723\n",
       "2001-05-16 -0.340324 -0.545136 -2.683771  1.582533\n",
       "2001-05-23 -0.492746  0.539917  0.746566 -0.108253\n",
       "2001-05-30  1.132892  0.915624  0.417241  0.655029"
      ]
     },
     "execution_count": 70,
     "metadata": {},
     "output_type": "execute_result"
    }
   ],
   "source": [
    "long_df.loc['2001-05']"
   ]
  },
  {
   "cell_type": "code",
   "execution_count": 71,
   "id": "baf66321-ae53-4de5-8b5f-a600f3304755",
   "metadata": {},
   "outputs": [],
   "source": [
    "#time series duplicate indices\n",
    "#Example: multiple observations are on a particular timeframe.\n",
    "dates = pd.DatetimeIndex(['2000-01-01', '2000-01-02', '2000-01-02',\n",
    "                         '2000-01-02', '2000-01-03'])"
   ]
  },
  {
   "cell_type": "code",
   "execution_count": 72,
   "id": "5750a309-dd65-4cb0-8342-29935ea7a657",
   "metadata": {},
   "outputs": [
    {
     "data": {
      "text/plain": [
       "DatetimeIndex(['2000-01-01', '2000-01-02', '2000-01-02', '2000-01-02',\n",
       "               '2000-01-03'],\n",
       "              dtype='datetime64[ns]', freq=None)"
      ]
     },
     "execution_count": 72,
     "metadata": {},
     "output_type": "execute_result"
    }
   ],
   "source": [
    "dates"
   ]
  },
  {
   "cell_type": "code",
   "execution_count": 73,
   "id": "b848bbe4-81d5-4e3c-9d1e-301cfe1d6124",
   "metadata": {},
   "outputs": [],
   "source": [
    "dup_ts = pd.Series(np.arange(5), index=dates)"
   ]
  },
  {
   "cell_type": "code",
   "execution_count": 74,
   "id": "31494118-a039-463b-8e11-6e2aeb4df494",
   "metadata": {},
   "outputs": [
    {
     "data": {
      "text/plain": [
       "2000-01-01    0\n",
       "2000-01-02    1\n",
       "2000-01-02    2\n",
       "2000-01-02    3\n",
       "2000-01-03    4\n",
       "dtype: int64"
      ]
     },
     "execution_count": 74,
     "metadata": {},
     "output_type": "execute_result"
    }
   ],
   "source": [
    "dup_ts"
   ]
  },
  {
   "cell_type": "code",
   "execution_count": 75,
   "id": "504dc979-fa0d-4695-bf49-d60d7d944947",
   "metadata": {},
   "outputs": [
    {
     "data": {
      "text/plain": [
       "False"
      ]
     },
     "execution_count": 75,
     "metadata": {},
     "output_type": "execute_result"
    }
   ],
   "source": [
    "#How do we know that the series has duplicates in it?\n",
    "#Check the ts.index.is_unique property\n",
    "dup_ts.index.is_unique"
   ]
  },
  {
   "cell_type": "code",
   "execution_count": 78,
   "id": "f9b716fe-8e6d-439d-ac10-f5add4a37864",
   "metadata": {},
   "outputs": [
    {
     "data": {
      "text/plain": [
       "4"
      ]
     },
     "execution_count": 78,
     "metadata": {},
     "output_type": "execute_result"
    }
   ],
   "source": [
    "#If we query an index value, one of two things will happen. If there is only one result,\n",
    "#then it will return a scalar. If there are two or more than it will return a pd.Series object.\n",
    "dup_ts['2000-01-03'] #not duplicated"
   ]
  },
  {
   "cell_type": "code",
   "execution_count": 79,
   "id": "f69d1d16-e518-4ccc-a3c0-3097ab51216c",
   "metadata": {},
   "outputs": [
    {
     "data": {
      "text/plain": [
       "2000-01-02    1\n",
       "2000-01-02    2\n",
       "2000-01-02    3\n",
       "dtype: int64"
      ]
     },
     "execution_count": 79,
     "metadata": {},
     "output_type": "execute_result"
    }
   ],
   "source": [
    "dup_ts['2000-01-02'] #duplicated"
   ]
  },
  {
   "cell_type": "code",
   "execution_count": 80,
   "id": "00c83f6b-1f63-469d-9c46-8c4e9f23df77",
   "metadata": {},
   "outputs": [],
   "source": [
    "#what if we wanted to aggregate the data with non-unique timestamps. The way to do this is to\n",
    "#use groupby and pass level=0 (the one and only level)\n",
    "grouped = dup_ts.groupby(level=0)"
   ]
  },
  {
   "cell_type": "code",
   "execution_count": 81,
   "id": "1169ba63-cf2b-480f-afb7-4e1591dae516",
   "metadata": {},
   "outputs": [
    {
     "data": {
      "text/plain": [
       "<pandas.core.groupby.generic.SeriesGroupBy object at 0x7f7f8057b5b0>"
      ]
     },
     "execution_count": 81,
     "metadata": {},
     "output_type": "execute_result"
    }
   ],
   "source": [
    "grouped"
   ]
  },
  {
   "cell_type": "code",
   "execution_count": 82,
   "id": "12948c23-017b-43b9-92fc-2a5722834474",
   "metadata": {},
   "outputs": [
    {
     "data": {
      "text/plain": [
       "2000-01-01    0.0\n",
       "2000-01-02    2.0\n",
       "2000-01-03    4.0\n",
       "dtype: float64"
      ]
     },
     "execution_count": 82,
     "metadata": {},
     "output_type": "execute_result"
    }
   ],
   "source": [
    "grouped.mean()"
   ]
  },
  {
   "cell_type": "code",
   "execution_count": 83,
   "id": "2e6ae648-97a4-4057-a88d-6c908dca49eb",
   "metadata": {},
   "outputs": [
    {
     "data": {
      "text/plain": [
       "2000-01-01    1\n",
       "2000-01-02    3\n",
       "2000-01-03    1\n",
       "dtype: int64"
      ]
     },
     "execution_count": 83,
     "metadata": {},
     "output_type": "execute_result"
    }
   ],
   "source": [
    "grouped.count()"
   ]
  },
  {
   "cell_type": "code",
   "execution_count": 84,
   "id": "d18a0d79-2182-470a-a127-5fff69630983",
   "metadata": {},
   "outputs": [
    {
     "data": {
      "text/plain": [
       "2011-01-02   -0.870587\n",
       "2011-01-05   -1.185729\n",
       "2011-01-07   -0.574983\n",
       "2011-01-08   -0.345509\n",
       "2011-01-10    0.356218\n",
       "2011-01-12    0.931970\n",
       "dtype: float64"
      ]
     },
     "execution_count": 84,
     "metadata": {},
     "output_type": "execute_result"
    }
   ],
   "source": [
    "#Date ranges, frequencies, and shifting.\n",
    "#Most time series in pandas are irregular, without a fixed frequency. Sometimes we want one that has a fixed frequency\n",
    "#even if we sometimes get periods that are empty.\n",
    "ts"
   ]
  },
  {
   "cell_type": "code",
   "execution_count": 86,
   "id": "d1a29be2-d8a4-4aa6-b5c0-6c85325ca40a",
   "metadata": {},
   "outputs": [],
   "source": [
    "#convert sample series to fixed daily frequency by calling sample\n",
    "resampler = ts.resample('D') #'D' means daily frequency in this context."
   ]
  },
  {
   "cell_type": "code",
   "execution_count": 87,
   "id": "97617971-2433-4941-aa5f-0373f821d71b",
   "metadata": {},
   "outputs": [
    {
     "data": {
      "text/plain": [
       "<pandas.core.resample.DatetimeIndexResampler object at 0x7f7f807e72e0>"
      ]
     },
     "execution_count": 87,
     "metadata": {},
     "output_type": "execute_result"
    }
   ],
   "source": [
    "resampler"
   ]
  },
  {
   "cell_type": "code",
   "execution_count": 88,
   "id": "9e320b67-0c94-4607-8c8d-e485d2df1a46",
   "metadata": {},
   "outputs": [],
   "source": [
    "#pd.date_range generates a DatetimeIndex with an indicated length.\n",
    "index = pd.date_range('2012-04-01', '2012-06-01')"
   ]
  },
  {
   "cell_type": "code",
   "execution_count": 89,
   "id": "cc9d3ecf-125a-4681-b736-3b8d7a4ec1da",
   "metadata": {},
   "outputs": [
    {
     "data": {
      "text/plain": [
       "DatetimeIndex(['2012-04-01', '2012-04-02', '2012-04-03', '2012-04-04',\n",
       "               '2012-04-05', '2012-04-06', '2012-04-07', '2012-04-08',\n",
       "               '2012-04-09', '2012-04-10', '2012-04-11', '2012-04-12',\n",
       "               '2012-04-13', '2012-04-14', '2012-04-15', '2012-04-16',\n",
       "               '2012-04-17', '2012-04-18', '2012-04-19', '2012-04-20',\n",
       "               '2012-04-21', '2012-04-22', '2012-04-23', '2012-04-24',\n",
       "               '2012-04-25', '2012-04-26', '2012-04-27', '2012-04-28',\n",
       "               '2012-04-29', '2012-04-30', '2012-05-01', '2012-05-02',\n",
       "               '2012-05-03', '2012-05-04', '2012-05-05', '2012-05-06',\n",
       "               '2012-05-07', '2012-05-08', '2012-05-09', '2012-05-10',\n",
       "               '2012-05-11', '2012-05-12', '2012-05-13', '2012-05-14',\n",
       "               '2012-05-15', '2012-05-16', '2012-05-17', '2012-05-18',\n",
       "               '2012-05-19', '2012-05-20', '2012-05-21', '2012-05-22',\n",
       "               '2012-05-23', '2012-05-24', '2012-05-25', '2012-05-26',\n",
       "               '2012-05-27', '2012-05-28', '2012-05-29', '2012-05-30',\n",
       "               '2012-05-31', '2012-06-01'],\n",
       "              dtype='datetime64[ns]', freq='D')"
      ]
     },
     "execution_count": 89,
     "metadata": {},
     "output_type": "execute_result"
    }
   ],
   "source": [
    "index"
   ]
  },
  {
   "cell_type": "code",
   "execution_count": 90,
   "id": "242a63c9-e17f-4759-9fb5-a02f76e26892",
   "metadata": {},
   "outputs": [
    {
     "data": {
      "text/plain": [
       "DatetimeIndex(['2012-04-01', '2012-04-02', '2012-04-03', '2012-04-04',\n",
       "               '2012-04-05', '2012-04-06', '2012-04-07', '2012-04-08',\n",
       "               '2012-04-09', '2012-04-10', '2012-04-11', '2012-04-12',\n",
       "               '2012-04-13', '2012-04-14', '2012-04-15', '2012-04-16',\n",
       "               '2012-04-17', '2012-04-18', '2012-04-19', '2012-04-20'],\n",
       "              dtype='datetime64[ns]', freq='D')"
      ]
     },
     "execution_count": 90,
     "metadata": {},
     "output_type": "execute_result"
    }
   ],
   "source": [
    "#by default, we create daily timestamps with pd.date_range, but if we pass only a start or end date, then\n",
    "#we must indicate a number of periods to generate\n",
    "pd.date_range(start='2012-04-01', periods=20)"
   ]
  },
  {
   "cell_type": "code",
   "execution_count": 91,
   "id": "02ab9f13-62bf-43a0-a145-4a47f68cf159",
   "metadata": {},
   "outputs": [
    {
     "data": {
      "text/plain": [
       "DatetimeIndex(['2012-05-13', '2012-05-14', '2012-05-15', '2012-05-16',\n",
       "               '2012-05-17', '2012-05-18', '2012-05-19', '2012-05-20',\n",
       "               '2012-05-21', '2012-05-22', '2012-05-23', '2012-05-24',\n",
       "               '2012-05-25', '2012-05-26', '2012-05-27', '2012-05-28',\n",
       "               '2012-05-29', '2012-05-30', '2012-05-31', '2012-06-01'],\n",
       "              dtype='datetime64[ns]', freq='D')"
      ]
     },
     "execution_count": 91,
     "metadata": {},
     "output_type": "execute_result"
    }
   ],
   "source": [
    "pd.date_range(end='2012-06-01', periods=20)"
   ]
  },
  {
   "cell_type": "code",
   "execution_count": 92,
   "id": "d8a13a6a-6faa-447e-b137-cefecdfeb21a",
   "metadata": {},
   "outputs": [
    {
     "data": {
      "text/plain": [
       "DatetimeIndex(['2000-01-31', '2000-02-29', '2000-03-31', '2000-04-28',\n",
       "               '2000-05-31', '2000-06-30', '2000-07-31', '2000-08-31',\n",
       "               '2000-09-29', '2000-10-31', '2000-11-30'],\n",
       "              dtype='datetime64[ns]', freq='BM')"
      ]
     },
     "execution_count": 92,
     "metadata": {},
     "output_type": "execute_result"
    }
   ],
   "source": [
    "#start and end dates define strict boundaries for a date index\n",
    "#e.g. if we want to see the last business day of each month, then only dates falling inside the interval will be included\n",
    "pd.date_range('2000-01-01', '2000-12-01', freq='BM')"
   ]
  },
  {
   "cell_type": "code",
   "execution_count": 94,
   "id": "47ed0a5a-7d48-488a-ad41-e7337166b96d",
   "metadata": {},
   "outputs": [
    {
     "data": {
      "text/plain": [
       "DatetimeIndex(['2023-01-01 00:00:00', '2023-01-01 01:00:00',\n",
       "               '2023-01-01 02:00:00', '2023-01-01 03:00:00',\n",
       "               '2023-01-01 04:00:00', '2023-01-01 05:00:00',\n",
       "               '2023-01-01 06:00:00', '2023-01-01 07:00:00',\n",
       "               '2023-01-01 08:00:00', '2023-01-01 09:00:00',\n",
       "               '2023-01-01 10:00:00', '2023-01-01 11:00:00',\n",
       "               '2023-01-01 12:00:00', '2023-01-01 13:00:00',\n",
       "               '2023-01-01 14:00:00', '2023-01-01 15:00:00',\n",
       "               '2023-01-01 16:00:00', '2023-01-01 17:00:00',\n",
       "               '2023-01-01 18:00:00', '2023-01-01 19:00:00',\n",
       "               '2023-01-01 20:00:00', '2023-01-01 21:00:00',\n",
       "               '2023-01-01 22:00:00', '2023-01-01 23:00:00'],\n",
       "              dtype='datetime64[ns]', freq='H')"
      ]
     },
     "execution_count": 94,
     "metadata": {},
     "output_type": "execute_result"
    }
   ],
   "source": [
    "pd.date_range('2023-01-01', periods=24, freq='H') #generate any "
   ]
  },
  {
   "cell_type": "code",
   "execution_count": 95,
   "id": "8bc58d4a-5243-4331-b355-1e4244045f8d",
   "metadata": {},
   "outputs": [
    {
     "data": {
      "text/plain": [
       "DatetimeIndex(['2021-01-29', '2021-04-30', '2021-07-30', '2021-10-29',\n",
       "               '2022-01-31', '2022-04-29', '2022-07-29', '2022-10-31'],\n",
       "              dtype='datetime64[ns]', freq='BQ-JAN')"
      ]
     },
     "execution_count": 95,
     "metadata": {},
     "output_type": "execute_result"
    }
   ],
   "source": [
    "#quarter ending from 2021 to 2022\n",
    "pd.date_range('2021-01-01','2022-12-31', freq='BQ-JAN')"
   ]
  },
  {
   "cell_type": "code",
   "execution_count": 96,
   "id": "6d250e86-a62a-49d2-bac7-f3c8f2e47c01",
   "metadata": {},
   "outputs": [
    {
     "data": {
      "text/plain": [
       "DatetimeIndex(['2012-05-02 12:56:31', '2012-05-03 12:56:31',\n",
       "               '2012-05-04 12:56:31', '2012-05-05 12:56:31',\n",
       "               '2012-05-06 12:56:31'],\n",
       "              dtype='datetime64[ns]', freq='D')"
      ]
     },
     "execution_count": 96,
     "metadata": {},
     "output_type": "execute_result"
    }
   ],
   "source": [
    "#pd.date_range by default preserves the time of the start or end of the timestamp\n",
    "pd.date_range('2012-05-02 12:56:31', periods=5)"
   ]
  },
  {
   "cell_type": "code",
   "execution_count": 97,
   "id": "28f980dd-35cf-44fc-87e1-70b0897a253e",
   "metadata": {},
   "outputs": [
    {
     "data": {
      "text/plain": [
       "DatetimeIndex(['2012-05-02', '2012-05-03', '2012-05-04', '2012-05-05',\n",
       "               '2012-05-06'],\n",
       "              dtype='datetime64[ns]', freq='D')"
      ]
     },
     "execution_count": 97,
     "metadata": {},
     "output_type": "execute_result"
    }
   ],
   "source": [
    "#sometimes we want to create start and end dates with time information, but want to normalize it to midnight as a comparison.\n",
    "#to do this we have the normalize=True argument\n",
    "pd.date_range('2012-05-02 12:56:31', periods=5, normalize=True)"
   ]
  },
  {
   "cell_type": "code",
   "execution_count": null,
   "id": "70a69997-9dbb-4b57-9c5d-5bbe4bd79c7c",
   "metadata": {},
   "outputs": [],
   "source": []
  }
 ],
 "metadata": {
  "kernelspec": {
   "display_name": "Python 3 (ipykernel)",
   "language": "python",
   "name": "python3"
  },
  "language_info": {
   "codemirror_mode": {
    "name": "ipython",
    "version": 3
   },
   "file_extension": ".py",
   "mimetype": "text/x-python",
   "name": "python",
   "nbconvert_exporter": "python",
   "pygments_lexer": "ipython3",
   "version": "3.10.8"
  }
 },
 "nbformat": 4,
 "nbformat_minor": 5
}
